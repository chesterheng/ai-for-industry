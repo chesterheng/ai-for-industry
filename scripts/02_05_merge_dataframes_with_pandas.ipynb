{
  "nbformat": 4,
  "nbformat_minor": 0,
  "metadata": {
    "colab": {
      "name": "02-05-merge-dataframes-with-pandas.ipynb",
      "provenance": [],
      "collapsed_sections": []
    },
    "kernelspec": {
      "name": "python3",
      "display_name": "Python 3"
    }
  },
  "cells": [
    {
      "cell_type": "code",
      "metadata": {
        "id": "xQ1-bxVoiNhP"
      },
      "source": [
        "#Merging DataFrames with pandas\n",
        "## 1. Preparing data\n",
        "## 2. Concatenating data\n",
        "## 3. Merging data\n",
        "## 4. Case Study - Summer Olympics"
      ],
      "execution_count": null,
      "outputs": []
    },
    {
      "cell_type": "markdown",
      "metadata": {
        "id": "EEAW1jSeioUm"
      },
      "source": [
        "## 1. Preparing data"
      ]
    },
    {
      "cell_type": "code",
      "metadata": {
        "colab": {
          "base_uri": "https://localhost:8080/"
        },
        "id": "ObitMb6Mjmob",
        "outputId": "d1ceaffa-f56b-414f-a52a-599770faccc8"
      },
      "source": [
        "# Reading multiple data files\n",
        "\n",
        "bronze_file = 'https://raw.githubusercontent.com/chesterheng/ai-for-industry/main/datasets/Bronze.csv'\n",
        "silver_file = 'https://raw.githubusercontent.com/chesterheng/ai-for-industry/main/datasets/Silver.csv'\n",
        "gold_file = 'https://raw.githubusercontent.com/chesterheng/ai-for-industry/main/datasets/Gold.csv'\n",
        "\n",
        "# Import pandas\n",
        "import pandas as pd\n",
        "\n",
        "# Read 'Bronze.csv' into a DataFrame: bronze\n",
        "bronze = pd.read_csv(bronze_file)\n",
        "\n",
        "# Read 'Silver.csv' into a DataFrame: silver\n",
        "silver = pd.read_csv(silver_file)\n",
        "\n",
        "# Read 'Gold.csv' into a DataFrame: gold\n",
        "gold = pd.read_csv(gold_file)\n",
        "\n",
        "# Print the first five rows of gold\n",
        "print(gold.head())"
      ],
      "execution_count": null,
      "outputs": [
        {
          "output_type": "stream",
          "text": [
            "   NOC         Country   Total\n",
            "0  USA   United States  2088.0\n",
            "1  URS    Soviet Union   838.0\n",
            "2  GBR  United Kingdom   498.0\n",
            "3  FRA          France   378.0\n",
            "4  GER         Germany   407.0\n"
          ],
          "name": "stdout"
        }
      ]
    },
    {
      "cell_type": "code",
      "metadata": {
        "colab": {
          "base_uri": "https://localhost:8080/"
        },
        "id": "fKuYJWxNrg_Q",
        "outputId": "89870509-5a57-470e-bfdd-bd175fd17b79"
      },
      "source": [
        "# Reading DataFrames from multiple files in a loop\n",
        "\n",
        "bronze_file = 'https://raw.githubusercontent.com/chesterheng/ai-for-industry/main/datasets/Bronze.csv'\n",
        "silver_file = 'https://raw.githubusercontent.com/chesterheng/ai-for-industry/main/datasets/Silver.csv'\n",
        "gold_file = 'https://raw.githubusercontent.com/chesterheng/ai-for-industry/main/datasets/Gold.csv'\n",
        "\n",
        "# Import pandas\n",
        "import pandas as pd\n",
        "\n",
        "# Create the list of file names: filenames\n",
        "filenames = [gold_file, silver_file, bronze_file]\n",
        "\n",
        "# Create the list of three DataFrames: dataframes\n",
        "dataframes = []\n",
        "for filename in filenames:\n",
        "    dataframes.append(pd.read_csv(filename))\n",
        "\n",
        "# Print top 5 rows of 1st DataFrame in dataframes\n",
        "print(dataframes[0].head())"
      ],
      "execution_count": null,
      "outputs": [
        {
          "output_type": "stream",
          "text": [
            "   NOC         Country   Total\n",
            "0  USA   United States  2088.0\n",
            "1  URS    Soviet Union   838.0\n",
            "2  GBR  United Kingdom   498.0\n",
            "3  FRA          France   378.0\n",
            "4  GER         Germany   407.0\n"
          ],
          "name": "stdout"
        }
      ]
    },
    {
      "cell_type": "code",
      "metadata": {
        "colab": {
          "base_uri": "https://localhost:8080/"
        },
        "id": "ytiN9HaOrypx",
        "outputId": "4ece66da-c88a-4a33-bc32-17a4d31a3b01"
      },
      "source": [
        "# Combining DataFrames from multiple data files\n",
        "\n",
        "bronze_file = 'https://raw.githubusercontent.com/chesterheng/ai-for-industry/main/datasets/Bronze.csv'\n",
        "silver_file = 'https://raw.githubusercontent.com/chesterheng/ai-for-industry/main/datasets/Silver.csv'\n",
        "gold_file = 'https://raw.githubusercontent.com/chesterheng/ai-for-industry/main/datasets/Gold.csv'\n",
        "\n",
        "bronze = pd.read_csv(bronze_file)\n",
        "silver = pd.read_csv(silver_file)\n",
        "gold = pd.read_csv(gold_file)\n",
        "\n",
        "# Import pandas\n",
        "import pandas as pd\n",
        "\n",
        "# Make a copy of gold: medals\n",
        "medals = gold.copy()\n",
        "\n",
        "# Create list of new column labels: new_labels\n",
        "new_labels = ['NOC', 'Country', 'Gold']\n",
        "\n",
        "# Rename the columns of medals using new_labels\n",
        "medals.columns = new_labels\n",
        "\n",
        "# Add columns 'Silver' & 'Bronze' to medals\n",
        "medals['Silver'] = silver['Total']\n",
        "medals['Bronze'] = bronze['Total']\n",
        "\n",
        "# Print the head of medals\n",
        "print(medals.head())"
      ],
      "execution_count": null,
      "outputs": [
        {
          "output_type": "stream",
          "text": [
            "   NOC         Country    Gold  Silver  Bronze\n",
            "0  USA   United States  2088.0  1195.0  1052.0\n",
            "1  URS    Soviet Union   838.0   627.0   584.0\n",
            "2  GBR  United Kingdom   498.0   591.0   505.0\n",
            "3  FRA          France   378.0   461.0   475.0\n",
            "4  GER         Germany   407.0   350.0   454.0\n"
          ],
          "name": "stdout"
        }
      ]
    },
    {
      "cell_type": "code",
      "metadata": {
        "colab": {
          "base_uri": "https://localhost:8080/"
        },
        "id": "NVqSzxPPsxe1",
        "outputId": "46fb524c-f15d-4ce8-ac24-f99dfac5ddd7"
      },
      "source": [
        "# Reindexing DataFrames\n",
        "\n",
        "monthly_max_temp = {'Month': ['Jan', 'Feb', 'Mar', 'Apr', 'May', 'Jun', 'Jul', 'Aug', 'Sep', 'Oct', 'Nov', 'Dec'],\n",
        "                    'Max TemperatureF': [68, 60, 68, 84, 88, 89, 91, 86, 90, 84, 72, 68]}\n",
        "\n",
        "# Import pandas\n",
        "import pandas as pd\n",
        "\n",
        "# Read 'monthly_max_temp.csv' into a DataFrame: weather1\n",
        "# weather1 = pd.read_csv('monthly_max_temp.csv', index_col='Month')\n",
        "weather1 = pd.DataFrame.from_dict(monthly_max_temp)\n",
        "weather1.set_index('Month', inplace=True)\n",
        "\n",
        "# Print the head of weather1\n",
        "print(weather1.head())\n",
        "\n",
        "# Sort the index of weather1 in alphabetical order: weather2\n",
        "weather2 = weather1.sort_index()\n",
        "\n",
        "# Print the head of weather2\n",
        "print(weather2.head())\n",
        "\n",
        "# Sort the index of weather1 in reverse alphabetical order: weather3\n",
        "weather3 = weather1.sort_index(ascending=False)\n",
        "\n",
        "# Print the head of weather3\n",
        "print(weather3.head())\n",
        "\n",
        "# Sort weather1 numerically using the values of 'Max TemperatureF': weather4\n",
        "weather4 = weather1.sort_values(by='Max TemperatureF')\n",
        "\n",
        "# Print the head of weather4\n",
        "print(weather4.head())"
      ],
      "execution_count": null,
      "outputs": [
        {
          "output_type": "stream",
          "text": [
            "       Max TemperatureF\n",
            "Month                  \n",
            "Jan                  68\n",
            "Feb                  60\n",
            "Mar                  68\n",
            "Apr                  84\n",
            "May                  88\n",
            "       Max TemperatureF\n",
            "Month                  \n",
            "Apr                  84\n",
            "Aug                  86\n",
            "Dec                  68\n",
            "Feb                  60\n",
            "Jan                  68\n",
            "       Max TemperatureF\n",
            "Month                  \n",
            "Sep                  90\n",
            "Oct                  84\n",
            "Nov                  72\n",
            "May                  88\n",
            "Mar                  68\n",
            "       Max TemperatureF\n",
            "Month                  \n",
            "Feb                  60\n",
            "Jan                  68\n",
            "Mar                  68\n",
            "Dec                  68\n",
            "Nov                  72\n"
          ],
          "name": "stdout"
        }
      ]
    },
    {
      "cell_type": "code",
      "metadata": {
        "colab": {
          "base_uri": "https://localhost:8080/"
        },
        "id": "_guROcr1ue6Z",
        "outputId": "88fa34f1-d91c-4df3-a2c5-564237ca3fa7"
      },
      "source": [
        "# Reindexing DataFrame from a list\n",
        "\n",
        "# Import pandas\n",
        "import pandas as pd\n",
        "\n",
        "monthly_max_temp = {'Month': ['Jan', 'Apr', 'Jul', 'Oct'],\n",
        "                    'Max TemperatureF': [32.13333, 61.956044, 68.934783, 43.434783]}\n",
        "weather1 = pd.DataFrame.from_dict(monthly_max_temp)\n",
        "weather1.set_index('Month', inplace=True)\n",
        "\n",
        "# Reindex weather1 using the list year: weather2\n",
        "year = ['Jan', 'Feb', 'Mar', 'Apr', 'May', 'Jun', 'Jul', 'Aug', 'Sep', 'Oct', 'Nov', 'Dec']\n",
        "weather2 = weather1.reindex(year)\n",
        "\n",
        "# Print weather2\n",
        "print(weather2)\n",
        "\n",
        "# Reindex weather1 using the list year with forward-fill: weather3\n",
        "weather3 = weather1.reindex(year).ffill()\n",
        "\n",
        "# Print weather3\n",
        "print(weather3)"
      ],
      "execution_count": null,
      "outputs": [
        {
          "output_type": "stream",
          "text": [
            "       Max TemperatureF\n",
            "Month                  \n",
            "Jan           32.133330\n",
            "Feb                 NaN\n",
            "Mar                 NaN\n",
            "Apr           61.956044\n",
            "May                 NaN\n",
            "Jun                 NaN\n",
            "Jul           68.934783\n",
            "Aug                 NaN\n",
            "Sep                 NaN\n",
            "Oct           43.434783\n",
            "Nov                 NaN\n",
            "Dec                 NaN\n",
            "       Max TemperatureF\n",
            "Month                  \n",
            "Jan           32.133330\n",
            "Feb           32.133330\n",
            "Mar           32.133330\n",
            "Apr           61.956044\n",
            "May           61.956044\n",
            "Jun           61.956044\n",
            "Jul           68.934783\n",
            "Aug           68.934783\n",
            "Sep           68.934783\n",
            "Oct           43.434783\n",
            "Nov           43.434783\n",
            "Dec           43.434783\n"
          ],
          "name": "stdout"
        }
      ]
    },
    {
      "cell_type": "code",
      "metadata": {
        "colab": {
          "base_uri": "https://localhost:8080/"
        },
        "id": "nEIzjCghvU56",
        "outputId": "214449df-3f5b-4a33-b8e8-7edd9be2377a"
      },
      "source": [
        "# Reindexing using another DataFrame Index\n",
        "\n",
        "baby_1881_file = 'https://raw.githubusercontent.com/chesterheng/ai-for-industry/main/datasets/names1881.csv'\n",
        "baby_1981_file = 'https://raw.githubusercontent.com/chesterheng/ai-for-industry/main/datasets/names1981.csv'\n",
        "\n",
        "names_1881 = pd.read_csv(baby_1881_file, header=None, names=['name', 'gender', 'count'], index_col=(0,1))\n",
        "names_1981 = pd.read_csv(baby_1981_file, header=None, names=['name', 'gender', 'count'], index_col=(0,1))\n",
        "\n",
        "# Import pandas\n",
        "import pandas as pd\n",
        "\n",
        "# Reindex names_1981 with index of names_1881: common_names\n",
        "common_names = names_1981.reindex(names_1881.index)\n",
        "\n",
        "# Print shape of common_names\n",
        "print(common_names.shape)\n",
        "\n",
        "# Drop rows with null counts: common_names\n",
        "common_names = common_names.dropna()\n",
        "\n",
        "# Print shape of new common_names\n",
        "print(common_names.shape)"
      ],
      "execution_count": null,
      "outputs": [
        {
          "output_type": "stream",
          "text": [
            "(1935, 1)\n",
            "(1587, 1)\n"
          ],
          "name": "stdout"
        }
      ]
    },
    {
      "cell_type": "code",
      "metadata": {
        "colab": {
          "base_uri": "https://localhost:8080/"
        },
        "id": "XAXdMMZlxAzK",
        "outputId": "3c0ba129-8c1e-42e7-b196-72a4833fdb64"
      },
      "source": [
        "# Arithmetic with Series & DataFrames\n",
        "\n",
        "jan_dict = {'Company': ['Acme Corporation', 'Hooli', 'Initech', 'Mediacore', 'Streeplex'],\n",
        "            'Units': [19, 17, 20, 10, 13]}\n",
        "feb_dict = {'Company': ['Acme Corporation', 'Hooli', 'Mediacore', 'Vandelay Inc'],\n",
        "            'Units': [15, 3, 12, 25]}\n",
        "\n",
        "january = pd.DataFrame.from_dict(jan_dict)\n",
        "january.set_index('Company', inplace=True)\n",
        "print(january)\n",
        "\n",
        "february = pd.DataFrame.from_dict(feb_dict)\n",
        "february.set_index('Company', inplace=True)\n",
        "print('\\n', february, '\\n')\n",
        "\n",
        "print(january + february)"
      ],
      "execution_count": null,
      "outputs": [
        {
          "output_type": "stream",
          "text": [
            "                  Units\n",
            "Company                \n",
            "Acme Corporation     19\n",
            "Hooli                17\n",
            "Initech              20\n",
            "Mediacore            10\n",
            "Streeplex            13\n",
            "\n",
            "                   Units\n",
            "Company                \n",
            "Acme Corporation     15\n",
            "Hooli                 3\n",
            "Mediacore            12\n",
            "Vandelay Inc         25 \n",
            "\n",
            "                  Units\n",
            "Company                \n",
            "Acme Corporation   34.0\n",
            "Hooli              20.0\n",
            "Initech             NaN\n",
            "Mediacore          22.0\n",
            "Streeplex           NaN\n",
            "Vandelay Inc        NaN\n"
          ],
          "name": "stdout"
        }
      ]
    },
    {
      "cell_type": "markdown",
      "metadata": {
        "id": "z2oP9w82wYgw"
      },
      "source": [
        "**Adding unaligned DataFrames**\n",
        "\n",
        "The DataFrames january and february, which have been printed in the IPython Shell, represent the sales a company made in the corresponding months.\n",
        "\n",
        "The Indexes in both DataFrames are called Company, identifying which company bought that quantity of units. The column Units is the number of units sold.\n",
        "\n",
        "If you were to add these two DataFrames by executing the command total = january + february, how many rows would the resulting DataFrame have?\n",
        "\n",
        "**Possible Answers**\n",
        "\n",
        "- [ ] 3 rows.\n",
        "- [ ] 4 rows.\n",
        "- [ ] 5 rows.\n",
        "- [x] 6 rows."
      ]
    },
    {
      "cell_type": "code",
      "metadata": {
        "colab": {
          "base_uri": "https://localhost:8080/"
        },
        "id": "YM7y2kf-wTkK",
        "outputId": "e621887a-9f8c-401a-eb64-2fd834f9328d"
      },
      "source": [
        "# Broadcasting in arithmetic formulas\n",
        "\n",
        "filename = 'https://raw.githubusercontent.com/chesterheng/ai-for-industry/main/datasets/pittsburgh2013.csv'\n",
        "weather = pd.read_csv(filename)\n",
        "weather.set_index('Date', inplace=True)\n",
        "\n",
        "# Extract selected columns from weather as new DataFrame: temps_f\n",
        "temps_f = weather[['Min TemperatureF', 'Mean TemperatureF', 'Max TemperatureF']]\n",
        "\n",
        "# Convert temps_f to celsius: temps_c\n",
        "temps_c = (temps_f - 32) * 5/9\n",
        "\n",
        "# Rename 'F' in column names with 'C': temps_c.columns\n",
        "temps_c.columns = temps_c.columns.str.replace('F', 'C')\n",
        "\n",
        "# Print first 5 rows of temps_c\n",
        "print(temps_c.head())"
      ],
      "execution_count": null,
      "outputs": [
        {
          "output_type": "stream",
          "text": [
            "          Min TemperatureC  Mean TemperatureC  Max TemperatureC\n",
            "Date                                                           \n",
            "2013-1-1         -6.111111          -2.222222          0.000000\n",
            "2013-1-2         -8.333333          -6.111111         -3.888889\n",
            "2013-1-3         -8.888889          -4.444444          0.000000\n",
            "2013-1-4         -2.777778          -2.222222         -1.111111\n",
            "2013-1-5         -3.888889          -1.111111          1.111111\n"
          ],
          "name": "stdout"
        }
      ]
    },
    {
      "cell_type": "code",
      "metadata": {
        "colab": {
          "base_uri": "https://localhost:8080/"
        },
        "id": "zhORmrplx4PW",
        "outputId": "06f58b75-a051-4051-dbd7-d4feffb4eb01"
      },
      "source": [
        "# Computing percentage growth of GDP\n",
        "\n",
        "import pandas as pd\n",
        "\n",
        "filename = 'https://raw.githubusercontent.com/chesterheng/ai-for-industry/main/datasets/gdp_usa.csv'\n",
        "\n",
        "# Read 'GDP.csv' into a DataFrame: gdp\n",
        "gdp = pd.read_csv(filename, parse_dates=True, index_col='DATE')\n",
        "\n",
        "# Slice all the gdp data from 2008 onward: post2008\n",
        "post2008 = gdp.loc['2008-01-01':]\n",
        "\n",
        "# Print the last 8 rows of post2008\n",
        "print(post2008.tail(8))\n",
        "\n",
        "# Resample post2008 by year, keeping last(): yearly\n",
        "yearly = post2008.resample('A').last()\n",
        "\n",
        "# Print yearly\n",
        "print(yearly)\n",
        "\n",
        "# Compute percentage growth of yearly: yearly['growth']\n",
        "yearly['growth'] = yearly.pct_change() * 100\n",
        "\n",
        "# Print yearly again\n",
        "print(yearly)"
      ],
      "execution_count": null,
      "outputs": [
        {
          "output_type": "stream",
          "text": [
            "              VALUE\n",
            "DATE               \n",
            "2014-07-01  17569.4\n",
            "2014-10-01  17692.2\n",
            "2015-01-01  17783.6\n",
            "2015-04-01  17998.3\n",
            "2015-07-01  18141.9\n",
            "2015-10-01  18222.8\n",
            "2016-01-01  18281.6\n",
            "2016-04-01  18436.5\n",
            "              VALUE\n",
            "DATE               \n",
            "2008-12-31  14549.9\n",
            "2009-12-31  14566.5\n",
            "2010-12-31  15230.2\n",
            "2011-12-31  15785.3\n",
            "2012-12-31  16297.3\n",
            "2013-12-31  16999.9\n",
            "2014-12-31  17692.2\n",
            "2015-12-31  18222.8\n",
            "2016-12-31  18436.5\n",
            "              VALUE    growth\n",
            "DATE                         \n",
            "2008-12-31  14549.9       NaN\n",
            "2009-12-31  14566.5  0.114090\n",
            "2010-12-31  15230.2  4.556345\n",
            "2011-12-31  15785.3  3.644732\n",
            "2012-12-31  16297.3  3.243524\n",
            "2013-12-31  16999.9  4.311144\n",
            "2014-12-31  17692.2  4.072377\n",
            "2015-12-31  18222.8  2.999062\n",
            "2016-12-31  18436.5  1.172707\n"
          ],
          "name": "stdout"
        }
      ]
    },
    {
      "cell_type": "code",
      "metadata": {
        "colab": {
          "base_uri": "https://localhost:8080/"
        },
        "id": "uebCAfsiy8rI",
        "outputId": "d129af24-abb7-402d-dd3c-d5cb2e81c065"
      },
      "source": [
        "# Converting currency of stocks\n",
        "\n",
        "# Import pandas\n",
        "import pandas as pd\n",
        "\n",
        "sp500_file = 'https://raw.githubusercontent.com/chesterheng/ai-for-industry/main/datasets/sp500.csv'\n",
        "exchange_file = 'https://raw.githubusercontent.com/chesterheng/ai-for-industry/main/datasets/exchange.csv'\n",
        "\n",
        "# Read 'sp500.csv' into a DataFrame: sp500\n",
        "sp500 = pd.read_csv(sp500_file, parse_dates=True, index_col='Date')\n",
        "\n",
        "# Read 'exchange.csv' into a DataFrame: exchange\n",
        "exchange = pd.read_csv(exchange_file, parse_dates=True, index_col='Date')\n",
        "\n",
        "# Subset 'Open' & 'Close' columns from sp500: dollars\n",
        "dollars = sp500[['Open', 'Close']]\n",
        "\n",
        "# Print the head of dollars\n",
        "print(dollars.head())\n",
        "\n",
        "# Convert dollars to pounds: pounds\n",
        "pounds = dollars.multiply(exchange['GBP/USD'], axis='rows')\n",
        "\n",
        "# Print the head of pounds\n",
        "print(pounds.head())"
      ],
      "execution_count": null,
      "outputs": [
        {
          "output_type": "stream",
          "text": [
            "                   Open        Close\n",
            "Date                                \n",
            "2015-01-02  2058.899902  2058.199951\n",
            "2015-01-05  2054.439941  2020.579956\n",
            "2015-01-06  2022.150024  2002.609985\n",
            "2015-01-07  2005.550049  2025.900024\n",
            "2015-01-08  2030.609985  2062.139893\n",
            "                   Open        Close\n",
            "Date                                \n",
            "2015-01-02  1340.364425  1339.908750\n",
            "2015-01-05  1348.616555  1326.389506\n",
            "2015-01-06  1332.515980  1319.639876\n",
            "2015-01-07  1330.562125  1344.063112\n",
            "2015-01-08  1343.268811  1364.126161\n"
          ],
          "name": "stdout"
        }
      ]
    },
    {
      "cell_type": "markdown",
      "metadata": {
        "id": "I-zXqWQ70zQG"
      },
      "source": [
        "## 2. Concatenating data"
      ]
    },
    {
      "cell_type": "code",
      "metadata": {
        "colab": {
          "base_uri": "https://localhost:8080/",
          "height": 141
        },
        "id": "IOKauUfG1JrL",
        "outputId": "101153ff-7c45-4116-fd70-4f9746bb5433"
      },
      "source": [
        "import pandas as pd\n",
        "\n",
        "bronze_top5_file = 'https://raw.githubusercontent.com/chesterheng/ai-for-industry/main/datasets/bronze_top5.csv'\n",
        "silver_top5_file = 'https://raw.githubusercontent.com/chesterheng/ai-for-industry/main/datasets/silver_top5.csv'\n",
        "\n",
        "bronze = pd.read_csv(bronze_top5_file, index_col=0)\n",
        "silver = pd.read_csv(silver_top5_file, index_col=0)\n",
        "combined = bronze.append(silver)\n",
        "combined.loc['United States']"
      ],
      "execution_count": null,
      "outputs": [
        {
          "output_type": "execute_result",
          "data": {
            "text/html": [
              "<div>\n",
              "<style scoped>\n",
              "    .dataframe tbody tr th:only-of-type {\n",
              "        vertical-align: middle;\n",
              "    }\n",
              "\n",
              "    .dataframe tbody tr th {\n",
              "        vertical-align: top;\n",
              "    }\n",
              "\n",
              "    .dataframe thead th {\n",
              "        text-align: right;\n",
              "    }\n",
              "</style>\n",
              "<table border=\"1\" class=\"dataframe\">\n",
              "  <thead>\n",
              "    <tr style=\"text-align: right;\">\n",
              "      <th></th>\n",
              "      <th>Total</th>\n",
              "    </tr>\n",
              "    <tr>\n",
              "      <th>Country</th>\n",
              "      <th></th>\n",
              "    </tr>\n",
              "  </thead>\n",
              "  <tbody>\n",
              "    <tr>\n",
              "      <th>United States</th>\n",
              "      <td>1052.0</td>\n",
              "    </tr>\n",
              "    <tr>\n",
              "      <th>United States</th>\n",
              "      <td>1195.0</td>\n",
              "    </tr>\n",
              "  </tbody>\n",
              "</table>\n",
              "</div>"
            ],
            "text/plain": [
              "                Total\n",
              "Country              \n",
              "United States  1052.0\n",
              "United States  1195.0"
            ]
          },
          "metadata": {
            "tags": []
          },
          "execution_count": 25
        }
      ]
    },
    {
      "cell_type": "markdown",
      "metadata": {
        "id": "Bj9BxY4p02F0"
      },
      "source": [
        "**Appending Series with nonunique Indices**\n",
        "\n",
        "The Series bronze and silver, which have been printed in the IPython Shell, represent the 5 countries that won the most bronze and silver Olympic medals respectively between 1896 & 2008. The Indexes of both Series are called Country and the values are the corresponding number of medals won.\n",
        "\n",
        "If you were to run the command combined = bronze.append(silver), how many rows would combined have? And how many rows would combined.loc['United States'] return? \n",
        "\n",
        "**Possible Answers**\n",
        "\n",
        "- [ ] combined has 5 rows and combined.loc['United States'] is empty (0 rows).\n",
        "- [x] combined has 10 rows and combined.loc['United States'] has 2 rows.\n",
        "- [ ] combined has 6 rows and combined.loc['United States'] has 1 row.\n",
        "- [ ] combined has 5 rows and combined.loc['United States'] has 2 rows."
      ]
    },
    {
      "cell_type": "code",
      "metadata": {
        "colab": {
          "base_uri": "https://localhost:8080/"
        },
        "id": "SBviNEfT0svU",
        "outputId": "83dd63cf-1b98-4575-a4eb-9b4cd6b721a3"
      },
      "source": [
        "# Appending pandas Series\n",
        "\n",
        "# Import pandas\n",
        "import pandas as pd\n",
        "\n",
        "sales_jan_2015_file = 'https://raw.githubusercontent.com/chesterheng/ai-for-industry/main/datasets/sales-jan-2015.csv'\n",
        "sales_feb_2015_file = 'https://raw.githubusercontent.com/chesterheng/ai-for-industry/main/datasets/sales-feb-2015.csv'\n",
        "sales_mar_2015_file = 'https://raw.githubusercontent.com/chesterheng/ai-for-industry/main/datasets/sales-mar-2015.csv'\n",
        "\n",
        "# Load 'sales-jan-2015.csv' into a DataFrame: jan\n",
        "jan = pd.read_csv(sales_jan_2015_file, parse_dates=True, index_col='Date')\n",
        "\n",
        "# Load 'sales-feb-2015.csv' into a DataFrame: feb\n",
        "feb = pd.read_csv(sales_feb_2015_file, parse_dates=True, index_col='Date')\n",
        "\n",
        "# Load 'sales-mar-2015.csv' into a DataFrame: mar\n",
        "mar = pd.read_csv(sales_mar_2015_file, parse_dates=True, index_col='Date')\n",
        "\n",
        "# Extract the 'Units' column from jan: jan_units\n",
        "jan_units = jan['Units']\n",
        "\n",
        "# Extract the 'Units' column from feb: feb_units\n",
        "feb_units = feb['Units']\n",
        "\n",
        "# Extract the 'Units' column from mar: mar_units\n",
        "mar_units = mar['Units']\n",
        "\n",
        "# Append feb_units and then mar_units to jan_units: quarter1\n",
        "quarter1 = jan_units.append(feb_units).append(mar_units)\n",
        "\n",
        "# Print the first slice from quarter1\n",
        "print(quarter1.loc['jan 27, 2015':'feb 2, 2015'])\n",
        "\n",
        "# Print the second slice from quarter1\n",
        "print(quarter1.loc['feb 26, 2015':'mar 7, 2015'])\n",
        "\n",
        "# Compute & print total sales in quarter1\n",
        "print(quarter1.sum())"
      ],
      "execution_count": null,
      "outputs": [
        {
          "output_type": "stream",
          "text": [
            "Date\n",
            "2015-01-27 07:11:55    18\n",
            "2015-02-02 08:30:00     3\n",
            "2015-02-02 21:00:00     9\n",
            "Name: Units, dtype: int64\n",
            "Date\n",
            "2015-02-26 09:00:00     4\n",
            "2015-03-06 10:11:45    17\n",
            "2015-03-06 02:03:56    17\n",
            "Name: Units, dtype: int64\n",
            "641\n"
          ],
          "name": "stdout"
        }
      ]
    },
    {
      "cell_type": "code",
      "metadata": {
        "colab": {
          "base_uri": "https://localhost:8080/"
        },
        "id": "URI_W_qvLvv6",
        "outputId": "3787f4c5-3bbc-4caa-e415-07e5a495b010"
      },
      "source": [
        "# Concatenating pandas Series along row axis\n",
        "\n",
        "# Import pandas\n",
        "import pandas as pd\n",
        "\n",
        "sales_jan_2015_file = 'https://raw.githubusercontent.com/chesterheng/ai-for-industry/main/datasets/sales-jan-2015.csv'\n",
        "sales_feb_2015_file = 'https://raw.githubusercontent.com/chesterheng/ai-for-industry/main/datasets/sales-feb-2015.csv'\n",
        "sales_mar_2015_file = 'https://raw.githubusercontent.com/chesterheng/ai-for-industry/main/datasets/sales-mar-2015.csv'\n",
        "\n",
        "jan = pd.read_csv(sales_jan_2015_file, parse_dates=True, index_col='Date')\n",
        "feb = pd.read_csv(sales_feb_2015_file, parse_dates=True, index_col='Date')\n",
        "mar = pd.read_csv(sales_mar_2015_file, parse_dates=True, index_col='Date')\n",
        "\n",
        "# Initialize empty list: units\n",
        "units = []\n",
        "\n",
        "# Build the list of Series\n",
        "for month in [jan, feb, mar]:\n",
        "    units.append(month['Units'])\n",
        "\n",
        "# Concatenate the list: quarter1\n",
        "quarter1 = pd.concat(units, axis='rows')\n",
        "\n",
        "# Print slices from quarter1\n",
        "print(quarter1.loc['jan 27, 2015':'feb 2, 2015'])\n",
        "print(quarter1.loc['feb 26, 2015':'mar 7, 2015'])"
      ],
      "execution_count": null,
      "outputs": [
        {
          "output_type": "stream",
          "text": [
            "Date\n",
            "2015-01-27 07:11:55    18\n",
            "2015-02-02 08:30:00     3\n",
            "2015-02-02 21:00:00     9\n",
            "Name: Units, dtype: int64\n",
            "Date\n",
            "2015-02-26 09:00:00     4\n",
            "2015-03-06 10:11:45    17\n",
            "2015-03-06 02:03:56    17\n",
            "Name: Units, dtype: int64\n"
          ],
          "name": "stdout"
        }
      ]
    },
    {
      "cell_type": "code",
      "metadata": {
        "colab": {
          "base_uri": "https://localhost:8080/"
        },
        "id": "g32FZAuLQGAC",
        "outputId": "d6b0019a-6dbc-468a-d1cd-2f783d0f3d22"
      },
      "source": [
        "# Appending and concatenating DataFrames\n",
        "\n",
        "import pandas as pd\n",
        "baby_1881_file = 'https://raw.githubusercontent.com/chesterheng/ai-for-industry/main/datasets/names1881.csv'\n",
        "baby_1981_file = 'https://raw.githubusercontent.com/chesterheng/ai-for-industry/main/datasets/names1981.csv'\n",
        "\n",
        "names_1881 = pd.read_csv(baby_1881_file, header=None, names=['name', 'gender', 'count'])\n",
        "names_1981 = pd.read_csv(baby_1981_file, header=None, names=['name', 'gender', 'count'])\n",
        "\n",
        "# Add 'year' column to names_1881 and names_1981\n",
        "names_1881['year'] = 1881\n",
        "names_1981['year'] = 1981\n",
        "\n",
        "# Append names_1981 after names_1881 with ignore_index=True: combined_names\n",
        "combined_names = names_1881.append(names_1981, ignore_index=True, sort=False)\n",
        "\n",
        "# Print shapes of names_1981, names_1881, and combined_names\n",
        "print(names_1981.shape)\n",
        "print(names_1881.shape)\n",
        "print(combined_names.shape)\n",
        "\n",
        "# Print all rows that contain the name 'Morgan'\n",
        "print(combined_names[combined_names['name']  == 'Morgan'])"
      ],
      "execution_count": null,
      "outputs": [
        {
          "output_type": "stream",
          "text": [
            "(19455, 4)\n",
            "(1935, 4)\n",
            "(21390, 4)\n",
            "         name gender  count  year\n",
            "1283   Morgan      M     23  1881\n",
            "2096   Morgan      F   1769  1981\n",
            "14390  Morgan      M    766  1981\n"
          ],
          "name": "stdout"
        }
      ]
    },
    {
      "cell_type": "code",
      "metadata": {
        "colab": {
          "base_uri": "https://localhost:8080/"
        },
        "id": "y6e-o5uERoM6",
        "outputId": "8b297010-e774-4dc8-d61f-88ab2bce24b2"
      },
      "source": [
        "# Concatenating pandas DataFrames along column axis\n",
        "\n",
        "import pandas as pd\n",
        "weather_mean_data = {'Mean TemperatureF': [53.1, 70., 34.93548387, 28.71428571, 32.35483871, 72.87096774, 70.13333333, 35., 62.61290323, 39.8, 55.4516129 , 63.76666667],\n",
        "                     'Month': ['Apr', 'Aug', 'Dec', 'Feb', 'Jan', 'Jul', 'Jun', 'Mar', 'May', 'Nov', 'Oct', 'Sep']}\n",
        "weather_max_data = {'Max TemperatureF': [68, 89, 91, 84], 'Month': ['Jan', 'Apr', 'Jul', 'Oct']}\n",
        "\n",
        "weather_mean = pd.DataFrame.from_dict(weather_mean_data)\n",
        "weather_mean.set_index('Month', inplace=True, drop=True)\n",
        "\n",
        "weather_max = pd.DataFrame.from_dict(weather_max_data)\n",
        "weather_max.set_index('Month', inplace=True, drop=True)\n",
        "\n",
        "# Create a list of weather_max and weather_mean\n",
        "weather_list = [weather_max, weather_mean]\n",
        "\n",
        "# Concatenate weather_list horizontally\n",
        "weather = pd.concat(weather_list, axis=1, sort=True)\n",
        "\n",
        "# Print weather\n",
        "print(weather)"
      ],
      "execution_count": null,
      "outputs": [
        {
          "output_type": "stream",
          "text": [
            "     Max TemperatureF  Mean TemperatureF\n",
            "Apr              89.0          53.100000\n",
            "Aug               NaN          70.000000\n",
            "Dec               NaN          34.935484\n",
            "Feb               NaN          28.714286\n",
            "Jan              68.0          32.354839\n",
            "Jul              91.0          72.870968\n",
            "Jun               NaN          70.133333\n",
            "Mar               NaN          35.000000\n",
            "May               NaN          62.612903\n",
            "Nov               NaN          39.800000\n",
            "Oct              84.0          55.451613\n",
            "Sep               NaN          63.766667\n"
          ],
          "name": "stdout"
        }
      ]
    },
    {
      "cell_type": "code",
      "metadata": {
        "colab": {
          "base_uri": "https://localhost:8080/"
        },
        "id": "t-axnJK-Yt0T",
        "outputId": "800dc772-0a3f-4212-bbc5-57df9420c81b"
      },
      "source": [
        "# Reading multiple files to build a DataFrame\n",
        "\n",
        "import pandas as pd\n",
        "dir_name = 'https://raw.githubusercontent.com/chesterheng/ai-for-industry/main/datasets/'\n",
        "medal_types = ['bronze', 'silver', 'gold']\n",
        "\n",
        "#Initialize an empyy list: medals\n",
        "medals =[]\n",
        "\n",
        "for medal in medal_types:\n",
        "    # Create the file name: file_name\n",
        "    file_name = dir_name + \"%s_top5.csv\" % medal\n",
        "    # Create list of column names: columns\n",
        "    columns = ['Country', medal]\n",
        "    # Read file_name into a DataFrame: medal_df\n",
        "    medal_df = pd.read_csv(file_name, header=0, index_col='Country', names=columns)\n",
        "    # Append medal_df to medals\n",
        "    medals.append(medal_df)\n",
        "\n",
        "# Concatenate medals horizontally: medals_df\n",
        "medals_df = pd.concat(medals, axis='columns', sort=True)\n",
        "\n",
        "# Print medals_df\n",
        "print(medals_df)"
      ],
      "execution_count": null,
      "outputs": [
        {
          "output_type": "stream",
          "text": [
            "                bronze  silver    gold\n",
            "France           475.0   461.0     NaN\n",
            "Germany          454.0     NaN   407.0\n",
            "Italy              NaN   394.0   460.0\n",
            "Soviet Union     584.0   627.0   838.0\n",
            "United Kingdom   505.0   591.0   498.0\n",
            "United States   1052.0  1195.0  2088.0\n"
          ],
          "name": "stdout"
        }
      ]
    },
    {
      "cell_type": "code",
      "metadata": {
        "colab": {
          "base_uri": "https://localhost:8080/"
        },
        "id": "PHZ9d1JZaHj9",
        "outputId": "2f4f46df-7ba6-4131-fb53-b1f88e626e77"
      },
      "source": [
        "# Concatenation, keys, and MultiIndexes\n",
        "\n",
        "import pandas as pd\n",
        "dir_name = 'https://raw.githubusercontent.com/chesterheng/ai-for-industry/main/datasets/'\n",
        "medal_types = ['bronze', 'silver', 'gold']\n",
        "medals =[]\n",
        "\n",
        "for medal in medal_types:\n",
        "\n",
        "    file_name = dir_name + \"%s_top5.csv\" % medal\n",
        "    \n",
        "    # Read file_name into a DataFrame: medal_df\n",
        "    medal_df = pd.read_csv(file_name, index_col='Country')\n",
        "    \n",
        "    # Append medal_df to medals\n",
        "    medals.append(medal_df)\n",
        "    \n",
        "# Concatenate medals: medals\n",
        "medals = pd.concat(medals, keys=['bronze', 'silver', 'gold'])\n",
        "\n",
        "# Print medals in entirety\n",
        "print(medals)"
      ],
      "execution_count": null,
      "outputs": [
        {
          "output_type": "stream",
          "text": [
            "                        Total\n",
            "       Country               \n",
            "bronze United States   1052.0\n",
            "       Soviet Union     584.0\n",
            "       United Kingdom   505.0\n",
            "       France           475.0\n",
            "       Germany          454.0\n",
            "silver United States   1195.0\n",
            "       Soviet Union     627.0\n",
            "       United Kingdom   591.0\n",
            "       France           461.0\n",
            "       Italy            394.0\n",
            "gold   United States   2088.0\n",
            "       Soviet Union     838.0\n",
            "       United Kingdom   498.0\n",
            "       Italy            460.0\n",
            "       Germany          407.0\n"
          ],
          "name": "stdout"
        }
      ]
    },
    {
      "cell_type": "code",
      "metadata": {
        "colab": {
          "base_uri": "https://localhost:8080/"
        },
        "id": "rxlQJbzvbsSk",
        "outputId": "ba7652c5-e552-4bda-d358-661c149a86bc"
      },
      "source": [
        "# Slicing MultiIndexed DataFrames\n",
        "\n",
        "# Sort the entries of medals: medals_sorted\n",
        "medals_sorted = medals.sort_index(level=0)\n",
        "\n",
        "# Print the number of Bronze medals won by Germany\n",
        "print(medals_sorted.loc[('bronze','Germany')])\n",
        "\n",
        "# Print data about silver medals\n",
        "print(medals_sorted.loc['silver'])\n",
        "\n",
        "# Create alias for pd.IndexSlice: idx\n",
        "idx = pd.IndexSlice\n",
        "\n",
        "# Print all the data on medals won by the United Kingdom\n",
        "print(medals_sorted.loc[idx[:, 'United Kingdom'], :])"
      ],
      "execution_count": null,
      "outputs": [
        {
          "output_type": "stream",
          "text": [
            "Total    454.0\n",
            "Name: (bronze, Germany), dtype: float64\n",
            "                 Total\n",
            "Country               \n",
            "France           461.0\n",
            "Italy            394.0\n",
            "Soviet Union     627.0\n",
            "United Kingdom   591.0\n",
            "United States   1195.0\n",
            "                       Total\n",
            "       Country              \n",
            "bronze United Kingdom  505.0\n",
            "gold   United Kingdom  498.0\n",
            "silver United Kingdom  591.0\n"
          ],
          "name": "stdout"
        }
      ]
    },
    {
      "cell_type": "code",
      "metadata": {
        "colab": {
          "base_uri": "https://localhost:8080/"
        },
        "id": "_ueb7HBhePRX",
        "outputId": "fe66a62f-1248-4814-c8b1-4289412db9c2"
      },
      "source": [
        "# Concatenating horizontally to get MultiIndexed columns\n",
        "\n",
        "import pandas as pd\n",
        "\n",
        "sales_feb_hardware_file = 'https://raw.githubusercontent.com/chesterheng/ai-for-industry/main/datasets/feb-sales-Hardware.csv'\n",
        "sales_feb_software_file = 'https://raw.githubusercontent.com/chesterheng/ai-for-industry/main/datasets/feb-sales-Software.csv'\n",
        "sales_feb_service_file = 'https://raw.githubusercontent.com/chesterheng/ai-for-industry/main/datasets/feb-sales-Service.csv'\n",
        "\n",
        "hw = pd.read_csv(sales_feb_hardware_file, index_col='Date')\n",
        "sw = pd.read_csv(sales_feb_software_file, index_col='Date')\n",
        "sv = pd.read_csv(sales_feb_service_file, index_col='Date')\n",
        "\n",
        "dataframes = [hw, sw, sv]\n",
        "\n",
        "# Concatenate dataframes: february\n",
        "february = pd.concat(dataframes, axis=1, keys=['Hardware', 'Software', 'Service'], sort=True)\n",
        "\n",
        "# Print february.info()\n",
        "print(february.info())\n",
        "\n",
        "# Assign pd.IndexSlice: idx\n",
        "idx = pd.IndexSlice\n",
        "\n",
        "# Create the slice: slice_2_8\n",
        "slice_2_8 = february.loc['2015-02-02':'2015-02-08', idx[:, 'Company']]\n",
        "\n",
        "# Print slice_2_8\n",
        "print(slice_2_8)"
      ],
      "execution_count": null,
      "outputs": [
        {
          "output_type": "stream",
          "text": [
            "<class 'pandas.core.frame.DataFrame'>\n",
            "Index: 20 entries, 2015-02-02 08:33:01 to 2015-02-26 08:58:51\n",
            "Data columns (total 9 columns):\n",
            " #   Column               Non-Null Count  Dtype  \n",
            "---  ------               --------------  -----  \n",
            " 0   (Hardware, Company)  5 non-null      object \n",
            " 1   (Hardware, Product)  5 non-null      object \n",
            " 2   (Hardware, Units)    5 non-null      float64\n",
            " 3   (Software, Company)  9 non-null      object \n",
            " 4   (Software, Product)  9 non-null      object \n",
            " 5   (Software, Units)    9 non-null      float64\n",
            " 6   (Service, Company)   6 non-null      object \n",
            " 7   (Service, Product)   6 non-null      object \n",
            " 8   (Service, Units)     6 non-null      float64\n",
            "dtypes: float64(3), object(6)\n",
            "memory usage: 1.6+ KB\n",
            "None\n",
            "                            Hardware         Software Service\n",
            "                             Company          Company Company\n",
            "2015-02-02 08:33:01              NaN            Hooli     NaN\n",
            "2015-02-02 20:54:49        Mediacore              NaN     NaN\n",
            "2015-02-03 14:14:18              NaN          Initech     NaN\n",
            "2015-02-04 15:36:29              NaN        Streeplex     NaN\n",
            "2015-02-04 21:52:45  Acme Coporation              NaN     NaN\n",
            "2015-02-05 01:53:06              NaN  Acme Coporation     NaN\n",
            "2015-02-05 22:05:03              NaN              NaN   Hooli\n",
            "2015-02-07 22:58:10  Acme Coporation              NaN     NaN\n"
          ],
          "name": "stdout"
        }
      ]
    },
    {
      "cell_type": "code",
      "metadata": {
        "colab": {
          "base_uri": "https://localhost:8080/"
        },
        "id": "BNmlBD3bSxpH",
        "outputId": "cc2a62d2-e48c-4743-bc64-317061696d9f"
      },
      "source": [
        "# Concatenating DataFrames from a dict\n",
        "\n",
        "import pandas as pd\n",
        "\n",
        "sales_jan_2015_file = 'https://raw.githubusercontent.com/chesterheng/ai-for-industry/main/datasets/sales-jan-2015.csv'\n",
        "sales_feb_2015_file = 'https://raw.githubusercontent.com/chesterheng/ai-for-industry/main/datasets/sales-feb-2015.csv'\n",
        "sales_mar_2015_file = 'https://raw.githubusercontent.com/chesterheng/ai-for-industry/main/datasets/sales-mar-2015.csv'\n",
        "\n",
        "\n",
        "jan = pd.read_csv(sales_jan_2015_file)\n",
        "feb = pd.read_csv(sales_feb_2015_file)\n",
        "mar = pd.read_csv(sales_mar_2015_file)\n",
        "\n",
        "# Make the list of tuples: month_list\n",
        "month_list = [('january', jan), ('february', feb), ('march', mar)]\n",
        "\n",
        "# Create an empty dictionary: month_dict\n",
        "month_dict = dict()\n",
        "\n",
        "for month_name, month_data in month_list:\n",
        "\n",
        "    # Group month_data: month_dict[month_name]\n",
        "    month_dict[month_name] = month_data.groupby('Company').sum()\n",
        "\n",
        "# Concatenate data in month_dict: sales\n",
        "sales = pd.concat(month_dict)\n",
        "\n",
        "# Print sales\n",
        "print(sales)\n",
        "\n",
        "# Print all sales by Mediacore\n",
        "idx = pd.IndexSlice\n",
        "print(sales.loc[idx[:, 'Mediacore'], :])"
      ],
      "execution_count": null,
      "outputs": [
        {
          "output_type": "stream",
          "text": [
            "                          Units\n",
            "         Company               \n",
            "january  Acme Coporation     76\n",
            "         Hooli               70\n",
            "         Initech             37\n",
            "         Mediacore           15\n",
            "         Streeplex           50\n",
            "february Acme Coporation     34\n",
            "         Hooli               30\n",
            "         Initech             30\n",
            "         Mediacore           45\n",
            "         Streeplex           36\n",
            "march    Acme Coporation      5\n",
            "         Hooli               37\n",
            "         Initech             68\n",
            "         Mediacore           68\n",
            "         Streeplex           40\n",
            "                    Units\n",
            "         Company         \n",
            "january  Mediacore     15\n",
            "february Mediacore     45\n",
            "march    Mediacore     68\n"
          ],
          "name": "stdout"
        }
      ]
    },
    {
      "cell_type": "code",
      "metadata": {
        "colab": {
          "base_uri": "https://localhost:8080/"
        },
        "id": "cmXpsIRkUBd3",
        "outputId": "f8faac3a-4ede-4563-91f8-28d2eda16bdd"
      },
      "source": [
        "# Outer and inner joins\n",
        "\n",
        "# Concatenating DataFrames with inner join\n",
        "\n",
        "import pandas as pd\n",
        "\n",
        "bronze_top5_file = 'https://raw.githubusercontent.com/chesterheng/ai-for-industry/main/datasets/bronze_top5.csv'\n",
        "silver_top5_file = 'https://raw.githubusercontent.com/chesterheng/ai-for-industry/main/datasets/silver_top5.csv'\n",
        "gold_top5_file = 'https://raw.githubusercontent.com/chesterheng/ai-for-industry/main/datasets/gold_top5.csv'\n",
        "\n",
        "bronze = pd.read_csv(bronze_top5_file)\n",
        "silver = pd.read_csv(silver_top5_file)\n",
        "gold = pd.read_csv(gold_top5_file)\n",
        "\n",
        "# Create the list of DataFrames: medal_list\n",
        "medal_list = [bronze, silver, gold]\n",
        "\n",
        "# Concatenate medal_list horizontally using an inner join: medals\n",
        "medals = pd.concat(medal_list, keys=['bronze', 'silver', 'gold'], axis=1, join='inner')\n",
        "\n",
        "# Print medals\n",
        "print(medals)"
      ],
      "execution_count": null,
      "outputs": [
        {
          "output_type": "stream",
          "text": [
            "           bronze                  silver                    gold        \n",
            "          Country   Total         Country   Total         Country   Total\n",
            "0   United States  1052.0   United States  1195.0   United States  2088.0\n",
            "1    Soviet Union   584.0    Soviet Union   627.0    Soviet Union   838.0\n",
            "2  United Kingdom   505.0  United Kingdom   591.0  United Kingdom   498.0\n",
            "3          France   475.0          France   461.0           Italy   460.0\n",
            "4         Germany   454.0           Italy   394.0         Germany   407.0\n"
          ],
          "name": "stdout"
        }
      ]
    },
    {
      "cell_type": "code",
      "metadata": {
        "colab": {
          "base_uri": "https://localhost:8080/"
        },
        "id": "twpS5d3csGWn",
        "outputId": "aa8ebff7-10e1-48fe-de18-a6527d89bdeb"
      },
      "source": [
        "# Resampling & concatenating DataFrames with inner join\n",
        "\n",
        "gdp_china_file = 'https://raw.githubusercontent.com/chesterheng/ai-for-industry/main/datasets/gdp_china.csv'\n",
        "china = pd.read_csv(gdp_china_file, parse_dates=['Year'])\n",
        "china.rename(columns={'GDP': 'China'}, inplace=True)\n",
        "china.set_index('Year', inplace=True)\n",
        "\n",
        "gdp_usa_file = 'https://raw.githubusercontent.com/chesterheng/ai-for-industry/main/datasets/gdp_usa.csv'\n",
        "us = pd.read_csv(gdp_usa_file, parse_dates=['DATE'])\n",
        "us.rename(columns={'DATE': 'Year', 'VALUE': 'US'}, inplace=True)\n",
        "us.set_index('Year', inplace=True)\n",
        "\n",
        "# Resample and tidy china: china_annual\n",
        "china_annual = china.resample('A').last().pct_change(10).dropna()\n",
        "\n",
        "# Resample and tidy us: us_annual\n",
        "us_annual = us.resample('A').last().pct_change(10).dropna()\n",
        "\n",
        "# Concatenate china_annual and us_annual: gdp\n",
        "gdp = pd.concat([china_annual, us_annual], axis=1, join='inner')\n",
        "\n",
        "# Resample gdp and print\n",
        "print(gdp.resample('10A').last())"
      ],
      "execution_count": null,
      "outputs": [
        {
          "output_type": "stream",
          "text": [
            "               China        US\n",
            "Year                          \n",
            "1970-12-31  0.546128  1.017187\n",
            "1980-12-31  1.072537  1.742556\n",
            "1990-12-31  0.892820  1.012126\n",
            "2000-12-31  2.357522  0.738632\n",
            "2010-12-31  4.011081  0.454332\n",
            "2020-12-31  3.789936  0.361780\n"
          ],
          "name": "stdout"
        }
      ]
    },
    {
      "cell_type": "markdown",
      "metadata": {
        "id": "I7l9OJwIvUJ_"
      },
      "source": [
        "## 3. Merging data"
      ]
    },
    {
      "cell_type": "code",
      "metadata": {
        "colab": {
          "base_uri": "https://localhost:8080/",
          "height": 110
        },
        "id": "_3S770QWvraq",
        "outputId": "1baee592-8457-4f69-e16b-b2bc0228916d"
      },
      "source": [
        "# Merging DataFrames\n",
        "\n",
        "rev = {'city': ['Austin', 'Denver', 'Springfield'], 'revenue': [100, 83, 4]}\n",
        "man = {'city': ['Austin', 'Denver', 'Mendocino'], 'manager': ['Charles', 'Joel', 'Brett']}\n",
        "\n",
        "revenue = pd.DataFrame.from_dict(rev)\n",
        "managers = pd.DataFrame.from_dict(man)\n",
        "combined = pd.merge(revenue, managers, on='city')\n",
        "combined"
      ],
      "execution_count": null,
      "outputs": [
        {
          "output_type": "execute_result",
          "data": {
            "text/html": [
              "<div>\n",
              "<style scoped>\n",
              "    .dataframe tbody tr th:only-of-type {\n",
              "        vertical-align: middle;\n",
              "    }\n",
              "\n",
              "    .dataframe tbody tr th {\n",
              "        vertical-align: top;\n",
              "    }\n",
              "\n",
              "    .dataframe thead th {\n",
              "        text-align: right;\n",
              "    }\n",
              "</style>\n",
              "<table border=\"1\" class=\"dataframe\">\n",
              "  <thead>\n",
              "    <tr style=\"text-align: right;\">\n",
              "      <th></th>\n",
              "      <th>city</th>\n",
              "      <th>revenue</th>\n",
              "      <th>manager</th>\n",
              "    </tr>\n",
              "  </thead>\n",
              "  <tbody>\n",
              "    <tr>\n",
              "      <th>0</th>\n",
              "      <td>Austin</td>\n",
              "      <td>100</td>\n",
              "      <td>Charles</td>\n",
              "    </tr>\n",
              "    <tr>\n",
              "      <th>1</th>\n",
              "      <td>Denver</td>\n",
              "      <td>83</td>\n",
              "      <td>Joel</td>\n",
              "    </tr>\n",
              "  </tbody>\n",
              "</table>\n",
              "</div>"
            ],
            "text/plain": [
              "     city  revenue  manager\n",
              "0  Austin      100  Charles\n",
              "1  Denver       83     Joel"
            ]
          },
          "metadata": {
            "tags": []
          },
          "execution_count": 10
        }
      ]
    },
    {
      "cell_type": "markdown",
      "metadata": {
        "id": "BP4dmtWTvPkV"
      },
      "source": [
        "**Merging company DataFrames**\n",
        "\n",
        "Suppose your company has operations in several different cities under several different managers. The DataFrames revenue and managers contain partial information related to the company. \n",
        "\n",
        "That is, the rows of the city columns don't quite match in revenue and managers (the Mendocino branch has no revenue yet since it just opened and the manager of Springfield branch recently left the company).\n",
        "\n",
        "If you were to run the command combined = pd.merge(revenue, managers, on='city'), how many rows would combined have?\n",
        "\n",
        "**Possible Answers**\n",
        "\n",
        "- [ ] 0 rows.\n",
        "- [x] 2 rows.\n",
        "- [ ] 3 rows.\n",
        "- [ ] 4 rows."
      ]
    },
    {
      "cell_type": "code",
      "metadata": {
        "colab": {
          "base_uri": "https://localhost:8080/"
        },
        "id": "Z8v7oeRXvF1V",
        "outputId": "1783b806-9cbf-48be-ea19-7e8f570a9a06"
      },
      "source": [
        "# Merging on a specific column\n",
        "\n",
        "rev = {'city': ['Austin', 'Denver', 'Springfield', 'Mendocino'], \n",
        "       'revenue': [100, 83, 4, 200], \n",
        "       'branch_id': [10, 20, 30, 47]}\n",
        "man = {'city': ['Austin', 'Denver', 'Mendocino', 'Springfield'], \n",
        "       'manager': ['Charles', 'Joel', 'Brett', 'Sally'], \n",
        "       'branch_id': [10, 20, 47, 31]}\n",
        "\n",
        "revenue = pd.DataFrame.from_dict(rev)\n",
        "managers = pd.DataFrame.from_dict(man)\n",
        "\n",
        "# Merge revenue with managers on 'city': merge_by_city\n",
        "merge_by_city = pd.merge(revenue, managers, on='city')\n",
        "\n",
        "# Print merge_by_city\n",
        "print(merge_by_city)\n",
        "\n",
        "# Merge revenue with managers on 'branch_id': merge_by_id\n",
        "merge_by_id = pd.merge(revenue, managers, on='branch_id')\n",
        "\n",
        "# Print merge_by_id\n",
        "print(merge_by_id)"
      ],
      "execution_count": null,
      "outputs": [
        {
          "output_type": "stream",
          "text": [
            "          city  revenue  branch_id_x  manager  branch_id_y\n",
            "0       Austin      100           10  Charles           10\n",
            "1       Denver       83           20     Joel           20\n",
            "2  Springfield        4           30    Sally           31\n",
            "3    Mendocino      200           47    Brett           47\n",
            "      city_x  revenue  branch_id     city_y  manager\n",
            "0     Austin      100         10     Austin  Charles\n",
            "1     Denver       83         20     Denver     Joel\n",
            "2  Mendocino      200         47  Mendocino    Brett\n"
          ],
          "name": "stdout"
        }
      ]
    },
    {
      "cell_type": "code",
      "metadata": {
        "colab": {
          "base_uri": "https://localhost:8080/"
        },
        "id": "Y4J_blnEwfPq",
        "outputId": "363c17d1-cf1f-4599-fc67-43cad7f36ae8"
      },
      "source": [
        "# Merging on columns with non-matching labels\n",
        "\n",
        "rev = {'city': ['Austin', 'Denver', 'Springfield', 'Mendocino'], \n",
        "       'branch_id': [10, 20, 30, 47],\n",
        "       'state': ['','','',''],\n",
        "       'revenue': [100, 83, 4, 200]}\n",
        "man = {'city': ['Austin', 'Denver', 'Mendocino', 'Springfield'], \n",
        "       'branch_id': [10, 20, 47, 31],\n",
        "       'state': ['','','',''],\n",
        "       'manager': ['Charles', 'Joel', 'Brett', 'Sally']}\n",
        "\n",
        "revenue = pd.DataFrame.from_dict(rev)\n",
        "managers = pd.DataFrame.from_dict(man)\n",
        "\n",
        "state_rev = {'Austin': 'TX', 'Denver': 'CO', 'Springfield': 'IL', 'Mendocino': 'CA'}\n",
        "state_man = {'Austin': 'TX', 'Denver': 'CO', 'Mendocino': 'CA', 'Springfield': 'MO'}\n",
        "\n",
        "revenue['state'] = revenue['city'].map(state_rev)\n",
        "\n",
        "managers['state'] = managers['city'].map(state_man)\n",
        "managers.rename(columns={'city': 'branch'}, inplace=True)\n",
        "\n",
        "# Merge revenue & managers on 'city' & 'branch': combined\n",
        "combined = pd.merge(revenue, managers, left_on='city', right_on='branch')\n",
        "\n",
        "# Print combined\n",
        "print(combined)"
      ],
      "execution_count": null,
      "outputs": [
        {
          "output_type": "stream",
          "text": [
            "          city  branch_id_x state_x  ...  branch_id_y state_y  manager\n",
            "0       Austin           10      TX  ...           10      TX  Charles\n",
            "1       Denver           20      CO  ...           20      CO     Joel\n",
            "2  Springfield           30      IL  ...           31      MO    Sally\n",
            "3    Mendocino           47      CA  ...           47      CA    Brett\n",
            "\n",
            "[4 rows x 8 columns]\n"
          ],
          "name": "stdout"
        }
      ]
    },
    {
      "cell_type": "code",
      "metadata": {
        "colab": {
          "base_uri": "https://localhost:8080/"
        },
        "id": "slWNf3oo0Ci6",
        "outputId": "27e4b8bf-6f8c-4dea-aa53-1f0e1fcba3d3"
      },
      "source": [
        "# Merging on multiple columns\n",
        "\n",
        "rev = {'city': ['Austin', 'Denver', 'Springfield', 'Mendocino'], \n",
        "       'branch_id': [10, 20, 30, 47],\n",
        "       'revenue': [100, 83, 4, 200]}\n",
        "man = {'city': ['Austin', 'Denver', 'Mendocino', 'Springfield'], \n",
        "       'branch_id': [10, 20, 47, 31],\n",
        "       'manager': ['Charles', 'Joel', 'Brett', 'Sally']}\n",
        "\n",
        "revenue = pd.DataFrame.from_dict(rev)\n",
        "managers = pd.DataFrame.from_dict(man)\n",
        "\n",
        "# Add 'state' column to revenue: revenue['state']\n",
        "revenue['state'] = ['TX','CO','IL','CA']\n",
        "\n",
        "# Add 'state' column to managers: managers['state']\n",
        "managers['state'] = ['TX','CO','CA','MO']\n",
        "\n",
        "# Merge revenue & managers on 'branch_id', 'city', & 'state': combined\n",
        "combined = pd.merge(revenue, managers, on=['branch_id', 'city', 'state'])\n",
        "\n",
        "# Print combined\n",
        "print(combined)"
      ],
      "execution_count": null,
      "outputs": [
        {
          "output_type": "stream",
          "text": [
            "        city  branch_id  revenue state  manager\n",
            "0     Austin         10      100    TX  Charles\n",
            "1     Denver         20       83    CO     Joel\n",
            "2  Mendocino         47      200    CA    Brett\n"
          ],
          "name": "stdout"
        }
      ]
    },
    {
      "cell_type": "code",
      "metadata": {
        "colab": {
          "base_uri": "https://localhost:8080/",
          "height": 233
        },
        "id": "hwQJYgqe0_Rq",
        "outputId": "05343c9f-094f-495f-e1c5-2a0255e5247e"
      },
      "source": [
        "# Joining DataFrames\n",
        "\n",
        "rev = {'city': ['Austin', 'Denver', 'Springfield', 'Mendocino'],\n",
        "       'state': ['TX','CO','IL','CA'],\n",
        "       'revenue': [100, 83, 4, 200],\n",
        "       'branch_id': [10, 20, 30, 47]}\n",
        "\n",
        "man = {'branch': ['Austin', 'Denver', 'Mendocino', 'Springfield'],\n",
        "       'state': ['TX','CO','CA','MO'],\n",
        "       'manager': ['Charles', 'Joel', 'Brett', 'Sally'],\n",
        "       'branch_id': [10, 20, 47, 31]}\n",
        "\n",
        "revenue = pd.DataFrame.from_dict(rev)\n",
        "revenue.set_index('branch_id', inplace=True)\n",
        "\n",
        "managers = pd.DataFrame.from_dict(man)\n",
        "managers.set_index('branch_id', inplace=True)\n",
        "\n",
        "combine = revenue.join(managers, lsuffix='_rev', rsuffix='_mng', how='outer')\n",
        "combine"
      ],
      "execution_count": null,
      "outputs": [
        {
          "output_type": "execute_result",
          "data": {
            "text/html": [
              "<div>\n",
              "<style scoped>\n",
              "    .dataframe tbody tr th:only-of-type {\n",
              "        vertical-align: middle;\n",
              "    }\n",
              "\n",
              "    .dataframe tbody tr th {\n",
              "        vertical-align: top;\n",
              "    }\n",
              "\n",
              "    .dataframe thead th {\n",
              "        text-align: right;\n",
              "    }\n",
              "</style>\n",
              "<table border=\"1\" class=\"dataframe\">\n",
              "  <thead>\n",
              "    <tr style=\"text-align: right;\">\n",
              "      <th></th>\n",
              "      <th>city</th>\n",
              "      <th>state_rev</th>\n",
              "      <th>revenue</th>\n",
              "      <th>branch</th>\n",
              "      <th>state_mng</th>\n",
              "      <th>manager</th>\n",
              "    </tr>\n",
              "    <tr>\n",
              "      <th>branch_id</th>\n",
              "      <th></th>\n",
              "      <th></th>\n",
              "      <th></th>\n",
              "      <th></th>\n",
              "      <th></th>\n",
              "      <th></th>\n",
              "    </tr>\n",
              "  </thead>\n",
              "  <tbody>\n",
              "    <tr>\n",
              "      <th>10</th>\n",
              "      <td>Austin</td>\n",
              "      <td>TX</td>\n",
              "      <td>100.0</td>\n",
              "      <td>Austin</td>\n",
              "      <td>TX</td>\n",
              "      <td>Charles</td>\n",
              "    </tr>\n",
              "    <tr>\n",
              "      <th>20</th>\n",
              "      <td>Denver</td>\n",
              "      <td>CO</td>\n",
              "      <td>83.0</td>\n",
              "      <td>Denver</td>\n",
              "      <td>CO</td>\n",
              "      <td>Joel</td>\n",
              "    </tr>\n",
              "    <tr>\n",
              "      <th>30</th>\n",
              "      <td>Springfield</td>\n",
              "      <td>IL</td>\n",
              "      <td>4.0</td>\n",
              "      <td>NaN</td>\n",
              "      <td>NaN</td>\n",
              "      <td>NaN</td>\n",
              "    </tr>\n",
              "    <tr>\n",
              "      <th>31</th>\n",
              "      <td>NaN</td>\n",
              "      <td>NaN</td>\n",
              "      <td>NaN</td>\n",
              "      <td>Springfield</td>\n",
              "      <td>MO</td>\n",
              "      <td>Sally</td>\n",
              "    </tr>\n",
              "    <tr>\n",
              "      <th>47</th>\n",
              "      <td>Mendocino</td>\n",
              "      <td>CA</td>\n",
              "      <td>200.0</td>\n",
              "      <td>Mendocino</td>\n",
              "      <td>CA</td>\n",
              "      <td>Brett</td>\n",
              "    </tr>\n",
              "  </tbody>\n",
              "</table>\n",
              "</div>"
            ],
            "text/plain": [
              "                  city state_rev  revenue       branch state_mng  manager\n",
              "branch_id                                                                \n",
              "10              Austin        TX    100.0       Austin        TX  Charles\n",
              "20              Denver        CO     83.0       Denver        CO     Joel\n",
              "30         Springfield        IL      4.0          NaN       NaN      NaN\n",
              "31                 NaN       NaN      NaN  Springfield        MO    Sally\n",
              "47           Mendocino        CA    200.0    Mendocino        CA    Brett"
            ]
          },
          "metadata": {
            "tags": []
          },
          "execution_count": 36
        }
      ]
    },
    {
      "cell_type": "markdown",
      "metadata": {
        "id": "QlxJT-WL01TE"
      },
      "source": [
        "**Joining by Index**\n",
        "\n",
        "The DataFrames revenue and managers are displayed in the IPython Shell. Here, they are indexed by 'branch_id'.\n",
        "\n",
        "Choose the function call below that will join the DataFrames on their indexes and return 5 rows with index labels [10, 20, 30, 31, 47]. \n",
        "\n",
        "Explore each of them in the IPython Shell to get a better understanding of their functionality.\n",
        "\n",
        "**Possible Answers**\n",
        "\n",
        "- [ ] pd.merge(revenue, managers, on='branch_id').\n",
        "- [ ] pd.merge(managers, revenue, how='left').\n",
        "- [x] revenue.join(managers, lsuffix='_rev', rsuffix='_mng', how='outer').\n",
        "- [ ] managers.join(revenue, lsuffix='_mgn', rsuffix='_rev', how='left')."
      ]
    },
    {
      "cell_type": "code",
      "metadata": {
        "colab": {
          "base_uri": "https://localhost:8080/",
          "height": 110
        },
        "id": "KEE9O_Sf2OtJ",
        "outputId": "33105b83-e788-45eb-bc28-c02ca865b072"
      },
      "source": [
        "students = pd.DataFrame.from_dict({'StudentID': [1, 2], \n",
        "                                   'LastName': ['Tom', 'Mary'], \n",
        "                                   'FirstName': ['Lim', 'Tan'], \n",
        "                                   'Major': ['Math', 'Science']})\n",
        "midterm_results = pd.DataFrame.from_dict({'StudentID': [1], 'Q1': [55], 'Q2': [65], 'Q3': [76]})\n",
        "grades = pd.merge(students, midterm_results, how='left')\n",
        "grades"
      ],
      "execution_count": null,
      "outputs": [
        {
          "output_type": "execute_result",
          "data": {
            "text/html": [
              "<div>\n",
              "<style scoped>\n",
              "    .dataframe tbody tr th:only-of-type {\n",
              "        vertical-align: middle;\n",
              "    }\n",
              "\n",
              "    .dataframe tbody tr th {\n",
              "        vertical-align: top;\n",
              "    }\n",
              "\n",
              "    .dataframe thead th {\n",
              "        text-align: right;\n",
              "    }\n",
              "</style>\n",
              "<table border=\"1\" class=\"dataframe\">\n",
              "  <thead>\n",
              "    <tr style=\"text-align: right;\">\n",
              "      <th></th>\n",
              "      <th>StudentID</th>\n",
              "      <th>LastName</th>\n",
              "      <th>FirstName</th>\n",
              "      <th>Major</th>\n",
              "      <th>Q1</th>\n",
              "      <th>Q2</th>\n",
              "      <th>Q3</th>\n",
              "    </tr>\n",
              "  </thead>\n",
              "  <tbody>\n",
              "    <tr>\n",
              "      <th>0</th>\n",
              "      <td>1</td>\n",
              "      <td>Tom</td>\n",
              "      <td>Lim</td>\n",
              "      <td>Math</td>\n",
              "      <td>55.0</td>\n",
              "      <td>65.0</td>\n",
              "      <td>76.0</td>\n",
              "    </tr>\n",
              "    <tr>\n",
              "      <th>1</th>\n",
              "      <td>2</td>\n",
              "      <td>Mary</td>\n",
              "      <td>Tan</td>\n",
              "      <td>Science</td>\n",
              "      <td>NaN</td>\n",
              "      <td>NaN</td>\n",
              "      <td>NaN</td>\n",
              "    </tr>\n",
              "  </tbody>\n",
              "</table>\n",
              "</div>"
            ],
            "text/plain": [
              "   StudentID LastName FirstName    Major    Q1    Q2    Q3\n",
              "0          1      Tom       Lim     Math  55.0  65.0  76.0\n",
              "1          2     Mary       Tan  Science   NaN   NaN   NaN"
            ]
          },
          "metadata": {
            "tags": []
          },
          "execution_count": 39
        }
      ]
    },
    {
      "cell_type": "markdown",
      "metadata": {
        "id": "5yrulWsJ2H1Y"
      },
      "source": [
        "**Choosing a joining strategy**\n",
        "\n",
        "Suppose you have two DataFrames: students (with columns 'StudentID', 'LastName', 'FirstName', and 'Major') and midterm_results (with columns 'StudentID', 'Q1', 'Q2', and 'Q3' for their scores on midterm questions).\n",
        "\n",
        "You want to combine the DataFrames into a single DataFrame grades, and be able to easily spot which students wrote the midterm and which didn't (their midterm question scores 'Q1', 'Q2', & 'Q3' should be filled with NaN values).\n",
        "\n",
        "You also want to drop rows from midterm_results in which the StudentID is not found in students.\n",
        "\n",
        "Which of the following strategies gives the desired result?\n",
        "\n",
        "**Possible Answers**\n",
        "\n",
        "- [x] A left join: grades = pd.merge(students, midterm_results, how='left').\n",
        "- [ ] A right join: grades = pd.merge(students, midterm_results, how='right').\n",
        "- [ ] An inner join: grades = pd.merge(students, midterm_results, how='inner').\n",
        "- [ ] An outer join: grades = pd.merge(students, midterm_results, how='outer')."
      ]
    },
    {
      "cell_type": "code",
      "metadata": {
        "colab": {
          "base_uri": "https://localhost:8080/"
        },
        "id": "yOAIjWhl0wMh",
        "outputId": "66db7d07-6ecc-4af1-ce26-d17bfbb1a4e2"
      },
      "source": [
        "# Left & right merging on multiple columns\n",
        "\n",
        "rev = {'city': ['Austin', 'Denver', 'Springfield', 'Mendocino'],\n",
        "       'branch_id': [10, 20, 30, 47],\n",
        "       'state': ['TX','CO','IL','CA'],\n",
        "       'revenue': [100, 83, 4, 200]}\n",
        "\n",
        "man = {'branch': ['Austin', 'Denver', 'Mendocino', 'Springfield'],\n",
        "       'branch_id': [10, 20, 47, 31],\n",
        "       'state': ['TX','CO','CA','MO'],\n",
        "       'manager': ['Charles', 'Joel', 'Brett', 'Sally']}\n",
        "\n",
        "sale = {'city': ['Mendocino', 'Denver', 'Austin', 'Springfield', 'Springfield'],\n",
        "        'state': ['CA', 'CO', 'TX', 'MO', 'IL'],\n",
        "        'units': [1, 4, 2, 5, 1]}\n",
        "\n",
        "revenue = pd.DataFrame.from_dict(rev)\n",
        "managers = pd.DataFrame.from_dict(man)\n",
        "sales = pd.DataFrame.from_dict(sale)\n",
        "\n",
        "# Merge revenue and sales: revenue_and_sales\n",
        "revenue_and_sales = pd.merge(revenue, sales, how='right', on=['city', 'state'], sort=True)\n",
        "\n",
        "# Print revenue_and_sales\n",
        "print(revenue_and_sales)\n",
        "\n",
        "# Merge sales and managers: sales_and_managers\n",
        "sales_and_managers = pd.merge(sales, managers, how='left', left_on=['city', 'state'], right_on=['branch', 'state'])\n",
        "\n",
        "# Print sales_and_managers\n",
        "print(sales_and_managers)"
      ],
      "execution_count": null,
      "outputs": [
        {
          "output_type": "stream",
          "text": [
            "          city  branch_id state  revenue  units\n",
            "0       Austin       10.0    TX    100.0      2\n",
            "1       Denver       20.0    CO     83.0      4\n",
            "2    Mendocino       47.0    CA    200.0      1\n",
            "3  Springfield       30.0    IL      4.0      1\n",
            "4  Springfield        NaN    MO      NaN      5\n",
            "          city state  units       branch  branch_id  manager\n",
            "0    Mendocino    CA      1    Mendocino       47.0    Brett\n",
            "1       Denver    CO      4       Denver       20.0     Joel\n",
            "2       Austin    TX      2       Austin       10.0  Charles\n",
            "3  Springfield    MO      5  Springfield       31.0    Sally\n",
            "4  Springfield    IL      1          NaN        NaN      NaN\n"
          ],
          "name": "stdout"
        }
      ]
    },
    {
      "cell_type": "code",
      "metadata": {
        "colab": {
          "base_uri": "https://localhost:8080/"
        },
        "id": "hvPVmeqY7GfE",
        "outputId": "f06f170f-bbaa-42c9-c0cb-0c8dd1050191"
      },
      "source": [
        "# Merging DataFrames with outer join\n",
        "\n",
        "# Perform the first merge: merge_default\n",
        "merge_default = pd.merge(sales_and_managers, revenue_and_sales)\n",
        "\n",
        "# Print merge_default\n",
        "print(merge_default)\n",
        "\n",
        "# Perform the second merge: merge_outer\n",
        "merge_outer = pd.merge(sales_and_managers, revenue_and_sales, how='outer')\n",
        "\n",
        "# Print merge_outer\n",
        "print(merge_outer)\n",
        "\n",
        "# Perform the third merge: merge_outer_on\n",
        "merge_outer_on = pd.merge(sales_and_managers, revenue_and_sales, on=['city', 'state'], how='outer')\n",
        "\n",
        "# Print merge_outer_on\n",
        "print(merge_outer_on)"
      ],
      "execution_count": null,
      "outputs": [
        {
          "output_type": "stream",
          "text": [
            "        city state  units     branch  branch_id  manager  revenue\n",
            "0  Mendocino    CA      1  Mendocino       47.0    Brett    200.0\n",
            "1     Denver    CO      4     Denver       20.0     Joel     83.0\n",
            "2     Austin    TX      2     Austin       10.0  Charles    100.0\n",
            "          city state  units       branch  branch_id  manager  revenue\n",
            "0    Mendocino    CA      1    Mendocino       47.0    Brett    200.0\n",
            "1       Denver    CO      4       Denver       20.0     Joel     83.0\n",
            "2       Austin    TX      2       Austin       10.0  Charles    100.0\n",
            "3  Springfield    MO      5  Springfield       31.0    Sally      NaN\n",
            "4  Springfield    IL      1          NaN        NaN      NaN      NaN\n",
            "5  Springfield    IL      1          NaN       30.0      NaN      4.0\n",
            "6  Springfield    MO      5          NaN        NaN      NaN      NaN\n",
            "          city state  units_x  ... branch_id_y  revenue units_y\n",
            "0    Mendocino    CA        1  ...        47.0    200.0       1\n",
            "1       Denver    CO        4  ...        20.0     83.0       4\n",
            "2       Austin    TX        2  ...        10.0    100.0       2\n",
            "3  Springfield    MO        5  ...         NaN      NaN       5\n",
            "4  Springfield    IL        1  ...        30.0      4.0       1\n",
            "\n",
            "[5 rows x 9 columns]\n"
          ],
          "name": "stdout"
        }
      ]
    },
    {
      "cell_type": "code",
      "metadata": {
        "colab": {
          "base_uri": "https://localhost:8080/"
        },
        "id": "rVHaESuV7Zxh",
        "outputId": "159c2e3f-533a-4956-9b40-75048c65029b"
      },
      "source": [
        "# Ordered merges\n",
        "\n",
        "austin = pd.DataFrame.from_dict({'date': ['2016-01-01', '2016-02-08', '2016-01-17'], \n",
        "                                 'ratings': ['Cloudy', 'Cloudy', 'Sunny']})\n",
        "houston = pd.DataFrame.from_dict({'date': ['2016-01-04', '2016-01-01', '2016-03-01'], \n",
        "                                  'ratings': ['Rainy', 'Cloudy', 'Sunny']})\n",
        "\n",
        "# Perform the first ordered merge: tx_weather\n",
        "tx_weather = pd.merge_ordered(austin, houston)\n",
        "\n",
        "# Print tx_weather\n",
        "print(tx_weather)\n",
        "\n",
        "# Perform the second ordered merge: tx_weather_suff\n",
        "tx_weather_suff = pd.merge_ordered(austin, houston, on='date', suffixes=['_aus','_hus'])\n",
        "\n",
        "# Print tx_weather_suff\n",
        "print(tx_weather_suff)\n",
        "\n",
        "# Perform the third ordered merge: tx_weather_ffill\n",
        "tx_weather_ffill = pd.merge_ordered(austin, houston, on='date', suffixes=['_aus','_hus'], fill_method='ffill')\n",
        "\n",
        "# Print tx_weather_ffill\n",
        "print(tx_weather_ffill)"
      ],
      "execution_count": null,
      "outputs": [
        {
          "output_type": "stream",
          "text": [
            "         date ratings\n",
            "0  2016-01-01  Cloudy\n",
            "1  2016-01-04   Rainy\n",
            "2  2016-01-17   Sunny\n",
            "3  2016-02-08  Cloudy\n",
            "4  2016-03-01   Sunny\n",
            "         date ratings_aus ratings_hus\n",
            "0  2016-01-01      Cloudy      Cloudy\n",
            "1  2016-01-04         NaN       Rainy\n",
            "2  2016-01-17       Sunny         NaN\n",
            "3  2016-02-08      Cloudy         NaN\n",
            "4  2016-03-01         NaN       Sunny\n",
            "         date ratings_aus ratings_hus\n",
            "0  2016-01-01      Cloudy      Cloudy\n",
            "1  2016-01-04      Cloudy       Rainy\n",
            "2  2016-01-17       Sunny       Rainy\n",
            "3  2016-02-08      Cloudy       Rainy\n",
            "4  2016-03-01      Cloudy       Sunny\n"
          ],
          "name": "stdout"
        }
      ]
    },
    {
      "cell_type": "code",
      "metadata": {
        "colab": {
          "base_uri": "https://localhost:8080/"
        },
        "id": "L2Y1Je0k8HO7",
        "outputId": "51452376-61e1-46f7-bef8-a2fdbf11f65b"
      },
      "source": [
        "# Using merge_asof()\n",
        "\n",
        "oil_price_file = 'https://raw.githubusercontent.com/chesterheng/ai-for-industry/main/datasets/oil_price.csv'\n",
        "auto_fuel_file = 'https://raw.githubusercontent.com/chesterheng/ai-for-industry/main/datasets/automobiles.csv'\n",
        "\n",
        "oil = pd.read_csv(oil_price_file, parse_dates=['Date'])\n",
        "auto = pd.read_csv(auto_fuel_file, parse_dates=['yr'])\n",
        "\n",
        "# Merge auto and oil: merged\n",
        "merged = pd.merge_asof(auto, oil, left_on='yr', right_on='Date')\n",
        "\n",
        "# Print the tail of merged\n",
        "print(merged.tail())\n",
        "\n",
        "# Resample merged: yearly\n",
        "yearly = merged.resample('A', on='Date')[['mpg','Price']].mean()\n",
        "\n",
        "# Print yearly\n",
        "print(yearly)\n",
        "\n",
        "# print yearly.corr()\n",
        "print(yearly.corr())"
      ],
      "execution_count": null,
      "outputs": [
        {
          "output_type": "stream",
          "text": [
            "      mpg  cyl  displ  hp  ...  origin             name       Date  Price\n",
            "387  27.0    4  140.0  86  ...      US  ford mustang gl 1982-01-01  33.85\n",
            "388  44.0    4   97.0  52  ...  Europe        vw pickup 1982-01-01  33.85\n",
            "389  32.0    4  135.0  84  ...      US    dodge rampage 1982-01-01  33.85\n",
            "390  28.0    4  120.0  79  ...      US      ford ranger 1982-01-01  33.85\n",
            "391  31.0    4  119.0  82  ...      US       chevy s-10 1982-01-01  33.85\n",
            "\n",
            "[5 rows x 11 columns]\n",
            "                  mpg  Price\n",
            "Date                        \n",
            "1970-12-31  17.689655   3.35\n",
            "1971-12-31  21.111111   3.56\n",
            "1972-12-31  18.714286   3.56\n",
            "1973-12-31  17.100000   3.56\n",
            "1974-12-31  22.769231  10.11\n",
            "1975-12-31  20.266667  11.16\n",
            "1976-12-31  21.573529  11.16\n",
            "1977-12-31  23.375000  13.90\n",
            "1978-12-31  24.061111  14.85\n",
            "1979-12-31  25.093103  14.85\n",
            "1980-12-31  33.803704  32.50\n",
            "1981-12-31  30.185714  38.00\n",
            "1982-12-31  32.000000  33.85\n",
            "            mpg     Price\n",
            "mpg    1.000000  0.948677\n",
            "Price  0.948677  1.000000\n"
          ],
          "name": "stdout"
        }
      ]
    },
    {
      "cell_type": "markdown",
      "metadata": {
        "id": "n3WCoOyy_8jF"
      },
      "source": [
        "## 4. Case Study - Summer Olympics"
      ]
    },
    {
      "cell_type": "code",
      "metadata": {
        "colab": {
          "base_uri": "https://localhost:8080/"
        },
        "id": "OS8EeR8L_-rR",
        "outputId": "e7aeef9d-92ef-4562-ef4e-5e03abb461e8"
      },
      "source": [
        "# Loading Olympic edition DataFrame\n",
        "\n",
        "#Import pandas\n",
        "import pandas as pd\n",
        "\n",
        "# Create file path: file_path\n",
        "file_path = 'https://raw.githubusercontent.com/chesterheng/ai-for-industry/main/datasets/Summer%20Olympic%20medalists%201896%20to%202008%20-%20EDITIONS.tsv'\n",
        "\n",
        "# Load DataFrame from file_path: editions\n",
        "editions = pd.read_csv(file_path, sep='\\t')\n",
        "\n",
        "# Extract the relevant columns: editions\n",
        "editions = editions[['Edition', 'Grand Total', 'City', 'Country']]\n",
        "\n",
        "# Print editions DataFrame\n",
        "print(editions)"
      ],
      "execution_count": null,
      "outputs": [
        {
          "output_type": "stream",
          "text": [
            "    Edition  Grand Total         City                     Country\n",
            "0      1896          151       Athens                      Greece\n",
            "1      1900          512        Paris                      France\n",
            "2      1904          470    St. Louis               United States\n",
            "3      1908          804       London              United Kingdom\n",
            "4      1912          885    Stockholm                      Sweden\n",
            "5      1920         1298      Antwerp                     Belgium\n",
            "6      1924          884        Paris                      France\n",
            "7      1928          710    Amsterdam                 Netherlands\n",
            "8      1932          615  Los Angeles               United States\n",
            "9      1936          875       Berlin                     Germany\n",
            "10     1948          814       London              United Kingdom\n",
            "11     1952          889     Helsinki                     Finland\n",
            "12     1956          885    Melbourne                   Australia\n",
            "13     1960          882         Rome                       Italy\n",
            "14     1964         1010        Tokyo                       Japan\n",
            "15     1968         1031  Mexico City                      Mexico\n",
            "16     1972         1185       Munich  West Germany (now Germany)\n",
            "17     1976         1305     Montreal                      Canada\n",
            "18     1980         1387       Moscow       U.S.S.R. (now Russia)\n",
            "19     1984         1459  Los Angeles               United States\n",
            "20     1988         1546        Seoul                 South Korea\n",
            "21     1992         1705    Barcelona                       Spain\n",
            "22     1996         1859      Atlanta               United States\n",
            "23     2000         2015       Sydney                   Australia\n",
            "24     2004         1998       Athens                      Greece\n",
            "25     2008         2042      Beijing                       China\n"
          ],
          "name": "stdout"
        }
      ]
    },
    {
      "cell_type": "code",
      "metadata": {
        "colab": {
          "base_uri": "https://localhost:8080/"
        },
        "id": "SeleRCWSH0ky",
        "outputId": "117ec450-63e7-4a89-e30e-a71db4229577"
      },
      "source": [
        "# Loading IOC codes DataFrame\n",
        "\n",
        "# Import pandas\n",
        "import pandas as pd\n",
        "\n",
        "# Create the file path: file_path\n",
        "file_path = 'https://raw.githubusercontent.com/chesterheng/ai-for-industry/main/datasets/Summer%20Olympic%20medalists%201896%20to%202008%20-%20IOC%20COUNTRY%20CODES.csv'\n",
        "\n",
        "# Load DataFrame from file_path: ioc_codes\n",
        "ioc_codes = pd.read_csv(file_path)\n",
        "\n",
        "# Extract the relevant columns: ioc_codes\n",
        "ioc_codes = ioc_codes[['Country', 'NOC']]\n",
        "\n",
        "# Print first and last 5 rows of ioc_codes\n",
        "print(ioc_codes.head())\n",
        "print(ioc_codes.tail())"
      ],
      "execution_count": null,
      "outputs": [
        {
          "output_type": "stream",
          "text": [
            "           Country  NOC\n",
            "0      Afghanistan  AFG\n",
            "1          Albania  ALB\n",
            "2          Algeria  ALG\n",
            "3  American Samoa*  ASA\n",
            "4          Andorra  AND\n",
            "             Country  NOC\n",
            "196          Vietnam  VIE\n",
            "197  Virgin Islands*  ISV\n",
            "198            Yemen  YEM\n",
            "199           Zambia  ZAM\n",
            "200         Zimbabwe  ZIM\n"
          ],
          "name": "stdout"
        }
      ]
    },
    {
      "cell_type": "code",
      "metadata": {
        "colab": {
          "base_uri": "https://localhost:8080/",
          "height": 202
        },
        "id": "F9dCVWPMJBXM",
        "outputId": "5426fc1e-3336-4a4f-d1f1-7f11ec4b55e8"
      },
      "source": [
        "# Building medals DataFrame\n",
        "\n",
        "import pandas as pd\n",
        "so_all_medalists_file = 'https://raw.githubusercontent.com/chesterheng/ai-for-industry/main/datasets/Summer%20Olympic%20medalists%201896%20to%202008%20-%20ALL%20MEDALISTS.tsv'\n",
        "\n",
        "medals = pd.read_csv(so_all_medalists_file, sep='\\t', header=4)\n",
        "medals = medals[['Athlete', 'NOC', 'Medal', 'Edition']]\n",
        "\n",
        "# # Import pandas\n",
        "# import pandas as pd\n",
        "\n",
        "# # Create empty dictionary: medals_dict\n",
        "# medals_dict = {}\n",
        "\n",
        "# for year in editions['Edition']:\n",
        "\n",
        "#     # Create the file path: file_path\n",
        "#     file_path = 'summer_{:d}.csv'.format(year)\n",
        "    \n",
        "#     # Load file_path into a DataFrame: medals_dict[year]\n",
        "#     medals_dict[year] = pd.read_csv(file_path)\n",
        "    \n",
        "#     # Extract relevant columns: medals_dict[year]\n",
        "#     medals_dict[year] = medals_dict[year][['Athlete', 'NOC', 'Medal']]\n",
        "    \n",
        "#     # Assign year to column 'Edition' of medals_dict\n",
        "#     medals_dict[year]['Edition'] = year\n",
        "    \n",
        "# # Concatenate medals_dict: medals\n",
        "# medals = pd.concat(medals_dict, ignore_index=True)\n",
        "\n",
        "# # Print first and last 5 rows of medals\n",
        "# print(medals.head())\n",
        "# print(medals.tail())"
      ],
      "execution_count": null,
      "outputs": [
        {
          "output_type": "execute_result",
          "data": {
            "text/html": [
              "<div>\n",
              "<style scoped>\n",
              "    .dataframe tbody tr th:only-of-type {\n",
              "        vertical-align: middle;\n",
              "    }\n",
              "\n",
              "    .dataframe tbody tr th {\n",
              "        vertical-align: top;\n",
              "    }\n",
              "\n",
              "    .dataframe thead th {\n",
              "        text-align: right;\n",
              "    }\n",
              "</style>\n",
              "<table border=\"1\" class=\"dataframe\">\n",
              "  <thead>\n",
              "    <tr style=\"text-align: right;\">\n",
              "      <th></th>\n",
              "      <th>Athlete</th>\n",
              "      <th>NOC</th>\n",
              "      <th>Medal</th>\n",
              "      <th>Edition</th>\n",
              "    </tr>\n",
              "  </thead>\n",
              "  <tbody>\n",
              "    <tr>\n",
              "      <th>0</th>\n",
              "      <td>HAJOS, Alfred</td>\n",
              "      <td>HUN</td>\n",
              "      <td>Gold</td>\n",
              "      <td>1896</td>\n",
              "    </tr>\n",
              "    <tr>\n",
              "      <th>1</th>\n",
              "      <td>HERSCHMANN, Otto</td>\n",
              "      <td>AUT</td>\n",
              "      <td>Silver</td>\n",
              "      <td>1896</td>\n",
              "    </tr>\n",
              "    <tr>\n",
              "      <th>2</th>\n",
              "      <td>DRIVAS, Dimitrios</td>\n",
              "      <td>GRE</td>\n",
              "      <td>Bronze</td>\n",
              "      <td>1896</td>\n",
              "    </tr>\n",
              "    <tr>\n",
              "      <th>3</th>\n",
              "      <td>MALOKINIS, Ioannis</td>\n",
              "      <td>GRE</td>\n",
              "      <td>Gold</td>\n",
              "      <td>1896</td>\n",
              "    </tr>\n",
              "    <tr>\n",
              "      <th>4</th>\n",
              "      <td>CHASAPIS, Spiridon</td>\n",
              "      <td>GRE</td>\n",
              "      <td>Silver</td>\n",
              "      <td>1896</td>\n",
              "    </tr>\n",
              "  </tbody>\n",
              "</table>\n",
              "</div>"
            ],
            "text/plain": [
              "              Athlete  NOC   Medal  Edition\n",
              "0       HAJOS, Alfred  HUN    Gold     1896\n",
              "1    HERSCHMANN, Otto  AUT  Silver     1896\n",
              "2   DRIVAS, Dimitrios  GRE  Bronze     1896\n",
              "3  MALOKINIS, Ioannis  GRE    Gold     1896\n",
              "4  CHASAPIS, Spiridon  GRE  Silver     1896"
            ]
          },
          "metadata": {
            "tags": []
          },
          "execution_count": 71
        }
      ]
    },
    {
      "cell_type": "code",
      "metadata": {
        "colab": {
          "base_uri": "https://localhost:8080/"
        },
        "id": "ShRPn8FlNo2p",
        "outputId": "4bebcd5a-6da5-46cd-b3db-06a0e13eebe4"
      },
      "source": [
        "# Quantifying performance\n",
        "\n",
        "import pandas as pd\n",
        "so_all_medalists_file = 'https://raw.githubusercontent.com/chesterheng/ai-for-industry/main/datasets/Summer%20Olympic%20medalists%201896%20to%202008%20-%20ALL%20MEDALISTS.tsv'\n",
        "\n",
        "medals = pd.read_csv(so_all_medalists_file, sep='\\t', header=4)\n",
        "medals = medals[['Athlete', 'NOC', 'Medal', 'Edition']]\n",
        "\n",
        "# Construct the pivot_table: medal_counts\n",
        "medal_counts = medals.pivot_table(index='Edition', columns='NOC', values='Athlete', aggfunc='count')\n",
        "\n",
        "# Print the first & last 5 rows of medal_counts\n",
        "print(medal_counts.head())\n",
        "print(medal_counts.tail())"
      ],
      "execution_count": null,
      "outputs": [
        {
          "output_type": "stream",
          "text": [
            "NOC      AFG  AHO  ALG   ANZ  ARG  ARM  AUS  ...  UZB  VEN  VIE  YUG  ZAM  ZIM   ZZX\n",
            "Edition                                      ...                                    \n",
            "1896     NaN  NaN  NaN   NaN  NaN  NaN  2.0  ...  NaN  NaN  NaN  NaN  NaN  NaN   6.0\n",
            "1900     NaN  NaN  NaN   NaN  NaN  NaN  5.0  ...  NaN  NaN  NaN  NaN  NaN  NaN  34.0\n",
            "1904     NaN  NaN  NaN   NaN  NaN  NaN  NaN  ...  NaN  NaN  NaN  NaN  NaN  NaN   8.0\n",
            "1908     NaN  NaN  NaN  19.0  NaN  NaN  NaN  ...  NaN  NaN  NaN  NaN  NaN  NaN   NaN\n",
            "1912     NaN  NaN  NaN  10.0  NaN  NaN  NaN  ...  NaN  NaN  NaN  NaN  NaN  NaN   NaN\n",
            "\n",
            "[5 rows x 138 columns]\n",
            "NOC      AFG  AHO  ALG  ANZ   ARG  ARM  ...  VEN  VIE   YUG  ZAM  ZIM  ZZX\n",
            "Edition                                 ...                               \n",
            "1992     NaN  NaN  2.0  NaN   2.0  NaN  ...  NaN  NaN   NaN  NaN  NaN  NaN\n",
            "1996     NaN  NaN  3.0  NaN  20.0  2.0  ...  NaN  NaN  26.0  1.0  NaN  NaN\n",
            "2000     NaN  NaN  5.0  NaN  20.0  1.0  ...  NaN  1.0  26.0  NaN  NaN  NaN\n",
            "2004     NaN  NaN  NaN  NaN  47.0  NaN  ...  2.0  NaN   NaN  NaN  3.0  NaN\n",
            "2008     1.0  NaN  2.0  NaN  51.0  6.0  ...  1.0  1.0   NaN  NaN  4.0  NaN\n",
            "\n",
            "[5 rows x 138 columns]\n"
          ],
          "name": "stdout"
        }
      ]
    },
    {
      "cell_type": "code",
      "metadata": {
        "colab": {
          "base_uri": "https://localhost:8080/"
        },
        "id": "2IKtZEHQPeM4",
        "outputId": "40a0a52c-48c0-49f7-86a8-f58b38a7b01b"
      },
      "source": [
        "# Computing fraction of medals per Olympic edition\n",
        "\n",
        "import pandas as pd\n",
        "file_path = 'https://raw.githubusercontent.com/chesterheng/ai-for-industry/main/datasets/Summer%20Olympic%20medalists%201896%20to%202008%20-%20EDITIONS.tsv'\n",
        "editions = pd.read_csv(file_path, sep='\\t')\n",
        "editions = editions[['Edition', 'Grand Total', 'City', 'Country']]\n",
        "\n",
        "# Set Index of editions: totals\n",
        "totals = editions.set_index('Edition')\n",
        "\n",
        "# Reassign totals['Grand Total']: totals\n",
        "totals = totals['Grand Total']\n",
        "\n",
        "# Divide medal_counts by totals: fractions\n",
        "fractions = medal_counts.divide(totals, axis='rows')\n",
        "\n",
        "# Print first & last 5 rows of fractions\n",
        "print(fractions.head())\n",
        "print(fractions.tail())"
      ],
      "execution_count": null,
      "outputs": [
        {
          "output_type": "stream",
          "text": [
            "NOC      AFG  AHO  ALG       ANZ  ARG  ARM  ...  VEN  VIE  YUG  ZAM  ZIM       ZZX\n",
            "Edition                                     ...                                   \n",
            "1896     NaN  NaN  NaN       NaN  NaN  NaN  ...  NaN  NaN  NaN  NaN  NaN  0.039735\n",
            "1900     NaN  NaN  NaN       NaN  NaN  NaN  ...  NaN  NaN  NaN  NaN  NaN  0.066406\n",
            "1904     NaN  NaN  NaN       NaN  NaN  NaN  ...  NaN  NaN  NaN  NaN  NaN  0.017021\n",
            "1908     NaN  NaN  NaN  0.023632  NaN  NaN  ...  NaN  NaN  NaN  NaN  NaN       NaN\n",
            "1912     NaN  NaN  NaN  0.011299  NaN  NaN  ...  NaN  NaN  NaN  NaN  NaN       NaN\n",
            "\n",
            "[5 rows x 138 columns]\n",
            "NOC          AFG  AHO       ALG  ANZ  ...       YUG       ZAM       ZIM  ZZX\n",
            "Edition                               ...                                   \n",
            "1992         NaN  NaN  0.001173  NaN  ...       NaN       NaN       NaN  NaN\n",
            "1996         NaN  NaN  0.001614  NaN  ...  0.013986  0.000538       NaN  NaN\n",
            "2000         NaN  NaN  0.002481  NaN  ...  0.012903       NaN       NaN  NaN\n",
            "2004         NaN  NaN       NaN  NaN  ...       NaN       NaN  0.001502  NaN\n",
            "2008     0.00049  NaN  0.000979  NaN  ...       NaN       NaN  0.001959  NaN\n",
            "\n",
            "[5 rows x 138 columns]\n"
          ],
          "name": "stdout"
        }
      ]
    },
    {
      "cell_type": "code",
      "metadata": {
        "colab": {
          "base_uri": "https://localhost:8080/"
        },
        "id": "sUedH7HGQvYK",
        "outputId": "4a20985e-2c6f-4ef5-edfd-b81abea8008b"
      },
      "source": [
        "# Computing percentage change in fraction of medals won\n",
        "\n",
        "import pandas as pd\n",
        "file_path = 'https://raw.githubusercontent.com/chesterheng/ai-for-industry/main/datasets/Summer%20Olympic%20medalists%201896%20to%202008%20-%20EDITIONS.tsv'\n",
        "editions = pd.read_csv(file_path, sep='\\t')\n",
        "editions = editions[['Edition', 'Grand Total', 'City', 'Country']]\n",
        "totals = editions.set_index('Edition')\n",
        "totals = totals['Grand Total']\n",
        "fractions = medal_counts.divide(totals, axis='rows')\n",
        "\n",
        "# Apply the expanding mean: mean_fractions\n",
        "mean_fractions = fractions.expanding().mean()\n",
        "\n",
        "# Compute the percentage change: fractions_change\n",
        "fractions_change = mean_fractions.pct_change() * 100\n",
        "\n",
        "# Reset the index of fractions_change: fractions_change\n",
        "fractions_change = fractions_change.reset_index()\n",
        "\n",
        "# Print first & last 5 rows of fractions_change\n",
        "print(fractions_change.head())\n",
        "print(fractions_change.tail())"
      ],
      "execution_count": null,
      "outputs": [
        {
          "output_type": "stream",
          "text": [
            "NOC  Edition  AFG  AHO  ALG        ANZ  ARG  ...  VEN  VIE  YUG  ZAM  ZIM        ZZX\n",
            "0       1896  NaN  NaN  NaN        NaN  NaN  ...  NaN  NaN  NaN  NaN  NaN        NaN\n",
            "1       1900  NaN  NaN  NaN        NaN  NaN  ...  NaN  NaN  NaN  NaN  NaN  33.561198\n",
            "2       1904  NaN  NaN  NaN        NaN  NaN  ...  NaN  NaN  NaN  NaN  NaN -22.642384\n",
            "3       1908  NaN  NaN  NaN        NaN  NaN  ...  NaN  NaN  NaN  NaN  NaN   0.000000\n",
            "4       1912  NaN  NaN  NaN -26.092774  NaN  ...  NaN  NaN  NaN  NaN  NaN   0.000000\n",
            "\n",
            "[5 rows x 139 columns]\n",
            "NOC  Edition  AFG  AHO        ALG  ...       YUG        ZAM        ZIM  ZZX\n",
            "21      1992  NaN  0.0  -7.214076  ...  0.000000   0.000000   0.000000  0.0\n",
            "22      1996  NaN  0.0   8.959211  ... -2.667732 -10.758472   0.000000  0.0\n",
            "23      2000  NaN  0.0  19.762488  ... -2.696445   0.000000   0.000000  0.0\n",
            "24      2004  NaN  0.0   0.000000  ...  0.000000   0.000000 -43.491929  0.0\n",
            "25      2008  NaN  0.0  -8.197807  ...  0.000000   0.000000 -23.316533  0.0\n",
            "\n",
            "[5 rows x 139 columns]\n"
          ],
          "name": "stdout"
        }
      ]
    },
    {
      "cell_type": "code",
      "metadata": {
        "colab": {
          "base_uri": "https://localhost:8080/"
        },
        "id": "yHRPlAhpRNDa",
        "outputId": "40e8a458-9d2d-4003-8398-5573167c73c1"
      },
      "source": [
        "# Reshaping and plotting\n",
        "\n",
        "# Building hosts DataFrame\n",
        "\n",
        "# Import pandas\n",
        "import pandas as pd\n",
        "\n",
        "file_path = 'https://raw.githubusercontent.com/chesterheng/ai-for-industry/main/datasets/Summer%20Olympic%20medalists%201896%20to%202008%20-%20EDITIONS.tsv'\n",
        "editions = pd.read_csv(file_path, sep='\\t')\n",
        "editions = editions[['Edition', 'Grand Total', 'City', 'Country']]\n",
        "\n",
        "# Create the file path: file_path\n",
        "file_path = 'https://raw.githubusercontent.com/chesterheng/ai-for-industry/main/datasets/Summer%20Olympic%20medalists%201896%20to%202008%20-%20IOC%20COUNTRY%20CODES.csv'\n",
        "ioc_codes = pd.read_csv(file_path)\n",
        "ioc_codes = ioc_codes[['Country', 'NOC']]\n",
        "\n",
        "# Left join editions and ioc_codes: hosts\n",
        "hosts = pd.merge(editions, ioc_codes, how='left')\n",
        "\n",
        "# Extract relevant columns and set index: hosts\n",
        "hosts = hosts[['Edition', 'NOC']].set_index('Edition')\n",
        "\n",
        "# Fix missing 'NOC' values of hosts\n",
        "print(hosts.loc[hosts.NOC.isnull()])\n",
        "hosts.loc[1972, 'NOC'] = 'FRG'\n",
        "hosts.loc[1980, 'NOC'] = 'URS'\n",
        "hosts.loc[1988, 'NOC'] = 'KOR'\n",
        "\n",
        "# Reset Index of hosts: hosts\n",
        "hosts = hosts.reset_index()\n",
        "\n",
        "# Print hosts\n",
        "print(hosts)"
      ],
      "execution_count": null,
      "outputs": [
        {
          "output_type": "stream",
          "text": [
            "         NOC\n",
            "Edition     \n",
            "1972     NaN\n",
            "1980     NaN\n",
            "1988     NaN\n",
            "    Edition  NOC\n",
            "0      1896  GRE\n",
            "1      1900  FRA\n",
            "2      1904  USA\n",
            "3      1908  GBR\n",
            "4      1912  SWE\n",
            "5      1920  BEL\n",
            "6      1924  FRA\n",
            "7      1928  NED\n",
            "8      1932  USA\n",
            "9      1936  GER\n",
            "10     1948  GBR\n",
            "11     1952  FIN\n",
            "12     1956  AUS\n",
            "13     1960  ITA\n",
            "14     1964  JPN\n",
            "15     1968  MEX\n",
            "16     1972  FRG\n",
            "17     1976  CAN\n",
            "18     1980  URS\n",
            "19     1984  USA\n",
            "20     1988  KOR\n",
            "21     1992  ESP\n",
            "22     1996  USA\n",
            "23     2000  AUS\n",
            "24     2004  GRE\n",
            "25     2008  CHN\n"
          ],
          "name": "stdout"
        }
      ]
    },
    {
      "cell_type": "code",
      "metadata": {
        "colab": {
          "base_uri": "https://localhost:8080/"
        },
        "id": "-cmo4DLjSCxH",
        "outputId": "0af10ae4-3329-4e12-ad3d-8e34500cbc9e"
      },
      "source": [
        "# Reshaping for analysis\n",
        "\n",
        "# Import pandas\n",
        "import pandas as pd\n",
        "\n",
        "# Reshape fractions_change: reshaped\n",
        "reshaped = pd.melt(fractions_change, id_vars='Edition', value_name='Change')\n",
        "\n",
        "# Print reshaped.shape and fractions_change.shape\n",
        "print(reshaped.shape, fractions_change.shape)\n",
        "\n",
        "# Extract rows from reshaped where 'NOC' == 'CHN': chn\n",
        "chn = reshaped[reshaped.NOC == 'CHN']\n",
        "\n",
        "# Print last 5 rows of chn with .tail()\n",
        "print(chn.tail())"
      ],
      "execution_count": null,
      "outputs": [
        {
          "output_type": "stream",
          "text": [
            "(3588, 3) (26, 139)\n",
            "     Edition  NOC     Change\n",
            "567     1992  CHN   4.240630\n",
            "568     1996  CHN   7.860247\n",
            "569     2000  CHN  -3.851278\n",
            "570     2004  CHN   0.128863\n",
            "571     2008  CHN  13.251332\n"
          ],
          "name": "stdout"
        }
      ]
    },
    {
      "cell_type": "code",
      "metadata": {
        "colab": {
          "base_uri": "https://localhost:8080/"
        },
        "id": "Wb1y0gvzTDeO",
        "outputId": "6df3fbab-af5a-47ef-abc4-295100667a0c"
      },
      "source": [
        "# Merging to compute influence\n",
        "\n",
        "# Import pandas\n",
        "import pandas as pd\n",
        "\n",
        "# Merge reshaped and hosts: merged\n",
        "merged = pd.merge(reshaped, hosts, how='inner')\n",
        "\n",
        "# Print first 5 rows of merged\n",
        "print(merged.head())\n",
        "\n",
        "# Set Index of merged and sort it: influence\n",
        "influence = merged.set_index('Edition').sort_index()\n",
        "\n",
        "# Print first 5 rows of influence\n",
        "print(influence.head())"
      ],
      "execution_count": null,
      "outputs": [
        {
          "output_type": "stream",
          "text": [
            "   Edition  NOC     Change\n",
            "0     1956  AUS  54.615063\n",
            "1     2000  AUS  12.554986\n",
            "2     1920  BEL  54.757887\n",
            "3     1976  CAN  -2.143977\n",
            "4     2008  CHN  13.251332\n",
            "         NOC      Change\n",
            "Edition                 \n",
            "1896     GRE         NaN\n",
            "1900     FRA  198.002486\n",
            "1904     USA  199.651245\n",
            "1908     GBR  134.489218\n",
            "1912     SWE   71.896226\n"
          ],
          "name": "stdout"
        }
      ]
    },
    {
      "cell_type": "code",
      "metadata": {
        "colab": {
          "base_uri": "https://localhost:8080/",
          "height": 345
        },
        "id": "yaZjE18mTPTY",
        "outputId": "544c7ef7-84c6-4a4f-eee3-ac07a32c3129"
      },
      "source": [
        "# Plotting influence of host country\n",
        "\n",
        "# Import pyplot\n",
        "import matplotlib.pyplot as plt\n",
        "\n",
        "# Extract influence['Change']: change\n",
        "change = influence['Change']\n",
        "\n",
        "# Make bar plot of change: ax\n",
        "ax = change.plot(kind='bar')\n",
        "\n",
        "# Customize the plot to improve readability\n",
        "ax.set_ylabel(\"% Change of Host Country Medal Count\")\n",
        "ax.set_title(\"Is there a Host Country Advantage?\")\n",
        "ax.set_xticklabels(editions['City'])\n",
        "\n",
        "# Display the plot\n",
        "plt.show()"
      ],
      "execution_count": null,
      "outputs": [
        {
          "output_type": "display_data",
          "data": {
            "image/png": "[encoded data removed]",
            "text/plain": [
              "<Figure size 432x288 with 1 Axes>"
            ]
          },
          "metadata": {
            "tags": [],
            "needs_background": "light"
          }
        }
      ]
    },
    {
      "cell_type": "code",
      "metadata": {
        "colab": {
          "base_uri": "https://localhost:8080/",
          "height": 511
        },
        "id": "AeWHOYYoUEXI",
        "outputId": "8db1512e-ddb0-4184-a329-b8821d2d60fa"
      },
      "source": [
        "# AI4I-2-Q: Libraries and Data Manipulation Quiz\n",
        "\n",
        "import numpy as np\n",
        "import pandas as pd\n",
        "import matplotlib.pyplot as plt\n",
        "\n",
        "filename = 'https://raw.githubusercontent.com/chesterheng/ai-for-industry/main/datasets/patient.txt'\n",
        "df = pd.read_csv(filename, sep=\"#\", index_col=0)\n",
        "\n",
        "df.boxplot(column = ['Glucose'], by=['Outcome'])\n",
        "plt.xlabel('Diabetic Condition')\n",
        "plt.ylabel('Glucose Level')\n",
        "plt.show()\n",
        "\n",
        "bins = [0, 80, 90, 120, 200]\n",
        "bin_labels = ['Normal', 'High Blood Pressure 1', 'High Blood Pressure 2', 'Hypertensive']\n",
        "bp_status = pd.cut(df_main.BloodPressure, bins=bins).value_counts() \n",
        "bp_status.index = bin_labels\n",
        "\n",
        "new_features = {'patient_id': [163, 348, 395, 187, 342],\n",
        "                'BMI': [34.1, 35.0, 25.9, 22.5, 31.6],\n",
        "                'Age': [38, 43, 24, 21, 75]}\n",
        "\n",
        "df_new_features = pd.DataFrame.from_dict(new_features)\n",
        "combined = df.merge(df_new_features, on='patient_id').sort_values(by=['Age','BMI'])\n",
        "\n",
        "# working_age = combined.Age <= 65\n",
        "# combined_filtered = combined[working_age]\n",
        "# combined_filtered = combined[combined['Age'] <= 65].sort_index()\n",
        "combined_filtered = combined.loc[combined.Age <= 65].sort_index()\n",
        "combined_filtered"
      ],
      "execution_count": null,
      "outputs": [
        {
          "output_type": "stream",
          "text": [
            "/usr/local/lib/python3.7/dist-packages/numpy/core/_asarray.py:83: VisibleDeprecationWarning: Creating an ndarray from ragged nested sequences (which is a list-or-tuple of lists-or-tuples-or ndarrays with different lengths or shapes) is deprecated. If you meant to do this, you must specify 'dtype=object' when creating the ndarray\n",
            "  return array(a, dtype, copy=False, order=order)\n"
          ],
          "name": "stderr"
        },
        {
          "output_type": "display_data",
          "data": {
            "image/png": "[encoded data removed]",
            "text/plain": [
              "<Figure size 432x288 with 1 Axes>"
            ]
          },
          "metadata": {
            "tags": [],
            "needs_background": "light"
          }
        },
        {
          "output_type": "execute_result",
          "data": {
            "text/html": [
              "<div>\n",
              "<style scoped>\n",
              "    .dataframe tbody tr th:only-of-type {\n",
              "        vertical-align: middle;\n",
              "    }\n",
              "\n",
              "    .dataframe tbody tr th {\n",
              "        vertical-align: top;\n",
              "    }\n",
              "\n",
              "    .dataframe thead th {\n",
              "        text-align: right;\n",
              "    }\n",
              "</style>\n",
              "<table border=\"1\" class=\"dataframe\">\n",
              "  <thead>\n",
              "    <tr style=\"text-align: right;\">\n",
              "      <th></th>\n",
              "      <th>patient_id</th>\n",
              "      <th>Pregnancies</th>\n",
              "      <th>Glucose</th>\n",
              "      <th>BloodPressure</th>\n",
              "      <th>SkinThickness</th>\n",
              "      <th>Insulin</th>\n",
              "      <th>DiabetesPedigreeFunction</th>\n",
              "      <th>Outcome</th>\n",
              "      <th>BMI</th>\n",
              "      <th>Age</th>\n",
              "    </tr>\n",
              "  </thead>\n",
              "  <tbody>\n",
              "    <tr>\n",
              "      <th>0</th>\n",
              "      <td>163</td>\n",
              "      <td>0</td>\n",
              "      <td>114</td>\n",
              "      <td>80</td>\n",
              "      <td>34</td>\n",
              "      <td>285</td>\n",
              "      <td>0.167</td>\n",
              "      <td>0</td>\n",
              "      <td>34.1</td>\n",
              "      <td>38</td>\n",
              "    </tr>\n",
              "    <tr>\n",
              "      <th>1</th>\n",
              "      <td>348</td>\n",
              "      <td>3</td>\n",
              "      <td>116</td>\n",
              "      <td>0</td>\n",
              "      <td>0</td>\n",
              "      <td>0</td>\n",
              "      <td>0.187</td>\n",
              "      <td>0</td>\n",
              "      <td>35.0</td>\n",
              "      <td>43</td>\n",
              "    </tr>\n",
              "    <tr>\n",
              "      <th>2</th>\n",
              "      <td>395</td>\n",
              "      <td>4</td>\n",
              "      <td>158</td>\n",
              "      <td>78</td>\n",
              "      <td>0</td>\n",
              "      <td>0</td>\n",
              "      <td>0.803</td>\n",
              "      <td>1</td>\n",
              "      <td>25.9</td>\n",
              "      <td>24</td>\n",
              "    </tr>\n",
              "    <tr>\n",
              "      <th>3</th>\n",
              "      <td>187</td>\n",
              "      <td>8</td>\n",
              "      <td>181</td>\n",
              "      <td>68</td>\n",
              "      <td>36</td>\n",
              "      <td>495</td>\n",
              "      <td>0.615</td>\n",
              "      <td>1</td>\n",
              "      <td>22.5</td>\n",
              "      <td>21</td>\n",
              "    </tr>\n",
              "  </tbody>\n",
              "</table>\n",
              "</div>"
            ],
            "text/plain": [
              "   patient_id  Pregnancies  Glucose  ...  Outcome   BMI  Age\n",
              "0         163            0      114  ...        0  34.1   38\n",
              "1         348            3      116  ...        0  35.0   43\n",
              "2         395            4      158  ...        1  25.9   24\n",
              "3         187            8      181  ...        1  22.5   21\n",
              "\n",
              "[4 rows x 10 columns]"
            ]
          },
          "metadata": {
            "tags": []
          },
          "execution_count": 110
        }
      ]
    }
  ]
}