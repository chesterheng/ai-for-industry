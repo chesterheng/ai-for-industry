{
  "nbformat": 4,
  "nbformat_minor": 0,
  "metadata": {
    "colab": {
      "name": "08-03-introduction-to-shell.ipynb",
      "provenance": []
    },
    "kernelspec": {
      "name": "python3",
      "display_name": "Python 3"
    }
  },
  "cells": [
    {
      "cell_type": "code",
      "metadata": {
        "id": "lpiX4nRIVcqQ"
      },
      "source": [
        "# Introduction to Shell\n",
        "## 1. Manipulating files and directories\n",
        "## 2. Manipulating data\n",
        "## 3. Combining tools\n",
        "## 4. Batch processing\n",
        "## 5. Creating new tools"
      ],
      "execution_count": null,
      "outputs": []
    },
    {
      "cell_type": "markdown",
      "metadata": {
        "id": "NM6X2zvwWjxO"
      },
      "source": [
        "## 1. Manipulating files and directories"
      ]
    },
    {
      "cell_type": "markdown",
      "metadata": {
        "id": "ywSD5ZFSWkrc"
      },
      "source": [
        "**How does the shell compare to a desktop interface?**\n",
        "\n",
        "An operating system like Windows, Linux, or Mac OS is a special kind of program. It controls the computer's processor, hard drive, and network connection, but its most important job is to run other programs.\n",
        "\n",
        "Since human beings aren't digital, they need an interface to interact with the operating system. The most common one these days is a graphical file explorer, which translates clicks and double-clicks into commands to open files and run programs. Before computers had graphical displays, though, people typed instructions into a program called a command-line shell. Each time a command is entered, the shell runs some other programs, prints their output in human-readable form, and then displays a prompt to signal that it's ready to accept the next command. (Its name comes from the notion that it's the \"outer shell\" of the computer.)\n",
        "\n",
        "Typing commands instead of clicking and dragging may seem clumsy at first, but as you will see, once you start spelling out what you want the computer to do, you can combine old commands to create new ones and automate repetitive operations with just a few keystrokes.\n",
        "\n",
        "What is the relationship between the graphical file explorer that most people use and the command-line shell?\n",
        "\n",
        "**Possible Answers**\n",
        "\n",
        "- [ ] The file explorer lets you view and edit files, while the shell lets you run programs.\n",
        "- [ ] The file explorer is built on top of the shell.\n",
        "- [ ] The shell is part of the operating system, while the file explorer is separate.\n",
        "- [x] They are both interfaces for issuing commands to the operating system."
      ]
    },
    {
      "cell_type": "markdown",
      "metadata": {
        "id": "8y1RKaJ5Wz6B"
      },
      "source": [
        "**Where am I?**\n",
        "\n",
        "The filesystem manages files and directories (or folders). Each is identified by an absolute path that shows how to reach it from the filesystem's root directory: `/home/repl` is the directory repl in the directory `home`, while `/home/repl/course.txt` is a file `course.txt` in that directory, and `/` on its own is the root directory.\n",
        "\n",
        "To find out where you are in the filesystem, run the command pwd (short for \"print working directory\"). This prints the absolute path of your current working directory, which is where the shell runs commands and looks for files by default.\n",
        "\n",
        "Run pwd. Where are you right now?\n",
        "\n",
        "Possible Answers\n",
        "\n",
        "- [ ] `/home`\n",
        "- [ ] `/repl`\n",
        "- [x] `/home/repl`"
      ]
    },
    {
      "cell_type": "markdown",
      "metadata": {
        "id": "taDUI1w7XMSc"
      },
      "source": [
        "**How can I identify files and directories?**\n",
        "\n",
        "pwd tells you where you are. To find out what's there, type ls (which is short for \"listing\") and press the enter key. On its own, ls lists the contents of your current directory (the one displayed by pwd). If you add the names of some files, ls will list them, and if you add the names of directories, it will list their contents. For example, ls /home/repl shows you what's in your starting directory (usually called your home directory).\n",
        "\n",
        "Use ls with an appropriate argument to list the files in the directory /home/repl/seasonal (which holds information on dental surgeries by date, broken down by season). Which of these files is not in that directory?\n",
        "\n",
        "**Possible Answers**\n",
        "\n",
        "- [ ] autumn.csv\n",
        "- [x] fall.csv\n",
        "- [ ] spring.csv\n",
        "- [ ] winter.csv"
      ]
    },
    {
      "cell_type": "markdown",
      "metadata": {
        "id": "tqs4L3EYXe9a"
      },
      "source": [
        "**How else can I identify files and directories?**\n",
        "\n",
        "```\n",
        "ls course.txt\n",
        "ls seasonal/summer.csv\n",
        "ls people\n",
        "```"
      ]
    },
    {
      "cell_type": "markdown",
      "metadata": {
        "id": "OBywIo9YXsIe"
      },
      "source": [
        "**How can I move to another directory?**\n",
        "\n",
        "```\n",
        "cd seasonal\n",
        "pwd\n",
        "ls\n",
        "```"
      ]
    },
    {
      "cell_type": "markdown",
      "metadata": {
        "id": "1nZMkuAyX5tV"
      },
      "source": [
        "**How can I move up a directory?**\n",
        "\n",
        "The parent of a directory is the directory above it. For example, /home is the parent of /home/repl, and /home/repl is the parent of /home/repl/seasonal. You can always give the absolute path of your parent directory to commands like cd and ls. More often, though, you will take advantage of the fact that the special path .. (two dots with no spaces) means \"the directory above the one I'm currently in\". If you are in /home/repl/seasonal, then cd .. moves you up to /home/repl. If you use cd .. once again, it puts you in /home. One more cd .. puts you in the root directory /, which is the very top of the filesystem. (Remember to put a space between cd and .. - it is a command and a path, not a single four-letter command.)\n",
        "\n",
        "A single dot on its own, ., always means \"the current directory\", so ls on its own and ls . do the same thing, while cd . has no effect (because it moves you into the directory you're currently in).\n",
        "\n",
        "One final special path is ~ (the tilde character), which means \"your home directory\", such as /home/repl. No matter where you are, ls ~ will always list the contents of your home directory, and cd ~ will always take you home.\n",
        "\n",
        "If you are in /home/repl/seasonal, where does cd ~/../. take you?\n",
        "\n",
        "**Possible Answers**\n",
        "\n",
        "- [ ] /home/repl\n",
        "- [x] /home\n",
        "- [ ] /home/repl/seasonal\n",
        "- [ ] / (the root directory)\n"
      ]
    },
    {
      "cell_type": "markdown",
      "metadata": {
        "id": "iol02ovBYWG2"
      },
      "source": [
        "**How can I copy files?**\n",
        "\n",
        "```\n",
        "cp seasonal/summer.csv backup/summer.bck\n",
        "cp seasonal/spring.csv seasonal/summer.csv backup\n",
        "```"
      ]
    },
    {
      "cell_type": "markdown",
      "metadata": {
        "id": "sqJYYdi0YgEY"
      },
      "source": [
        "**How can I move a file?**\n",
        "\n",
        "```\n",
        "mv seasonal/spring.csv seasonal/summer.csv backup\n",
        "```"
      ]
    },
    {
      "cell_type": "markdown",
      "metadata": {
        "id": "_MFAspDTYl4l"
      },
      "source": [
        "**How can I rename files?**\n",
        "\n",
        "```\n",
        "cd seasonal\n",
        "mv winter.csv winter.csv.bck\n",
        "ls\n",
        "```"
      ]
    },
    {
      "cell_type": "markdown",
      "metadata": {
        "id": "5vgOZch3YuaH"
      },
      "source": [
        "**How can I delete files?**\n",
        "\n",
        "```\n",
        "cd seasonal\n",
        "rm autumn.csv\n",
        "cd\n",
        "rm seasonal/summer.csv\n",
        "```"
      ]
    },
    {
      "cell_type": "markdown",
      "metadata": {
        "id": "z1llgsA4Y9xV"
      },
      "source": [
        "**How can I create and delete directories?**\n",
        "\n",
        "```\n",
        "rm people/agarwal.txt\n",
        "rmdir people\n",
        "mkdir yearly\n",
        "mkdir yearly/2017\n",
        "```"
      ]
    },
    {
      "cell_type": "markdown",
      "metadata": {
        "id": "A5YCpctiZMlT"
      },
      "source": [
        "**Wrapping up**\n",
        "\n",
        "```\n",
        "cd /tmp\n",
        "ls\n",
        "mkdir scratch\n",
        "mv ~/people/agarwal.txt scratch\n",
        "```"
      ]
    },
    {
      "cell_type": "markdown",
      "metadata": {
        "id": "50UQFLw1ZcLg"
      },
      "source": [
        "## 2. Manipulating data"
      ]
    },
    {
      "cell_type": "markdown",
      "metadata": {
        "id": "7ZXMV6RpZc7t"
      },
      "source": [
        "**How can I view a file's contents?**\n",
        "\n",
        "```\n",
        "cat course.txt\n",
        "```"
      ]
    },
    {
      "cell_type": "markdown",
      "metadata": {
        "id": "4OvOwxmKZlUg"
      },
      "source": [
        "**How can I view a file's contents piece by piece?**\n",
        "\n",
        "```\n",
        "# You can leave out the '| cat' part here:\n",
        "less seasonal/spring.csv seasonal/summer.csv | cat\n",
        "```"
      ]
    },
    {
      "cell_type": "markdown",
      "metadata": {
        "id": "vDLZ6G0aZxVT"
      },
      "source": [
        "**How can I look at the start of a file?**\n",
        "\n",
        "The first thing most data scientists do when given a new dataset to analyze is figure out what fields it contains and what values those fields have. If the dataset has been exported from a database or spreadsheet, it will often be stored as comma-separated values (CSV). A quick way to figure out what it contains is to look at the first few rows.\n",
        "\n",
        "We can do this in the shell using a command called head. As its name suggests, it prints the first few lines of a file (where \"a few\" means 10), so the command:\n",
        "\n",
        "`head seasonal/summer.csv`\n",
        "\n",
        "displays:\n",
        "\n",
        "```\n",
        "Date,Tooth\n",
        "2017-01-11,canine\n",
        "2017-01-18,wisdom\n",
        "2017-01-21,bicuspid\n",
        "2017-02-02,molar\n",
        "2017-02-27,wisdom\n",
        "2017-02-27,wisdom\n",
        "2017-03-07,bicuspid\n",
        "2017-03-15,wisdom\n",
        "2017-03-20,canine\n",
        "```\n",
        "\n",
        "What does head do if there aren't 10 lines in the file? (To find out, use it to look at the top of people/agarwal.txt.)\n",
        "\n",
        "**Possible Answers**\n",
        "\n",
        "- [ ] Print an error message because the file is too short.\n",
        "- [x] Display as many lines as there are.\n",
        "- [ ] Display enough blank lines to bring the total to 10."
      ]
    },
    {
      "cell_type": "markdown",
      "metadata": {
        "id": "eRNn4zLGaFVR"
      },
      "source": [
        "**How can I type less?**\n",
        "\n",
        "```\n",
        "head seasonal/autumn.csv\n",
        "head seasonal/spring.csv\n",
        "```"
      ]
    },
    {
      "cell_type": "markdown",
      "metadata": {
        "id": "bE66hN2zaO9d"
      },
      "source": [
        "**How can I control what commands do?**\n",
        "\n",
        "```\n",
        "head -n 5 seasonal/winter.csv\n",
        "```"
      ]
    },
    {
      "cell_type": "markdown",
      "metadata": {
        "id": "EpQIrtePaWED"
      },
      "source": [
        "**How can I list everything below a directory?**\n",
        "\n",
        "```\n",
        "ls -R -F /home/repl\n",
        "```"
      ]
    },
    {
      "cell_type": "markdown",
      "metadata": {
        "id": "O3cetR_KadGT"
      },
      "source": [
        "**How can I get help for a command?**\n",
        "\n",
        "```\n",
        "# Run the following command *without* '| cat':\n",
        "man tail | cat\n",
        "tail -n +7 seasonal/spring.csv\n",
        "```"
      ]
    },
    {
      "cell_type": "markdown",
      "metadata": {
        "id": "PCWpjdKGalwn"
      },
      "source": [
        "**How can I select columns from a file?**\n",
        "\n",
        "head and tail let you select rows from a text file. If you want to select columns, you can use the command cut. It has several options (use man cut to explore them), but the most common is something like:\n",
        "\n",
        "`cut -f 2-5,8 -d , values.csv`\n",
        "\n",
        "which means \"select columns 2 through 5 and columns 8, using comma as the separator\". cut uses -f (meaning \"fields\") to specify columns and -d (meaning \"delimiter\") to specify the separator. You need to specify the latter because some files may use spaces, tabs, or colons to separate columns.\n",
        "\n",
        "What command will select the first column (containing dates) from the file spring.csv?\n",
        "\n",
        "**Possible Answers**\n",
        "\n",
        "- [ ] cut -d , -f 1 seasonal/spring.csv\n",
        "- [ ] cut -d, -f1 seasonal/spring.csv\n",
        "- [x] Either of the above.\n",
        "- [ ] Neither of the above, because -f must come before -d."
      ]
    },
    {
      "cell_type": "markdown",
      "metadata": {
        "id": "xTCzS79Paw1Q"
      },
      "source": [
        "**What can't cut do?**\n",
        "\n",
        "cut is a simple-minded command. In particular, it doesn't understand quoted strings. If, for example, your file is:\n",
        "\n",
        "```\n",
        "Name,Age\n",
        "\"Johel,Ranjit\",28\n",
        "\"Sharma,Rupinder\",26\n",
        "```\n",
        "\n",
        "then:\n",
        "\n",
        "```\n",
        "cut -f 2 -d , everyone.csv\n",
        "```\n",
        "\n",
        "will produce:\n",
        "\n",
        "```\n",
        "Age\n",
        "Ranjit\"\n",
        "Rupinder\"\n",
        "```\n",
        "\n",
        "rather than everyone's age, because it will think the comma between last and first names is a column separator.\n",
        "\n",
        "What is the output of cut -d : -f 2-4 on the line:\n",
        "\n",
        "`first:second:third:`\n",
        "\n",
        "(Note the trailing colon.)\n",
        "\n",
        "**Possible Answers**\n",
        "\n",
        "- [ ] second\n",
        "- [ ] second:third\n",
        "- [x] second:third:\n",
        "- [ ] None of the above, because there aren't four fields."
      ]
    },
    {
      "cell_type": "markdown",
      "metadata": {
        "id": "U9eSW_xJbELn"
      },
      "source": [
        "**How can I repeat commands?**\n",
        "\n",
        "```\n",
        "head summer.csv\n",
        "cd seasonal\n",
        "!head\n",
        "history\n",
        "!3\n",
        "```"
      ]
    },
    {
      "cell_type": "markdown",
      "metadata": {
        "id": "8rjKjy0BbRib"
      },
      "source": [
        "**How can I select lines containing specific values?**\n",
        "\n",
        "```\n",
        "grep molar seasonal/autumn.csv\n",
        "grep -v -n molar seasonal/spring.csv\n",
        "grep -c incisor seasonal/autumn.csv seasonal/winter.csv\n",
        "```"
      ]
    },
    {
      "cell_type": "markdown",
      "metadata": {
        "id": "fIDIfiytbfXW"
      },
      "source": [
        "**Why isn't it always safe to treat data as text?**\n",
        "\n",
        "The SEE ALSO section of the manual page for cut refers to a command called paste that can be used to combine data files instead of cutting them up.\n",
        "\n",
        "Read the manual page for paste, and then run paste to combine the autumn and winter data files in a single table using a comma as a separator. What's wrong with the output from a data analysis point of view?\n",
        "\n",
        "**Possible Answers**\n",
        "\n",
        "- [ ] The column headers are repeated.\n",
        "- [x] The last few rows have the wrong number of columns.\n",
        "- [ ] Some of the data from winter.csv is missing."
      ]
    },
    {
      "cell_type": "markdown",
      "metadata": {
        "id": "4OTyWgvxbqSR"
      },
      "source": [
        "## 3. Combining tools"
      ]
    },
    {
      "cell_type": "markdown",
      "metadata": {
        "id": "Y6YCGoihdljv"
      },
      "source": [
        "**How can I store a command's output in a file?**\n",
        "\n",
        "```\n",
        "tail -n 5 seasonal/winter.csv > last.csv\n",
        "```"
      ]
    },
    {
      "cell_type": "markdown",
      "metadata": {
        "id": "ami1KgTTdqxB"
      },
      "source": [
        "**How can I use a command's output as an input?**\n",
        "\n",
        "```\n",
        "tail -n 2 seasonal/winter.csv > bottom.csv\n",
        "head -n 1 bottom.csv\n",
        "```"
      ]
    },
    {
      "cell_type": "markdown",
      "metadata": {
        "id": "rYcpKznwd2yD"
      },
      "source": [
        "**What's a better way to combine commands?**\n",
        "```\n",
        "cut -d , -f 2 seasonal/summer.csv | grep -v Tooth\n",
        "```"
      ]
    },
    {
      "cell_type": "markdown",
      "metadata": {
        "id": "QreTudadeDl6"
      },
      "source": [
        "**How can I combine many commands?**\n",
        "\n",
        "```\n",
        "cut -d , -f 2 seasonal/summer.csv | grep -v Tooth | head -n 1\n",
        "```"
      ]
    },
    {
      "cell_type": "markdown",
      "metadata": {
        "id": "Ih-i1WF5eJjv"
      },
      "source": [
        "**How can I count the records in a file?**\n",
        "\n",
        "```\n",
        "grep 2017-07 seasonal/spring.csv | wc -l\n",
        "```"
      ]
    },
    {
      "cell_type": "markdown",
      "metadata": {
        "id": "PVgHNlcIeQSQ"
      },
      "source": [
        "**How can I specify many files at once?**\n",
        "\n",
        "```\n",
        "head -n 3 seasonal/s* # ...or seasonal/s*.csv, or even s*/s*.csv\n",
        "```"
      ]
    },
    {
      "cell_type": "markdown",
      "metadata": {
        "id": "7ruiDSExeZVF"
      },
      "source": [
        "**What other wildcards can I use?**\n",
        "\n",
        "The shell has other wildcards as well, though they are less commonly used:\n",
        "\n",
        "- ? matches a single character, so 201?.txt will match 2017.txt or 2018.txt, but not 2017-01.txt.\n",
        "- [...] matches any one of the characters inside the square brackets, so 201[78].txt matches 2017.txt or 2018.txt, but not 2016.txt.\n",
        "- {...} matches any of the comma-separated patterns inside the curly brackets, so {*.txt, *.csv} matches any file whose name ends with .txt or .csv, but not files whose names end with .pdf.\n",
        "Which expression would match singh.pdf and johel.txt but not sandhu.pdf or sandhu.txt?\n",
        "\n",
        "**Possible Answers**\n",
        "\n",
        "- [ ] [sj]*.{.pdf, .txt}\n",
        "- [ ] {s*.pdf, j*.txt}\n",
        "- [ ] [singh,johel]{*.pdf, *.txt}\n",
        "- [x] {singh.pdf, j*.txt}"
      ]
    },
    {
      "cell_type": "markdown",
      "metadata": {
        "id": "Z5u21USRepCd"
      },
      "source": [
        "**How can I sort lines of text?**\n",
        "\n",
        "```\n",
        "cut -d , -f 2 seasonal/winter.csv | grep -v Tooth | sort -r\n",
        "```"
      ]
    },
    {
      "cell_type": "markdown",
      "metadata": {
        "id": "IW9wmA6nexln"
      },
      "source": [
        "**How can I remove duplicate lines?**\n",
        "\n",
        "```\n",
        "cut -d , -f 2 seasonal/winter.csv | grep -v Tooth | sort | uniq -c\n",
        "```"
      ]
    },
    {
      "cell_type": "markdown",
      "metadata": {
        "id": "mTwv_Y8je3vJ"
      },
      "source": [
        "**How can I save the output of a pipe?**\n",
        "\n",
        "The shell lets us redirect the output of a sequence of piped commands:\n",
        "\n",
        "`cut -d , -f 2 seasonal/*.csv | grep -v Tooth > teeth-only.txt`\n",
        "\n",
        "However, > must appear at the end of the pipeline: if we try to use it in the middle, like this:\n",
        "\n",
        "`cut -d , -f 2 seasonal/*.csv > teeth-only.txt | grep -v Tooth`\n",
        "\n",
        "then all of the output from cut is written to teeth-only.txt, so there is nothing left for grep and it waits forever for some input.\n",
        "\n",
        "What happens if we put redirection at the front of a pipeline as in:\n",
        "\n",
        "`> result.txt head -n 3 seasonal/winter.csv`\n",
        "\n",
        "Possible Answers\n",
        "\n",
        "- [x] The command's output is redirected to the file as usual.\n",
        "- [ ] The shell reports it as an error.\n",
        "- [ ] The shell waits for input forever."
      ]
    },
    {
      "cell_type": "markdown",
      "metadata": {
        "id": "z4EUO_1sfRxg"
      },
      "source": [
        "**How can I stop a running program?**\n",
        "\n",
        "```\n",
        "# Simply type head, hit Enter and exit the running program with `Ctrl` + `C`.\n",
        "```"
      ]
    },
    {
      "cell_type": "markdown",
      "metadata": {
        "id": "FXSSCgFIfcsx"
      },
      "source": [
        "**Wrapping up**\n",
        "\n",
        "```\n",
        "wc -l seasonal/*.csv\n",
        "wc -l seasonal/*.csv | grep -v total\n",
        "wc -l seasonal/*.csv | grep -v total | sort -n | head -n 1\n",
        "```"
      ]
    },
    {
      "cell_type": "markdown",
      "metadata": {
        "id": "Ef6pJa_Ifojh"
      },
      "source": [
        "## 4. Batch processing"
      ]
    },
    {
      "cell_type": "markdown",
      "metadata": {
        "id": "4TQTKigAfpXQ"
      },
      "source": [
        "**How does the shell store information?**\n",
        "\n",
        "Like other programs, the shell stores information in variables. Some of these, called environment variables, are available all the time. Environment variables' names are conventionally written in upper case, and a few of the more commonly-used ones are shown below.\n",
        "\n",
        "```\n",
        "Variable\tPurpose\tValue\n",
        "HOME\tUser's home directory\t/home/repl\n",
        "PWD\tPresent working directory\tSame as pwd command\n",
        "SHELL\tWhich shell program is being used\t/bin/bash\n",
        "USER\tUser's ID\trepl\n",
        "```\n",
        "\n",
        "To get a complete list (which is quite long), you can type set in the shell.\n",
        "\n",
        "Use set and grep with a pipe to display the value of HISTFILESIZE, which determines how many old commands are stored in your command history. What is its value?\n",
        "\n",
        "**Possible Answers**\n",
        "\n",
        "- [ ] 10\n",
        "- [ ] 500\n",
        "- [x] 2000\n",
        "- [ ] The variable is not there.\n"
      ]
    },
    {
      "cell_type": "markdown",
      "metadata": {
        "id": "As7Z31YKjXxw"
      },
      "source": [
        "**How can I print a variable's value?**\n",
        "\n",
        "```\n",
        "echo $OSTYPE\n",
        "```"
      ]
    },
    {
      "cell_type": "markdown",
      "metadata": {
        "id": "l08rzR_mjd87"
      },
      "source": [
        "**How else does the shell store information?**\n",
        "\n",
        "```\n",
        "testing=seasonal/winter.csv\n",
        "head -n 1 $testing\n",
        "```"
      ]
    },
    {
      "cell_type": "markdown",
      "metadata": {
        "id": "BXjmN7CCjwF2"
      },
      "source": [
        "**How can I repeat a command many times?**\n",
        "\n",
        "```\n",
        "for filetype in docx odt pdf; do echo $filetype; done\n",
        "```"
      ]
    },
    {
      "cell_type": "markdown",
      "metadata": {
        "id": "NWfFu4pxj3Cj"
      },
      "source": [
        "**How can I repeat a command once for each file?**\n",
        "\n",
        "```\n",
        "for filename in people/*; do echo $filename; done\n",
        "```"
      ]
    },
    {
      "cell_type": "markdown",
      "metadata": {
        "id": "uExsi3IEkCXJ"
      },
      "source": [
        "**How can I record the names of a set of files?**\n",
        "\n",
        "People often set a variable using a wildcard expression to record a list of filenames. For example, if you define datasets like this:\n",
        "\n",
        "`datasets=seasonal/*.csv`\n",
        "\n",
        "you can display the files' names later using:\n",
        "\n",
        "`for filename in $datasets; do echo $filename; done`\n",
        "\n",
        "This saves typing and makes errors less likely.\n",
        "\n",
        "If you run these two commands in your home directory, how many lines of output will they print?\n",
        "\n",
        "```\n",
        "files=seasonal/*.csv\n",
        "for f in $files; do echo $f; done\n",
        "```\n",
        "\n",
        "**Possible Answers**\n",
        "\n",
        "- [ ] None: since files is defined on a separate line, it has no value in the second line.\n",
        "- [ ] One: the word \"files\".\n",
        "- [X] Four: the names of all four seasonal data files."
      ]
    },
    {
      "cell_type": "markdown",
      "metadata": {
        "id": "OxuCFYTIkW2M"
      },
      "source": [
        "**A variable's name versus its value**\n",
        "\n",
        "A common mistake is to forget to use $ before the name of a variable. When you do this, the shell uses the name you have typed rather than the value of that variable.\n",
        "\n",
        "A more common mistake for experienced users is to mis-type the variable's name. For example, if you define datasets like this:\n",
        "\n",
        "`datasets=seasonal/*.csv`\n",
        "\n",
        "and then type:\n",
        "\n",
        "`echo $datsets`\n",
        "\n",
        "the shell doesn't print anything, because datsets (without the second \"a\") isn't defined.\n",
        "\n",
        "If you were to run these two commands in your home directory, what output would be printed?\n",
        "\n",
        "```\n",
        "files=seasonal/*.csv\n",
        "for f in files; do echo $f; done\n",
        "```\n",
        "(Read the first part of the loop carefully before answering.)\n",
        "\n",
        "**Possible Answers**\n",
        "\n",
        "- [X] One line: the word \"files\".\n",
        "- [ ] Four lines: the names of all four seasonal data files.\n",
        "- [ ] Four blank lines: the variable f isn't assigned a value.\n"
      ]
    },
    {
      "cell_type": "markdown",
      "metadata": {
        "id": "kl9DXtGCkwy_"
      },
      "source": [
        "**How can I run many commands in a single loop?**\n",
        "\n",
        "```\n",
        "for file in seasonal/*.csv; do grep 2017-07 $file | tail -n 1; done\n",
        "```"
      ]
    },
    {
      "cell_type": "markdown",
      "metadata": {
        "id": "PPyxcQVNk0_u"
      },
      "source": [
        "**Why shouldn't I use spaces in filenames?**\n",
        "\n",
        "It's easy and sensible to give files multi-word names like July 2017.csv when you are using a graphical file explorer. However, this causes problems when you are working in the shell. For example, suppose you wanted to rename July 2017.csv to be 2017 July data.csv. You cannot type:\n",
        "\n",
        "`mv July 2017.csv 2017 July data.csv`\n",
        "\n",
        "because it looks to the shell as though you are trying to move four files called July, 2017.csv, 2017, and July (again) into a directory called data.csv. Instead, you have to quote the files' names so that the shell treats each one as a single parameter:\n",
        "\n",
        "`mv 'July 2017.csv' '2017 July data.csv'`\n",
        "\n",
        "If you have two files called current.csv and last year.csv (with a space in its name) and you type:\n",
        "\n",
        "`rm current.csv last year.csv`\n",
        "what will happen:\n",
        "\n",
        "**Possible Answers**\n",
        "\n",
        "- [ ] The shell will print an error message because last and year.csv do not exist.\n",
        "- [ ] The shell will delete current.csv.\n",
        "- [X] Both of the above.\n",
        "- [ ] Nothing.\n"
      ]
    },
    {
      "cell_type": "markdown",
      "metadata": {
        "id": "MgrMxyVLlL0Z"
      },
      "source": [
        "**How can I do many things in a single loop?**\n",
        "\n",
        "The loops you have seen so far all have a single command or pipeline in their body, but a loop can contain any number of commands. To tell the shell where one ends and the next begins, you must separate them with semi-colons:\n",
        "\n",
        "`for f in seasonal/*.csv; do echo $f; head -n 2 $f | tail -n 1; done`\n",
        "\n",
        "```\n",
        "seasonal/autumn.csv\n",
        "2017-01-05,canine\n",
        "seasonal/spring.csv\n",
        "2017-01-25,wisdom\n",
        "seasonal/summer.csv\n",
        "2017-01-11,canine\n",
        "seasonal/winter.csv\n",
        "2017-01-03,bicuspid\n",
        "```\n",
        "\n",
        "Suppose you forget the semi-colon between the echo and head commands in the previous loop, so that you ask the shell to run:\n",
        "\n",
        "`for f in seasonal/*.csv; do echo $f head -n 2 $f | tail -n 1; done`\n",
        "\n",
        "What will the shell do?\n",
        "\n",
        "**Possible Answers**\n",
        "\n",
        "- [ ] Print an error message.\n",
        "- [X] Print one line for each of the four files.\n",
        "- [ ] Print one line for autumn.csv (the first file).\n",
        "- [ ] Print the last line of each file."
      ]
    },
    {
      "cell_type": "markdown",
      "metadata": {
        "id": "WxVcgsVwl3E8"
      },
      "source": [
        "## 5. Creating new tools"
      ]
    },
    {
      "cell_type": "markdown",
      "metadata": {
        "id": "gKrBlMk8l8AS"
      },
      "source": [
        "**How can I edit a file?**\n",
        "\n",
        "```\n",
        "# This solution uses `cp` instead of `nano`\n",
        "# because our automated tests can't edit files interactively.\n",
        "cp /solutions/names.txt /home/repl\n",
        "```"
      ]
    },
    {
      "cell_type": "markdown",
      "metadata": {
        "id": "MwFbbXiQmGgD"
      },
      "source": [
        "**How can I record what I just did?**\n",
        "\n",
        "```\n",
        "cp seasonal/s* ~\n",
        "grep -h -v Tooth spring.csv summer.csv > temp.csv\n",
        "history | tail -n 3 > steps.txt\n",
        "```"
      ]
    },
    {
      "cell_type": "markdown",
      "metadata": {
        "id": "56LmDH6FmSOL"
      },
      "source": [
        "**How can I save commands to re-run later?**\n",
        "\n",
        "```\n",
        "# This solution uses `cp` instead of `nano`\n",
        "# because our automated tests can't edit files interactively.\n",
        "cp /solutions/dates.sh ~\n",
        "bash dates.sh\n",
        "```"
      ]
    },
    {
      "cell_type": "markdown",
      "metadata": {
        "id": "TKGrd_pTmfMK"
      },
      "source": [
        "**How can I re-use pipes?**\n",
        "\n",
        "```\n",
        "# This solution uses `cp` instead of `nano`\n",
        "# because our automated tests can't edit files interactively.\n",
        "cp /solutions/teeth.sh ~\n",
        "bash teeth.sh > teeth.out\n",
        "cat teeth.out\n",
        "```"
      ]
    },
    {
      "cell_type": "markdown",
      "metadata": {
        "id": "Rq9MufzFmtVb"
      },
      "source": [
        "**How can I pass filenames to scripts?**\n",
        "\n",
        "```\n",
        "# This solution uses `cp` instead of `nano`\n",
        "# because our automated tests can't edit files interactively.\n",
        "cp /solutions/count-records.sh ~\n",
        "bash count-records.sh seasonal/*.csv > num-records.out\n",
        "```"
      ]
    },
    {
      "cell_type": "markdown",
      "metadata": {
        "id": "a8XhLwoRm1q4"
      },
      "source": [
        "**How can I process a single argument?**\n",
        "\n",
        "As well as $@, the shell lets you use $1, $2, and so on to refer to specific command-line parameters. You can use this to write commands that feel simpler or more natural than the shell's. For example, you can create a script called column.sh that selects a single column from a CSV file when the user provides the filename as the first parameter and the column as the second:\n",
        "\n",
        "`cut -d , -f $2 $1`\n",
        "\n",
        "and then run it using:\n",
        "\n",
        "`bash column.sh seasonal/autumn.csv 1`\n",
        "\n",
        "Notice how the script uses the two parameters in reverse order.\n",
        "\n",
        "The script get-field.sh is supposed to take a filename, the number of the row to select, the number of the column to select, and print just that field from a CSV file. For example:\n",
        "\n",
        "`bash get-field.sh seasonal/summer.csv 4 2`\n",
        "\n",
        "should select the second field from line 4 of seasonal/summer.csv. Which of the following commands should be put in get-field.sh to do that?\n",
        "\n",
        "**Possible Answers**\n",
        "\n",
        "- [ ] `head -n $1 $2 | tail -n 1 | cut -d , -f $3`\n",
        "- [x] `head -n $2 $1 | tail -n 1 | cut -d , -f $3`\n",
        "- [ ] `head -n $3 $1 | tail -n 1 | cut -d , -f $2`\n",
        "- [ ] `head -n $2 $3 | tail -n 1 | cut -d , -f $1`\n"
      ]
    },
    {
      "cell_type": "markdown",
      "metadata": {
        "id": "Z6opJJ3jnMN5"
      },
      "source": [
        "**How can one shell script do many things?**\n",
        "\n",
        "```\n",
        "# This solution uses `cp` instead of `nano`\n",
        "# because our automated tests can't edit files interactively.\n",
        "cp /solutions/range-1.sh range.sh\n",
        "cp /solutions/range-2.sh range.sh\n",
        "cp /solutions/range-3.sh range.sh\n",
        "bash range.sh seasonal/*.csv > range.out\n",
        "```"
      ]
    },
    {
      "cell_type": "markdown",
      "metadata": {
        "id": "AigymU6DncPn"
      },
      "source": [
        "**How can I write loops in a shell script?**\n",
        "\n",
        "```\n",
        "# This solution uses `cp` instead of `nano`\n",
        "# because our automated tests can't edit files interactively.\n",
        "cp /solutions/date-range.sh date-range.sh\n",
        "bash date-range.sh seasonal/*.csv\n",
        "bash date-range.sh seasonal/*.csv | sort\n",
        "```"
      ]
    },
    {
      "cell_type": "markdown",
      "metadata": {
        "id": "T-QRI3GOnpLj"
      },
      "source": [
        "**What happens when I don't provide filenames?**\n",
        "\n",
        "A common mistake in shell scripts (and interactive commands) is to put filenames in the wrong place. If you type:\n",
        "\n",
        "`tail -n 3`\n",
        "\n",
        "then since tail hasn't been given any filenames, it waits to read input from your keyboard. This means that if you type:\n",
        "\n",
        "`head -n 5 | tail -n 3 somefile.txt`\n",
        "\n",
        "then tail goes ahead and prints the last three lines of somefile.txt, but head waits forever for keyboard input, since it wasn't given a filename and there isn't anything ahead of it in the pipeline.\n",
        "\n",
        "Suppose you do accidentally type:\n",
        "\n",
        "`head -n 5 | tail -n 3 somefile.txt`\n",
        "\n",
        "What should you do next?\n",
        "\n",
        "**Possible Answers**\n",
        "\n",
        "- [ ] Wait 10 seconds for head to time out.\n",
        "- [ ] Type somefile.txt and press Enter to give head some input.\n",
        "- [x] Use Ctrl + C to stop the running head program."
      ]
    }
  ]
}