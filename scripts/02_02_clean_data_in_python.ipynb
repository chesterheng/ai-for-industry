{
  "nbformat": 4,
  "nbformat_minor": 0,
  "metadata": {
    "colab": {
      "name": "02-02-clean-data-in-python.ipynb",
      "provenance": [],
      "collapsed_sections": [
        "Q5BNB74P3eC2",
        "Fvtw_a28Fe-B",
        "EeyNc0PvmU9p"
      ]
    },
    "kernelspec": {
      "name": "python3",
      "display_name": "Python 3"
    }
  },
  "cells": [
    {
      "cell_type": "markdown",
      "metadata": {
        "id": "RWnOrnpe3Q7c"
      },
      "source": [
        "#Cleaning Data in Python\n",
        "## 1. Common data problems\n",
        "## 2. Text and categorical data problems\n",
        "## 3. Advanced data problems\n",
        "## 4. Record linkage"
      ]
    },
    {
      "cell_type": "markdown",
      "metadata": {
        "id": "Q5BNB74P3eC2"
      },
      "source": [
        "## 1. Common data problems"
      ]
    },
    {
      "cell_type": "markdown",
      "metadata": {
        "id": "K8iORsN13yp9"
      },
      "source": [
        "- 1.1 Data type constraints\n",
        "\n",
        "- Common data types\n",
        "  - Numeric data types\n",
        "    - Number of points on customer\n",
        "    - Salary earned monthly\n",
        "    - Number of items bought in a basket\n",
        "  - Text\n",
        "    - Shipping address of a customer\n",
        "    - City of residence\n",
        "    - First name\n",
        "  - Dates\n",
        "    - Birthdates of clients\n",
        "    - Order date of a product\n",
        "\n"
      ]
    },
    {
      "cell_type": "code",
      "metadata": {
        "colab": {
          "base_uri": "https://localhost:8080/"
        },
        "id": "Kf9WoGCS3GWl",
        "outputId": "8be8bbf0-78e2-49f4-ab84-3cb23e9d50de"
      },
      "source": [
        "# Numeric data or ... ?\n",
        "\n",
        "import pandas as pd\n",
        "fname = 'https://raw.githubusercontent.com/chesterheng/ai-for-industry/main/datasets/ride_sharing_new.csv'\n",
        "ride_sharing = pd.read_csv(fname, index_col=0)\n",
        "\n",
        "# Print the information of ride_sharing\n",
        "print(ride_sharing.info())\n",
        "\n",
        "# Print summary statistics of user_type column\n",
        "print(ride_sharing['user_type'].describe())"
      ],
      "execution_count": 116,
      "outputs": [
        {
          "output_type": "stream",
          "text": [
            "<class 'pandas.core.frame.DataFrame'>\n",
            "Int64Index: 25760 entries, 0 to 25759\n",
            "Data columns (total 12 columns):\n",
            " #   Column           Non-Null Count  Dtype \n",
            "---  ------           --------------  ----- \n",
            " 0   ride_id          25760 non-null  int64 \n",
            " 1   duration         25760 non-null  object\n",
            " 2   station_A_id     25760 non-null  int64 \n",
            " 3   station_A_name   25760 non-null  object\n",
            " 4   station_B_id     25760 non-null  int64 \n",
            " 5   station_B_name   25760 non-null  object\n",
            " 6   bike_id          25760 non-null  int64 \n",
            " 7   user_type        25760 non-null  int64 \n",
            " 8   user_birth_year  25760 non-null  int64 \n",
            " 9   user_gender      25760 non-null  object\n",
            " 10  tire_sizes       25760 non-null  int64 \n",
            " 11  ride_date        25760 non-null  object\n",
            "dtypes: int64(7), object(5)\n",
            "memory usage: 2.6+ MB\n",
            "None\n",
            "count    25760.000000\n",
            "mean         2.008385\n",
            "std          0.704541\n",
            "min          1.000000\n",
            "25%          2.000000\n",
            "50%          2.000000\n",
            "75%          3.000000\n",
            "max          3.000000\n",
            "Name: user_type, dtype: float64\n"
          ],
          "name": "stdout"
        }
      ]
    },
    {
      "cell_type": "markdown",
      "metadata": {
        "id": "TChovokK6f5U"
      },
      "source": [
        "- Question\n",
        "\n",
        "The user_type column contains information on whether a user is taking a free ride and takes on the following values:\n",
        "\n",
        "1. for free riders.\n",
        "2. for pay per ride.\n",
        "3. for monthly subscribers.\n",
        "\n",
        "By looking at the summary statistics - they don't really seem to offer much description on how users are distributed along their purchase type, why do you think that is?\n",
        "\n",
        "- Possible Answers\n",
        "\n",
        "- [ ] The user_type column is not of the correct type, it should be converted to str.\n",
        "- [ ] The user_type column has an infinite set of possible values, it should be converted to category.\n",
        "- [x] The user_type column has an finite set of possible values that represent groupings of data, it should be converted to category."
      ]
    },
    {
      "cell_type": "code",
      "metadata": {
        "colab": {
          "base_uri": "https://localhost:8080/"
        },
        "id": "Fcho6cDt5U4a",
        "outputId": "9a6e0ee3-e99b-4a76-a3d9-f347a2f81f8a"
      },
      "source": [
        "import pandas as pd\n",
        "fname = 'https://raw.githubusercontent.com/chesterheng/ai-for-industry/main/datasets/ride_sharing_new.csv'\n",
        "ride_sharing = pd.read_csv(fname, index_col=0)\n",
        "\n",
        "# Print the information of ride_sharing\n",
        "print(ride_sharing.info())\n",
        "\n",
        "# Print summary statistics of user_type column\n",
        "print(ride_sharing['user_type'].describe())\n",
        "\n",
        "# Convert user_type from integer to category\n",
        "ride_sharing['user_type_cat'] = ride_sharing['user_type'].astype('category')\n",
        "\n",
        "# Write an assert statement confirming the change\n",
        "assert ride_sharing['user_type_cat'].dtype == 'category'\n",
        "\n",
        "# Print new summary statistics \n",
        "print(ride_sharing['user_type_cat'].describe())"
      ],
      "execution_count": 117,
      "outputs": [
        {
          "output_type": "stream",
          "text": [
            "<class 'pandas.core.frame.DataFrame'>\n",
            "Int64Index: 25760 entries, 0 to 25759\n",
            "Data columns (total 12 columns):\n",
            " #   Column           Non-Null Count  Dtype \n",
            "---  ------           --------------  ----- \n",
            " 0   ride_id          25760 non-null  int64 \n",
            " 1   duration         25760 non-null  object\n",
            " 2   station_A_id     25760 non-null  int64 \n",
            " 3   station_A_name   25760 non-null  object\n",
            " 4   station_B_id     25760 non-null  int64 \n",
            " 5   station_B_name   25760 non-null  object\n",
            " 6   bike_id          25760 non-null  int64 \n",
            " 7   user_type        25760 non-null  int64 \n",
            " 8   user_birth_year  25760 non-null  int64 \n",
            " 9   user_gender      25760 non-null  object\n",
            " 10  tire_sizes       25760 non-null  int64 \n",
            " 11  ride_date        25760 non-null  object\n",
            "dtypes: int64(7), object(5)\n",
            "memory usage: 2.6+ MB\n",
            "None\n",
            "count    25760.000000\n",
            "mean         2.008385\n",
            "std          0.704541\n",
            "min          1.000000\n",
            "25%          2.000000\n",
            "50%          2.000000\n",
            "75%          3.000000\n",
            "max          3.000000\n",
            "Name: user_type, dtype: float64\n",
            "count     25760\n",
            "unique        3\n",
            "top           2\n",
            "freq      12972\n",
            "Name: user_type_cat, dtype: int64\n"
          ],
          "name": "stdout"
        }
      ]
    },
    {
      "cell_type": "code",
      "metadata": {
        "colab": {
          "base_uri": "https://localhost:8080/"
        },
        "id": "U0HTdYg49lPW",
        "outputId": "c966bb57-4c72-43fb-f7a4-1e1596143d61"
      },
      "source": [
        "# Summing strings and concatenating numbers\n",
        "\n",
        "import pandas as pd\n",
        "fname = 'https://raw.githubusercontent.com/chesterheng/ai-for-industry/main/datasets/ride_sharing_new.csv'\n",
        "ride_sharing = pd.read_csv(fname, index_col=0)\n",
        "\n",
        "# Strip duration of minutes\n",
        "ride_sharing['duration_trim'] = ride_sharing['duration'].str.strip('minutes')\n",
        "\n",
        "# Convert duration to integer\n",
        "ride_sharing['duration_time'] = ride_sharing['duration_trim'].astype('int')\n",
        "\n",
        "# Write an assert statement making sure of conversion\n",
        "assert ride_sharing['duration_time'].dtype == 'int'\n",
        "\n",
        "# Print formed columns and calculate average ride duration \n",
        "print(ride_sharing[['duration','duration_trim','duration_time']])\n",
        "print(ride_sharing['duration_time'].mean())"
      ],
      "execution_count": 118,
      "outputs": [
        {
          "output_type": "stream",
          "text": [
            "         duration duration_trim  duration_time\n",
            "0      12 minutes           12              12\n",
            "1      24 minutes           24              24\n",
            "2       8 minutes            8               8\n",
            "3       4 minutes            4               4\n",
            "4      11 minutes           11              11\n",
            "...           ...           ...            ...\n",
            "25755  11 minutes           11              11\n",
            "25756  10 minutes           10              10\n",
            "25757  14 minutes           14              14\n",
            "25758  14 minutes           14              14\n",
            "25759  29 minutes           29              29\n",
            "\n",
            "[25760 rows x 3 columns]\n",
            "11.389052795031056\n"
          ],
          "name": "stdout"
        }
      ]
    },
    {
      "cell_type": "code",
      "metadata": {
        "colab": {
          "base_uri": "https://localhost:8080/"
        },
        "id": "yIGlV04q_j1a",
        "outputId": "c8466ecc-deb8-4547-db26-e81de4fe9fbf"
      },
      "source": [
        "# 1.2 Data range constraints\n",
        "\n",
        "# Tire size constraints\n",
        "\n",
        "import pandas as pd\n",
        "fname = 'https://raw.githubusercontent.com/chesterheng/ai-for-industry/main/datasets/ride_sharing_new.csv'\n",
        "ride_sharing = pd.read_csv(fname, index_col=0)\n",
        "\n",
        "# Convert tire_sizes to integer\n",
        "ride_sharing['tire_sizes'] = ride_sharing['tire_sizes'].astype('int')\n",
        "\n",
        "# Set all values above 27 to 27\n",
        "ride_sharing.loc[ride_sharing['tire_sizes'] > 27, 'tire_sizes'] = 27\n",
        "\n",
        "# Reconvert tire_sizes back to categorical\n",
        "ride_sharing['tire_sizes'] = ride_sharing['tire_sizes'].astype('category')\n",
        "\n",
        "# Print tire size description\n",
        "print(ride_sharing['tire_sizes'].describe())"
      ],
      "execution_count": 119,
      "outputs": [
        {
          "output_type": "stream",
          "text": [
            "count     25760\n",
            "unique        2\n",
            "top          27\n",
            "freq      19272\n",
            "Name: tire_sizes, dtype: int64\n"
          ],
          "name": "stdout"
        }
      ]
    },
    {
      "cell_type": "code",
      "metadata": {
        "colab": {
          "base_uri": "https://localhost:8080/"
        },
        "id": "qg9ORDlYC1iX",
        "outputId": "64bae96e-feec-457a-c392-404320380ba0"
      },
      "source": [
        "# Back to the future\n",
        "import pandas as pd\n",
        "fname = 'https://raw.githubusercontent.com/chesterheng/ai-for-industry/main/datasets/ride_sharing_new.csv'\n",
        "ride_sharing = pd.read_csv(fname, index_col=0)\n",
        "\n",
        "# Convert ride_date to datetime\n",
        "ride_sharing['ride_dt'] = pd.to_datetime(ride_sharing['ride_date'])\n",
        "\n",
        "# Save today's date\n",
        "today = pd.to_datetime('now')\n",
        "\n",
        "# Set all in the future to today's date\n",
        "ride_sharing.loc[ride_sharing['ride_dt'] > today, 'ride_dt'] = today\n",
        "\n",
        "# Print maximum of ride_dt column\n",
        "print(ride_sharing['ride_dt'].max())\n"
      ],
      "execution_count": 120,
      "outputs": [
        {
          "output_type": "stream",
          "text": [
            "2021-03-01 04:21:40.091164\n"
          ],
          "name": "stdout"
        }
      ]
    },
    {
      "cell_type": "markdown",
      "metadata": {
        "id": "cljChb_VZh73"
      },
      "source": [
        "- 1.3 Uniqueness constraints\n",
        "\n",
        "- How big is your subset?\n",
        "\n",
        "You have the following loans DataFrame which contains loan and credit score data for consumers, and some metadata such as their first and last names. You want to find both complete and incomplete duplicates using .duplicated().\n",
        "\n",
        "|first_name|last_name |credit_score|has_loan|\n",
        "\n",
        "|Justin   |Saddlemeyer|600         |1       |\n",
        "\n",
        "|Hadrien  |Lacroix    |450         |0       |\n",
        "\n",
        "Choose the correct usage of .duplicated() below:\n",
        "\n",
        "- [ ] loans.duplicated() Because the default method returns both complete and incomplete duplicates.\n",
        "- [ ] loans.duplicated(subset = 'first_name') Because constraining the duplicate rows to the first name lets me find incomplete duplicates as well.\n",
        "- [x] loans.duplicated(subset = ['first_name', 'last_name'], keep = False) Because subsetting on consumer metadata and not discarding any duplicate returns all duplicated rows.\n",
        "- [ ] loans.duplicated(subset = ['first_name', 'last_name'], keep = 'first') Because this drops all duplicates."
      ]
    },
    {
      "cell_type": "code",
      "metadata": {
        "id": "clV1H6DdZc_y",
        "colab": {
          "base_uri": "https://localhost:8080/"
        },
        "outputId": "9b79e752-0c12-4265-b62c-0e5b0ea352f0"
      },
      "source": [
        "# Finding duplicates\n",
        "\n",
        "import pandas as pd\n",
        "fname = 'https://raw.githubusercontent.com/chesterheng/ai-for-industry/main/datasets/ride_sharing_new.csv'\n",
        "ride_sharing = pd.read_csv(fname, index_col=0)\n",
        "\n",
        "# Find duplicates\n",
        "duplicates = ride_sharing.duplicated('ride_id', keep = False)\n",
        "\n",
        "# Sort your duplicated rides\n",
        "duplicated_rides = ride_sharing[duplicates].sort_values(by = 'ride_id')\n",
        "\n",
        "# Print relevant columns of duplicated_rides\n",
        "print(duplicated_rides[['ride_id','duration','user_birth_year']])"
      ],
      "execution_count": 121,
      "outputs": [
        {
          "output_type": "stream",
          "text": [
            "    ride_id    duration  user_birth_year\n",
            "22       33  10 minutes             1982\n",
            "32       33  12 minutes             1980\n",
            "39       33   7 minutes             1986\n",
            "53       55  14 minutes             1998\n",
            "54       55  12 minutes             1999\n",
            "65       55  10 minutes             1986\n",
            "70       71  38 minutes             1988\n",
            "74       71   5 minutes             1990\n",
            "75       71  11 minutes             1999\n",
            "76       89  18 minutes             1980\n",
            "77       89   9 minutes             1996\n",
            "88       89   6 minutes             1983\n"
          ],
          "name": "stdout"
        }
      ]
    },
    {
      "cell_type": "code",
      "metadata": {
        "id": "QA0z_zOJ8LCl"
      },
      "source": [
        "# Treating duplicates\n",
        "\n",
        "import pandas as pd\n",
        "fname = 'https://raw.githubusercontent.com/chesterheng/ai-for-industry/main/datasets/ride_sharing_new.csv'\n",
        "ride_sharing = pd.read_csv(fname, index_col=0)\n",
        "ride_sharing['duration'] = ride_sharing['duration'].str.strip('minutes')\n",
        "ride_sharing['duration'] = ride_sharing['duration'].astype('int')\n",
        "\n",
        "# Drop complete duplicates from ride_sharing\n",
        "ride_dup = ride_sharing.drop_duplicates()\n",
        "\n",
        "# Create statistics dictionary for aggregation function\n",
        "statistics = {'user_birth_year': 'min', 'duration': 'mean'}\n",
        "\n",
        "# Group by ride_id and compute new statistics\n",
        "ride_unique = ride_dup.groupby('ride_id').agg(statistics).reset_index()\n",
        "# print(ride_unique.loc[(ride_unique.ride_id == 89)])\n",
        "\n",
        "# Find duplicated values again\n",
        "duplicates = ride_unique.duplicated(subset = 'ride_id', keep = False)\n",
        "duplicated_rides = ride_unique[duplicates == True]\n",
        "\n",
        "# Assert duplicates are processed\n",
        "assert duplicated_rides.shape[0] == 0\n"
      ],
      "execution_count": 122,
      "outputs": []
    },
    {
      "cell_type": "markdown",
      "metadata": {
        "id": "Fvtw_a28Fe-B"
      },
      "source": [
        "## 2. Text and categorical data problems"
      ]
    },
    {
      "cell_type": "markdown",
      "metadata": {
        "id": "DH1vBfy_HsEG"
      },
      "source": [
        "- 2.1 Membership constraints\n",
        "\n",
        "Map the data problem observed with the correct type of data problem.\n",
        "\n",
        "- Membership Constraint\n",
        "  - A month column with the value 14.\n",
        "  - A GPA column containing a Z- grade.\n",
        "  - A has_loan column with the value 12.\n",
        "  - A day_of_week column with the value Suntermonday.\n",
        "\n",
        "- Other Constraint\n",
        "  - An age column with values above 130.\n",
        "  - A revenue column represented as a string.\n",
        "  - A birthdate column with values in the future.\n"
      ]
    },
    {
      "cell_type": "code",
      "metadata": {
        "colab": {
          "base_uri": "https://localhost:8080/"
        },
        "id": "q6ShLzZpFgNa",
        "outputId": "c8e646aa-6f47-41ee-9bc9-680f240472af"
      },
      "source": [
        "# Finding consistency\n",
        "\n",
        "import pandas as pd\n",
        "fname = 'https://raw.githubusercontent.com/chesterheng/ai-for-industry/main/datasets/airlines_final.csv'\n",
        "airlines = pd.read_csv(fname)\n",
        "\n",
        "data = {\n",
        "  'cleanliness':  ['Clean', 'Average','Somewhat clean', 'Somewhat dirty', 'Dirty'],\n",
        "  'safety': ['Neutral', 'Very safe','Somewhat safe', 'Very unsafe', 'Somewhat unsafe'],\n",
        "  'satisfaction': ['Very satisfied','Neutral', 'Somewhat satisfied', 'Somewhat unsatisfied', 'Very unsatisfied']\n",
        "}\n",
        "columns = ['cleanliness','safety','satisfaction']\n",
        "categories = pd.DataFrame (data, columns=columns)\n",
        "\n",
        "# Print categories DataFrame\n",
        "print(categories)\n",
        "\n",
        "# Print unique values of survey columns in airlines\n",
        "print('Cleanliness: ', airlines['cleanliness'].unique(), \"\\n\")\n",
        "print('Safety: ', airlines['safety'].unique(), \"\\n\")\n",
        "print('Satisfaction: ', airlines['satisfaction'].unique(), \"\\n\")"
      ],
      "execution_count": 123,
      "outputs": [
        {
          "output_type": "stream",
          "text": [
            "      cleanliness           safety          satisfaction\n",
            "0           Clean          Neutral        Very satisfied\n",
            "1         Average        Very safe               Neutral\n",
            "2  Somewhat clean    Somewhat safe    Somewhat satisfied\n",
            "3  Somewhat dirty      Very unsafe  Somewhat unsatisfied\n",
            "4           Dirty  Somewhat unsafe      Very unsatisfied\n",
            "Cleanliness:  ['Clean' 'Average' 'Somewhat clean' 'Somewhat dirty' 'Dirty'] \n",
            "\n",
            "Safety:  ['Neutral' 'Very safe' 'Somewhat safe' 'Very unsafe' 'Somewhat unsafe'] \n",
            "\n",
            "Satisfaction:  ['Very satisfied' 'Neutral' 'Somewhat satsified' 'Somewhat unsatisfied'\n",
            " 'Very unsatisfied'] \n",
            "\n"
          ],
          "name": "stdout"
        }
      ]
    },
    {
      "cell_type": "markdown",
      "metadata": {
        "id": "HXSVmQ70Mcvv"
      },
      "source": [
        "- Question\n",
        "\n",
        "Take a look at the output. Out of the cleanliness, safety and satisfaction columns, which one has an inconsistent category and what is it?\n",
        "\n",
        "- [x] cleanliness because it has an Unacceptable category.\n",
        "- [ ] cleanliness because it has a Terribly dirty category.\n",
        "- [ ] satisfaction because it has a Very satisfied category.\n",
        "- [ ] safety because it has a Neutral category."
      ]
    },
    {
      "cell_type": "code",
      "metadata": {
        "colab": {
          "base_uri": "https://localhost:8080/"
        },
        "id": "Ziy0lH4SMoUf",
        "outputId": "4ffb4912-1a9d-4d9c-bb66-b67f11dc7083"
      },
      "source": [
        "# Finding consistency\n",
        "\n",
        "import pandas as pd\n",
        "fname = 'https://raw.githubusercontent.com/chesterheng/ai-for-industry/main/datasets/airlines_final.csv'\n",
        "airlines = pd.read_csv(fname)\n",
        "\n",
        "# Find the cleanliness category in airlines not in categories\n",
        "cat_clean = set(airlines['cleanliness']).difference(categories['cleanliness'])\n",
        "# cat_clean = {'Unacceptable'}\n",
        "\n",
        "# Find rows with that category\n",
        "cat_clean_rows = airlines['cleanliness'].isin(cat_clean)\n",
        "# 0       False\n",
        "# 1       False\n",
        "# 2       False\n",
        "# 3       False\n",
        "# 4        True\n",
        "#         ...  \n",
        "# 2472    False\n",
        "# 2473    False\n",
        "# 2474    False\n",
        "# 2475    False\n",
        "# 2476    False\n",
        "\n",
        "# Print rows with inconsistent category\n",
        "print(airlines[cat_clean_rows])\n",
        "\n",
        "# Print rows with consistent categories only\n",
        "print(airlines[~cat_clean_rows])"
      ],
      "execution_count": 124,
      "outputs": [
        {
          "output_type": "stream",
          "text": [
            "Empty DataFrame\n",
            "Columns: [Unnamed: 0, id, full_name, day, airline, destination, dest_region, dest_size, boarding_area, dept_time, wait_min, cleanliness, safety, satisfaction, survey_response]\n",
            "Index: []\n",
            "      Unnamed: 0    id  ...        satisfaction survey_response\n",
            "0              0  1351  ...      Very satisfied          Value3\n",
            "1              1   373  ...      Very satisfied          Value3\n",
            "2              2  2820  ...             Neutral          Value2\n",
            "3              3  1157  ...  Somewhat satsified          Value3\n",
            "4              4  2992  ...  Somewhat satsified          Value2\n",
            "...          ...   ...  ...                 ...             ...\n",
            "2472        2804  1475  ...  Somewhat satsified          Value2\n",
            "2473        2805  2222  ...      Very satisfied          Value3\n",
            "2474        2806  2684  ...      Very satisfied          Value3\n",
            "2475        2807  2549  ...      Very satisfied          Value3\n",
            "2476        2808  2162  ...  Somewhat satsified          Value2\n",
            "\n",
            "[2477 rows x 15 columns]\n"
          ],
          "name": "stdout"
        }
      ]
    },
    {
      "cell_type": "markdown",
      "metadata": {
        "id": "Rr63xGETObOX"
      },
      "source": [
        "- 2.2 Categorical variables\n",
        "- Categories of errors\n",
        "\n",
        "White spaces and inconsistency\n",
        "- .str.strip()\n",
        "- .str.upper()\n",
        "- .str.lower()\n",
        "\n",
        "Creating or remapping categories\n",
        "- pandas.qcut()\n",
        "- pandas.cut()\n",
        "- .replace()"
      ]
    },
    {
      "cell_type": "code",
      "metadata": {
        "colab": {
          "base_uri": "https://localhost:8080/"
        },
        "id": "C0TxdxY7OJJp",
        "outputId": "e642467e-d930-45c5-9b58-df62597a74bc"
      },
      "source": [
        "# Inconsistent categories\n",
        "\n",
        "import pandas as pd\n",
        "fname = 'https://raw.githubusercontent.com/chesterheng/ai-for-industry/main/datasets/airlines_final.csv'\n",
        "airlines = pd.read_csv(fname)\n",
        "\n",
        "# Print unique values of both columns\n",
        "print(airlines['dest_region'].unique())\n",
        "print(airlines['dest_size'].unique())\n",
        "\n",
        "# Lower dest_region column and then replace \"eur\" with \"europe\"\n",
        "airlines['dest_region'] = airlines['dest_region'].str.lower()\n",
        "airlines['dest_region'] = airlines['dest_region'].replace({'eur':'europe'})\n",
        "\n",
        "# Remove white spaces from `dest_size`\n",
        "airlines['dest_size'] = airlines['dest_size'].str.strip()\n",
        "\n",
        "# Verify changes have been effected\n",
        "print(airlines['dest_region'].unique())\n",
        "print(airlines['dest_size'].unique())"
      ],
      "execution_count": 125,
      "outputs": [
        {
          "output_type": "stream",
          "text": [
            "['Asia' 'Canada/Mexico' 'West US' 'East US' 'Midwest US' 'EAST US'\n",
            " 'Middle East' 'Europe' 'eur' 'Central/South America'\n",
            " 'Australia/New Zealand' 'middle east']\n",
            "['Hub' 'Small' '    Hub' 'Medium' 'Large' 'Hub     ' '    Small'\n",
            " 'Medium     ' '    Medium' 'Small     ' '    Large' 'Large     ']\n",
            "['asia' 'canada/mexico' 'west us' 'east us' 'midwest us' 'middle east'\n",
            " 'europe' 'central/south america' 'australia/new zealand']\n",
            "['Hub' 'Small' 'Medium' 'Large']\n"
          ],
          "name": "stdout"
        }
      ]
    },
    {
      "cell_type": "markdown",
      "metadata": {
        "id": "qYZ81YS7SAHa"
      },
      "source": [
        "From looking at the output, what do you think is the problem with these columns?\n",
        "\n",
        "```\n",
        "dest_region category = \n",
        "['Asia' 'Canada/Mexico' 'West US' 'East US' 'Midwest US' 'EAST US'\n",
        " 'Middle East' 'Europe' 'eur' 'Central/South America'\n",
        " 'Australia/New Zealand' 'middle east']\n",
        "\n",
        "dest_size category =\n",
        "['Hub' 'Small' '    Hub' 'Medium' 'Large' 'Hub     ' '    Small'\n",
        " 'Medium     ' '    Medium' 'Small     ' '    Large' 'Large     ']\n",
        "```\n",
        "\n",
        "- [ ] The dest_region column has only inconsistent values due to capitalization.\n",
        "- [ ] The dest_region column has inconsistent values due to capitalization and has one value that needs to be remapped.\n",
        "- [ ] The dest_size column has only inconsistent values due to leading and trailing spaces.\n",
        "- [x] Both 2 and 3 are correct."
      ]
    },
    {
      "cell_type": "code",
      "metadata": {
        "colab": {
          "base_uri": "https://localhost:8080/"
        },
        "id": "vT4L0OZTUARW",
        "outputId": "ad21d93c-8123-4d79-e8a5-2e6760159f1a"
      },
      "source": [
        "# Remapping categories\n",
        "\n",
        "import pandas as pd\n",
        "fname = 'https://raw.githubusercontent.com/chesterheng/ai-for-industry/main/datasets/airlines_final.csv'\n",
        "airlines = pd.read_csv(fname)\n",
        "\n",
        "# Create ranges for categories\n",
        "import numpy as np\n",
        "label_ranges = [0, 60, 180, np.inf]\n",
        "label_names = ['short', 'medium', 'long']\n",
        "\n",
        "# Create wait_type column\n",
        "airlines['wait_type'] = pd.cut(airlines['wait_min'], bins = label_ranges, labels = label_names)\n",
        "\n",
        "# Create mappings and replace\n",
        "mappings = {'Monday':'weekday', 'Tuesday':'weekday', 'Wednesday': 'weekday', \n",
        "            'Thursday': 'weekday', 'Friday': 'weekday', \n",
        "            'Saturday': 'weekend', 'Sunday': 'weekend'}\n",
        "\n",
        "airlines['day_week'] = airlines['day'].replace(mappings)\n",
        "print(airlines)"
      ],
      "execution_count": 126,
      "outputs": [
        {
          "output_type": "stream",
          "text": [
            "      Unnamed: 0    id full_name  ... survey_response wait_type day_week\n",
            "0              0  1351       Sam  ...          Value3    medium  weekday\n",
            "1              1   373    George  ...          Value3    medium  weekday\n",
            "2              2  2820  Jennifer  ...          Value2    medium  weekday\n",
            "3              3  1157    George  ...          Value3      long  weekday\n",
            "4              4  2992       Sam  ...          Value2      long  weekday\n",
            "...          ...   ...       ...  ...             ...       ...      ...\n",
            "2472        2804  1475      Matt  ...          Value2      long  weekday\n",
            "2473        2805  2222       Sam  ...          Value3    medium  weekday\n",
            "2474        2806  2684       Ann  ...          Value3    medium  weekday\n",
            "2475        2807  2549      Matt  ...          Value3    medium  weekday\n",
            "2476        2808  2162       Sam  ...          Value2      long  weekend\n",
            "\n",
            "[2477 rows x 17 columns]\n"
          ],
          "name": "stdout"
        }
      ]
    },
    {
      "cell_type": "code",
      "metadata": {
        "id": "_KPW3Md7Wym9"
      },
      "source": [
        "# 2.3 Cleaning text data\n",
        "\n",
        "# Removing titles and taking names\n",
        "\n",
        "import pandas as pd\n",
        "fname = 'https://raw.githubusercontent.com/chesterheng/ai-for-industry/main/datasets/airlines_final.csv'\n",
        "airlines = pd.read_csv(fname)\n",
        "\n",
        "# Replace \"Dr.\" with empty string \"\"\n",
        "airlines['full_name'] = airlines['full_name'].str.replace(\"Dr.\",\"\")\n",
        "\n",
        "# Replace \"Mr.\" with empty string \"\"\n",
        "airlines['full_name'] = airlines['full_name'].str.replace(\"Mr.\",\"\")\n",
        "\n",
        "# Replace \"Miss\" with empty string \"\"\n",
        "airlines['full_name'] = airlines['full_name'].str.replace(\"Miss\",\"\")\n",
        "\n",
        "# Replace \"Ms.\" with empty string \"\"\n",
        "airlines['full_name'] = airlines['full_name'].str.replace(\"Ms.\",\"\")\n",
        "\n",
        "# Assert that full_name has no honorifics\n",
        "assert airlines['full_name'].str.contains('Ms.|Mr.|Miss|Dr.').any() == False"
      ],
      "execution_count": 127,
      "outputs": []
    },
    {
      "cell_type": "code",
      "metadata": {
        "colab": {
          "base_uri": "https://localhost:8080/"
        },
        "id": "njXTN3OIdTc5",
        "outputId": "add46bae-0161-4afb-bcc9-656eb50bcf86"
      },
      "source": [
        "# Keeping it descriptive\n",
        "\n",
        "import pandas as pd\n",
        "fname = 'https://raw.githubusercontent.com/chesterheng/ai-for-industry/main/datasets/airlines_final.csv'\n",
        "airlines = pd.read_csv(fname)\n",
        "print(airlines)\n",
        "# Store length of each row in survey_response column\n",
        "resp_length = airlines['survey_response'].str.len()\n",
        "\n",
        "# Find rows in airlines where resp_length > 40\n",
        "airlines_survey = airlines[resp_length > 40]\n",
        "\n",
        "# Assert minimum survey_response length is > 40\n",
        "assert airlines_survey['survey_response'].str.len().min() > 40\n",
        "\n",
        "# Print new survey_response column\n",
        "print(airlines_survey['survey_response'])\n"
      ],
      "execution_count": 128,
      "outputs": [
        {
          "output_type": "stream",
          "text": [
            "      Unnamed: 0    id  ...        satisfaction survey_response\n",
            "0              0  1351  ...      Very satisfied          Value3\n",
            "1              1   373  ...      Very satisfied          Value3\n",
            "2              2  2820  ...             Neutral          Value2\n",
            "3              3  1157  ...  Somewhat satsified          Value3\n",
            "4              4  2992  ...  Somewhat satsified          Value2\n",
            "...          ...   ...  ...                 ...             ...\n",
            "2472        2804  1475  ...  Somewhat satsified          Value2\n",
            "2473        2805  2222  ...      Very satisfied          Value3\n",
            "2474        2806  2684  ...      Very satisfied          Value3\n",
            "2475        2807  2549  ...      Very satisfied          Value3\n",
            "2476        2808  2162  ...  Somewhat satsified          Value2\n",
            "\n",
            "[2477 rows x 15 columns]\n",
            "8       He difficult contented we determine ourselves ...\n",
            "10      He difficult contented we determine ourselves ...\n",
            "11      He difficult contented we determine ourselves ...\n",
            "16      He difficult contented we determine ourselves ...\n",
            "18      He difficult contented we determine ourselves ...\n",
            "                              ...                        \n",
            "2460    He difficult contented we determine ourselves ...\n",
            "2462    He difficult contented we determine ourselves ...\n",
            "2463    He difficult contented we determine ourselves ...\n",
            "2468    He difficult contented we determine ourselves ...\n",
            "2471    He difficult contented we determine ourselves ...\n",
            "Name: survey_response, Length: 814, dtype: object\n"
          ],
          "name": "stdout"
        }
      ]
    },
    {
      "cell_type": "markdown",
      "metadata": {
        "id": "EeyNc0PvmU9p"
      },
      "source": [
        "## 3. Advanced data problems"
      ]
    },
    {
      "cell_type": "markdown",
      "metadata": {
        "id": "OSuq2trJmHWH"
      },
      "source": [
        "**Ambiguous dates**\n",
        "\n",
        "You have a DataFrame containing a subscription_date column that was collected from various sources with different Date formats such as YYYY-mm-dd and YYYY-dd-mm. \n",
        "\n",
        "What is the best way to unify the formats for ambiguous values such as 2019-04-07?\n",
        "\n",
        "- [ ] Set them to NA and drop them.\n",
        "- [ ] Infer the format of the data in question by checking the format of subsequent and previous values.\n",
        "- [ ] Infer the format from the original data source.\n",
        "- [x] All of the above are possible, as long as we investigate where our data comes from, and understand the dynamics affecting it before cleaning it."
      ]
    },
    {
      "cell_type": "code",
      "metadata": {
        "id": "anw3xjjNmYR5"
      },
      "source": [
        "# Uniform currencies\n",
        "\n",
        "import pandas as pd\n",
        "fname = 'https://raw.githubusercontent.com/chesterheng/ai-for-industry/main/datasets/banking_dirty.csv'\n",
        "banking = pd.read_csv(fname, index_col=0)\n",
        "\n",
        "# Find values of acct_cur that are equal to 'euro'\n",
        "acct_eu = banking['acct_cur'] == 'euro'\n",
        "\n",
        "# Convert acct_amount where it is in euro to dollars\n",
        "banking.loc[acct_eu, 'acct_amount'] = banking.loc[acct_eu, 'acct_amount'] * 1.1 \n",
        "\n",
        "# Unify acct_cur column by changing 'euro' values to 'dollar'\n",
        "banking.loc[acct_eu, 'acct_cur'] = 'dollar'\n",
        "\n",
        "# Assert that only dollar currency remains\n",
        "assert banking['acct_cur'].unique() == 'dollar'"
      ],
      "execution_count": 129,
      "outputs": []
    },
    {
      "cell_type": "code",
      "metadata": {
        "id": "T7Stws-lqd8c",
        "colab": {
          "base_uri": "https://localhost:8080/"
        },
        "outputId": "cac0d2e4-d6e5-492c-fa2c-e9ff0bea6680"
      },
      "source": [
        "# Uniform dates\n",
        "\n",
        "import pandas as pd\n",
        "fname = 'https://raw.githubusercontent.com/chesterheng/ai-for-industry/main/datasets/banking_dirty.csv'\n",
        "banking = pd.read_csv(fname, index_col=0)\n",
        "\n",
        "# Print the header of account_opened\n",
        "print(banking['account_opened'].head())\n",
        "\n",
        "# Convert account_opened to datetime\n",
        "banking['account_opened'] = pd.to_datetime(banking['account_opened'],\n",
        "                                           # Infer datetime format\n",
        "                                           infer_datetime_format = True,\n",
        "                                           # Return missing value for error\n",
        "                                           errors = 'coerce') \n",
        "\n",
        "# Get year of account opened\n",
        "banking['acct_year'] = banking['account_opened'].dt.strftime('%Y')\n",
        "\n",
        "# Print acct_year\n",
        "print(banking['acct_year'])"
      ],
      "execution_count": 130,
      "outputs": [
        {
          "output_type": "stream",
          "text": [
            "0     2/9/18\n",
            "1    28/2/19\n",
            "2    25/4/18\n",
            "3    7/11/17\n",
            "4    14/5/18\n",
            "Name: account_opened, dtype: object\n",
            "0     2018\n",
            "1     2019\n",
            "2     2018\n",
            "3     2017\n",
            "4     2018\n",
            "      ... \n",
            "95    2018\n",
            "96    2017\n",
            "97    2017\n",
            "98    2017\n",
            "99    2017\n",
            "Name: acct_year, Length: 100, dtype: object\n"
          ],
          "name": "stdout"
        }
      ]
    },
    {
      "cell_type": "markdown",
      "metadata": {
        "id": "52-wHyn1qvO-"
      },
      "source": [
        "Question\n",
        "Take a look at the output. You tried converting the values to datetime using the default to_datetime() function without changing any argument, however received the following error:\n",
        "\n",
        "```ValueError: month must be in 1..12```\n",
        "\n",
        "Why do you think that is?\n",
        "\n",
        "Possible Answers\n",
        "\n",
        "- [ ] The to_datetime() function needs to be explicitly told which date format each row is in.\n",
        "- [ ] The to_datetime() function can only be applied on YY-mm-dd date formats.\n",
        "- [x] The 21-14-17 entry is erroneous and leads to an error."
      ]
    },
    {
      "cell_type": "markdown",
      "metadata": {
        "id": "BjQtDVZ2sIOO"
      },
      "source": [
        "**Cross field validation**\n",
        "\n",
        "- Confirm the Age provided by users by checking their birthdays\n",
        "- Row wise operations such as `.sum(axis = 1)`\n",
        "\n",
        "**Not cross field validation**\n",
        "\n",
        "- Make sure a `subscription_date` column has no value set in the future\n",
        "- The use of `.astype()` method\n",
        "- Make sure that a `revenue` column is a numeric column\n",
        "\n",
        "\n"
      ]
    },
    {
      "cell_type": "code",
      "metadata": {
        "id": "GjYNqvscsB3_",
        "colab": {
          "base_uri": "https://localhost:8080/"
        },
        "outputId": "1f942d0b-aa83-4be6-e618-d46ad062ec10"
      },
      "source": [
        "# How's our data integrity?\n",
        "\n",
        "import pandas as pd\n",
        "fname = 'https://raw.githubusercontent.com/chesterheng/ai-for-industry/main/datasets/banking_dirty.csv'\n",
        "banking = pd.read_csv(fname, index_col=0)\n",
        "\n",
        "# Store fund columns to sum against\n",
        "fund_columns = ['fund_A', 'fund_B', 'fund_C', 'fund_D']\n",
        "\n",
        "# Find rows where fund_columns row sum == inv_amount\n",
        "inv_equ = banking[fund_columns].sum(axis = 1) == banking['inv_amount']\n",
        "\n",
        "# Store consistent and inconsistent data\n",
        "consistent_inv = banking[inv_equ]\n",
        "inconsistent_inv = banking[~inv_equ]\n",
        "\n",
        "# Store consistent and inconsistent data\n",
        "print(\"Number of inconsistent investments: \", inconsistent_inv.shape[0])"
      ],
      "execution_count": 131,
      "outputs": [
        {
          "output_type": "stream",
          "text": [
            "Number of inconsistent investments:  8\n"
          ],
          "name": "stdout"
        }
      ]
    },
    {
      "cell_type": "code",
      "metadata": {
        "id": "QwZeS-_WtsnC",
        "colab": {
          "base_uri": "https://localhost:8080/"
        },
        "outputId": "a3ee1a28-6077-4e7c-8f4b-3244c9224489"
      },
      "source": [
        "# How's our data integrity?\n",
        "\n",
        "import pandas as pd\n",
        "fname = 'https://raw.githubusercontent.com/chesterheng/ai-for-industry/main/datasets/banking_dirty.csv'\n",
        "banking = pd.read_csv(fname, index_col=0)\n",
        "\n",
        "# Store today's date and find ages\n",
        "# today = dt.date.today()\n",
        "today = pd.to_datetime('now')\n",
        "\n",
        "# ages_manual = today.year - banking['birth_date'].dt.year\n",
        "ages_manual = today.year - pd.to_datetime(banking['birth_date']).dt.year\n",
        "\n",
        "# Find rows where age column == ages_manual\n",
        "age_equ = banking['age'] == ages_manual\n",
        "\n",
        "# Store consistent and inconsistent data\n",
        "consistent_ages = banking[age_equ]\n",
        "inconsistent_ages = banking[~age_equ]\n",
        "\n",
        "# Store consistent and inconsistent data\n",
        "print(\"Number of inconsistent ages: \", inconsistent_ages.shape[0])"
      ],
      "execution_count": 132,
      "outputs": [
        {
          "output_type": "stream",
          "text": [
            "Number of inconsistent ages:  100\n"
          ],
          "name": "stdout"
        }
      ]
    },
    {
      "cell_type": "markdown",
      "metadata": {
        "id": "CAZGpgDKxsQL"
      },
      "source": [
        "**Completeness**\n",
        "\n",
        "Is this missing at random?\n",
        "\n",
        "As a reminder, missingness types can be described as the following:\n",
        "\n",
        "- Missing Completely at Random: No systematic relationship between a column's missing values and other or own values.\n",
        "- Missing at Random: There is a systematic relationship between a column's missing values and other observed values.\n",
        "- Missing not at Random: There is a systematic relationship between a column's missing values and unobserved values.\n",
        "\n",
        "You have a DataFrame containing customer satisfaction scores for a service. \n",
        "\n",
        "What type of missingness is the following?\n",
        "\n",
        "`A customer satisfaction_score column with missing values for highly dissatisfied customers.`\n",
        "\n",
        "Possible Answers\n",
        "\n",
        "- [ ] Missing completely at random.\n",
        "- [ ] Missing at random.\n",
        "- [x] Missing not at random."
      ]
    },
    {
      "cell_type": "code",
      "metadata": {
        "id": "rJoLRELDy1jE",
        "colab": {
          "base_uri": "https://localhost:8080/",
          "height": 0
        },
        "outputId": "15bb3ac2-3d4b-407a-f9da-aec1806c8218"
      },
      "source": [
        "# Missing investors\n",
        "\n",
        "import pandas as pd\n",
        "fname = 'https://raw.githubusercontent.com/chesterheng/ai-for-industry/main/datasets/banking_dirty.csv'\n",
        "banking = pd.read_csv(fname, index_col=0)\n",
        "\n",
        "# Print number of missing values in banking\n",
        "print(banking.isna().sum())\n",
        "\n",
        "# Visualize missingness matrix\n",
        "import missingno as msno\n",
        "msno.matrix(banking)\n",
        "\n",
        "import matplotlib.pyplot as plt  \n",
        "plt.show()\n",
        "\n",
        "# Isolate missing and non missing values of inv_amount\n",
        "missing_investors = banking[banking['inv_amount'].isna()]\n",
        "investors = banking[~banking['inv_amount'].isna()]\n",
        "\n",
        "# Sort banking by age and visualize\n",
        "banking_sorted = banking.sort_values(by = 'age')\n",
        "msno.matrix(banking_sorted)\n",
        "plt.show()"
      ],
      "execution_count": 133,
      "outputs": [
        {
          "output_type": "stream",
          "text": [
            "cust_id             0\n",
            "birth_date          0\n",
            "age                 0\n",
            "acct_amount         0\n",
            "acct_cur            0\n",
            "inv_amount          0\n",
            "fund_A              0\n",
            "fund_B              0\n",
            "fund_C              0\n",
            "fund_D              0\n",
            "account_opened      0\n",
            "last_transaction    0\n",
            "dtype: int64\n"
          ],
          "name": "stdout"
        },
        {
          "output_type": "display_data",
          "data": {
            "image/png": "[encoded data removed]",
            "text/plain": [
              "<Figure size 1800x720 with 2 Axes>"
            ]
          },
          "metadata": {
            "tags": [],
            "needs_background": "light"
          }
        },
        {
          "output_type": "display_data",
          "data": {
            "image/png": "[encoded data removed]",
            "text/plain": [
              "<Figure size 1800x720 with 2 Axes>"
            ]
          },
          "metadata": {
            "tags": [],
            "needs_background": "light"
          }
        }
      ]
    },
    {
      "cell_type": "markdown",
      "metadata": {
        "id": "hwoamS8azuwu"
      },
      "source": [
        "**Question**\n",
        "\n",
        "Now that you've isolated `banking` into `investors` and `missing_investors`, use the `.describe()` method on both of these DataFrames in the console to understand whether there are structural differences between them. \n",
        "\n",
        "What do you think is going on?\n",
        "\n",
        "**Possible Answers**\n",
        "\n",
        "- [ ] The data is missing completely at random and there are no drivers behind the missingness.\n",
        "- [x] The inv_amount is missing only for young customers, since the average age in missing_investors is 22 and the maximum age is 25.\n",
        "- [ ] The inv_amount is missing only for old customers, since the average age in missing_investors is 42 and the maximum age is 59."
      ]
    },
    {
      "cell_type": "code",
      "metadata": {
        "id": "5edW6D8Y1nma",
        "colab": {
          "base_uri": "https://localhost:8080/"
        },
        "outputId": "e55a8668-0310-4fd4-9d67-f1a50f26deb2"
      },
      "source": [
        "# Follow the money\n",
        "\n",
        "import pandas as pd\n",
        "fname = 'https://raw.githubusercontent.com/chesterheng/ai-for-industry/main/datasets/banking_dirty.csv'\n",
        "banking = pd.read_csv(fname, index_col=0)\n",
        "\n",
        "# Drop missing values of cust_id\n",
        "banking_fullid = banking.dropna(subset = ['cust_id'])\n",
        "\n",
        "# Compute estimated acct_amount\n",
        "acct_imp = banking_fullid['inv_amount'] * 5\n",
        "\n",
        "# Impute missing acct_amount with corresponding acct_imp\n",
        "banking_imputed = banking_fullid.fillna({'acct_amount':acct_imp})\n",
        "\n",
        "# Print number of missing values\n",
        "print(banking_imputed.isna().sum())"
      ],
      "execution_count": 134,
      "outputs": [
        {
          "output_type": "stream",
          "text": [
            "cust_id             0\n",
            "birth_date          0\n",
            "age                 0\n",
            "acct_amount         0\n",
            "acct_cur            0\n",
            "inv_amount          0\n",
            "fund_A              0\n",
            "fund_B              0\n",
            "fund_C              0\n",
            "fund_D              0\n",
            "account_opened      0\n",
            "last_transaction    0\n",
            "dtype: int64\n"
          ],
          "name": "stdout"
        }
      ]
    },
    {
      "cell_type": "markdown",
      "metadata": {
        "id": "B8m0vejY2Hk6"
      },
      "source": [
        "## 4. Record linkage"
      ]
    },
    {
      "cell_type": "markdown",
      "metadata": {
        "id": "9duDmDOW2SBP"
      },
      "source": [
        "Minimum edit distance is the minimum number of steps needed to reach from String A to String B, with the operations available being:\n",
        "\n",
        "- Insertion of a new character.\n",
        "- Deletion of an existing character.\n",
        "- Substitution of an existing character.\n",
        "- Transposition of two existing consecutive characters.\n",
        "\n",
        "What is the minimum edit distance from 'sign' to 'sing', and which operation(s) gets you there?\n",
        "\n",
        "- [ ] 2 by substituting 'g' with 'n' and 'n' with 'g'.\n",
        "- [x] 1 by transposing 'g' with 'n'.\n",
        "- [ ] 1 by substituting 'g' with 'n'.\n",
        "- [ ] 2 by deleting 'g' and inserting a new 'g' at the end.\n"
      ]
    },
    {
      "cell_type": "code",
      "metadata": {
        "id": "c6C1CKNI2O7k",
        "colab": {
          "base_uri": "https://localhost:8080/"
        },
        "outputId": "5984fcf7-e184-476a-a72b-d4f410a14186"
      },
      "source": [
        "# The cutoff point\n",
        "\n",
        "import pandas as pd\n",
        "fname = 'https://raw.githubusercontent.com/chesterheng/ai-for-industry/main/datasets/restaurants_L2_dirty.csv'\n",
        "restaurants = pd.read_csv(fname, index_col=0)\n",
        "print(restaurants.info())\n",
        "# Import process from fuzzywuzzy\n",
        "# !pip install fuzzywuzzy\n",
        "from fuzzywuzzy import process\n",
        "\n",
        "# Store the unique values of cuisine_type in unique_types\n",
        "unique_types = restaurants['cuisine_type'].unique()\n",
        "print(unique_types)\n",
        "# Calculate similarity of 'asian' to all values of unique_types\n",
        "print(process.extract('asian', unique_types, limit = len(unique_types)))\n",
        "\n",
        "# Calculate similarity of 'american' to all values of unique_types\n",
        "print(process.extract('american', unique_types, limit = len(unique_types)))\n",
        "\n",
        "# Calculate similarity of 'italian' to all values of unique_types\n",
        "print(process.extract('italian', unique_types, limit = len(unique_types)))"
      ],
      "execution_count": 135,
      "outputs": [
        {
          "output_type": "stream",
          "text": [
            "<class 'pandas.core.frame.DataFrame'>\n",
            "Int64Index: 82 entries, 0 to 81\n",
            "Data columns (total 5 columns):\n",
            " #   Column        Non-Null Count  Dtype \n",
            "---  ------        --------------  ----- \n",
            " 0   name          82 non-null     object\n",
            " 1   addr          82 non-null     object\n",
            " 2   city          82 non-null     object\n",
            " 3   phone         82 non-null     int64 \n",
            " 4   cuisine_type  82 non-null     object\n",
            "dtypes: int64(1), object(4)\n",
            "memory usage: 3.8+ KB\n",
            "None\n",
            "['american' 'californian' 'japanese' 'cajun/creole' 'hot dogs' 'diners'\n",
            " 'delis' 'hamburgers' 'seafood' 'italian' 'coffee shops' 'russian'\n",
            " 'steakhouses' 'mexican/tex-mex' 'noodle shops' 'mexican' 'middle eastern'\n",
            " 'asian' 'vietnamese' 'health food' 'american ( new )' 'pacific new wave'\n",
            " 'indonesian' 'eclectic' 'chicken' 'fast food' 'southern/soul' 'coffeebar'\n",
            " 'continental' 'french ( new )' 'desserts' 'chinese' 'pizza']\n",
            "[('asian', 100), ('indonesian', 72), ('italian', 67), ('russian', 67), ('american', 62), ('californian', 54), ('japanese', 54), ('mexican/tex-mex', 54), ('american ( new )', 54), ('mexican', 50), ('cajun/creole', 36), ('middle eastern', 36), ('vietnamese', 36), ('pacific new wave', 36), ('fast food', 36), ('chicken', 33), ('hamburgers', 27), ('hot dogs', 26), ('coffeebar', 26), ('continental', 26), ('steakhouses', 25), ('southern/soul', 22), ('delis', 20), ('eclectic', 20), ('pizza', 20), ('health food', 19), ('diners', 18), ('coffee shops', 18), ('noodle shops', 18), ('french ( new )', 18), ('desserts', 18), ('seafood', 17), ('chinese', 17)]\n",
            "[('american', 100), ('american ( new )', 90), ('mexican', 80), ('mexican/tex-mex', 68), ('asian', 62), ('italian', 53), ('russian', 53), ('middle eastern', 51), ('pacific new wave', 45), ('hamburgers', 44), ('indonesian', 44), ('chicken', 40), ('southern/soul', 39), ('japanese', 38), ('eclectic', 38), ('delis', 36), ('pizza', 36), ('cajun/creole', 34), ('french ( new )', 34), ('vietnamese', 33), ('californian', 32), ('diners', 29), ('desserts', 25), ('coffeebar', 24), ('steakhouses', 21), ('seafood', 13), ('chinese', 13), ('fast food', 12), ('coffee shops', 11), ('noodle shops', 11), ('health food', 11), ('continental', 11), ('hot dogs', 0)]\n",
            "[('italian', 100), ('asian', 67), ('californian', 56), ('continental', 51), ('indonesian', 47), ('russian', 43), ('mexican', 43), ('american', 40), ('japanese', 40), ('mexican/tex-mex', 39), ('american ( new )', 39), ('pacific new wave', 39), ('vietnamese', 35), ('delis', 33), ('pizza', 33), ('diners', 31), ('middle eastern', 30), ('chicken', 29), ('chinese', 29), ('health food', 27), ('southern/soul', 27), ('cajun/creole', 26), ('steakhouses', 26), ('seafood', 14), ('hot dogs', 13), ('noodle shops', 13), ('eclectic', 13), ('french ( new )', 13), ('desserts', 13), ('hamburgers', 12), ('fast food', 12), ('coffeebar', 12), ('coffee shops', 0)]\n"
          ],
          "name": "stdout"
        }
      ]
    },
    {
      "cell_type": "code",
      "metadata": {
        "id": "1VGfOPG73UxE"
      },
      "source": [
        ""
      ],
      "execution_count": 135,
      "outputs": []
    }
  ]
}