{
  "nbformat": 4,
  "nbformat_minor": 0,
  "metadata": {
    "colab": {
      "name": "05-04-machine-learning-with-tree-based-models-in-python.ipynb",
      "provenance": []
    },
    "kernelspec": {
      "name": "python3",
      "display_name": "Python 3"
    }
  },
  "cells": [
    {
      "cell_type": "code",
      "metadata": {
        "id": "LARmJIK4jvtm"
      },
      "source": [
        "# Machine Learning with Tree-Based Models in Python\n",
        "## 1. Classification and Regression Trees\n",
        "## 2. The Bias-Variance Tradeoff\n",
        "## 3. Bagging and Random Forests\n",
        "## 4. Boosting\n",
        "## 5. Model Tuning"
      ],
      "execution_count": null,
      "outputs": []
    },
    {
      "cell_type": "markdown",
      "metadata": {
        "id": "inzgL81TkVhH"
      },
      "source": [
        "## 1. Classification and Regression Trees"
      ]
    },
    {
      "cell_type": "code",
      "metadata": {
        "colab": {
          "base_uri": "https://localhost:8080/"
        },
        "id": "Gir63Sm4kj8s",
        "outputId": "3edd9659-d66a-4b19-b280-e8997128d359"
      },
      "source": [
        "# Decision tree for classification\n",
        "\n",
        "# Train your first classification tree\n",
        "\n",
        "import pandas as pd\n",
        "import numpy as np\n",
        "import matplotlib.pyplot as plt\n",
        "%matplotlib inline\n",
        "\n",
        "from sklearn.model_selection import train_test_split\n",
        "filename = 'https://raw.githubusercontent.com/chesterheng/ai-for-industry/main/datasets/wbc.csv'\n",
        "wbc = pd.read_csv(filename)\n",
        "X = wbc[['radius_mean', 'concave points_mean']]\n",
        "y = wbc['diagnosis'].apply(lambda x: 1 if x == 'M' else 0)\n",
        "X_train, X_test, y_train, y_test = train_test_split(X, y, test_size = 0.2)\n",
        "\n",
        "# Import DecisionTreeClassifier from sklearn.tree\n",
        "from sklearn.tree import DecisionTreeClassifier \n",
        "\n",
        "SEED = 1 \n",
        "\n",
        "# Instantiate a DecisionTreeClassifier 'dt' with a maximum depth of 6\n",
        "dt = DecisionTreeClassifier(max_depth=6, random_state=SEED)\n",
        "\n",
        "# Fit dt to the training set\n",
        "dt.fit(X_train, y_train)\n",
        "\n",
        "# Predict test set labels\n",
        "y_pred = dt.predict(X_test)\n",
        "print(y_pred[0:5])\n"
      ],
      "execution_count": 1,
      "outputs": [
        {
          "output_type": "stream",
          "text": [
            "[0 0 1 1 1]\n"
          ],
          "name": "stdout"
        }
      ]
    },
    {
      "cell_type": "code",
      "metadata": {
        "colab": {
          "base_uri": "https://localhost:8080/"
        },
        "id": "wIPn8QSRl0TE",
        "outputId": "16dda337-3463-40ed-c5eb-60b17b56c537"
      },
      "source": [
        "# Evaluate the classification tree\n",
        "\n",
        "# Import accuracy_score\n",
        "from sklearn.metrics import accuracy_score\n",
        "\n",
        "# Predict test set labels\n",
        "y_pred = dt.predict(X_test)\n",
        "\n",
        "# Compute test set accuracy  \n",
        "acc = accuracy_score(y_test, y_pred)\n",
        "print(\"Test set accuracy: {:.2f}\".format(acc))"
      ],
      "execution_count": 2,
      "outputs": [
        {
          "output_type": "stream",
          "text": [
            "Test set accuracy: 0.90\n"
          ],
          "name": "stdout"
        }
      ]
    },
    {
      "cell_type": "code",
      "metadata": {
        "id": "czU2-iB3nca_"
      },
      "source": [
        "def plot_decision_regions(X, y, clf,\n",
        "                          feature_index=None,\n",
        "                          filler_feature_values=None,\n",
        "                          filler_feature_ranges=None,\n",
        "                          ax=None,\n",
        "                          X_highlight=None,\n",
        "                          res=0.02, legend=1,\n",
        "                          hide_spines=True,\n",
        "                          markers='s^oxv<>',\n",
        "                          colors='red,blue,limegreen,gray,cyan'):\n",
        "    \"\"\"Plot decision regions of a classifier.\n",
        "\n",
        "    Please note that this functions assumes that class labels are\n",
        "    labeled consecutively, e.g,. 0, 1, 2, 3, 4, and 5. If you have class\n",
        "    labels with integer labels > 4, you may want to provide additional colors\n",
        "    and/or markers as `colors` and `markers` arguments.\n",
        "    See http://matplotlib.org/examples/color/named_colors.html for more\n",
        "    information.\n",
        "\n",
        "    Parameters\n",
        "    ----------\n",
        "    X : array-like, shape = [n_samples, n_features]\n",
        "        Feature Matrix.\n",
        "    y : array-like, shape = [n_samples]\n",
        "        True class labels.\n",
        "    clf : Classifier object.\n",
        "        Must have a .predict method.\n",
        "    feature_index : array-like (default: (0,) for 1D, (0, 1) otherwise)\n",
        "        Feature indices to use for plotting. The first index in\n",
        "        `feature_index` will be on the x-axis, the second index will be\n",
        "        on the y-axis.\n",
        "    filler_feature_values : dict (default: None)\n",
        "        Only needed for number features > 2. Dictionary of feature\n",
        "        index-value pairs for the features not being plotted.\n",
        "    filler_feature_ranges : dict (default: None)\n",
        "        Only needed for number features > 2. Dictionary of feature\n",
        "        index-value pairs for the features not being plotted. Will use the\n",
        "        ranges provided to select training samples for plotting.\n",
        "    ax : matplotlib.axes.Axes (default: None)\n",
        "        An existing matplotlib Axes. Creates\n",
        "        one if ax=None.\n",
        "    X_highlight : array-like, shape = [n_samples, n_features] (default: None)\n",
        "        An array with data points that are used to highlight samples in `X`.\n",
        "    res : float or array-like, shape = (2,) (default: 0.02)\n",
        "        Grid width. If float, same resolution is used for both the x- and\n",
        "        y-axis. If array-like, the first item is used on the x-axis, the\n",
        "        second is used on the y-axis. Lower values increase the resolution but\n",
        "        slow down the plotting.\n",
        "    hide_spines : bool (default: True)\n",
        "        Hide axis spines if True.\n",
        "    legend : int (default: 1)\n",
        "        Integer to specify the legend location.\n",
        "        No legend if legend is 0.\n",
        "    markers : str (default 's^oxv<>')\n",
        "        Scatterplot markers.\n",
        "    colors : str (default 'red,blue,limegreen,gray,cyan')\n",
        "        Comma separated list of colors.\n",
        "\n",
        "    Returns\n",
        "    ---------\n",
        "    ax : matplotlib.axes.Axes object\n",
        "\n",
        "    \"\"\"\n",
        "\n",
        "    check_Xy(X, y, y_int=True)  # Validate X and y arrays\n",
        "    dim = X.shape[1]\n",
        "\n",
        "    if ax is None:\n",
        "        ax = plt.gca()\n",
        "\n",
        "    if isinstance(res, float):\n",
        "        xres, yres = res, res\n",
        "    else:\n",
        "        try:\n",
        "            xres, yres = res\n",
        "        except ValueError:\n",
        "            raise ValueError('Unable to unpack res. Expecting '\n",
        "                             'array-like input of length 2.')\n",
        "\n",
        "    plot_testdata = True\n",
        "    if not isinstance(X_highlight, np.ndarray):\n",
        "        if X_highlight is not None:\n",
        "            raise ValueError('X_highlight must be a NumPy array or None')\n",
        "        else:\n",
        "            plot_testdata = False\n",
        "    elif len(X_highlight.shape) < 2:\n",
        "        raise ValueError('X_highlight must be a 2D array')\n",
        "\n",
        "    if feature_index is not None:\n",
        "        # Unpack and validate the feature_index values\n",
        "        if dim == 1:\n",
        "            raise ValueError(\n",
        "                'feature_index requires more than one training feature')\n",
        "        try:\n",
        "            x_index, y_index = feature_index\n",
        "        except ValueError:\n",
        "            raise ValueError(\n",
        "                'Unable to unpack feature_index. Make sure feature_index '\n",
        "                'only has two dimensions.')\n",
        "        try:\n",
        "            X[:, x_index], X[:, y_index]\n",
        "        except IndexError:\n",
        "            raise IndexError(\n",
        "                'feature_index values out of range. X.shape is {}, but '\n",
        "                'feature_index is {}'.format(X.shape, feature_index))\n",
        "    else:\n",
        "        feature_index = (0, 1)\n",
        "        x_index, y_index = feature_index\n",
        "\n",
        "    # Extra input validation for higher number of training features\n",
        "    if dim > 2:\n",
        "        if filler_feature_values is None:\n",
        "            raise ValueError('Filler values must be provided when '\n",
        "                             'X has more than 2 training features.')\n",
        "\n",
        "        if filler_feature_ranges is not None:\n",
        "            if not set(filler_feature_values) == set(filler_feature_ranges):\n",
        "                raise ValueError(\n",
        "                    'filler_feature_values and filler_feature_ranges must '\n",
        "                    'have the same keys')\n",
        "\n",
        "        # Check that all columns in X are accounted for\n",
        "        column_check = np.zeros(dim, dtype=bool)\n",
        "        for idx in filler_feature_values:\n",
        "            column_check[idx] = True\n",
        "        for idx in feature_index:\n",
        "            column_check[idx] = True\n",
        "        if not all(column_check):\n",
        "            missing_cols = np.argwhere(~column_check).flatten()\n",
        "            raise ValueError(\n",
        "                'Column(s) {} need to be accounted for in either '\n",
        "                'feature_index or filler_feature_values'.format(missing_cols))\n",
        "\n",
        "    marker_gen = cycle(list(markers))\n",
        "\n",
        "    n_classes = np.unique(y).shape[0]\n",
        "    colors = colors.split(',')\n",
        "    colors_gen = cycle(colors)\n",
        "    colors = [next(colors_gen) for c in range(n_classes)]\n",
        "\n",
        "    # Get minimum and maximum\n",
        "    x_min, x_max = X[:, x_index].min() - 1, X[:, x_index].max() + 1\n",
        "    if dim == 1:\n",
        "        y_min, y_max = -1, 1\n",
        "    else:\n",
        "        y_min, y_max = X[:, y_index].min() - 1, X[:, y_index].max() + 1\n",
        "\n",
        "    xx, yy = np.meshgrid(np.arange(x_min, x_max, xres),\n",
        "                         np.arange(y_min, y_max, yres))\n",
        "\n",
        "    if dim == 1:\n",
        "        X_predict = np.array([xx.ravel()]).T\n",
        "    else:\n",
        "        X_grid = np.array([xx.ravel(), yy.ravel()]).T\n",
        "        X_predict = np.zeros((X_grid.shape[0], dim))\n",
        "        X_predict[:, x_index] = X_grid[:, 0]\n",
        "        X_predict[:, y_index] = X_grid[:, 1]\n",
        "        if dim > 2:\n",
        "            for feature_idx in filler_feature_values:\n",
        "                X_predict[:, feature_idx] = filler_feature_values[feature_idx]\n",
        "    Z = clf.predict(X_predict)\n",
        "    Z = Z.reshape(xx.shape)\n",
        "    # Plot decisoin region\n",
        "    ax.contourf(xx, yy, Z,\n",
        "                alpha=0.3,\n",
        "                colors=colors,\n",
        "                levels=np.arange(Z.max() + 2) - 0.5)\n",
        "\n",
        "    ax.axis(xmin=xx.min(), xmax=xx.max(), y_min=yy.min(), y_max=yy.max())\n",
        "\n",
        "    # Scatter training data samples\n",
        "    for idx, c in enumerate(np.unique(y)):\n",
        "        if dim == 1:\n",
        "            y_data = [0 for i in X[y == c]]\n",
        "            x_data = X[y == c]\n",
        "        elif dim == 2:\n",
        "            y_data = X[y == c, y_index]\n",
        "            x_data = X[y == c, x_index]\n",
        "        elif dim > 2 and filler_feature_ranges is not None:\n",
        "            class_mask = y == c\n",
        "            feature_range_mask = get_feature_range_mask(\n",
        "                            X, filler_feature_values=filler_feature_values,\n",
        "                            filler_feature_ranges=filler_feature_ranges)\n",
        "            y_data = X[class_mask & feature_range_mask, y_index]\n",
        "            x_data = X[class_mask & feature_range_mask, x_index]\n",
        "        else:\n",
        "            continue\n",
        "\n",
        "        ax.scatter(x=x_data,\n",
        "                   y=y_data,\n",
        "                   alpha=0.8,\n",
        "                   c=colors[idx],\n",
        "                   marker=next(marker_gen),\n",
        "                   edgecolor='black',\n",
        "                   label=c)\n",
        "\n",
        "    if hide_spines:\n",
        "        ax.spines['right'].set_visible(False)\n",
        "        ax.spines['top'].set_visible(False)\n",
        "        ax.spines['left'].set_visible(False)\n",
        "        ax.spines['bottom'].set_visible(False)\n",
        "    ax.yaxis.set_ticks_position('left')\n",
        "    ax.xaxis.set_ticks_position('bottom')\n",
        "    if dim == 1:\n",
        "        ax.axes.get_yaxis().set_ticks([])\n",
        "\n",
        "    if legend:\n",
        "        if dim > 2 and filler_feature_ranges is None:\n",
        "            pass\n",
        "        else:\n",
        "            handles, labels = ax.get_legend_handles_labels()\n",
        "            ax.legend(handles, labels,\n",
        "                      framealpha=0.3, scatterpoints=1, loc=legend)\n",
        "\n",
        "    if plot_testdata:\n",
        "        if dim == 1:\n",
        "            x_data = X_highlight\n",
        "            y_data = [0 for i in X_highlight]\n",
        "        elif dim == 2:\n",
        "            x_data = X_highlight[:, x_index]\n",
        "            y_data = X_highlight[:, y_index]\n",
        "        else:\n",
        "            feature_range_mask = get_feature_range_mask(\n",
        "                    X_highlight, filler_feature_values=filler_feature_values,\n",
        "                    filler_feature_ranges=filler_feature_ranges)\n",
        "            y_data = X_highlight[feature_range_mask, y_index]\n",
        "            x_data = X_highlight[feature_range_mask, x_index]\n",
        "\n",
        "        ax.scatter(x_data,\n",
        "                   y_data,\n",
        "                   c='',\n",
        "                   edgecolor='black',\n",
        "                   alpha=1.0,\n",
        "                   linewidths=1,\n",
        "                   marker='o',\n",
        "                   s=80)\n",
        "\n",
        "    return ax"
      ],
      "execution_count": 6,
      "outputs": []
    },
    {
      "cell_type": "code",
      "metadata": {
        "id": "ANpgjGsgn8U0"
      },
      "source": [
        "def plot_labeled_decision_regions(X,y, models):    \n",
        "    '''\n",
        "    Function producing a scatter plot of the instances contained \n",
        "    in the 2D dataset (X,y) along with the decision \n",
        "    regions of two trained classification models contained in the\n",
        "    list 'models'.\n",
        "            \n",
        "    Parameters\n",
        "    ----------\n",
        "    X: pandas DataFrame corresponding to two numerical features \n",
        "    y: pandas Series corresponding the class labels\n",
        "    models: list containing two trained classifiers \n",
        "    \n",
        "    '''\n",
        "    if len(models) != 2:\n",
        "        raise Exception('''\n",
        "        Models should be a list containing only two trained classifiers.\n",
        "        ''')\n",
        "    if not isinstance(X, pd.DataFrame):\n",
        "        raise Exception('''\n",
        "        X has to be a pandas DataFrame with two numerical features.\n",
        "        ''')\n",
        "    if not isinstance(y, pd.Series):\n",
        "        raise Exception('''\n",
        "        y has to be a pandas Series corresponding to the labels.\n",
        "        ''')\n",
        "    fig, ax = plt.subplots(1, 2, figsize=(6.0,2.7), sharey=True)\n",
        "    for i, model in enumerate(models):\n",
        "        plot_decision_regions(X.values,y.values, model, legend= 2, ax = ax[i])\n",
        "        ax[i].set_title(model.__class__.__name__)\n",
        "        ax[i].set_xlabel(X.columns[0])\n",
        "        if i == 0:\n",
        "            ax[i].set_ylabel(X.columns[1])\n",
        "        ax[i].set_ylim(X.values[:,1].min(), X.values[:,1].max())\n",
        "        ax[i].set_xlim(X.values[:,0].min(), X.values[:,0].max())\n",
        "    plt.tight_layout()\n",
        "    plt.show()"
      ],
      "execution_count": 7,
      "outputs": []
    },
    {
      "cell_type": "code",
      "metadata": {
        "id": "rqkxproTmkqP"
      },
      "source": [
        "# Logistic regression vs classification tree\n",
        "\n",
        "# Import LogisticRegression from sklearn.linear_model\n",
        "from sklearn.linear_model import LogisticRegression\n",
        "\n",
        "# Instatiate logreg\n",
        "logreg = LogisticRegression(solver = 'liblinear', random_state=1)\n",
        "\n",
        "# Fit logreg to the training set\n",
        "logreg.fit(X_train, y_train)\n",
        "\n",
        "# Define a list called clfs containing the two classifiers logreg and dt\n",
        "clfs = [logreg, dt]\n",
        "\n",
        "# Review the decision regions of the two classifiers\n",
        "# plot_labeled_decision_regions(X_test, y_test, clfs)"
      ],
      "execution_count": 9,
      "outputs": []
    },
    {
      "cell_type": "code",
      "metadata": {
        "id": "QSneCLnAo_qV"
      },
      "source": [
        "# Classification tree Learning"
      ],
      "execution_count": null,
      "outputs": []
    },
    {
      "cell_type": "markdown",
      "metadata": {
        "id": "a5kben0xpEac"
      },
      "source": [
        "**Growing a classification tree**\n",
        "\n",
        "In the video, you saw that the growth of an unconstrained classification tree followed a few simple rules. Which of the following is not one of these rules?\n",
        "\n",
        "**Possible Answers**\n",
        "\n",
        "- [ ] The existence of a node depends on the state of its predecessors.\n",
        "- [ ] The impurity of a node can be determined using different criteria such as entropy and the gini-index.\n",
        "- [ ] When the information gain resulting from splitting a node is null, the node is declared as a leaf.\n",
        "- [x] When an internal node is split, the split is performed in such a way so that information gain is minimized."
      ]
    },
    {
      "cell_type": "code",
      "metadata": {
        "colab": {
          "base_uri": "https://localhost:8080/"
        },
        "id": "JcWbL956pOm0",
        "outputId": "4ea07a47-eab3-4040-b468-f345b2290c64"
      },
      "source": [
        "# Using entropy as a criterion\n",
        "\n",
        "X = wbc[['radius_mean', 'texture_mean', 'perimeter_mean', 'area_mean',\n",
        "       'smoothness_mean', 'compactness_mean', 'concavity_mean',\n",
        "       'concave points_mean', 'symmetry_mean', 'fractal_dimension_mean',\n",
        "       'radius_se', 'texture_se', 'perimeter_se', 'area_se', 'smoothness_se',\n",
        "       'compactness_se', 'concavity_se', 'concave points_se', 'symmetry_se',\n",
        "       'fractal_dimension_se', 'radius_worst', 'texture_worst',\n",
        "       'perimeter_worst', 'area_worst', 'smoothness_worst',\n",
        "       'compactness_worst', 'concavity_worst', 'concave points_worst',\n",
        "       'symmetry_worst', 'fractal_dimension_worst']]\n",
        "y = wbc['diagnosis'].apply(lambda x: 1 if x == 'M' else 0)\n",
        "X_train, X_test, y_train, y_test = train_test_split(X, y, test_size = 0.2)\n",
        "\n",
        "# Import DecisionTreeClassifier from sklearn.tree\n",
        "from sklearn.tree import DecisionTreeClassifier\n",
        "\n",
        "# Instantiate dt_entropy, set 'entropy' as the information criterion\n",
        "dt_entropy = DecisionTreeClassifier(max_depth = 8, criterion='entropy', random_state=1)\n",
        "\n",
        "# Fit dt_entropy to the training set\n",
        "dt_entropy.fit(X_train, y_train)\n",
        "\n",
        "# Instantiate dt_gini, set 'gini' as the information criterion\n",
        "dt_gini = DecisionTreeClassifier(max_depth = 8, criterion='gini', random_state=1)\n",
        "\n",
        "# Fit dt_gini to the training set\n",
        "dt_gini.fit(X_train, y_train)"
      ],
      "execution_count": 12,
      "outputs": [
        {
          "output_type": "execute_result",
          "data": {
            "text/plain": [
              "DecisionTreeClassifier(ccp_alpha=0.0, class_weight=None, criterion='gini',\n",
              "                       max_depth=8, max_features=None, max_leaf_nodes=None,\n",
              "                       min_impurity_decrease=0.0, min_impurity_split=None,\n",
              "                       min_samples_leaf=1, min_samples_split=2,\n",
              "                       min_weight_fraction_leaf=0.0, presort='deprecated',\n",
              "                       random_state=1, splitter='best')"
            ]
          },
          "metadata": {
            "tags": []
          },
          "execution_count": 12
        }
      ]
    },
    {
      "cell_type": "code",
      "metadata": {
        "colab": {
          "base_uri": "https://localhost:8080/"
        },
        "id": "-KCx7id2pcD8",
        "outputId": "b13626d1-4b48-465d-bcd7-b55c35bea669"
      },
      "source": [
        "# Entropy vs Gini index\n",
        "\n",
        "# Import accuracy_score from sklearn.metrics\n",
        "from sklearn.metrics import accuracy_score\n",
        "\n",
        "# Use dt_entropy to predict test set labels\n",
        "y_pred = dt_entropy.predict(X_test)\n",
        "\n",
        "# Evaluate accuracy_entropy\n",
        "accuracy_entropy = accuracy_score(y_test, y_pred)\n",
        "\n",
        "# Print accuracy_entropy\n",
        "print('Accuracy achieved by using entropy: ', accuracy_entropy)\n",
        "\n",
        "# Use dt_entropy to predict test set labels\n",
        "y_pred = dt_gini.predict(X_test)\n",
        "\n",
        "# Evaluate accuracy_gini\n",
        "accuracy_gini = accuracy_score(y_test, y_pred)\n",
        "\n",
        "# Print accuracy_gini\n",
        "print('Accuracy achieved by using the gini index: ', accuracy_gini)"
      ],
      "execution_count": 13,
      "outputs": [
        {
          "output_type": "stream",
          "text": [
            "Accuracy achieved by using entropy:  0.9122807017543859\n",
            "Accuracy achieved by using the gini index:  0.9035087719298246\n"
          ],
          "name": "stdout"
        }
      ]
    },
    {
      "cell_type": "code",
      "metadata": {
        "colab": {
          "base_uri": "https://localhost:8080/"
        },
        "id": "gwSm2XnIp7Bx",
        "outputId": "295468d8-834a-4117-f6e7-71dcd0c82017"
      },
      "source": [
        "# Decision tree for regression\n",
        "\n",
        "# Train your first regression tree\n",
        "\n",
        "import numpy as np\n",
        "import pandas as pd\n",
        "\n",
        "filename = 'https://raw.githubusercontent.com/chesterheng/ai-for-industry/main/datasets/auto.csv'\n",
        "auto = pd.read_csv(filename)\n",
        "auto_origin = pd.get_dummies(auto.origin)\n",
        "auto = pd.concat([auto, auto_origin], axis = 1).drop('origin', axis = 1)\n",
        "auto.columns = ['mpg', 'displ', 'hp', 'weight', 'accel', 'size', 'origin_Asia', 'origin_Europe', 'origin_US']\n",
        "\n",
        "X = auto[['displ', 'hp', 'weight', 'accel', 'size', 'origin_Asia', 'origin_Europe', 'origin_US']]\n",
        "y = auto['mpg']\n",
        "X_train, X_test, y_train, y_test = train_test_split(X, y, test_size = 0.2)\n",
        "\n",
        "# Import DecisionTreeRegressor from sklearn.tree\n",
        "from sklearn.tree import DecisionTreeRegressor\n",
        "\n",
        "# Instantiate dt\n",
        "dt = DecisionTreeRegressor(max_depth=8, min_samples_leaf=0.13, random_state=3)\n",
        "\n",
        "# Fit dt to the training set\n",
        "dt.fit(X_train, y_train)"
      ],
      "execution_count": 15,
      "outputs": [
        {
          "output_type": "execute_result",
          "data": {
            "text/plain": [
              "DecisionTreeRegressor(ccp_alpha=0.0, criterion='mse', max_depth=8,\n",
              "                      max_features=None, max_leaf_nodes=None,\n",
              "                      min_impurity_decrease=0.0, min_impurity_split=None,\n",
              "                      min_samples_leaf=0.13, min_samples_split=2,\n",
              "                      min_weight_fraction_leaf=0.0, presort='deprecated',\n",
              "                      random_state=3, splitter='best')"
            ]
          },
          "metadata": {
            "tags": []
          },
          "execution_count": 15
        }
      ]
    },
    {
      "cell_type": "code",
      "metadata": {
        "colab": {
          "base_uri": "https://localhost:8080/"
        },
        "id": "VFOO9hIqqeAU",
        "outputId": "36a1bfe4-a82b-421e-f457-56294cde6e48"
      },
      "source": [
        "# Evaluate the regression tree\n",
        "\n",
        "# Import mean_squared_error from sklearn.metrics as MSE\n",
        "from sklearn.metrics import mean_squared_error as MSE\n",
        "\n",
        "# Compute y_pred\n",
        "y_pred = dt.predict(X_test)\n",
        "\n",
        "# Compute mse_dt\n",
        "mse_dt = MSE(y_test, y_pred)\n",
        "\n",
        "# Compute rmse_dt\n",
        "rmse_dt = (mse_dt)**0.5\n",
        "\n",
        "# Print rmse_dt\n",
        "print(\"Test set RMSE of dt: {:.2f}\".format(rmse_dt))"
      ],
      "execution_count": 16,
      "outputs": [
        {
          "output_type": "stream",
          "text": [
            "Test set RMSE of dt: 3.66\n"
          ],
          "name": "stdout"
        }
      ]
    },
    {
      "cell_type": "code",
      "metadata": {
        "colab": {
          "base_uri": "https://localhost:8080/"
        },
        "id": "10aMWP3KqwvP",
        "outputId": "2fa144b9-5e2d-476a-8141-4bf4d220c8a5"
      },
      "source": [
        "# Linear regression vs regression tree\n",
        "\n",
        "from sklearn.linear_model import LinearRegression\n",
        "lr = LinearRegression()\n",
        "lr.fit(X_train, y_train)\n",
        "\n",
        "# Predict test set labels \n",
        "y_pred_lr = lr.predict(X_test)\n",
        "\n",
        "# Compute mse_lr\n",
        "mse_lr = MSE(y_test, y_pred_lr)\n",
        "\n",
        "# Compute rmse_lr\n",
        "rmse_lr = mse_lr**(1/2)\n",
        "\n",
        "# Print rmse_lr\n",
        "print('Linear Regression test set RMSE: {:.2f}'.format(rmse_lr))\n",
        "\n",
        "# Print rmse_dt\n",
        "print('Regression Tree test set RMSE: {:.2f}'.format(rmse_dt))"
      ],
      "execution_count": 18,
      "outputs": [
        {
          "output_type": "stream",
          "text": [
            "Linear Regression test set RMSE: 3.69\n",
            "Regression Tree test set RMSE: 3.66\n"
          ],
          "name": "stdout"
        }
      ]
    },
    {
      "cell_type": "markdown",
      "metadata": {
        "id": "33zn8a0RrGIw"
      },
      "source": [
        "## 2. The Bias-Variance Tradeoff"
      ]
    },
    {
      "cell_type": "code",
      "metadata": {
        "id": "CM6ts9EDrHAF"
      },
      "source": [
        "# Generalization Error"
      ],
      "execution_count": null,
      "outputs": []
    },
    {
      "cell_type": "markdown",
      "metadata": {
        "id": "HQiY509TrKfT"
      },
      "source": [
        "**Complexity, bias and variance**\n",
        "\n",
        "In the video, you saw how the complexity of a model labeled f influences the bias and variance terms of its generalization error.\n",
        "\n",
        "Which of the following correctly describes the relationship between f's complexity and f's bias and variance terms?\n",
        "\n",
        "**Possible Answers**\n",
        "\n",
        "- [ ] As the complexity of f decreases, the bias term decreases while the variance term increases.\n",
        "- [ ] As the complexity of f decreases, both the bias and the variance terms increase.\n",
        "- [ ] As the complexity of f increases, the bias term increases while the variance term decreases.\n",
        "- [x] As the complexity of f increases, the bias term decreases while the variance term increases.\n"
      ]
    },
    {
      "cell_type": "markdown",
      "metadata": {
        "id": "p36qDU2xrnSJ"
      },
      "source": [
        "**Overfitting and underfitting**\n",
        "\n",
        "In this exercise, you'll visually diagnose whether a model is overfitting or underfitting the training set.\n",
        "\n",
        "For this purpose, we have trained two different A and B models  and on the auto dataset to predict the mpg consumption of a car using only the car's displacement (displ) as a feature.\n",
        "\n",
        "The following figure shows you scatterplots of mpg versus displ along with lines corresponding to the training set predictions of models A and B in red.\n",
        "\n",
        "![](https://raw.githubusercontent.com/chesterheng/ai-for-industry/main/images/Overfitting-and-underfitting.jpg)\n",
        "\n",
        "Which of the following statements is true?\n",
        "\n",
        "Possible Answers\n",
        "\n",
        "- [ ] A suffers from high bias and overfits the training set.\n",
        "Overfitting-and-underfitting.jpg\n",
        "- [ ] A suffers from high variance and underfits the training set.\n",
        "- [x] B suffers from high bias and underfits the training set.\n",
        "- [ ] B suffers from high variance and underfits the training set.\n",
        "press\n"
      ]
    },
    {
      "cell_type": "code",
      "metadata": {
        "id": "uBPbYRhFslE0"
      },
      "source": [
        "# Diagnose bias and variance problems\n",
        "\n",
        "# Instantiate the model\n",
        "\n",
        "# Import train_test_split from sklearn.model_selection\n",
        "from sklearn.model_selection import train_test_split\n",
        "\n",
        "# Set SEED for reproducibility\n",
        "SEED = 1\n",
        "\n",
        "# Split the data into 70% train and 30% test\n",
        "X_train, X_test, y_train, y_test = train_test_split(X, y, test_size=0.3, random_state=SEED)\n",
        "\n",
        "# Instantiate a DecisionTreeRegressor dt\n",
        "dt = DecisionTreeRegressor(max_depth = 4, min_samples_leaf = 0.26, random_state=SEED)"
      ],
      "execution_count": 19,
      "outputs": []
    },
    {
      "cell_type": "code",
      "metadata": {
        "colab": {
          "base_uri": "https://localhost:8080/"
        },
        "id": "_8IM0lXNsusi",
        "outputId": "1155686e-9e65-4a80-b749-8d045177462d"
      },
      "source": [
        "# Evaluate the 10-fold CV error\n",
        "\n",
        "from sklearn.model_selection import cross_val_score\n",
        "\n",
        "# Compute the array containing the 10-folds CV MSEs\n",
        "MSE_CV_scores = - cross_val_score(dt, X_train, y_train, cv=10, scoring='neg_mean_squared_error', n_jobs=-1) \n",
        "\n",
        "# Compute the 10-folds CV RMSE\n",
        "RMSE_CV = (MSE_CV_scores.mean())**(1/2)\n",
        "\n",
        "# Print RMSE_CV\n",
        "print('CV RMSE: {:.2f}'.format(RMSE_CV))"
      ],
      "execution_count": 20,
      "outputs": [
        {
          "output_type": "stream",
          "text": [
            "CV RMSE: 5.14\n"
          ],
          "name": "stdout"
        }
      ]
    },
    {
      "cell_type": "code",
      "metadata": {
        "colab": {
          "base_uri": "https://localhost:8080/"
        },
        "id": "Cb-Hldp-s4sa",
        "outputId": "92c4f09f-170a-466d-d438-581138293cb3"
      },
      "source": [
        "# Evaluate the training error\n",
        "\n",
        "# Import mean_squared_error from sklearn.metrics as MSE\n",
        "from sklearn.metrics import mean_squared_error as MSE\n",
        "\n",
        "# Fit dt to the training set\n",
        "dt.fit(X_train, y_train)\n",
        "\n",
        "# Predict the labels of the training set\n",
        "y_pred_train = dt.predict(X_train)\n",
        "\n",
        "# Evaluate the training set RMSE of dt\n",
        "RMSE_train = (MSE(y_train, y_pred_train))**(0.5)\n",
        "\n",
        "# Print RMSE_train\n",
        "print('Train RMSE: {:.2f}'.format(RMSE_train))"
      ],
      "execution_count": 21,
      "outputs": [
        {
          "output_type": "stream",
          "text": [
            "Train RMSE: 5.15\n"
          ],
          "name": "stdout"
        }
      ]
    },
    {
      "cell_type": "markdown",
      "metadata": {
        "id": "_Wg-3biIuWYc"
      },
      "source": [
        "**High bias or high variance?**\n",
        "\n",
        "In this exercise you'll diagnose whether the regression tree dt you trained in the previous exercise suffers from a bias or a variance problem.\n",
        "\n",
        "The training set RMSE (RMSE_train) and the CV RMSE (RMSE_CV) achieved by dt are available in your workspace. In addition, we have also loaded a variable called baseline_RMSE which corresponds to the root mean-squared error achieved by the regression-tree trained with the disp feature only (it is the RMSE achieved by the regression tree trained in chapter 1, lesson 3). Here baseline_RMSE serves as the baseline RMSE above which a model is considered to be underfitting and below which the model is considered 'good enough'.\n",
        "\n",
        "Does dt suffer from a high bias or a high variance problem?\n",
        "\n",
        "**Possible Answers**\n",
        "\n",
        "- [ ] dt suffers from high variance because RMSE_CV is far less than RMSE_train.\n",
        "- [x] dt suffers from high bias because RMSE_CV = RMSE_train and both scores are greater than baseline_RMSE.\n",
        "- [ ] dt is a good fit because RMSE_CV = RMSE_train and both scores are smaller than baseline_RMSE"
      ]
    },
    {
      "cell_type": "code",
      "metadata": {
        "id": "UoUr16JyumJP"
      },
      "source": [
        "# Ensemble Learning\n",
        "\n",
        "# Define the ensemble\n",
        "\n",
        "filename = 'https://raw.githubusercontent.com/chesterheng/ai-for-industry/main/datasets/indian_liver_patient_preprocessed.csv'\n",
        "liver = pd.read_csv(filename, index_col = 0)\n",
        "\n",
        "X = liver.drop('Liver_disease', axis = 1)\n",
        "y = liver['Liver_disease']\n",
        "X_train, X_test, y_train, y_test = train_test_split(X, y, test_size=0.3, random_state=SEED)\n",
        "\n",
        "from sklearn.neighbors import KNeighborsClassifier as KNN\n",
        "# Set seed for reproducibility\n",
        "SEED=1\n",
        "\n",
        "# Instantiate lr\n",
        "lr = LogisticRegression(random_state=SEED, solver = 'liblinear')\n",
        "\n",
        "# Instantiate knn\n",
        "knn = KNN(n_neighbors=27)\n",
        "\n",
        "# Instantiate dt\n",
        "dt = DecisionTreeClassifier(min_samples_leaf=0.13, random_state=SEED)\n",
        "\n",
        "# Define the list classifiers\n",
        "classifiers = [('Logistic Regression', lr), ('K Nearest Neighbours', knn), ('Classification Tree', dt)]"
      ],
      "execution_count": 23,
      "outputs": []
    },
    {
      "cell_type": "code",
      "metadata": {
        "colab": {
          "base_uri": "https://localhost:8080/"
        },
        "id": "PurQgIOdvRiL",
        "outputId": "e0581156-f104-4f70-b840-037725743854"
      },
      "source": [
        "# Evaluate individual classifiers\n",
        "\n",
        "# Iterate over the pre-defined list of classifiers\n",
        "for clf_name, clf in classifiers:    \n",
        " \n",
        "    # Fit clf to the training set\n",
        "    clf.fit(X_train, y_train)\n",
        "   \n",
        "    # Predict y_pred\n",
        "    y_pred = clf.predict(X_test)\n",
        "    \n",
        "    # Calculate accuracy\n",
        "    accuracy =accuracy_score(y_test, y_pred)\n",
        "   \n",
        "    # Evaluate clf's accuracy on the test set\n",
        "    print('{:s} : {:.3f}'.format(clf_name, accuracy))"
      ],
      "execution_count": 24,
      "outputs": [
        {
          "output_type": "stream",
          "text": [
            "Logistic Regression : 0.764\n",
            "K Nearest Neighbours : 0.701\n",
            "Classification Tree : 0.730\n"
          ],
          "name": "stdout"
        }
      ]
    },
    {
      "cell_type": "code",
      "metadata": {
        "colab": {
          "base_uri": "https://localhost:8080/"
        },
        "id": "BEzkUVl5vZP8",
        "outputId": "3fe4b533-bce5-4c81-f5ff-bf01b4e1feba"
      },
      "source": [
        "# Better performance with a Voting Classifier\n",
        "\n",
        "# Import VotingClassifier from sklearn.ensemble\n",
        "from sklearn.ensemble import VotingClassifier\n",
        "\n",
        "# Instantiate a VotingClassifier vc\n",
        "vc = VotingClassifier(estimators=classifiers)     \n",
        "\n",
        "# Fit vc to the training set\n",
        "vc.fit(X_train, y_train)\n",
        "\n",
        "# Evaluate the test set predictions\n",
        "y_pred = vc.predict(X_test)\n",
        "\n",
        "# Calculate accuracy score\n",
        "accuracy = accuracy_score(y_test, y_pred)\n",
        "print('Voting Classifier: {:.3f}'.format(accuracy))"
      ],
      "execution_count": 25,
      "outputs": [
        {
          "output_type": "stream",
          "text": [
            "Voting Classifier: 0.770\n"
          ],
          "name": "stdout"
        }
      ]
    },
    {
      "cell_type": "markdown",
      "metadata": {
        "id": "EFVnwyEavlzS"
      },
      "source": [
        "## 3. Bagging and Random Forests"
      ]
    },
    {
      "cell_type": "code",
      "metadata": {
        "id": "fSKLxy_IviDQ"
      },
      "source": [
        "# Bagging\n",
        "\n",
        "# Define the bagging classifier\n",
        "\n",
        "# Import DecisionTreeClassifier\n",
        "from sklearn.tree import DecisionTreeClassifier\n",
        "\n",
        "# Import BaggingClassifier\n",
        "from sklearn.ensemble import BaggingClassifier\n",
        "\n",
        "# Instantiate dt\n",
        "dt = DecisionTreeClassifier(random_state=1)\n",
        "\n",
        "# Instantiate bc\n",
        "bc = BaggingClassifier(base_estimator=dt, n_estimators=50, random_state=1)"
      ],
      "execution_count": 26,
      "outputs": []
    },
    {
      "cell_type": "code",
      "metadata": {
        "colab": {
          "base_uri": "https://localhost:8080/"
        },
        "id": "2_H4bn-HwSB4",
        "outputId": "d3746e19-2f0a-4e44-dd5c-214b27415b50"
      },
      "source": [
        "# Evaluate Bagging performance\n",
        "\n",
        "# Fit bc to the training set\n",
        "bc.fit(X_train, y_train)\n",
        "\n",
        "# Predict test set labels\n",
        "y_pred = bc.predict(X_test)\n",
        "\n",
        "# Evaluate acc_test\n",
        "acc_test = accuracy_score(y_test, y_pred)\n",
        "print('Test set accuracy of bc: {:.2f}'.format(acc_test))"
      ],
      "execution_count": 27,
      "outputs": [
        {
          "output_type": "stream",
          "text": [
            "Test set accuracy of bc: 0.69\n"
          ],
          "name": "stdout"
        }
      ]
    },
    {
      "cell_type": "code",
      "metadata": {
        "id": "YrJbESIawZ8D"
      },
      "source": [
        "# Out of Bag Evaluation\n",
        "\n",
        "# Prepare the ground\n",
        "\n",
        "# Import DecisionTreeClassifier\n",
        "from sklearn.tree import DecisionTreeClassifier\n",
        "\n",
        "# Import BaggingClassifier\n",
        "from sklearn.ensemble import BaggingClassifier\n",
        "\n",
        "# Instantiate dt\n",
        "dt = DecisionTreeClassifier(min_samples_leaf=8, random_state=1)\n",
        "\n",
        "# Instantiate bc\n",
        "bc = BaggingClassifier(base_estimator=dt, \n",
        "            n_estimators=50,\n",
        "            oob_score=True,\n",
        "            random_state=1)"
      ],
      "execution_count": 28,
      "outputs": []
    },
    {
      "cell_type": "code",
      "metadata": {
        "colab": {
          "base_uri": "https://localhost:8080/"
        },
        "id": "VaP-fbamwi9V",
        "outputId": "0c6c2df1-77be-48c6-deec-acabeba13848"
      },
      "source": [
        "# OOB Score vs Test Set Score\n",
        "\n",
        "# Fit bc to the training set \n",
        "bc.fit(X_train, y_train)\n",
        "\n",
        "# Predict test set labels\n",
        "y_pred = bc.predict(X_test)\n",
        "\n",
        "# Evaluate test set accuracy\n",
        "acc_test = accuracy_score(y_test, y_pred)\n",
        "\n",
        "# Evaluate OOB accuracy\n",
        "acc_oob = bc.oob_score_\n",
        "\n",
        "# Print acc_test and acc_oob\n",
        "print('Test set accuracy: {:.3f}, OOB accuracy: {:.3f}'.format(acc_test, acc_oob))"
      ],
      "execution_count": 29,
      "outputs": [
        {
          "output_type": "stream",
          "text": [
            "Test set accuracy: 0.718, OOB accuracy: 0.686\n"
          ],
          "name": "stdout"
        }
      ]
    },
    {
      "cell_type": "code",
      "metadata": {
        "colab": {
          "base_uri": "https://localhost:8080/"
        },
        "id": "mqvPfjPnwpy7",
        "outputId": "ba71a318-4fc4-4a8a-99f7-b38850c1e6c9"
      },
      "source": [
        "# Random Forests (RF)\n",
        "\n",
        "# Train an RF regressor\n",
        "\n",
        "filename = 'https://raw.githubusercontent.com/chesterheng/ai-for-industry/main/datasets/bikes.csv'\n",
        "bike = pd.read_csv(filename)\n",
        "X = bike[['hr', 'holiday', 'workingday', 'temp', 'hum', 'windspeed', 'instant',\n",
        "       'mnth', 'yr', 'Clear to partly cloudy', 'Light Precipitation', 'Misty']]\n",
        "y = bike['cnt']\n",
        "X_train, X_test, y_train, y_test = train_test_split(X, y, test_size=0.2, random_state=SEED)\n",
        "\n",
        "# Import RandomForestRegressor\n",
        "from sklearn.ensemble import RandomForestRegressor\n",
        "\n",
        "# Instantiate rf\n",
        "rf = RandomForestRegressor(n_estimators=25,\n",
        "            random_state=2)\n",
        "            \n",
        "# Fit rf to the training set    \n",
        "rf.fit(X_train, y_train)"
      ],
      "execution_count": 30,
      "outputs": [
        {
          "output_type": "execute_result",
          "data": {
            "text/plain": [
              "RandomForestRegressor(bootstrap=True, ccp_alpha=0.0, criterion='mse',\n",
              "                      max_depth=None, max_features='auto', max_leaf_nodes=None,\n",
              "                      max_samples=None, min_impurity_decrease=0.0,\n",
              "                      min_impurity_split=None, min_samples_leaf=1,\n",
              "                      min_samples_split=2, min_weight_fraction_leaf=0.0,\n",
              "                      n_estimators=25, n_jobs=None, oob_score=False,\n",
              "                      random_state=2, verbose=0, warm_start=False)"
            ]
          },
          "metadata": {
            "tags": []
          },
          "execution_count": 30
        }
      ]
    },
    {
      "cell_type": "code",
      "metadata": {
        "colab": {
          "base_uri": "https://localhost:8080/"
        },
        "id": "BQM2mS2iw6dp",
        "outputId": "9cdbea14-cbac-47c3-af8e-4633ea06a0b2"
      },
      "source": [
        "# Evaluate the RF regressor\n",
        "\n",
        "# Import mean_squared_error as MSE\n",
        "from sklearn.metrics import mean_squared_error as MSE\n",
        "\n",
        "# Predict the test set labels\n",
        "y_pred = rf.predict(X_test)\n",
        "\n",
        "# Evaluate the test set RMSE\n",
        "rmse_test = (MSE(y_test, y_pred))**0.5\n",
        "\n",
        "# Print rmse_test\n",
        "print('Test set RMSE of rf: {:.2f}'.format(rmse_test))"
      ],
      "execution_count": 31,
      "outputs": [
        {
          "output_type": "stream",
          "text": [
            "Test set RMSE of rf: 51.84\n"
          ],
          "name": "stdout"
        }
      ]
    },
    {
      "cell_type": "code",
      "metadata": {
        "colab": {
          "base_uri": "https://localhost:8080/",
          "height": 281
        },
        "id": "cJXk347RxBc2",
        "outputId": "6b3175e1-757c-4a65-c552-260fe0ec7dd7"
      },
      "source": [
        "# Visualizing features importances\n",
        "\n",
        "# Create a pd.Series of features importances\n",
        "importances = pd.Series(data=rf.feature_importances_,\n",
        "                        index= X_train.columns)\n",
        "\n",
        "# Sort importances\n",
        "importances_sorted = importances.sort_values()\n",
        "\n",
        "# Draw a horizontal barplot of importances_sorted\n",
        "importances_sorted.plot(kind = 'barh', color = 'lightgreen')\n",
        "plt.title('Features Importances')\n",
        "plt.show()"
      ],
      "execution_count": 32,
      "outputs": [
        {
          "output_type": "display_data",
          "data": {
            "image/png": "[encoded data removed]",
            "text/plain": [
              "<Figure size 432x288 with 1 Axes>"
            ]
          },
          "metadata": {
            "tags": [],
            "needs_background": "light"
          }
        }
      ]
    },
    {
      "cell_type": "markdown",
      "metadata": {
        "id": "DBKYiwslxJfy"
      },
      "source": [
        "## 4. Boosting"
      ]
    },
    {
      "cell_type": "code",
      "metadata": {
        "id": "jXjnsu3BxJ7D"
      },
      "source": [
        "# Adaboost\n",
        "\n",
        "# Define the AdaBoost classifier\n",
        "\n",
        "# Import DecisionTreeClassifier\n",
        "from sklearn.tree import DecisionTreeClassifier\n",
        "\n",
        "# Import AdaBoostClassifier\n",
        "from sklearn.ensemble import AdaBoostClassifier\n",
        "\n",
        "# Instantiate dt\n",
        "dt = DecisionTreeClassifier(max_depth = 2, random_state=1)\n",
        "\n",
        "# Instantiate ada\n",
        "ada = AdaBoostClassifier(base_estimator=dt, n_estimators=180, random_state=1)"
      ],
      "execution_count": 33,
      "outputs": []
    },
    {
      "cell_type": "code",
      "metadata": {
        "id": "dOrRfAIQx7LM"
      },
      "source": [
        "# Train the AdaBoost classifier\n",
        "\n",
        "X = liver.drop('Liver_disease', axis = 1)\n",
        "y = liver['Liver_disease']\n",
        "X_train, X_test, y_train, y_test = train_test_split(X, y, test_size=0.2, random_state=SEED)\n",
        "\n",
        "# Fit ada to the training set\n",
        "ada.fit(X_train, y_train)\n",
        "\n",
        "# Compute the probabilities of obtaining the positive class\n",
        "y_pred_proba = ada.predict_proba(X_test)[:, 1]"
      ],
      "execution_count": 34,
      "outputs": []
    },
    {
      "cell_type": "code",
      "metadata": {
        "colab": {
          "base_uri": "https://localhost:8080/"
        },
        "id": "MwnFic7wyD8K",
        "outputId": "ffafcef7-f3a5-4e18-dcfb-8b4dd11c6cc3"
      },
      "source": [
        "# Evaluate the AdaBoost classifier\n",
        "\n",
        "# Import roc_auc_score\n",
        "from sklearn.metrics import roc_auc_score\n",
        "\n",
        "# Evaluate test-set roc_auc_score\n",
        "ada_roc_auc = roc_auc_score(y_test, y_pred_proba)\n",
        "\n",
        "# Print roc_auc_score\n",
        "print('ROC AUC score: {:.2f}'.format(ada_roc_auc))"
      ],
      "execution_count": 35,
      "outputs": [
        {
          "output_type": "stream",
          "text": [
            "ROC AUC score: 0.64\n"
          ],
          "name": "stdout"
        }
      ]
    },
    {
      "cell_type": "code",
      "metadata": {
        "id": "jOe_qEvMyIpA"
      },
      "source": [
        "# Gradient Boosting (GB)\n",
        "\n",
        "# Define the GB regressor\n",
        "\n",
        "# Import GradientBoostingRegressor\n",
        "from sklearn.ensemble import GradientBoostingRegressor \n",
        "\n",
        "# Instantiate gb\n",
        "gb = GradientBoostingRegressor(max_depth = 4, \n",
        "            n_estimators = 200,\n",
        "            random_state=2)"
      ],
      "execution_count": 36,
      "outputs": []
    },
    {
      "cell_type": "code",
      "metadata": {
        "id": "1D1J5N33ySwJ"
      },
      "source": [
        "# Train the GB regressor\n",
        "\n",
        "X = bike[['hr', 'holiday', 'workingday', 'temp', 'hum', 'windspeed', 'instant',\n",
        "       'mnth', 'yr', 'Clear to partly cloudy', 'Light Precipitation', 'Misty']]\n",
        "y = bike['cnt']\n",
        "X_train, X_test, y_train, y_test = train_test_split(X, y, test_size=0.2, random_state=SEED)\n",
        "\n",
        "# Fit gb to the training set\n",
        "gb.fit(X_train, y_train)\n",
        "\n",
        "# Predict test set labels\n",
        "y_pred = gb.predict(X_test)"
      ],
      "execution_count": 37,
      "outputs": []
    },
    {
      "cell_type": "code",
      "metadata": {
        "colab": {
          "base_uri": "https://localhost:8080/"
        },
        "id": "S_0LoLGJyaBZ",
        "outputId": "abbce121-4485-4bc0-9688-2c9326c870e2"
      },
      "source": [
        "# Evaluate the GB regressor\n",
        "\n",
        "# Import mean_squared_error as MSE\n",
        "from sklearn.metrics import mean_squared_error as MSE\n",
        "\n",
        "# Compute MSE\n",
        "mse_test = MSE(y_test, y_pred)\n",
        "\n",
        "# Compute RMSE\n",
        "rmse_test = mse_test ** 0.5\n",
        "\n",
        "# Print RMSE\n",
        "print('Test set RMSE of gb: {:.3f}'.format(rmse_test))"
      ],
      "execution_count": 38,
      "outputs": [
        {
          "output_type": "stream",
          "text": [
            "Test set RMSE of gb: 43.113\n"
          ],
          "name": "stdout"
        }
      ]
    },
    {
      "cell_type": "code",
      "metadata": {
        "id": "f9CIxsXeyf8B"
      },
      "source": [
        "# Stochastic Gradient Boosting (SGB)\n",
        "\n",
        "# Regression with SGB\n",
        "\n",
        "# Import GradientBoostingRegressor\n",
        "from sklearn.ensemble import GradientBoostingRegressor\n",
        "\n",
        "# Instantiate sgbr\n",
        "sgbr = GradientBoostingRegressor(max_depth=4, \n",
        "            subsample=0.9,\n",
        "            max_features=0.75,\n",
        "            n_estimators=200,                                \n",
        "            random_state=2)"
      ],
      "execution_count": 39,
      "outputs": []
    },
    {
      "cell_type": "code",
      "metadata": {
        "id": "C3C527waypjK"
      },
      "source": [
        "# Train the SGB regressor\n",
        "\n",
        "# Fit sgbr to the training set\n",
        "sgbr.fit(X_train, y_train)\n",
        "\n",
        "# Predict test set labels\n",
        "y_pred = sgbr.predict(X_test)"
      ],
      "execution_count": 40,
      "outputs": []
    },
    {
      "cell_type": "code",
      "metadata": {
        "colab": {
          "base_uri": "https://localhost:8080/"
        },
        "id": "_J93d1-syvAB",
        "outputId": "b2de0cee-e593-469d-9cef-9fd064237d06"
      },
      "source": [
        "# Evaluate the SGB regressor\n",
        "\n",
        "# Import mean_squared_error as MSE\n",
        "from sklearn.metrics import mean_squared_error as MSE\n",
        "\n",
        "# Compute test set MSE\n",
        "mse_test = MSE(y_test, y_pred)\n",
        "\n",
        "# Compute test set RMSE\n",
        "rmse_test = mse_test ** 0.5\n",
        "\n",
        "# Print rmse_test\n",
        "print('Test set RMSE of sgbr: {:.3f}'.format(rmse_test))"
      ],
      "execution_count": 41,
      "outputs": [
        {
          "output_type": "stream",
          "text": [
            "Test set RMSE of sgbr: 45.143\n"
          ],
          "name": "stdout"
        }
      ]
    },
    {
      "cell_type": "markdown",
      "metadata": {
        "id": "St-Ik3pAy4kF"
      },
      "source": [
        "## 5. Model Tuning"
      ]
    },
    {
      "cell_type": "code",
      "metadata": {
        "id": "YpP96WaLy5OH"
      },
      "source": [
        "# Tuning a CART's Hyperparameters"
      ],
      "execution_count": null,
      "outputs": []
    },
    {
      "cell_type": "markdown",
      "metadata": {
        "id": "ioObVfL6y-Wk"
      },
      "source": [
        "**Tree hyperparameters**\n",
        "\n",
        "In the following exercises you'll revisit the Indian Liver Patient dataset which was introduced in a previous chapter.\n",
        "\n",
        "Your task is to tune the hyperparameters of a classification tree. Given that this dataset is imbalanced, you'll be using the ROC AUC score as a metric instead of accuracy.\n",
        "\n",
        "We have instantiated a DecisionTreeClassifier and assigned to dt with sklearn's default hyperparameters. You can inspect the hyperparameters of dt in your console.\n",
        "\n",
        "Which of the following is not a hyperparameter of dt?\n",
        "\n",
        "**Possible Answers**\n",
        "\n",
        "- [ ] min_impurity_decrease\n",
        "- [ ] min_weight_fraction_leaf\n",
        "- [x] min_features\n",
        "- [ ] splitter"
      ]
    },
    {
      "cell_type": "code",
      "metadata": {
        "id": "-r2KgSHJzKjh"
      },
      "source": [
        "# Set the tree's hyperparameter grid\n",
        "\n",
        "# Define params_dt\n",
        "params_dt = {'max_depth': [2, 3, 4], 'min_samples_leaf': [0.12, 0.14, 0.16, 0.18]}"
      ],
      "execution_count": 42,
      "outputs": []
    },
    {
      "cell_type": "code",
      "metadata": {
        "id": "tLtmmVJ2zTnq"
      },
      "source": [
        "# Search for the optimal tree\n",
        "\n",
        "# Import GridSearchCV\n",
        "from sklearn.model_selection import GridSearchCV\n",
        "\n",
        "# Instantiate grid_dt\n",
        "grid_dt = GridSearchCV(estimator=dt,\n",
        "                       param_grid=params_dt,\n",
        "                       scoring='roc_auc',\n",
        "                       cv=5,\n",
        "                       n_jobs=-1)"
      ],
      "execution_count": 44,
      "outputs": []
    },
    {
      "cell_type": "code",
      "metadata": {
        "colab": {
          "base_uri": "https://localhost:8080/"
        },
        "id": "JXfP5hJmzY1-",
        "outputId": "7318b6d2-4ffb-41a6-9b00-cf8d830473a1"
      },
      "source": [
        "# Evaluate the optimal tree\n",
        "\n",
        "X = liver.drop('Liver_disease', axis = 1)\n",
        "y = liver['Liver_disease']\n",
        "X_train, X_test, y_train, y_test = train_test_split(X, y, test_size=0.2, random_state=SEED)\n",
        "grid_dt.fit(X_train, y_train)\n",
        "\n",
        "# Import roc_auc_score from sklearn.metrics \n",
        "from sklearn.metrics import roc_auc_score\n",
        "\n",
        "# Extract the best estimator\n",
        "best_model = grid_dt.best_estimator_\n",
        "\n",
        "# Predict the test set probabilities of the positive class\n",
        "y_pred_proba = best_model.predict_proba(X_test)[:,1]\n",
        "\n",
        "# Compute test_roc_auc\n",
        "test_roc_auc = roc_auc_score(y_test, y_pred_proba)\n",
        "\n",
        "# Print test_roc_auc\n",
        "print('Test set ROC AUC score: {:.3f}'.format(test_roc_auc))"
      ],
      "execution_count": 54,
      "outputs": [
        {
          "output_type": "stream",
          "text": [
            "Test set ROC AUC score: 0.731\n"
          ],
          "name": "stdout"
        }
      ]
    },
    {
      "cell_type": "code",
      "metadata": {
        "id": "_x5iIMZ5ziH1"
      },
      "source": [
        "# Tuning a RF's Hyperparameters"
      ],
      "execution_count": null,
      "outputs": []
    },
    {
      "cell_type": "markdown",
      "metadata": {
        "id": "0Suvfb7xzmPQ"
      },
      "source": [
        "**Random forests hyperparameters**\n",
        "\n",
        "In the following exercises, you'll be revisiting the Bike Sharing Demand dataset that was introduced in a previous chapter. Recall that your task is to predict the bike rental demand using historical weather data from the Capital Bikeshare program in Washington, D.C.. For this purpose, you'll be tuning the hyperparameters of a Random Forests regressor.\n",
        "\n",
        "We have instantiated a RandomForestRegressor called rf using sklearn's default hyperparameters. You can inspect the hyperparameters of rf in your console.\n",
        "\n",
        "Which of the following is not a hyperparameter of rf?\n",
        "\n",
        "**Possible Answers**\n",
        "\n",
        "- [ ] min_weight_fraction_leaf\n",
        "- [ ] criterion\n",
        "- [x] learning_rate\n",
        "- [ ] warm_start"
      ]
    },
    {
      "cell_type": "code",
      "metadata": {
        "id": "L73ibuzkzxMX"
      },
      "source": [
        "# Set the hyperparameter grid of RF\n",
        "\n",
        "# Define the dictionary 'params_rf'\n",
        "params_rf = {'n_estimators': [100, 350, 500], 'max_features': ['log2', 'auto', 'sqrt'], 'min_samples_leaf': [2, 10, 30]}"
      ],
      "execution_count": 55,
      "outputs": []
    },
    {
      "cell_type": "code",
      "metadata": {
        "id": "IF9GGihtz16D"
      },
      "source": [
        "# Search for the optimal forest\n",
        "\n",
        "rf = RandomForestRegressor(bootstrap=True, criterion='mse', max_depth=None,\n",
        "           max_features='auto', max_leaf_nodes=None,\n",
        "           min_impurity_decrease=0.0, min_impurity_split=None,\n",
        "           min_samples_leaf=1, min_samples_split=2,\n",
        "           min_weight_fraction_leaf=0.0, n_estimators=10, n_jobs=-1,\n",
        "           oob_score=False, random_state=2, verbose=0, warm_start=False)\n",
        "\n",
        "# Import GridSearchCV\n",
        "from sklearn.model_selection import  GridSearchCV\n",
        "\n",
        "# Instantiate grid_rf\n",
        "grid_rf = GridSearchCV(estimator=rf,\n",
        "                       param_grid=params_rf,\n",
        "                       scoring='neg_mean_squared_error',\n",
        "                       cv=3,\n",
        "                       verbose=1,\n",
        "                       n_jobs=-1)"
      ],
      "execution_count": 56,
      "outputs": []
    },
    {
      "cell_type": "code",
      "metadata": {
        "colab": {
          "base_uri": "https://localhost:8080/"
        },
        "id": "xC1QU9r-z8sP",
        "outputId": "ff67c7df-8d10-4284-d545-278bbfebdb82"
      },
      "source": [
        "# Evaluate the optimal forest\n",
        "\n",
        "X = bike[['hr', 'holiday', 'workingday', 'temp', 'hum', 'windspeed', 'instant',\n",
        "       'mnth', 'yr', 'Clear to partly cloudy', 'Light Precipitation', 'Misty']]\n",
        "y = bike['cnt']\n",
        "X_train, X_test, y_train, y_test = train_test_split(X, y, test_size=0.2, random_state=SEED)\n",
        "grid_rf.fit(X_train, y_train)\n",
        "\n",
        "# Import mean_squared_error from sklearn.metrics as MSE \n",
        "from sklearn.metrics import mean_squared_error as MSE\n",
        "\n",
        "# Extract the best estimator\n",
        "best_model = grid_rf.best_estimator_\n",
        "\n",
        "# Predict test set labels\n",
        "y_pred = best_model.predict(X_test)\n",
        "\n",
        "# Compute rmse_test\n",
        "rmse_test = MSE(y_test, y_pred)**0.5\n",
        "\n",
        "# Print rmse_test\n",
        "print('Test RMSE of best model: {:.3f}'.format(rmse_test))"
      ],
      "execution_count": 58,
      "outputs": [
        {
          "output_type": "stream",
          "text": [
            "Fitting 3 folds for each of 27 candidates, totalling 81 fits\n"
          ],
          "name": "stdout"
        },
        {
          "output_type": "stream",
          "text": [
            "[Parallel(n_jobs=-1)]: Using backend LokyBackend with 2 concurrent workers.\n",
            "[Parallel(n_jobs=-1)]: Done  46 tasks      | elapsed:   26.5s\n",
            "[Parallel(n_jobs=-1)]: Done  81 out of  81 | elapsed:   44.6s finished\n"
          ],
          "name": "stderr"
        },
        {
          "output_type": "stream",
          "text": [
            "Test RMSE of best model: 51.755\n"
          ],
          "name": "stdout"
        }
      ]
    }
  ]
}