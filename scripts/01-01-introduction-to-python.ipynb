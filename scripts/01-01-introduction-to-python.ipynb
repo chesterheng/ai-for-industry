{
  "nbformat": 4,
  "nbformat_minor": 0,
  "metadata": {
    "colab": {
      "name": "01-introduction-to-python.ipynb",
      "provenance": [],
      "collapsed_sections": []
    },
    "kernelspec": {
      "name": "python3",
      "display_name": "Python 3"
    }
  },
  "cells": [
    {
      "cell_type": "markdown",
      "metadata": {
        "id": "JqBEglbSkUKz"
      },
      "source": [
        "#Introduction to Python\n",
        "## 1. Python Basics\n",
        "## 2. Python Lists\n",
        "## 3. Functions\n",
        "## 4. NumPy"
      ]
    },
    {
      "cell_type": "markdown",
      "metadata": {
        "id": "lqWsBlZRpOUR"
      },
      "source": [
        "## 1. Python Basics"
      ]
    },
    {
      "cell_type": "code",
      "metadata": {
        "colab": {
          "base_uri": "https://localhost:8080/"
        },
        "id": "cPyzsHrGkgHX",
        "outputId": "60e9b417-e838-47f7-fb35-805b4f645161"
      },
      "source": [
        "# 1.1 Hello Python!\n",
        "\n",
        "# Division\n",
        "print(5 / 8)\n",
        "\n",
        "# Addition\n",
        "print(7 + 10)"
      ],
      "execution_count": 225,
      "outputs": [
        {
          "output_type": "stream",
          "text": [
            "0.625\n",
            "17\n"
          ],
          "name": "stdout"
        }
      ]
    },
    {
      "cell_type": "markdown",
      "metadata": {
        "id": "tkEmWOLMoa9e"
      },
      "source": [
        "When to use Python?\n",
        "- [ ] You want to do some quick calculations.\n",
        "- [ ] For your new business, you want to develop a database-driven website.\n",
        "- [ ] Your boss asks you to clean and analyze the results of the latest satisfaction survey.\n",
        "- [x] All of the above."
      ]
    },
    {
      "cell_type": "code",
      "metadata": {
        "colab": {
          "base_uri": "https://localhost:8080/"
        },
        "id": "IDnCLuFRop7Y",
        "outputId": "9f0c1694-db41-4726-d332-83c186e7b178"
      },
      "source": [
        "# Python as a calculator\n",
        "\n",
        "# Addition, subtraction\n",
        "print(5 + 5)\n",
        "print(5 - 5)\n",
        "\n",
        "# Multiplication, division, modulo, and exponentiation\n",
        "print(3 * 5)\n",
        "print(10 / 2)\n",
        "print(18 % 7)\n",
        "print(4 ** 2)\n",
        "\n",
        "# How much is your $100 worth after 7 years?\n",
        "print (1.1 ** 7 * 100)"
      ],
      "execution_count": 226,
      "outputs": [
        {
          "output_type": "stream",
          "text": [
            "10\n",
            "0\n",
            "15\n",
            "5.0\n",
            "4\n",
            "16\n",
            "194.87171000000012\n"
          ],
          "name": "stdout"
        }
      ]
    },
    {
      "cell_type": "code",
      "metadata": {
        "colab": {
          "base_uri": "https://localhost:8080/"
        },
        "id": "qiZfmUtAo_Rm",
        "outputId": "027d2af1-9787-4159-95f7-c9fd52bf85e6"
      },
      "source": [
        "# 1.2 Variables and Types\n",
        "\n",
        "# Variable Assignment\n",
        "\n",
        "# Create a variable savings\n",
        "savings = 100\n",
        "\n",
        "# Print out savings\n",
        "print(savings)"
      ],
      "execution_count": 227,
      "outputs": [
        {
          "output_type": "stream",
          "text": [
            "100\n"
          ],
          "name": "stdout"
        }
      ]
    },
    {
      "cell_type": "code",
      "metadata": {
        "colab": {
          "base_uri": "https://localhost:8080/"
        },
        "id": "XYDjZlpypCpH",
        "outputId": "818ac755-99e8-4a69-b73a-bb7867d1b528"
      },
      "source": [
        "# Calculations with variables\n",
        "\n",
        "# Create a variable savings\n",
        "savings = 100\n",
        "\n",
        "# Create a variable growth_multiplier\n",
        "growth_multiplier = 1.1\n",
        "\n",
        "# Calculate result\n",
        "result = savings * growth_multiplier ** 7\n",
        "\n",
        "# Print out result\n",
        "print(result)"
      ],
      "execution_count": 228,
      "outputs": [
        {
          "output_type": "stream",
          "text": [
            "194.87171000000012\n"
          ],
          "name": "stdout"
        }
      ]
    },
    {
      "cell_type": "code",
      "metadata": {
        "id": "-mqnYtLhpF-G"
      },
      "source": [
        "# Other variable types\n",
        "\n",
        "# Create a variable desc\n",
        "desc = \"compound interest\"\n",
        "\n",
        "# Create a variable profitable\n",
        "profitable = True"
      ],
      "execution_count": 229,
      "outputs": []
    },
    {
      "cell_type": "code",
      "metadata": {
        "colab": {
          "base_uri": "https://localhost:8080/"
        },
        "id": "EZpFbZDZpLqv",
        "outputId": "dc341088-9c63-41b5-ac47-2e9dfd695953"
      },
      "source": [
        "# Guess the type\n",
        "a = 1.1\n",
        "b = \"Hello World\"\n",
        "c = True\n",
        "print(type(a))\n",
        "print(type(b))\n",
        "print(type(c))"
      ],
      "execution_count": 230,
      "outputs": [
        {
          "output_type": "stream",
          "text": [
            "<class 'float'>\n",
            "<class 'str'>\n",
            "<class 'bool'>\n"
          ],
          "name": "stdout"
        }
      ]
    },
    {
      "cell_type": "markdown",
      "metadata": {
        "id": "CKd0Em74pWHH"
      },
      "source": [
        "Guess the type\n",
        "\n",
        "- [ ] a is of type int, b is of type str, c is of type bool\n",
        "- [ ] a is of type float, b is of type bool, c is of type str\n",
        "- [x] a is of type float, b is of type str, c is of type bool\n",
        "- [ ] a is of type int, b is of type bool, c is of type str"
      ]
    },
    {
      "cell_type": "code",
      "metadata": {
        "colab": {
          "base_uri": "https://localhost:8080/"
        },
        "id": "JsO89ch0qLIa",
        "outputId": "a758606c-604b-47b2-b28b-ac1f14580434"
      },
      "source": [
        "# Operations with other types\n",
        "\n",
        "savings = 100\n",
        "growth_multiplier = 1.1\n",
        "desc = \"compound interest\"\n",
        "\n",
        "# Assign product of growth_multiplier and savings to year1\n",
        "year1 = savings * growth_multiplier\n",
        "\n",
        "# Print the type of year1\n",
        "print(type(year1))\n",
        "\n",
        "# Assign sum of desc and desc to doubledesc\n",
        "doubledesc = desc + desc\n",
        "\n",
        "# Print out doubledesc\n",
        "print(doubledesc)"
      ],
      "execution_count": 231,
      "outputs": [
        {
          "output_type": "stream",
          "text": [
            "<class 'float'>\n",
            "compound interestcompound interest\n"
          ],
          "name": "stdout"
        }
      ]
    },
    {
      "cell_type": "code",
      "metadata": {
        "colab": {
          "base_uri": "https://localhost:8080/"
        },
        "id": "hadjX2gGqQyR",
        "outputId": "d491e87b-6466-4d18-bc62-23826266ec17"
      },
      "source": [
        "# Type conversion\n",
        "\n",
        "# Definition of savings and result\n",
        "savings = 100\n",
        "result = 100 * 1.10 ** 7\n",
        "\n",
        "# Fix the printout\n",
        "print(\"I started with $\" + str(savings) + \" and now have $\" + str(result) + \". Awesome!\")\n",
        "\n",
        "# Definition of pi_string\n",
        "pi_string = \"3.1415926\"\n",
        "\n",
        "# Convert pi_string into float: pi_float\n",
        "pi_float = float(pi_string)"
      ],
      "execution_count": 232,
      "outputs": [
        {
          "output_type": "stream",
          "text": [
            "I started with $100 and now have $194.87171000000012. Awesome!\n"
          ],
          "name": "stdout"
        }
      ]
    },
    {
      "cell_type": "markdown",
      "metadata": {
        "id": "DyZtWjsCqYoH"
      },
      "source": [
        "Which one of these will throw an error?\n",
        "\n",
        "- [ ] \"I can add integers, like \" + str(5) + \" to strings.\"\n",
        "- [ ] \"I said \" + (\"Hey \" * 2) + \"Hey!\"\n",
        "- [x] \"The correct answer to this multiple choice exercise is answer number \" + 2\n",
        "- [ ] True + False"
      ]
    },
    {
      "cell_type": "markdown",
      "metadata": {
        "id": "jgpWyDJAtoed"
      },
      "source": [
        "## 2. Python Lists"
      ]
    },
    {
      "cell_type": "code",
      "metadata": {
        "colab": {
          "base_uri": "https://localhost:8080/"
        },
        "id": "711I1n1MqUDW",
        "outputId": "93078da6-d240-4a47-95ce-e9fb9ec489a2"
      },
      "source": [
        "# 2.1 Python Lists\n",
        "\n",
        "# Create a list\n",
        "\n",
        "# area variables (in square meters)\n",
        "hall = 11.25\n",
        "kit = 18.0\n",
        "liv = 20.0\n",
        "bed = 10.75\n",
        "bath = 9.50\n",
        "\n",
        "# Create list areas\n",
        "my_list = [hall, kit, liv, bed, bath]\n",
        "\n",
        "# Print areas\n",
        "print(my_list)"
      ],
      "execution_count": 233,
      "outputs": [
        {
          "output_type": "stream",
          "text": [
            "[11.25, 18.0, 20.0, 10.75, 9.5]\n"
          ],
          "name": "stdout"
        }
      ]
    },
    {
      "cell_type": "code",
      "metadata": {
        "colab": {
          "base_uri": "https://localhost:8080/"
        },
        "id": "ePD_RkHorFHB",
        "outputId": "3bd3ea8e-9d29-4ea2-fad4-5743391f1a72"
      },
      "source": [
        "# Create list with different types\n",
        "\n",
        "# area variables (in square meters)\n",
        "hall = 11.25\n",
        "kit = 18.0\n",
        "liv = 20.0\n",
        "bed = 10.75\n",
        "bath = 9.50\n",
        "\n",
        "# Adapt list areas\n",
        "areas = [\"hallway\", hall, \"kitchen\", kit, \"living room\", liv, \"bedroom\", bed, \"bathroom\", bath]\n",
        "\n",
        "# Print areas\n",
        "print(areas)"
      ],
      "execution_count": 234,
      "outputs": [
        {
          "output_type": "stream",
          "text": [
            "['hallway', 11.25, 'kitchen', 18.0, 'living room', 20.0, 'bedroom', 10.75, 'bathroom', 9.5]\n"
          ],
          "name": "stdout"
        }
      ]
    },
    {
      "cell_type": "markdown",
      "metadata": {
        "id": "bSoVo68srQce"
      },
      "source": [
        "Can you tell which ones of the following lines of Python code are valid ways to build a list?\n",
        "\n",
        "A. [1, 3, 4, 2] B. [[1, 2, 3], [4, 5, 7]] C. [1 + 2, \"a\" * 5, 3]\n",
        "\n",
        "- [x] A, B and C\n",
        "- [ ] B\n",
        "- [ ] B and C\n",
        "- [ ] C"
      ]
    },
    {
      "cell_type": "code",
      "metadata": {
        "colab": {
          "base_uri": "https://localhost:8080/"
        },
        "id": "PC2qecdIrKQu",
        "outputId": "3389824d-e7dc-48ec-aebe-d504bfc36677"
      },
      "source": [
        "# List of lists\n",
        "\n",
        "# area variables (in square meters)\n",
        "hall = 11.25\n",
        "kit = 18.0\n",
        "liv = 20.0\n",
        "bed = 10.75\n",
        "bath = 9.50\n",
        "\n",
        "# house information as list of lists\n",
        "house = [[\"hallway\", hall],\n",
        "         [\"kitchen\", kit],\n",
        "         [\"living room\", liv],\n",
        "         [\"bedroom\", bed],\n",
        "         [\"bathroom\", bath]]\n",
        "\n",
        "# Print out house\n",
        "print(house)\n",
        "\n",
        "# Print out the type of house\n",
        "print(type(house))"
      ],
      "execution_count": 235,
      "outputs": [
        {
          "output_type": "stream",
          "text": [
            "[['hallway', 11.25], ['kitchen', 18.0], ['living room', 20.0], ['bedroom', 10.75], ['bathroom', 9.5]]\n",
            "<class 'list'>\n"
          ],
          "name": "stdout"
        }
      ]
    },
    {
      "cell_type": "code",
      "metadata": {
        "colab": {
          "base_uri": "https://localhost:8080/"
        },
        "id": "fsKQGtzlreR0",
        "outputId": "15cf53c7-d6fb-45d7-f575-b43a45e2214c"
      },
      "source": [
        "# 2.2 Subsetting Lists\n",
        "\n",
        "# Subset and conquer\n",
        "\n",
        "# Create the areas list\n",
        "areas = [\"hallway\", 11.25, \"kitchen\", 18.0, \"living room\", 20.0, \"bedroom\", 10.75, \"bathroom\", 9.50]\n",
        "\n",
        "# Print out second element from areas\n",
        "print(areas[1])\n",
        "\n",
        "# Print out last element from areas\n",
        "print(areas[9])\n",
        "\n",
        "# Print out the area of the living room\n",
        "print(areas[5])"
      ],
      "execution_count": 236,
      "outputs": [
        {
          "output_type": "stream",
          "text": [
            "11.25\n",
            "9.5\n",
            "20.0\n"
          ],
          "name": "stdout"
        }
      ]
    },
    {
      "cell_type": "code",
      "metadata": {
        "colab": {
          "base_uri": "https://localhost:8080/"
        },
        "id": "D6zQQHHerjKY",
        "outputId": "32f9476f-7d22-4ea2-9769-58efa704202b"
      },
      "source": [
        "# Subset and calculate\n",
        "\n",
        "# Create the areas list\n",
        "areas = [\"hallway\", 11.25, \"kitchen\", 18.0, \"living room\", 20.0, \"bedroom\", 10.75, \"bathroom\", 9.50]\n",
        "\n",
        "# Sum of kitchen and bedroom area: eat_sleep_area\n",
        "eat_sleep_area = areas[3] + areas[7]\n",
        "\n",
        "# Print the vaariable eat_sleep_area\n",
        "print(eat_sleep_area)"
      ],
      "execution_count": 237,
      "outputs": [
        {
          "output_type": "stream",
          "text": [
            "28.75\n"
          ],
          "name": "stdout"
        }
      ]
    },
    {
      "cell_type": "code",
      "metadata": {
        "colab": {
          "base_uri": "https://localhost:8080/"
        },
        "id": "6mjma1YmrvT0",
        "outputId": "4ed4ba30-4645-4067-f34e-fefdebce04c0"
      },
      "source": [
        "# Slicing and dicing\n",
        "\n",
        "# Create the areas list\n",
        "areas = [\"hallway\", 11.25, \"kitchen\", 18.0, \"living room\", 20.0, \"bedroom\", 10.75, \"bathroom\", 9.50]\n",
        "\n",
        "# Use slicing to create downstairs\n",
        "downstairs = areas[:6]\n",
        "\n",
        "# Use slicing to create upstairs\n",
        "upstairs = areas[6:10]\n",
        "\n",
        "# Print out downstairs and upstairs\n",
        "print(downstairs)\n",
        "print(upstairs)\n",
        "\n",
        "# Alternative slicing to create downstairs\n",
        "downstairs = areas[:6]\n",
        "\n",
        "# Alternative slicing to create upstairs\n",
        "upstairs = areas[6:]"
      ],
      "execution_count": 238,
      "outputs": [
        {
          "output_type": "stream",
          "text": [
            "['hallway', 11.25, 'kitchen', 18.0, 'living room', 20.0]\n",
            "['bedroom', 10.75, 'bathroom', 9.5]\n"
          ],
          "name": "stdout"
        }
      ]
    },
    {
      "cell_type": "markdown",
      "metadata": {
        "id": "KgqLCohzr_hu"
      },
      "source": [
        "`house = \n",
        "[['hallway', 11.25],\n",
        " ['kitchen', 18.0],\n",
        " ['living room', 20.0],\n",
        " ['bedroom', 10.75],\n",
        " ['bathroom', 9.5]]\n",
        "`\n",
        "\n",
        "What will house[-1][1] return?\n",
        "- [ ] A float: the kitchen area\n",
        "- [ ] A string: \"kitchen\"\n",
        "- [x] A float: the bathroom area\n",
        "- [ ] A string: \"bathroom\""
      ]
    },
    {
      "cell_type": "code",
      "metadata": {
        "id": "8H9vbfD7sYaf"
      },
      "source": [
        "# 2.3 Python Lists\n",
        "\n",
        "# Replace list elements\n",
        "\n",
        "# Create the areas list\n",
        "areas = [\"hallway\", 11.25, \"kitchen\", 18.0, \"living room\", 20.0, \"bedroom\", 10.75, \"bathroom\", 9.50]\n",
        "\n",
        "# Correct the bathroom area\n",
        "areas[-1] = 10.50\n",
        "\n",
        "# Change \"living room\" to \"chill zone\"\n",
        "areas[4] = \"chill zone\""
      ],
      "execution_count": 239,
      "outputs": []
    },
    {
      "cell_type": "code",
      "metadata": {
        "id": "Sifpy6Sdr9PM"
      },
      "source": [
        "# Extend a list\n",
        "\n",
        "# Create the areas list and make some changes\n",
        "areas = [\"hallway\", 11.25, \"kitchen\", 18.0, \"chill zone\", 20.0,\n",
        "         \"bedroom\", 10.75, \"bathroom\", 10.50]\n",
        "\n",
        "# Add poolhouse data to areas, new list is areas_1\n",
        "areas_1 = areas + [\"poolhouse\", 24.5]\n",
        "\n",
        "# Add garage data to areas_1, new list is areas_2\n",
        "areas_2 = areas_1 + [\"garage\", 15.45]"
      ],
      "execution_count": 240,
      "outputs": []
    },
    {
      "cell_type": "markdown",
      "metadata": {
        "id": "izM-tiSgssf1"
      },
      "source": [
        "`areas = [\"hallway\", 11.25, \"kitchen\", 18.0,\n",
        "        \"chill zone\", 20.0, \"bedroom\", 10.75,\n",
        "         \"bathroom\", 10.50, \"poolhouse\", 24.5,\n",
        "         \"garage\", 15.45]\n",
        "`\n",
        "\n",
        "The amount you won with the lottery is not that big after all and it looks like the poolhouse isn't going to happen. You decide to remove the corresponding string and float from the areas list.\n",
        "Which of the code chunks will do the job for us?\n",
        "\n",
        "- [ ] del(areas[10]); del(areas[11])\n",
        "- [ ] del(areas[10:11])\n",
        "- [x] del(areas[-4:-2])\n",
        "- [ ] del(areas[-3]); del(areas[-4])"
      ]
    },
    {
      "cell_type": "code",
      "metadata": {
        "colab": {
          "base_uri": "https://localhost:8080/"
        },
        "id": "4TDG1fd6snfF",
        "outputId": "680aa2fb-a11a-40e1-963a-94056e1fb711"
      },
      "source": [
        "# Inner workings of lists\n",
        "\n",
        "# Create list areas\n",
        "areas = [11.25, 18.0, 20.0, 10.75, 9.50]\n",
        "\n",
        "# Create areas_copy\n",
        "areas_copy = list(areas)\n",
        "\n",
        "# Change areas_copy\n",
        "areas_copy[0] = 5.0\n",
        "\n",
        "# Print areas\n",
        "print(areas)"
      ],
      "execution_count": 241,
      "outputs": [
        {
          "output_type": "stream",
          "text": [
            "[11.25, 18.0, 20.0, 10.75, 9.5]\n"
          ],
          "name": "stdout"
        }
      ]
    },
    {
      "cell_type": "markdown",
      "metadata": {
        "id": "1E92e0xCsriE"
      },
      "source": [
        "## 3. Functions"
      ]
    },
    {
      "cell_type": "code",
      "metadata": {
        "colab": {
          "base_uri": "https://localhost:8080/"
        },
        "id": "r71B5NOYtu5j",
        "outputId": "797d1d3e-8fba-404f-e3a7-fe6468b0270f"
      },
      "source": [
        "# 3.1 Functions\n",
        "\n",
        "# Familiar functions\n",
        "\n",
        "# Create variables var1 and var2\n",
        "var1 = [1, 2, 3, 4]\n",
        "var2 = True\n",
        "\n",
        "# Print out type of var1\n",
        "print(type(var1))\n",
        "\n",
        "# Print out length of var1\n",
        "print(len(var1))\n",
        "\n",
        "# Convert var2 to an integer: out2\n",
        "out2 = int(var2)"
      ],
      "execution_count": 242,
      "outputs": [
        {
          "output_type": "stream",
          "text": [
            "<class 'list'>\n",
            "4\n"
          ],
          "name": "stdout"
        }
      ]
    },
    {
      "cell_type": "markdown",
      "metadata": {
        "id": "hM8UmSx1t9st"
      },
      "source": [
        "Use the Shell to open up the documentation on complex(). \n",
        "Which of the following statements is true?\n",
        "\n",
        "- [ ] complex() takes exactly two arguments: real and [, imag].\n",
        "- [ ] complex() takes two arguments: real and imag. Both these arguments are required.\n",
        "- [x] complex() takes two arguments: real and imag. real is a required argument, imag is an optional argument.\n",
        "- [ ] complex() takes two arguments: real and imag. If you don't specify imag, it is set to 1 by Python."
      ]
    },
    {
      "cell_type": "code",
      "metadata": {
        "colab": {
          "base_uri": "https://localhost:8080/"
        },
        "id": "aU4uzhNLtzEv",
        "outputId": "042994e0-5573-4e78-8e71-69a20161b9d4"
      },
      "source": [
        "# Multiple arguments\n",
        "\n",
        "# Create lists first and second\n",
        "first = [11.25, 18.0, 20.0]\n",
        "second = [10.75, 9.50]\n",
        "\n",
        "# Paste together first and second: full\n",
        "full = first + second\n",
        "\n",
        "# Sort full in descending order: full_sorted\n",
        "full_sorted = sorted(full, reverse=True)\n",
        "\n",
        "# Print out full_sorted\n",
        "print(full_sorted)"
      ],
      "execution_count": 243,
      "outputs": [
        {
          "output_type": "stream",
          "text": [
            "[20.0, 18.0, 11.25, 10.75, 9.5]\n"
          ],
          "name": "stdout"
        }
      ]
    },
    {
      "cell_type": "code",
      "metadata": {
        "colab": {
          "base_uri": "https://localhost:8080/"
        },
        "id": "ux6ejOdCuNY1",
        "outputId": "75719119-1f3c-40b0-f67a-8d23af51cb3f"
      },
      "source": [
        "# 3.2 Methods\n",
        "\n",
        "# String Methods\n",
        "\n",
        "# string to experiment with: place\n",
        "place = \"poolhouse\"\n",
        "\n",
        "# Use upper() on place: place_up\n",
        "place_up = place.upper()\n",
        "\n",
        "# Print out place and place_up\n",
        "print(place)\n",
        "print(place_up)\n",
        "\n",
        "# Print out the number of o's in place\n",
        "print(place.count(\"o\"))"
      ],
      "execution_count": 244,
      "outputs": [
        {
          "output_type": "stream",
          "text": [
            "poolhouse\n",
            "POOLHOUSE\n",
            "3\n"
          ],
          "name": "stdout"
        }
      ]
    },
    {
      "cell_type": "code",
      "metadata": {
        "colab": {
          "base_uri": "https://localhost:8080/"
        },
        "id": "RMi7pUxTuSYA",
        "outputId": "12939282-193a-4287-f112-49551bad258d"
      },
      "source": [
        "# List Methods\n",
        "\n",
        "# Create list areas\n",
        "areas = [11.25, 18.0, 20.0, 10.75, 9.50]\n",
        "\n",
        "# Print out the index of the element 20.0\n",
        "print(areas.index(20))\n",
        "\n",
        "# Print out how often 9.50 appears in areas\n",
        "print(areas.count(9.5))\n",
        "\n",
        "# Use append twice to add poolhouse and garage size\n",
        "areas.append(24.5)\n",
        "areas.append(15.45)\n",
        "\n",
        "# Print out areas\n",
        "print(areas)\n",
        "\n",
        "# Reverse the orders of the elements in areas\n",
        "areas.reverse()\n",
        "\n",
        "# Print out areas\n",
        "print(areas)"
      ],
      "execution_count": 245,
      "outputs": [
        {
          "output_type": "stream",
          "text": [
            "2\n",
            "1\n",
            "[11.25, 18.0, 20.0, 10.75, 9.5, 24.5, 15.45]\n",
            "[15.45, 24.5, 9.5, 10.75, 20.0, 18.0, 11.25]\n"
          ],
          "name": "stdout"
        }
      ]
    },
    {
      "cell_type": "code",
      "metadata": {
        "colab": {
          "base_uri": "https://localhost:8080/"
        },
        "id": "4Q_rkTHAuWC-",
        "outputId": "008cba06-7d4e-4b89-c521-842a86064b5b"
      },
      "source": [
        "# 3.3 Packages\n",
        "\n",
        "# Import package\n",
        "\n",
        "# Definition of radius\n",
        "r = 0.43\n",
        "\n",
        "# Import the math package\n",
        "import math\n",
        "\n",
        "# Calculate C\n",
        "C = 2 * math.pi * r\n",
        "\n",
        "# Calculate A\n",
        "A = math.pi * r ** 2\n",
        "\n",
        "# Build printout\n",
        "print(\"Circumference: \" + str(C))\n",
        "print(\"Area: \" + str(A))"
      ],
      "execution_count": 246,
      "outputs": [
        {
          "output_type": "stream",
          "text": [
            "Circumference: 2.701769682087222\n",
            "Area: 0.5808804816487527\n"
          ],
          "name": "stdout"
        }
      ]
    },
    {
      "cell_type": "code",
      "metadata": {
        "colab": {
          "base_uri": "https://localhost:8080/"
        },
        "id": "RIWaSc-pjXRB",
        "outputId": "68c0ca89-16b4-46bb-d495-4971f0abc442"
      },
      "source": [
        "# Selective import\n",
        "\n",
        "# Definition of radius\n",
        "r = 192500\n",
        "\n",
        "# Import radians function of math package\n",
        "from math import radians\n",
        "\n",
        "# Travel distance of Moon over 12 degrees. Store in dist.\n",
        "dist = r * radians(12)\n",
        "\n",
        "# Print out dist\n",
        "print(dist)"
      ],
      "execution_count": 247,
      "outputs": [
        {
          "output_type": "stream",
          "text": [
            "40317.10572106901\n"
          ],
          "name": "stdout"
        }
      ]
    },
    {
      "cell_type": "markdown",
      "metadata": {
        "id": "eLSIdLETugqV"
      },
      "source": [
        "`my_inv([[1,2], [3,4]])`\n",
        "\n",
        "Which import statement will you need in order to run the above code without an error?\n",
        "\n",
        "- [ ] import scipy\n",
        "- [ ] import scipy.linalg\n",
        "- [ ] from scipy.linalg import my_inv\n",
        "- [ ] from scipy.linalg import inv as my_inv"
      ]
    },
    {
      "cell_type": "markdown",
      "metadata": {
        "id": "M0txvKz_vAOk"
      },
      "source": [
        "## 4. NumPy"
      ]
    },
    {
      "cell_type": "markdown",
      "metadata": {
        "id": "rz2xmns9u6Hp"
      },
      "source": [
        ""
      ]
    },
    {
      "cell_type": "code",
      "metadata": {
        "colab": {
          "base_uri": "https://localhost:8080/"
        },
        "id": "AoRQYkYPuezu",
        "outputId": "61e9b928-461d-4941-8dcd-5b95f66e1c8d"
      },
      "source": [
        "# 4.1 Numpy\n",
        "\n",
        "# Your First NumPy Array\n",
        "\n",
        "# Create list baseball\n",
        "baseball = [180, 215, 210, 210, 188, 176, 209, 200]\n",
        "\n",
        "# Import the numpy package as np\n",
        "import numpy as np\n",
        "\n",
        "# Create a numpy array from baseball: np_baseball\n",
        "np_baseball = np.array(baseball)\n",
        "print(np_baseball)\n",
        "# Print out type of np_baseball\n",
        "print(type(np_baseball))"
      ],
      "execution_count": 248,
      "outputs": [
        {
          "output_type": "stream",
          "text": [
            "[180 215 210 210 188 176 209 200]\n",
            "<class 'numpy.ndarray'>\n"
          ],
          "name": "stdout"
        }
      ]
    },
    {
      "cell_type": "code",
      "metadata": {
        "colab": {
          "base_uri": "https://localhost:8080/"
        },
        "id": "xlK4-MIIu-c5",
        "outputId": "332fea44-689d-4af0-ef2a-3c9bb1a249f8"
      },
      "source": [
        "# Baseball players' height\n",
        "\n",
        "# height is available as a regular list\n",
        "import pandas as pd\n",
        "fname = 'https://raw.githubusercontent.com/chesterheng/ai-for-industry/master/datasets/baseball.csv'\n",
        "data = pd.read_csv(fname)\n",
        "height_in = data['Height']\n",
        "\n",
        "# Import numpy\n",
        "import numpy as np\n",
        "\n",
        "# Create a numpy array from height_in: np_height_in\n",
        "np_height_in = np.array(height_in)\n",
        "\n",
        "# Print out np_height_in\n",
        "print(np_height_in)\n",
        "\n",
        "# Convert np_height_in to m: np_height_m\n",
        "np_height_m = np_height_in * 0.0254\n",
        "\n",
        "# Print np_height_m\n",
        "print(np_height_m)"
      ],
      "execution_count": 249,
      "outputs": [
        {
          "output_type": "stream",
          "text": [
            "[74 74 72 ... 75 75 73]\n",
            "[1.8796 1.8796 1.8288 ... 1.905  1.905  1.8542]\n"
          ],
          "name": "stdout"
        }
      ]
    },
    {
      "cell_type": "code",
      "metadata": {
        "colab": {
          "base_uri": "https://localhost:8080/"
        },
        "id": "hkZHSRIYu-SP",
        "outputId": "8753b2c0-7509-4897-c9e4-35cabb7e95fa"
      },
      "source": [
        "# Baseball player's BMI\n",
        "\n",
        "# height and weight are available as regular lists\n",
        "import pandas as pd\n",
        "fname = 'https://raw.githubusercontent.com/chesterheng/ai-for-industry/master/datasets/baseball.csv'\n",
        "data = pd.read_csv(fname)\n",
        "height_in = data['Height']\n",
        "weight_lb = data['Weight']\n",
        "\n",
        "# Import numpy\n",
        "import numpy as np\n",
        "\n",
        "# Create array from height_in with metric units: np_height_m\n",
        "np_height_m = np.array(height_in) * 0.0254\n",
        "\n",
        "# Create array from weight_lb with metric units: np_weight_kg\n",
        "np_weight_kg = np.array(weight_lb) * 0.453592\n",
        "\n",
        "# Calculate the BMI: bmi\n",
        "bmi = np_weight_kg / np_height_m ** 2\n",
        "\n",
        "# Print out bmi\n",
        "print(bmi)"
      ],
      "execution_count": 250,
      "outputs": [
        {
          "output_type": "stream",
          "text": [
            "[23.11037639 27.60406069 28.48080465 ... 25.62295933 23.74810865\n",
            " 25.72686361]\n"
          ],
          "name": "stdout"
        }
      ]
    },
    {
      "cell_type": "code",
      "metadata": {
        "colab": {
          "base_uri": "https://localhost:8080/"
        },
        "id": "fRI7kPCkzO6J",
        "outputId": "5964efc6-859f-4c32-bd38-59c6c518a0bc"
      },
      "source": [
        "# Lightweight baseball players\n",
        "\n",
        "# height and weight are available as a regular lists\n",
        "\n",
        "# Import numpy\n",
        "import numpy as np\n",
        "\n",
        "# Calculate the BMI: bmi\n",
        "np_height_m = np.array(height_in) * 0.0254\n",
        "np_weight_kg = np.array(weight_lb) * 0.453592\n",
        "bmi = np_weight_kg / np_height_m ** 2\n",
        "\n",
        "# Create the light array\n",
        "light = bmi < 21\n",
        "\n",
        "# Print out light\n",
        "print(light)\n",
        "\n",
        "# Print out BMIs of all baseball players whose BMI is below 21\n",
        "print(bmi[light])\n"
      ],
      "execution_count": 251,
      "outputs": [
        {
          "output_type": "stream",
          "text": [
            "[False False False ... False False False]\n",
            "[20.54255679 20.54255679 20.69282047 20.69282047 20.34343189 20.34343189\n",
            " 20.69282047 20.15883472 19.4984471  20.69282047 20.9205219 ]\n"
          ],
          "name": "stdout"
        }
      ]
    },
    {
      "cell_type": "markdown",
      "metadata": {
        "id": "a_jDM2wJzeHq"
      },
      "source": [
        "`np.array([True, 1, 2]) + np.array([3, 4, False])`\n",
        "\n",
        "Can you tell which code chunk builds the exact same Python object?\n",
        "\n",
        "- [ ] np.array([True, 1, 2, 3, 4, False])\n",
        "- [x] np.array([4, 3, 0]) + np.array([0, 2, 2])\n",
        "- [ ] np.array([1, 1, 2]) + np.array([3, 4, -1])\n",
        "- [ ] np.array([0, 1, 2, 3, 4, 5])"
      ]
    },
    {
      "cell_type": "code",
      "metadata": {
        "colab": {
          "base_uri": "https://localhost:8080/"
        },
        "id": "ZP53OrNEzWYp",
        "outputId": "2a759735-b979-4d55-97f9-2ced36bb6db6"
      },
      "source": [
        "# Subsetting NumPy Arrays\n",
        "\n",
        "# height and weight are available as a regular lists\n",
        "\n",
        "# Import numpy\n",
        "import numpy as np\n",
        "\n",
        "# Store weight and height lists as numpy arrays\n",
        "np_weight_lb = np.array(weight_lb)\n",
        "np_height_in = np.array(height_in)\n",
        "\n",
        "# Print out the weight at index 50\n",
        "print(np_weight_lb[50])\n",
        "\n",
        "# Print out sub-array of np_height_in: index 100 up to and including index 110\n",
        "print(np_height_in[100:111])"
      ],
      "execution_count": 252,
      "outputs": [
        {
          "output_type": "stream",
          "text": [
            "200\n",
            "[73 74 72 73 69 72 73 75 75 73 72]\n"
          ],
          "name": "stdout"
        }
      ]
    },
    {
      "cell_type": "code",
      "metadata": {
        "colab": {
          "base_uri": "https://localhost:8080/"
        },
        "id": "8njmErUO0Dbr",
        "outputId": "26be13d8-7d15-46c3-c3b3-69b181d5b52d"
      },
      "source": [
        "# 4.2 2D Numpy Arrays\n",
        "\n",
        "# Your First 2D NumPy Array\n",
        "\n",
        "# Create baseball, a list of lists\n",
        "baseball = [[180, 78.4],\n",
        "            [215, 102.7],\n",
        "            [210, 98.5],\n",
        "            [188, 75.2]]\n",
        "\n",
        "# Import numpy\n",
        "import numpy as np\n",
        "\n",
        "# Create a 2D numpy array from baseball: np_baseball\n",
        "np_baseball = np.array(baseball)\n",
        "\n",
        "# Print out the type of np_baseball\n",
        "print(type(np_baseball))\n",
        "\n",
        "# Print out the shape of np_baseball\n",
        "print(np_baseball.shape)"
      ],
      "execution_count": 253,
      "outputs": [
        {
          "output_type": "stream",
          "text": [
            "<class 'numpy.ndarray'>\n",
            "(4, 2)\n"
          ],
          "name": "stdout"
        }
      ]
    },
    {
      "cell_type": "code",
      "metadata": {
        "colab": {
          "base_uri": "https://localhost:8080/"
        },
        "id": "jHUy3Us-0J4H",
        "outputId": "3dcc8c35-660d-442e-8dc8-579c6e15d088"
      },
      "source": [
        "# Baseball data in 2D form\n",
        "\n",
        "# baseball is available as a regular list of lists\n",
        "import pandas as pd\n",
        "fname = 'https://raw.githubusercontent.com/chesterheng/ai-for-industry/master/datasets/baseball.csv'\n",
        "baseball = pd.read_csv(fname, usecols = ['Height', 'Weight'])\n",
        "\n",
        "# Import numpy package\n",
        "import numpy as np\n",
        "\n",
        "# Create a 2D numpy array from baseball: np_baseball\n",
        "np_baseball = np.array(baseball)\n",
        "\n",
        "# Print out the shape of np_baseball\n",
        "print(np_baseball.shape)"
      ],
      "execution_count": 254,
      "outputs": [
        {
          "output_type": "stream",
          "text": [
            "(1015, 2)\n"
          ],
          "name": "stdout"
        }
      ]
    },
    {
      "cell_type": "code",
      "metadata": {
        "colab": {
          "base_uri": "https://localhost:8080/"
        },
        "id": "RjYmyP_z0Mmb",
        "outputId": "1651c1cd-9f6b-4a13-e62e-367c1c6a9cc2"
      },
      "source": [
        "# Subsetting 2D NumPy Arrays\n",
        "\n",
        "# baseball is available as a regular list of lists\n",
        "\n",
        "# Import numpy package\n",
        "import numpy as np\n",
        "\n",
        "# Create np_baseball (2 cols)\n",
        "np_baseball = np.array(baseball)\n",
        "\n",
        "# Print out the 50th row of np_baseball\n",
        "print(np_baseball[49])\n",
        "\n",
        "# Select the entire second column of np_baseball: np_weight_lb\n",
        "np_weight_lb = np_baseball[:,1]\n",
        "\n",
        "# Print out height of 124th player\n",
        "print(np_baseball[123][0])"
      ],
      "execution_count": 255,
      "outputs": [
        {
          "output_type": "stream",
          "text": [
            "[ 70 195]\n",
            "75\n"
          ],
          "name": "stdout"
        }
      ]
    },
    {
      "cell_type": "code",
      "metadata": {
        "colab": {
          "base_uri": "https://localhost:8080/"
        },
        "id": "HMFZbZjA1swx",
        "outputId": "d059243a-6d81-4fe9-9eba-71489d23849a"
      },
      "source": [
        "# 2D Arithmetic\n",
        "\n",
        "# Import numpy package\n",
        "import numpy as np\n",
        "\n",
        "# baseball is available as a regular list of lists\n",
        "import pandas as pd\n",
        "fname = 'https://raw.githubusercontent.com/chesterheng/ai-for-industry/master/datasets/baseball.csv'\n",
        "baseball = pd.read_csv(fname, usecols = ['Height', 'Weight', 'Age'])\n",
        "\n",
        "# updated is available as 2D numpy array\n",
        "fname = 'https://raw.githubusercontent.com/chesterheng/ai-for-industry/master/datasets/update.csv'\n",
        "updated = np.array(pd.read_csv(fname, header = None))\n",
        "\n",
        "# Create np_baseball (3 cols)\n",
        "np_baseball = np.array(baseball)\n",
        "\n",
        "# Print out addition of np_baseball and updated\n",
        "print(np_baseball + updated)\n",
        "\n",
        "# Create numpy array: conversion\n",
        "conversion = [0.0254, 0.453592, 1]\n",
        "\n",
        "# Print out product of np_baseball and conversion\n",
        "print(np_baseball * conversion)"
      ],
      "execution_count": 256,
      "outputs": [
        {
          "output_type": "stream",
          "text": [
            "[[ 75.2303559  168.83775102  23.99      ]\n",
            " [ 75.02614252 231.09732309  35.69      ]\n",
            " [ 73.1544228  215.08167641  31.78      ]\n",
            " ...\n",
            " [ 76.09349925 209.23890778  26.19      ]\n",
            " [ 75.82285669 172.21799965  32.01      ]\n",
            " [ 73.99484223 203.14402711  28.92      ]]\n",
            "[[ 1.8796  81.64656 22.99   ]\n",
            " [ 1.8796  97.52228 34.69   ]\n",
            " [ 1.8288  95.25432 30.78   ]\n",
            " ...\n",
            " [ 1.905   92.98636 25.19   ]\n",
            " [ 1.905   86.18248 31.01   ]\n",
            " [ 1.8542  88.45044 27.92   ]]\n"
          ],
          "name": "stdout"
        }
      ]
    },
    {
      "cell_type": "code",
      "metadata": {
        "id": "2QW8PSqG29DE",
        "colab": {
          "base_uri": "https://localhost:8080/"
        },
        "outputId": "562e0e0e-6bd9-4ca7-975c-143ae754f00d"
      },
      "source": [
        "# 4.3 Numpy: Basic Statistics\n",
        "\n",
        "# Average versus median\n",
        "\n",
        "# np_baseball is available\n",
        "\n",
        "# Import numpy\n",
        "import numpy as np\n",
        "\n",
        "# Create np_height_in from np_baseball\n",
        "np_height_in = np.array(np_baseball[:,0])\n",
        "\n",
        "# Print out the mean of np_height_in\n",
        "print(np.mean(np_height_in))\n",
        "\n",
        "# Print out the median of np_height_in\n",
        "print(np.median(np_height_in))"
      ],
      "execution_count": 257,
      "outputs": [
        {
          "output_type": "stream",
          "text": [
            "73.6896551724138\n",
            "74.0\n"
          ],
          "name": "stdout"
        }
      ]
    },
    {
      "cell_type": "code",
      "metadata": {
        "id": "jIjmP8Dc3Bjq",
        "colab": {
          "base_uri": "https://localhost:8080/"
        },
        "outputId": "876f54df-271c-462d-eced-6370276499bd"
      },
      "source": [
        "# Explore the baseball data\n",
        "\n",
        "# np_baseball is available\n",
        "\n",
        "# Import numpy\n",
        "import numpy as np\n",
        "\n",
        "# Print mean height (first column)\n",
        "avg = np.mean(np_baseball[:,0])\n",
        "print(\"Average: \" + str(avg))\n",
        "\n",
        "# Print median height. Replace 'None'\n",
        "med = np.median(np_baseball[:,0])\n",
        "print(\"Median: \" + str(med))\n",
        "\n",
        "# Print out the standard deviation on height.\n",
        "stddev = np.std(np_baseball[:,0])\n",
        "print(\"Standard Deviation: \" + str(stddev))\n",
        "\n",
        "# Print out correlation between first and second column.\n",
        "corr = np.corrcoef(np_baseball[:,0], np_baseball[:,1])\n",
        "print(\"Correlation: \" + str(corr))\n"
      ],
      "execution_count": 258,
      "outputs": [
        {
          "output_type": "stream",
          "text": [
            "Average: 73.6896551724138\n",
            "Median: 74.0\n",
            "Standard Deviation: 2.312791881046546\n",
            "Correlation: [[1.         0.53153932]\n",
            " [0.53153932 1.        ]]\n"
          ],
          "name": "stdout"
        }
      ]
    },
    {
      "cell_type": "code",
      "metadata": {
        "id": "EDHMr9yz3Hmw",
        "colab": {
          "base_uri": "https://localhost:8080/"
        },
        "outputId": "55414274-addb-4133-d358-f894f3fc6b8f"
      },
      "source": [
        "# Blend it all together\n",
        "\n",
        "# heights and positions are available as lists\n",
        "import pandas as pd\n",
        "fname = 'https://raw.githubusercontent.com/chesterheng/ai-for-industry/master/datasets/fifa.csv'\n",
        "fifa =  pd.read_csv(fname, skipinitialspace=True, usecols=['position', 'height'])\n",
        "positions = fifa.position\n",
        "heights = fifa.height\n",
        "\n",
        "# Import numpy\n",
        "import numpy as np\n",
        "\n",
        "# Convert positions and heights to numpy arrays: np_positions, np_heights\n",
        "np_positions = np.array(positions)\n",
        "np_heights = np.array(heights)\n",
        "\n",
        "# Heights of the goalkeepers: gk_heights\n",
        "gk_heights = np_heights[np_positions == 'GK']\n",
        "\n",
        "# Heights of the other players: other_heights\n",
        "other_heights = np_heights[np_positions != 'GK']\n",
        "\n",
        "# Print out the median height of goalkeepers. Replace 'None'\n",
        "print(\"Median height of goalkeepers: \" + str(np.median(gk_heights)))\n",
        "\n",
        "# Print out the median height of other players. Replace 'None'\n",
        "print(\"Median height of other players: \" + str(np.median(other_heights)))"
      ],
      "execution_count": 259,
      "outputs": [
        {
          "output_type": "stream",
          "text": [
            "Median height of goalkeepers: 188.0\n",
            "Median height of other players: 181.0\n"
          ],
          "name": "stdout"
        }
      ]
    }
  ]
}