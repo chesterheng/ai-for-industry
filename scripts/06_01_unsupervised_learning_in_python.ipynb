{
  "nbformat": 4,
  "nbformat_minor": 0,
  "metadata": {
    "colab": {
      "name": "06-01-unsupervised-learning-in-python.ipynb",
      "provenance": [],
      "collapsed_sections": []
    },
    "kernelspec": {
      "name": "python3",
      "display_name": "Python 3"
    }
  },
  "cells": [
    {
      "cell_type": "markdown",
      "metadata": {
        "id": "i-UEz7bW5GPQ"
      },
      "source": [
        "# Unsupervised Learning in Python\n",
        "## 1. Clustering for dataset exploration\n",
        "## 2. Visualization with hierarchical clustering and t-SNE\n",
        "## 3. Decorrelating your data and dimension reduction\n",
        "## 4. Discovering interpretable features\n"
      ]
    },
    {
      "cell_type": "markdown",
      "metadata": {
        "id": "K3I-5dPo5UNG"
      },
      "source": [
        "## 1. Clustering for dataset exploration"
      ]
    },
    {
      "cell_type": "code",
      "metadata": {
        "id": "X6rG0NGi49Cw"
      },
      "source": [
        "# Unsupervised Learning"
      ],
      "execution_count": null,
      "outputs": []
    },
    {
      "cell_type": "code",
      "metadata": {
        "colab": {
          "base_uri": "https://localhost:8080/",
          "height": 265
        },
        "id": "fYO9lhlF556Y",
        "outputId": "4741c3b2-ccc8-4a90-c1e6-a726f837e239"
      },
      "source": [
        "import numpy as np\n",
        "import matplotlib.pyplot as plt\n",
        "\n",
        "data = [[ 0.06544649, -0.76866376],\n",
        "       [-1.52901547, -0.42953079],\n",
        "       [ 1.70993371,  0.69885253],\n",
        "       [ 1.16779145,  1.01262638],\n",
        "       [-1.80110088, -0.31861296],\n",
        "       [-1.63567888, -0.02859535],\n",
        "       [ 1.21990375,  0.74643463],\n",
        "       [-0.26175155, -0.62492939],\n",
        "       [-1.61925804, -0.47983949],\n",
        "       [-1.84329582, -0.16694431],\n",
        "       [ 1.35999602,  0.94995827],\n",
        "       [ 0.42291856, -0.7349534 ],\n",
        "       [-1.68576139,  0.10686728],\n",
        "       [ 0.90629995,  1.09105162],\n",
        "       [-1.56478322, -0.84675394],\n",
        "       [-0.0257849 , -1.18672539],\n",
        "       [ 0.83027324,  1.14504612],\n",
        "       [ 1.22450432,  1.35066759],\n",
        "       [-0.15394596, -0.71704301],\n",
        "       [ 0.86358809,  1.06824613],\n",
        "       [-1.43386366, -0.2381297 ],\n",
        "       [ 0.03844769, -0.74635022],\n",
        "       [-1.58567922,  0.08499354],\n",
        "       [ 0.6359888 , -0.58477698],\n",
        "       [ 0.24417242, -0.53172465],\n",
        "       [-2.19680359,  0.49473677],\n",
        "       [ 1.0323503 , -0.55688   ],\n",
        "       [-0.28858067, -0.39972528],\n",
        "       [ 0.20597008, -0.80171536],\n",
        "       [-1.2107308 , -0.34924109],\n",
        "       [ 1.33423684,  0.7721489 ],\n",
        "       [ 1.19480152,  1.04788556],\n",
        "       [ 0.9917477 ,  0.89202008],\n",
        "       [-1.8356219 , -0.04839732],\n",
        "       [ 0.08415721, -0.71564326],\n",
        "       [-1.48970175, -0.19299604],\n",
        "       [ 0.38782418, -0.82060119],\n",
        "       [-0.01448044, -0.9779841 ],\n",
        "       [-2.0521341 , -0.02129125],\n",
        "       [ 0.10331194, -0.82162781],\n",
        "       [-0.44189315, -0.65710974],\n",
        "       [ 1.10390926,  1.02481182],\n",
        "       [-1.59227759, -0.17374038],\n",
        "       [-1.47344152, -0.02202853],\n",
        "       [-1.35514704,  0.22971067],\n",
        "       [ 0.0412337 , -1.23776622],\n",
        "       [ 0.4761517 , -1.13672124],\n",
        "       [ 1.04335676,  0.82345905],\n",
        "       [-0.07961882, -0.85677394],\n",
        "       [ 0.87065059,  1.08052841],\n",
        "       [ 1.40267313,  1.07525119],\n",
        "       [ 0.80111157,  1.28342825],\n",
        "       [-0.16527516, -1.23583804],\n",
        "       [-0.33779221, -0.59194323],\n",
        "       [ 0.80610749, -0.73752159],\n",
        "       [-1.43590032, -0.56384446],\n",
        "       [ 0.54868895, -0.95143829],\n",
        "       [ 0.46803131, -0.74973907],\n",
        "       [-1.5137129 , -0.83914323],\n",
        "       [ 0.9138436 ,  1.51126532],\n",
        "       [-1.97233903, -0.41155375],\n",
        "       [ 0.5213406 , -0.88654894],\n",
        "       [ 0.62759494, -1.18590477],\n",
        "       [ 0.94163014,  1.35399335],\n",
        "       [ 0.56994768,  1.07036606],\n",
        "       [-1.87663382,  0.14745773],\n",
        "       [ 0.90612186,  0.91084011],\n",
        "       [-1.37481454,  0.28428395],\n",
        "       [-1.80564029, -0.96710574],\n",
        "       [ 0.34307757, -0.79999275],\n",
        "       [ 0.70380566,  1.00025804],\n",
        "       [-1.68489862, -0.30564595],\n",
        "       [ 1.31473221,  0.98614978],\n",
        "       [ 0.26151216, -0.26069251],\n",
        "       [ 0.9193121 ,  0.82371485],\n",
        "       [-1.21795929, -0.20219674],\n",
        "       [-0.17722723, -1.02665245],\n",
        "       [ 0.64824862, -0.66822881],\n",
        "       [ 0.41206786, -0.28783784],\n",
        "       [ 1.01568202,  1.13481667],\n",
        "       [ 0.67900254, -0.91489502],\n",
        "       [-1.05182747, -0.01062376],\n",
        "       [ 0.61306599,  1.78210384],\n",
        "       [-1.50219748, -0.52308922],\n",
        "       [-1.72717293, -0.46173916],\n",
        "       [-1.60995631, -0.1821007 ],\n",
        "       [-1.09111021, -0.0781398 ],\n",
        "       [-0.01046978, -0.80913034],\n",
        "       [ 0.32782303, -0.80734754],\n",
        "       [ 1.22038503,  1.1959793 ],\n",
        "       [-1.33328681, -0.30001937],\n",
        "       [ 0.87959517,  1.11566491],\n",
        "       [-1.14829098, -0.30400762],\n",
        "       [-0.58019755, -1.19996018],\n",
        "       [-0.01161159, -0.78468854],\n",
        "       [ 0.17359724, -0.63398145],\n",
        "       [ 1.32738556,  0.67759969],\n",
        "       [-1.93467327,  0.30572472],\n",
        "       [-1.57761893, -0.27726365],\n",
        "       [ 0.47639   ,  1.21422648],\n",
        "       [-1.65237509, -0.6803981 ],\n",
        "       [-0.12609976, -1.04327457],\n",
        "       [-1.89607082, -0.70085502],\n",
        "       [ 0.57466899,  0.74878369],\n",
        "       [-0.16660312, -0.83110295],\n",
        "       [ 0.8013355 ,  1.22244435],\n",
        "       [ 1.18455426,  1.4346467 ],\n",
        "       [ 1.08864428,  0.64667112],\n",
        "       [-1.61158505,  0.22805725],\n",
        "       [-1.57512205, -0.09612576],\n",
        "       [ 0.0721357 , -0.69640328],\n",
        "       [-1.40054298,  0.16390598],\n",
        "       [ 1.09607713,  1.16804691],\n",
        "       [-2.54346204, -0.23089822],\n",
        "       [-1.34544875,  0.25151126],\n",
        "       [-1.35478629, -0.19103317],\n",
        "       [ 0.18368113, -1.15827725],\n",
        "       [-1.31368677, -0.376357  ],\n",
        "       [ 0.09990129,  1.22500491],\n",
        "       [ 1.17225574,  1.30835143],\n",
        "       [ 0.0865397 , -0.79714371],\n",
        "       [-0.21053923, -1.13421511],\n",
        "       [ 0.26496024, -0.94760742],\n",
        "       [-0.2557591 , -1.06266022],\n",
        "       [-0.26039757, -0.74774225],\n",
        "       [-1.91787359,  0.16434571],\n",
        "       [ 0.93021139,  0.49436331],\n",
        "       [ 0.44770467, -0.72877918],\n",
        "       [-1.63802869, -0.58925528],\n",
        "       [-1.95712763, -0.10125137],\n",
        "       [ 0.9270337 ,  0.88251423],\n",
        "       [ 1.25660093,  0.60828073],\n",
        "       [-1.72818632,  0.08416887],\n",
        "       [ 0.3499788 , -0.30490298],\n",
        "       [-1.51696082, -0.50913109],\n",
        "       [ 0.18763605, -0.55424924],\n",
        "       [ 0.89609809,  0.83551508],\n",
        "       [-1.54968857, -0.17114782],\n",
        "       [ 1.2157457 ,  1.23317728],\n",
        "       [ 0.20307745, -1.03784906],\n",
        "       [ 0.84589086,  1.03615273],\n",
        "       [ 0.53237919,  1.47362884],\n",
        "       [-0.05319044, -1.36150553],\n",
        "       [ 1.38819743,  1.11729915],\n",
        "       [ 1.00696304,  1.0367721 ],\n",
        "       [ 0.56681869, -1.09637176],\n",
        "       [ 0.86888296,  1.05248874],\n",
        "       [-1.16286609, -0.55875245],\n",
        "       [ 0.27717768, -0.83844015],\n",
        "       [ 0.16563267, -0.80306607],\n",
        "       [ 0.38263303, -0.42683241],\n",
        "       [ 1.14519807,  0.89659026],\n",
        "       [ 0.81455857,  0.67533667],\n",
        "       [-1.8603152 , -0.09537561],\n",
        "       [ 0.965641  ,  0.90295579],\n",
        "       [-1.49897451, -0.33254044],\n",
        "       [-0.1335489 , -0.80727582],\n",
        "       [ 0.12541527, -1.13354906],\n",
        "       [ 1.06062436,  1.28816358],\n",
        "       [-1.49154578, -0.2024641 ],\n",
        "       [ 1.16189032,  1.28819877],\n",
        "       [ 0.54282033,  0.75203524],\n",
        "       [ 0.89221065,  0.99211624],\n",
        "       [-1.49932011, -0.32430667],\n",
        "       [ 0.3166647 , -1.34482915],\n",
        "       [ 0.13972469, -1.22097448],\n",
        "       [-1.5499724 , -0.10782584],\n",
        "       [ 1.23846858,  1.37668804],\n",
        "       [ 1.25558954,  0.72026098],\n",
        "       [ 0.25558689, -1.28529763],\n",
        "       [ 0.45168933, -0.55952093],\n",
        "       [ 1.06202057,  1.03404604],\n",
        "       [ 0.67451908, -0.54970299],\n",
        "       [ 0.22759676, -1.02729468],\n",
        "       [-1.45835281, -0.04951074],\n",
        "       [ 0.23273501, -0.70849262],\n",
        "       [ 1.59679589,  1.11395076],\n",
        "       [ 0.80476105,  0.544627  ],\n",
        "       [ 1.15492521,  1.04352191],\n",
        "       [ 0.59632776, -1.19142897],\n",
        "       [ 0.02839068, -0.43829366],\n",
        "       [ 1.13451584,  0.5632633 ],\n",
        "       [ 0.21576204, -1.04445753],\n",
        "       [ 1.41048987,  1.02830719],\n",
        "       [ 1.12289302,  0.58029441],\n",
        "       [ 0.25200688, -0.82588436],\n",
        "       [-1.28566081, -0.07390909],\n",
        "       [ 1.52849815,  1.11822469],\n",
        "       [-0.23907858, -0.70541972],\n",
        "       [-0.25792784, -0.81825035],\n",
        "       [ 0.59367818, -0.45239915],\n",
        "       [ 0.07931909, -0.29233213],\n",
        "       [-1.27256815,  0.11630577],\n",
        "       [ 0.66930129,  1.00731481],\n",
        "       [ 0.34791546, -1.20822877],\n",
        "       [-2.11283993, -0.66897935],\n",
        "       [-1.6293824 , -0.32718222],\n",
        "       [-1.53819139, -0.01501972],\n",
        "       [-0.11988545, -0.6036339 ],\n",
        "       [-1.54418956, -0.30389844],\n",
        "       [ 0.30026614, -0.77723173],\n",
        "       [ 0.00935449, -0.53888192],\n",
        "       [-1.33424393, -0.11560431],\n",
        "       [ 0.47504489,  0.78421384],\n",
        "       [ 0.59313264,  1.232239  ],\n",
        "       [ 0.41370369, -1.35205857],\n",
        "       [ 0.55840948,  0.78831053],\n",
        "       [ 0.49855018, -0.789949  ],\n",
        "       [ 0.35675809, -0.81038693],\n",
        "       [-1.86197825, -0.59071305],\n",
        "       [-1.61977671, -0.16076687],\n",
        "       [ 0.80779295, -0.73311294],\n",
        "       [ 1.62745775,  0.62787163],\n",
        "       [-1.56993593, -0.08467567],\n",
        "       [ 1.02558561,  0.89383302],\n",
        "       [ 0.24293461, -0.6088253 ],\n",
        "       [ 1.23130242,  1.00262186],\n",
        "       [-1.9651013 , -0.15886289],\n",
        "       [ 0.42795032, -0.70384432],\n",
        "       [-1.58306818, -0.19431923],\n",
        "       [-1.57195922,  0.01413469],\n",
        "       [-0.98145373,  0.06132285],\n",
        "       [-1.48637844, -0.5746531 ],\n",
        "       [ 0.98745828,  0.69188053],\n",
        "       [ 1.28619721,  1.28128821],\n",
        "       [ 0.85850596,  0.95541481],\n",
        "       [ 0.19028286, -0.82112942],\n",
        "       [ 0.26561046, -0.04255239],\n",
        "       [-1.61897897,  0.00862372],\n",
        "       [ 0.24070183, -0.52664209],\n",
        "       [ 1.15220993,  0.43916694],\n",
        "       [-1.21967812, -0.2580313 ],\n",
        "       [ 0.33412533, -0.86117761],\n",
        "       [ 0.17131003, -0.75638965],\n",
        "       [-1.19828397, -0.73744665],\n",
        "       [-0.12245932, -0.45648879],\n",
        "       [ 1.51200698,  0.88825741],\n",
        "       [ 1.10338866,  0.92347479],\n",
        "       [ 1.30972095,  0.59066989],\n",
        "       [ 0.19964876,  1.14855889],\n",
        "       [ 0.81460515,  0.84538972],\n",
        "       [-1.6422739 , -0.42296206],\n",
        "       [ 0.01224351, -0.21247816],\n",
        "       [ 0.33709102, -0.74618065],\n",
        "       [ 0.47301054,  0.72712075],\n",
        "       [ 0.34706626,  1.23033757],\n",
        "       [-0.00393279, -0.97209694],\n",
        "       [-1.64303119,  0.05276337],\n",
        "       [ 1.44649625,  1.14217033],\n",
        "       [-1.93030087, -0.40026146],\n",
        "       [-2.37296135, -0.72633645],\n",
        "       [ 0.45860122, -1.06048953],\n",
        "       [ 0.4896361 , -1.18928313],\n",
        "       [-1.02335902, -0.17520578],\n",
        "       [-1.32761107, -0.93963549],\n",
        "       [-1.50987909, -0.09473658],\n",
        "       [ 0.02723057, -0.79870549],\n",
        "       [ 1.0169412 ,  1.26461701],\n",
        "       [ 0.47733527, -0.9898471 ],\n",
        "       [-1.27784224, -0.547416  ],\n",
        "       [ 0.49898802, -0.6237259 ],\n",
        "       [ 1.06004731,  0.86870008],\n",
        "       [ 1.00207501,  1.38293512],\n",
        "       [ 1.31161394,  0.62833956],\n",
        "       [ 1.13428443,  1.18346542],\n",
        "       [ 1.27671346,  0.96632878],\n",
        "       [-0.63342885, -0.97768251],\n",
        "       [ 0.12698779, -0.93142317],\n",
        "       [-1.34510812, -0.23754226],\n",
        "       [-0.53162278, -1.25153594],\n",
        "       [ 0.21959934, -0.90269938],\n",
        "       [-1.78997479, -0.12115748],\n",
        "       [ 1.23197473, -0.07453764],\n",
        "       [ 1.4163536 ,  1.21551752],\n",
        "       [-1.90280976, -0.1638976 ],\n",
        "       [-0.22440081, -0.75454248],\n",
        "       [ 0.59559412,  0.92414553],\n",
        "       [ 1.21930773,  1.08175284],\n",
        "       [-1.99427535, -0.37587799],\n",
        "       [-1.27818474, -0.52454551],\n",
        "       [ 0.62352689, -1.01430108],\n",
        "       [ 0.14024251, -0.428266  ],\n",
        "       [-0.16145713, -1.16359731],\n",
        "       [-1.74795865, -0.06033101],\n",
        "       [-1.16659791,  0.0902393 ],\n",
        "       [ 0.41110408, -0.8084249 ],\n",
        "       [ 1.14757168,  0.77804528],\n",
        "       [-1.65590748, -0.40105446],\n",
        "       [-1.15306865,  0.00858699],\n",
        "       [ 0.60892121,  0.68974833],\n",
        "       [-0.08434138, -0.97615256],\n",
        "       [ 0.19170053, -0.42331438],\n",
        "       [ 0.29663162, -1.13357399],\n",
        "       [-1.36893628, -0.25052124],\n",
        "       [-0.08037807, -0.56784155],\n",
        "       [ 0.35695011, -1.15064408],\n",
        "       [ 0.02482179, -0.63594828],\n",
        "       [-1.49075558, -0.2482507 ],\n",
        "       [-1.408588  ,  0.25635431],\n",
        "       [-1.98274626, -0.54584475]]\n",
        "\n",
        "points = np.array(data)\n",
        "\n",
        "xs = points[:,0]\n",
        "ys = points[:,1]\n",
        "plt.scatter(xs, ys)\n",
        "plt.show()"
      ],
      "execution_count": 12,
      "outputs": [
        {
          "output_type": "display_data",
          "data": {
            "image/png": "[encoded data removed]",
            "text/plain": [
              "<Figure size 432x288 with 1 Axes>"
            ]
          },
          "metadata": {
            "tags": [],
            "needs_background": "light"
          }
        }
      ]
    },
    {
      "cell_type": "markdown",
      "metadata": {
        "id": "FoSkq-YM5ehs"
      },
      "source": [
        "**How many clusters?**\n",
        "\n",
        "You are given an array points of size 300x2, where each row gives the (x, y) co-ordinates of a point on a map. Make a scatter plot of these points, and use the scatter plot to guess how many clusters there are.\n",
        "\n",
        "matplotlib.pyplot has already been imported as plt. In the IPython Shell:\n",
        "\n",
        "- Create an array called xs that contains the values of points[:,0] - that is, column 0 of points.\n",
        "- Create an array called ys that contains the values of points[:,1] - that is, column 1 of points.\n",
        "- Make a scatter plot by passing xs and ys to the plt.scatter() function.\n",
        "- Call the plt.show() function to show your plot.\n",
        "\n",
        "How many clusters do you see?\n",
        "\n",
        "**Possible Answers**\n",
        "\n",
        "- [ ] 2\n",
        "- [x] 3\n",
        "- [ ] 300"
      ]
    },
    {
      "cell_type": "code",
      "metadata": {
        "colab": {
          "base_uri": "https://localhost:8080/"
        },
        "id": "ufpZrkNV7eGJ",
        "outputId": "ef8fe56b-e799-4be8-beb7-d8746c1d9ab1"
      },
      "source": [
        "# Clustering 2D points\n",
        "\n",
        "import numpy as np\n",
        "\n",
        "data = [[ 4.00233332e-01, -1.26544471e+00],\n",
        "       [ 8.03230370e-01,  1.28260167e+00],\n",
        "       [-1.39507552e+00,  5.57292921e-02],\n",
        "       [-3.41192677e-01, -1.07661994e+00],\n",
        "       [ 1.54781747e+00,  1.40250049e+00],\n",
        "       [ 2.45032018e-01, -4.83442328e-01],\n",
        "       [ 1.20706886e+00,  8.88752605e-01],\n",
        "       [ 1.25132628e+00,  1.15555395e+00],\n",
        "       [ 1.81004415e+00,  9.65530731e-01],\n",
        "       [-1.66963401e+00, -3.08103509e-01],\n",
        "       [-7.17482105e-02, -9.37939700e-01],\n",
        "       [ 6.82631927e-01,  1.10258160e+00],\n",
        "       [ 1.09039598e+00,  1.43899529e+00],\n",
        "       [-1.67645414e+00, -5.04557049e-01],\n",
        "       [-1.84447804e+00,  4.52539544e-02],\n",
        "       [ 1.24234851e+00,  1.02088661e+00],\n",
        "       [-1.86147041e+00,  6.38645811e-03],\n",
        "       [-1.46044943e+00,  1.53252383e-01],\n",
        "       [ 4.98981817e-01,  8.98006058e-01],\n",
        "       [ 9.83962244e-01,  1.04369375e+00],\n",
        "       [-1.83136742e+00, -1.63632835e-01],\n",
        "       [ 1.30622617e+00,  1.07658717e+00],\n",
        "       [ 3.53420328e-01, -7.51320218e-01],\n",
        "       [ 1.13957970e+00,  1.54503860e+00],\n",
        "       [ 2.93995694e-01, -1.26135005e+00],\n",
        "       [-1.14558225e+00, -3.78709636e-02],\n",
        "       [ 1.18716105e+00,  6.00240663e-01],\n",
        "       [-2.23211946e+00,  2.30475094e-01],\n",
        "       [-1.28320430e+00, -3.93314568e-01],\n",
        "       [ 4.94296696e-01, -8.83972009e-01],\n",
        "       [ 6.31834930e-02, -9.11952228e-01],\n",
        "       [ 9.35759539e-01,  8.66820685e-01],\n",
        "       [ 1.58014721e+00,  1.03788392e+00],\n",
        "       [ 1.06304960e+00,  1.02706082e+00],\n",
        "       [-1.39732536e+00, -5.05162249e-01],\n",
        "       [-1.09935240e-01, -9.08113619e-01],\n",
        "       [ 1.17346758e+00,  9.47501092e-01],\n",
        "       [ 9.20084511e-01,  1.45767672e+00],\n",
        "       [ 5.82658956e-01, -9.00086832e-01],\n",
        "       [ 9.52772328e-01,  8.99042386e-01],\n",
        "       [-1.37266956e+00, -3.17878215e-02],\n",
        "       [ 2.12706760e-02, -7.07614194e-01],\n",
        "       [ 3.27049052e-01, -5.55998107e-01],\n",
        "       [-1.71590267e+00,  2.15222266e-01],\n",
        "       [ 5.12516209e-01, -7.60128245e-01],\n",
        "       [ 1.13023469e+00,  7.22451122e-01],\n",
        "       [-1.43074310e+00, -3.42787511e-01],\n",
        "       [-1.82724625e+00,  1.17657775e-01],\n",
        "       [ 1.41801350e+00,  1.11455080e+00],\n",
        "       [ 1.26897304e+00,  1.41925971e+00],\n",
        "       [ 8.04076494e-01,  1.63988557e+00],\n",
        "       [ 8.34567752e-01,  1.09956689e+00],\n",
        "       [-1.24714732e+00, -2.23522320e-01],\n",
        "       [-1.29422537e+00,  8.18770024e-02],\n",
        "       [-2.27378316e-01, -4.13331387e-01],\n",
        "       [ 2.18830387e-01, -4.68183120e-01],\n",
        "       [-1.22593414e+00,  2.55599147e-01],\n",
        "       [-1.31294033e+00, -4.28892070e-01],\n",
        "       [-1.33532382e+00,  6.52053776e-01],\n",
        "       [-3.01100233e-01, -1.25156451e+00],\n",
        "       [ 2.02778356e-01, -9.05277445e-01],\n",
        "       [ 1.01357784e+00,  1.12378981e+00],\n",
        "       [ 8.18324394e-01,  8.60841257e-01],\n",
        "       [ 1.26181556e+00,  1.46613744e+00],\n",
        "       [ 4.64867724e-01, -7.97212459e-01],\n",
        "       [ 3.60908898e-01,  8.44106720e-01],\n",
        "       [-2.15098310e+00, -3.69583937e-01],\n",
        "       [ 1.05005281e+00,  8.74181364e-01],\n",
        "       [ 1.06580074e-01, -7.49268153e-01],\n",
        "       [-1.73945723e+00,  2.52183577e-01],\n",
        "       [-1.12017687e-01, -6.52469788e-01],\n",
        "       [ 5.16618951e-01, -6.41267582e-01],\n",
        "       [ 3.26621787e-01, -8.80608015e-01],\n",
        "       [ 1.09017759e+00,  1.10952558e+00],\n",
        "       [ 3.64459576e-01, -6.94215622e-01],\n",
        "       [-1.90779318e+00,  1.87383674e-01],\n",
        "       [-1.95601829e+00,  1.39959126e-01],\n",
        "       [ 3.18541701e-01, -4.05271704e-01],\n",
        "       [ 7.36512699e-01,  1.76416255e+00],\n",
        "       [-1.44175162e+00, -5.72320429e-02],\n",
        "       [ 3.21757168e-01, -5.34283821e-01],\n",
        "       [-1.37317305e+00,  4.64484644e-02],\n",
        "       [ 6.87225910e-02, -1.10522944e+00],\n",
        "       [ 9.59314218e-01,  6.52316210e-01],\n",
        "       [-1.62641919e+00, -5.62423280e-01],\n",
        "       [ 1.06788305e+00,  7.29260482e-01],\n",
        "       [-1.79643547e+00, -9.88307418e-01],\n",
        "       [-9.88628377e-02, -6.81198092e-02],\n",
        "       [-1.05135700e-01,  1.17022143e+00],\n",
        "       [ 8.79964699e-01,  1.25340317e+00],\n",
        "       [ 9.80753407e-01,  1.15486539e+00],\n",
        "       [-8.33224966e-02, -9.24844368e-01],\n",
        "       [ 8.48759673e-01,  1.09397425e+00],\n",
        "       [ 1.32941649e+00,  1.13734563e+00],\n",
        "       [ 3.23788068e-01, -7.49732451e-01],\n",
        "       [-1.52610970e+00, -2.49016929e-01],\n",
        "       [-1.48598116e+00, -2.68828608e-01],\n",
        "       [-1.80479553e+00,  1.87052700e-01],\n",
        "       [-2.01907347e+00, -4.49511651e-01],\n",
        "       [ 2.87202402e-01, -6.55487415e-01],\n",
        "       [ 8.22295102e-01,  1.38443234e+00],\n",
        "       [-3.56997036e-02, -8.01825807e-01],\n",
        "       [-1.66955440e+00, -1.38258505e-01],\n",
        "       [-1.78226821e+00,  2.93353033e-01],\n",
        "       [ 7.25837138e-01, -6.23374024e-01],\n",
        "       [ 3.88432593e-01, -7.61283497e-01],\n",
        "       [ 1.49002783e+00,  7.95678671e-01],\n",
        "       [ 6.55423228e-04, -7.40580702e-01],\n",
        "       [-1.34533116e+00, -4.75629937e-01],\n",
        "       [-8.03845106e-01, -3.09943013e-01],\n",
        "       [-2.49041295e-01, -1.00662418e+00],\n",
        "       [-1.41095118e+00, -7.06744127e-02],\n",
        "       [-1.75119594e+00, -3.00491336e-01],\n",
        "       [-1.27942724e+00,  1.73774600e-01],\n",
        "       [ 3.35028183e-01,  6.24761151e-01],\n",
        "       [ 1.16819649e+00,  1.18902251e+00],\n",
        "       [ 7.15210457e-01,  9.26077419e-01],\n",
        "       [ 1.30057278e+00,  9.16349565e-01],\n",
        "       [-1.21697008e+00,  1.10039477e-01],\n",
        "       [-1.70707935e+00, -5.99659536e-02],\n",
        "       [ 1.20730655e+00,  1.05480463e+00],\n",
        "       [ 1.86896009e-01, -9.58047234e-01],\n",
        "       [ 8.03463471e-01,  3.86133140e-01],\n",
        "       [-1.73486790e+00, -1.49831913e-01],\n",
        "       [ 1.31261499e+00,  1.11802982e+00],\n",
        "       [ 4.04993148e-01, -5.10900347e-01],\n",
        "       [-1.93267968e+00,  2.20764694e-01],\n",
        "       [ 6.56004799e-01,  9.61887161e-01],\n",
        "       [-1.40588215e+00,  1.17134403e-01],\n",
        "       [-1.74306264e+00, -7.47473959e-02],\n",
        "       [ 5.43745412e-01,  1.47209224e+00],\n",
        "       [-1.97331669e+00, -2.27124493e-01],\n",
        "       [ 1.53901171e+00,  1.36049081e+00],\n",
        "       [-1.48323452e+00, -4.90302063e-01],\n",
        "       [ 3.86748484e-01, -1.26173400e+00],\n",
        "       [ 1.17015716e+00,  1.18549415e+00],\n",
        "       [-8.05381721e-02, -3.21923627e-01],\n",
        "       [-6.82273156e-02, -8.52825887e-01],\n",
        "       [ 7.13500028e-01,  1.27868520e+00],\n",
        "       [-1.85014378e+00, -5.03490558e-01],\n",
        "       [ 6.36085266e-02, -1.41257040e+00],\n",
        "       [ 1.52966062e+00,  9.66056572e-01],\n",
        "       [ 1.62165714e-01, -1.37374843e+00],\n",
        "       [-3.23474497e-01, -7.06620269e-01],\n",
        "       [-1.51768993e+00,  1.87658302e-01],\n",
        "       [ 8.88895911e-01,  7.62237161e-01],\n",
        "       [ 4.83164032e-01,  8.81931869e-01],\n",
        "       [-5.52997766e-02, -7.11305016e-01],\n",
        "       [-1.57966441e+00, -6.29220313e-01],\n",
        "       [ 5.51308645e-02, -8.47206763e-01],\n",
        "       [-2.06001582e+00,  5.87697787e-02],\n",
        "       [ 1.11810855e+00,  1.30254175e+00],\n",
        "       [ 4.87016164e-01, -9.90143937e-01],\n",
        "       [-1.65518042e+00, -1.69386383e-01],\n",
        "       [-1.44349738e+00,  1.90299243e-01],\n",
        "       [-1.70074547e-01, -8.26736022e-01],\n",
        "       [-1.82433979e+00, -3.07814626e-01],\n",
        "       [ 1.03093485e+00,  1.26457691e+00],\n",
        "       [ 1.64431169e+00,  1.27773115e+00],\n",
        "       [-1.47617693e+00,  2.60783872e-02],\n",
        "       [ 1.00953067e+00,  1.14270181e+00],\n",
        "       [-1.45285636e+00, -2.55216207e-01],\n",
        "       [-1.74092917e+00, -8.34443177e-02],\n",
        "       [ 1.22038299e+00,  1.28699961e+00],\n",
        "       [ 9.16925397e-01,  7.32070275e-01],\n",
        "       [-1.60754185e-03, -7.26375571e-01],\n",
        "       [ 8.93841238e-01,  8.41146643e-01],\n",
        "       [ 6.33791961e-01,  1.00915134e+00],\n",
        "       [-1.47927075e+00, -6.99781936e-01],\n",
        "       [ 5.44799374e-02, -1.06441970e+00],\n",
        "       [-1.51935568e+00, -4.89276929e-01],\n",
        "       [ 2.89939026e-01, -7.73145523e-01],\n",
        "       [-9.68154061e-03, -1.13302207e+00],\n",
        "       [ 1.13474639e+00,  9.71541744e-01],\n",
        "       [ 5.36421406e-01, -8.47906388e-01],\n",
        "       [ 1.14759864e+00,  6.89915205e-01],\n",
        "       [ 5.73291902e-01,  7.90802710e-01],\n",
        "       [ 2.12377397e-01, -6.07569808e-01],\n",
        "       [ 5.26579548e-01, -8.15930264e-01],\n",
        "       [-2.01831641e+00,  6.78650740e-02],\n",
        "       [-2.35512624e-01, -1.08205132e+00],\n",
        "       [ 1.59274780e-01, -6.00717261e-01],\n",
        "       [ 2.28120356e-01, -1.16003549e+00],\n",
        "       [-1.53658378e+00,  8.40798808e-02],\n",
        "       [ 1.13954609e+00,  6.31782001e-01],\n",
        "       [ 1.01119255e+00,  1.04360805e+00],\n",
        "       [-1.42039867e-01, -4.81230337e-01],\n",
        "       [-2.23120182e+00,  8.49162905e-02],\n",
        "       [ 1.25554811e-01, -1.01794793e+00],\n",
        "       [-1.72493509e+00, -6.94426177e-01],\n",
        "       [-1.60434630e+00,  4.45550868e-01],\n",
        "       [ 7.37153979e-01,  9.26560744e-01],\n",
        "       [ 6.72905271e-01,  1.13366030e+00],\n",
        "       [ 1.20066456e+00,  7.26273093e-01],\n",
        "       [ 7.58747209e-02, -9.83378326e-01],\n",
        "       [ 1.28783262e+00,  1.18088601e+00],\n",
        "       [ 1.06521930e+00,  1.00714746e+00],\n",
        "       [ 1.05871698e+00,  1.12956519e+00],\n",
        "       [-1.12643410e+00,  1.66787744e-01],\n",
        "       [-1.10157218e+00, -3.64137806e-01],\n",
        "       [ 2.35118217e-01, -1.39769949e-01],\n",
        "       [ 1.13853795e+00,  1.01018519e+00],\n",
        "       [ 5.31205654e-01, -8.81990792e-01],\n",
        "       [ 4.33085936e-01, -7.64059042e-01],\n",
        "       [-4.48926156e-03, -1.30548411e+00],\n",
        "       [-1.76348589e+00, -4.97430739e-01],\n",
        "       [ 1.36485681e+00,  5.83404699e-01],\n",
        "       [ 5.66923900e-01,  1.51391963e+00],\n",
        "       [ 1.35736826e+00,  6.70915318e-01],\n",
        "       [ 1.07173397e+00,  6.11990884e-01],\n",
        "       [ 1.00106915e+00,  8.93815326e-01],\n",
        "       [ 1.33091007e+00,  8.79773879e-01],\n",
        "       [-1.79603740e+00, -3.53883973e-02],\n",
        "       [-1.27222979e+00,  4.00156642e-01],\n",
        "       [ 8.47480603e-01,  1.17032364e+00],\n",
        "       [-1.50989129e+00, -7.12318330e-01],\n",
        "       [-1.24953576e+00, -5.57859730e-01],\n",
        "       [-1.27717973e+00, -5.99350550e-01],\n",
        "       [-1.81946743e+00,  7.37057673e-01],\n",
        "       [ 1.19949867e+00,  1.56969386e+00],\n",
        "       [-1.25543847e+00, -2.33892826e-01],\n",
        "       [-1.63052058e+00,  1.61455865e-01],\n",
        "       [ 1.10611305e+00,  7.39698224e-01],\n",
        "       [ 6.70193192e-01,  8.70567001e-01],\n",
        "       [ 3.69670156e-01, -6.94645306e-01],\n",
        "       [-1.26362293e+00, -6.99249285e-01],\n",
        "       [-3.66687507e-01, -1.35310260e+00],\n",
        "       [ 2.44032147e-01, -6.59470793e-01],\n",
        "       [-1.27679142e+00, -4.85453412e-01],\n",
        "       [ 3.77473612e-02, -6.99251605e-01],\n",
        "       [-2.19148539e+00, -4.91199500e-01],\n",
        "       [-2.93277777e-01, -5.89488212e-01],\n",
        "       [-1.65737397e+00, -2.98337786e-01],\n",
        "       [ 7.36638861e-01,  5.78037057e-01],\n",
        "       [ 1.13709081e+00,  1.30119754e+00],\n",
        "       [-1.44146601e+00,  3.13934680e-02],\n",
        "       [ 5.92360708e-01,  1.22545114e+00],\n",
        "       [ 6.51719414e-01,  4.92674894e-01],\n",
        "       [ 5.94559139e-01,  8.25637315e-01],\n",
        "       [-1.87900722e+00, -5.21899626e-01],\n",
        "       [ 2.15225041e-01, -1.28269851e+00],\n",
        "       [ 4.99145965e-01, -6.70268634e-01],\n",
        "       [-1.82954176e+00, -3.39269731e-01],\n",
        "       [ 7.92721403e-01,  1.33785606e+00],\n",
        "       [ 9.54363372e-01,  9.80396626e-01],\n",
        "       [-1.35359846e+00,  1.03976340e-01],\n",
        "       [ 1.05595062e+00,  8.07031927e-01],\n",
        "       [-1.94311010e+00, -1.18976964e-01],\n",
        "       [-1.39604137e+00, -3.10095976e-01],\n",
        "       [ 1.28977624e+00,  1.01753365e+00],\n",
        "       [-1.59503139e+00, -5.40574609e-01],\n",
        "       [-1.41994046e+00, -3.81032569e-01],\n",
        "       [-2.35569801e-02, -1.10133702e+00],\n",
        "       [-1.26038568e+00, -6.93273886e-01],\n",
        "       [ 9.60215981e-01, -8.11553694e-01],\n",
        "       [ 5.51803308e-01, -1.01793176e+00],\n",
        "       [ 3.70185085e-01, -1.06885468e+00],\n",
        "       [ 8.25529207e-01,  8.77007060e-01],\n",
        "       [-1.87032595e+00,  2.87507199e-01],\n",
        "       [-1.56260769e+00, -1.89196712e-01],\n",
        "       [-1.26346548e+00, -7.74725237e-01],\n",
        "       [-6.33800421e-02, -7.59400611e-01],\n",
        "       [ 8.85298280e-01,  8.85620519e-01],\n",
        "       [-1.43324686e-01, -1.16083678e+00],\n",
        "       [-1.83908725e+00, -3.26655515e-01],\n",
        "       [ 2.74709229e-01, -1.04546829e+00],\n",
        "       [-1.45703573e+00, -2.91842036e-01],\n",
        "       [-1.59048842e+00,  1.66063031e-01],\n",
        "       [ 9.25549284e-01,  7.41406406e-01],\n",
        "       [ 1.97245469e-01, -7.80703225e-01],\n",
        "       [ 2.88401697e-01, -8.32425551e-01],\n",
        "       [ 7.24141618e-01, -7.99149200e-01],\n",
        "       [-1.62658639e+00, -1.80005543e-01],\n",
        "       [ 5.84481588e-01,  1.13195640e+00],\n",
        "       [ 1.02146732e+00,  4.59657799e-01],\n",
        "       [ 8.65050554e-01,  9.57714887e-01],\n",
        "       [ 3.98717766e-01, -1.24273147e+00],\n",
        "       [ 8.62234892e-01,  1.10955561e+00],\n",
        "       [-1.35999430e+00,  2.49942654e-02],\n",
        "       [-1.19178505e+00, -3.82946323e-02],\n",
        "       [ 1.29392424e+00,  1.10320509e+00],\n",
        "       [ 1.25679630e+00, -7.79857582e-01],\n",
        "       [ 9.38040302e-02, -5.53247258e-01],\n",
        "       [-1.73512175e+00, -9.76271667e-02],\n",
        "       [ 2.23153587e-01, -9.43474351e-01],\n",
        "       [ 4.01989100e-01, -1.10963051e+00],\n",
        "       [-1.42244158e+00,  1.81914703e-01],\n",
        "       [ 3.92476267e-01, -8.78426277e-01],\n",
        "       [ 1.25181875e+00,  6.93614996e-01],\n",
        "       [ 1.77481317e-02, -7.20304235e-01],\n",
        "       [-1.87752521e+00, -2.63870424e-01],\n",
        "       [-1.58063602e+00, -5.50456344e-01],\n",
        "       [-1.59589493e+00, -1.53932892e-01],\n",
        "       [-1.01829770e+00,  3.88542370e-02],\n",
        "       [ 1.24819659e+00,  6.60041803e-01],\n",
        "       [-1.25551377e+00, -2.96172009e-02],\n",
        "       [-1.41864559e+00, -3.58230179e-01],\n",
        "       [ 5.25758326e-01,  8.70500543e-01],\n",
        "       [ 5.55599988e-01,  1.18765072e+00],\n",
        "       [ 2.81344439e-02, -6.99111314e-01]]\n",
        "\n",
        "new_points = np.array(data)\n",
        "\n",
        "# Import KMeans\n",
        "from sklearn.cluster import KMeans\n",
        "\n",
        "# Create a KMeans instance with 3 clusters: model\n",
        "model = KMeans(n_clusters=3)\n",
        "\n",
        "# Fit model to points\n",
        "model.fit(points)\n",
        "\n",
        "# Determine the cluster labels of new_points: labels\n",
        "labels = model.predict(new_points)\n",
        "\n",
        "# Print cluster labels of new_points\n",
        "print(labels)"
      ],
      "execution_count": 15,
      "outputs": [
        {
          "output_type": "stream",
          "text": [
            "[1 0 2 1 0 1 0 0 0 2 1 0 0 2 2 0 2 2 0 0 2 0 1 0 1 2 0 2 2 1 1 0 0 0 2 1 0\n",
            " 0 1 0 2 1 1 2 1 0 2 2 0 0 0 0 2 2 1 1 2 2 2 1 1 0 0 0 1 0 2 0 1 2 1 1 1 0\n",
            " 1 2 2 1 0 2 1 2 1 0 2 0 2 1 0 0 0 1 0 0 1 2 2 2 2 1 0 1 2 2 1 1 0 1 2 2 1\n",
            " 2 2 2 0 0 0 0 2 2 0 1 0 2 0 1 2 0 2 2 0 2 0 2 1 0 1 1 0 2 1 0 1 1 2 0 0 1\n",
            " 2 1 2 0 1 2 2 1 2 0 0 2 0 2 2 0 0 1 0 0 2 1 2 1 1 0 1 0 0 1 1 2 1 1 1 2 0\n",
            " 0 1 2 1 2 2 0 0 0 1 0 0 0 2 2 1 0 1 1 1 2 0 0 0 0 0 0 2 2 0 2 2 2 2 0 2 2\n",
            " 0 0 1 2 1 1 2 1 2 1 2 0 0 2 0 0 0 2 1 1 2 0 0 2 0 2 2 0 2 2 1 2 1 1 1 0 2\n",
            " 2 2 1 0 1 2 1 2 2 0 1 1 1 2 0 0 0 1 0 2 2 0 1 1 2 1 1 2 1 0 1 2 2 2 2 0 2\n",
            " 2 0 0 1]\n"
          ],
          "name": "stdout"
        }
      ]
    },
    {
      "cell_type": "code",
      "metadata": {
        "colab": {
          "base_uri": "https://localhost:8080/",
          "height": 265
        },
        "id": "un03nnDZ8Mie",
        "outputId": "743f5d97-793f-4478-be39-b6817480d117"
      },
      "source": [
        "# Inspect your clustering\n",
        "\n",
        "# Import pyplot\n",
        "import matplotlib.pyplot as plt\n",
        "\n",
        "# Assign the columns of new_points: xs and ys\n",
        "xs = new_points[:,0]\n",
        "ys = new_points[:,1]\n",
        "\n",
        "# Make a scatter plot of xs and ys, using labels to define the colors\n",
        "plt.scatter(xs, ys, alpha=0.5, c=labels)\n",
        "\n",
        "# Assign the cluster centers: centroids\n",
        "centroids = model.cluster_centers_\n",
        "\n",
        "# Assign the columns of centroids: centroids_x, centroids_y\n",
        "centroids_x = centroids[:,0]\n",
        "centroids_y = centroids[:,1]\n",
        "\n",
        "# Make a scatter plot of centroids_x and centroids_y\n",
        "plt.scatter(centroids_x, centroids_y, marker='D', s=50)\n",
        "plt.show()"
      ],
      "execution_count": 16,
      "outputs": [
        {
          "output_type": "display_data",
          "data": {
            "image/png": "[encoded data removed]",
            "text/plain": [
              "<Figure size 432x288 with 1 Axes>"
            ]
          },
          "metadata": {
            "tags": [],
            "needs_background": "light"
          }
        }
      ]
    },
    {
      "cell_type": "code",
      "metadata": {
        "colab": {
          "base_uri": "https://localhost:8080/",
          "height": 279
        },
        "id": "jjUVQmRF8Tmz",
        "outputId": "0db9c467-88a0-40bb-f68d-6f43a5f9e5ce"
      },
      "source": [
        "# Evaluating a clustering\n",
        "\n",
        "import pandas as pd\n",
        "\n",
        "filename = 'https://raw.githubusercontent.com/chesterheng/ai-for-industry/main/datasets/Grains/seeds.csv'\n",
        "df = pd.read_csv(filename, header=None)\n",
        "df.iloc[:, 7].replace({1: 'Kama wheat', 2:'Rosa wheat', 3: 'Canadian wheat'}, inplace = True)\n",
        "samples = df.iloc[:, 0:7].values\n",
        "varieties = df.iloc[:, 7]\n",
        "\n",
        "# How many clusters of grain?\n",
        "\n",
        "ks = range(1, 6)\n",
        "inertias = []\n",
        "\n",
        "for k in ks:\n",
        "    # Create a KMeans instance with k clusters: model\n",
        "    model = KMeans(n_clusters=k)\n",
        "    \n",
        "    # Fit model to samples\n",
        "    model.fit(samples)\n",
        "    \n",
        "    # Append the inertia to the list of inertias\n",
        "    inertias.append(model.inertia_)\n",
        "    \n",
        "# Plot ks vs inertias\n",
        "plt.plot(ks, inertias, '-o')\n",
        "plt.xlabel('number of clusters, k')\n",
        "plt.ylabel('inertia')\n",
        "plt.xticks(ks)\n",
        "plt.show()"
      ],
      "execution_count": 69,
      "outputs": [
        {
          "output_type": "display_data",
          "data": {
            "image/png": "[encoded data removed]",
            "text/plain": [
              "<Figure size 432x288 with 1 Axes>"
            ]
          },
          "metadata": {
            "tags": [],
            "needs_background": "light"
          }
        }
      ]
    },
    {
      "cell_type": "code",
      "metadata": {
        "colab": {
          "base_uri": "https://localhost:8080/"
        },
        "id": "M38lpIkZAFyC",
        "outputId": "b54abc3a-d47f-4732-a162-e6d3b223d3a4"
      },
      "source": [
        "# Evaluating the grain clustering\n",
        "\n",
        "from sklearn.cluster import KMeans\n",
        "\n",
        "# Create a KMeans model with 3 clusters: model\n",
        "model = KMeans(n_clusters=3)\n",
        "\n",
        "# Use fit_predict to fit model and obtain cluster labels: labels\n",
        "labels = model.fit_predict(samples)\n",
        "\n",
        "# Create a DataFrame with labels and varieties as columns: df\n",
        "df = pd.DataFrame({'labels': labels, 'varieties': varieties})\n",
        "\n",
        "# Create crosstab: ct\n",
        "ct = pd.crosstab(df['labels'], df['varieties'])\n",
        "\n",
        "# Display ct\n",
        "print(ct)"
      ],
      "execution_count": 70,
      "outputs": [
        {
          "output_type": "stream",
          "text": [
            "varieties  Canadian wheat  Kama wheat  Rosa wheat\n",
            "labels                                           \n",
            "0                       0           1          60\n",
            "1                      68           9           0\n",
            "2                       2          60          10\n"
          ],
          "name": "stdout"
        }
      ]
    },
    {
      "cell_type": "code",
      "metadata": {
        "id": "zrZXqYKECLS6"
      },
      "source": [
        "# Transforming features for better clusterings\n",
        "\n",
        "# Scaling fish data for clustering\n",
        "\n",
        "# Perform the necessary imports\n",
        "from sklearn.pipeline import make_pipeline\n",
        "from sklearn.preprocessing import StandardScaler\n",
        "from sklearn.cluster import KMeans\n",
        "\n",
        "# Create scaler: scaler\n",
        "scaler = StandardScaler()\n",
        "\n",
        "# Create KMeans instance: kmeans\n",
        "kmeans = KMeans(n_clusters=4)\n",
        "\n",
        "# Create pipeline: pipeline\n",
        "pipeline = make_pipeline(scaler, kmeans)"
      ],
      "execution_count": 87,
      "outputs": []
    },
    {
      "cell_type": "code",
      "metadata": {
        "colab": {
          "base_uri": "https://localhost:8080/"
        },
        "id": "2Af-CkUICVML",
        "outputId": "8dbcc1b1-ddef-4b64-e12a-2737d0619b85"
      },
      "source": [
        "# Clustering the fish data\n",
        "\n",
        "import pandas as pd\n",
        "\n",
        "filename = 'https://raw.githubusercontent.com/chesterheng/ai-for-industry/main/datasets/fish.csv'\n",
        "fish = pd.read_csv(filename, header=None, index_col=0)\n",
        "samples = fish.values\n",
        "species = fish.index.tolist()\n",
        "\n",
        "import pandas as pd\n",
        "\n",
        "# Fit the pipeline to samples\n",
        "pipeline.fit(samples)\n",
        "\n",
        "# Calculate the cluster labels: labels\n",
        "labels = pipeline.predict(samples)\n",
        "\n",
        "# Create a DataFrame with labels and species as columns: df\n",
        "df = pd.DataFrame({'labels': labels, 'species': species})\n",
        "\n",
        "# Create crosstab: ct\n",
        "ct = pd.crosstab(df['labels'], df['species'])\n",
        "\n",
        "# Display ct\n",
        "print(ct)"
      ],
      "execution_count": 91,
      "outputs": [
        {
          "output_type": "stream",
          "text": [
            "species  Bream  Pike  Roach  Smelt\n",
            "labels                            \n",
            "0           33     0      1      0\n",
            "1            0     0      0     13\n",
            "2            0    17      0      0\n",
            "3            1     0     19      1\n"
          ],
          "name": "stdout"
        }
      ]
    },
    {
      "cell_type": "code",
      "metadata": {
        "colab": {
          "base_uri": "https://localhost:8080/"
        },
        "id": "w-26zdLvFuNV",
        "outputId": "144e2a9c-be6a-4fd7-a019-ef630a32d737"
      },
      "source": [
        "# Clustering stocks using KMeans\n",
        "\n",
        "# Import Normalizer\n",
        "from sklearn.preprocessing import Normalizer\n",
        "\n",
        "# Create a normalizer: normalizer\n",
        "normalizer = Normalizer()\n",
        "\n",
        "# Create a KMeans model with 10 clusters: kmeans\n",
        "kmeans = KMeans(n_clusters=10)\n",
        "\n",
        "# Make a pipeline chaining normalizer and kmeans: pipeline\n",
        "pipeline = make_pipeline(normalizer, kmeans)\n",
        "\n",
        "# Fit pipeline to the daily price movements\n",
        "pipeline.fit(movements)"
      ],
      "execution_count": 94,
      "outputs": [
        {
          "output_type": "execute_result",
          "data": {
            "text/plain": [
              "Pipeline(memory=None,\n",
              "         steps=[('normalizer', Normalizer(copy=True, norm='l2')),\n",
              "                ('kmeans',\n",
              "                 KMeans(algorithm='auto', copy_x=True, init='k-means++',\n",
              "                        max_iter=300, n_clusters=10, n_init=10, n_jobs=None,\n",
              "                        precompute_distances='auto', random_state=None,\n",
              "                        tol=0.0001, verbose=0))],\n",
              "         verbose=False)"
            ]
          },
          "metadata": {
            "tags": []
          },
          "execution_count": 94
        }
      ]
    },
    {
      "cell_type": "code",
      "metadata": {
        "colab": {
          "base_uri": "https://localhost:8080/"
        },
        "id": "28uJJpFuTNgy",
        "outputId": "2b4ab1e8-ebad-4e7b-b3db-dc80e6bc1659"
      },
      "source": [
        "# Which stocks move together?\n",
        "\n",
        "filename = 'https://raw.githubusercontent.com/chesterheng/ai-for-industry/main/datasets/company-stock-movements-2010-2015-incl.csv'\n",
        "df = pd.read_csv(filename, index_col=0)\n",
        "movements = df.values\n",
        "companies = df.index.values\n",
        "\n",
        "# Import pandas\n",
        "import pandas as pd\n",
        "\n",
        "# Predict the cluster labels: labels\n",
        "labels = pipeline.predict(movements)\n",
        "\n",
        "# Create a DataFrame aligning labels and companies: df\n",
        "df = pd.DataFrame({'labels': labels, 'companies': companies})\n",
        "\n",
        "# Display df sorted by cluster label\n",
        "print(df.sort_values('labels'))"
      ],
      "execution_count": 98,
      "outputs": [
        {
          "output_type": "stream",
          "text": [
            "    labels                           companies\n",
            "55       0                         Wells Fargo\n",
            "1        0                                 AIG\n",
            "18       0                       Goldman Sachs\n",
            "26       0                      JPMorgan Chase\n",
            "5        0                     Bank of America\n",
            "15       0                                Ford\n",
            "25       1                   Johnson & Johnson\n",
            "16       1                   General Electrics\n",
            "14       1                                Dell\n",
            "13       1                   DuPont de Nemours\n",
            "58       1                               Xerox\n",
            "31       1                           McDonalds\n",
            "20       1                          Home Depot\n",
            "32       1                                  3M\n",
            "8        1                         Caterpillar\n",
            "3        1                    American express\n",
            "47       1                            Symantec\n",
            "30       1                          MasterCard\n",
            "23       1                                 IBM\n",
            "56       2                            Wal-Mart\n",
            "38       2                               Pepsi\n",
            "40       2                      Procter Gamble\n",
            "27       2                      Kimberly-Clark\n",
            "9        2                   Colgate-Palmolive\n",
            "51       3                   Texas instruments\n",
            "24       3                               Intel\n",
            "11       3                               Cisco\n",
            "33       3                           Microsoft\n",
            "22       3                                  HP\n",
            "50       3  Taiwan Semiconductor Manufacturing\n",
            "44       4                        Schlumberger\n",
            "43       4                                 SAP\n",
            "42       4                   Royal Dutch Shell\n",
            "49       4                               Total\n",
            "57       4                               Exxon\n",
            "39       4                              Pfizer\n",
            "37       4                            Novartis\n",
            "6        4            British American Tobacco\n",
            "10       4                      ConocoPhillips\n",
            "12       4                             Chevron\n",
            "28       4                           Coca Cola\n",
            "53       4                       Valero Energy\n",
            "52       4                            Unilever\n",
            "19       4                     GlaxoSmithKline\n",
            "35       4                            Navistar\n",
            "46       4                      Sanofi-Aventis\n",
            "48       5                              Toyota\n",
            "21       5                               Honda\n",
            "45       5                                Sony\n",
            "7        5                               Canon\n",
            "34       5                          Mitsubishi\n",
            "17       6                     Google/Alphabet\n",
            "2        6                              Amazon\n",
            "0        6                               Apple\n",
            "41       7                       Philip Morris\n",
            "29       8                     Lookheed Martin\n",
            "36       8                    Northrop Grumman\n",
            "4        8                              Boeing\n",
            "54       8                            Walgreen\n",
            "59       9                               Yahoo\n"
          ],
          "name": "stdout"
        }
      ]
    },
    {
      "cell_type": "markdown",
      "metadata": {
        "id": "eIIhs_lvTxjb"
      },
      "source": [
        "## 2. Visualization with hierarchical clustering and t-SNE"
      ]
    },
    {
      "cell_type": "code",
      "metadata": {
        "id": "L0hZ5Tr1Tkk_"
      },
      "source": [
        "# Visualizing hierarchies"
      ],
      "execution_count": null,
      "outputs": []
    },
    {
      "cell_type": "markdown",
      "metadata": {
        "id": "B8LOcWrCT2CH"
      },
      "source": [
        "**How many merges?**\n",
        "\n",
        "If there are 5 data samples, how many merge operations will occur in a hierarchical clustering? (To help answer this question, think back to the video, in which Ben walked through an example of hierarchical clustering using 6 countries.)\n",
        "\n",
        "**Possible Answers**\n",
        "\n",
        "- [x] 4 merges.\n",
        "- [ ] 3 merges.\n",
        "- [ ] This can't be known in advance."
      ]
    },
    {
      "cell_type": "code",
      "metadata": {
        "colab": {
          "base_uri": "https://localhost:8080/",
          "height": 304
        },
        "id": "60PZusaYUAdW",
        "outputId": "fd0f5a89-d4ba-498b-86d3-f5576220511c"
      },
      "source": [
        "# Hierarchical clustering of the grain data\n",
        "\n",
        "filename = 'https://raw.githubusercontent.com/chesterheng/ai-for-industry/main/datasets/Grains/seeds.csv'\n",
        "df = pd.read_csv(filename, header = None)\n",
        "df.iloc[:, 7].replace({1: 'Kama wheat', 2:'Rosa wheat', 3: 'Canadian wheat'}, inplace = True)\n",
        "df = df.sample(42)\n",
        "samples = df.iloc[:, 0: 7].values\n",
        "varieties = df.iloc[:, 7].values\n",
        "\n",
        "# Perform the necessary imports\n",
        "from scipy.cluster.hierarchy import linkage, dendrogram\n",
        "import matplotlib.pyplot as plt\n",
        "\n",
        "# Calculate the linkage: mergings\n",
        "mergings = linkage(samples, method = 'complete')\n",
        "\n",
        "# Plot the dendrogram, using varieties as labels\n",
        "dendrogram(mergings, labels=varieties, leaf_rotation=90, leaf_font_size=6);\n",
        "plt.show()"
      ],
      "execution_count": 100,
      "outputs": [
        {
          "output_type": "display_data",
          "data": {
            "image/png": "[encoded data removed]",
            "text/plain": [
              "<Figure size 432x288 with 1 Axes>"
            ]
          },
          "metadata": {
            "tags": [],
            "needs_background": "light"
          }
        }
      ]
    },
    {
      "cell_type": "code",
      "metadata": {
        "colab": {
          "base_uri": "https://localhost:8080/",
          "height": 368
        },
        "id": "mnjzmu_BVIId",
        "outputId": "32d657c5-0559-4b67-d1a2-5567625c91c1"
      },
      "source": [
        "# Hierarchies of stocks\n",
        "\n",
        "# Import normalize\n",
        "from sklearn.preprocessing import normalize\n",
        "\n",
        "# Normalize the movements: normalized_movements\n",
        "normalized_movements = normalize(movements)\n",
        "\n",
        "# Calculate the linkage: mergings\n",
        "mergings = linkage(normalized_movements, method = 'complete')\n",
        "\n",
        "# Plot the dendrogram\n",
        "dendrogram(mergings, labels = companies, leaf_rotation = 90, leaf_font_size = 6);\n",
        "plt.show()"
      ],
      "execution_count": 102,
      "outputs": [
        {
          "output_type": "display_data",
          "data": {
            "image/png": "[encoded data removed]",
            "text/plain": [
              "<Figure size 432x288 with 1 Axes>"
            ]
          },
          "metadata": {
            "tags": [],
            "needs_background": "light"
          }
        }
      ]
    },
    {
      "cell_type": "code",
      "metadata": {
        "id": "_6hTBi35VVPp"
      },
      "source": [
        "# Cluster labels in hierarchical clustering"
      ],
      "execution_count": null,
      "outputs": []
    },
    {
      "cell_type": "markdown",
      "metadata": {
        "id": "z6-LSLI9VvHb"
      },
      "source": [
        "**Which clusters are closest?**\n",
        "\n",
        "In the video, you learned that the linkage method defines how the distance between clusters is measured. In complete linkage, the distance between clusters is the distance between the furthest points of the clusters. In single linkage, the distance between clusters is the distance between the closest points of the clusters.\n",
        "\n",
        "Consider the three clusters in the diagram. Which of the following statements are true?\n",
        "\n",
        "![](https://raw.githubusercontent.com/chesterheng/ai-for-industry/main/images/cluster.jpg)\n",
        "\n",
        "A. In single linkage, Cluster 3 is the closest to Cluster 2.\n",
        "\n",
        "B. In complete linkage, Cluster 1 is the closest to Cluster 2.\n",
        "\n",
        "**Possible Answers**\n",
        "\n",
        "- [ ] Neither A nor B.\n",
        "- [ ] A only.\n",
        "- [x] Both A and B.\n"
      ]
    },
    {
      "cell_type": "code",
      "metadata": {
        "colab": {
          "base_uri": "https://localhost:8080/",
          "height": 322
        },
        "id": "mb9VZMWtWf__",
        "outputId": "d115a48e-6cdb-4682-c258-ca518b0ad47b"
      },
      "source": [
        "# Different linkage, different hierarchical clustering!\n",
        "\n",
        "filename = 'https://raw.githubusercontent.com/chesterheng/ai-for-industry/main/datasets/eurovision-2016.csv'\n",
        "df = pd.read_csv(filename)\n",
        "pt = pd.pivot_table(df, index = 'From country', columns = 'To country', values = 'Jury Points', aggfunc = 'sum')\n",
        "pt.replace({np.nan: 0}, inplace = True)\n",
        "samples = pt.values\n",
        "country_names = pt.index.values\n",
        "\n",
        "# Perform the necessary imports\n",
        "import matplotlib.pyplot as plt\n",
        "from scipy.cluster.hierarchy import linkage, dendrogram\n",
        "\n",
        "# Calculate the linkage: mergings\n",
        "mergings = linkage(samples, method = 'single')\n",
        "\n",
        "# Plot the dendrogram\n",
        "dendrogram(mergings, labels = country_names, leaf_rotation = 90, leaf_font_size = 6);\n",
        "plt.show()"
      ],
      "execution_count": 104,
      "outputs": [
        {
          "output_type": "display_data",
          "data": {
            "image/png": "[encoded data removed]",
            "text/plain": [
              "<Figure size 432x288 with 1 Axes>"
            ]
          },
          "metadata": {
            "tags": [],
            "needs_background": "light"
          }
        }
      ]
    },
    {
      "cell_type": "markdown",
      "metadata": {
        "id": "gnYzHEu2XLPI"
      },
      "source": [
        "**Intermediate clusterings**\n",
        "\n",
        "Displayed on the right is the dendrogram for the hierarchical clustering of the grain samples that you computed earlier. If the hierarchical clustering were stopped at height 6 on the dendrogram, how many clusters would there be?\n",
        "\n",
        "![](https://raw.githubusercontent.com/chesterheng/ai-for-industry/main/images/grain.jpg)\n",
        "\n",
        "**Possible Answers**\n",
        "\n",
        "- [ ] 1.\n",
        "- [x] 3.\n",
        "- [ ] As many as there were at the beginning"
      ]
    },
    {
      "cell_type": "code",
      "metadata": {
        "colab": {
          "base_uri": "https://localhost:8080/"
        },
        "id": "4HIEQ0qOYMOw",
        "outputId": "a9ed8305-f76b-48fd-89fa-c8fe9d51dfa9"
      },
      "source": [
        "# Extracting the cluster labels\n",
        "\n",
        "filename = 'https://raw.githubusercontent.com/chesterheng/ai-for-industry/main/datasets/Grains/seeds.csv'\n",
        "df = pd.read_csv(filename, header = None)\n",
        "variety_numbers = df.iloc[:, 7].values\n",
        "df.iloc[:, 7].replace({1: 'Kama wheat', 2:'Rosa wheat', 3: 'Canadian wheat'}, inplace = True)\n",
        "varieties = df.iloc[:, 7].tolist()\n",
        "\n",
        "# Perform the necessary imports\n",
        "import pandas as pd\n",
        "from scipy.cluster.hierarchy import fcluster\n",
        "\n",
        "# Calculate the linkage: mergings\n",
        "mergings = linkage(samples, method = 'complete')\n",
        "\n",
        "# Use fcluster to extract labels: labels\n",
        "labels = fcluster(mergings, 6, criterion = 'distance')\n",
        "\n",
        "# Create a DataFrame with labels and varieties as columns: df\n",
        "df = pd.DataFrame({'labels': labels, 'varieties': varieties})\n",
        "\n",
        "# Create crosstab: ct\n",
        "ct = pd.crosstab(df['labels'], df['varieties'])\n",
        "\n",
        "# Display ct\n",
        "print(ct)"
      ],
      "execution_count": 127,
      "outputs": [
        {
          "output_type": "stream",
          "text": [
            "varieties  Canadian wheat  Kama wheat  Rosa wheat\n",
            "labels                                           \n",
            "1                       0           0          47\n",
            "2                       0          52          23\n",
            "3                      13           1           0\n",
            "4                      57          17           0\n"
          ],
          "name": "stdout"
        }
      ]
    },
    {
      "cell_type": "code",
      "metadata": {
        "colab": {
          "base_uri": "https://localhost:8080/",
          "height": 265
        },
        "id": "CCV5fSd2YZo5",
        "outputId": "8a7ed7a7-25d3-475a-d993-669949de8f58"
      },
      "source": [
        "# t-SNE for 2-dimensional maps\n",
        "\n",
        "# t-SNE visualization of grain dataset\n",
        "\n",
        "# Import TSNE\n",
        "from sklearn.manifold import TSNE\n",
        "\n",
        "# Create a TSNE instance: model\n",
        "model = TSNE(learning_rate = 200)\n",
        "\n",
        "# Apply fit_transform to samples: tsne_features\n",
        "tsne_features = model.fit_transform(samples)\n",
        "\n",
        "# Select the 0th feature: xs\n",
        "xs = tsne_features[:,0]\n",
        "\n",
        "# Select the 1st feature: ys\n",
        "ys = tsne_features[:,1]\n",
        "\n",
        "# Scatter plot, coloring by variety_numbers\n",
        "plt.scatter(xs, ys, c = variety_numbers)\n",
        "plt.show()"
      ],
      "execution_count": 129,
      "outputs": [
        {
          "output_type": "display_data",
          "data": {
            "image/png": "[encoded data removed]",
            "text/plain": [
              "<Figure size 432x288 with 1 Axes>"
            ]
          },
          "metadata": {
            "tags": [],
            "needs_background": "light"
          }
        }
      ]
    },
    {
      "cell_type": "code",
      "metadata": {
        "colab": {
          "base_uri": "https://localhost:8080/",
          "height": 265
        },
        "id": "AVy5RDt_botM",
        "outputId": "e927fd92-5ea4-478e-8e6f-91eed54fefeb"
      },
      "source": [
        "# A t-SNE map of the stock market\n",
        "\n",
        "# Import TSNE\n",
        "from sklearn.manifold import TSNE\n",
        "\n",
        "# Create a TSNE instance: model\n",
        "model = TSNE(learning_rate=50)\n",
        "\n",
        "# Apply fit_transform to normalized_movements: tsne_features\n",
        "tsne_features = model.fit_transform(normalized_movements)\n",
        "\n",
        "# Select the 0th feature: xs\n",
        "xs = tsne_features[:,0]\n",
        "\n",
        "# Select the 1th feature: ys\n",
        "ys = tsne_features[:,1]\n",
        "\n",
        "# Scatter plot\n",
        "plt.scatter(xs, ys, alpha=0.5)\n",
        "\n",
        "# Annotate the points\n",
        "for x, y, company in zip(xs, ys, companies):\n",
        "    plt.annotate(company, (x, y), fontsize=5, alpha=0.75)\n",
        "plt.show()"
      ],
      "execution_count": 131,
      "outputs": [
        {
          "output_type": "display_data",
          "data": {
            "image/png": "[encoded data removed]",
            "text/plain": [
              "<Figure size 432x288 with 1 Axes>"
            ]
          },
          "metadata": {
            "tags": [],
            "needs_background": "light"
          }
        }
      ]
    },
    {
      "cell_type": "markdown",
      "metadata": {
        "id": "mywFbcOvcBOu"
      },
      "source": [
        "## 3. Decorrelating your data and dimension reduction"
      ]
    },
    {
      "cell_type": "code",
      "metadata": {
        "colab": {
          "base_uri": "https://localhost:8080/",
          "height": 286
        },
        "id": "IfhtHgFZcB85",
        "outputId": "69b14652-fd16-4c6f-da5e-80727c857dc1"
      },
      "source": [
        "# Visualizing the PCA transformation\n",
        "\n",
        "# Correlated data in nature\n",
        "\n",
        "import pandas as pd\n",
        "filename = 'https://raw.githubusercontent.com/chesterheng/ai-for-industry/main/datasets/Grains/seeds-width-vs-length.csv'\n",
        "df = pd.read_csv(filename, header = None)\n",
        "grains = df.values\n",
        "\n",
        "# Perform the necessary imports\n",
        "import matplotlib.pyplot as plt\n",
        "from scipy.stats import pearsonr\n",
        "\n",
        "# Assign the 0th column of grains: width\n",
        "width = grains[:, 0]\n",
        "\n",
        "# Assign the 1st column of grains: length\n",
        "length = grains[:, 1]\n",
        "\n",
        "# Scatter plot width vs length\n",
        "plt.scatter(width, length)\n",
        "plt.axis('equal')\n",
        "plt.show()\n",
        "\n",
        "# Calculate the Pearson correlation\n",
        "correlation, pvalue = pearsonr(width, length)\n",
        "\n",
        "# Display the correlation\n",
        "print(correlation)"
      ],
      "execution_count": 132,
      "outputs": [
        {
          "output_type": "display_data",
          "data": {
            "image/png": "[encoded data removed]",
            "text/plain": [
              "<Figure size 432x288 with 1 Axes>"
            ]
          },
          "metadata": {
            "tags": [],
            "needs_background": "light"
          }
        },
        {
          "output_type": "stream",
          "text": [
            "0.8604149377143466\n"
          ],
          "name": "stdout"
        }
      ]
    },
    {
      "cell_type": "code",
      "metadata": {
        "colab": {
          "base_uri": "https://localhost:8080/",
          "height": 283
        },
        "id": "q83UrLxgcawt",
        "outputId": "d1676ba1-982d-4930-adc8-94076086143a"
      },
      "source": [
        "# Decorrelating the grain measurements with PCA\n",
        "\n",
        "# Import PCA\n",
        "from sklearn.decomposition import PCA\n",
        "\n",
        "# Create PCA instance: model\n",
        "model = PCA()\n",
        "\n",
        "# Apply the fit_transform method of model to grains: pca_features\n",
        "pca_features = model.fit_transform(grains)\n",
        "\n",
        "# Assign 0th column of pca_features: xs\n",
        "xs = pca_features[:,0]\n",
        "\n",
        "# Assign 1st column of pca_features: ys\n",
        "ys = pca_features[:,1]\n",
        "\n",
        "# Scatter plot xs vs ys\n",
        "plt.scatter(xs, ys)\n",
        "plt.axis('equal')\n",
        "plt.show()\n",
        "\n",
        "# Calculate the Pearson correlation of xs and ys\n",
        "correlation, pvalue = pearsonr(xs, ys)\n",
        "\n",
        "# Display the correlation\n",
        "print(correlation)"
      ],
      "execution_count": 133,
      "outputs": [
        {
          "output_type": "display_data",
          "data": {
            "image/png": "[encoded data removed]",
            "text/plain": [
              "<Figure size 432x288 with 1 Axes>"
            ]
          },
          "metadata": {
            "tags": [],
            "needs_background": "light"
          }
        },
        {
          "output_type": "stream",
          "text": [
            "2.5496075358378932e-17\n"
          ],
          "name": "stdout"
        }
      ]
    },
    {
      "cell_type": "markdown",
      "metadata": {
        "id": "EJzEAlolcqkp"
      },
      "source": [
        "**Principal components**\n",
        "\n",
        "On the right are three scatter plots of the same point cloud. Each scatter plot shows a different set of axes (in red). In which of the plots could the axes represent the principal components of the point cloud?\n",
        "\n",
        "![](https://raw.githubusercontent.com/chesterheng/ai-for-industry/main/images/plot.jpg)\n",
        "\n",
        "Recall that the principal components are the directions along which the the data varies.\n",
        "\n",
        "**Possible Answers**\n",
        "\n",
        "- [ ] None of them.\n",
        "- [x] Both plot 1 and plot 3.\n",
        "- [ ] Plot 2."
      ]
    },
    {
      "cell_type": "code",
      "metadata": {
        "colab": {
          "base_uri": "https://localhost:8080/",
          "height": 268
        },
        "id": "Fm34KdOFeZkH",
        "outputId": "36c92f78-88da-40b4-ace4-e387ae5741a7"
      },
      "source": [
        "# Intrinsic dimension\n",
        "\n",
        "# The first principal component\n",
        "\n",
        "# Make a scatter plot of the untransformed points\n",
        "plt.scatter(grains[:,0], grains[:,1])\n",
        "\n",
        "# Create a PCA instance: model\n",
        "model = PCA()\n",
        "\n",
        "# Fit model to points\n",
        "model.fit(grains)\n",
        "\n",
        "# Get the mean of the grain samples: mean\n",
        "mean = model.mean_\n",
        "\n",
        "# Get the first principal component: first_pc\n",
        "first_pc = model.components_[0, :]\n",
        "\n",
        "# Plot first_pc as an arrow, starting at mean\n",
        "plt.arrow(mean[0],mean[1], first_pc[0], first_pc[1], color='red', width=0.01)\n",
        "\n",
        "# Keep axes on same scale\n",
        "plt.axis('equal')\n",
        "plt.show()"
      ],
      "execution_count": 134,
      "outputs": [
        {
          "output_type": "display_data",
          "data": {
            "image/png": "[encoded data removed]",
            "text/plain": [
              "<Figure size 432x288 with 1 Axes>"
            ]
          },
          "metadata": {
            "tags": [],
            "needs_background": "light"
          }
        }
      ]
    },
    {
      "cell_type": "code",
      "metadata": {
        "colab": {
          "base_uri": "https://localhost:8080/",
          "height": 279
        },
        "id": "9kUzOlVBemSN",
        "outputId": "d83aca12-46f8-40c5-f988-808c9c4b7217"
      },
      "source": [
        "# Variance of the PCA features\n",
        "\n",
        "filename = 'https://raw.githubusercontent.com/chesterheng/ai-for-industry/main/datasets/fish.csv'\n",
        "fish = pd.read_csv(filename, header = None, index_col = 0)\n",
        "samples = fish.values\n",
        "species = fish.index.values\n",
        "\n",
        "# Perform the necessary imports\n",
        "from sklearn.decomposition import PCA\n",
        "from sklearn.preprocessing import StandardScaler\n",
        "from sklearn.pipeline import make_pipeline\n",
        "import matplotlib.pyplot as plt\n",
        "\n",
        "# Create scaler: scaler\n",
        "scaler = StandardScaler()\n",
        "\n",
        "# Create a PCA instance: pca\n",
        "pca = PCA()\n",
        "\n",
        "# Create pipeline: pipeline\n",
        "pipeline = make_pipeline(scaler, pca)\n",
        "\n",
        "# Fit the pipeline to 'samples'\n",
        "pipeline.fit(samples)\n",
        "\n",
        "# Plot the explained variances\n",
        "features = range(pca.n_components_)\n",
        "plt.bar(features, pca.explained_variance_);\n",
        "plt.xlabel('PCA feature')\n",
        "plt.ylabel('variance')\n",
        "plt.xticks(features);\n",
        "plt.show()"
      ],
      "execution_count": 136,
      "outputs": [
        {
          "output_type": "display_data",
          "data": {
            "image/png": "[encoded data removed]",
            "text/plain": [
              "<Figure size 432x288 with 1 Axes>"
            ]
          },
          "metadata": {
            "tags": [],
            "needs_background": "light"
          }
        }
      ]
    },
    {
      "cell_type": "markdown",
      "metadata": {
        "id": "HzhIEJece5g2"
      },
      "source": [
        "**Intrinsic dimension of the fish data**\n",
        "\n",
        "In the previous exercise, you plotted the variance of the PCA features of the fish measurements. Looking again at your plot, what do you think would be a reasonable choice for the \"intrinsic dimension\" of the fish measurements? Recall that the intrinsic dimension is the number of PCA features with significant variance.\n",
        "\n",
        "Possible Answers\n",
        "\n",
        "- [ ] 1\n",
        "- [x] 2\n",
        "- [ ] 5"
      ]
    },
    {
      "cell_type": "code",
      "metadata": {
        "colab": {
          "base_uri": "https://localhost:8080/"
        },
        "id": "uZOhgaS5e5I2",
        "outputId": "a6b6a0ca-0d68-41cd-d4f3-36d070a3fb70"
      },
      "source": [
        "# Dimension reduction with PCA\n",
        "\n",
        "# Dimension reduction of the fish measurements\n",
        "\n",
        "scaled_samples = scaler.fit_transform(samples)\n",
        "\n",
        "# Import PCA\n",
        "from sklearn.decomposition import PCA\n",
        "\n",
        "# Create a PCA model with 2 components: pca\n",
        "pca = PCA(n_components = 2)\n",
        "\n",
        "# Fit the PCA instance to the scaled samples\n",
        "pca.fit(scaled_samples)\n",
        "\n",
        "# Transform the scaled samples: pca_features\n",
        "pca_features = pca.transform(scaled_samples)\n",
        "\n",
        "# Print the shape of pca_features\n",
        "print(pca_features.shape)\n"
      ],
      "execution_count": 137,
      "outputs": [
        {
          "output_type": "stream",
          "text": [
            "(85, 2)\n"
          ],
          "name": "stdout"
        }
      ]
    },
    {
      "cell_type": "code",
      "metadata": {
        "colab": {
          "base_uri": "https://localhost:8080/"
        },
        "id": "RWGPAuaFfRth",
        "outputId": "73b63068-42d0-4415-d615-f14ed7758495"
      },
      "source": [
        "# A tf-idf word-frequency array\n",
        "\n",
        "\n",
        "# Import TfidfVectorizer\n",
        "from sklearn.feature_extraction.text import TfidfVectorizer\n",
        "\n",
        "documents = ['cats say meow', 'dogs say woof', 'dogs chase cats']\n",
        "\n",
        "# Create a TfidfVectorizer: tfidf\n",
        "tfidf = TfidfVectorizer()\n",
        "\n",
        "# Apply fit_transform to document: csr_mat\n",
        "csr_mat = tfidf.fit_transform(documents)\n",
        "\n",
        "# Print result of toarray() method\n",
        "print(csr_mat.toarray())\n",
        "\n",
        "# Get the words: words\n",
        "words = tfidf.get_feature_names()\n",
        "\n",
        "# Print words\n",
        "print(words)"
      ],
      "execution_count": 138,
      "outputs": [
        {
          "output_type": "stream",
          "text": [
            "[[0.51785612 0.         0.         0.68091856 0.51785612 0.        ]\n",
            " [0.         0.         0.51785612 0.         0.51785612 0.68091856]\n",
            " [0.51785612 0.68091856 0.51785612 0.         0.         0.        ]]\n",
            "['cats', 'chase', 'dogs', 'meow', 'say', 'woof']\n"
          ],
          "name": "stdout"
        }
      ]
    },
    {
      "cell_type": "code",
      "metadata": {
        "id": "vCtr2PFafYlr"
      },
      "source": [
        "# Clustering Wikipedia part I\n",
        "\n",
        "# Perform the necessary imports\n",
        "from sklearn.decomposition import TruncatedSVD\n",
        "from sklearn.cluster import KMeans\n",
        "from sklearn.pipeline import make_pipeline\n",
        "\n",
        "# Create a TruncatedSVD instance: svd\n",
        "svd = TruncatedSVD(n_components = 50)\n",
        "\n",
        "# Create a KMeans instance: kmeans\n",
        "kmeans = KMeans(n_clusters = 6)\n",
        "\n",
        "# Create a pipeline: pipeline\n",
        "pipeline = make_pipeline(svd, kmeans)"
      ],
      "execution_count": 139,
      "outputs": []
    },
    {
      "cell_type": "code",
      "metadata": {
        "colab": {
          "base_uri": "https://localhost:8080/"
        },
        "id": "bhQCmcUffgGw",
        "outputId": "a87bd6e4-4249-420b-8399-f1e66afa02ec"
      },
      "source": [
        "# Clustering Wikipedia part II\n",
        "\n",
        "filename = 'https://raw.githubusercontent.com/chesterheng/ai-for-industry/main/datasets/Wikipedia-articles/wikipedia-vectors.csv'\n",
        "df = pd.read_csv(filename, index_col = 0)\n",
        "\n",
        "articles = df.T.values\n",
        "titles = df.columns.values\n",
        "\n",
        "# Import pandas\n",
        "import pandas as pd\n",
        "\n",
        "# Fit the pipeline to articles\n",
        "pipeline.fit(articles)\n",
        "\n",
        "# Calculate the cluster labels: labels\n",
        "labels = pipeline.predict(articles)\n",
        "\n",
        "# Create a DataFrame aligning labels and titles: df\n",
        "df = pd.DataFrame({'label': labels, 'article': titles})\n",
        "\n",
        "# Display df sorted by cluster label\n",
        "print(df.sort_values('label'))"
      ],
      "execution_count": 141,
      "outputs": [
        {
          "output_type": "stream",
          "text": [
            "    label                                        article\n",
            "39      0                                  Franck Ribéry\n",
            "38      0                                         Neymar\n",
            "37      0                                       Football\n",
            "36      0              2014 FIFA World Cup qualification\n",
            "35      0                Colombia national football team\n",
            "34      0                             Zlatan Ibrahimović\n",
            "33      0                                 Radamel Falcao\n",
            "32      0                                   Arsenal F.C.\n",
            "31      0                              Cristiano Ronaldo\n",
            "30      0                  France national football team\n",
            "59      1                                    Adam Levine\n",
            "58      1                                         Sepsis\n",
            "50      1                                   Chad Kroeger\n",
            "52      1                                     The Wanted\n",
            "51      1                                     Nate Ruess\n",
            "7       1                                  Social search\n",
            "9       1                                       LinkedIn\n",
            "54      1                                 Arctic Monkeys\n",
            "57      1                          Red Hot Chili Peppers\n",
            "56      1                                       Skrillex\n",
            "55      1                                  Black Sabbath\n",
            "5       1                                         Tumblr\n",
            "4       1                                  Google Search\n",
            "53      1                                   Stevie Nicks\n",
            "44      2                                           Gout\n",
            "45      2                                    Hepatitis C\n",
            "43      2                                       Leukemia\n",
            "47      2                                          Fever\n",
            "49      2                                       Lymphoma\n",
            "42      2                                    Doxycycline\n",
            "40      2                                    Tonsillitis\n",
            "41      2                                    Hepatitis B\n",
            "46      2                                     Prednisone\n",
            "48      2                                     Gabapentin\n",
            "15      3                                 Kyoto Protocol\n",
            "14      3                                 Climate change\n",
            "12      3                                   Nigel Lawson\n",
            "13      3                               Connie Hedegaard\n",
            "19      3  2007 United Nations Climate Change Conference\n",
            "18      3  2010 United Nations Climate Change Conference\n",
            "17      3  Greenhouse gas emissions by the United States\n",
            "16      3                                        350.org\n",
            "10      3                                 Global warming\n",
            "11      3       Nationally Appropriate Mitigation Action\n",
            "0       4                                       HTTP 404\n",
            "8       4                                        Firefox\n",
            "6       4                    Hypertext Transfer Protocol\n",
            "3       4                                    HTTP cookie\n",
            "2       4                              Internet Explorer\n",
            "1       4                                 Alexa Internet\n",
            "27      5                                 Dakota Fanning\n",
            "26      5                                     Mila Kunis\n",
            "25      5                                  Russell Crowe\n",
            "24      5                                   Jessica Biel\n",
            "23      5                           Catherine Zeta-Jones\n",
            "22      5                              Denzel Washington\n",
            "21      5                             Michael Fassbender\n",
            "20      5                                 Angelina Jolie\n",
            "28      5                                  Anne Hathaway\n",
            "29      5                               Jennifer Aniston\n"
          ],
          "name": "stdout"
        }
      ]
    },
    {
      "cell_type": "markdown",
      "metadata": {
        "id": "W6E_yQouf3mz"
      },
      "source": [
        "## 4. Discovering interpretable features"
      ]
    },
    {
      "cell_type": "code",
      "metadata": {
        "id": "WVoU-6s5f1br"
      },
      "source": [
        "# Non-negative matrix factorization (NMF)"
      ],
      "execution_count": null,
      "outputs": []
    },
    {
      "cell_type": "markdown",
      "metadata": {
        "id": "jpr1ItXDf__p"
      },
      "source": [
        "**Non-negative data**\n",
        "\n",
        "Which of the following 2-dimensional arrays are examples of non-negative data?\n",
        "\n",
        "1. A tf-idf word-frequency array.\n",
        "2. An array daily stock market price movements (up and down), where each row represents a company.\n",
        "3. An array where rows are customers, columns are products and entries are 0 or 1, indicating whether a customer has purchased a product.\n",
        "\n",
        "**Possible Answers**\n",
        "\n",
        "- [ ] 1 only\n",
        "- [ ] 2 and 3\n",
        "- [x] 1 and 3\n"
      ]
    },
    {
      "cell_type": "code",
      "metadata": {
        "colab": {
          "base_uri": "https://localhost:8080/"
        },
        "id": "8FaRJ017gQKg",
        "outputId": "4b0a5b9f-efee-4e90-f863-7262d91cf936"
      },
      "source": [
        "# NMF applied to Wikipedia articles\n",
        "\n",
        "# Import NMF\n",
        "from sklearn.decomposition import NMF\n",
        "\n",
        "# Create an NMF instance: model\n",
        "model = NMF(n_components = 6)\n",
        "\n",
        "# Fit the model to articles\n",
        "model.fit(articles)\n",
        "\n",
        "# Transform the articles: nmf_features\n",
        "nmf_features = model.transform(articles)\n",
        "\n",
        "# Print the NMF features\n",
        "print(nmf_features.round(2))"
      ],
      "execution_count": 142,
      "outputs": [
        {
          "output_type": "stream",
          "text": [
            "[[0.   0.   0.   0.   0.   0.44]\n",
            " [0.   0.   0.   0.   0.   0.57]\n",
            " [0.   0.   0.   0.   0.   0.4 ]\n",
            " [0.   0.   0.   0.   0.   0.38]\n",
            " [0.   0.   0.   0.   0.   0.49]\n",
            " [0.01 0.01 0.01 0.03 0.   0.33]\n",
            " [0.   0.   0.02 0.   0.01 0.36]\n",
            " [0.   0.   0.   0.   0.   0.49]\n",
            " [0.02 0.01 0.   0.02 0.03 0.48]\n",
            " [0.01 0.03 0.03 0.07 0.02 0.34]\n",
            " [0.   0.   0.53 0.   0.03 0.  ]\n",
            " [0.   0.   0.36 0.   0.   0.  ]\n",
            " [0.01 0.01 0.31 0.06 0.01 0.02]\n",
            " [0.   0.01 0.34 0.01 0.   0.  ]\n",
            " [0.   0.   0.43 0.   0.04 0.  ]\n",
            " [0.   0.   0.48 0.   0.   0.  ]\n",
            " [0.01 0.02 0.38 0.03 0.   0.01]\n",
            " [0.   0.   0.48 0.   0.   0.  ]\n",
            " [0.   0.01 0.55 0.   0.   0.  ]\n",
            " [0.   0.   0.47 0.   0.   0.  ]\n",
            " [0.   0.01 0.02 0.52 0.06 0.01]\n",
            " [0.   0.   0.   0.51 0.   0.  ]\n",
            " [0.   0.01 0.   0.42 0.   0.  ]\n",
            " [0.   0.   0.   0.44 0.   0.  ]\n",
            " [0.   0.   0.   0.5  0.   0.  ]\n",
            " [0.1  0.09 0.   0.38 0.   0.01]\n",
            " [0.   0.   0.   0.57 0.   0.01]\n",
            " [0.01 0.01 0.   0.47 0.   0.01]\n",
            " [0.   0.   0.   0.58 0.   0.  ]\n",
            " [0.   0.   0.   0.53 0.01 0.01]\n",
            " [0.   0.41 0.   0.   0.   0.  ]\n",
            " [0.   0.61 0.   0.01 0.   0.  ]\n",
            " [0.01 0.27 0.   0.02 0.01 0.  ]\n",
            " [0.   0.64 0.   0.   0.   0.  ]\n",
            " [0.   0.61 0.   0.   0.   0.  ]\n",
            " [0.   0.34 0.   0.   0.   0.  ]\n",
            " [0.01 0.32 0.02 0.   0.01 0.  ]\n",
            " [0.01 0.21 0.01 0.05 0.02 0.01]\n",
            " [0.01 0.47 0.   0.02 0.   0.  ]\n",
            " [0.   0.64 0.   0.   0.   0.  ]\n",
            " [0.   0.   0.   0.   0.48 0.  ]\n",
            " [0.   0.   0.   0.   0.49 0.  ]\n",
            " [0.   0.   0.   0.   0.38 0.01]\n",
            " [0.   0.   0.   0.01 0.54 0.  ]\n",
            " [0.   0.   0.01 0.   0.42 0.  ]\n",
            " [0.   0.   0.   0.   0.51 0.  ]\n",
            " [0.   0.   0.   0.   0.37 0.  ]\n",
            " [0.   0.   0.04 0.   0.23 0.  ]\n",
            " [0.01 0.   0.02 0.01 0.33 0.04]\n",
            " [0.   0.   0.   0.   0.42 0.  ]\n",
            " [0.31 0.   0.   0.   0.   0.  ]\n",
            " [0.37 0.   0.   0.   0.   0.  ]\n",
            " [0.4  0.03 0.   0.02 0.   0.02]\n",
            " [0.38 0.   0.   0.04 0.   0.01]\n",
            " [0.44 0.   0.   0.   0.   0.  ]\n",
            " [0.46 0.   0.   0.   0.   0.  ]\n",
            " [0.28 0.   0.   0.05 0.   0.02]\n",
            " [0.45 0.   0.   0.   0.01 0.  ]\n",
            " [0.29 0.01 0.01 0.01 0.19 0.01]\n",
            " [0.38 0.01 0.   0.1  0.01 0.  ]]\n"
          ],
          "name": "stdout"
        }
      ]
    },
    {
      "cell_type": "code",
      "metadata": {
        "colab": {
          "base_uri": "https://localhost:8080/"
        },
        "id": "3ej1x9BGgZwn",
        "outputId": "1b0d4554-c799-4634-f971-377ad5013ad5"
      },
      "source": [
        "# NMF features of the Wikipedia articles\n",
        "\n",
        "# Import pandas\n",
        "import pandas as pd\n",
        "\n",
        "# Create a pandas DataFrame: df\n",
        "df = pd.DataFrame(nmf_features, index = titles)\n",
        "\n",
        "# Print the row for 'Anne Hathaway'\n",
        "print(df.loc['Anne Hathaway', :])\n",
        "\n",
        "# Print the row for 'Denzel Washington'\n",
        "print(df.loc['Denzel Washington', :])"
      ],
      "execution_count": 143,
      "outputs": [
        {
          "output_type": "stream",
          "text": [
            "0    0.003846\n",
            "1    0.000000\n",
            "2    0.000000\n",
            "3    0.575695\n",
            "4    0.000000\n",
            "5    0.000000\n",
            "Name: Anne Hathaway, dtype: float64\n",
            "0    0.000000\n",
            "1    0.005601\n",
            "2    0.000000\n",
            "3    0.422368\n",
            "4    0.000000\n",
            "5    0.000000\n",
            "Name: Denzel Washington, dtype: float64\n"
          ],
          "name": "stdout"
        }
      ]
    },
    {
      "cell_type": "markdown",
      "metadata": {
        "id": "Oiar42xdgnMt"
      },
      "source": [
        "**NMF reconstructs samples**\n",
        "\n",
        "In this exercise, you'll check your understanding of how NMF reconstructs samples from its components using the NMF feature values. On the right are the components of an NMF model. If the NMF feature values of a sample are [2, 1], then which of the following is most likely to represent the original sample? A pen and paper will help here! You have to apply the same technique Ben used in the video to reconstruct the sample [0.1203 0.1764 0.3195 0.141].\n",
        "\n",
        "**Possible Answers**\n",
        "\n",
        "- [x] [2.2, 1.1, 2.1].\n",
        "- [ ] [0.5, 1.6, 3.1].\n",
        "- [ ] [-4.0, 1.0, -2.0]."
      ]
    },
    {
      "cell_type": "code",
      "metadata": {
        "colab": {
          "base_uri": "https://localhost:8080/"
        },
        "id": "MmNeHC8UguT4",
        "outputId": "484b1e5c-d2bf-4b26-bcf4-3a987f83d17f"
      },
      "source": [
        "# NMF learns interpretable parts\n",
        "\n",
        "# NMF learns topics of documents\n",
        "\n",
        "filename = 'https://raw.githubusercontent.com/chesterheng/ai-for-industry/main/datasets/Wikipedia-articles/wikipedia-vocabulary-utf8.txt'\n",
        "df = pd.read_csv(filename, header = None)\n",
        "words = df.values\n",
        "\n",
        "# Import pandas\n",
        "import pandas as pd\n",
        "\n",
        "# Create a DataFrame: components_df\n",
        "components_df = pd.DataFrame(model.components_, columns = words)\n",
        "\n",
        "# Print the shape of the DataFrame\n",
        "print(components_df.shape)\n",
        "\n",
        "# Select row 3: component\n",
        "component = components_df.iloc[3, :]\n",
        "\n",
        "# Print result of nlargest\n",
        "print(component.nlargest())"
      ],
      "execution_count": 145,
      "outputs": [
        {
          "output_type": "stream",
          "text": [
            "(6, 13125)\n",
            "(film,)       0.627893\n",
            "(award,)      0.253138\n",
            "(starred,)    0.245291\n",
            "(role,)       0.211457\n",
            "(actress,)    0.186403\n",
            "Name: 3, dtype: float64\n"
          ],
          "name": "stdout"
        }
      ]
    },
    {
      "cell_type": "code",
      "metadata": {
        "colab": {
          "base_uri": "https://localhost:8080/",
          "height": 593
        },
        "id": "iDoKwotPhLrI",
        "outputId": "6b8f3e2f-4bce-4f1b-85ef-41d39ce45c3b"
      },
      "source": [
        "# Explore the LED digits dataset\n",
        "\n",
        "filename = 'https://raw.githubusercontent.com/chesterheng/ai-for-industry/main/datasets/lcd-digits.csv'\n",
        "df = pd.read_csv(filename)\n",
        "samples = df.values\n",
        "\n",
        "# Import pyplot\n",
        "from matplotlib import pyplot as plt\n",
        "\n",
        "# Select the 0th row: digit\n",
        "digit = samples[0,:]\n",
        "\n",
        "# Print digit\n",
        "print(digit)\n",
        "\n",
        "# Reshape digit to a 13x8 array: bitmap\n",
        "bitmap = digit.reshape((13, 8))\n",
        "\n",
        "# Print bitmap\n",
        "print(bitmap)\n",
        "\n",
        "# Use plt.imshow to display bitmap\n",
        "plt.imshow(bitmap, cmap='gray', interpolation='nearest')\n",
        "plt.colorbar()\n",
        "plt.show()"
      ],
      "execution_count": 151,
      "outputs": [
        {
          "output_type": "stream",
          "text": [
            "[0. 0. 0. 0. 0. 0. 0. 0. 0. 0. 1. 1. 1. 1. 0. 0. 0. 1. 0. 0. 0. 0. 1. 0.\n",
            " 0. 1. 0. 0. 0. 0. 1. 0. 0. 1. 0. 0. 0. 0. 1. 0. 0. 1. 0. 0. 0. 0. 1. 0.\n",
            " 0. 0. 1. 1. 1. 1. 0. 0. 0. 0. 0. 0. 0. 0. 0. 0. 0. 0. 0. 0. 0. 0. 0. 0.\n",
            " 0. 0. 0. 0. 0. 0. 0. 0. 0. 0. 0. 0. 0. 0. 0. 0. 0. 0. 0. 0. 0. 0. 0. 0.\n",
            " 0. 0. 0. 0. 0. 0. 0. 0.]\n",
            "[[0. 0. 0. 0. 0. 0. 0. 0.]\n",
            " [0. 0. 1. 1. 1. 1. 0. 0.]\n",
            " [0. 1. 0. 0. 0. 0. 1. 0.]\n",
            " [0. 1. 0. 0. 0. 0. 1. 0.]\n",
            " [0. 1. 0. 0. 0. 0. 1. 0.]\n",
            " [0. 1. 0. 0. 0. 0. 1. 0.]\n",
            " [0. 0. 1. 1. 1. 1. 0. 0.]\n",
            " [0. 0. 0. 0. 0. 0. 0. 0.]\n",
            " [0. 0. 0. 0. 0. 0. 0. 0.]\n",
            " [0. 0. 0. 0. 0. 0. 0. 0.]\n",
            " [0. 0. 0. 0. 0. 0. 0. 0.]\n",
            " [0. 0. 0. 0. 0. 0. 0. 0.]\n",
            " [0. 0. 0. 0. 0. 0. 0. 0.]]\n"
          ],
          "name": "stdout"
        },
        {
          "output_type": "display_data",
          "data": {
            "image/png": "[encoded data removed]",
            "text/plain": [
              "<Figure size 432x288 with 2 Axes>"
            ]
          },
          "metadata": {
            "tags": [],
            "needs_background": "light"
          }
        }
      ]
    },
    {
      "cell_type": "code",
      "metadata": {
        "colab": {
          "base_uri": "https://localhost:8080/",
          "height": 1000
        },
        "id": "Q9lUqxOmhiFf",
        "outputId": "bc4dd9a4-bdec-44f7-f703-99fa900cab07"
      },
      "source": [
        "# NMF learns the parts of images\n",
        "\n",
        "def show_as_image(sample):\n",
        "    bitmap = sample.reshape((13, 8))\n",
        "    plt.figure()\n",
        "    plt.imshow(bitmap, cmap='gray', interpolation='nearest')\n",
        "    plt.colorbar()\n",
        "    plt.show()\n",
        "\n",
        "# Import NMF\n",
        "from sklearn.decomposition import NMF\n",
        "\n",
        "# Create an NMF model: model\n",
        "model = NMF(n_components = 7)\n",
        "\n",
        "# Apply fit_transform to samples: features\n",
        "features = model.fit_transform(samples)\n",
        "\n",
        "# Call show_as_image on each component\n",
        "for component in model.components_:\n",
        "    show_as_image(component)\n",
        "\n",
        "# Assign the 0th row of features: digit_features\n",
        "digit_features = features[0, :]\n",
        "\n",
        "# Print digit_features\n",
        "print(digit_features)"
      ],
      "execution_count": 152,
      "outputs": [
        {
          "output_type": "display_data",
          "data": {
            "image/png": "[encoded data removed]",
            "text/plain": [
              "<Figure size 432x288 with 2 Axes>"
            ]
          },
          "metadata": {
            "tags": [],
            "needs_background": "light"
          }
        },
        {
          "output_type": "display_data",
          "data": {
            "image/png": "[encoded data removed]",
            "text/plain": [
              "<Figure size 432x288 with 2 Axes>"
            ]
          },
          "metadata": {
            "tags": [],
            "needs_background": "light"
          }
        },
        {
          "output_type": "display_data",
          "data": {
            "image/png": "[encoded data removed]",
            "text/plain": [
              "<Figure size 432x288 with 2 Axes>"
            ]
          },
          "metadata": {
            "tags": [],
            "needs_background": "light"
          }
        },
        {
          "output_type": "display_data",
          "data": {
            "image/png": "[encoded data removed]",
            "text/plain": [
              "<Figure size 432x288 with 2 Axes>"
            ]
          },
          "metadata": {
            "tags": [],
            "needs_background": "light"
          }
        },
        {
          "output_type": "display_data",
          "data": {
            "image/png": "[encoded data removed]",
            "text/plain": [
              "<Figure size 432x288 with 2 Axes>"
            ]
          },
          "metadata": {
            "tags": [],
            "needs_background": "light"
          }
        },
        {
          "output_type": "display_data",
          "data": {
            "image/png": "[encoded data removed]",
            "text/plain": [
              "<Figure size 432x288 with 2 Axes>"
            ]
          },
          "metadata": {
            "tags": [],
            "needs_background": "light"
          }
        },
        {
          "output_type": "display_data",
          "data": {
            "image/png": "[encoded data removed]",
            "text/plain": [
              "<Figure size 432x288 with 2 Axes>"
            ]
          },
          "metadata": {
            "tags": [],
            "needs_background": "light"
          }
        },
        {
          "output_type": "stream",
          "text": [
            "[0.56389272 0.         0.59151401 0.         0.53290007 0.48133215\n",
            " 0.        ]\n"
          ],
          "name": "stdout"
        }
      ]
    },
    {
      "cell_type": "code",
      "metadata": {
        "colab": {
          "base_uri": "https://localhost:8080/",
          "height": 1000
        },
        "id": "-FRbIMVjiPPx",
        "outputId": "ce030051-8ab3-42ec-e43e-d7c4b05b1dfb"
      },
      "source": [
        "# PCA doesn't learn parts\n",
        "\n",
        "# Import PCA\n",
        "from sklearn.decomposition import PCA\n",
        "\n",
        "# Create a PCA instance: model\n",
        "model = PCA(n_components = 7)\n",
        "\n",
        "# Apply fit_transform to samples: features\n",
        "features = model.fit_transform(samples)\n",
        "\n",
        "# Call show_as_image on each component\n",
        "for component in model.components_:\n",
        "    show_as_image(component)"
      ],
      "execution_count": 153,
      "outputs": [
        {
          "output_type": "display_data",
          "data": {
            "image/png": "[encoded data removed]",
            "text/plain": [
              "<Figure size 432x288 with 2 Axes>"
            ]
          },
          "metadata": {
            "tags": [],
            "needs_background": "light"
          }
        },
        {
          "output_type": "display_data",
          "data": {
            "image/png": "[encoded data removed]",
            "text/plain": [
              "<Figure size 432x288 with 2 Axes>"
            ]
          },
          "metadata": {
            "tags": [],
            "needs_background": "light"
          }
        },
        {
          "output_type": "display_data",
          "data": {
            "image/png": "[encoded data removed]",
            "text/plain": [
              "<Figure size 432x288 with 2 Axes>"
            ]
          },
          "metadata": {
            "tags": [],
            "needs_background": "light"
          }
        },
        {
          "output_type": "display_data",
          "data": {
            "image/png": "[encoded data removed]",
            "text/plain": [
              "<Figure size 432x288 with 2 Axes>"
            ]
          },
          "metadata": {
            "tags": [],
            "needs_background": "light"
          }
        },
        {
          "output_type": "display_data",
          "data": {
            "image/png": "[encoded data removed]",
            "text/plain": [
              "<Figure size 432x288 with 2 Axes>"
            ]
          },
          "metadata": {
            "tags": [],
            "needs_background": "light"
          }
        },
        {
          "output_type": "display_data",
          "data": {
            "image/png": "[encoded data removed]",
            "text/plain": [
              "<Figure size 432x288 with 2 Axes>"
            ]
          },
          "metadata": {
            "tags": [],
            "needs_background": "light"
          }
        },
        {
          "output_type": "display_data",
          "data": {
            "image/png": "[encoded data removed]",
            "text/plain": [
              "<Figure size 432x288 with 2 Axes>"
            ]
          },
          "metadata": {
            "tags": [],
            "needs_background": "light"
          }
        }
      ]
    },
    {
      "cell_type": "code",
      "metadata": {
        "colab": {
          "base_uri": "https://localhost:8080/"
        },
        "id": "irlKHAffiU64",
        "outputId": "34c6153e-b5a4-4f3f-eb06-efff67341d32"
      },
      "source": [
        "# Building recommender systems using NMF\n",
        "\n",
        "# Which articles are similar to 'Cristiano Ronaldo'?\n",
        "\n",
        "# Perform the necessary imports\n",
        "import pandas as pd\n",
        "from sklearn.preprocessing import normalize\n",
        "\n",
        "# Normalize the NMF features: norm_features\n",
        "norm_features = normalize(nmf_features)\n",
        "\n",
        "# Create a DataFrame: df\n",
        "df = pd.DataFrame(norm_features, index = titles)\n",
        "\n",
        "# Select the row corresponding to 'Cristiano Ronaldo': article\n",
        "article = df.loc['Cristiano Ronaldo', :]\n",
        "\n",
        "# Compute the dot products: similarities\n",
        "similarities = df.dot(article)\n",
        "\n",
        "# Display those with the largest cosine similarity\n",
        "print(similarities.nlargest())"
      ],
      "execution_count": 155,
      "outputs": [
        {
          "output_type": "stream",
          "text": [
            "Cristiano Ronaldo                1.000000\n",
            "Franck Ribéry                    0.999972\n",
            "Radamel Falcao                   0.999942\n",
            "Zlatan Ibrahimović               0.999942\n",
            "France national football team    0.999923\n",
            "dtype: float64\n"
          ],
          "name": "stdout"
        }
      ]
    },
    {
      "cell_type": "code",
      "metadata": {
        "id": "nDgAoOhvinQx"
      },
      "source": [
        "# Recommend musical artists part I\n",
        "\n",
        "filename1 = 'https://raw.githubusercontent.com/chesterheng/ai-for-industry/main/datasets/Musical-artists/scrobbler-small-sample.csv'\n",
        "df1 = pd.read_csv(filename1, header = 0)\n",
        "\n",
        "filename2 = 'https://raw.githubusercontent.com/chesterheng/ai-for-industry/main/datasets/Musical-artists/artists.csv'\n",
        "df2 = pd.read_csv(filename2, header = None)\n",
        "df2['id'] = df2.index\n",
        "df2.columns = ['name', 'id']\n",
        "\n",
        "df = pd.merge(df1, df2, how = 'left', left_on = 'artist_offset', right_on = 'id')\n",
        "\n",
        "pt = pd.pivot_table(data = df, index = 'name', columns = 'user_offset', values = 'playcount', aggfunc = 'sum')\n",
        "pt.replace(np.nan, 0, inplace = True)\n",
        "artists = pt.values\n",
        "artist_names = pt.index.values\n",
        "\n",
        "# Perform the necessary imports\n",
        "from sklearn.decomposition import NMF\n",
        "from sklearn.preprocessing import Normalizer, MaxAbsScaler\n",
        "from sklearn.pipeline import make_pipeline\n",
        "\n",
        "# Create a MaxAbsScaler: scaler\n",
        "scaler = MaxAbsScaler()\n",
        "\n",
        "# Create an NMF model: nmf\n",
        "nmf = NMF(n_components = 20)\n",
        "\n",
        "# Create a Normalizer: normalizer\n",
        "normalizer = Normalizer()\n",
        "\n",
        "# Create a pipeline: pipeline\n",
        "pipeline = make_pipeline(scaler, nmf, normalizer)\n",
        "\n",
        "# Apply fit_transform to artists: norm_features\n",
        "norm_features = pipeline.fit_transform(artists)"
      ],
      "execution_count": 157,
      "outputs": []
    },
    {
      "cell_type": "code",
      "metadata": {
        "colab": {
          "base_uri": "https://localhost:8080/"
        },
        "id": "ujKdDMSvltzQ",
        "outputId": "626c9790-c1b6-4e05-e661-3dc04c30def0"
      },
      "source": [
        "# Recommend musical artists part II\n",
        "\n",
        "# Import pandas\n",
        "import pandas as pd\n",
        "\n",
        "# Create a DataFrame: df\n",
        "df = pd.DataFrame(norm_features, index = artist_names)\n",
        "\n",
        "# Select row of 'Bruce Springsteen': artist\n",
        "artist = df.loc['Bruce Springsteen']\n",
        "\n",
        "# Compute cosine similarities: similarities\n",
        "similarities = df.dot(artist)\n",
        "\n",
        "# Display those with highest cosine similarity\n",
        "print(similarities.nlargest())"
      ],
      "execution_count": 158,
      "outputs": [
        {
          "output_type": "stream",
          "text": [
            "Bruce Springsteen    1.000000\n",
            "Neil Young           0.955682\n",
            "Van Morrison         0.872086\n",
            "Leonard Cohen        0.866867\n",
            "Bob Dylan            0.857848\n",
            "dtype: float64\n"
          ],
          "name": "stdout"
        }
      ]
    }
  ]
}