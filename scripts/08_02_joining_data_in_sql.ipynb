{
  "nbformat": 4,
  "nbformat_minor": 0,
  "metadata": {
    "colab": {
      "name": "08-02-joining-data-in-sql.ipynb",
      "provenance": []
    },
    "kernelspec": {
      "name": "python3",
      "display_name": "Python 3"
    }
  },
  "cells": [
    {
      "cell_type": "code",
      "metadata": {
        "id": "psAVGYcgBw1D"
      },
      "source": [
        "# Joining Data in SQL\n",
        "## 1. Introduction to joins\n",
        "## 2. Outer joins and cross joins\n",
        "## 3. Set theory clauses\n",
        "## 4. Subqueries"
      ],
      "execution_count": null,
      "outputs": []
    },
    {
      "cell_type": "markdown",
      "metadata": {
        "id": "0zzMBQsADgaw"
      },
      "source": [
        "## 1. Introduction to joins"
      ]
    },
    {
      "cell_type": "markdown",
      "metadata": {
        "id": "UfpcXZc_NE_-"
      },
      "source": [
        "**Introduction to INNER JOIN**\n",
        "\n",
        "**Inner join**\n",
        "\n",
        "```\n",
        "-- Select all columns from cities\n",
        "SELECT * FROM cities\n",
        "\n",
        "SELECT * \n",
        "FROM cities\n",
        "  -- 1. Inner join to countries\n",
        "  INNER JOIN countries\n",
        "    -- 2. Match on the country codes\n",
        "    ON cities.country_code = countries.code\n",
        "\n",
        "-- 1. Select name fields (with alias) and region \n",
        "SELECT cities.name AS city,\n",
        "countries.name AS country,\n",
        "countries.region\n",
        "FROM cities\n",
        "  INNER JOIN countries\n",
        "    ON cities.country_code = countries.code;\n",
        "```"
      ]
    },
    {
      "cell_type": "markdown",
      "metadata": {
        "id": "eHE30dkuNUBQ"
      },
      "source": [
        "**Inner join (2)**\n",
        "\n",
        "```\n",
        "-- 3. Select fields with aliases\n",
        "SELECT c.code AS country_code, c.name, e.year, inflation_rate\n",
        "FROM countries AS c\n",
        "  -- 1. Join to economies (alias e)\n",
        "  INNER JOIN economies AS e\n",
        "    -- 2. Match on code\n",
        "    ON c.code = e.code;\n",
        "```"
      ]
    },
    {
      "cell_type": "markdown",
      "metadata": {
        "id": "CCEI757MNbDJ"
      },
      "source": [
        "**Inner join (3)**\n",
        "\n",
        "```\n",
        "-- 4. Select fields\n",
        "SELECT c.code, c.name, c.region, p.year, p.fertility_rate\n",
        "  -- 1. From countries (alias as c)\n",
        "  FROM countries AS c\n",
        "  -- 2. Join with populations (as p)\n",
        "  INNER JOIN populations AS p\n",
        "    -- 3. Match on country code\n",
        "    ON c.code = p.country_code\n",
        "\n",
        "-- 6. Select fields\n",
        "SELECT c.code, name, region, e.year, fertility_rate, e.unemployment_rate\n",
        "  -- 1. From countries (alias as c)\n",
        "  FROM countries AS c\n",
        "  -- 2. Join to populations (as p)\n",
        "  INNER JOIN populations AS p\n",
        "    -- 3. Match on country code\n",
        "    ON c.code = p.country_code\n",
        "  -- 4. Join to economies (as e)\n",
        "  INNER JOIN economies AS e\n",
        "    -- 5. Match on country code\n",
        "    ON c.code = e.code;\n",
        "\n",
        "-- 6. Select fields\n",
        "SELECT c.code, name, region, e.year, fertility_rate, unemployment_rate\n",
        "  -- 1. From countries (alias as c)\n",
        "  FROM countries AS c\n",
        "  -- 2. Join to populations (as p)\n",
        "  INNER JOIN populations AS p\n",
        "    -- 3. Match on country code\n",
        "    ON c.code = p.country_code\n",
        "  -- 4. Join to economies (as e)\n",
        "  INNER JOIN economies AS e\n",
        "    -- 5. Match on country code and year\n",
        "    ON c.code = e.code AND p.year = e.year;\n",
        "```"
      ]
    },
    {
      "cell_type": "markdown",
      "metadata": {
        "id": "TRyJ1kYLNnrX"
      },
      "source": [
        "**Review inner join using on**\n",
        "\n",
        "Why does the following code result in an error?\n",
        "\n",
        "```\n",
        "SELECT c.name AS country, l.name AS language\n",
        "FROM countries AS c\n",
        "  INNER JOIN languages AS l;\n",
        "```\n",
        "\n",
        "**Possible Answers**\n",
        "\n",
        "- [ ] The languages table has more rows than the countries table.\n",
        "- [ ] There are multiple languages spoken in many countries.\n",
        "- [x] INNER JOIN requires a specification of the key field (or fields) in each table.\n",
        "- [ ] Join queries may not be followed by a semi-colon."
      ]
    },
    {
      "cell_type": "markdown",
      "metadata": {
        "id": "frFOZfjKNj1z"
      },
      "source": [
        "**Inner join with using**\n",
        "\n",
        "```\n",
        "-- 4. Select fields\n",
        "SELECT c.name AS country, c.continent, l.name AS language, l.official\n",
        "  -- 1. From countries (alias as c)\n",
        "  FROM countries AS c\n",
        "  -- 2. Join to languages (as l)\n",
        "  INNER JOIN languages AS l\n",
        "    -- 3. Match using code\n",
        "    USING(code);\n",
        "```"
      ]
    },
    {
      "cell_type": "markdown",
      "metadata": {
        "id": "T0n_Iyx-N_9Y"
      },
      "source": [
        "**Self-ish joins, just in CASE**\n",
        "\n",
        "**Self-join**\n",
        "\n",
        "```\n",
        "-- 4. Select fields with aliases\n",
        "SELECT p1.country_code, \n",
        "       p1.size AS size2010,\n",
        "       p2.size AS size2015\n",
        "-- 1. From populations (alias as p1)\n",
        "FROM populations AS p1\n",
        "  -- 2. Join to itself (alias as p2)\n",
        "  INNER JOIN populations AS p2\n",
        "    -- 3. Match on country code\n",
        "    ON  p1.country_code = p2.country_code;\n",
        "\n",
        "-- 5. Select fields with aliases\n",
        "SELECT p1.country_code, \n",
        "       p1.size AS size2010,\n",
        "       p2.size AS size2015\n",
        "-- 1. From populations (alias as p1)\n",
        "FROM populations AS p1\n",
        "  -- 2. Join to itself (alias as p2)\n",
        "  INNER JOIN populations AS p2\n",
        "    -- 3. Match on country code\n",
        "    ON p1.country_code = p2.country_code\n",
        "        -- 4. and year (with calculation)\n",
        "        AND p1.year = p2.year - 5;\n",
        "\n",
        "SELECT p1.country_code,\n",
        "       p1.size AS size2010, \n",
        "       p2.size AS size2015,\n",
        "       -- 1. calculate growth_perc\n",
        "       ((p2.size - p1.size)/p1.size * 100.0) AS growth_perc\n",
        "-- 2. From populations (alias as p1)\n",
        "FROM populations AS p1\n",
        "  -- 3. Join to itself (alias as p2)\n",
        "  INNER JOIN populations AS p2\n",
        "    -- 4. Match on country code\n",
        "    ON p1.country_code = p2.country_code\n",
        "        -- 5. and year (with calculation)\n",
        "        AND p1.year = p2.year - 5;\n",
        "```"
      ]
    },
    {
      "cell_type": "markdown",
      "metadata": {
        "id": "k5XBQbbfOPH0"
      },
      "source": [
        "**Case when and then**\n",
        "\n",
        "```\n",
        "SELECT name, continent, code, surface_area,\n",
        "    -- 1. First case\n",
        "    CASE WHEN surface_area > 2000000 THEN 'large'\n",
        "        -- 2. Second case\n",
        "        WHEN surface_area > 350000 THEN 'medium'\n",
        "        -- 3. Else clause + end\n",
        "        ELSE 'small' END\n",
        "        -- 4. Alias name\n",
        "        AS geosize_group\n",
        "-- 5. From table\n",
        "FROM countries;\n",
        "```"
      ]
    },
    {
      "cell_type": "markdown",
      "metadata": {
        "id": "n1JlRMI0OR1A"
      },
      "source": [
        "**Inner challenge**\n",
        "\n",
        "```\n",
        "SELECT country_code, size,\n",
        "    -- 1. First case\n",
        "    CASE WHEN size > 50000000 THEN 'large'\n",
        "        -- 2. Second case\n",
        "        WHEN size > 1000000 THEN 'medium'\n",
        "        -- 3. Else clause + end\n",
        "        ELSE 'small' END\n",
        "        -- 4. Alias name (popsize_group)\n",
        "        AS popsize_group\n",
        "-- 5. From table\n",
        "FROM populations\n",
        "-- 6. Focus on 2015\n",
        "WHERE year = 2015;\n",
        "\n",
        "SELECT country_code, size,\n",
        "    CASE WHEN size > 50000000 THEN 'large'\n",
        "        WHEN size > 1000000 THEN 'medium'\n",
        "        ELSE 'small' END\n",
        "        AS popsize_group\n",
        "-- 1. Into table\n",
        "INTO pop_plus\n",
        "FROM populations\n",
        "WHERE year = 2015;\n",
        "\n",
        "-- 2. Select all columns of pop_plus\n",
        "SELECT * FROM pop_plus;\n",
        "\n",
        "SELECT country_code, size,\n",
        "  CASE WHEN size > 50000000\n",
        "            THEN 'large'\n",
        "       WHEN size > 1000000\n",
        "            THEN 'medium'\n",
        "       ELSE 'small' END\n",
        "       AS popsize_group\n",
        "INTO pop_plus       \n",
        "FROM populations\n",
        "WHERE year = 2015;\n",
        "\n",
        "-- 5. Select fields\n",
        "SELECT c.name, c.continent, c.geosize_group, p.popsize_group\n",
        "-- 1. From countries_plus (alias as c)\n",
        "FROM countries_plus as c\n",
        "  -- 2. Join to pop_plus (alias as p)\n",
        "  INNER JOIN pop_plus as p\n",
        "    -- 3. Match on country code\n",
        "    ON c.code = p.country_code\n",
        "-- 4. Order the table    \n",
        "ORDER BY c.geosize_group;\n",
        "```"
      ]
    },
    {
      "cell_type": "markdown",
      "metadata": {
        "id": "JEQVBmLBOhOe"
      },
      "source": [
        "## 2. Outer joins and cross joins"
      ]
    },
    {
      "cell_type": "markdown",
      "metadata": {
        "id": "6QfFmm9XOh5B"
      },
      "source": [
        "**LEFT and RIGHT JOINs**\n",
        "\n",
        "**Left Join**\n",
        "\n",
        "```\n",
        "-- Select the city name (with alias), the country code,\n",
        "-- the country name (with alias), the region,\n",
        "-- and the city proper population\n",
        "SELECT c1.name AS city, code, c2.name AS country,\n",
        "       region, city_proper_pop\n",
        "-- From left table (with alias)\n",
        "FROM cities AS c1\n",
        "  -- Join to right table (with alias)\n",
        "  INNER JOIN countries AS c2\n",
        "    -- Match on country code?\n",
        "    ON c1.country_code = c2.code\n",
        "-- Order based on descending country code\n",
        "ORDER BY code DESC;\n",
        "\n",
        "SELECT c1.name AS city, code, c2.name AS country,\n",
        "       region, city_proper_pop\n",
        "FROM cities AS c1\n",
        "  -- 1. Join right table (with alias)\n",
        "  LEFT JOIN countries AS c2\n",
        "    -- 2. Match on country code\n",
        "    ON c1.country_code = c2.code\n",
        "-- 3. Order by descending country code\n",
        "ORDER BY code DESC;\n",
        "```"
      ]
    },
    {
      "cell_type": "markdown",
      "metadata": {
        "id": "2CBlvh-3O3KE"
      },
      "source": [
        "**Left join (2)**\n",
        "\n",
        "```\n",
        "/*\n",
        "5. select country name AS country, the country's local name,\n",
        "the language name AS language, and\n",
        "the percent of the language spoken in the country\n",
        "*/\n",
        "SELECT c.name AS country, local_name, l.name AS language, percent\n",
        "-- 1. From left table (alias as c)\n",
        "FROM countries AS c\n",
        "  -- 2. Join to right table (alias as l)\n",
        "  INNER JOIN languages AS l\n",
        "    -- 3. Match on fields\n",
        "    ON c.code = l.code\n",
        "-- 4. Order by descending country\n",
        "ORDER BY country DESC;\n",
        "\n",
        "/*\n",
        "5. Select country name AS country, the country's local name,\n",
        "the language name AS language, and\n",
        "the percent of the language spoken in the country\n",
        "*/\n",
        "SELECT c.name AS country, local_name, l.name AS language, percent\n",
        "-- 1. From left table (alias as c)\n",
        "FROM countries AS c\n",
        "  -- 2. Join to right table (alias as l)\n",
        "  LEFT JOIN languages AS l\n",
        "    -- 3. Match on fields\n",
        "    ON c.code = l.code\n",
        "-- 4. Order by descending country\n",
        "ORDER BY country DESC;\n",
        "```"
      ]
    },
    {
      "cell_type": "markdown",
      "metadata": {
        "id": "p9qvbwQpPXXA"
      },
      "source": [
        "**Left join (3)**\n",
        "\n",
        "```\n",
        "-- 5. Select name, region, and gdp_percapita\n",
        "SELECT name, region, gdp_percapita\n",
        "-- 1. From countries (alias as c)\n",
        "FROM countries AS c\n",
        "  -- 2. Left join with economies (alias as e)\n",
        "  LEFT JOIN economies AS e\n",
        "    -- 3. Match on code fields\n",
        "    ON c.code = e.code\n",
        "-- 4. Focus on 2010\n",
        "WHERE year = 2010;\n",
        "\n",
        "-- Select fields\n",
        "SELECT region, AVG(gdp_percapita) AS avg_gdp\n",
        "-- From countries (alias as c)\n",
        "FROM countries AS c\n",
        "  -- Left join with economies (alias as e)\n",
        "  LEFT JOIN economies AS e\n",
        "    -- Match on code fields\n",
        "    ON c.code = e.code\n",
        "-- Focus on 2010\n",
        "WHERE year = 2010\n",
        "-- Group by region\n",
        "GROUP BY region;\n",
        "\n",
        "-- Select fields\n",
        "SELECT region, AVG(gdp_percapita) AS avg_gdp\n",
        "-- From countries (alias as c)\n",
        "FROM countries AS c\n",
        "  -- Left join with economies (alias as e)\n",
        "  LEFT JOIN economies AS e\n",
        "    -- Match on code fields\n",
        "    ON c.code = e.code\n",
        "-- Focus on 2010\n",
        "WHERE year = 2010\n",
        "-- Group by region\n",
        "GROUP BY region\n",
        "-- Order by descending avg_gdp\n",
        "ORDER BY avg_gdp DESC;\n",
        "```"
      ]
    },
    {
      "cell_type": "markdown",
      "metadata": {
        "id": "pGX-JyYvPfNJ"
      },
      "source": [
        "**Right join**\n",
        "\n",
        "```\n",
        "-- convert this code to use RIGHT JOINs instead of LEFT JOINs\n",
        "/*\n",
        "SELECT cities.name AS city, urbanarea_pop, countries.name AS country,\n",
        "       indep_year, languages.name AS language, percent\n",
        "FROM cities\n",
        "  LEFT JOIN countries\n",
        "    ON cities.country_code = countries.code\n",
        "  LEFT JOIN languages\n",
        "    ON countries.code = languages.code\n",
        "ORDER BY city, language;\n",
        "*/\n",
        "\n",
        "SELECT cities.name AS city, urbanarea_pop, countries.name AS country,\n",
        "       indep_year, languages.name AS language, percent\n",
        "FROM languages\n",
        "  RIGHT JOIN countries\n",
        "    ON languages.code = countries.code\n",
        "  RIGHT JOIN cities\n",
        "    ON countries.code = cities.country_code\n",
        "ORDER BY city, language;\n",
        "```"
      ]
    },
    {
      "cell_type": "markdown",
      "metadata": {
        "id": "Wm5x-3xuPmR_"
      },
      "source": [
        "**FULL JOINs**\n",
        "\n",
        "```\n",
        "SELECT name AS country, code, region, basic_unit\n",
        "-- 3. From countries\n",
        "FROM countries\n",
        "  -- 4. Join to currencies\n",
        "  FULL JOIN currencies\n",
        "    -- 5. Match on code\n",
        "    USING (code)\n",
        "-- 1. Where region is North America or null\n",
        "WHERE region = 'North America' OR region IS NULL\n",
        "-- 2. Order by region\n",
        "ORDER BY region;\n",
        "\n",
        "SELECT name AS country, code, region, basic_unit\n",
        "-- 1. From countries\n",
        "FROM countries\n",
        "  -- 2. Join to currencies\n",
        "  LEFT JOIN currencies\n",
        "    -- 3. Match on code\n",
        "    USING (code)\n",
        "-- 3. Where region is North America or null\n",
        "WHERE region = 'North America' OR region IS NULL\n",
        "-- 4. Order by region\n",
        "ORDER BY region;\n",
        "\n",
        "SELECT name AS country, code, region, basic_unit\n",
        "FROM countries\n",
        "  -- 1. Join to currencies\n",
        "  INNER JOIN currencies\n",
        "    USING (code)\n",
        "-- 2. Where region is North America or null\n",
        "WHERE region = 'North America' OR region IS NULL\n",
        "-- 3. Order by region\n",
        "ORDER BY region;\n",
        "```"
      ]
    },
    {
      "cell_type": "markdown",
      "metadata": {
        "id": "i1f765DlPx-K"
      },
      "source": [
        "**Full join (2)**\n",
        "\n",
        "```\n",
        "SELECT countries.name, code, languages.name AS language\n",
        "-- 3. From languages\n",
        "FROM languages\n",
        "  -- 4. Join to countries\n",
        "  FULL JOIN countries\n",
        "    -- 5. Match on code\n",
        "    USING (code)\n",
        "-- 1. Where countries.name starts with V or is null\n",
        "WHERE countries.name LIKE 'V%' OR countries.name IS NULL\n",
        "-- 2. Order by ascending countries.name\n",
        "ORDER BY countries.name;\n",
        "\n",
        "SELECT countries.name, code, languages.name AS language\n",
        "FROM languages\n",
        "  -- 1. Join to countries\n",
        "  LEFT JOIN countries\n",
        "    -- 2. Match using code\n",
        "    USING (code)\n",
        "-- 3. Where countries.name starts with V or is null\n",
        "WHERE countries.name LIKE 'V%' OR countries.name IS NULL\n",
        "ORDER BY countries.name;\n",
        "\n",
        "SELECT countries.name, code, languages.name AS language\n",
        "FROM languages\n",
        "  -- 1. Join to countries\n",
        "  INNER JOIN countries\n",
        "    USING (code)\n",
        "-- 2. Where countries.name starts with V or is null\n",
        "WHERE countries.name LIKE 'V%' OR countries.name IS NULL\n",
        "ORDER BY countries.name;\n",
        "```"
      ]
    },
    {
      "cell_type": "markdown",
      "metadata": {
        "id": "v9dJOpxcP_Ni"
      },
      "source": [
        "**Full join (3)**\n",
        "\n",
        "```\n",
        "-- 7. Select fields (with aliases)\n",
        "SELECT c1.name AS country, region, l.name AS language,\n",
        "       basic_unit, frac_unit\n",
        "-- 1. From countries (alias as c1)\n",
        "FROM countries AS c1\n",
        "  -- 2. Join with languages (alias as l)\n",
        "  FULL JOIN languages AS l\n",
        "    -- 3. Match on code\n",
        "    USING (code)\n",
        "  -- 4. Join with currencies (alias as c2)\n",
        "  FULL JOIN currencies AS c2\n",
        "    -- 5. Match on code\n",
        "    USING (code)\n",
        "-- 6. Where region like Melanesia and Micronesia\n",
        "WHERE region LIKE 'M%esia';\n",
        "```"
      ]
    },
    {
      "cell_type": "markdown",
      "metadata": {
        "id": "xfuUoHizQESR"
      },
      "source": [
        "**Review outer joins**\n",
        "\n",
        "A(n) ___ join is a join combining the results of a ___ join and a ___ join.\n",
        "\n",
        "**Possible Answers**\n",
        "\n",
        "- [ ] left, full, right\n",
        "- [ ] right, full, left\n",
        "- [ ] inner, left, right\n",
        "- [x] None of the above are true"
      ]
    },
    {
      "cell_type": "markdown",
      "metadata": {
        "id": "FgIGl0EUQQUO"
      },
      "source": [
        "**CROSSing the rubicon**\n",
        "\n",
        "**A table of two cities**\n",
        "\n",
        "```\n",
        "-- 4. Select fields\n",
        "SELECT c.name AS city, l.name AS language\n",
        "-- 1. From cities (alias as c)\n",
        "FROM cities AS c        \n",
        "  -- 2. Join to languages (alias as l)\n",
        "  CROSS JOIN languages AS l\n",
        "-- 3. Where c.name like Hyderabad\n",
        "WHERE c.name LIKE 'Hyder%';\n",
        "\n",
        "-- 5. Select fields\n",
        "SELECT c.name AS city, l.name AS language\n",
        "-- 1. From cities (alias as c)\n",
        "FROM cities AS c        \n",
        "  -- 2. Join to languages (alias as l)\n",
        "  INNER JOIN languages AS l\n",
        "    -- 3. Match on country code\n",
        "    ON c.country_code = l.code\n",
        "-- 4. Where c.name like Hyderabad\n",
        "WHERE c.name LIKE 'Hyder%';\n",
        "```"
      ]
    },
    {
      "cell_type": "markdown",
      "metadata": {
        "id": "RnKwcoajQvQL"
      },
      "source": [
        "**Outer challenge**\n",
        "\n",
        "```\n",
        "-- Select fields\n",
        "SELECT c.name AS country,\n",
        "       region,\n",
        "       life_expectancy AS life_exp\n",
        "-- From countries (alias as c)\n",
        "FROM countries AS c\n",
        "  -- Join to populations (alias as p)\n",
        "  LEFT JOIN populations AS p\n",
        "    -- Match on country code\n",
        "    ON c.code = p.country_code\n",
        "-- Focus on 2010\n",
        "WHERE year = 2010\n",
        "-- Order by life_exp\n",
        "ORDER BY life_exp\n",
        "-- Limit to 5 records\n",
        "LIMIT 5;\n",
        "```"
      ]
    },
    {
      "cell_type": "markdown",
      "metadata": {
        "id": "vGw_oDrOQ3ik"
      },
      "source": [
        "## 3. Set theory clauses"
      ]
    },
    {
      "cell_type": "markdown",
      "metadata": {
        "id": "KugabRWnQ58T"
      },
      "source": [
        "**State of the UNION**\n",
        "\n",
        "**Union**\n",
        "\n",
        "```\n",
        "-- Select fields from 2010 table\n",
        "SELECT *\n",
        "  -- From 2010 table\n",
        "  FROM economies2010\n",
        "    -- Set theory clause\n",
        "    UNION\n",
        "-- Select fields from 2015 table\n",
        "SELECT *\n",
        "  -- From 2015 table\n",
        "  FROM economies2015\n",
        "-- Order by code and year\n",
        "ORDER BY code, year;\n",
        "```"
      ]
    },
    {
      "cell_type": "markdown",
      "metadata": {
        "id": "0ZLto83wRBQ1"
      },
      "source": [
        "**Union (2)**\n",
        "\n",
        "```\n",
        "-- Select field\n",
        "SELECT country_code\n",
        "  -- From cities\n",
        "  FROM cities\n",
        "\t-- Set theory clause\n",
        "\tUNION\n",
        "-- Select field\n",
        "SELECT code\n",
        "  -- From currencies\n",
        "  FROM currencies\n",
        "-- Order by country_code\n",
        "ORDER BY country_code;\n",
        "```"
      ]
    },
    {
      "cell_type": "markdown",
      "metadata": {
        "id": "WsduZZwBRFFx"
      },
      "source": [
        "**Union all**\n",
        "\n",
        "```\n",
        "-- Select fields\n",
        "SELECT code, year\n",
        "  -- From economies\n",
        "  FROM economies\n",
        "\t-- Set theory clause\n",
        "\tUNION ALL\n",
        "-- Select fields\n",
        "SELECT country_code, year\n",
        "  -- From populations\n",
        "  FROM populations\n",
        "-- Order by code, year\n",
        "ORDER BY code, year;\n",
        "```"
      ]
    },
    {
      "cell_type": "markdown",
      "metadata": {
        "id": "hxupkr0gRMC9"
      },
      "source": [
        "**INTERSECTional data science**\n",
        "\n",
        "```\n",
        "-- Select fields\n",
        "SELECT code, year\n",
        "  -- From economies\n",
        "  FROM economies\n",
        "\t-- Set theory clause\n",
        "\tINTERSECT\n",
        "-- Select fields\n",
        "SELECT country_code, year\n",
        "  -- From populations\n",
        "  FROM populations\n",
        "-- Order by code and year\n",
        "ORDER BY code, year;\n",
        "```"
      ]
    },
    {
      "cell_type": "markdown",
      "metadata": {
        "id": "t_zm5AM2RSmK"
      },
      "source": [
        "**Intersect (2)**\n",
        "\n",
        "```\n",
        "-- Select fields\n",
        "SELECT name\n",
        "  -- From countries\n",
        "  FROM countries\n",
        "\t-- Set theory clause\n",
        "\tINTERSECT\n",
        "-- Select fields\n",
        "SELECT name\n",
        "  -- From cities\n",
        "  FROM cities;\n",
        "```"
      ]
    },
    {
      "cell_type": "markdown",
      "metadata": {
        "id": "PCt4AOd6RYVz"
      },
      "source": [
        "**Review union and intersect**\n",
        "\n",
        "Which of the following combinations of terms and definitions is correct?\n",
        "\n",
        "**Possible Answers**\n",
        "\n",
        "- [ ] UNION: returns all records (potentially duplicates) in both tables\n",
        "- [ ] UNION ALL: returns only unique records\n",
        "- [x] INTERSECT: returns only records appearing in both tables\n",
        "- [ ] None of the above are matched correctly\n"
      ]
    },
    {
      "cell_type": "markdown",
      "metadata": {
        "id": "VABl8K7mRlNU"
      },
      "source": [
        "**EXCEPTional**\n",
        "\n",
        "```\n",
        "-- Select field\n",
        "SELECT name\n",
        "  -- From cities\n",
        "  FROM cities\n",
        "\t-- Set theory clause\n",
        "\tEXCEPT\n",
        "-- Select field\n",
        "SELECT capital\n",
        "  -- From countries\n",
        "  FROM countries\n",
        "-- Order by result\n",
        "ORDER BY name;\n",
        "```"
      ]
    },
    {
      "cell_type": "markdown",
      "metadata": {
        "id": "ZSmL3IZpRr7u"
      },
      "source": [
        "**Except (2)**\n",
        "\n",
        "```\n",
        "-- Select field\n",
        "SELECT capital\n",
        "  -- From countries\n",
        "  FROM countries\n",
        "\t-- Set theory clause\n",
        "\tEXCEPT\n",
        "-- Select field\n",
        "SELECT name\n",
        "  -- From cities\n",
        "  FROM cities\n",
        "-- Order by ascending capital\n",
        "ORDER BY capital;\n",
        "```"
      ]
    },
    {
      "cell_type": "markdown",
      "metadata": {
        "id": "D7kMoXw0RzXF"
      },
      "source": [
        "**Semi-joins and Anti-joins**\n",
        "\n",
        "**Semi-join**\n",
        "\n",
        "```\n",
        "-- Select code\n",
        "SELECT code\n",
        "  -- From countries\n",
        "  FROM countries\n",
        "-- Where region is Middle East\n",
        "WHERE region = 'Middle East';\n",
        "\n",
        "/*\n",
        "SELECT code\n",
        "  FROM countries\n",
        "WHERE region = 'Middle East';\n",
        "*/\n",
        "\n",
        "-- Select field\n",
        "SELECT DISTINCT name\n",
        "  -- From languages\n",
        "  FROM languages\n",
        "-- Order by name\n",
        "ORDER BY name;\n",
        "\n",
        "-- Select distinct fields\n",
        "SELECT DISTINCT name\n",
        "  -- From languages\n",
        "  FROM languages\n",
        "-- Where in statement\n",
        "WHERE code IN\n",
        "  -- Subquery\n",
        "  (SELECT code\n",
        "   FROM countries\n",
        "   WHERE region = 'Middle East')\n",
        "-- Order by name\n",
        "ORDER BY name;\n",
        "```"
      ]
    },
    {
      "cell_type": "markdown",
      "metadata": {
        "id": "3gYASSeWSBHx"
      },
      "source": [
        "**Relating semi-join to a tweaked inner join**\n",
        "\n",
        "Let's revisit the code from the previous exercise, which retrieves languages spoken in the Middle East.\n",
        "\n",
        "```\n",
        "SELECT DISTINCT name\n",
        "FROM languages\n",
        "WHERE code IN\n",
        "  (SELECT code\n",
        "   FROM countries\n",
        "   WHERE region = 'Middle East')\n",
        "ORDER BY name;\n",
        "```\n",
        "\n",
        "Sometimes problems solved with semi-joins can also be solved using an inner join.\n",
        "\n",
        "```\n",
        "SELECT languages.name AS language\n",
        "FROM languages\n",
        "INNER JOIN countries\n",
        "ON languages.code = countries.code\n",
        "WHERE region = 'Middle East'\n",
        "ORDER BY language;\n",
        "```\n",
        "\n",
        "This inner join isn't quite right. \n",
        "\n",
        "What is missing from this second code block to get it to match with the correct answer produced by the first block?\n",
        "\n",
        "**Possible Answers**\n",
        "\n",
        "- [ ] HAVING instead of WHERE\n",
        "- [x] DISTINCT\n",
        "- [ ] UNIQUE"
      ]
    },
    {
      "cell_type": "markdown",
      "metadata": {
        "id": "gJdInzXwSRKH"
      },
      "source": [
        "**Diagnosing problems using anti-join**\n",
        "\n",
        "```\n",
        "-- Select statement\n",
        "SELECT COUNT(*)\n",
        "  -- From countries\n",
        "  FROM countries\n",
        "-- Where continent is Oceania\n",
        "WHERE continent = 'Oceania';\n",
        "\n",
        "-- 5. Select fields (with aliases)\n",
        "SELECT c1.code, name, basic_unit AS currency\n",
        "  -- 1. From countries (alias as c1)\n",
        "  FROM countries AS c1\n",
        "  \t-- 2. Join with currencies (alias as c2)\n",
        "  \tINNER JOIN currencies AS c2\n",
        "    -- 3. Match on code\n",
        "    ON c1.code = c2.code\n",
        "-- 4. Where continent is Oceania\n",
        "WHERE c1.continent = 'Oceania';\n",
        "\n",
        "-- 3. Select fields\n",
        "SELECT code, name\n",
        "  -- 4. From Countries\n",
        "  FROM countries\n",
        "  -- 5. Where continent is Oceania\n",
        "  WHERE continent = 'Oceania'\n",
        "  \t-- 1. And code not in\n",
        "  \tAND code NOT IN\n",
        "  \t-- 2. Subquery\n",
        "  \t(SELECT code\n",
        "  \t FROM currencies);\n",
        "```"
      ]
    },
    {
      "cell_type": "markdown",
      "metadata": {
        "id": "hxtM2FRuSbLe"
      },
      "source": [
        "**Set theory challenge**\n",
        "\n",
        "```\n",
        "-- Select the city name\n",
        "SELECT name\n",
        "  -- Alias the table where city name resides\n",
        "  FROM cities AS c1\n",
        "  -- Choose only records matching the result of multiple set theory clauses\n",
        "  WHERE country_code IN\n",
        "(\n",
        "    -- Select appropriate field from economies AS e\n",
        "    SELECT e.code\n",
        "    FROM economies AS e\n",
        "    -- Get all additional (unique) values of the field from currencies AS c2   \n",
        "    UNION\n",
        "    SELECT c2.code\n",
        "    FROM currencies AS c2\n",
        "    -- Exclude those appearing in populations AS p  \n",
        "    EXCEPT\n",
        "    SELECT p.country_code\n",
        "    FROM populations AS p\n",
        ");\n",
        "```"
      ]
    },
    {
      "cell_type": "markdown",
      "metadata": {
        "id": "1apahzPWSk6B"
      },
      "source": [
        "## 4. Subqueries"
      ]
    },
    {
      "cell_type": "markdown",
      "metadata": {
        "id": "qdyzbwGkSl0g"
      },
      "source": [
        "**Subqueries inside WHERE and SELECT clauses**\n",
        "\n",
        "**Subquery inside where**\n",
        "\n",
        "```\n",
        "-- Select average life_expectancy\n",
        "SELECT AVG(life_expectancy)\n",
        "  -- From populations\n",
        "  FROM populations\n",
        "-- Where year is 2015\n",
        "WHERE year = 2015;\n",
        "\n",
        "-- Select fields\n",
        "SELECT *\n",
        "  -- From populations\n",
        "  FROM populations\n",
        "-- Where life_expectancy is greater than\n",
        "WHERE life_expectancy >\n",
        "  -- 1.15 * subquery\n",
        "  1.15 * (SELECT AVG(life_expectancy)\n",
        "   FROM populations\n",
        "   WHERE year = 2015) AND\n",
        "  year = 2015;\n",
        "```"
      ]
    },
    {
      "cell_type": "markdown",
      "metadata": {
        "id": "nLWiXVdSSxtR"
      },
      "source": [
        "**Subquery inside where (2)**\n",
        "\n",
        "```\n",
        "-- 2. Select fields\n",
        "SELECT name, country_code, urbanarea_pop\n",
        "  -- 3. From cities\n",
        "  FROM cities\n",
        "-- 4. Where city name in the field of capital cities\n",
        "WHERE name IN\n",
        "  -- 1. Subquery\n",
        "  (SELECT capital\n",
        "   FROM countries)\n",
        "ORDER BY urbanarea_pop DESC;\n",
        "```"
      ]
    },
    {
      "cell_type": "markdown",
      "metadata": {
        "id": "sN2HChvzS1ez"
      },
      "source": [
        "**Subquery inside select**\n",
        "\n",
        "```\n",
        "SELECT countries.name AS country, COUNT(*) AS cities_num\n",
        "  FROM cities\n",
        "\t  INNER JOIN countries\n",
        "\t  ON countries.code = cities.country_code\n",
        "GROUP BY country\n",
        "ORDER BY cities_num DESC, country\n",
        "LIMIT 9;\n",
        "\n",
        "/* \n",
        "SELECT ___ AS ___,\n",
        "  (SELECT ___\n",
        "   FROM ___\n",
        "   WHERE countries.code = cities.country_code) AS cities_num\n",
        "FROM ___\n",
        "ORDER BY ___ ___, ___\n",
        "LIMIT 9;\n",
        "*/\n",
        "\n",
        "/*\n",
        "SELECT countries.name AS country, COUNT(*) AS cities_num\n",
        "  FROM cities\n",
        "\t  INNER JOIN countries\n",
        "\t  ON countries.code = cities.country_code\n",
        "GROUP BY country\n",
        "ORDER BY cities_num DESC, country\n",
        "LIMIT 9;\n",
        "*/\n",
        "\n",
        "SELECT countries.name AS country,\n",
        "  (SELECT COUNT(*)\n",
        "   FROM cities\n",
        "   WHERE countries.code = cities.country_code) AS cities_num\n",
        "FROM countries\n",
        "ORDER BY cities_num DESC, country\n",
        "LIMIT 9;\n",
        "```"
      ]
    },
    {
      "cell_type": "markdown",
      "metadata": {
        "id": "tsc6jM4ITABQ"
      },
      "source": [
        "**Subquery inside FROM clause**\n",
        "\n",
        "**Subquery inside from**\n",
        "\n",
        "```\n",
        "-- Select fields (with aliases)\n",
        "SELECT code, COUNT(*) AS lang_num\n",
        "  -- From languages\n",
        "  FROM languages\n",
        "-- Group by code\n",
        "GROUP BY code;\n",
        "\n",
        "SELECT local_name, subquery.lang_num\n",
        "  FROM countries,\n",
        "  \t(SELECT code, COUNT(*) AS lang_num\n",
        "  \t FROM languages\n",
        "  \t GROUP BY code) AS subquery\n",
        "  WHERE countries.code = subquery.code\n",
        "ORDER BY lang_num DESC;\n",
        "```"
      ]
    },
    {
      "cell_type": "markdown",
      "metadata": {
        "id": "9uA5w1vZTLnE"
      },
      "source": [
        "**Advanced subquery**\n",
        "\n",
        "```\n",
        "-- Select fields\n",
        "SELECT name, continent, inflation_rate\n",
        "  -- From countries\n",
        "  FROM countries\n",
        "  \t-- Join to economies\n",
        "  \tINNER JOIN economies\n",
        "    -- Match on code\n",
        "    USING (code)\n",
        "-- Where year is 2015\n",
        "WHERE year = 2015;\n",
        "\n",
        "-- Select the maximum inflation rate as max_inf\n",
        "SELECT MAX(inflation_rate) AS max_inf\n",
        "  -- Subquery using FROM (alias as subquery)\n",
        "  FROM (\n",
        "      SELECT name, continent, inflation_rate\n",
        "      FROM countries\n",
        "      INNER JOIN economies\n",
        "      USING (code)\n",
        "      WHERE year = 2015) AS subquery\n",
        "-- Group by continent\n",
        "GROUP BY continent;\n",
        "\n",
        "-- Select fields\n",
        "SELECT name, continent, inflation_rate\n",
        "  -- From countries\n",
        "  FROM countries\n",
        "\t-- Join to economies\n",
        "\tINNER JOIN economies\n",
        "\t-- Match on code\n",
        "\tON countries.code = economies.code\n",
        "  -- Where year is 2015\n",
        "  WHERE year = 2015\n",
        "    -- And inflation rate in subquery (alias as subquery)\n",
        "    AND inflation_rate IN (\n",
        "        SELECT MAX(inflation_rate) AS max_inf\n",
        "        FROM (\n",
        "             SELECT name, continent, inflation_rate\n",
        "             FROM countries\n",
        "             INNER JOIN economies\n",
        "             ON countries.code = economies.code\n",
        "             WHERE year = 2015) AS subquery\n",
        "      -- Group by continent\n",
        "        GROUP BY continent);\n",
        "```"
      ]
    },
    {
      "cell_type": "markdown",
      "metadata": {
        "id": "Mrs3DK0ATVro"
      },
      "source": [
        "**Subquery challenge**\n",
        "\n",
        "```\n",
        "-- Select fields\n",
        "SELECT code, inflation_rate, unemployment_rate\n",
        "  -- From economies\n",
        "  FROM economies\n",
        "  -- Where year is 2015 and code is not in\n",
        "  WHERE year = 2015 AND code NOT IN\n",
        "  \t-- Subquery\n",
        "  \t(SELECT code\n",
        "  \t FROM countries\n",
        "  \t WHERE (gov_form = 'Constitutional Monarchy' OR gov_form LIKE '%Republic%'))\n",
        "-- Order by inflation rate\n",
        "ORDER BY inflation_rate;\n",
        "```"
      ]
    },
    {
      "cell_type": "markdown",
      "metadata": {
        "id": "kVOiEJhoTaPr"
      },
      "source": [
        "**Subquery review**\n",
        "\n",
        "Within which SQL clause are subqueries most frequently found?\n",
        "\n",
        "**Possible Answers**\n",
        "\n",
        "- [x] WHERE\n",
        "- [ ] FROM\n",
        "- [ ] SELECT\n",
        "- [ ] IN\n"
      ]
    },
    {
      "cell_type": "markdown",
      "metadata": {
        "id": "yyK3wzJ-TkRn"
      },
      "source": [
        "**Final challenge**\n",
        "\n",
        "```\n",
        "-- Select fields\n",
        "SELECT DISTINCT name, total_investment, imports\n",
        "  -- From table (with alias)\n",
        "  FROM countries AS c\n",
        "    -- Join with table (with alias)\n",
        "    LEFT JOIN economies AS e\n",
        "      -- Match on code\n",
        "      ON (c.code = e.code\n",
        "        -- and code in Subquery\n",
        "        AND c.code IN (\n",
        "          SELECT l.code\n",
        "          FROM languages AS l\n",
        "          WHERE official = 'true'\n",
        "        ) )\n",
        "  -- Where region and year are correct\n",
        "  WHERE region = 'Central America' AND year = 2015\n",
        "-- Order by field\n",
        "ORDER BY name;\n",
        "```"
      ]
    },
    {
      "cell_type": "markdown",
      "metadata": {
        "id": "NO1uGshYTpm4"
      },
      "source": [
        "**Final challenge (2)**\n",
        "\n",
        "```\n",
        "-- Select fields\n",
        "SELECT region, continent, AVG(fertility_rate) AS avg_fert_rate\n",
        "  -- From left table\n",
        "  FROM countries AS c\n",
        "    -- Join to right table\n",
        "    INNER JOIN populations AS p\n",
        "      -- Match on join condition\n",
        "      ON c.code = p.country_code\n",
        "  -- Where specific records matching some condition\n",
        "  WHERE year = 2015\n",
        "-- Group appropriately?\n",
        "GROUP BY region, continent\n",
        "-- Order appropriately\n",
        "ORDER BY avg_fert_rate;\n",
        "```"
      ]
    },
    {
      "cell_type": "markdown",
      "metadata": {
        "id": "4bbMqoUNTvlf"
      },
      "source": [
        "**Final challenge (3)**\n",
        "\n",
        "```\n",
        "-- Select fields\n",
        "SELECT name, country_code, city_proper_pop, metroarea_pop,\n",
        "\t  -- Calculate city_perc\n",
        "      city_proper_pop / metroarea_pop * 100 AS city_perc\n",
        "  -- From appropriate table    \n",
        "  FROM cities\n",
        "  -- Where\n",
        "  WHERE name IN\n",
        "    -- Subquery\n",
        "    (SELECT capital\n",
        "     FROM countries\n",
        "     WHERE (continent = 'Europe'\n",
        "        OR continent LIKE '%America'))\n",
        "       AND metroarea_pop IS NOT NULL\n",
        "-- Order appropriately\n",
        "ORDER BY city_perc DESC\n",
        "-- Limit amount\n",
        "LIMIT 10;\n",
        "```"
      ]
    }
  ]
}