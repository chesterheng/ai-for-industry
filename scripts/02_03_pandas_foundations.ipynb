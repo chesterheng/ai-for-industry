{
  "nbformat": 4,
  "nbformat_minor": 0,
  "metadata": {
    "colab": {
      "name": "02-03-pandas-foundations.ipynb",
      "provenance": [],
      "collapsed_sections": []
    },
    "kernelspec": {
      "name": "python3",
      "display_name": "Python 3"
    }
  },
  "cells": [
    {
      "cell_type": "code",
      "metadata": {
        "id": "1eRL4YBzCdPS"
      },
      "source": [
        "#pandas Foundations\n",
        "## 1. Data ingestion & inspection\n",
        "## 2. Exploratory data analysis\n",
        "## 3. Time series in pandas\n",
        "## 4. Case Study - Sunlight in Austin"
      ],
      "execution_count": 2,
      "outputs": []
    },
    {
      "cell_type": "markdown",
      "metadata": {
        "id": "F38tayHoC9eC"
      },
      "source": [
        "## 1. Data ingestion & inspection"
      ]
    },
    {
      "cell_type": "code",
      "metadata": {
        "colab": {
          "base_uri": "https://localhost:8080/"
        },
        "id": "tppQqz6VHMZh",
        "outputId": "97d3c8c4-b2e2-428f-fad2-220722624931"
      },
      "source": [
        "import pandas as pd\n",
        "fname = 'https://raw.githubusercontent.com/chesterheng/ai-for-industry/main/datasets/world_ind_pop_data.csv'\n",
        "df = pd.read_csv(fname, index_col=0)\n",
        "\n",
        "df.head()\n",
        "df.tail()\n",
        "df.info()"
      ],
      "execution_count": 3,
      "outputs": [
        {
          "output_type": "stream",
          "text": [
            "<class 'pandas.core.frame.DataFrame'>\n",
            "Index: 13374 entries, Arab World to Zimbabwe\n",
            "Data columns (total 4 columns):\n",
            " #   Column                         Non-Null Count  Dtype  \n",
            "---  ------                         --------------  -----  \n",
            " 0   CountryCode                    13374 non-null  object \n",
            " 1   Year                           13374 non-null  int64  \n",
            " 2   Total Population               13374 non-null  float64\n",
            " 3   Urban population (% of total)  13374 non-null  float64\n",
            "dtypes: float64(2), int64(1), object(1)\n",
            "memory usage: 522.4+ KB\n"
          ],
          "name": "stdout"
        }
      ]
    },
    {
      "cell_type": "markdown",
      "metadata": {
        "id": "OSQH9XGBE0zS"
      },
      "source": [
        "**Inspecting your data**\n",
        "\n",
        "You can use the DataFrame methods .head() and .tail() to view the first few and last few rows of a DataFrame. In this exercise, we have imported pandas as pd and loaded population data from 1960 to 2014 as a DataFrame df. This dataset was obtained from the World Bank.\n",
        "\n",
        "Your job is to use df.head() and df.tail() to verify that the first and last rows match a file on disk. \n",
        "\n",
        "In later exercises, you will see how to extract values from DataFrames with indexing, but for now, manually copy/paste or type values into assignment statements where needed. \n",
        "\n",
        "Select the correct answer for the first and last values in the 'Year' and 'Total Population' columns.\n",
        "\n",
        "**Possible Answers**\n",
        "\n",
        "- [ ] First: 1980, 26183676.0; Last: 2000, 35.\n",
        "- [x] First: 1960, 92495902.0; Last: 2014, 15245855.0.\n",
        "- [ ] First: 40.472, 2001; Last: 44.5, 1880.\n",
        "- [ ] First: CSS, 104170.0; Last: USA, 95.203."
      ]
    },
    {
      "cell_type": "markdown",
      "metadata": {
        "id": "K5goNRpWLM58"
      },
      "source": [
        "**DataFrame data types**\n",
        "\n",
        "Pandas is aware of the data types in the columns of your DataFrame. It is also aware of null and NaN ('Not-a-Number') types which often indicate missing data. In this exercise, we have imported pandas as pd and read the world population data into a DataFrame df which contains some NaN values — a value often used as a place-holder for missing or otherwise invalid data entries.\n",
        "\n",
        "Your job is to use df.info() to determine information about the total count of non-null entries and infer the total count of null entries, which likely indicates missing data.\n",
        "\n",
        "Select the best description of this data set from the following:\n",
        "\n",
        "**Possible Answers**\n",
        "\n",
        "- [ ] The data is all of type float64 and none of it is missing.\n",
        "- [ ] The data is of mixed type, and 9914 of it is missing.\n",
        "- [x] The data is of mixed type, and 3460 float64s are missing.\n",
        "- [ ] The data is all of type float64, and 3460 float64s are missing."
      ]
    },
    {
      "cell_type": "code",
      "metadata": {
        "colab": {
          "base_uri": "https://localhost:8080/"
        },
        "id": "GnW4B-eGjmTW",
        "outputId": "9e4b70e4-7c01-4ddc-83e5-492db45a08de"
      },
      "source": [
        "# NumPy and pandas working together\n",
        "\n",
        "import pandas as pd\n",
        "fname = 'https://raw.githubusercontent.com/chesterheng/ai-for-industry/main/datasets/world_population.csv'\n",
        "df = pd.read_csv(fname, index_col=0)\n",
        "\n",
        "# Import numpy\n",
        "import numpy as np\n",
        "\n",
        "# Create array of DataFrame values: np_vals\n",
        "np_vals = df.values\n",
        "\n",
        "# Create new array of base 10 logarithm values: np_vals_log10\n",
        "np_vals_log10 = np.log10(np_vals)\n",
        "\n",
        "# Create array of new DataFrame by passing df to np.log10(): df_log10\n",
        "df_log10 = np.log10(df)\n",
        "\n",
        "# Print original and new data containers\n",
        "[print(x, 'has type', type(eval(x))) for x in ['np_vals', 'np_vals_log10', 'df', 'df_log10']]"
      ],
      "execution_count": 4,
      "outputs": [
        {
          "output_type": "stream",
          "text": [
            "np_vals has type <class 'numpy.ndarray'>\n",
            "np_vals_log10 has type <class 'numpy.ndarray'>\n",
            "df has type <class 'pandas.core.frame.DataFrame'>\n",
            "df_log10 has type <class 'pandas.core.frame.DataFrame'>\n"
          ],
          "name": "stdout"
        },
        {
          "output_type": "execute_result",
          "data": {
            "text/plain": [
              "[None, None, None, None]"
            ]
          },
          "metadata": {
            "tags": []
          },
          "execution_count": 4
        }
      ]
    },
    {
      "cell_type": "code",
      "metadata": {
        "colab": {
          "base_uri": "https://localhost:8080/"
        },
        "id": "aTaiarwroBXv",
        "outputId": "3ea4eea2-4cef-4836-df1c-939ffe180968"
      },
      "source": [
        "# Building DataFrames from scratch\n",
        "\n",
        "# Zip lists to build a DataFrame\n",
        "list_keys = ['Country', 'Total']\n",
        "list_values = [['United States', 'Soviet Union', 'United Kingdom'], [1118, 473, 273]]\n",
        "\n",
        "# Zip the 2 lists together into one list of (key,value) tuples: zipped\n",
        "zipped = list(zip(list_keys,list_values))\n",
        "\n",
        "# Inspect the list using print()\n",
        "print(zipped)\n",
        "\n",
        "# Build a dictionary with the zipped list: data\n",
        "data = dict(zipped)\n",
        "\n",
        "# Build and inspect a DataFrame from the dictionary: df\n",
        "df = pd.DataFrame(data)\n",
        "print(df)"
      ],
      "execution_count": 5,
      "outputs": [
        {
          "output_type": "stream",
          "text": [
            "[('Country', ['United States', 'Soviet Union', 'United Kingdom']), ('Total', [1118, 473, 273])]\n",
            "          Country  Total\n",
            "0   United States   1118\n",
            "1    Soviet Union    473\n",
            "2  United Kingdom    273\n"
          ],
          "name": "stdout"
        }
      ]
    },
    {
      "cell_type": "code",
      "metadata": {
        "id": "slfovtWfpDiu"
      },
      "source": [
        "# Labeling your data\n",
        "\n",
        "list_keys = ['a', 'b', 'c', 'd']\n",
        "list_values = [['1980', '1981', '1982'],\n",
        "               ['Blondie', 'Christopher Cross', 'Joan Jett'], \n",
        "               ['Call Me', 'Arthur\\'s Theme', 'I Love Rock and Roll'],\n",
        "               [6, 3, 7]]\n",
        "zipped = list(zip(list_keys,list_values))\n",
        "data = dict(zipped)\n",
        "df = pd.DataFrame(data)\n",
        "\n",
        "# Build a list of labels: list_labels\n",
        "list_labels = ['year','artist','song','chart weeks']\n",
        "\n",
        "# Assign the list of labels to the columns attribute: df.columns\n",
        "df.columns = list_labels"
      ],
      "execution_count": 6,
      "outputs": []
    },
    {
      "cell_type": "code",
      "metadata": {
        "colab": {
          "base_uri": "https://localhost:8080/"
        },
        "id": "rGENDZzhrEWm",
        "outputId": "01a7c316-285c-4e0b-a37a-0ecbf60aa09e"
      },
      "source": [
        "# Building DataFrames with broadcasting\n",
        "\n",
        "cities = ['Manheim', 'Preston park', 'Biglerville', 'Indiana', 'Curwensville', \n",
        "          'Crown', 'Harveys lake', 'Mineral springs', 'Cassville', 'Hannastown', \n",
        "          'Saltsburg', 'Tunkhannock', 'Pittsburgh', 'Lemasters', 'Great bend']\n",
        "\n",
        "# Make a string with the value 'PA': state\n",
        "state = 'PA'\n",
        "\n",
        "# Construct a dictionary: data\n",
        "data = {'state':state, 'city':cities}\n",
        "\n",
        "# Construct a DataFrame from dictionary data: df\n",
        "df = pd.DataFrame(data)\n",
        "\n",
        "# Print the DataFrame\n",
        "print(df)"
      ],
      "execution_count": 7,
      "outputs": [
        {
          "output_type": "stream",
          "text": [
            "   state             city\n",
            "0     PA          Manheim\n",
            "1     PA     Preston park\n",
            "2     PA      Biglerville\n",
            "3     PA          Indiana\n",
            "4     PA     Curwensville\n",
            "5     PA            Crown\n",
            "6     PA     Harveys lake\n",
            "7     PA  Mineral springs\n",
            "8     PA        Cassville\n",
            "9     PA       Hannastown\n",
            "10    PA        Saltsburg\n",
            "11    PA      Tunkhannock\n",
            "12    PA       Pittsburgh\n",
            "13    PA        Lemasters\n",
            "14    PA       Great bend\n"
          ],
          "name": "stdout"
        }
      ]
    },
    {
      "cell_type": "code",
      "metadata": {
        "colab": {
          "base_uri": "https://localhost:8080/"
        },
        "id": "HLvdTrpgrnRp",
        "outputId": "2b4ad889-a8de-43f3-8548-b7ab9b49026a"
      },
      "source": [
        "# Importing & exporting data\n",
        "\n",
        "data_file = 'https://raw.githubusercontent.com/chesterheng/ai-for-industry/main/datasets/world_population.csv'\n",
        "\n",
        "# Read in the file: df1\n",
        "df1 = pd.read_csv(data_file)\n",
        "\n",
        "# Create a list of the new column labels: new_labels\n",
        "new_labels = ['year', 'population']\n",
        "\n",
        "# Read in the file, specifying the header and names parameters: df2\n",
        "df2 = pd.read_csv(data_file, header=0, names=new_labels)\n",
        "\n",
        "# Print both the DataFrames\n",
        "print(df1)\n",
        "print(df2)"
      ],
      "execution_count": 8,
      "outputs": [
        {
          "output_type": "stream",
          "text": [
            "   Year  Total Population\n",
            "0  1960      3.034971e+09\n",
            "1  1970      3.684823e+09\n",
            "2  1980      4.436590e+09\n",
            "3  1990      5.282716e+09\n",
            "4  2000      6.115974e+09\n",
            "5  2010      6.924283e+09\n",
            "   year    population\n",
            "0  1960  3.034971e+09\n",
            "1  1970  3.684823e+09\n",
            "2  1980  4.436590e+09\n",
            "3  1990  5.282716e+09\n",
            "4  2000  6.115974e+09\n",
            "5  2010  6.924283e+09\n"
          ],
          "name": "stdout"
        }
      ]
    },
    {
      "cell_type": "code",
      "metadata": {
        "colab": {
          "base_uri": "https://localhost:8080/"
        },
        "id": "oPmHgrIXspJ1",
        "outputId": "4a7274d3-eaf6-4acb-cccd-727f6c7b44c3"
      },
      "source": [
        "# Delimiters, headers, and extensions\n",
        "\n",
        "file_messy = 'https://raw.githubusercontent.com/chesterheng/ai-for-industry/main/datasets/messy_stock_data.tsv'\n",
        "\n",
        "# Read the raw file as-is: df1\n",
        "df1 = pd.read_csv(file_messy)\n",
        "\n",
        "# Print the output of df1.head()\n",
        "print(df1.head())\n",
        "\n",
        "# Read in the file with the correct parameters: df2\n",
        "df2 = pd.read_csv(file_messy, delimiter=' ', header=3, comment=\"#\")\n",
        "\n",
        "# Print the output of df2.head()\n",
        "print(df2.head())\n",
        "\n",
        "# Save the cleaned up DataFrame to a CSV file without the index\n",
        "file_clean = 'tmp_clean_stock_data.csv'\n",
        "df2.to_csv(file_clean, index=False)\n",
        "\n",
        "# Save the cleaned up DataFrame to an Excel file without the index\n",
        "df2.to_excel('file_clean.xlsx', index=False)"
      ],
      "execution_count": 9,
      "outputs": [
        {
          "output_type": "stream",
          "text": [
            "                                                   The following stock data was collect on 2016-AUG-25 from an unknown source\n",
            "These kind of ocmments are not very useful                                                  are they?                        \n",
            "probably should just throw this line away too          but not the next since those are column labels                        \n",
            "name Jan Feb Mar Apr May Jun Jul Aug Sep Oct No...                                                NaN                        \n",
            "# So that line you just read has all the column...                                                NaN                        \n",
            "IBM 156.08 160.01 159.81 165.22 172.25 167.15 1...                                                NaN                        \n",
            "     name     Jan     Feb     Mar  ...     Sep     Oct     Nov     Dec\n",
            "0     IBM  156.08  160.01  159.81  ...  145.36  146.11  137.21  137.96\n",
            "1    MSFT   45.51   43.08   42.13  ...   43.56   48.70   53.88   55.40\n",
            "2  GOOGLE  512.42  537.99  559.72  ...  617.93  663.59  735.39  755.35\n",
            "3   APPLE  110.64  125.43  125.97  ...  112.80  113.36  118.16  111.73\n",
            "\n",
            "[4 rows x 13 columns]\n"
          ],
          "name": "stdout"
        }
      ]
    },
    {
      "cell_type": "code",
      "metadata": {
        "colab": {
          "base_uri": "https://localhost:8080/",
          "height": 0
        },
        "id": "jbgxouVktoBY",
        "outputId": "ca55c136-7823-4795-e542-75336842dfae"
      },
      "source": [
        "# Plotting with pandas\n",
        "\n",
        "import matplotlib.pyplot as plt\n",
        "import pandas as pd\n",
        "fname = 'https://raw.githubusercontent.com/chesterheng/ai-for-industry/main/datasets/weather_data_austin_2010.csv'\n",
        "df = pd.read_csv(fname, usecols=['Temperature (deg F)'])\n",
        "\n",
        "# Create a plot with color='red'\n",
        "df.plot(color='red')\n",
        "\n",
        "# Add a title\n",
        "plt.title('Temperature in Austin')\n",
        "\n",
        "# Specify the x-axis label\n",
        "plt.xlabel('Hours since midnight August 1, 2010')\n",
        "\n",
        "# Specify the y-axis label\n",
        "plt.ylabel('Temperature (degrees F)')\n",
        "\n",
        "# Display the plot\n",
        "plt.show()"
      ],
      "execution_count": 10,
      "outputs": [
        {
          "output_type": "display_data",
          "data": {
            "image/png": "[encoded data removed]",
            "text/plain": [
              "<Figure size 432x288 with 1 Axes>"
            ]
          },
          "metadata": {
            "tags": [],
            "needs_background": "light"
          }
        }
      ]
    },
    {
      "cell_type": "code",
      "metadata": {
        "colab": {
          "base_uri": "https://localhost:8080/",
          "height": 0
        },
        "id": "whxj7lH1yuHt",
        "outputId": "954fcc42-8273-4455-ed7f-42e16ab00173"
      },
      "source": [
        "# Plotting DataFrames\n",
        "\n",
        "import matplotlib.pyplot as plt\n",
        "import pandas as pd\n",
        "fname = 'https://raw.githubusercontent.com/chesterheng/ai-for-industry/main/datasets/weather_data_austin_2010.csv'\n",
        "df = pd.read_csv(fname, usecols=['Temperature (deg F)', 'Dew Point (deg F)', 'Pressure (atm)'])\n",
        "\n",
        "# Plot all columns (default)\n",
        "df.plot()\n",
        "plt.show()\n",
        "\n",
        "# Plot all columns as subplots\n",
        "df.plot(subplots=True)\n",
        "plt.show()\n",
        "\n",
        "# Plot just the Dew Point data\n",
        "column_list1 = ['Dew Point (deg F)']\n",
        "df[column_list1].plot()\n",
        "plt.show()\n",
        "\n",
        "# Plot the Dew Point and Temperature data, but not the Pressure data\n",
        "column_list2 = ['Temperature (deg F)','Dew Point (deg F)']\n",
        "df[column_list2].plot()\n",
        "plt.show()"
      ],
      "execution_count": 11,
      "outputs": [
        {
          "output_type": "display_data",
          "data": {
            "image/png": "[encoded data removed]",
            "text/plain": [
              "<Figure size 432x288 with 1 Axes>"
            ]
          },
          "metadata": {
            "tags": [],
            "needs_background": "light"
          }
        },
        {
          "output_type": "display_data",
          "data": {
            "image/png": "[encoded data removed]",
            "text/plain": [
              "<Figure size 432x288 with 3 Axes>"
            ]
          },
          "metadata": {
            "tags": [],
            "needs_background": "light"
          }
        },
        {
          "output_type": "display_data",
          "data": {
            "image/png": "[encoded data removed]",
            "text/plain": [
              "<Figure size 432x288 with 1 Axes>"
            ]
          },
          "metadata": {
            "tags": [],
            "needs_background": "light"
          }
        },
        {
          "output_type": "display_data",
          "data": {
            "image/png": "[encoded data removed]",
            "text/plain": [
              "<Figure size 432x288 with 1 Axes>"
            ]
          },
          "metadata": {
            "tags": [],
            "needs_background": "light"
          }
        }
      ]
    },
    {
      "cell_type": "markdown",
      "metadata": {
        "id": "t11pgmih6xM8"
      },
      "source": [
        "## 2. Exploratory data analysis"
      ]
    },
    {
      "cell_type": "code",
      "metadata": {
        "colab": {
          "base_uri": "https://localhost:8080/",
          "height": 0
        },
        "id": "yQrCnJwz0_Xh",
        "outputId": "6f7d1ccb-11c4-4f91-e5e8-97d24505b704"
      },
      "source": [
        "# Visual exploratory data analysis\n",
        "\n",
        "import matplotlib.pyplot as plt\n",
        "import pandas as pd\n",
        "fname = 'https://raw.githubusercontent.com/chesterheng/ai-for-industry/main/datasets/clean_stock_data.csv'\n",
        "df = pd.read_csv(fname)\n",
        "\n",
        "# Create a list of y-axis column names: y_columns\n",
        "y_columns = ['AAPL', 'IBM']\n",
        "\n",
        "# Generate a line plot\n",
        "df.plot(x='Month', y=y_columns)\n",
        "\n",
        "# Add the title\n",
        "plt.title('Monthly stock prices')\n",
        "\n",
        "# Add the y-axis label\n",
        "plt.ylabel('Price ($US)')\n",
        "\n",
        "# Display the plot\n",
        "plt.show()"
      ],
      "execution_count": 12,
      "outputs": [
        {
          "output_type": "display_data",
          "data": {
            "image/png": "[encoded data removed]",
            "text/plain": [
              "<Figure size 432x288 with 1 Axes>"
            ]
          },
          "metadata": {
            "tags": [],
            "needs_background": "light"
          }
        }
      ]
    },
    {
      "cell_type": "code",
      "metadata": {
        "colab": {
          "base_uri": "https://localhost:8080/",
          "height": 0
        },
        "id": "_VCzUKOn24wJ",
        "outputId": "782cb776-f59e-43b7-b83f-bf5d0a1f19f7"
      },
      "source": [
        "# pandas scatter plots\n",
        "\n",
        "import matplotlib.pyplot as plt\n",
        "import pandas as pd\n",
        "fname = 'https://raw.githubusercontent.com/chesterheng/ai-for-industry/main/datasets/auto-mpg.csv'\n",
        "df = pd.read_csv(fname)\n",
        "\n",
        "sizes = [ 51.12044694,  56.78387977,  49.15557238,  49.06977358,\n",
        "        49.52823321,  78.4595872 ,  78.93021696,  77.41479205,\n",
        "        81.52541106,  61.71459825,  52.85646225,  54.23007578,\n",
        "        58.89427963,  39.65137852,  23.42587473,  33.41639502,\n",
        "        32.03903011,  27.8650165 ,  18.88972581,  14.0196956 ,\n",
        "        29.72619722,  24.58549713,  23.48516821,  20.77938954,\n",
        "        29.19459189,  88.67676838,  79.72987328,  79.94866084,\n",
        "        93.23005042,  18.88972581,  21.34122243,  20.6679223 ,\n",
        "        28.88670381,  49.24144612,  46.14174741,  45.39631334,\n",
        "        45.01218186,  73.76057586,  82.96880195,  71.84547684,\n",
        "        69.85320595, 102.22421043,  93.78252358, 110.        ,\n",
        "        36.52889673,  24.14234281,  44.84805372,  41.02504618,\n",
        "        20.51976563,  18.765772  ,  17.9095202 ,  17.75442285,\n",
        "        13.08832041,  10.83266174,  14.00441945,  15.91328975,\n",
        "        21.60597587,  18.8188451 ,  21.15311208,  24.14234281,\n",
        "        20.63083317,  76.05635059,  80.05816704,  71.18975117,\n",
        "        70.98330444,  56.13992036,  89.36985382,  84.38736544,\n",
        "        82.6716892 ,  81.4149056 ,  22.60363518,  63.06844313,\n",
        "        69.92143863,  76.76982089,  69.2066568 ,  35.81711267,\n",
        "        26.25184749,  36.94940537,  19.95069229,  23.88237331,\n",
        "        21.79608472,  26.1474042 ,  19.49759118,  18.36136808,\n",
        "        69.98970461,  56.13992036,  66.21810474,  68.02351436,\n",
        "        59.39644014, 102.10046481,  82.96880195,  79.25686195,\n",
        "        74.74521151,  93.34830013, 102.05923292,  60.7883734 ,\n",
        "        40.55589449,  44.7388015 ,  36.11079464,  37.9986264 ,\n",
        "        35.11233175,  15.83199594, 103.96451839, 100.21241654,\n",
        "        90.18186347,  84.27493641,  32.38645967,  21.62494928,\n",
        "        24.00218436,  23.56434276,  18.78345471,  22.21725537,\n",
        "        25.44271071,  21.36007926,  69.37650986,  76.19877818,\n",
        "        14.51292942,  19.38962134,  27.75740889,  34.24717407,\n",
        "        48.10262495,  29.459795  ,  32.80584831,  55.89556844,\n",
        "        40.06360581,  35.03982309,  46.33599903,  15.83199594,\n",
        "        25.01226779,  14.03498009,  26.90404245,  59.52231336,\n",
        "        54.92349014,  54.35035315,  71.39649768,  91.93424995,\n",
        "        82.70879915,  89.56285636,  75.45251972,  20.50128352,\n",
        "        16.04379287,  22.02531454,  11.32159874,  16.70430249,\n",
        "        18.80114574,  18.50153068,  21.00322336,  25.79385418,\n",
        "        23.80266582,  16.65430211,  44.35746794,  49.815853  ,\n",
        "        49.04119063,  41.52318884,  90.72524338,  82.07906251,\n",
        "        84.23747672,  90.29816462,  63.55551901,  63.23059357,\n",
        "        57.92740995,  59.64831981,  38.45278922,  43.19643409,\n",
        "        41.81296121,  19.62393488,  28.99647648,  35.35456858,\n",
        "        27.97283229,  30.39744886,  20.57526193,  26.96758278,\n",
        "        37.07354237,  15.62160631,  42.92863291,  30.21771564,\n",
        "        36.40567571,  36.11079464,  29.70395123,  13.41514444,\n",
        "        25.27829944,  20.51976563,  27.54281821,  21.17188565,\n",
        "        20.18836167,  73.97101962,  73.09614831,  65.35749368,\n",
        "        73.97101962,  43.51889468,  46.80945169,  37.77255674,\n",
        "        39.6256851 ,  17.24230306,  19.49759118,  15.62160631,\n",
        "        13.41514444,  55.49963323,  53.18333207,  55.31736854,\n",
        "        42.44868923,  13.86730874,  16.48817545,  19.33574884,\n",
        "        27.3931002 ,  41.31307817,  64.63368105,  44.52069676,\n",
        "        35.74387954,  60.75655952,  79.87569835,  68.46177648,\n",
        "        62.35745431,  58.70651902,  17.41217694,  19.33574884,\n",
        "        13.86730874,  22.02531454,  15.75091031,  62.68013142,\n",
        "        68.63071356,  71.36201911,  76.80558184,  51.58836621,\n",
        "        48.84134317,  54.86301837,  51.73502816,  74.14661842,\n",
        "        72.22648148,  77.88228247,  78.24284811,  15.67003285,\n",
        "        31.25845963,  21.36007926,  31.60164234,  17.51450098,\n",
        "        17.92679488,  16.40542438,  19.96892459,  32.99310928,\n",
        "        28.14577056,  30.80379718,  16.40542438,  13.48998471,\n",
        "        16.40542438,  17.84050478,  13.48998471,  47.1451025 ,\n",
        "        58.08281541,  53.06435374,  52.02897659,  41.44433489,\n",
        "        36.60292926,  30.80379718,  48.98404972,  42.90189859,\n",
        "        47.56635225,  39.24128299,  54.56115914,  48.41447259,\n",
        "        48.84134317,  49.41341845,  42.76835191,  69.30854366,\n",
        "        19.33574884,  27.28640858,  22.02531454,  20.70504474,\n",
        "        26.33555201,  31.37264569,  33.93740821,  24.08222494,\n",
        "        33.34566004,  41.05118927,  32.52595611,  48.41447259,\n",
        "        16.48817545,  18.97851406,  43.84255439,  37.22278157,\n",
        "        34.77459916,  44.38465193,  47.00510227,  61.39441929,\n",
        "        57.77221268,  65.12675249,  61.07507305,  79.14790534,\n",
        "        68.42801405,  54.10993164,  64.63368105,  15.42864956,\n",
        "        16.24054679,  15.26876826,  29.68171358,  51.88189829,\n",
        "        63.32798377,  42.36896092,  48.6988448 ,  20.15170555,\n",
        "        19.24612787,  16.98905358,  18.88972581,  29.68171358,\n",
        "        28.03762169,  30.35246559,  27.20120517,  19.13885751,\n",
        "        16.12562794,  18.71277385,  16.9722369 ,  29.85984799,\n",
        "        34.29495526,  37.54716158,  47.59450219,  19.93246832,\n",
        "        30.60028577,  26.90404245,  24.66650366,  21.36007926,\n",
        "        18.5366546 ,  32.64243213,  18.5366546 ,  18.09999962,\n",
        "        22.70075058,  36.23351603,  43.97776651,  14.24983724,\n",
        "        19.15671509,  14.17291518,  35.25757392,  24.38356372,\n",
        "        26.02234705,  21.83420642,  25.81458463,  28.90864169,\n",
        "        28.58044785,  30.91715052,  23.6833544 ,  12.82391671,\n",
        "        14.63757021,  12.89709155,  17.75442285,  16.24054679,\n",
        "        17.49742615,  16.40542438,  20.42743834,  17.41217694,\n",
        "        23.58415722,  19.96892459,  20.33531923,  22.99334585,\n",
        "        28.47146626,  28.90864169,  43.43816712,  41.57579979,\n",
        "        35.01567018,  35.74387954,  48.5565546 ,  57.77221268,\n",
        "        38.98605581,  49.98882458,  28.25412762,  29.01845599,\n",
        "        23.88237331,  27.60710798,  26.54539622,  31.14448175,\n",
        "        34.17556473,  16.3228815 ,  17.0732619 ,  16.15842026,\n",
        "        18.80114574,  18.80114574,  19.42557798,  20.2434083 ,\n",
        "        20.98452475,  16.07650192,  16.07650192,  16.57113469,\n",
        "        36.11079464,  37.84783835,  27.82194848,  33.46359332,\n",
        "        29.5706502 ,  23.38638738,  36.23351603,  32.40968826,\n",
        "        18.88972581,  21.92965639,  28.68963762,  30.80379718]\n",
        "\n",
        "# Generate a scatter plot\n",
        "df.plot(kind='scatter', x='hp', y='mpg', s=sizes)\n",
        "\n",
        "# Add the title\n",
        "plt.title('Fuel efficiency vs Horse-power')\n",
        "\n",
        "# Add the x-axis label\n",
        "plt.xlabel('Horse-power')\n",
        "\n",
        "# Add the y-axis label\n",
        "plt.ylabel('Fuel efficiency (mpg)')\n",
        "\n",
        "# Display the plot\n",
        "plt.show()"
      ],
      "execution_count": 13,
      "outputs": [
        {
          "output_type": "display_data",
          "data": {
            "image/png": "[encoded data removed]",
            "text/plain": [
              "<Figure size 432x288 with 1 Axes>"
            ]
          },
          "metadata": {
            "tags": [],
            "needs_background": "light"
          }
        }
      ]
    },
    {
      "cell_type": "code",
      "metadata": {
        "colab": {
          "base_uri": "https://localhost:8080/",
          "height": 0
        },
        "id": "LCIr3bAz37RB",
        "outputId": "7edeb6c9-aaae-4a49-b37e-903336ed7491"
      },
      "source": [
        "# pandas box plots\n",
        "\n",
        "import matplotlib.pyplot as plt\n",
        "import pandas as pd\n",
        "fname = 'https://raw.githubusercontent.com/chesterheng/ai-for-industry/main/datasets/auto-mpg.csv'\n",
        "df = pd.read_csv(fname)\n",
        "\n",
        "# Make a list of the column names to be plotted: cols\n",
        "cols = ['weight', 'mpg']\n",
        "\n",
        "# Generate the box plots\n",
        "df[cols].plot(kind='box', subplots=True)\n",
        "\n",
        "# Display the plot\n",
        "plt.show()"
      ],
      "execution_count": 14,
      "outputs": [
        {
          "output_type": "display_data",
          "data": {
            "image/png": "[encoded data removed]",
            "text/plain": [
              "<Figure size 432x288 with 2 Axes>"
            ]
          },
          "metadata": {
            "tags": [],
            "needs_background": "light"
          }
        }
      ]
    },
    {
      "cell_type": "code",
      "metadata": {
        "colab": {
          "base_uri": "https://localhost:8080/",
          "height": 0
        },
        "id": "XAS0UcEc4Jhn",
        "outputId": "c6a67f8d-809e-45a6-996f-860c4b4e0487"
      },
      "source": [
        "# pandas hist, pdf and cdf\n",
        "\n",
        "import matplotlib.pyplot as plt\n",
        "import pandas as pd\n",
        "fname = 'https://raw.githubusercontent.com/chesterheng/ai-for-industry/main/datasets/tips.csv'\n",
        "df = pd.read_csv(fname)\n",
        "\n",
        "# This formats the plots such that they appear on separate rows\n",
        "fig, axes = plt.subplots(nrows=2, ncols=1)\n",
        "\n",
        "# Plot the PDF\n",
        "df.fraction.plot(ax=axes[0], kind='hist', density=True, bins=30, range=(0,.3))\n",
        "# plt.show()\n",
        "\n",
        "# Plot the CDF\n",
        "df.fraction.plot(ax=axes[1], kind='hist', density=True, cumulative=True, bins=30, range=(0,.3))\n",
        "plt.show()"
      ],
      "execution_count": 15,
      "outputs": [
        {
          "output_type": "display_data",
          "data": {
            "image/png": "[encoded data removed]",
            "text/plain": [
              "<Figure size 432x288 with 2 Axes>"
            ]
          },
          "metadata": {
            "tags": [],
            "needs_background": "light"
          }
        }
      ]
    },
    {
      "cell_type": "code",
      "metadata": {
        "colab": {
          "base_uri": "https://localhost:8080/"
        },
        "id": "w8IciSw67eGV",
        "outputId": "6e12153e-54b8-426a-ccaa-295fd0d59f51"
      },
      "source": [
        "# Statistical exploratory data analysis\n",
        "\n",
        "import pandas as pd\n",
        "fname = 'https://raw.githubusercontent.com/chesterheng/ai-for-industry/main/datasets/auto-mpg.csv'\n",
        "df = pd.read_csv(fname)\n",
        "\n",
        "df['mpg'].median()"
      ],
      "execution_count": 16,
      "outputs": [
        {
          "output_type": "execute_result",
          "data": {
            "text/plain": [
              "22.75"
            ]
          },
          "metadata": {
            "tags": []
          },
          "execution_count": 16
        }
      ]
    },
    {
      "cell_type": "markdown",
      "metadata": {
        "id": "yVtGtxbU7IF6"
      },
      "source": [
        "**Fuel efficiency**\n",
        "\n",
        "From the automobiles data set, which value corresponds to the median value of the 'mpg' column? \n",
        "\n",
        "Your job is to select the 'mpg' column and call the .median() method on it. The automobile DataFrame has been provided as df.\n",
        "\n",
        "Possible Answers\n",
        "- [ ] 29.0\n",
        "- [ ] 23.45\n",
        "- [x] 22.75\n",
        "- [ ] 32"
      ]
    },
    {
      "cell_type": "code",
      "metadata": {
        "colab": {
          "base_uri": "https://localhost:8080/",
          "height": 0
        },
        "id": "U8bAlEXb8AEd",
        "outputId": "31cbd168-5c73-49d0-a98f-eeda84a78d76"
      },
      "source": [
        "# Bachelor's degrees awarded to women\n",
        "\n",
        "import matplotlib.pyplot as plt\n",
        "import pandas as pd\n",
        "fname = 'https://raw.githubusercontent.com/chesterheng/ai-for-industry/main/datasets/percent-bachelors-degrees-women-usa.csv'\n",
        "df = pd.read_csv(fname)\n",
        "\n",
        "# Print the minimum value of the Engineering column\n",
        "print(df['Engineering'].min())\n",
        "\n",
        "# Print the maximum value of the Engineering column\n",
        "print(df['Engineering'].max())\n",
        "\n",
        "# Construct the mean percentage per year: mean\n",
        "mean = df.mean(axis='columns')\n",
        "\n",
        "# Plot the average percentage per year\n",
        "mean.plot()\n",
        "\n",
        "# Display the plot\n",
        "plt.show()"
      ],
      "execution_count": 17,
      "outputs": [
        {
          "output_type": "stream",
          "text": [
            "0.8\n",
            "19.0\n"
          ],
          "name": "stdout"
        },
        {
          "output_type": "display_data",
          "data": {
            "image/png": "[encoded data removed]",
            "text/plain": [
              "<Figure size 432x288 with 1 Axes>"
            ]
          },
          "metadata": {
            "tags": [],
            "needs_background": "light"
          }
        }
      ]
    },
    {
      "cell_type": "code",
      "metadata": {
        "colab": {
          "base_uri": "https://localhost:8080/",
          "height": 0
        },
        "id": "yMJ_F6NS8YtX",
        "outputId": "62a5b7c9-4cb2-4ee7-a9be-f694558c287f"
      },
      "source": [
        "# Median vs mean\n",
        "\n",
        "import matplotlib.pyplot as plt\n",
        "import pandas as pd\n",
        "fname = 'https://raw.githubusercontent.com/chesterheng/ai-for-industry/main/datasets/titanic.csv'\n",
        "df = pd.read_csv(fname)\n",
        "\n",
        "# Print summary statistics of the fare column with .describe()\n",
        "print(df.fare.describe())\n",
        "\n",
        "# Generate a box plot of the fare column\n",
        "df.fare.plot(kind='box')\n",
        "\n",
        "# Show the plot\n",
        "plt.show()"
      ],
      "execution_count": 18,
      "outputs": [
        {
          "output_type": "stream",
          "text": [
            "count    1308.000000\n",
            "mean       33.295479\n",
            "std        51.758668\n",
            "min         0.000000\n",
            "25%         7.895800\n",
            "50%        14.454200\n",
            "75%        31.275000\n",
            "max       512.329200\n",
            "Name: fare, dtype: float64\n"
          ],
          "name": "stdout"
        },
        {
          "output_type": "display_data",
          "data": {
            "image/png": "[encoded data removed]",
            "text/plain": [
              "<Figure size 432x288 with 1 Axes>"
            ]
          },
          "metadata": {
            "tags": [],
            "needs_background": "light"
          }
        }
      ]
    },
    {
      "cell_type": "code",
      "metadata": {
        "colab": {
          "base_uri": "https://localhost:8080/",
          "height": 0
        },
        "id": "VAKkgXHE80FY",
        "outputId": "aa871ed9-8b93-486b-a677-a2c1ef0a3280"
      },
      "source": [
        "# Quantiles\n",
        "\n",
        "import matplotlib.pyplot as plt\n",
        "import pandas as pd\n",
        "fname = 'https://raw.githubusercontent.com/chesterheng/ai-for-industry/main/datasets/life_expectancy_at_birth.csv'\n",
        "df = pd.read_csv(fname)\n",
        "\n",
        "# Print the number of countries reported in 2015\n",
        "print(df['2015'].count())\n",
        "\n",
        "# Print the 5th and 95th percentiles\n",
        "print(df.quantile([0.05,0.95]))\n",
        "\n",
        "# Generate a box plot\n",
        "years = ['1800','1850','1900','1950','2000']\n",
        "df[years].plot(kind='box')\n",
        "plt.show()"
      ],
      "execution_count": 19,
      "outputs": [
        {
          "output_type": "stream",
          "text": [
            "208\n",
            "      Unnamed: 0   1800   1801   1802  ...    2013   2014    2015     2016\n",
            "0.05       12.95  25.40  25.30  25.20  ...  56.705  56.87  57.855  59.2555\n",
            "0.95      246.05  37.92  37.35  38.37  ...  81.830  82.00  82.100  82.1650\n",
            "\n",
            "[2 rows x 218 columns]\n"
          ],
          "name": "stdout"
        },
        {
          "output_type": "stream",
          "text": [
            "/usr/local/lib/python3.7/dist-packages/numpy/core/_asarray.py:83: VisibleDeprecationWarning: Creating an ndarray from ragged nested sequences (which is a list-or-tuple of lists-or-tuples-or ndarrays with different lengths or shapes) is deprecated. If you meant to do this, you must specify 'dtype=object' when creating the ndarray\n",
            "  return array(a, dtype, copy=False, order=order)\n"
          ],
          "name": "stderr"
        },
        {
          "output_type": "display_data",
          "data": {
            "image/png": "[encoded data removed]",
            "text/plain": [
              "<Figure size 432x288 with 1 Axes>"
            ]
          },
          "metadata": {
            "tags": [],
            "needs_background": "light"
          }
        }
      ]
    },
    {
      "cell_type": "code",
      "metadata": {
        "colab": {
          "base_uri": "https://localhost:8080/"
        },
        "id": "T_sCY6Tf9esy",
        "outputId": "28438606-c906-4160-d6e9-abed03fa70ed"
      },
      "source": [
        "# Standard deviation of temperature\n",
        "\n",
        "import pandas as pd\n",
        "fname = 'https://raw.githubusercontent.com/chesterheng/ai-for-industry/main/datasets/weather_data_austin_2010.csv'\n",
        "df = pd.read_csv(fname, usecols=['Date', 'Temperature (deg F)'])\n",
        "df['Date'] = pd.to_datetime(df['Date'], format='%Y%m%d %H:%M')\n",
        "\n",
        "import datetime as dt\n",
        "date_after = dt.datetime(2010, 1, 1)\n",
        "date_before = dt.datetime(2010, 1, 31)\n",
        "january = df[(df.Date >= date_after) & (df.Date <= date_before)]\n",
        "\n",
        "date_after = dt.datetime(2010, 3, 1)\n",
        "date_before = dt.datetime(2010, 3, 31)\n",
        "march = df[(df.Date >= date_after) & (df.Date <= date_before)]\n",
        "\n",
        "\n",
        "# Print the mean of the January and March data\n",
        "print(january.mean(), march.mean())\n",
        "\n",
        "# Print the standard deviation of the January and March data\n",
        "print(january.std(), march.std())"
      ],
      "execution_count": 20,
      "outputs": [
        {
          "output_type": "stream",
          "text": [
            "Temperature (deg F)    49.944938\n",
            "dtype: float64 Temperature (deg F)    60.785972\n",
            "dtype: float64\n",
            "Temperature (deg F)    5.902382\n",
            "dtype: float64 Temperature (deg F)    6.466799\n",
            "dtype: float64\n"
          ],
          "name": "stdout"
        },
        {
          "output_type": "stream",
          "text": [
            "/usr/local/lib/python3.7/dist-packages/ipykernel_launcher.py:19: FutureWarning: DataFrame.mean and DataFrame.median with numeric_only=None will include datetime64 and datetime64tz columns in a future version.\n"
          ],
          "name": "stderr"
        }
      ]
    },
    {
      "cell_type": "code",
      "metadata": {
        "colab": {
          "base_uri": "https://localhost:8080/",
          "height": 0
        },
        "id": "5FFm1K9OY4py",
        "outputId": "d1a9bd17-027b-4570-a0a3-4f35601bd1e6"
      },
      "source": [
        "# Separating populations\n",
        "\n",
        "import pandas as pd\n",
        "fname = 'https://raw.githubusercontent.com/chesterheng/ai-for-industry/main/datasets/auto-mpg.csv'\n",
        "df = pd.read_csv(fname)\n",
        "\n",
        "df[df['origin'] == 'Asia']\n",
        "# df[df.origin == 'Asia']"
      ],
      "execution_count": 21,
      "outputs": [
        {
          "output_type": "execute_result",
          "data": {
            "text/html": [
              "<div>\n",
              "<style scoped>\n",
              "    .dataframe tbody tr th:only-of-type {\n",
              "        vertical-align: middle;\n",
              "    }\n",
              "\n",
              "    .dataframe tbody tr th {\n",
              "        vertical-align: top;\n",
              "    }\n",
              "\n",
              "    .dataframe thead th {\n",
              "        text-align: right;\n",
              "    }\n",
              "</style>\n",
              "<table border=\"1\" class=\"dataframe\">\n",
              "  <thead>\n",
              "    <tr style=\"text-align: right;\">\n",
              "      <th></th>\n",
              "      <th>mpg</th>\n",
              "      <th>cyl</th>\n",
              "      <th>displ</th>\n",
              "      <th>hp</th>\n",
              "      <th>weight</th>\n",
              "      <th>accel</th>\n",
              "      <th>yr</th>\n",
              "      <th>origin</th>\n",
              "      <th>name</th>\n",
              "    </tr>\n",
              "  </thead>\n",
              "  <tbody>\n",
              "    <tr>\n",
              "      <th>14</th>\n",
              "      <td>24.0</td>\n",
              "      <td>4</td>\n",
              "      <td>113.0</td>\n",
              "      <td>95</td>\n",
              "      <td>2372</td>\n",
              "      <td>15.0</td>\n",
              "      <td>70</td>\n",
              "      <td>Asia</td>\n",
              "      <td>toyota corona mark ii</td>\n",
              "    </tr>\n",
              "    <tr>\n",
              "      <th>18</th>\n",
              "      <td>27.0</td>\n",
              "      <td>4</td>\n",
              "      <td>97.0</td>\n",
              "      <td>88</td>\n",
              "      <td>2130</td>\n",
              "      <td>14.5</td>\n",
              "      <td>70</td>\n",
              "      <td>Asia</td>\n",
              "      <td>datsun pl510</td>\n",
              "    </tr>\n",
              "    <tr>\n",
              "      <th>29</th>\n",
              "      <td>27.0</td>\n",
              "      <td>4</td>\n",
              "      <td>97.0</td>\n",
              "      <td>88</td>\n",
              "      <td>2130</td>\n",
              "      <td>14.5</td>\n",
              "      <td>71</td>\n",
              "      <td>Asia</td>\n",
              "      <td>datsun pl510</td>\n",
              "    </tr>\n",
              "    <tr>\n",
              "      <th>31</th>\n",
              "      <td>25.0</td>\n",
              "      <td>4</td>\n",
              "      <td>113.0</td>\n",
              "      <td>95</td>\n",
              "      <td>2228</td>\n",
              "      <td>14.0</td>\n",
              "      <td>71</td>\n",
              "      <td>Asia</td>\n",
              "      <td>toyota corona</td>\n",
              "    </tr>\n",
              "    <tr>\n",
              "      <th>52</th>\n",
              "      <td>31.0</td>\n",
              "      <td>4</td>\n",
              "      <td>71.0</td>\n",
              "      <td>65</td>\n",
              "      <td>1773</td>\n",
              "      <td>19.0</td>\n",
              "      <td>71</td>\n",
              "      <td>Asia</td>\n",
              "      <td>toyota corolla 1200</td>\n",
              "    </tr>\n",
              "    <tr>\n",
              "      <th>...</th>\n",
              "      <td>...</td>\n",
              "      <td>...</td>\n",
              "      <td>...</td>\n",
              "      <td>...</td>\n",
              "      <td>...</td>\n",
              "      <td>...</td>\n",
              "      <td>...</td>\n",
              "      <td>...</td>\n",
              "      <td>...</td>\n",
              "    </tr>\n",
              "    <tr>\n",
              "      <th>376</th>\n",
              "      <td>34.0</td>\n",
              "      <td>4</td>\n",
              "      <td>108.0</td>\n",
              "      <td>70</td>\n",
              "      <td>2245</td>\n",
              "      <td>16.9</td>\n",
              "      <td>82</td>\n",
              "      <td>Asia</td>\n",
              "      <td>toyota corolla</td>\n",
              "    </tr>\n",
              "    <tr>\n",
              "      <th>377</th>\n",
              "      <td>38.0</td>\n",
              "      <td>4</td>\n",
              "      <td>91.0</td>\n",
              "      <td>67</td>\n",
              "      <td>1965</td>\n",
              "      <td>15.0</td>\n",
              "      <td>82</td>\n",
              "      <td>Asia</td>\n",
              "      <td>honda civic</td>\n",
              "    </tr>\n",
              "    <tr>\n",
              "      <th>378</th>\n",
              "      <td>32.0</td>\n",
              "      <td>4</td>\n",
              "      <td>91.0</td>\n",
              "      <td>67</td>\n",
              "      <td>1965</td>\n",
              "      <td>15.7</td>\n",
              "      <td>82</td>\n",
              "      <td>Asia</td>\n",
              "      <td>honda civic (auto)</td>\n",
              "    </tr>\n",
              "    <tr>\n",
              "      <th>379</th>\n",
              "      <td>38.0</td>\n",
              "      <td>4</td>\n",
              "      <td>91.0</td>\n",
              "      <td>67</td>\n",
              "      <td>1995</td>\n",
              "      <td>16.2</td>\n",
              "      <td>82</td>\n",
              "      <td>Asia</td>\n",
              "      <td>datsun 310 gx</td>\n",
              "    </tr>\n",
              "    <tr>\n",
              "      <th>384</th>\n",
              "      <td>32.0</td>\n",
              "      <td>4</td>\n",
              "      <td>144.0</td>\n",
              "      <td>96</td>\n",
              "      <td>2665</td>\n",
              "      <td>13.9</td>\n",
              "      <td>82</td>\n",
              "      <td>Asia</td>\n",
              "      <td>toyota celica gt</td>\n",
              "    </tr>\n",
              "  </tbody>\n",
              "</table>\n",
              "<p>79 rows × 9 columns</p>\n",
              "</div>"
            ],
            "text/plain": [
              "      mpg  cyl  displ  hp  weight  accel  yr origin                   name\n",
              "14   24.0    4  113.0  95    2372   15.0  70   Asia  toyota corona mark ii\n",
              "18   27.0    4   97.0  88    2130   14.5  70   Asia           datsun pl510\n",
              "29   27.0    4   97.0  88    2130   14.5  71   Asia           datsun pl510\n",
              "31   25.0    4  113.0  95    2228   14.0  71   Asia          toyota corona\n",
              "52   31.0    4   71.0  65    1773   19.0  71   Asia    toyota corolla 1200\n",
              "..    ...  ...    ...  ..     ...    ...  ..    ...                    ...\n",
              "376  34.0    4  108.0  70    2245   16.9  82   Asia         toyota corolla\n",
              "377  38.0    4   91.0  67    1965   15.0  82   Asia            honda civic\n",
              "378  32.0    4   91.0  67    1965   15.7  82   Asia     honda civic (auto)\n",
              "379  38.0    4   91.0  67    1995   16.2  82   Asia          datsun 310 gx\n",
              "384  32.0    4  144.0  96    2665   13.9  82   Asia       toyota celica gt\n",
              "\n",
              "[79 rows x 9 columns]"
            ]
          },
          "metadata": {
            "tags": []
          },
          "execution_count": 21
        }
      ]
    },
    {
      "cell_type": "markdown",
      "metadata": {
        "id": "oKL4CTyEYvvy"
      },
      "source": [
        "**Filtering and counting**\n",
        "\n",
        "How many automobiles were manufactured in Asia in the automobile dataset? \n",
        "\n",
        "The DataFrame has been provided for you as df. Use filtering and the .count() member method to determine the number of rows where the 'origin' column has the value 'Asia'.\n",
        "\n",
        "As an example, you can extract the rows that contain 'US' as the country of origin using df[df['origin'] == 'US'].\n",
        "\n",
        "**Possible Answers**\n",
        "\n",
        "- [ ] 68\n",
        "- [x] 79\n",
        "- [ ] 245\n",
        "- [ ] 392"
      ]
    },
    {
      "cell_type": "code",
      "metadata": {
        "colab": {
          "base_uri": "https://localhost:8080/"
        },
        "id": "QNTGBjU9YqUS",
        "outputId": "51c8e5d0-e064-468a-84b2-d6345d3d1f35"
      },
      "source": [
        "# Separate and summarize\n",
        "\n",
        "import pandas as pd\n",
        "fname = 'https://raw.githubusercontent.com/chesterheng/ai-for-industry/main/datasets/auto-mpg.csv'\n",
        "df = pd.read_csv(fname)\n",
        "\n",
        "# Compute the global mean and global standard deviation: global_mean, global_std\n",
        "global_mean = df.mean()\n",
        "global_std = df.std()\n",
        "\n",
        "# Filter the US population from the origin column: us\n",
        "us = df.loc[df['origin'] == 'US']\n",
        "\n",
        "# Compute the US mean and US standard deviation: us_mean, us_std\n",
        "us_mean = us.mean()\n",
        "us_std = us.std()\n",
        "\n",
        "# Print the differences\n",
        "print(us_mean - global_mean)\n",
        "print(us_std - global_std)"
      ],
      "execution_count": 22,
      "outputs": [
        {
          "output_type": "stream",
          "text": [
            "mpg        -3.412449\n",
            "cyl         0.805612\n",
            "displ      53.100255\n",
            "hp         14.579592\n",
            "weight    394.905612\n",
            "accel      -0.551122\n",
            "yr         -0.387755\n",
            "dtype: float64\n",
            "mpg       -1.364623\n",
            "cyl       -0.049788\n",
            "displ     -6.267657\n",
            "hp         1.406630\n",
            "weight   -54.055870\n",
            "accel     -0.022844\n",
            "yr        -0.023369\n",
            "dtype: float64\n"
          ],
          "name": "stdout"
        }
      ]
    },
    {
      "cell_type": "code",
      "metadata": {
        "colab": {
          "base_uri": "https://localhost:8080/",
          "height": 0
        },
        "id": "Fr5JB4FLZvIk",
        "outputId": "a86d3538-86c4-4638-d147-ba63f60b7545"
      },
      "source": [
        "# Separate and plot\n",
        "\n",
        "import pandas as pd\n",
        "fname = 'https://raw.githubusercontent.com/chesterheng/ai-for-industry/main/datasets/titanic.csv'\n",
        "titanic = pd.read_csv(fname)\n",
        "\n",
        "# Display the box plots on 3 separate rows and 1 column\n",
        "fig, axes = plt.subplots(nrows=3, ncols=1)\n",
        "\n",
        "# Generate a box plot of the fare prices for the First passenger class\n",
        "titanic.loc[titanic['pclass'] == 1].plot(ax=axes[0], y='fare', kind='box')\n",
        "\n",
        "# Generate a box plot of the fare prices for the Second passenger class\n",
        "titanic.loc[titanic['pclass'] == 2].plot(ax=axes[1], y='fare', kind='box')\n",
        "\n",
        "# Generate a box plot of the fare prices for the Third passenger class\n",
        "titanic.loc[titanic['pclass'] == 3].plot(ax=axes[2], y='fare', kind='box')\n",
        "\n",
        "# Display the plot\n",
        "plt.show()"
      ],
      "execution_count": 23,
      "outputs": [
        {
          "output_type": "display_data",
          "data": {
            "image/png": "[encoded data removed]",
            "text/plain": [
              "<Figure size 432x288 with 3 Axes>"
            ]
          },
          "metadata": {
            "tags": [],
            "needs_background": "light"
          }
        }
      ]
    },
    {
      "cell_type": "markdown",
      "metadata": {
        "id": "3FjOhslWaY5I"
      },
      "source": [
        "## 3. Time series in pandas"
      ]
    },
    {
      "cell_type": "code",
      "metadata": {
        "colab": {
          "base_uri": "https://localhost:8080/",
          "height": 817
        },
        "id": "t6e2WEmeaysz",
        "outputId": "5223ec6b-787a-4586-fd09-a15481878462"
      },
      "source": [
        "# Indexing time series\n",
        "\n",
        "import pandas as pd\n",
        "filename = 'https://raw.githubusercontent.com/chesterheng/ai-for-industry/main/datasets/weather_data_austin_2010.csv'\n",
        "\n",
        "df1 = pd.read_csv(filename)\n",
        "df2 = pd.read_csv(filename, parse_dates=['Date'])\n",
        "df3 = pd.read_csv(filename, index_col='Date', parse_dates=True)\n",
        "\n",
        "df3.loc['2010-Aug-01']"
      ],
      "execution_count": 24,
      "outputs": [
        {
          "output_type": "execute_result",
          "data": {
            "text/html": [
              "<div>\n",
              "<style scoped>\n",
              "    .dataframe tbody tr th:only-of-type {\n",
              "        vertical-align: middle;\n",
              "    }\n",
              "\n",
              "    .dataframe tbody tr th {\n",
              "        vertical-align: top;\n",
              "    }\n",
              "\n",
              "    .dataframe thead th {\n",
              "        text-align: right;\n",
              "    }\n",
              "</style>\n",
              "<table border=\"1\" class=\"dataframe\">\n",
              "  <thead>\n",
              "    <tr style=\"text-align: right;\">\n",
              "      <th></th>\n",
              "      <th>Temperature (deg F)</th>\n",
              "      <th>Dew Point (deg F)</th>\n",
              "      <th>Pressure (atm)</th>\n",
              "    </tr>\n",
              "    <tr>\n",
              "      <th>Date</th>\n",
              "      <th></th>\n",
              "      <th></th>\n",
              "      <th></th>\n",
              "    </tr>\n",
              "  </thead>\n",
              "  <tbody>\n",
              "    <tr>\n",
              "      <th>2010-08-01 00:00:00</th>\n",
              "      <td>79.0</td>\n",
              "      <td>70.8</td>\n",
              "      <td>1</td>\n",
              "    </tr>\n",
              "    <tr>\n",
              "      <th>2010-08-01 01:00:00</th>\n",
              "      <td>77.4</td>\n",
              "      <td>71.2</td>\n",
              "      <td>1</td>\n",
              "    </tr>\n",
              "    <tr>\n",
              "      <th>2010-08-01 02:00:00</th>\n",
              "      <td>76.4</td>\n",
              "      <td>71.3</td>\n",
              "      <td>1</td>\n",
              "    </tr>\n",
              "    <tr>\n",
              "      <th>2010-08-01 03:00:00</th>\n",
              "      <td>75.7</td>\n",
              "      <td>71.4</td>\n",
              "      <td>1</td>\n",
              "    </tr>\n",
              "    <tr>\n",
              "      <th>2010-08-01 04:00:00</th>\n",
              "      <td>75.1</td>\n",
              "      <td>71.4</td>\n",
              "      <td>1</td>\n",
              "    </tr>\n",
              "    <tr>\n",
              "      <th>2010-08-01 05:00:00</th>\n",
              "      <td>74.6</td>\n",
              "      <td>71.3</td>\n",
              "      <td>1</td>\n",
              "    </tr>\n",
              "    <tr>\n",
              "      <th>2010-08-01 06:00:00</th>\n",
              "      <td>74.5</td>\n",
              "      <td>71.3</td>\n",
              "      <td>1</td>\n",
              "    </tr>\n",
              "    <tr>\n",
              "      <th>2010-08-01 07:00:00</th>\n",
              "      <td>76.0</td>\n",
              "      <td>72.3</td>\n",
              "      <td>1</td>\n",
              "    </tr>\n",
              "    <tr>\n",
              "      <th>2010-08-01 08:00:00</th>\n",
              "      <td>79.8</td>\n",
              "      <td>72.8</td>\n",
              "      <td>1</td>\n",
              "    </tr>\n",
              "    <tr>\n",
              "      <th>2010-08-01 09:00:00</th>\n",
              "      <td>83.3</td>\n",
              "      <td>72.1</td>\n",
              "      <td>1</td>\n",
              "    </tr>\n",
              "    <tr>\n",
              "      <th>2010-08-01 10:00:00</th>\n",
              "      <td>86.6</td>\n",
              "      <td>71.1</td>\n",
              "      <td>1</td>\n",
              "    </tr>\n",
              "    <tr>\n",
              "      <th>2010-08-01 11:00:00</th>\n",
              "      <td>89.3</td>\n",
              "      <td>70.2</td>\n",
              "      <td>1</td>\n",
              "    </tr>\n",
              "    <tr>\n",
              "      <th>2010-08-01 12:00:00</th>\n",
              "      <td>91.6</td>\n",
              "      <td>69.1</td>\n",
              "      <td>1</td>\n",
              "    </tr>\n",
              "    <tr>\n",
              "      <th>2010-08-01 13:00:00</th>\n",
              "      <td>93.2</td>\n",
              "      <td>68.4</td>\n",
              "      <td>1</td>\n",
              "    </tr>\n",
              "    <tr>\n",
              "      <th>2010-08-01 14:00:00</th>\n",
              "      <td>94.4</td>\n",
              "      <td>67.6</td>\n",
              "      <td>1</td>\n",
              "    </tr>\n",
              "    <tr>\n",
              "      <th>2010-08-01 15:00:00</th>\n",
              "      <td>95.0</td>\n",
              "      <td>67.1</td>\n",
              "      <td>1</td>\n",
              "    </tr>\n",
              "    <tr>\n",
              "      <th>2010-08-01 16:00:00</th>\n",
              "      <td>94.8</td>\n",
              "      <td>66.8</td>\n",
              "      <td>1</td>\n",
              "    </tr>\n",
              "    <tr>\n",
              "      <th>2010-08-01 17:00:00</th>\n",
              "      <td>93.9</td>\n",
              "      <td>66.9</td>\n",
              "      <td>1</td>\n",
              "    </tr>\n",
              "    <tr>\n",
              "      <th>2010-08-01 18:00:00</th>\n",
              "      <td>92.4</td>\n",
              "      <td>66.7</td>\n",
              "      <td>1</td>\n",
              "    </tr>\n",
              "    <tr>\n",
              "      <th>2010-08-01 19:00:00</th>\n",
              "      <td>89.9</td>\n",
              "      <td>67.7</td>\n",
              "      <td>1</td>\n",
              "    </tr>\n",
              "    <tr>\n",
              "      <th>2010-08-01 20:00:00</th>\n",
              "      <td>86.1</td>\n",
              "      <td>68.6</td>\n",
              "      <td>1</td>\n",
              "    </tr>\n",
              "    <tr>\n",
              "      <th>2010-08-01 21:00:00</th>\n",
              "      <td>83.6</td>\n",
              "      <td>69.5</td>\n",
              "      <td>1</td>\n",
              "    </tr>\n",
              "    <tr>\n",
              "      <th>2010-08-01 22:00:00</th>\n",
              "      <td>81.8</td>\n",
              "      <td>70.3</td>\n",
              "      <td>1</td>\n",
              "    </tr>\n",
              "    <tr>\n",
              "      <th>2010-08-01 23:00:00</th>\n",
              "      <td>80.0</td>\n",
              "      <td>70.7</td>\n",
              "      <td>1</td>\n",
              "    </tr>\n",
              "  </tbody>\n",
              "</table>\n",
              "</div>"
            ],
            "text/plain": [
              "                     Temperature (deg F)  Dew Point (deg F)  Pressure (atm)\n",
              "Date                                                                       \n",
              "2010-08-01 00:00:00                 79.0               70.8               1\n",
              "2010-08-01 01:00:00                 77.4               71.2               1\n",
              "2010-08-01 02:00:00                 76.4               71.3               1\n",
              "2010-08-01 03:00:00                 75.7               71.4               1\n",
              "2010-08-01 04:00:00                 75.1               71.4               1\n",
              "2010-08-01 05:00:00                 74.6               71.3               1\n",
              "2010-08-01 06:00:00                 74.5               71.3               1\n",
              "2010-08-01 07:00:00                 76.0               72.3               1\n",
              "2010-08-01 08:00:00                 79.8               72.8               1\n",
              "2010-08-01 09:00:00                 83.3               72.1               1\n",
              "2010-08-01 10:00:00                 86.6               71.1               1\n",
              "2010-08-01 11:00:00                 89.3               70.2               1\n",
              "2010-08-01 12:00:00                 91.6               69.1               1\n",
              "2010-08-01 13:00:00                 93.2               68.4               1\n",
              "2010-08-01 14:00:00                 94.4               67.6               1\n",
              "2010-08-01 15:00:00                 95.0               67.1               1\n",
              "2010-08-01 16:00:00                 94.8               66.8               1\n",
              "2010-08-01 17:00:00                 93.9               66.9               1\n",
              "2010-08-01 18:00:00                 92.4               66.7               1\n",
              "2010-08-01 19:00:00                 89.9               67.7               1\n",
              "2010-08-01 20:00:00                 86.1               68.6               1\n",
              "2010-08-01 21:00:00                 83.6               69.5               1\n",
              "2010-08-01 22:00:00                 81.8               70.3               1\n",
              "2010-08-01 23:00:00                 80.0               70.7               1"
            ]
          },
          "metadata": {
            "tags": []
          },
          "execution_count": 24
        }
      ]
    },
    {
      "cell_type": "markdown",
      "metadata": {
        "id": "c3VAwlUMaeuO"
      },
      "source": [
        "**Reading and slicing times**\n",
        "\n",
        "For this exercise, we have read in the same data file using three different approaches:\n",
        "\n",
        "- `df1 = pd.read_csv(filename)`\n",
        "- `df2 = pd.read_csv(filename, parse_dates=['Date'])`\n",
        "- `df3 = pd.read_csv(filename, index_col='Date', parse_dates=True)`\n",
        "\n",
        "Use the `.head()` and `.info()` methods in the IPython Shell to inspect the DataFrames. Then, try to index each DataFrame with a datetime string. Which of the resulting DataFrames allows you to easily index and slice data by dates using, for example, `df1.loc['2010-Aug-01']`?\n",
        "\n",
        "**Possible Answers**\n",
        "\n",
        "- [ ] df1.\n",
        "- [ ] df1 and df2.\n",
        "- [ ] df2.\n",
        "- [ ] df2 and df3.\n",
        "- [x] df3."
      ]
    },
    {
      "cell_type": "code",
      "metadata": {
        "id": "yXVTgXP0b7e0"
      },
      "source": [
        "# Creating and using a DatetimeIndex\n",
        "\n",
        "import pandas as pd\n",
        "filename = 'https://raw.githubusercontent.com/chesterheng/ai-for-industry/main/datasets/weather_data_austin_2010.csv'\n",
        "df = pd.read_csv(filename)\n",
        "date_list = df['Date'].tolist()\n",
        "temperature_list = df['Temperature (deg F)'].tolist()\n",
        "\n",
        "# Prepare a format string: time_format\n",
        "time_format='%Y-%m-%d %H:%M'\n",
        "\n",
        "# Convert date_list into a datetime object: my_datetimes\n",
        "my_datetimes = pd.to_datetime(date_list, format=time_format)  \n",
        "\n",
        "# Construct a pandas Series using temperature_list and my_datetimes: time_series\n",
        "time_series = pd.Series(temperature_list, index=my_datetimes)"
      ],
      "execution_count": 25,
      "outputs": []
    },
    {
      "cell_type": "code",
      "metadata": {
        "id": "2DCcY2cIemyI"
      },
      "source": [
        "# Partial string indexing and slicing\n",
        "\n",
        "import pandas as pd\n",
        "filename = 'https://raw.githubusercontent.com/chesterheng/ai-for-industry/main/datasets/weather_data_austin_2010.csv'\n",
        "df = pd.read_csv(filename)\n",
        "date_list = df['Date'].tolist()\n",
        "\n",
        "temperature_list = df['Temperature (deg F)'].tolist()\n",
        "time_format='%Y-%m-%d %H:%M'\n",
        "\n",
        "my_datetimes = pd.to_datetime(date_list, format=time_format)  \n",
        "ts0 = pd.Series(temperature_list, index=my_datetimes)\n",
        "\n",
        "# Extract the hour from 9pm to 10pm on '2010-10-11': ts1\n",
        "ts1 = ts0.loc['2010-10-11 21:00:00':'2010-10-11 22:00:00']\n",
        "\n",
        "# Extract '2010-07-04' from ts0: ts2\n",
        "ts2 = ts0.loc['2010-07-04']\n",
        "\n",
        "# Extract data from '2010-12-15' to '2010-12-31': ts3\n",
        "ts3 = ts0.loc['2010-12-15':'2010-12-31']"
      ],
      "execution_count": 26,
      "outputs": []
    },
    {
      "cell_type": "code",
      "metadata": {
        "id": "mywKIyfhfNlg"
      },
      "source": [
        "# Reindexing the Index\n",
        "\n",
        "import pandas as pd\n",
        "filename = 'https://raw.githubusercontent.com/chesterheng/ai-for-industry/main/datasets/weather_data_austin_2010.csv'\n",
        "df = pd.read_csv(filename)\n",
        "date_list = df['Date'].tolist()\n",
        "\n",
        "temperature_list = df['Temperature (deg F)'].tolist()\n",
        "time_format='%Y-%m-%d %H:%M'\n",
        "\n",
        "my_datetimes = pd.to_datetime(date_list, format=time_format)  \n",
        "ts0 = pd.Series(temperature_list, index=my_datetimes)\n",
        "ts1 = ts0.loc['2010-07-01':'2010-07-17']\n",
        "ts2 = ts0.loc['2010-07-01':'2010-07-15']\n",
        "\n",
        "# Reindex without fill method: ts3\n",
        "ts3 = ts2.reindex(ts1.index)\n",
        "\n",
        "# Reindex with fill method, using forward fill: ts4\n",
        "ts4 = ts2.reindex(ts1.index, method='ffill')\n",
        "\n",
        "# Combine ts1 + ts2: sum12\n",
        "sum12 = ts1 + ts2\n",
        "\n",
        "# Combine ts1 + ts3: sum13\n",
        "sum13 = ts1 + ts3\n",
        "\n",
        "# Combine ts1 + ts4: sum14\n",
        "sum14 = ts1 + ts4"
      ],
      "execution_count": 27,
      "outputs": []
    },
    {
      "cell_type": "code",
      "metadata": {
        "id": "9cHIJV9vhEcB"
      },
      "source": [
        "# Resampling time series data\n",
        "\n",
        "import pandas as pd\n",
        "filename = 'https://raw.githubusercontent.com/chesterheng/ai-for-industry/main/datasets/weather_data_austin_2010.csv'\n",
        "\n",
        "df = pd.read_csv(filename, index_col='Date', parse_dates=True)\n",
        "df.rename(columns = {'Temperature (deg F)':'Temperature', \n",
        "                     'Dew Point (deg F)':'DewPoint', \n",
        "                     'Pressure (atm)':'Pressure'}, inplace = True)\n",
        "\n",
        "# Resampling and frequency\n",
        "\n",
        "# Downsample to 6 hour data and aggregate by mean: df1\n",
        "df1 = df['Temperature'].resample('6h').mean()\n",
        "\n",
        "# Downsample to daily data and count the number of data points: df2\n",
        "df2 = df['Temperature'].resample('D').count()"
      ],
      "execution_count": 28,
      "outputs": []
    },
    {
      "cell_type": "code",
      "metadata": {
        "id": "huTW3MvLsNnY"
      },
      "source": [
        "# Separating and resampling\n",
        "\n",
        "import pandas as pd\n",
        "filename = 'https://raw.githubusercontent.com/chesterheng/ai-for-industry/main/datasets/weather_data_austin_2010.csv'\n",
        "\n",
        "df = pd.read_csv(filename, index_col='Date', parse_dates=True)\n",
        "df.rename(columns = {'Temperature (deg F)':'Temperature', \n",
        "                     'Dew Point (deg F)':'DewPoint', \n",
        "                     'Pressure (atm)':'Pressure'}, inplace = True)\n",
        "\n",
        "# Extract temperature data for August: august\n",
        "august = df['Temperature']['2010-August']\n",
        "\n",
        "# Downsample to obtain only the daily highest temperatures in August: august_highs\n",
        "august_highs = august.resample('D').max()\n",
        "\n",
        "# Extract temperature data for February: february\n",
        "february = df['Temperature']['2010-Feb']\n",
        "\n",
        "# Downsample to obtain the daily lowest temperatures in February: february_lows\n",
        "february_lows = february.resample('D').min()"
      ],
      "execution_count": 29,
      "outputs": []
    },
    {
      "cell_type": "code",
      "metadata": {
        "colab": {
          "base_uri": "https://localhost:8080/",
          "height": 303
        },
        "id": "uv1EoUbGsuDa",
        "outputId": "b3498cd7-4786-4d0e-84f5-5ef797157a3a"
      },
      "source": [
        "# Rolling mean and frequency\n",
        "\n",
        "import pandas as pd\n",
        "filename = 'https://raw.githubusercontent.com/chesterheng/ai-for-industry/main/datasets/weather_data_austin_2010.csv'\n",
        "\n",
        "df = pd.read_csv(filename, index_col='Date', parse_dates=True)\n",
        "df.rename(columns = {'Temperature (deg F)':'Temperature', \n",
        "                     'Dew Point (deg F)':'DewPoint', \n",
        "                     'Pressure (atm)':'Pressure'}, inplace = True)\n",
        "\n",
        "# Extract data from 2010-Aug-01 to 2010-Aug-15: unsmoothed\n",
        "unsmoothed = df['Temperature']['2010-Aug-01':'2010-Aug-15']\n",
        "\n",
        "# Apply a rolling mean with a 24 hour window: smoothed\n",
        "smoothed = unsmoothed.rolling(window=24).mean()\n",
        "\n",
        "# Create a new DataFrame with columns smoothed and unsmoothed: august\n",
        "august = pd.DataFrame({'smoothed':smoothed, 'unsmoothed':unsmoothed})\n",
        "\n",
        "# Plot both smoothed and unsmoothed data using august.plot().\n",
        "august.plot()\n",
        "plt.show()"
      ],
      "execution_count": 30,
      "outputs": [
        {
          "output_type": "display_data",
          "data": {
            "image/png": "[encoded data removed]",
            "text/plain": [
              "<Figure size 432x288 with 1 Axes>"
            ]
          },
          "metadata": {
            "tags": [],
            "needs_background": "light"
          }
        }
      ]
    },
    {
      "cell_type": "code",
      "metadata": {
        "colab": {
          "base_uri": "https://localhost:8080/"
        },
        "id": "WUD4kSw5tV9j",
        "outputId": "384b42a2-9ae3-40c9-9fe9-406471dc6f96"
      },
      "source": [
        "# Resample and roll with it\n",
        "\n",
        "import pandas as pd\n",
        "filename = 'https://raw.githubusercontent.com/chesterheng/ai-for-industry/main/datasets/weather_data_austin_2010.csv'\n",
        "\n",
        "df = pd.read_csv(filename, index_col='Date', parse_dates=True)\n",
        "df.rename(columns = {'Temperature (deg F)':'Temperature', \n",
        "                     'Dew Point (deg F)':'DewPoint', \n",
        "                     'Pressure (atm)':'Pressure'}, inplace = True)\n",
        "\n",
        "# Extract the August 2010 data: august\n",
        "august = df['Temperature']['2010-Aug']\n",
        "\n",
        "# Resample to daily data, aggregating by max: daily_highs\n",
        "daily_highs = august.resample('D').max()\n",
        "\n",
        "# Use a rolling 7-day window with method chaining to smooth the daily high temperatures in August\n",
        "daily_highs_smoothed = august.resample('D').max().rolling(window=7).mean()\n",
        "print(daily_highs_smoothed)"
      ],
      "execution_count": 31,
      "outputs": [
        {
          "output_type": "stream",
          "text": [
            "Date\n",
            "2010-08-01          NaN\n",
            "2010-08-02          NaN\n",
            "2010-08-03          NaN\n",
            "2010-08-04          NaN\n",
            "2010-08-05          NaN\n",
            "2010-08-06          NaN\n",
            "2010-08-07    95.114286\n",
            "2010-08-08    95.142857\n",
            "2010-08-09    95.171429\n",
            "2010-08-10    95.171429\n",
            "2010-08-11    95.157143\n",
            "2010-08-12    95.128571\n",
            "2010-08-13    95.100000\n",
            "2010-08-14    95.042857\n",
            "2010-08-15    94.971429\n",
            "2010-08-16    94.900000\n",
            "2010-08-17    94.857143\n",
            "2010-08-18    94.828571\n",
            "2010-08-19    94.814286\n",
            "2010-08-20    94.785714\n",
            "2010-08-21    94.757143\n",
            "2010-08-22    94.742857\n",
            "2010-08-23    94.714286\n",
            "2010-08-24    94.642857\n",
            "2010-08-25    94.542857\n",
            "2010-08-26    94.428571\n",
            "2010-08-27    94.271429\n",
            "2010-08-28    94.100000\n",
            "2010-08-29    93.914286\n",
            "2010-08-30    93.742857\n",
            "2010-08-31    93.571429\n",
            "Freq: D, Name: Temperature, dtype: float64\n"
          ],
          "name": "stdout"
        }
      ]
    },
    {
      "cell_type": "code",
      "metadata": {
        "id": "kiX1elDdtrci"
      },
      "source": [
        "# Manipulating time series data\n",
        "\n",
        "# Method chaining and filtering\n",
        "\n",
        "import pandas as pd\n",
        "filename = 'https://raw.githubusercontent.com/chesterheng/ai-for-industry/main/datasets/austin_airport_departure_data_2015_july.csv'\n",
        "df = pd.read_csv(filename, header=10, index_col='Date (MM/DD/YYYY)', parse_dates=True)\n",
        "\n",
        "# Strip extra whitespace from the column names: df.columns\n",
        "df.columns = df.columns.str.strip()\n",
        "\n",
        "# Extract data for which the destination airport is Dallas: dallas\n",
        "dallas = df['Destination Airport'].str.contains('DAL')\n",
        "\n",
        "# Compute the total number of Dallas departures each day: daily_departures\n",
        "daily_departures = dallas.resample('D').sum()\n",
        "\n",
        "# Generate the summary statistics for daily Dallas departures: stats\n",
        "stats = daily_departures.describe()"
      ],
      "execution_count": 32,
      "outputs": []
    },
    {
      "cell_type": "code",
      "metadata": {
        "colab": {
          "base_uri": "https://localhost:8080/"
        },
        "id": "aEPuGC56xYKs",
        "outputId": "78c44874-3822-4f35-d28e-f78bb8a51a0a"
      },
      "source": [
        "# Missing values and interpolation\n",
        "\n",
        "import pandas as pd\n",
        "import numpy as np\n",
        "import datetime as dt\n",
        "\n",
        "data = np.array(range(0, 17))\n",
        "start_date = dt.datetime(2016, 7, 1)\n",
        "index = pd.date_range(start_date, periods=17)\n",
        "ts1 = pd.Series(data, index)\n",
        "\n",
        "data = np.array(range(0, 11))\n",
        "index1 = pd.date_range(start='2016-07-01', periods=1)\n",
        "index2 = pd.date_range(start='2016-07-04', end='2016-07-08')\n",
        "index3 = pd.date_range(start='2016-07-11', end='2016-07-15')\n",
        "index = index1.append(index2).append(index3)\n",
        "ts2 = pd.Series(data, index)\n",
        "\n",
        "# Reset the index of ts2 to ts1, and then use linear interpolation to fill in the NaNs: ts2_interp\n",
        "ts2_interp = ts2.reindex(ts1.index).interpolate(how='linear')\n",
        "\n",
        "# Compute the absolute difference of ts1 and ts2_interp: differences \n",
        "differences = np.abs(ts1 - ts2_interp)\n",
        "\n",
        "# Generate and print summary statistics of the differences\n",
        "print(differences.describe())"
      ],
      "execution_count": 33,
      "outputs": [
        {
          "output_type": "stream",
          "text": [
            "count    17.000000\n",
            "mean      2.882353\n",
            "std       1.585267\n",
            "min       0.000000\n",
            "25%       2.000000\n",
            "50%       2.666667\n",
            "75%       4.000000\n",
            "max       6.000000\n",
            "dtype: float64\n"
          ],
          "name": "stdout"
        }
      ]
    },
    {
      "cell_type": "code",
      "metadata": {
        "id": "iCBQh3eHzL15"
      },
      "source": [
        "# Time zones and conversion\n",
        "\n",
        "import pandas as pd\n",
        "filename = 'https://raw.githubusercontent.com/chesterheng/ai-for-industry/main/datasets/austin_airport_departure_data_2015_july.csv'\n",
        "df = pd.read_csv(filename, header=10, parse_dates=True)\n",
        "df.columns = df.columns.str.strip()\n",
        "\n",
        "# Build a Boolean mask to filter for the 'LAX' departure flights: mask\n",
        "mask = df['Destination Airport'] == 'LAX'\n",
        "\n",
        "# Use the mask to subset the data: la\n",
        "la = df[mask]\n",
        "\n",
        "# Combine two columns of data to create a datetime series: times_tz_none \n",
        "times_tz_none = pd.to_datetime( la['Date (MM/DD/YYYY)'] + ' ' + la['Wheels-off Time'] )\n",
        "\n",
        "# Localize the time to US/Central: times_tz_central\n",
        "times_tz_central = times_tz_none.dt.tz_localize('US/Central')\n",
        "\n",
        "# Convert the datetimes from US/Central to US/Pacific\n",
        "times_tz_pacific = times_tz_central.dt.tz_convert('US/Pacific')"
      ],
      "execution_count": 34,
      "outputs": []
    },
    {
      "cell_type": "code",
      "metadata": {
        "colab": {
          "base_uri": "https://localhost:8080/",
          "height": 525
        },
        "id": "R96UAQLWYW2t",
        "outputId": "10f3af93-ba78-4e38-b8a8-6fa122050608"
      },
      "source": [
        "# Time series visualization\n",
        "\n",
        "# Plotting time series, datetime indexing\n",
        "\n",
        "import pandas as pd\n",
        "filename = 'https://raw.githubusercontent.com/chesterheng/ai-for-industry/main/datasets/weather_data_austin_2010.csv'\n",
        "\n",
        "df = pd.read_csv(filename, parse_dates=True, usecols=['Temperature (deg F)', 'Date'])\n",
        "df.rename(columns = {'Temperature (deg F)':'Temperature'}, inplace = True)\n",
        "\n",
        "# Plot the raw data before setting the datetime index\n",
        "df.plot()\n",
        "plt.show()\n",
        "\n",
        "# Convert the 'Date' column into a collection of datetime objects: df.Date\n",
        "df.Date = pd.to_datetime(df.Date)\n",
        "\n",
        "# Set the index to be the converted 'Date' column\n",
        "df.set_index('Date', inplace=True)\n",
        "\n",
        "# Re-plot the DataFrame to see that the axis is now datetime aware!\n",
        "df.plot()\n",
        "plt.show()"
      ],
      "execution_count": 35,
      "outputs": [
        {
          "output_type": "display_data",
          "data": {
            "image/png": "[encoded data removed]",
            "text/plain": [
              "<Figure size 432x288 with 1 Axes>"
            ]
          },
          "metadata": {
            "tags": [],
            "needs_background": "light"
          }
        },
        {
          "output_type": "display_data",
          "data": {
            "image/png": "[encoded data removed]",
            "text/plain": [
              "<Figure size 432x288 with 1 Axes>"
            ]
          },
          "metadata": {
            "tags": [],
            "needs_background": "light"
          }
        }
      ]
    },
    {
      "cell_type": "code",
      "metadata": {
        "colab": {
          "base_uri": "https://localhost:8080/",
          "height": 595
        },
        "id": "QKZZZ04PZffw",
        "outputId": "91b96b78-7bca-4489-e82c-9af4f0d38fae"
      },
      "source": [
        "# Plotting date ranges, partial indexing\n",
        "\n",
        "import pandas as pd\n",
        "filename = 'https://raw.githubusercontent.com/chesterheng/ai-for-industry/main/datasets/weather_data_austin_2010.csv'\n",
        "\n",
        "df = pd.read_csv(filename, parse_dates=True, index_col='Date')\n",
        "df.rename(columns = {'Temperature (deg F)':'Temperature', \n",
        "                     'Dew Point (deg F)':'DewPoint', \n",
        "                     'Pressure (atm)':'Pressure'}, inplace = True)\n",
        "\n",
        "# Plot the summer data\n",
        "df.Temperature['2010-Jun':'2010-Aug'].plot()\n",
        "plt.show()\n",
        "plt.clf()\n",
        "\n",
        "# Plot the one week data\n",
        "df.Temperature['2010-06-10':'2010-06-17'].plot()\n",
        "plt.show()\n",
        "plt.clf()"
      ],
      "execution_count": 36,
      "outputs": [
        {
          "output_type": "display_data",
          "data": {
            "image/png": "[encoded data removed]",
            "text/plain": [
              "<Figure size 432x288 with 1 Axes>"
            ]
          },
          "metadata": {
            "tags": [],
            "needs_background": "light"
          }
        },
        {
          "output_type": "display_data",
          "data": {
            "image/png": "[encoded data removed]",
            "text/plain": [
              "<Figure size 432x288 with 1 Axes>"
            ]
          },
          "metadata": {
            "tags": [],
            "needs_background": "light"
          }
        },
        {
          "output_type": "display_data",
          "data": {
            "text/plain": [
              "<Figure size 432x288 with 0 Axes>"
            ]
          },
          "metadata": {
            "tags": []
          }
        }
      ]
    },
    {
      "cell_type": "markdown",
      "metadata": {
        "id": "qrxYrIJ4Z_a8"
      },
      "source": [
        "## 4. Case Study - Sunlight in Austin"
      ]
    },
    {
      "cell_type": "markdown",
      "metadata": {
        "id": "5XQED-wiaPGy"
      },
      "source": [
        "**What method should we use to read the data?**\n",
        "\n",
        "The first step in our analysis is to read in the data. Upon inspection with a certain system tool, we find that the data appears to be ASCII encoded with comma delimited columns, but has no header and no column labels. \n",
        "\n",
        "Which of the following is the best method to start with to read the data files?\n",
        "\n",
        "**Possible Answers**\n",
        "\n",
        "- [x] pd.read_csv()\n",
        "- [ ] pd.to_csv()\n",
        "- [ ] pd.read_hdf()\n",
        "- [ ] np.load()"
      ]
    },
    {
      "cell_type": "code",
      "metadata": {
        "colab": {
          "base_uri": "https://localhost:8080/"
        },
        "id": "oYVWYW76afFK",
        "outputId": "00caa0fa-2cfb-41c2-ce99-c627841ddaf2"
      },
      "source": [
        "# Reading in a data file\n",
        "\n",
        "# Import pandas\n",
        "import pandas as pd\n",
        "\n",
        "# Read in the data file: df\n",
        "data_file = 'https://raw.githubusercontent.com/chesterheng/ai-for-industry/main/datasets/NOAA_QCLCD_2011_hourly_13904.txt'\n",
        "df = pd.read_csv(data_file)\n",
        "\n",
        "# Print the output of df.head()\n",
        "print(df.head())\n",
        "\n",
        "# Read in the data file with header=None: df_headers\n",
        "df_headers = pd.read_csv(data_file, header=None)\n",
        "\n",
        "# Print the output of df_headers.head()\n",
        "print(df_headers.head())"
      ],
      "execution_count": 37,
      "outputs": [
        {
          "output_type": "stream",
          "text": [
            "   13904  20110101  0053  12  OVC045     ...  AA  .21  .22  .23 29.95.1  .24\n",
            "0  13904  20110101   153  12  OVC049     ...  AA                  30.02     \n",
            "1  13904  20110101   253  12  OVC060     ...  AA                  30.02     \n",
            "2  13904  20110101   353  12  OVC065     ...  AA                  30.04     \n",
            "3  13904  20110101   453  12  BKN070     ...  AA                  30.04     \n",
            "4  13904  20110101   553  12  BKN065     ...  AA                  30.06     \n",
            "\n",
            "[5 rows x 44 columns]\n",
            "      0         1    2   3       4  5      6   ... 37  38 39 40 41     42 43\n",
            "0  13904  20110101   53  12  OVC045     10.00  ...     AA           29.95   \n",
            "1  13904  20110101  153  12  OVC049     10.00  ...     AA           30.02   \n",
            "2  13904  20110101  253  12  OVC060     10.00  ...     AA           30.02   \n",
            "3  13904  20110101  353  12  OVC065     10.00  ...     AA           30.04   \n",
            "4  13904  20110101  453  12  BKN070     10.00  ...     AA           30.04   \n",
            "\n",
            "[5 rows x 44 columns]\n"
          ],
          "name": "stdout"
        }
      ]
    },
    {
      "cell_type": "code",
      "metadata": {
        "colab": {
          "base_uri": "https://localhost:8080/"
        },
        "id": "rP4REbJhbcXV",
        "outputId": "7fb5bc7c-a8ba-46d0-8f4c-922525f64767"
      },
      "source": [
        "# Re-assigning column names\n",
        "\n",
        "import pandas as pd\n",
        "\n",
        "# Read in the data file: df\n",
        "data_file = 'https://raw.githubusercontent.com/chesterheng/ai-for-industry/main/datasets/NOAA_QCLCD_2011_hourly_13904.txt'\n",
        "df = pd.read_csv(data_file, header=None)\n",
        "\n",
        "# Split on the comma to create a list: \n",
        "column_labels = 'Wban,date,Time,StationType,sky_condition,sky_conditionFlag,visibility,visibilityFlag,wx_and_obst_to_vision,wx_and_obst_to_visionFlag,dry_bulb_faren,dry_bulb_farenFlag,dry_bulb_cel,dry_bulb_celFlag,wet_bulb_faren,wet_bulb_farenFlag,wet_bulb_cel,wet_bulb_celFlag,dew_point_faren,dew_point_farenFlag,dew_point_cel,dew_point_celFlag,relative_humidity,relative_humidityFlag,wind_speed,wind_speedFlag,wind_direction,wind_directionFlag,value_for_wind_character,value_for_wind_characterFlag,station_pressure,station_pressureFlag,pressure_tendency,pressure_tendencyFlag,presschange,presschangeFlag,sea_level_pressure,sea_level_pressureFlag,record_type,hourly_precip,hourly_precipFlag,altimeter,altimeterFlag,junk'\n",
        "column_labels_list = column_labels.split(\",\")\n",
        "\n",
        "# Assign the new column labels to the DataFrame: df.columns\n",
        "df.columns = column_labels_list\n",
        "\n",
        "# Remove the appropriate columns: df_dropped\n",
        "list_to_drop = ['sky_conditionFlag',\n",
        " 'visibilityFlag',\n",
        " 'wx_and_obst_to_vision',\n",
        " 'wx_and_obst_to_visionFlag',\n",
        " 'dry_bulb_farenFlag',\n",
        " 'dry_bulb_celFlag',\n",
        " 'wet_bulb_farenFlag',\n",
        " 'wet_bulb_celFlag',\n",
        " 'dew_point_farenFlag',\n",
        " 'dew_point_celFlag',\n",
        " 'relative_humidityFlag',\n",
        " 'wind_speedFlag',\n",
        " 'wind_directionFlag',\n",
        " 'value_for_wind_character',\n",
        " 'value_for_wind_characterFlag',\n",
        " 'station_pressureFlag',\n",
        " 'pressure_tendencyFlag',\n",
        " 'pressure_tendency',\n",
        " 'presschange',\n",
        " 'presschangeFlag',\n",
        " 'sea_level_pressureFlag',\n",
        " 'hourly_precip',\n",
        " 'hourly_precipFlag',\n",
        " 'altimeter',\n",
        " 'record_type',\n",
        " 'altimeterFlag',\n",
        " 'junk']\n",
        "df_dropped = df.drop(list_to_drop, axis='columns')\n",
        "\n",
        "# Print the output of df_dropped.head()\n",
        "print(df_dropped.head())"
      ],
      "execution_count": 38,
      "outputs": [
        {
          "output_type": "stream",
          "text": [
            "    Wban      date  Time  ...  wind_direction station_pressure sea_level_pressure\n",
            "0  13904  20110101    53  ...             360            29.42              29.95\n",
            "1  13904  20110101   153  ...             340            29.49              30.01\n",
            "2  13904  20110101   253  ...             010            29.49              30.01\n",
            "3  13904  20110101   353  ...             350            29.51              30.03\n",
            "4  13904  20110101   453  ...             020            29.51              30.04\n",
            "\n",
            "[5 rows x 17 columns]\n"
          ],
          "name": "stdout"
        }
      ]
    },
    {
      "cell_type": "code",
      "metadata": {
        "colab": {
          "base_uri": "https://localhost:8080/"
        },
        "id": "umGkU_FOc13L",
        "outputId": "2d3b5d04-c310-4010-cd69-8e073f87d482"
      },
      "source": [
        "# Cleaning and tidying datetime data\n",
        "\n",
        "# Convert the date column to string: df_dropped['date']\n",
        "df_dropped['date'] = df_dropped['date'].astype(str)\n",
        "\n",
        "# Pad leading zeros to the Time column: df_dropped['Time']\n",
        "df_dropped['Time'] = df_dropped['Time'].apply(lambda x:'{:0>4}'.format(x))\n",
        "\n",
        "# Concatenate the new date and Time columns: date_string\n",
        "date_string = df_dropped['date'] + df_dropped['Time']\n",
        "\n",
        "# Convert the date_string Series to datetime: date_times\n",
        "date_times = pd.to_datetime(date_string, format='%Y%m%d%H%M')\n",
        "\n",
        "# Set the index to be the new date_times container: df_clean\n",
        "df_clean = df_dropped.set_index(date_times)\n",
        "\n",
        "# Print the output of df_clean.head()\n",
        "print(df_clean.head())"
      ],
      "execution_count": 39,
      "outputs": [
        {
          "output_type": "stream",
          "text": [
            "                      Wban      date  ... station_pressure  sea_level_pressure\n",
            "2011-01-01 00:53:00  13904  20110101  ...            29.42               29.95\n",
            "2011-01-01 01:53:00  13904  20110101  ...            29.49               30.01\n",
            "2011-01-01 02:53:00  13904  20110101  ...            29.49               30.01\n",
            "2011-01-01 03:53:00  13904  20110101  ...            29.51               30.03\n",
            "2011-01-01 04:53:00  13904  20110101  ...            29.51               30.04\n",
            "\n",
            "[5 rows x 17 columns]\n"
          ],
          "name": "stdout"
        }
      ]
    },
    {
      "cell_type": "code",
      "metadata": {
        "colab": {
          "base_uri": "https://localhost:8080/"
        },
        "id": "_5xDf77odDt9",
        "outputId": "e4343fc0-8ab4-4e4a-c500-c8487b70b796"
      },
      "source": [
        "# Cleaning the numeric columns\n",
        "\n",
        "# Print the dry_bulb_faren temperature between 8 AM and 9 AM on June 20, 2011\n",
        "print(df_clean.loc['2011-6-20 8:00:00':'2011-6-20 9:00:00', 'dry_bulb_faren'])\n",
        "\n",
        "# Convert the dry_bulb_faren column to numeric values: df_clean['dry_bulb_faren']\n",
        "df_clean['dry_bulb_faren'] = pd.to_numeric(df_clean['dry_bulb_faren'], errors='coerce')\n",
        "\n",
        "# Print the transformed dry_bulb_faren temperature between 8 AM and 9 AM on June 20, 2011\n",
        "print(df_clean.loc['2011-6-20 8:00:00':'2011-6-20 9:00:00', 'dry_bulb_faren'])\n",
        "\n",
        "# Convert the wind_speed and dew_point_faren columns to numeric values\n",
        "df_clean['wind_speed'] = pd.to_numeric(df_clean['wind_speed'], errors='coerce')\n",
        "df_clean['dew_point_faren'] = pd.to_numeric(df_clean['dew_point_faren'], errors='coerce')"
      ],
      "execution_count": 40,
      "outputs": [
        {
          "output_type": "stream",
          "text": [
            "2011-06-20 08:27:00     M\n",
            "2011-06-20 08:28:00     M\n",
            "2011-06-20 08:29:00     M\n",
            "2011-06-20 08:30:00     M\n",
            "2011-06-20 08:31:00     M\n",
            "2011-06-20 08:32:00     M\n",
            "2011-06-20 08:33:00     M\n",
            "2011-06-20 08:34:00     M\n",
            "2011-06-20 08:35:00     M\n",
            "2011-06-20 08:53:00    83\n",
            "Name: dry_bulb_faren, dtype: object\n",
            "2011-06-20 08:27:00     NaN\n",
            "2011-06-20 08:28:00     NaN\n",
            "2011-06-20 08:29:00     NaN\n",
            "2011-06-20 08:30:00     NaN\n",
            "2011-06-20 08:31:00     NaN\n",
            "2011-06-20 08:32:00     NaN\n",
            "2011-06-20 08:33:00     NaN\n",
            "2011-06-20 08:34:00     NaN\n",
            "2011-06-20 08:35:00     NaN\n",
            "2011-06-20 08:53:00    83.0\n",
            "Name: dry_bulb_faren, dtype: float64\n"
          ],
          "name": "stdout"
        }
      ]
    },
    {
      "cell_type": "code",
      "metadata": {
        "colab": {
          "base_uri": "https://localhost:8080/"
        },
        "id": "F4MXtlCWlsJW",
        "outputId": "6de2814b-d681-4719-bc42-c1893d16180c"
      },
      "source": [
        "# Statistical exploratory data analysis\n",
        "\n",
        "# Print the median of the dry_bulb_faren column\n",
        "print(df_clean['dry_bulb_faren'].median())\n",
        "\n",
        "# Print the median of the dry_bulb_faren column for the time range '2011-Apr':'2011-Jun'\n",
        "print(df_clean.loc['2011-Apr':'2011-Jun', 'dry_bulb_faren'].median())\n",
        "\n",
        "# Print the median of the dry_bulb_faren column for the month of January\n",
        "print(df_clean.loc['2011-Jan', 'dry_bulb_faren'].median())"
      ],
      "execution_count": 41,
      "outputs": [
        {
          "output_type": "stream",
          "text": [
            "72.0\n",
            "78.0\n",
            "48.0\n"
          ],
          "name": "stdout"
        }
      ]
    },
    {
      "cell_type": "code",
      "metadata": {
        "colab": {
          "base_uri": "https://localhost:8080/"
        },
        "id": "0qWPLyQJmB2l",
        "outputId": "a361fd9d-625c-4231-a4ec-cd5c7731c6e4"
      },
      "source": [
        "# Signal variance\n",
        "\n",
        "import pandas as pd\n",
        "filename = 'https://raw.githubusercontent.com/chesterheng/ai-for-industry/main/datasets/weather_data_austin_2010.csv'\n",
        "df.columns = df.columns.str.strip()\n",
        "\n",
        "df_climate = pd.read_csv(filename, parse_dates=True, index_col='Date')\n",
        "df_climate.rename(columns = {'Temperature (deg F)':'Temperature', \n",
        "                     'Dew Point (deg F)':'DewPoint', \n",
        "                     'Pressure (atm)':'Pressure'}, inplace = True)\n",
        "\n",
        "# Downsample df_clean by day and aggregate by mean: daily_mean_2011\n",
        "daily_mean_2011 = df_clean.resample('D').mean()\n",
        "\n",
        "# Extract the dry_bulb_faren column from daily_mean_2011 using .values: daily_temp_2011\n",
        "daily_temp_2011 = daily_mean_2011['dry_bulb_faren'].values\n",
        "\n",
        "# Downsample df_climate by day and aggregate by mean: daily_climate\n",
        "daily_climate = df_climate.resample('D').mean()\n",
        "\n",
        "# Extract the Temperature column from daily_climate using .reset_index(): daily_temp_climate\n",
        "daily_temp_climate = daily_climate.reset_index()['Temperature']\n",
        "\n",
        "# Compute the difference between the two arrays and print the mean difference\n",
        "difference = daily_temp_2011 - daily_temp_climate\n",
        "print(difference.mean())"
      ],
      "execution_count": 67,
      "outputs": [
        {
          "output_type": "stream",
          "text": [
            "1.3301831870056482\n"
          ],
          "name": "stdout"
        }
      ]
    },
    {
      "cell_type": "code",
      "metadata": {
        "colab": {
          "base_uri": "https://localhost:8080/"
        },
        "id": "fo88GdgupQP_",
        "outputId": "f661991c-4b24-4c71-cb7d-4fa2a19ea3d9"
      },
      "source": [
        "# Sunny or cloudy\n",
        "\n",
        "# Using df_clean, when is sky_condition 'CLR'?\n",
        "is_sky_clear = df_clean['sky_condition']=='CLR'\n",
        "\n",
        "# Filter df_clean using is_sky_clear\n",
        "sunny = df_clean.loc[is_sky_clear]\n",
        "\n",
        "# Resample sunny by day then calculate the max\n",
        "# sunny_daily_max = sunny.resample('D').max()\n",
        "sunny_daily_max = sunny.resample('D').agg(['max'])\n",
        "\n",
        "# See the result\n",
        "sunny_daily_max.head()\n",
        "\n",
        "# Using df_clean, when does sky_condition contain 'OVC'?\n",
        "is_sky_overcast = df_clean['sky_condition'].str.contains('OVC')\n",
        "\n",
        "# Filter df_clean using is_sky_overcast\n",
        "overcast = df_clean.loc[is_sky_overcast]\n",
        "\n",
        "# Resample overcast by day then calculate the max\n",
        "# overcast_daily_max = overcast.resample('D').max()\n",
        "overcast_daily_max = overcast.resample('D').agg(['max'])\n",
        "\n",
        "# See the result\n",
        "overcast_daily_max.head()\n",
        "\n",
        "# Calculate the mean of sunny_daily_max\n",
        "sunny_daily_max_mean = sunny_daily_max.mean()\n",
        "\n",
        "# Calculate the mean of overcast_daily_max\n",
        "overcast_daily_max_mean = overcast_daily_max.mean()\n",
        "\n",
        "# Print the difference (sunny minus overcast)\n",
        "print(sunny_daily_max_mean - overcast_daily_max_mean)"
      ],
      "execution_count": 105,
      "outputs": [
        {
          "output_type": "stream",
          "text": [
            "Wban             max    0.000000\n",
            "StationType      max    0.000000\n",
            "visibility       max    0.174359\n",
            "dry_bulb_faren   max    6.504304\n",
            "dew_point_faren  max   -4.339286\n",
            "wind_speed       max   -3.246062\n",
            "dtype: float64\n"
          ],
          "name": "stdout"
        }
      ]
    },
    {
      "cell_type": "code",
      "metadata": {
        "colab": {
          "base_uri": "https://localhost:8080/",
          "height": 319
        },
        "id": "pyHC8HSaGItA",
        "outputId": "75b23153-625f-45ff-c629-23ef9a618d98"
      },
      "source": [
        "# Visual exploratory data analysis\n",
        "\n",
        "# Weekly average temperature and visibility\n",
        "\n",
        "# Import matplotlib.pyplot as plt\n",
        "import matplotlib.pyplot as plt\n",
        "\n",
        "df_clean['visibility'] = pd.to_numeric(df_clean['visibility'], errors='coerce')\n",
        "\n",
        "# Select the visibility and dry_bulb_faren columns and resample them: weekly_mean\n",
        "weekly_mean = df_clean[['visibility','dry_bulb_faren']].resample('W').mean()\n",
        "\n",
        "# Print the output of weekly_mean.corr()\n",
        "print(weekly_mean.corr())\n",
        "\n",
        "# Plot weekly_mean with subplots=True\n",
        "weekly_mean.plot(subplots=True)\n",
        "plt.show()"
      ],
      "execution_count": 100,
      "outputs": [
        {
          "output_type": "stream",
          "text": [
            "                visibility  dry_bulb_faren\n",
            "visibility        1.000000        0.490328\n",
            "dry_bulb_faren    0.490328        1.000000\n"
          ],
          "name": "stdout"
        },
        {
          "output_type": "display_data",
          "data": {
            "image/png": "[encoded data removed]",
            "text/plain": [
              "<Figure size 432x288 with 2 Axes>"
            ]
          },
          "metadata": {
            "tags": [],
            "needs_background": "light"
          }
        }
      ]
    },
    {
      "cell_type": "code",
      "metadata": {
        "colab": {
          "base_uri": "https://localhost:8080/",
          "height": 266
        },
        "id": "mQg3JqjbVmqu",
        "outputId": "82bf4713-50fa-471c-b938-cc2f8ab080a3"
      },
      "source": [
        "# Daily hours of clear sky\n",
        "\n",
        "# Using df_clean, when is sky_condition 'CLR'?\n",
        "is_sky_clear = df_clean['sky_condition'] == 'CLR'\n",
        "\n",
        "# Resample is_sky_clear by day\n",
        "resampled = is_sky_clear.resample('D')\n",
        "\n",
        "# Calculate the number of sunny hours per day\n",
        "sunny_hours = resampled.sum()\n",
        "\n",
        "# Calculate the number of measured hours per day\n",
        "total_hours = resampled.count()\n",
        "\n",
        "# Calculate the fraction of hours per day that were sunny\n",
        "sunny_fraction = sunny_hours / total_hours\n",
        "\n",
        "# Make a box plot of sunny_fraction\n",
        "sunny_fraction.plot(kind='box')\n",
        "plt.show()"
      ],
      "execution_count": 104,
      "outputs": [
        {
          "output_type": "display_data",
          "data": {
            "image/png": "[encoded data removed]",
            "text/plain": [
              "<Figure size 432x288 with 1 Axes>"
            ]
          },
          "metadata": {
            "tags": [],
            "needs_background": "light"
          }
        }
      ]
    },
    {
      "cell_type": "code",
      "metadata": {
        "colab": {
          "base_uri": "https://localhost:8080/",
          "height": 265
        },
        "id": "8eF-kEQRWq9a",
        "outputId": "68b18311-81a8-423b-f2a8-377335ed9fba"
      },
      "source": [
        "# Heat or humidity\n",
        "\n",
        "# Resample dew_point_faren and dry_bulb_faren by Month, aggregating the maximum values: monthly_max\n",
        "monthly_max = df_clean[['dew_point_faren','dry_bulb_faren']].resample('M').max()\n",
        "\n",
        "# Generate a histogram with bins=8, alpha=0.5, subplots=True\n",
        "monthly_max.plot(kind='hist', bins=8, alpha=0.5, subplots=True)\n",
        "\n",
        "# Show the plot\n",
        "plt.show()"
      ],
      "execution_count": 106,
      "outputs": [
        {
          "output_type": "display_data",
          "data": {
            "image/png": "[encoded data removed]",
            "text/plain": [
              "<Figure size 432x288 with 2 Axes>"
            ]
          },
          "metadata": {
            "tags": [],
            "needs_background": "light"
          }
        }
      ]
    },
    {
      "cell_type": "code",
      "metadata": {
        "colab": {
          "base_uri": "https://localhost:8080/",
          "height": 283
        },
        "id": "tsUHWGp-Wu8g",
        "outputId": "17895703-ef1f-4ca2-aad3-80453ad2faed"
      },
      "source": [
        "# Probability of high temperatures\n",
        "\n",
        "# Extract the maximum temperature in August 2010 from df_climate: august_max\n",
        "august_max = df_climate.loc['2010-Aug','Temperature'].max()\n",
        "print(august_max)\n",
        "\n",
        "# Resample August 2011 temps in df_clean by day & aggregate the max value: august_2011\n",
        "august_2011 = df_clean.loc['2011-Aug','dry_bulb_faren'].resample('D').max()\n",
        "\n",
        "# Filter for days in august_2011 where the value exceeds august_max: august_2011_high\n",
        "august_2011_high = august_2011.loc[august_2011 > august_max]\n",
        "\n",
        "# Construct a CDF of august_2011_high\n",
        "# august_2011_high.plot(kind='hist', normed=True, cumulative=True, bins=25)\n",
        "august_2011_high.plot(kind='hist', density=True, cumulative=True, bins=25)\n",
        "\n",
        "# Display the plot\n",
        "plt.show()"
      ],
      "execution_count": 108,
      "outputs": [
        {
          "output_type": "stream",
          "text": [
            "95.3\n"
          ],
          "name": "stdout"
        },
        {
          "output_type": "display_data",
          "data": {
            "image/png": "[encoded data removed]",
            "text/plain": [
              "<Figure size 432x288 with 1 Axes>"
            ]
          },
          "metadata": {
            "tags": [],
            "needs_background": "light"
          }
        }
      ]
    }
  ]
}