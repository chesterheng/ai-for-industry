{
  "nbformat": 4,
  "nbformat_minor": 0,
  "metadata": {
    "colab": {
      "name": "08-04-conda-essentials.ipynb",
      "provenance": []
    },
    "kernelspec": {
      "name": "python3",
      "display_name": "Python 3"
    }
  },
  "cells": [
    {
      "cell_type": "code",
      "metadata": {
        "id": "Pbz02P0irAOd"
      },
      "source": [
        "# Conda Essentials\n",
        "## 1. Installing Packages\n",
        "## 2. Utilizing Channels\n",
        "## 3. Working with Environments\n",
        "## 4. Case Study on Using Environments"
      ],
      "execution_count": null,
      "outputs": []
    },
    {
      "cell_type": "markdown",
      "metadata": {
        "id": "VWT_sZq5rUd2"
      },
      "source": [
        "## 1. Installing Packages"
      ]
    },
    {
      "cell_type": "markdown",
      "metadata": {
        "id": "wojSAjVUrVF5"
      },
      "source": [
        "**What are packages and why are they needed?**\n",
        "\n",
        "Conda packages are files containing a bundle of resources: usually libraries and executables, but not always. In principle, Conda packages can include data, images, notebooks, or other assets. The command-line tool conda is used to install, remove and examine packages; other tools such as the GUI Anaconda Navigator also expose the same capabilities. This course focuses on the conda tool itself (you'll see use cases other than package management in later chapters).\n",
        "\n",
        "Conda packages are most widely used with Python, but that's not all. Nothing about the Conda package format or the conda tool itself assumes any specific programming language. Conda packages can also be used for bundling libraries in other languages (like R, Scala, Julia, etc.) or simply for distributing pure binary executables generated from any programming language.\n",
        "\n",
        "One of the powerful aspects of conda—both the tool and the package format—is that dependencies are taken care of. That is, when you install any Conda package, any other packages needed get installed automatically. Tracking and determining software dependencies is a hard problem that package managers like Conda are designed to solve.\n",
        "\n",
        "A Conda package, then, is a file containing all files needed to make a given program execute correctly on a given system. Moreover, a Conda package can contain binary artifacts specific to a particular platform or operating system. Most packages (and their dependencies) are available for Windows (win-32 or win-64), for OSX (osx-64), and for Linux (linux-32 or linux-64). A small number of Conda packages are available for more specialized platforms (e.g., Raspberry Pi 2 or POWER8 LE). As a user, you do not need to specify the platform since Conda will simply choose the Conda package appropriate for the platform you are using.\n",
        "\n",
        "What feature is NOT true of Conda packages?\n",
        "\n",
        "**Possible Answers**\n",
        "\n",
        "- [ ] The Conda package format is programming-language and asset-type independent.\n",
        "- [x] Each package contains binary artifacts (executables) for all supported platforms.\n",
        "- [ ] Packages contain a description of all dependencies, all of which are installed together.\n",
        "- [ ] The tool conda can be used to install, examine, or remove packages from a working system.\n",
        "- [ ] Other GUI or web-based tools can be used as a wrapper for the tool conda for package management."
      ]
    },
    {
      "cell_type": "markdown",
      "metadata": {
        "id": "7TYfaqe3tYTR"
      },
      "source": [
        "**What version of conda do I have?**\n",
        "\n",
        "`conda --version`"
      ]
    },
    {
      "cell_type": "markdown",
      "metadata": {
        "id": "R2p9v5PutjEV"
      },
      "source": [
        "**Install a conda package (I)**\n",
        "\n",
        "Just as you can get help on conda as a whole, you can get help on commands within it. You will often use the command conda install; you can look at the corresponding help documentation using the terminal window. That is, run conda install --help and read through the output.\n",
        "\n",
        "How is the positional argument package_spec defined in the documentation for conda install?\n",
        "\n",
        "**Possible Answers**\n",
        "\n",
        "- [ ] Show packages installed into the conda environment.\n",
        "- [ ] Packages to download onto the working system.\n",
        "- [ ] Read package versions from the given file.\n",
        "- [x] Packages to install into the conda environment."
      ]
    },
    {
      "cell_type": "markdown",
      "metadata": {
        "id": "qj2js9mbtzVH"
      },
      "source": [
        "**Install a conda package (II)**\n",
        "\n",
        "```\n",
        "# The --yes flag is added here to avoid interactivity when  \n",
        "# the course builds. It isn't required to complete the \n",
        "# exercise.\n",
        "conda install cytoolz --yes\n",
        "```"
      ]
    },
    {
      "cell_type": "markdown",
      "metadata": {
        "id": "zAranPUXt_X4"
      },
      "source": [
        "**What is semantic versioning?**\n",
        "\n",
        "Most Conda packages use a system called semantic versioning to identify distinct versions of a software package unambiguously. Version labels are usually chosen by the project authors, not necessarily the same people who bundle the project as a Conda package. There is no technical requirement that a project author's version label coincides with a Conda package version label, but the convention of doing so is almost always followed. Semantic version labels can be compared lexicographically and make it easy to determine which of two versions is the later version.\n",
        "\n",
        "Under semantic versioning, software is labeled with a three-part version identifier of the form MAJOR.MINOR.PATCH; the label components are non-negative integers separated by periods. Assuming all software starts at version 0.0.0, the MAJOR version number is increased when significant new functionality is introduced (often with corresponding API changes). Increases in the MINOR version number generally reflect improvements (e.g., new features) that avoid backward-incompatible API changes. For instance, adding an optional argument to a function API (in a way that allows old code to run unchanged) is a change worthy of increasing the MINOR version number. An increment to the PATCH version number is appropriate mostly for bug fixes that preserve the same MAJOR and MINOR revision numbers. Software patches do not typically introduce new features or change APIs at all (except sometimes to address security issues).\n",
        "\n",
        "Many command-line tools display their version identifier by running tool --version. This information can sometimes be displayed or documented in other ways. For example, suppose on some system, a certain version of Python is installed, and you inquire about it like this:\n",
        "\n",
        "```\n",
        "python -c \"import sys; sys.version\"\n",
        "'1.0.1 (Mar 26 2014)'\n",
        "```\n",
        "\n",
        "Looking at the output above, which statement below accurately characterizes the semantic versioning of this installed Python?\n",
        "\n",
        "**Possible Answers**\n",
        "\n",
        "- [ ] The MAJOR version is 0, the MINOR version is 1.\n",
        "- [ ] The MAJOR version is 1, the PATCH is Mar 26 2014.\n",
        "- [x] The MAJOR version is 1, the PATCH is 1.\n",
        "- [ ] The MAJOR version is 1.0, the PATCH is 1.\n",
        "- [ ] This ancient version of Python did not use semantic versioning.\n"
      ]
    },
    {
      "cell_type": "markdown",
      "metadata": {
        "id": "r7qmVTW4uQka"
      },
      "source": [
        "**Which package version is installed?**\n",
        "\n",
        "Because conda installs packages automatically, it's hard to know which package versions are actually on your system. That is, packages you didn't install explicitly get installed for you to resolve another package's dependencies.\n",
        "\n",
        "Fortunately, the command conda list comes to your aid to query the current state. By itself, this lists all packages currently installed.\n",
        "You can use `conda list --help` to see how to extract specific packages from that list or how to display it in different formats.\n",
        "\n",
        "Select the exact version of the package requests installed in the current session.\n",
        "\n",
        "**Possible Answers**\n",
        "\n",
        "- [ ] py36_0\n",
        "- [ ] 4.7.5\n",
        "- [x] 2.22.0\n",
        "- [ ] 7.0"
      ]
    },
    {
      "cell_type": "markdown",
      "metadata": {
        "id": "dR9aGYvMug8B"
      },
      "source": [
        "**Install a specific version of a package (I)**\n",
        "\n",
        "```\n",
        "# The --yes flag is added here to avoid interactivity when  \n",
        "# the course builds. It isn't required to complete the \n",
        "# exercise.\n",
        "conda install attrs=17.3 --yes\n",
        "```"
      ]
    },
    {
      "cell_type": "markdown",
      "metadata": {
        "id": "Dg7IjHu3urj0"
      },
      "source": [
        "**Install a specific version of a package (II)**\n",
        "\n",
        "Most commonly, you'll use prefix-notation to specify the package version(s) to install. But conda offers even more powerful comparison operations to narrow versions. For example, if you wish to install either bar-lib versions 1.0, 1.4 or 1.4.1b2, but definitely not version 1.1, 1.2 or 1.3, you could use:\n",
        "\n",
        "`conda install 'bar-lib=1.0|1.4*'`\n",
        "\n",
        "This may seem odd, but you might know, for example, that a bug was introduced in 1.1 that wasn't fixed until 1.4. You would prefer the 1.4 series, but, if it is incompatible with other packages, you can settle for 1.0. Notice we have used single quotes around the version expression in this case because several of the symbols in these more complex patterns have special meanings in terminal shells. It is easiest just to quote them.\n",
        "\n",
        "With conda you can also use inequality comparisons to select candidate versions (still resolving dependency consistency). Maybe the bug above was fixed in 1.3.5, and you would like either the latest version available (perhaps even 1.5 or 2.0 have come out), but still avoiding versions 1.1 through 1.3.4. You could spell that as:\n",
        "\n",
        "`conda install 'bar-lib>1.3.4,<1.1'`\n",
        "\n",
        "For this exercise, install the latest compatible version of attrs that is later than version 16, but earlier than version 17.3. \n",
        "\n",
        "Which version gets installed?\n",
        "\n",
        "**Possible Answers**\n",
        "\n",
        "- [ ] 16.3.0\n",
        "- [x] 17.2.0\n",
        "- [ ] 17.2.1\n",
        "- [ ] 17.2.3\n",
        "- [ ] 17.3.0\n",
        "- [ ] No compatible version was found"
      ]
    },
    {
      "cell_type": "markdown",
      "metadata": {
        "id": "7C-CIRFrvDir"
      },
      "source": [
        "**Update a conda package**\n",
        "\n",
        "```\n",
        "# The --yes flag is added here to avoid interactivity when  \n",
        "# the course builds. It isn't required to complete the \n",
        "# exercise.\n",
        "conda update pandas --yes\n",
        "```"
      ]
    },
    {
      "cell_type": "markdown",
      "metadata": {
        "id": "C1mP8A7mvVG4"
      },
      "source": [
        "**Remove a conda package**\n",
        "\n",
        "```\n",
        "conda remove pandas -y\n",
        "```"
      ]
    },
    {
      "cell_type": "markdown",
      "metadata": {
        "id": "VNT10aMcvYzf"
      },
      "source": [
        "**Search for available package versions?**\n",
        "\n",
        "```\n",
        "conda search attrs\n",
        "```"
      ]
    },
    {
      "cell_type": "markdown",
      "metadata": {
        "id": "Ihkindw6G9Vv"
      },
      "source": [
        "**Find dependencies for a package version?**\n",
        "\n",
        "The conda search package_name --info command reports a variety of details about a specific package. The syntax for specifying just one version is a little bit complex, but prefix notation is allowed here (just as you would with conda install).\n",
        "\n",
        "For example, running conda search cytoolz=0.8.2 --info will report on all available package versions. As this package has been built for a variety of Python versions, a number of packages will be reported on. You can narrow your query further with, e.g.:\n",
        "\n",
        "```\n",
        "$ conda search cytoolz=0.8.2=py36_0 --info\n",
        "\n",
        "cytoolz 0.8.2 py36_0\n",
        "<hr />-----------------\n",
        "file name   : cytoolz-0.8.2-py36_0.tar.bz2\n",
        "name        : cytoolz\n",
        "version     : 0.8.2\n",
        "build string: py36_0\n",
        "build number: 0\n",
        "channel     : https://repo.anaconda.com/pkgs/free/osx-64\n",
        "size        : 352 KB\n",
        "arch        : x86_64\n",
        "constrains  : ()\n",
        "date        : 2016-12-23\n",
        "license     : BSD\n",
        "md5         : cd6068b2389b1596147cc7218f0438fd\n",
        "platform    : darwin\n",
        "subdir      : osx-64\n",
        "url         : https://repo.anaconda.com/pkgs/free/osx-64/cytoolz-0.8.2-py36_0.tar.bz2\n",
        "dependencies:\n",
        "    python 3.6*\n",
        "    toolz >=0.8.0\n",
        "```\n",
        "\n",
        "You may use the * wildcard within the match pattern. This is often useful to match 'foo=1.2.3=py36*' because recent builds have attached the hash of the build at the end of the Python version string, making the exact match unpredictable.\n",
        "\n",
        "Determine the dependencies of the package numpy 1.13.1 with Python 3.6.0 on your current platform.\n",
        "\n",
        "**Possible Answers**\n",
        "\n",
        "- [ ] `libgcc-ng >=7.2.0, libgfortran-ng >=7.2.0,<8.0a0, python >=2.7,<2.8.0a0, mkl >=2019.0.0, and blas * mkl`\n",
        "- [ ] `libgcc-ng >=7.3.0, libgfortran-ng >=7.2.0, python >=3.5, mkl >=2018.0.0, and blas * mkl`\n",
        "- [ ] `libgcc-ng >=7.2.0, libgfortran-ng >=7.2.0,<8.0a0, python >=2.7,<2.8.0a0, mkl >=2019.0.0,<2019.0a0, and blas * mkl`\n",
        "- [x] `libgcc-ng >=7.2.0, libgfortran-ng >=7.2.0,<8.0a0, python >=3.6,<3.7.0a0, mkl >=2018.0.0,<2019.0a0, and blas * mkl`\n",
        "- [ ] `libgcc-ng >=7.3.0, libgfortran-ng >=7.2.0,<8.0a0, python >=3.6,<3.7.0a0, mkl >=2019.0.0,<2019.0a0, and blas * mkl`"
      ]
    },
    {
      "cell_type": "markdown",
      "metadata": {
        "id": "UeCNPgIQHgPS"
      },
      "source": [
        "## 2. Utilizing Channels"
      ]
    },
    {
      "cell_type": "markdown",
      "metadata": {
        "id": "_Ks_b-CNHhEe"
      },
      "source": [
        "**Channels and why are they needed?**\n",
        "\n",
        "All Conda packages we've seen so far were published on the main or default channel of Anaconda Cloud. A Conda channel is an identifier of a path (e.g., as in a web address) from which Conda packages can be obtained. Using the public cloud, installing without specifying a channel points to the main channel at https://repo.anaconda.com/pkgs/main; where hundreds of packages are available. Although covering a wide swath, the main channel contains only packages that are (moderately) curated by Anaconda Inc. Given finite resources and a particular area focus, not all genuinely worthwhile packages are vetted by Anaconda Inc.\n",
        "\n",
        "If you happen to be working in a firewalled or airgapped environment with a private installation of Anaconda Repository, your default channel may point to a different (internal) URL, but the same concepts will apply.\n",
        "\n",
        "Anyone may register for an account with Anaconda Cloud, thereby creating their own personal Conda channel. This is covered in the companion course Conda for Building & Distributing Packages (along with creating and uploading your own packages). For this course, just understand that many users have accounts and corresponding channels.\n",
        "\n",
        "Which description best characterizes Conda channels?\n",
        "\n",
        "**Possible Answers**\n",
        "\n",
        "- [ ] Channels aggregate software servicing a related purpose.\n",
        "- [ ] Channels automate curation of software packages.\n",
        "- [x] Channels are a means for a user to publish packages independently.\n",
        "- [ ] Channels are required to work around firewall or airgap access restrictions.\n"
      ]
    },
    {
      "cell_type": "markdown",
      "metadata": {
        "id": "aK0enB1YI6gQ"
      },
      "source": [
        "**Searching within channels**\n",
        "\n",
        "If a particular colleague or other recognized user may have published a package useful to you, you can search for it using the anaconda search command. For example, David Mertz, the principal author of this course, has a channel and Anaconda Cloud account called davidmertz. You can search his channel using the command below; the option --channel (or -c for short) specifies the channel to search. Particular users may have published more niche software you would like to use; for example, colleagues of yours may publish packages of special use in your field or topic area.\n",
        "\n",
        "```\n",
        "$ conda search --channel davidmertz --override-channels --platform linux-64\n",
        "Loading channels: done\n",
        "Name                       Version                   Build  Channel\n",
        "accelerate                 2.2.0               np110py27_2  davidmertz\n",
        "accelerate                 2.2.0               np110py35_2  davidmertz\n",
        "accelerate-dldist          0.1                 np110py27_1  davidmertz\n",
        "accelerate-dldist          0.1                 np110py35_1  davidmertz\n",
        "accelerate-gensim          0.12.3             np110py27_96  davidmertz\n",
        "accelerate-gensim          0.12.3             np110py35_96  davidmertz\n",
        "accelerate-skimage         0.1.0                    py27_1  davidmertz\n",
        "accelerate-skimage         0.1.0                    py35_1  davidmertz\n",
        "constants                  0.0.2                    py35_0  davidmertz\n",
        "humidity                   0.1              py36ha038022_0  davidmertz\n",
        "textadapter                2.0.0                    py27_0  davidmertz\n",
        "textadapter                2.0.0                    py35_0  davidmertz\n",
        "textadapter                2.0.0                    py36_0  davidmertz\n",
        "```\n",
        "\n",
        "In this case, the switch --override-channels is used to prevent searching on default channels. The switch --platform is used to select a platform that may differ from the one on which the search is run (absent the switch, the current computer's platform is used).\n",
        "\n",
        "The first search is unusual in that it does not specify a package name, which is more typical actual use. For example, you might want to know which versions of the package of textadapter for the win-64 platform are available for any version of Python (assuming you know in which channels to look):\n",
        "\n",
        "```\n",
        "$ conda search -c conda-forge -c sseefeld -c gbrener --platform win-64 textadapter\n",
        "Loading channels: done\n",
        "Name                       Version                   Build  Channel\n",
        "textadapter                2.0.0                    py27_0  conda-forge\n",
        "textadapter                2.0.0                    py27_0  sseefeld\n",
        "textadapter                2.0.0                    py34_0  sseefeld\n",
        "textadapter                2.0.0                    py35_0  conda-forge\n",
        "textadapter                2.0.0                    py35_0  sseefeld\n",
        "textadapter                2.0.0                    py36_0  sseefeld\n",
        "```\n",
        "\n",
        "Based on the examples shown, in which of the channels used in the examples above could you find an osx-64 version of textadapter for Python 3.6?\n",
        "\n",
        "**Possible Answers**\n",
        "\n",
        "- [ ] sseefeld, conda-forge\n",
        "- [ ] gbrener, ssefeld\n",
        "- [x] davidmertz\n",
        "- [ ] conda-forge\n",
        "- [ ] gbrener, davidmertz\n",
        "- [ ] sseefeld\n",
        "- [ ] davidmertz, conda-forge, gbrener"
      ]
    },
    {
      "cell_type": "markdown",
      "metadata": {
        "id": "pBVHcCymKBUr"
      },
      "source": [
        "**Searching across channels**\n",
        "\n",
        "Although the conda command and its subcommands are used for nearly everything in this course, the package anaconda-client provides the command anaconda that searches in a different manner that is often more useful. For instance, you may know the name of the textadapter package, but you may not know in which channel (or channels) it may be published (or by which users). You can search across all channels and all platforms using:\n",
        "\n",
        "```\n",
        "$ anaconda search textadapter\n",
        "Using Anaconda API: https://api.anaconda.org\n",
        "Packages:\n",
        "     Name                      |  Version | Package Types   | Platforms       | Builds\n",
        "     ------------------------- |   ------ | --------------- | --------------- | ----------\n",
        "     DavidMertz/textadapter    |    2.0.0 | conda           | linux-64, osx-64 | py36_0, py35_0, py27_0\n",
        "     conda-forge/textadapter   |    2.0.0 | conda           | linux-64, win-32, osx-64, win-64 | py35_0, py27_0\n",
        "     gbrener/textadapter       |    2.0.0 | conda           | linux-64, osx-64 | py35_0, py27_0\n",
        "                                          : python interface Amazon S3, and large data files\n",
        "     sseefeld/textadapter      |    2.0.0 | conda           | win-64          | py36_0, py34_0, py35_0, py27_0\n",
        "                                          : python interface Amazon S3, and large data files\n",
        "Found 4 packages\n",
        "```\n",
        "\n",
        "Following this example, use anaconda search to determine the latest available version of the package boltons.\n",
        "\n",
        "Possible Answers\n",
        "\n",
        "- [ ] 0.2\n",
        "- [ ] 15.0.1\n",
        "- [ ] 16.4.1\n",
        "- [ ] 17.1.0\n",
        "- [ ] 19.2.0\n",
        "- [x] 20.0.0"
      ]
    },
    {
      "cell_type": "markdown",
      "metadata": {
        "id": "hSo3MlUZKRqs"
      },
      "source": [
        "**Default, non-default, and special channels**\n",
        "\n",
        "The default channel on Anaconda Cloud is curated by Anaconda Inc., but another channel called conda-forge also has a special status. This channel does not operate any differently than other channels, whether those others are associated with an individual or organization, but it acts as a kind of \"community curation\" of relatively well-vetted packages. The GitHub page for the conda-forge project at https://github.com/conda-forge describes it as: \"A community led collection of recipes, build infrastructure and distributions for the conda package manager.\"\n",
        "\n",
        "Apart from the somewhat more organized conda-forge channel/project, Anaconda Cloud channels are relatively anarchic. Much like GitHub repos or packages on the Python Package Index (PyPI), anyone is free to upload whatever projects they like to conda-forge (as long as they are assembled as Conda packages, that is, but this is a minor restriction).\n",
        "\n",
        "You should generally trust or rely only on packages sourced from reputable channels. There is no inherent rating system for channels or their packages. However, you are likely to trust your colleagues, your organization, well-known people in your software or data science communities, and so on.\n",
        "\n",
        "conda-forge is almost certainly the most widely used channel on Anaconda Cloud. In fact, it has very many more packages than the main channel itself. Use the tools from this course to make a rough estimate of the number of packages available on the conda-forge channel for the linux-64 platform (i.e., the platform used for this session).\n",
        "\n",
        "**Possible Answers**\n",
        "\n",
        "- [ ] About 5 thousand\n",
        "- [ ] About 10 thousand\n",
        "- [ ] About 30 thousand\n",
        "- [x] About 100 thousand\n",
        "- [ ] About a million"
      ]
    },
    {
      "cell_type": "markdown",
      "metadata": {
        "id": "G_MGzIdrKexu"
      },
      "source": [
        "**Installing from a channel**\n",
        "\n",
        "```\n",
        "conda install -c conda-forge youtube-dl -y --no-deps\n",
        "conda list\n",
        "```"
      ]
    },
    {
      "cell_type": "markdown",
      "metadata": {
        "id": "zmX8lw5tKunf"
      },
      "source": [
        "## 3. Working with Environments"
      ]
    },
    {
      "cell_type": "markdown",
      "metadata": {
        "id": "u287KI_pKvZ_"
      },
      "source": [
        "**Environments and why are they needed?**\n",
        "\n",
        "Conda environments allow multiple incompatible versions of the same (software) package to coexist on your system. An environment is simply a file path containing a collection of mutually compatible packages. By isolating distinct versions of a given package (and their dependencies) in distinct environments, those versions are all available to work on particular projects or tasks.\n",
        "\n",
        "There are a large number of reasons why it is best practice to use environments, whether as a data scientist, software developer, or domain specialist. Without the concept of environments, users essentially rely on and are restricted to whichever particular package versions are installed globally (or in their own user accounts) on a particular machine. Even when one user moves scripts between machines (or shares them with a colleague), the configuration is often inconsistent in ways that interfere with seamless functionality. Conda environments solve both these problems. You can easily maintain and switch between as many environments as you like, and each one has exactly the collection of packages that you want.\n",
        "\n",
        "For example, you may develop a project comprising scripts, notebooks, libraries, or other resources that depend on a particular collection of package versions. You later want to be able to switch flexibly to newer versions of those packages and to ensure the project continues to function properly before switching wholly. Or likewise, you may want to share code with colleagues who are required to use certain package versions. In this context, an environment is a way of documenting a known set of packages that correctly support your project.\n",
        "\n",
        "Which statement is true of Conda environments?\n",
        "\n",
        "**Possible Answers**\n",
        "\n",
        "- [ ] Conda environments allow using any versions of software together.\n",
        "- [ ] Conda environments bundle a project into a self-contained runtime.\n",
        "- [ ] Conda environments virtualize the operating system that runs in them.\n",
        "- [x] Conda environments allow for flexible version management of packages.\n"
      ]
    },
    {
      "cell_type": "markdown",
      "metadata": {
        "id": "IQ7COVhTLBoK"
      },
      "source": [
        "**Which environment am I using?**\n",
        "\n",
        "When using conda, you are always in some environment, but it may be the default (called the base or root environment). Your current environment has a name and contains a collection of packages currently associated with that environment. There are a few ways to determine the current environment.\n",
        "\n",
        "Most obviously, at a terminal prompt, the name of the current environment is usually prepended to the rest of your prompt in parentheses. Alternatively, the subcommand conda env list displays a list of all environments on your current system; the currently activated one is marked with an asterisk in the middle column. The subcommands of conda env (sometimes with suitable switches) encompass most of your needs for working with environments.\n",
        "\n",
        "The output of conda env list shows that each environment is associated with a particular directory. This is not the same as your current working directory for a given project; being \"in\" an environment is completely independent of the directory you are working in. Indeed, you often wish to preserve a certain Conda environment and edit resources across multiple project directories (all of which rely on the same environment). The environment directory displayed by conda env list is simply the top-level file path in which all resources associated with that environment are stored; you need never manipulate those environment directories directly (other than via the conda command); indeed, it is much safer to leave those directories alone!\n",
        "\n",
        "For example, here is output you might see in a particular terminal:\n",
        "\n",
        "```\n",
        "(test-project) $ conda env list\n",
        "# conda environments:\n",
        "#\n",
        "base                     /home/repl/miniconda\n",
        "py1.0                    /home/repl/miniconda/envs/py1.0\n",
        "stats-research           /home/repl/miniconda/envs/stats-research\n",
        "test-project          *  /home/repl/miniconda/envs/test-project\n",
        "```\n",
        "\n",
        "Following the example above, what is the name of the environment you are using in the current session? Even if you determine the answer without running a command, run conda env list to get a feel of using that subcommand.\n",
        "\n",
        "**Possible Answers**\n",
        "\n",
        "- [ ] base\n",
        "- [ ] test-project\n",
        "- [ ] root\n",
        "- [x] course-project\n",
        "- [ ] stats-research\n",
        "- [ ] py1.0"
      ]
    },
    {
      "cell_type": "markdown",
      "metadata": {
        "id": "Uw2IYwR2Lg6w"
      },
      "source": [
        "**What packages are installed in an environment? (I)**\n",
        "\n",
        "The command conda list seen previously displays all packages installed in the current environment. You can reduce this list by appending the particular package you want as an option. The package can be specified either as a simple name, or as a regular expression pattern. This still displays the version (and channel) associated with the installed package(s). For example:\n",
        "\n",
        "```\n",
        "(test-env) $ conda list 'numpy|pandas'\n",
        "# packages in environment at /home/repl/miniconda/envs/test-env:\n",
        "#\n",
        "# Name                    Version                   Build  Channel\n",
        "numpy                     1.11.3                   py35_0\n",
        "pandas                    0.18.1              np111py35_0\n",
        "```\n",
        "\n",
        "Without specifying 'numpy|pandas', these same two lines would be printed, simply interspersed with many others for the various other installed packages. Notice that the output displays the filepath associated with the current environment first: in this case, /home/repl/miniconda/envs/test-env as test-env is the active environment (as also shown at the prompt).\n",
        "\n",
        "Following this example, what versions of numpy and pandas are installed in the current (base/root) environment?\n",
        "\n",
        "**Possible Answers**\n",
        "\n",
        "- [ ] numpy=1.11.3; pandas=0.18.1\n",
        "- [x] numpy=1.16.0; pandas=0.22.0\n",
        "- [ ] numpy=2.0.1; pandas=0.22.2\n",
        "- [ ] numpy=1.10.4; pandas=0.17.1\n",
        "- [ ] numpy=1.13.1; pandas=0.21.0\n",
        "- [ ] numpy=1.15.0; pandas 0.23.0"
      ]
    },
    {
      "cell_type": "markdown",
      "metadata": {
        "id": "5qF-fl_kL0fo"
      },
      "source": [
        "**What packages are installed in an environment? (II)**\n",
        "\n",
        "It is often useful to query a different environment's configuration (i.e., as opposed to the currently active environment). You might do this simply to verify the package versions in that environment that you need for a given project. Or you may wish to find out what versions you or a colleague used in some prior project (developed in that other environment). The switch --name or -n allows you to query another environment. For example,\n",
        "\n",
        "```\n",
        "(course-env) $ conda list --name test-env 'numpy|pandas'\n",
        "# packages in environment at /home/repl/miniconda/envs/test-env:\n",
        "#\n",
        "# Name                    Version                   Build  Channel\n",
        "numpy                     1.11.3                   py35_0\n",
        "pandas                    0.18.1              np111py35_0\n",
        "```\n",
        "\n",
        "Without specifying the --name argument, the command conda list would run in the current environment. The output would then be the versions of numpy and pandas present in the current environment.\n",
        "\n",
        "Suppose you created an environment called pd-2015 in 2015 when you were working on a project. Identify which versions of numpy and pandas were installed in the environment pd-2015.\n",
        "\n",
        "**Possible Answers**\n",
        "\n",
        "- [ ] numpy=1.11.3; pandas=0.18.1\n",
        "- [ ] numpy=1.14.0; pandas=0.22.0\n",
        "- [ ] numpy=1.10.4; pandas=0.17.0\n",
        "- [x] numpy=1.16.4; pandas=0.22.0\n",
        "- [ ] numpy=1.8.2; pandas=0.16.0\n",
        "- [ ] numpy=1.15.0; pandas 0.23.0"
      ]
    },
    {
      "cell_type": "markdown",
      "metadata": {
        "id": "Q3ExZFAaMCzD"
      },
      "source": [
        "**Switch between environments**\n",
        "\n",
        "```\n",
        "conda activate course-env\n",
        "conda activate pd-2015\n",
        "conda deactivate\n",
        "```"
      ]
    },
    {
      "cell_type": "markdown",
      "metadata": {
        "id": "UcAPxyABMNH4"
      },
      "source": [
        "**Remove an environment**\n",
        "\n",
        "```\n",
        "conda env remove --name deprecated\n",
        "```"
      ]
    },
    {
      "cell_type": "markdown",
      "metadata": {
        "id": "AKFFrHUKMUPf"
      },
      "source": [
        "**Create a new environment**\n",
        "\n",
        "```\n",
        "conda create --name conda-essentials attrs=19.1.0 cytoolz -y\n",
        "conda activate conda-essentials\n",
        "conda list\n",
        "```"
      ]
    },
    {
      "cell_type": "markdown",
      "metadata": {
        "id": "mTKUv3ofMhkD"
      },
      "source": [
        "**Export an environment**\n",
        "\n",
        "```\n",
        "conda env export --name course-env --file course-env.yml\n",
        "```"
      ]
    },
    {
      "cell_type": "markdown",
      "metadata": {
        "id": "tpmNJJy1MoOY"
      },
      "source": [
        "**Create an environment from a shared specification**\n",
        "\n",
        "```\n",
        "conda env create\n",
        "conda env create -f shared-config.yml\n",
        "```"
      ]
    },
    {
      "cell_type": "markdown",
      "metadata": {
        "id": "rZXGtt0eM2YZ"
      },
      "source": [
        "## 4. Case Study on Using Environments"
      ]
    },
    {
      "cell_type": "markdown",
      "metadata": {
        "id": "CGe216OXM3Op"
      },
      "source": [
        "**Compatibility with different versions**\n",
        "\n",
        "```\n",
        "cat weekly_humidity.py\n",
        "python weekly_humidity.py\n",
        "conda activate pd-2015\n",
        "python weekly_humidity.py\n",
        "```"
      ]
    },
    {
      "cell_type": "markdown",
      "metadata": {
        "id": "D3LzwYcvNKdM"
      },
      "source": [
        "**Updating a script**\n",
        "\n",
        "```\n",
        "# You almost surely want to use a text editor like 'nano' rather than the StreamEDitor yourself: \n",
        "sed -i '$ d' weekly_humidity.py && echo 'print(humidity.rolling(7).mean().tail(5))' >> weekly_humidity.py\n",
        "python weekly_humidity.py\n",
        "conda activate pd-2015\n",
        "python weekly_humidity.py\n",
        "```"
      ]
    }
  ]
}