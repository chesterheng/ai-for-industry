{
  "nbformat": 4,
  "nbformat_minor": 0,
  "metadata": {
    "colab": {
      "name": "01-03-python-data-science-toolbox-2.ipynb",
      "provenance": [],
      "collapsed_sections": [
        "QOmso7k9j6rg",
        "6N8Dzc2spW2q"
      ]
    },
    "kernelspec": {
      "name": "python3",
      "display_name": "Python 3"
    }
  },
  "cells": [
    {
      "cell_type": "markdown",
      "metadata": {
        "id": "wMSeRnXVjsQo"
      },
      "source": [
        "#Python Data Science Toolbox (Part 2)\n",
        "## 1. Using iterators in PythonLand\n",
        "## 2. List comprehensions and generators\n",
        "## 3. Bringing it all together!"
      ]
    },
    {
      "cell_type": "markdown",
      "metadata": {
        "id": "QOmso7k9j6rg"
      },
      "source": [
        "## 1. Using iterators in PythonLand"
      ]
    },
    {
      "cell_type": "code",
      "metadata": {
        "colab": {
          "base_uri": "https://localhost:8080/"
        },
        "id": "NXZOztI3kut5",
        "outputId": "fd8c06e0-4239-4987-b93e-3633c38ad44c"
      },
      "source": [
        "# 1.1 Iterators vs Iterables\n",
        "# Iterators vs Iterables\n",
        "\n",
        "flash1 = ['jay garrick', 'barry allen', 'wally west', 'bart allen']\n",
        "flash2 = iter(flash1)\n",
        "\n",
        "print(next(flash2))\n",
        "print(next(flash2))\n",
        "print(next(flash2))\n",
        "print(next(flash2))"
      ],
      "execution_count": 5,
      "outputs": [
        {
          "output_type": "stream",
          "text": [
            "jay garrick\n",
            "barry allen\n",
            "wally west\n",
            "bart allen\n"
          ],
          "name": "stdout"
        }
      ]
    },
    {
      "cell_type": "markdown",
      "metadata": {
        "id": "gyYSMFXUkHOs"
      },
      "source": [
        "Iterators vs Iterables\n",
        "\n",
        "- an iterable is an object that can return an iterator\n",
        "- an iterator is an object that keeps state and produces the next value when you call next() on it\n",
        "\n",
        "In this exercise, you will identify which object is an iterable and which is an iterator.\n",
        "- [ ] Both flash1 and flash2 are iterators.\n",
        "- [ ] Both flash1 and flash2 are iterables.\n",
        "- [x] flash1 is an iterable and flash2 is an iterator."
      ]
    },
    {
      "cell_type": "code",
      "metadata": {
        "colab": {
          "base_uri": "https://localhost:8080/"
        },
        "id": "1pEThVWSj-Eq",
        "outputId": "019cd222-c783-441f-ddcd-7faad175bea6"
      },
      "source": [
        "# Iterating over iterables (1)\n",
        "\n",
        "# Create a list of strings: flash\n",
        "flash = ['jay garrick', 'barry allen', 'wally west', 'bart allen']\n",
        "\n",
        "# Print each list item in flash using a for loop\n",
        "for person in flash:\n",
        "    print(person)\n",
        "\n",
        "# Create an iterator for flash: superhero\n",
        "superhero = iter(flash)\n",
        "\n",
        "# Print each item from the iterator\n",
        "print(next(superhero))\n",
        "print(next(superhero))\n",
        "print(next(superhero))\n",
        "print(next(superhero))"
      ],
      "execution_count": 6,
      "outputs": [
        {
          "output_type": "stream",
          "text": [
            "jay garrick\n",
            "barry allen\n",
            "wally west\n",
            "bart allen\n",
            "jay garrick\n",
            "barry allen\n",
            "wally west\n",
            "bart allen\n"
          ],
          "name": "stdout"
        }
      ]
    },
    {
      "cell_type": "code",
      "metadata": {
        "colab": {
          "base_uri": "https://localhost:8080/"
        },
        "id": "gZYPdexDlwuC",
        "outputId": "58359631-bb77-4722-cd2e-9f7e6fb9e30e"
      },
      "source": [
        "# Iterating over iterables (2)\n",
        "\n",
        "# Create an iterator for range(3): small_value\n",
        "small_value = iter(range(3))\n",
        "\n",
        "# Print the values in small_value\n",
        "print(next(small_value))\n",
        "print(next(small_value))\n",
        "print(next(small_value))\n",
        "\n",
        "# Loop over range(3) and print the values\n",
        "for num in range(3):\n",
        "    print(num)\n",
        "\n",
        "# Create an iterator for range(10 ** 100): googol\n",
        "googol = iter(range(10 ** 100))\n",
        "\n",
        "# Print the first 5 values from googol\n",
        "print(next(googol))\n",
        "print(next(googol))\n",
        "print(next(googol))\n",
        "print(next(googol))\n",
        "print(next(googol))"
      ],
      "execution_count": 9,
      "outputs": [
        {
          "output_type": "stream",
          "text": [
            "0\n",
            "1\n",
            "2\n",
            "0\n",
            "1\n",
            "2\n",
            "0\n",
            "1\n",
            "2\n",
            "3\n",
            "4\n"
          ],
          "name": "stdout"
        }
      ]
    },
    {
      "cell_type": "code",
      "metadata": {
        "colab": {
          "base_uri": "https://localhost:8080/"
        },
        "id": "BLwOvKoAmNEm",
        "outputId": "599699f4-bc97-4605-c1cd-7e73e88501ac"
      },
      "source": [
        "# Iterators as function arguments\n",
        "\n",
        "# Create a range object: values\n",
        "values = range(10, 21)\n",
        "\n",
        "# Print the range object\n",
        "print(values)\n",
        "\n",
        "# Create a list of integers: values_list\n",
        "values_list = list(values)\n",
        "\n",
        "# Print values_list\n",
        "print(values_list)\n",
        "\n",
        "# Get the sum of values: values_sum\n",
        "values_sum = sum(values)\n",
        "\n",
        "# Print values_sum\n",
        "print(values_sum)"
      ],
      "execution_count": 10,
      "outputs": [
        {
          "output_type": "stream",
          "text": [
            "range(10, 21)\n",
            "[10, 11, 12, 13, 14, 15, 16, 17, 18, 19, 20]\n",
            "165\n"
          ],
          "name": "stdout"
        }
      ]
    },
    {
      "cell_type": "code",
      "metadata": {
        "colab": {
          "base_uri": "https://localhost:8080/"
        },
        "id": "9wwSa5glmYIU",
        "outputId": "39e175ae-307b-4887-9c54-b8e5e9cffaf1"
      },
      "source": [
        "# 1.2 Playing with iterators\n",
        "\n",
        "# Using enumerate\n",
        "\n",
        "# Create a list of strings: mutants\n",
        "mutants = ['charles xavier', \n",
        "            'bobby drake', \n",
        "            'kurt wagner', \n",
        "            'max eisenhardt', \n",
        "            'kitty pryde']\n",
        "\n",
        "# Create a list of tuples: mutant_list\n",
        "mutant_list = list(enumerate(mutants))\n",
        "\n",
        "# Print the list of tuples\n",
        "print(mutant_list)\n",
        "\n",
        "# Unpack and print the tuple pairs\n",
        "for index1, value1 in enumerate(mutants):\n",
        "    print(index1, value1)\n",
        "\n",
        "# Change the start index\n",
        "for index2, value2 in enumerate(mutants, 1):\n",
        "    print(index2, value2)"
      ],
      "execution_count": 11,
      "outputs": [
        {
          "output_type": "stream",
          "text": [
            "[(0, 'charles xavier'), (1, 'bobby drake'), (2, 'kurt wagner'), (3, 'max eisenhardt'), (4, 'kitty pryde')]\n",
            "0 charles xavier\n",
            "1 bobby drake\n",
            "2 kurt wagner\n",
            "3 max eisenhardt\n",
            "4 kitty pryde\n",
            "1 charles xavier\n",
            "2 bobby drake\n",
            "3 kurt wagner\n",
            "4 max eisenhardt\n",
            "5 kitty pryde\n"
          ],
          "name": "stdout"
        }
      ]
    },
    {
      "cell_type": "code",
      "metadata": {
        "colab": {
          "base_uri": "https://localhost:8080/"
        },
        "id": "6OCO2dfKmlci",
        "outputId": "4831c33e-21b9-4fd4-d2c0-bd3833f50d48"
      },
      "source": [
        "# Using zip\n",
        "\n",
        "mutants =['charles xavier',\n",
        " 'bobby drake',\n",
        " 'kurt wagner',\n",
        " 'max eisenhardt',\n",
        " 'kitty pryde']\n",
        "\n",
        "aliases = ['prof x', 'iceman', 'nightcrawler', 'magneto', 'shadowcat']\n",
        "\n",
        "powers = ['telepathy',\n",
        " 'thermokinesis',\n",
        " 'teleportation',\n",
        " 'magnetokinesis',\n",
        " 'intangibility']\n",
        "\n",
        "# Create a list of tuples: mutant_data\n",
        "mutant_data = list(zip(mutants, aliases, powers))\n",
        "\n",
        "# Print the list of tuples\n",
        "print(mutant_data)\n",
        "\n",
        "# Create a zip object using the three lists: mutant_zip\n",
        "mutant_zip = zip(mutants, aliases, powers)\n",
        "\n",
        "# Print the zip object\n",
        "print(mutant_zip)\n",
        "\n",
        "# Unpack the zip object and print the tuple values\n",
        "for value1, value2, value3 in mutant_zip:\n",
        "    print(value1, value2, value3)"
      ],
      "execution_count": 15,
      "outputs": [
        {
          "output_type": "stream",
          "text": [
            "[('charles xavier', 'prof x', 'telepathy'), ('bobby drake', 'iceman', 'thermokinesis'), ('kurt wagner', 'nightcrawler', 'teleportation'), ('max eisenhardt', 'magneto', 'magnetokinesis'), ('kitty pryde', 'shadowcat', 'intangibility')]\n",
            "<zip object at 0x7f5a5f4eea48>\n",
            "charles xavier prof x telepathy\n",
            "bobby drake iceman thermokinesis\n",
            "kurt wagner nightcrawler teleportation\n",
            "max eisenhardt magneto magnetokinesis\n",
            "kitty pryde shadowcat intangibility\n"
          ],
          "name": "stdout"
        }
      ]
    },
    {
      "cell_type": "code",
      "metadata": {
        "colab": {
          "base_uri": "https://localhost:8080/"
        },
        "id": "qNmlBMvgnYKD",
        "outputId": "6990abcb-b58b-4c7f-f9b5-474cbc4af2c9"
      },
      "source": [
        "# Using * and zip to 'unzip'\n",
        "\n",
        "mutants = ('charles xavier',\n",
        " 'bobby drake',\n",
        " 'kurt wagner',\n",
        " 'max eisenhardt',\n",
        " 'kitty pryde')\n",
        "\n",
        "powers = ('telepathy',\n",
        " 'thermokinesis',\n",
        " 'teleportation',\n",
        " 'magnetokinesis',\n",
        " 'intangibility')\n",
        "\n",
        "# Create a zip object from mutants and powers: z1\n",
        "z1 = zip(mutants, powers)\n",
        "\n",
        "# Print the tuples in z1 by unpacking with *\n",
        "print(*z1)\n",
        "\n",
        "# Re-create a zip object from mutants and powers: z1\n",
        "z1 = zip(mutants, powers)\n",
        "\n",
        "# 'Unzip' the tuples in z1 by unpacking with * and zip(): result1, result2\n",
        "result1, result2 = zip(*z1)\n",
        "\n",
        "# Check if unpacked tuples are equivalent to original tuples\n",
        "print(result1 == mutants)\n",
        "print(result2 == powers)"
      ],
      "execution_count": 19,
      "outputs": [
        {
          "output_type": "stream",
          "text": [
            "('charles xavier', 'telepathy') ('bobby drake', 'thermokinesis') ('kurt wagner', 'teleportation') ('max eisenhardt', 'magnetokinesis') ('kitty pryde', 'intangibility')\n",
            "True\n",
            "True\n"
          ],
          "name": "stdout"
        }
      ]
    },
    {
      "cell_type": "code",
      "metadata": {
        "colab": {
          "base_uri": "https://localhost:8080/"
        },
        "id": "fk7x_1_moKil",
        "outputId": "61e4e059-80aa-47f9-aa67-c7c538af1abb"
      },
      "source": [
        "# 1.3 Using iterators to load large files into memory\n",
        "\n",
        "# Processing large amounts of Twitter data\n",
        "\n",
        "import pandas as pd\n",
        "fname = 'https://raw.githubusercontent.com/chesterheng/ai-for-industry/master/datasets/tweets.csv'\n",
        "\n",
        "# Initialize an empty dictionary: counts_dict\n",
        "counts_dict = {}\n",
        "\n",
        "# Iterate over the file chunk by chunk\n",
        "for chunk in pd.read_csv(fname, chunksize=10):\n",
        "\n",
        "    # Iterate over the column in DataFrame\n",
        "    for entry in chunk['lang']:\n",
        "        if entry in counts_dict.keys():\n",
        "            counts_dict[entry] += 1\n",
        "        else:\n",
        "            counts_dict[entry] = 1\n",
        "\n",
        "# Print the populated dictionary\n",
        "print(counts_dict)\n"
      ],
      "execution_count": 24,
      "outputs": [
        {
          "output_type": "stream",
          "text": [
            "{'en': 97, 'et': 1, 'und': 2}\n"
          ],
          "name": "stdout"
        }
      ]
    },
    {
      "cell_type": "code",
      "metadata": {
        "colab": {
          "base_uri": "https://localhost:8080/"
        },
        "id": "4ITpO0ONpE9I",
        "outputId": "bf4c4902-b4b3-4a6d-ea23-e6faa147d12a"
      },
      "source": [
        "# Extracting information for large amounts of Twitter data\n",
        "\n",
        "# Define count_entries()\n",
        "def count_entries(csv_file, c_size, colname):\n",
        "    \"\"\"Return a dictionary with counts of\n",
        "    occurrences as value for each key.\"\"\"\n",
        "    \n",
        "    # Initialize an empty dictionary: counts_dict\n",
        "    counts_dict = {}\n",
        "\n",
        "    # Iterate over the file chunk by chunk\n",
        "    for chunk in pd.read_csv(csv_file, chunksize = c_size):\n",
        "\n",
        "        # Iterate over the column in DataFrame\n",
        "        for entry in chunk[colname]:\n",
        "            if entry in counts_dict.keys():\n",
        "                counts_dict[entry] += 1\n",
        "            else:\n",
        "                counts_dict[entry] = 1\n",
        "\n",
        "    # Return counts_dict\n",
        "    return counts_dict\n",
        "\n",
        "import pandas as pd\n",
        "fname = 'https://raw.githubusercontent.com/chesterheng/ai-for-industry/master/datasets/tweets.csv'\n",
        "\n",
        "# Call count_entries(): result_counts\n",
        "result_counts = count_entries(fname, 10, 'lang')\n",
        "\n",
        "# Print result_counts\n",
        "print(result_counts)"
      ],
      "execution_count": 25,
      "outputs": [
        {
          "output_type": "stream",
          "text": [
            "{'en': 97, 'et': 1, 'und': 2}\n"
          ],
          "name": "stdout"
        }
      ]
    },
    {
      "cell_type": "markdown",
      "metadata": {
        "id": "6N8Dzc2spW2q"
      },
      "source": [
        "## 2. List comprehensions and generators"
      ]
    },
    {
      "cell_type": "code",
      "metadata": {
        "colab": {
          "base_uri": "https://localhost:8080/"
        },
        "id": "YjABu68RqHuY",
        "outputId": "35214ceb-f8fa-4dff-ec40-cf918cb75361"
      },
      "source": [
        "# 2.1 List comprehensions\n",
        "\n",
        "doctors = ['house', 'cuddy', 'chase', 'thirteen', 'wilson']\n",
        "new_doctors = []\n",
        "\n",
        "for doctor in doctors:    \n",
        "  new_doctors.append(doctor)\n",
        "print(new_doctors)\n",
        "\n",
        "new_doctors = [doctor for doctor in doctors]\n",
        "print(new_doctors)\n",
        "\n",
        "doc = iter(doctors)\n",
        "new_doctors = [doc[0] for doc in doctors]\n",
        "print(new_doctors)"
      ],
      "execution_count": 31,
      "outputs": [
        {
          "output_type": "stream",
          "text": [
            "['house', 'cuddy', 'chase', 'thirteen', 'wilson']\n",
            "['house', 'cuddy', 'chase', 'thirteen', 'wilson']\n",
            "['h', 'c', 'c', 't', 'w']\n"
          ],
          "name": "stdout"
        }
      ]
    },
    {
      "cell_type": "markdown",
      "metadata": {
        "id": "f7QB2HS2pmoX"
      },
      "source": [
        "- Write a basic list comprehension\n",
        "\n",
        "`doctor = ['house', 'cuddy', 'chase', 'thirteen', 'wilson']`\n",
        "\n",
        "How would a list comprehension that produces a list of the first character of each string in doctor look like? \n",
        "\n",
        "Note that the list comprehension uses doc as the iterator variable. What will the output be?\n",
        "\n",
        "- [ ] The list comprehension is [for doc in doctor: doc[0]] and produces the list ['h', 'c', 'c', 't', 'w'].\n",
        "- [x] The list comprehension is [doc[0] for doc in doctor] and produces the list ['h', 'c', 'c', 't', 'w'].\n",
        "- [ ] The list comprehension is [doc[0] in doctor] and produces the list ['h', 'c', 'c', 't', 'w']."
      ]
    },
    {
      "cell_type": "markdown",
      "metadata": {
        "id": "zdGutBAQryM9"
      },
      "source": [
        "List comprehension over iterables\n",
        "\n",
        "Given the following objects below, which of these can we build list comprehensions over?\n",
        "\n",
        "```\n",
        "doctor = ['house', 'cuddy', 'chase', 'thirteen', 'wilson']\n",
        "range(50)\n",
        "underwood = 'After all, we are nothing more or less than what we choose to reveal.'\n",
        "jean = '24601'\n",
        "flash = ['jay garrick', 'barry allen', 'wally west', 'bart allen']\n",
        "valjean = 24601\n",
        "```\n",
        "\n",
        "- [ ] You can build list comprehensions over all the objects except the string of number characters jean.\n",
        "- [ ] You can build list comprehensions over all the objects except the string lists doctor and flash.\n",
        "- [ ] You can build list comprehensions over all the objects except range(50).\n",
        "- [x] You can build list comprehensions over all the objects except the integer object valjean."
      ]
    },
    {
      "cell_type": "code",
      "metadata": {
        "colab": {
          "base_uri": "https://localhost:8080/"
        },
        "id": "kx1LfOS1pT-M",
        "outputId": "97070324-af22-48a0-a72b-5db76fd57f6d"
      },
      "source": [
        "# Writing list comprehensions\n",
        "\n",
        "# Create list comprehension: squares\n",
        "squares = [i ** 2 for i in range(0, 10)]\n",
        "print(squares)"
      ],
      "execution_count": 33,
      "outputs": [
        {
          "output_type": "stream",
          "text": [
            "[0, 1, 4, 9, 16, 25, 36, 49, 64, 81]\n"
          ],
          "name": "stdout"
        }
      ]
    },
    {
      "cell_type": "code",
      "metadata": {
        "colab": {
          "base_uri": "https://localhost:8080/"
        },
        "id": "yz87F6oIsUsJ",
        "outputId": "2292dfd7-08c4-4d19-9e80-2a7a52da303a"
      },
      "source": [
        "# Nested list comprehensions\n",
        "\n",
        "# Create a 5 x 5 matrix using a list of lists: matrix\n",
        "matrix = [[col for col in range(0, 5)] for row in range(0,5)]\n",
        "print(matrix)\n",
        "# Print the matrix\n",
        "for row in matrix:\n",
        "    print(row)\n"
      ],
      "execution_count": 34,
      "outputs": [
        {
          "output_type": "stream",
          "text": [
            "[[0, 1, 2, 3, 4], [0, 1, 2, 3, 4], [0, 1, 2, 3, 4], [0, 1, 2, 3, 4], [0, 1, 2, 3, 4]]\n",
            "[0, 1, 2, 3, 4]\n",
            "[0, 1, 2, 3, 4]\n",
            "[0, 1, 2, 3, 4]\n",
            "[0, 1, 2, 3, 4]\n",
            "[0, 1, 2, 3, 4]\n"
          ],
          "name": "stdout"
        }
      ]
    },
    {
      "cell_type": "code",
      "metadata": {
        "colab": {
          "base_uri": "https://localhost:8080/"
        },
        "id": "MKZGjcaysZ5x",
        "outputId": "b194eb18-148d-476a-9cfc-568fb92b24dd"
      },
      "source": [
        "# 2.2 Advanced comprehensions\n",
        "\n",
        "# Using conditionals in comprehensions (1)\n",
        "\n",
        "# Create a list of strings: fellowship\n",
        "fellowship = ['frodo', 'samwise', 'merry', 'aragorn', 'legolas', 'boromir', 'gimli']\n",
        "\n",
        "# Create list comprehension: new_fellowship]\n",
        "new_fellowship = [member for member in fellowship if len(member) >= 7]\n",
        "\n",
        "# Print the new list\n",
        "print(new_fellowship)"
      ],
      "execution_count": 35,
      "outputs": [
        {
          "output_type": "stream",
          "text": [
            "['samwise', 'aragorn', 'legolas', 'boromir']\n"
          ],
          "name": "stdout"
        }
      ]
    },
    {
      "cell_type": "code",
      "metadata": {
        "colab": {
          "base_uri": "https://localhost:8080/"
        },
        "id": "CagNefvUs5PY",
        "outputId": "f38d6758-a0a3-4020-afb3-e34cc24e2ef1"
      },
      "source": [
        "# Using conditionals in comprehensions (2)\n",
        "\n",
        "# Create a list of strings: fellowship\n",
        "fellowship = ['frodo', 'samwise', 'merry', 'aragorn', 'legolas', 'boromir', 'gimli']\n",
        "\n",
        "# Create list comprehension: new_fellowship\n",
        "new_fellowship = [member if len(member) >= 7 else '' for member in fellowship]\n",
        "\n",
        "# Print the new list\n",
        "print(new_fellowship)"
      ],
      "execution_count": 36,
      "outputs": [
        {
          "output_type": "stream",
          "text": [
            "['', 'samwise', '', 'aragorn', 'legolas', 'boromir', '']\n"
          ],
          "name": "stdout"
        }
      ]
    },
    {
      "cell_type": "code",
      "metadata": {
        "colab": {
          "base_uri": "https://localhost:8080/"
        },
        "id": "w5JIpD7UtA19",
        "outputId": "2dd9ed4c-3022-434e-f8e4-67089e044c52"
      },
      "source": [
        "# Dict comprehensions\n",
        "\n",
        "# Create a list of strings: fellowship\n",
        "fellowship = ['frodo', 'samwise', 'merry', 'aragorn', 'legolas', 'boromir', 'gimli']\n",
        "\n",
        "# Create dict comprehension: new_fellowship\n",
        "new_fellowship = {member: len(member) for member in fellowship}\n",
        "\n",
        "# Print the new dictionary\n",
        "print(new_fellowship)"
      ],
      "execution_count": 37,
      "outputs": [
        {
          "output_type": "stream",
          "text": [
            "{'frodo': 5, 'samwise': 7, 'merry': 5, 'aragorn': 7, 'legolas': 7, 'boromir': 7, 'gimli': 5}\n"
          ],
          "name": "stdout"
        }
      ]
    },
    {
      "cell_type": "markdown",
      "metadata": {
        "id": "yZIRr_6qtS91"
      },
      "source": [
        "- 2.3 Introduction to generator expressions\n",
        "- List comprehensions vs generators\n",
        "\n",
        "```\n",
        "# List of strings\n",
        "fellowship = ['frodo', 'samwise', 'merry', 'aragorn', 'legolas', 'boromir', 'gimli']\n",
        "# List comprehension\n",
        "fellow1 = [member for member in fellowship if len(member) >= 7]\n",
        "# Generator expression\n",
        "fellow2 = (member for member in fellowship if len(member) >= 7)\n",
        "```\n",
        "\n",
        "Select from the options below the best description for the difference between list comprehensions and generators.\n",
        "\n",
        "- [ ] List comprehensions and generators are not different at all; they are just different ways of writing the same thing.\n",
        "- [x] A list comprehension produces a list as output, a generator produces a generator object.\n",
        "- [ ] A list comprehension produces a list as output that can be iterated over, a generator produces a generator object that can't be iterated over."
      ]
    },
    {
      "cell_type": "code",
      "metadata": {
        "colab": {
          "base_uri": "https://localhost:8080/"
        },
        "id": "K-rT7qmOtK-n",
        "outputId": "fdd775b0-8ff1-4d3f-d512-93112d76e90e"
      },
      "source": [
        "# Write your own generator expressions\n",
        "\n",
        "# Create generator object: result\n",
        "result = (num for num in range(31))\n",
        "\n",
        "# Print the first 5 values\n",
        "print(next(result))\n",
        "print(next(result))\n",
        "print(next(result))\n",
        "print(next(result))\n",
        "print(next(result))\n",
        "\n",
        "# Print the rest of the values\n",
        "for value in result:\n",
        "    print(value)"
      ],
      "execution_count": 38,
      "outputs": [
        {
          "output_type": "stream",
          "text": [
            "0\n",
            "1\n",
            "2\n",
            "3\n",
            "4\n",
            "5\n",
            "6\n",
            "7\n",
            "8\n",
            "9\n",
            "10\n",
            "11\n",
            "12\n",
            "13\n",
            "14\n",
            "15\n",
            "16\n",
            "17\n",
            "18\n",
            "19\n",
            "20\n",
            "21\n",
            "22\n",
            "23\n",
            "24\n",
            "25\n",
            "26\n",
            "27\n",
            "28\n",
            "29\n",
            "30\n"
          ],
          "name": "stdout"
        }
      ]
    },
    {
      "cell_type": "code",
      "metadata": {
        "colab": {
          "base_uri": "https://localhost:8080/"
        },
        "id": "eZqonveSuQrn",
        "outputId": "40d5c123-377d-40f8-a4c8-ff97d1e5c879"
      },
      "source": [
        "# Changing the output in generator expressions\n",
        "\n",
        "# Create a list of strings: lannister\n",
        "lannister = ['cersei', 'jaime', 'tywin', 'tyrion', 'joffrey']\n",
        "\n",
        "# Create a generator object: lengths\n",
        "lengths = (len(person) for person in lannister)\n",
        "\n",
        "# Iterate over and print the values in lengths\n",
        "for value in lengths:\n",
        "    print(value)"
      ],
      "execution_count": 39,
      "outputs": [
        {
          "output_type": "stream",
          "text": [
            "6\n",
            "5\n",
            "5\n",
            "6\n",
            "7\n"
          ],
          "name": "stdout"
        }
      ]
    },
    {
      "cell_type": "code",
      "metadata": {
        "colab": {
          "base_uri": "https://localhost:8080/"
        },
        "id": "vSZRmjkKuY5P",
        "outputId": "7eb82e5c-fb83-430a-b879-a4d8e161eaab"
      },
      "source": [
        "# Build a generator\n",
        "\n",
        "# Create a list of strings\n",
        "lannister = ['cersei', 'jaime', 'tywin', 'tyrion', 'joffrey']\n",
        "\n",
        "# Define generator function get_lengths\n",
        "def get_lengths(input_list):\n",
        "    \"\"\"Generator function that yields the\n",
        "    length of the strings in input_list.\"\"\"\n",
        "\n",
        "    # Yield the length of a string\n",
        "    for person in input_list:\n",
        "        yield len(person)\n",
        "\n",
        "# Print the values generated by get_lengths()\n",
        "for value in get_lengths(lannister):\n",
        "    print(value)"
      ],
      "execution_count": 40,
      "outputs": [
        {
          "output_type": "stream",
          "text": [
            "6\n",
            "5\n",
            "5\n",
            "6\n",
            "7\n"
          ],
          "name": "stdout"
        }
      ]
    },
    {
      "cell_type": "code",
      "metadata": {
        "colab": {
          "base_uri": "https://localhost:8080/"
        },
        "id": "QnCacsBtuymu",
        "outputId": "7a60a0bb-9c44-411d-90b4-33efb2647af4"
      },
      "source": [
        "# 2.4 Wrapping up comprehensions and generators.\n",
        "\n",
        "# List comprehensions for time-stamped data\n",
        "\n",
        "# Import pandas\n",
        "import pandas as pd\n",
        "\n",
        "# Import Twitter data as DataFrame: df\n",
        "fname = 'https://raw.githubusercontent.com/chesterheng/ai-for-industry/master/datasets/tweets.csv'\n",
        "df = pd.read_csv(fname)\n",
        "\n",
        "# Extract the created_at column from df: tweet_time\n",
        "tweet_time = df['created_at']\n",
        "\n",
        "# Extract the clock time: tweet_clock_time\n",
        "tweet_clock_time = [entry[11:19] for entry in tweet_time]\n",
        "\n",
        "# Print the extracted times\n",
        "print(tweet_clock_time)"
      ],
      "execution_count": 44,
      "outputs": [
        {
          "output_type": "stream",
          "text": [
            "['23:40:17', '23:40:17', '23:40:17', '23:40:17', '23:40:17', '23:40:17', '23:40:18', '23:40:17', '23:40:18', '23:40:18', '23:40:18', '23:40:17', '23:40:18', '23:40:18', '23:40:17', '23:40:18', '23:40:18', '23:40:17', '23:40:18', '23:40:17', '23:40:18', '23:40:18', '23:40:18', '23:40:18', '23:40:17', '23:40:18', '23:40:18', '23:40:17', '23:40:18', '23:40:18', '23:40:18', '23:40:18', '23:40:18', '23:40:18', '23:40:18', '23:40:18', '23:40:18', '23:40:18', '23:40:18', '23:40:18', '23:40:18', '23:40:18', '23:40:18', '23:40:18', '23:40:18', '23:40:18', '23:40:18', '23:40:18', '23:40:18', '23:40:18', '23:40:18', '23:40:18', '23:40:18', '23:40:18', '23:40:18', '23:40:18', '23:40:18', '23:40:18', '23:40:18', '23:40:18', '23:40:19', '23:40:18', '23:40:18', '23:40:18', '23:40:19', '23:40:19', '23:40:19', '23:40:18', '23:40:19', '23:40:19', '23:40:19', '23:40:18', '23:40:19', '23:40:19', '23:40:19', '23:40:18', '23:40:19', '23:40:19', '23:40:19', '23:40:19', '23:40:19', '23:40:19', '23:40:19', '23:40:19', '23:40:19', '23:40:19', '23:40:19', '23:40:19', '23:40:19', '23:40:19', '23:40:19', '23:40:19', '23:40:19', '23:40:19', '23:40:19', '23:40:19', '23:40:19', '23:40:19', '23:40:19', '23:40:19']\n"
          ],
          "name": "stdout"
        }
      ]
    },
    {
      "cell_type": "code",
      "metadata": {
        "colab": {
          "base_uri": "https://localhost:8080/"
        },
        "id": "oA9DHUujvJh8",
        "outputId": "660692c4-59e2-4cfd-d298-bfc51251da41"
      },
      "source": [
        "# Conditional list comprehensions for time-stamped data\n",
        "\n",
        "# Import pandas\n",
        "import pandas as pd\n",
        "\n",
        "# Import Twitter data as DataFrame: df\n",
        "fname = 'https://raw.githubusercontent.com/chesterheng/ai-for-industry/master/datasets/tweets.csv'\n",
        "df = pd.read_csv(fname)\n",
        "\n",
        "# Extract the created_at column from df: tweet_time\n",
        "tweet_time = df['created_at']\n",
        "\n",
        "# Extract the clock time: tweet_clock_time\n",
        "tweet_clock_time = [entry[11:19] for entry in tweet_time if entry[17:19] == '19']\n",
        "\n",
        "# Print the extracted times\n",
        "print(tweet_clock_time)"
      ],
      "execution_count": 45,
      "outputs": [
        {
          "output_type": "stream",
          "text": [
            "['23:40:19', '23:40:19', '23:40:19', '23:40:19', '23:40:19', '23:40:19', '23:40:19', '23:40:19', '23:40:19', '23:40:19', '23:40:19', '23:40:19', '23:40:19', '23:40:19', '23:40:19', '23:40:19', '23:40:19', '23:40:19', '23:40:19', '23:40:19', '23:40:19', '23:40:19', '23:40:19', '23:40:19', '23:40:19', '23:40:19', '23:40:19', '23:40:19', '23:40:19', '23:40:19', '23:40:19', '23:40:19', '23:40:19', '23:40:19']\n"
          ],
          "name": "stdout"
        }
      ]
    },
    {
      "cell_type": "markdown",
      "metadata": {
        "id": "667xu77gvVKp"
      },
      "source": [
        "## 3. Bringing it all together!"
      ]
    },
    {
      "cell_type": "code",
      "metadata": {
        "colab": {
          "base_uri": "https://localhost:8080/"
        },
        "id": "Cd5CnFs7vQsB",
        "outputId": "a9d3aa7f-df6d-491f-fefb-ad1d211ef05b"
      },
      "source": [
        "# 3.1 Welcome to the case study!\n",
        "\n",
        "# Dictionaries for data science\n",
        "\n",
        "feature_names = ['CountryName', 'CountryCode', 'IndicatorName', 'IndicatorCode', 'Year', 'Value']\n",
        "row_vals = ['Arab World', 'ARB', 'Adolescent fertility rate (births per 1,000 women ages 15-19)',\n",
        "  'SP.ADO.TFRT', '1960', '133.56090740552298']\n",
        "\n",
        "# Zip lists: zipped_lists\n",
        "zipped_lists = zip(feature_names, row_vals)\n",
        "\n",
        "# Create a dictionary: rs_dict\n",
        "rs_dict = dict(zipped_lists)\n",
        "\n",
        "# Print the dictionary\n",
        "print(rs_dict)"
      ],
      "execution_count": 49,
      "outputs": [
        {
          "output_type": "stream",
          "text": [
            "{'CountryName': 'Arab World', 'CountryCode': 'ARB', 'IndicatorName': 'Adolescent fertility rate (births per 1,000 women ages 15-19)', 'IndicatorCode': 'SP.ADO.TFRT', 'Year': '1960', 'Value': '133.56090740552298'}\n"
          ],
          "name": "stdout"
        }
      ]
    },
    {
      "cell_type": "code",
      "metadata": {
        "colab": {
          "base_uri": "https://localhost:8080/"
        },
        "id": "mim-DdJO00Rj",
        "outputId": "2e449cdd-7376-485a-bc50-42aabab3c34c"
      },
      "source": [
        "# Writing a function to help you\n",
        "\n",
        "# Define lists2dict()\n",
        "def lists2dict(list1, list2):\n",
        "    \"\"\"Return a dictionary where list1 provides\n",
        "    the keys and list2 provides the values.\"\"\"\n",
        "\n",
        "    # Zip lists: zipped_lists\n",
        "    zipped_lists = zip(list1, list2)\n",
        "\n",
        "    # Create a dictionary: rs_dict\n",
        "    rs_dict = dict(zipped_lists)\n",
        "\n",
        "    # Return the dictionary\n",
        "    return rs_dict\n",
        "\n",
        "feature_names = ['CountryName', 'CountryCode', 'IndicatorName', 'IndicatorCode', 'Year', 'Value']\n",
        "row_vals = ['Arab World', 'ARB', 'Adolescent fertility rate (births per 1,000 women ages 15-19)',\n",
        "  'SP.ADO.TFRT', '1960', '133.56090740552298']\n",
        "\n",
        "# Call lists2dict: rs_fxn\n",
        "rs_fxn = lists2dict(feature_names, row_vals)\n",
        "\n",
        "# Print rs_fxn\n",
        "print(rs_fxn)"
      ],
      "execution_count": 52,
      "outputs": [
        {
          "output_type": "stream",
          "text": [
            "{'CountryName': 'Arab World', 'CountryCode': 'ARB', 'IndicatorName': 'Adolescent fertility rate (births per 1,000 women ages 15-19)', 'IndicatorCode': 'SP.ADO.TFRT', 'Year': '1960', 'Value': '133.56090740552298'}\n"
          ],
          "name": "stdout"
        }
      ]
    },
    {
      "cell_type": "code",
      "metadata": {
        "colab": {
          "base_uri": "https://localhost:8080/"
        },
        "id": "wSnGe33SOwLy",
        "outputId": "bcd7e32d-f42a-4e4d-e603-2805c0e8d2e3"
      },
      "source": [
        "# Using a list comprehension\n",
        "\n",
        "feature_names = ['CountryName', 'CountryCode', 'IndicatorName', 'IndicatorCode', 'Year', 'Value']\n",
        "row_lists = [['Arab World',\n",
        "  'ARB',\n",
        "  'Adolescent fertility rate (births per 1,000 women ages 15-19)',\n",
        "  'SP.ADO.TFRT',\n",
        "  '1960',\n",
        "  '133.56090740552298'],\n",
        " ['Arab World',\n",
        "  'ARB',\n",
        "  'Age dependency ratio (% of working-age population)',\n",
        "  'SP.POP.DPND',\n",
        "  '1960',\n",
        "  '87.7976011532547'],\n",
        " ['Arab World',\n",
        "  'ARB',\n",
        "  'Age dependency ratio, old (% of working-age population)',\n",
        "  'SP.POP.DPND.OL',\n",
        "  '1960',\n",
        "  '6.634579191565161'],\n",
        " ['Arab World',\n",
        "  'ARB',\n",
        "  'Age dependency ratio, young (% of working-age population)',\n",
        "  'SP.POP.DPND.YG',\n",
        "  '1960',\n",
        "  '81.02332950839141'],\n",
        " ['Arab World',\n",
        "  'ARB',\n",
        "  'Arms exports (SIPRI trend indicator values)',\n",
        "  'MS.MIL.XPRT.KD',\n",
        "  '1960',\n",
        "  '3000000.0'],\n",
        " ['Arab World',\n",
        "  'ARB',\n",
        "  'Arms imports (SIPRI trend indicator values)',\n",
        "  'MS.MIL.MPRT.KD',\n",
        "  '1960',\n",
        "  '538000000.0'],\n",
        " ['Arab World',\n",
        "  'ARB',\n",
        "  'Birth rate, crude (per 1,000 people)',\n",
        "  'SP.DYN.CBRT.IN',\n",
        "  '1960',\n",
        "  '47.697888095096395'],\n",
        " ['Arab World',\n",
        "  'ARB',\n",
        "  'CO2 emissions (kt)',\n",
        "  'EN.ATM.CO2E.KT',\n",
        "  '1960',\n",
        "  '59563.9892169935'],\n",
        " ['Arab World',\n",
        "  'ARB',\n",
        "  'CO2 emissions (metric tons per capita)',\n",
        "  'EN.ATM.CO2E.PC',\n",
        "  '1960',\n",
        "  '0.6439635478877049'],\n",
        " ['Arab World',\n",
        "  'ARB',\n",
        "  'CO2 emissions from gaseous fuel consumption (% of total)',\n",
        "  'EN.ATM.CO2E.GF.ZS',\n",
        "  '1960',\n",
        "  '5.041291753975099'],\n",
        " ['Arab World',\n",
        "  'ARB',\n",
        "  'CO2 emissions from liquid fuel consumption (% of total)',\n",
        "  'EN.ATM.CO2E.LF.ZS',\n",
        "  '1960',\n",
        "  '84.8514729446567'],\n",
        " ['Arab World',\n",
        "  'ARB',\n",
        "  'CO2 emissions from liquid fuel consumption (kt)',\n",
        "  'EN.ATM.CO2E.LF.KT',\n",
        "  '1960',\n",
        "  '49541.707291032304'],\n",
        " ['Arab World',\n",
        "  'ARB',\n",
        "  'CO2 emissions from solid fuel consumption (% of total)',\n",
        "  'EN.ATM.CO2E.SF.ZS',\n",
        "  '1960',\n",
        "  '4.72698138789597'],\n",
        " ['Arab World',\n",
        "  'ARB',\n",
        "  'Death rate, crude (per 1,000 people)',\n",
        "  'SP.DYN.CDRT.IN',\n",
        "  '1960',\n",
        "  '19.7544519237187'],\n",
        " ['Arab World',\n",
        "  'ARB',\n",
        "  'Fertility rate, total (births per woman)',\n",
        "  'SP.DYN.TFRT.IN',\n",
        "  '1960',\n",
        "  '6.92402738655897'],\n",
        " ['Arab World',\n",
        "  'ARB',\n",
        "  'Fixed telephone subscriptions',\n",
        "  'IT.MLT.MAIN',\n",
        "  '1960',\n",
        "  '406833.0'],\n",
        " ['Arab World',\n",
        "  'ARB',\n",
        "  'Fixed telephone subscriptions (per 100 people)',\n",
        "  'IT.MLT.MAIN.P2',\n",
        "  '1960',\n",
        "  '0.6167005703199'],\n",
        " ['Arab World',\n",
        "  'ARB',\n",
        "  'Hospital beds (per 1,000 people)',\n",
        "  'SH.MED.BEDS.ZS',\n",
        "  '1960',\n",
        "  '1.9296220724398703'],\n",
        " ['Arab World',\n",
        "  'ARB',\n",
        "  'International migrant stock (% of population)',\n",
        "  'SM.POP.TOTL.ZS',\n",
        "  '1960',\n",
        "  '2.9906371279862403'],\n",
        " ['Arab World',\n",
        "  'ARB',\n",
        "  'International migrant stock, total',\n",
        "  'SM.POP.TOTL',\n",
        "  '1960',\n",
        "  '3324685.0']]\n",
        "\n",
        "# Print the first two lists in row_lists\n",
        "print(row_lists[0])\n",
        "print(row_lists[1])\n",
        "\n",
        "# Turn list of lists into list of dicts: list_of_dicts\n",
        "list_of_dicts = [lists2dict(feature_names, sublist) for sublist in row_lists]\n",
        "\n",
        "# Print the first two dictionaries in list_of_dicts\n",
        "print(list_of_dicts[0])\n",
        "print(list_of_dicts[1])"
      ],
      "execution_count": 55,
      "outputs": [
        {
          "output_type": "stream",
          "text": [
            "['Arab World', 'ARB', 'Adolescent fertility rate (births per 1,000 women ages 15-19)', 'SP.ADO.TFRT', '1960', '133.56090740552298']\n",
            "['Arab World', 'ARB', 'Age dependency ratio (% of working-age population)', 'SP.POP.DPND', '1960', '87.7976011532547']\n",
            "{'CountryName': 'Arab World', 'CountryCode': 'ARB', 'IndicatorName': 'Adolescent fertility rate (births per 1,000 women ages 15-19)', 'IndicatorCode': 'SP.ADO.TFRT', 'Year': '1960', 'Value': '133.56090740552298'}\n",
            "{'CountryName': 'Arab World', 'CountryCode': 'ARB', 'IndicatorName': 'Age dependency ratio (% of working-age population)', 'IndicatorCode': 'SP.POP.DPND', 'Year': '1960', 'Value': '87.7976011532547'}\n"
          ],
          "name": "stdout"
        }
      ]
    },
    {
      "cell_type": "code",
      "metadata": {
        "colab": {
          "base_uri": "https://localhost:8080/"
        },
        "id": "TcV9jmtmQc1V",
        "outputId": "593512a3-7852-41ed-9514-9633857b5952"
      },
      "source": [
        "# Turning this all into a DataFrame\n",
        "\n",
        "import pandas as pd \n",
        "\n",
        "# Turn list of lists into list of dicts: list_of_dicts\n",
        "list_of_dicts = [lists2dict(feature_names, sublist) for sublist in row_lists]\n",
        "\n",
        "# Turn list of dicts into a DataFrame: df\n",
        "df = pd.DataFrame(list_of_dicts)\n",
        "\n",
        "# Print the head of the DataFrame\n",
        "print(df.head())"
      ],
      "execution_count": 56,
      "outputs": [
        {
          "output_type": "stream",
          "text": [
            "  CountryName CountryCode  ...  Year               Value\n",
            "0  Arab World         ARB  ...  1960  133.56090740552298\n",
            "1  Arab World         ARB  ...  1960    87.7976011532547\n",
            "2  Arab World         ARB  ...  1960   6.634579191565161\n",
            "3  Arab World         ARB  ...  1960   81.02332950839141\n",
            "4  Arab World         ARB  ...  1960           3000000.0\n",
            "\n",
            "[5 rows x 6 columns]\n"
          ],
          "name": "stdout"
        }
      ]
    },
    {
      "cell_type": "code",
      "metadata": {
        "colab": {
          "base_uri": "https://localhost:8080/"
        },
        "id": "YcR4vOfLQ8Km",
        "outputId": "1a670c6c-d76a-47ef-94b8-e64a9f52b288"
      },
      "source": [
        "# 3.2 Using Python generators for streaming data\n",
        "\n",
        "# Processing data in chunks (1)\n",
        "\n",
        "# Open a connection to the file\n",
        "fname = '/content/drive/MyDrive/datasets/world_ind_pop_data.csv'\n",
        "\n",
        "with open(fname) as file:\n",
        "\n",
        "    # Skip the column names\n",
        "    file.readline()\n",
        "\n",
        "    # Initialize an empty dictionary: counts_dict\n",
        "    counts_dict = {}\n",
        "\n",
        "    # Process only the first 1000 rows\n",
        "    for j in range(0, 1000):\n",
        "\n",
        "        # Split the current line into a list: line\n",
        "        line = file.readline().split(',')\n",
        "\n",
        "        # Get the value for the first column: first_col\n",
        "        first_col = line[0]\n",
        "\n",
        "        # If the column value is in the dict, increment its value\n",
        "        if first_col in counts_dict.keys():\n",
        "            counts_dict[first_col] += 1\n",
        "\n",
        "        # Else, add to the dict and set value to 1\n",
        "        else:\n",
        "            counts_dict[first_col] = 1\n",
        "\n",
        "# Print the resulting dictionary\n",
        "print(counts_dict)"
      ],
      "execution_count": 80,
      "outputs": [
        {
          "output_type": "stream",
          "text": [
            "{'Arab World': 5, 'Caribbean small states': 5, 'Central Europe and the Baltics': 5, 'East Asia & Pacific (all income levels)': 5, 'East Asia & Pacific (developing only)': 5, 'Euro area': 5, 'Europe & Central Asia (all income levels)': 5, 'Europe & Central Asia (developing only)': 5, 'European Union': 5, 'Fragile and conflict affected situations': 5, 'Heavily indebted poor countries (HIPC)': 5, 'High income': 5, 'High income: nonOECD': 5, 'High income: OECD': 5, 'Latin America & Caribbean (all income levels)': 5, 'Latin America & Caribbean (developing only)': 5, 'Least developed countries: UN classification': 5, 'Low & middle income': 5, 'Low income': 5, 'Lower middle income': 5, 'Middle East & North Africa (all income levels)': 5, 'Middle East & North Africa (developing only)': 5, 'Middle income': 5, 'North America': 5, 'OECD members': 5, 'Other small states': 5, 'Pacific island small states': 5, 'Small states': 5, 'South Asia': 5, 'Sub-Saharan Africa (all income levels)': 5, 'Sub-Saharan Africa (developing only)': 5, 'Upper middle income': 5, 'World': 4, 'Afghanistan': 4, 'Albania': 4, 'Algeria': 4, 'American Samoa': 4, 'Andorra': 4, 'Angola': 4, 'Antigua and Barbuda': 4, 'Argentina': 4, 'Armenia': 4, 'Aruba': 4, 'Australia': 4, 'Austria': 4, 'Azerbaijan': 4, '\"Bahamas': 4, 'Bahrain': 4, 'Bangladesh': 4, 'Barbados': 4, 'Belarus': 4, 'Belgium': 4, 'Belize': 4, 'Benin': 4, 'Bermuda': 4, 'Bhutan': 4, 'Bolivia': 4, 'Bosnia and Herzegovina': 4, 'Botswana': 4, 'Brazil': 4, 'Brunei Darussalam': 4, 'Bulgaria': 4, 'Burkina Faso': 4, 'Burundi': 4, 'Cabo Verde': 4, 'Cambodia': 4, 'Cameroon': 4, 'Canada': 4, 'Cayman Islands': 4, 'Central African Republic': 4, 'Chad': 4, 'Channel Islands': 4, 'Chile': 4, 'China': 4, 'Colombia': 4, 'Comoros': 4, '\"Congo': 8, 'Costa Rica': 4, \"Cote d'Ivoire\": 4, 'Croatia': 4, 'Cuba': 4, 'Curacao': 4, 'Cyprus': 4, 'Czech Republic': 4, 'Denmark': 4, 'Djibouti': 4, 'Dominica': 4, 'Dominican Republic': 4, 'Ecuador': 4, '\"Egypt': 4, 'El Salvador': 4, 'Equatorial Guinea': 4, 'Eritrea': 4, 'Estonia': 4, 'Ethiopia': 4, 'Faeroe Islands': 4, 'Fiji': 4, 'Finland': 4, 'France': 4, 'French Polynesia': 4, 'Gabon': 4, '\"Gambia': 4, 'Georgia': 4, 'Germany': 4, 'Ghana': 4, 'Greece': 4, 'Greenland': 4, 'Grenada': 4, 'Guam': 4, 'Guatemala': 4, 'Guinea': 4, 'Guinea-Bissau': 4, 'Guyana': 4, 'Haiti': 4, 'Honduras': 4, '\"Hong Kong SAR': 4, 'Hungary': 4, 'Iceland': 4, 'India': 4, 'Indonesia': 4, '\"Iran': 4, 'Iraq': 4, 'Ireland': 4, 'Isle of Man': 4, 'Israel': 4, 'Italy': 4, 'Jamaica': 4, 'Japan': 4, 'Jordan': 4, 'Kazakhstan': 4, 'Kenya': 4, 'Kiribati': 4, '\"Korea': 8, 'Kuwait': 4, 'Kyrgyz Republic': 4, 'Lao PDR': 4, 'Latvia': 4, 'Lebanon': 4, 'Lesotho': 4, 'Liberia': 4, 'Libya': 4, 'Liechtenstein': 4, 'Lithuania': 4, 'Luxembourg': 4, '\"Macao SAR': 4, '\"Macedonia': 4, 'Madagascar': 4, 'Malawi': 4, 'Malaysia': 4, 'Maldives': 4, 'Mali': 4, 'Malta': 4, 'Marshall Islands': 4, 'Mauritania': 4, 'Mauritius': 4, 'Mexico': 4, '\"Micronesia': 4, 'Moldova': 4, 'Monaco': 4, 'Mongolia': 4, 'Montenegro': 4, 'Morocco': 4, 'Mozambique': 4, 'Myanmar': 4, 'Namibia': 4, 'Nepal': 4, 'Netherlands': 4, 'New Caledonia': 4, 'New Zealand': 4, 'Nicaragua': 4, 'Niger': 4, 'Nigeria': 4, 'Northern Mariana Islands': 4, 'Norway': 4, 'Oman': 4, 'Pakistan': 4, 'Palau': 4, 'Panama': 4, 'Papua New Guinea': 4, 'Paraguay': 4, 'Peru': 4, 'Philippines': 4, 'Poland': 4, 'Portugal': 4, 'Puerto Rico': 4, 'Qatar': 4, 'Romania': 4, 'Russian Federation': 4, 'Rwanda': 4, 'Samoa': 4, 'San Marino': 4, 'Sao Tome and Principe': 4, 'Saudi Arabia': 4, 'Senegal': 4, 'Seychelles': 4, 'Sierra Leone': 4, 'Singapore': 4, 'Slovak Republic': 4, 'Slovenia': 4, 'Solomon Islands': 4, 'Somalia': 4, 'South Africa': 4, 'South Sudan': 4, 'Spain': 4, 'Sri Lanka': 4, 'St. Kitts and Nevis': 4, 'St. Lucia': 4, 'St. Vincent and the Grenadines': 4, 'Sudan': 4, 'Suriname': 4, 'Swaziland': 4, 'Sweden': 4, 'Switzerland': 4, 'Syrian Arab Republic': 4, 'Tajikistan': 4, 'Tanzania': 4, 'Thailand': 4, 'Timor-Leste': 4, 'Togo': 4, 'Tonga': 4, 'Trinidad and Tobago': 4, 'Tunisia': 4, 'Turkey': 4, 'Turkmenistan': 4, 'Turks and Caicos Islands': 4, 'Tuvalu': 4, 'Uganda': 4, 'Ukraine': 4, 'United Arab Emirates': 4, 'United Kingdom': 4, 'United States': 4, 'Uruguay': 4, 'Uzbekistan': 4, 'Vanuatu': 4, '\"Venezuela': 4, 'Vietnam': 4, 'Virgin Islands (U.S.)': 4, '\"Yemen': 4, 'Zambia': 4, 'Zimbabwe': 4}\n"
          ],
          "name": "stdout"
        }
      ]
    },
    {
      "cell_type": "code",
      "metadata": {
        "colab": {
          "base_uri": "https://localhost:8080/"
        },
        "id": "dnQeyCygXD5P",
        "outputId": "d1e08745-32cc-43de-a97c-428d5813f541"
      },
      "source": [
        "# Writing a generator to load data in chunks (2)\n",
        "\n",
        "# Define read_large_file()\n",
        "def read_large_file(file_object):\n",
        "    \"\"\"A generator function to read a large file lazily.\"\"\"\n",
        "\n",
        "    # Loop indefinitely until the end of the file\n",
        "    while True:\n",
        "\n",
        "        # Read a line from the file: data\n",
        "        data = file_object.readline()\n",
        "\n",
        "        # Break if this is the end of the file\n",
        "        if not data:\n",
        "            break\n",
        "\n",
        "        # Yield the line of data\n",
        "        yield data\n",
        "        \n",
        "# Open a connection to the file\n",
        "fname = '/content/drive/MyDrive/datasets/world_ind_pop_data.csv'\n",
        "with open(fname) as file:\n",
        "\n",
        "    # Create a generator object for the file: gen_file\n",
        "    gen_file = read_large_file(file)\n",
        "\n",
        "    # Print the first three lines of the file\n",
        "    print(next(gen_file))\n",
        "    print(next(gen_file))\n",
        "    print(next(gen_file))"
      ],
      "execution_count": 81,
      "outputs": [
        {
          "output_type": "stream",
          "text": [
            "CountryName,CountryCode,Year,Total Population,Urban population (% of total)\n",
            "\n",
            "Arab World,ARB,1960,92495902.0,31.285384211605397\n",
            "\n",
            "Caribbean small states,CSS,1960,4190810.0,31.5974898513652\n",
            "\n"
          ],
          "name": "stdout"
        }
      ]
    },
    {
      "cell_type": "code",
      "metadata": {
        "colab": {
          "base_uri": "https://localhost:8080/"
        },
        "id": "hUZ7zIkoXM62",
        "outputId": "63b217e8-6e6e-4934-f20d-224de6911b6d"
      },
      "source": [
        "# Writing a generator to load data in chunks (3)\n",
        "\n",
        "# Initialize an empty dictionary: counts_dict\n",
        "counts_dict = {}\n",
        "\n",
        "# Open a connection to the file\n",
        "fname = '/content/drive/MyDrive/datasets/world_ind_pop_data.csv'\n",
        "with open(fname) as file:\n",
        "\n",
        "    # Iterate over the generator from read_large_file()\n",
        "    for line in read_large_file(file):\n",
        "\n",
        "        row = line.split(',')\n",
        "        first_col = row[0]\n",
        "\n",
        "        if first_col in counts_dict.keys():\n",
        "            counts_dict[first_col] += 1\n",
        "        else:\n",
        "            counts_dict[first_col] = 1\n",
        "\n",
        "# Print            \n",
        "print(counts_dict)"
      ],
      "execution_count": 83,
      "outputs": [
        {
          "output_type": "stream",
          "text": [
            "{'CountryName': 1, 'Arab World': 55, 'Caribbean small states': 55, 'Central Europe and the Baltics': 55, 'East Asia & Pacific (all income levels)': 55, 'East Asia & Pacific (developing only)': 55, 'Euro area': 55, 'Europe & Central Asia (all income levels)': 55, 'Europe & Central Asia (developing only)': 55, 'European Union': 55, 'Fragile and conflict affected situations': 55, 'Heavily indebted poor countries (HIPC)': 55, 'High income': 55, 'High income: nonOECD': 55, 'High income: OECD': 55, 'Latin America & Caribbean (all income levels)': 55, 'Latin America & Caribbean (developing only)': 55, 'Least developed countries: UN classification': 55, 'Low & middle income': 55, 'Low income': 55, 'Lower middle income': 55, 'Middle East & North Africa (all income levels)': 55, 'Middle East & North Africa (developing only)': 55, 'Middle income': 55, 'North America': 55, 'OECD members': 55, 'Other small states': 55, 'Pacific island small states': 55, 'Small states': 55, 'South Asia': 55, 'Sub-Saharan Africa (all income levels)': 55, 'Sub-Saharan Africa (developing only)': 55, 'Upper middle income': 55, 'World': 55, 'Afghanistan': 55, 'Albania': 55, 'Algeria': 55, 'American Samoa': 55, 'Andorra': 55, 'Angola': 55, 'Antigua and Barbuda': 55, 'Argentina': 55, 'Armenia': 55, 'Aruba': 55, 'Australia': 55, 'Austria': 55, 'Azerbaijan': 55, '\"Bahamas': 55, 'Bahrain': 55, 'Bangladesh': 55, 'Barbados': 55, 'Belarus': 55, 'Belgium': 55, 'Belize': 55, 'Benin': 55, 'Bermuda': 55, 'Bhutan': 55, 'Bolivia': 55, 'Bosnia and Herzegovina': 55, 'Botswana': 55, 'Brazil': 55, 'Brunei Darussalam': 55, 'Bulgaria': 55, 'Burkina Faso': 55, 'Burundi': 55, 'Cabo Verde': 55, 'Cambodia': 55, 'Cameroon': 55, 'Canada': 55, 'Cayman Islands': 55, 'Central African Republic': 55, 'Chad': 55, 'Channel Islands': 55, 'Chile': 55, 'China': 55, 'Colombia': 55, 'Comoros': 55, '\"Congo': 110, 'Costa Rica': 55, \"Cote d'Ivoire\": 55, 'Croatia': 55, 'Cuba': 55, 'Curacao': 55, 'Cyprus': 55, 'Czech Republic': 55, 'Denmark': 55, 'Djibouti': 55, 'Dominica': 55, 'Dominican Republic': 55, 'Ecuador': 55, '\"Egypt': 55, 'El Salvador': 55, 'Equatorial Guinea': 55, 'Eritrea': 55, 'Estonia': 55, 'Ethiopia': 55, 'Faeroe Islands': 55, 'Fiji': 55, 'Finland': 55, 'France': 55, 'French Polynesia': 55, 'Gabon': 55, '\"Gambia': 55, 'Georgia': 55, 'Germany': 55, 'Ghana': 55, 'Greece': 55, 'Greenland': 55, 'Grenada': 55, 'Guam': 55, 'Guatemala': 55, 'Guinea': 55, 'Guinea-Bissau': 55, 'Guyana': 55, 'Haiti': 55, 'Honduras': 55, '\"Hong Kong SAR': 55, 'Hungary': 55, 'Iceland': 55, 'India': 55, 'Indonesia': 55, '\"Iran': 55, 'Iraq': 55, 'Ireland': 55, 'Isle of Man': 55, 'Israel': 55, 'Italy': 55, 'Jamaica': 55, 'Japan': 55, 'Jordan': 55, 'Kazakhstan': 55, 'Kenya': 55, 'Kiribati': 55, '\"Korea': 110, 'Kuwait': 52, 'Kyrgyz Republic': 55, 'Lao PDR': 55, 'Latvia': 55, 'Lebanon': 55, 'Lesotho': 55, 'Liberia': 55, 'Libya': 55, 'Liechtenstein': 55, 'Lithuania': 55, 'Luxembourg': 55, '\"Macao SAR': 55, '\"Macedonia': 55, 'Madagascar': 55, 'Malawi': 55, 'Malaysia': 55, 'Maldives': 55, 'Mali': 55, 'Malta': 55, 'Marshall Islands': 55, 'Mauritania': 55, 'Mauritius': 55, 'Mexico': 55, '\"Micronesia': 55, 'Moldova': 55, 'Monaco': 55, 'Mongolia': 55, 'Montenegro': 55, 'Morocco': 55, 'Mozambique': 55, 'Myanmar': 55, 'Namibia': 55, 'Nepal': 55, 'Netherlands': 55, 'New Caledonia': 55, 'New Zealand': 55, 'Nicaragua': 55, 'Niger': 55, 'Nigeria': 55, 'Northern Mariana Islands': 55, 'Norway': 55, 'Oman': 55, 'Pakistan': 55, 'Palau': 55, 'Panama': 55, 'Papua New Guinea': 55, 'Paraguay': 55, 'Peru': 55, 'Philippines': 55, 'Poland': 55, 'Portugal': 55, 'Puerto Rico': 55, 'Qatar': 55, 'Romania': 55, 'Russian Federation': 55, 'Rwanda': 55, 'Samoa': 55, 'San Marino': 55, 'Sao Tome and Principe': 55, 'Saudi Arabia': 55, 'Senegal': 55, 'Seychelles': 55, 'Sierra Leone': 55, 'Singapore': 55, 'Slovak Republic': 55, 'Slovenia': 55, 'Solomon Islands': 55, 'Somalia': 55, 'South Africa': 55, 'South Sudan': 55, 'Spain': 55, 'Sri Lanka': 55, 'St. Kitts and Nevis': 55, 'St. Lucia': 55, 'St. Vincent and the Grenadines': 55, 'Sudan': 55, 'Suriname': 55, 'Swaziland': 55, 'Sweden': 55, 'Switzerland': 55, 'Syrian Arab Republic': 55, 'Tajikistan': 55, 'Tanzania': 55, 'Thailand': 55, 'Timor-Leste': 55, 'Togo': 55, 'Tonga': 55, 'Trinidad and Tobago': 55, 'Tunisia': 55, 'Turkey': 55, 'Turkmenistan': 55, 'Turks and Caicos Islands': 55, 'Tuvalu': 55, 'Uganda': 55, 'Ukraine': 55, 'United Arab Emirates': 55, 'United Kingdom': 55, 'United States': 55, 'Uruguay': 55, 'Uzbekistan': 55, 'Vanuatu': 55, '\"Venezuela': 55, 'Vietnam': 55, 'Virgin Islands (U.S.)': 55, '\"Yemen': 55, 'Zambia': 55, 'Zimbabwe': 55, 'Serbia': 25, 'West Bank and Gaza': 25, 'Sint Maarten (Dutch part)': 17}\n"
          ],
          "name": "stdout"
        }
      ]
    },
    {
      "cell_type": "code",
      "metadata": {
        "colab": {
          "base_uri": "https://localhost:8080/"
        },
        "id": "E58-ph8tXWHT",
        "outputId": "0b5d28b8-5c39-46ec-d442-d8a700befd23"
      },
      "source": [
        "# 3.3 Using pandas' read_csv iterator for streaming data\n",
        "\n",
        "# Writing an iterator to load data in chunks (1)\n",
        "\n",
        "# Import the pandas package\n",
        "import pandas as pd\n",
        "\n",
        "fname = 'https://raw.githubusercontent.com/chesterheng/ai-for-industry/master/datasets/world_ind_pop_data.csv'\n",
        "\n",
        "# Initialize reader object: df_reader\n",
        "df_reader = pd.read_csv(fname, chunksize=10)\n",
        "\n",
        "# Print two chunks\n",
        "print(next(df_reader))\n",
        "print(next(df_reader))"
      ],
      "execution_count": 70,
      "outputs": [
        {
          "output_type": "stream",
          "text": [
            "                                 CountryName  ... Urban population (% of total)\n",
            "0                                 Arab World  ...                     31.285384\n",
            "1                     Caribbean small states  ...                     31.597490\n",
            "2             Central Europe and the Baltics  ...                     44.507921\n",
            "3    East Asia & Pacific (all income levels)  ...                     22.471132\n",
            "4      East Asia & Pacific (developing only)  ...                     16.917679\n",
            "5                                  Euro area  ...                     62.096947\n",
            "6  Europe & Central Asia (all income levels)  ...                     55.378977\n",
            "7    Europe & Central Asia (developing only)  ...                     38.066129\n",
            "8                             European Union  ...                     61.212898\n",
            "9   Fragile and conflict affected situations  ...                     17.891972\n",
            "\n",
            "[10 rows x 5 columns]\n",
            "                                      CountryName  ... Urban population (% of total)\n",
            "10         Heavily indebted poor countries (HIPC)  ...                     12.236046\n",
            "11                                    High income  ...                     62.680332\n",
            "12                           High income: nonOECD  ...                     56.107863\n",
            "13                              High income: OECD  ...                     64.285435\n",
            "14  Latin America & Caribbean (all income levels)  ...                     49.284688\n",
            "15    Latin America & Caribbean (developing only)  ...                     44.863308\n",
            "16   Least developed countries: UN classification  ...                      9.616261\n",
            "17                            Low & middle income  ...                     21.272894\n",
            "18                                     Low income  ...                     11.498396\n",
            "19                            Lower middle income  ...                     19.810513\n",
            "\n",
            "[10 rows x 5 columns]\n"
          ],
          "name": "stdout"
        }
      ]
    },
    {
      "cell_type": "code",
      "metadata": {
        "colab": {
          "base_uri": "https://localhost:8080/"
        },
        "id": "LOYzsjT5XyX_",
        "outputId": "9d10a048-235c-46ba-d949-5d605b1b0e47"
      },
      "source": [
        "# Writing an iterator to load data in chunks (2)\n",
        "\n",
        "fname = 'https://raw.githubusercontent.com/chesterheng/ai-for-industry/master/datasets/world_ind_pop_data.csv'\n",
        "\n",
        "# Initialize reader object: urb_pop_reader\n",
        "urb_pop_reader = pd.read_csv(fname, chunksize=1000)\n",
        "\n",
        "# Get the first DataFrame chunk: df_urb_pop\n",
        "df_urb_pop = next(urb_pop_reader)\n",
        "\n",
        "# Check out the head of the DataFrame\n",
        "print(df_urb_pop.head())\n",
        "\n",
        "# Check out specific country: df_pop_ceb\n",
        "df_pop_ceb = df_urb_pop[df_urb_pop['CountryCode'] == 'CEB']\n",
        "\n",
        "# Zip DataFrame columns of interest: pops\n",
        "pops = zip(df_pop_ceb['Total Population'], df_pop_ceb['Urban population (% of total)'])\n",
        "\n",
        "# Turn zip object into list: pops_list\n",
        "pops_list = list(pops)\n",
        "\n",
        "# Print pops_list\n",
        "print(pops_list)"
      ],
      "execution_count": 72,
      "outputs": [
        {
          "output_type": "stream",
          "text": [
            "                               CountryName  ... Urban population (% of total)\n",
            "0                               Arab World  ...                     31.285384\n",
            "1                   Caribbean small states  ...                     31.597490\n",
            "2           Central Europe and the Baltics  ...                     44.507921\n",
            "3  East Asia & Pacific (all income levels)  ...                     22.471132\n",
            "4    East Asia & Pacific (developing only)  ...                     16.917679\n",
            "\n",
            "[5 rows x 5 columns]\n",
            "[(91401583.0, 44.5079211390026), (92237118.0, 45.206665319194), (93014890.0, 45.866564696018), (93845749.0, 46.5340927663649), (94722599.0, 47.2087429803526)]\n"
          ],
          "name": "stdout"
        }
      ]
    },
    {
      "cell_type": "code",
      "metadata": {
        "colab": {
          "base_uri": "https://localhost:8080/",
          "height": 411
        },
        "id": "LmXLfVwlYOcD",
        "outputId": "e67c76ce-6dad-4688-ae5b-8b2c37a5b7be"
      },
      "source": [
        "# Writing an iterator to load data in chunks (3)\n",
        "\n",
        "import matplotlib.pyplot as plt\n",
        "fname = 'https://raw.githubusercontent.com/chesterheng/ai-for-industry/master/datasets/world_ind_pop_data.csv'\n",
        "\n",
        "# Code from previous exercise\n",
        "urb_pop_reader = pd.read_csv(fname, chunksize=1000)\n",
        "df_urb_pop = next(urb_pop_reader)\n",
        "df_pop_ceb = df_urb_pop[df_urb_pop['CountryCode'] == 'CEB']\n",
        "pops = zip(df_pop_ceb['Total Population'], \n",
        "           df_pop_ceb['Urban population (% of total)'])\n",
        "pops_list = list(pops)\n",
        "\n",
        "# Use list comprehension to create new DataFrame column 'Total Urban Population'\n",
        "df_pop_ceb['Total Urban Population'] = [int(tup[0] * tup[1] * 0.01) for tup in pops_list]\n",
        "\n",
        "# Plot urban population data\n",
        "df_pop_ceb.plot(kind='scatter', x='Year', y='Total Urban Population')\n",
        "plt.show()"
      ],
      "execution_count": 76,
      "outputs": [
        {
          "output_type": "stream",
          "text": [
            "/usr/local/lib/python3.6/dist-packages/ipykernel_launcher.py:15: SettingWithCopyWarning: \n",
            "A value is trying to be set on a copy of a slice from a DataFrame.\n",
            "Try using .loc[row_indexer,col_indexer] = value instead\n",
            "\n",
            "See the caveats in the documentation: https://pandas.pydata.org/pandas-docs/stable/user_guide/indexing.html#returning-a-view-versus-a-copy\n",
            "  from ipykernel import kernelapp as app\n"
          ],
          "name": "stderr"
        },
        {
          "output_type": "display_data",
          "data": {
            "image/png": "[encoded data removed]",
            "text/plain": [
              "<Figure size 432x288 with 1 Axes>"
            ]
          },
          "metadata": {
            "tags": [],
            "needs_background": "light"
          }
        }
      ]
    },
    {
      "cell_type": "code",
      "metadata": {
        "colab": {
          "base_uri": "https://localhost:8080/",
          "height": 394
        },
        "id": "wCtbsIywYpvu",
        "outputId": "5de9ee87-1ab8-4f5a-bc17-2417076fd833"
      },
      "source": [
        "# Writing an iterator to load data in chunks (4)\n",
        "\n",
        "import matplotlib.pyplot as plt\n",
        "fname = 'https://raw.githubusercontent.com/chesterheng/ai-for-industry/master/datasets/world_ind_pop_data.csv'\n",
        "\n",
        "# Initialize reader object: urb_pop_reader\n",
        "urb_pop_reader = pd.read_csv(fname, chunksize=1000)\n",
        "\n",
        "# Initialize empty DataFrame: data\n",
        "data = pd.DataFrame()\n",
        "\n",
        "# Iterate over each DataFrame chunk\n",
        "for df_urb_pop in urb_pop_reader:\n",
        "\n",
        "    # Check out specific country: df_pop_ceb\n",
        "    df_pop_ceb = df_urb_pop[df_urb_pop['CountryCode'] == 'CEB']\n",
        "\n",
        "    # Zip DataFrame columns of interest: pops\n",
        "    pops = zip(df_pop_ceb['Total Population'],\n",
        "                df_pop_ceb['Urban population (% of total)'])\n",
        "\n",
        "    # Turn zip object into list: pops_list\n",
        "    pops_list = list(pops)\n",
        "\n",
        "    # Use list comprehension to create new DataFrame column 'Total Urban Population'\n",
        "    df_pop_ceb['Total Urban Population'] = [int(tup[0] * tup[1] * 0.01) for tup in pops_list]\n",
        "    \n",
        "    # Append DataFrame chunk to data: data\n",
        "    data = data.append(df_pop_ceb)\n",
        "    \n",
        "# Plot urban population data\n",
        "data.plot(kind='scatter', x='Year', y='Total Urban Population')\n",
        "plt.show()\n"
      ],
      "execution_count": 77,
      "outputs": [
        {
          "output_type": "stream",
          "text": [
            "/usr/local/lib/python3.6/dist-packages/ipykernel_launcher.py:26: SettingWithCopyWarning: \n",
            "A value is trying to be set on a copy of a slice from a DataFrame.\n",
            "Try using .loc[row_indexer,col_indexer] = value instead\n",
            "\n",
            "See the caveats in the documentation: https://pandas.pydata.org/pandas-docs/stable/user_guide/indexing.html#returning-a-view-versus-a-copy\n"
          ],
          "name": "stderr"
        },
        {
          "output_type": "display_data",
          "data": {
            "image/png": "[encoded data removed]",
            "text/plain": [
              "<Figure size 432x288 with 1 Axes>"
            ]
          },
          "metadata": {
            "tags": [],
            "needs_background": "light"
          }
        }
      ]
    },
    {
      "cell_type": "code",
      "metadata": {
        "colab": {
          "base_uri": "https://localhost:8080/",
          "height": 667
        },
        "id": "b8-QiMwhZG9S",
        "outputId": "1e6bbba6-4b93-4f34-df66-bd21d28697b9"
      },
      "source": [
        "# Writing an iterator to load data in chunks (5)\n",
        "\n",
        "# Define plot_pop()\n",
        "def plot_pop(filename, country_code):\n",
        "\n",
        "    # Initialize reader object: urb_pop_reader\n",
        "    urb_pop_reader = pd.read_csv(filename, chunksize=1000)\n",
        "\n",
        "    # Initialize empty DataFrame: data\n",
        "    data = pd.DataFrame()\n",
        "    \n",
        "    # Iterate over each DataFrame chunk\n",
        "    for df_urb_pop in urb_pop_reader:\n",
        "        # Check out specific country: df_pop_ceb\n",
        "        df_pop_ceb = df_urb_pop[df_urb_pop['CountryCode'] == country_code]\n",
        "\n",
        "        # Zip DataFrame columns of interest: pops\n",
        "        pops = zip(df_pop_ceb['Total Population'],\n",
        "                    df_pop_ceb['Urban population (% of total)'])\n",
        "\n",
        "        # Turn zip object into list: pops_list\n",
        "        pops_list = list(pops)\n",
        "\n",
        "        # Use list comprehension to create new DataFrame column 'Total Urban Population'\n",
        "        df_pop_ceb['Total Urban Population'] = [int(tup[0] * tup[1] * 0.01) for tup in pops_list]\n",
        "    \n",
        "        # Append DataFrame chunk to data: data\n",
        "        data = data.append(df_pop_ceb)\n",
        "\n",
        "    # Plot urban population data\n",
        "    data.plot(kind='scatter', x='Year', y='Total Urban Population')\n",
        "    plt.show()\n",
        "\n",
        "import matplotlib.pyplot as plt\n",
        "\n",
        "# Set the filename: fn\n",
        "fn = 'https://raw.githubusercontent.com/chesterheng/ai-for-industry/master/datasets/world_ind_pop_data.csv'\n",
        "\n",
        "# Call plot_pop for country code 'CEB'\n",
        "plot_pop(fn, 'CEB')\n",
        "\n",
        "# Call plot_pop for country code 'ARB'\n",
        "plot_pop(fn, 'ARB')"
      ],
      "execution_count": 79,
      "outputs": [
        {
          "output_type": "stream",
          "text": [
            "/usr/local/lib/python3.6/dist-packages/ipykernel_launcher.py:25: SettingWithCopyWarning: \n",
            "A value is trying to be set on a copy of a slice from a DataFrame.\n",
            "Try using .loc[row_indexer,col_indexer] = value instead\n",
            "\n",
            "See the caveats in the documentation: https://pandas.pydata.org/pandas-docs/stable/user_guide/indexing.html#returning-a-view-versus-a-copy\n"
          ],
          "name": "stderr"
        },
        {
          "output_type": "display_data",
          "data": {
            "image/png": "[encoded data removed]",
            "text/plain": [
              "<Figure size 432x288 with 1 Axes>"
            ]
          },
          "metadata": {
            "tags": [],
            "needs_background": "light"
          }
        },
        {
          "output_type": "display_data",
          "data": {
            "image/png": "[encoded data removed]",
            "text/plain": [
              "<Figure size 432x288 with 1 Axes>"
            ]
          },
          "metadata": {
            "tags": [],
            "needs_background": "light"
          }
        }
      ]
    },
    {
      "cell_type": "code",
      "metadata": {
        "id": "aAYxL2MdZid-"
      },
      "source": [
        ""
      ],
      "execution_count": null,
      "outputs": []
    }
  ]
}