{
  "nbformat": 4,
  "nbformat_minor": 0,
  "metadata": {
    "colab": {
      "name": "08-01-introduction-to-sql.ipynb",
      "provenance": []
    },
    "kernelspec": {
      "name": "python3",
      "display_name": "Python 3"
    }
  },
  "cells": [
    {
      "cell_type": "markdown",
      "metadata": {
        "id": "SyqR2Mql1OD_"
      },
      "source": [
        "# Introduction to SQL\n",
        "## 1. Selecting columns\n",
        "## 2. Filtering rows\n",
        "## 3. Aggregate Functions\n",
        "## 4. Sorting and grouping"
      ]
    },
    {
      "cell_type": "markdown",
      "metadata": {
        "id": "NQ-VlpaB1taM"
      },
      "source": [
        "## 1. Selecting columns"
      ]
    },
    {
      "cell_type": "markdown",
      "metadata": {
        "id": "4Iofu47c1vzk"
      },
      "source": [
        "**Onboarding | Tables**\n",
        "\n",
        "If you've used DataCamp to learn R or Python, you'll be familiar with the interface. For SQL, however, there are a few new features you should be aware of.\n",
        "\n",
        "For this course, you'll be using a database containing information on almost 5000 films. To the right, underneath the editor, you can see the data in this database by clicking through the tabs.\n",
        "\n",
        "From looking at the tabs, who is the first person listed in the people table? Refer to films.sql\n",
        "\n",
        "**Possible Answers**\n",
        "\n",
        "- [ ] Kanye West\n",
        "- [ ] Biggie Smalls\n",
        "- [x] 50 Cent\n",
        "- [ ] Jay Z"
      ]
    },
    {
      "cell_type": "markdown",
      "metadata": {
        "id": "Orp7UmxM2Fth"
      },
      "source": [
        "**Onboarding | Query Result**\n",
        "\n",
        "Notice the query result tab in the bottom right corner of your screen. This is where the results of your SQL queries will be displayed.\n",
        "\n",
        "Run this query in the editor and check out the resulting table in the query result tab!\n",
        "\n",
        "`SELECT name FROM people;`\n",
        "\n",
        "Who is the second person listed in the query result?\n",
        "\n",
        "**Possible Answers**\n",
        "\n",
        "- [ ] Kanye West\n",
        "- [x] A. Michael Baldwin\n",
        "- [ ] 50 Cent\n",
        "- [ ] Jay Z"
      ]
    },
    {
      "cell_type": "markdown",
      "metadata": {
        "id": "kcnsNB342zna"
      },
      "source": [
        "**Onboarding | Errors**\n",
        "\n",
        "```\n",
        "-- Try running me!\n",
        "SELECT 'DataCamp <3 SQL'\n",
        "AS result;\n",
        "```\n",
        "\n",
        "**Onboarding | Bullet Exercises**\n",
        "\n",
        "```\n",
        "SELECT 'SQL'\n",
        "AS result;\n",
        "\n",
        "SELECT 'SQL is'\n",
        "AS result;\n",
        "\n",
        "SELECT 'SQL is cool'\n",
        "AS result;\n",
        "```"
      ]
    },
    {
      "cell_type": "markdown",
      "metadata": {
        "id": "grJCPh4Z3g7E"
      },
      "source": [
        "**Beginning your SQL journey**\n",
        "\n",
        "Now that you're familiar with the interface, let's get straight into it.\n",
        "\n",
        "SQL, which stands for Structured Query Language, is a language for interacting with data stored in something called a relational database.\n",
        "\n",
        "You can think of a relational database as a collection of tables. A table is just a set of rows and columns, like a spreadsheet, which represents exactly one type of entity. For example, a table might represent employees in a company or purchases made, but not both.\n",
        "\n",
        "Each row, or record, of a table contains information about a single entity. For example, in a table representing employees, each row represents a single person. Each column, or field, of a table contains a single attribute for all rows in the table. For example, in a table representing employees, we might have a column containing first and last names for all employees.\n",
        "\n",
        "The table of employees might look something like this:\n",
        "\n",
        "```\n",
        "id\tname\tage\tnationality\n",
        "1\tJessica\t22\tIreland\n",
        "2\tGabriel\t48\tFrance\n",
        "3\tLaura\t36\tUSA\n",
        "```\n",
        "\n",
        "How many fields does the employees table above contain?\n",
        "\n",
        "**Possible Answers**\n",
        "\n",
        "- [ ] 1\n",
        "- [ ] 2\n",
        "- [ ] 3\n",
        "- [x] 4"
      ]
    },
    {
      "cell_type": "markdown",
      "metadata": {
        "id": "JYFuKzgR30kW"
      },
      "source": [
        "**SELECTing single columns**\n",
        "\n",
        "```\n",
        "SELECT title\n",
        "FROM films;\n",
        "\n",
        "SELECT release_year\n",
        "FROM films;\n",
        "\n",
        "SELECT name\n",
        "FROM people;\n",
        "```"
      ]
    },
    {
      "cell_type": "markdown",
      "metadata": {
        "id": "0AsvhtYH4CLR"
      },
      "source": [
        "**SELECTing multiple columns**\n",
        "\n",
        "```\n",
        "SELECT title\n",
        "FROM films;\n",
        "\n",
        "SELECT title, release_year\n",
        "FROM films;\n",
        "\n",
        "SELECT title, release_year, country\n",
        "FROM films;\n",
        "\n",
        "SELECT *\n",
        "FROM films;\n",
        "```\n",
        "\n"
      ]
    },
    {
      "cell_type": "markdown",
      "metadata": {
        "id": "iEA882aQ4PGJ"
      },
      "source": [
        "**SELECT DISTINCT**\n",
        "\n",
        "```\n",
        "SELECT DISTINCT country\n",
        "FROM films;\n",
        "\n",
        "SELECT DISTINCT certification\n",
        "FROM films;\n",
        "\n",
        "SELECT DISTINCT role\n",
        "FROM roles;\n",
        "```"
      ]
    },
    {
      "cell_type": "markdown",
      "metadata": {
        "id": "UOJuOC5i4ap9"
      },
      "source": [
        "**Learning to COUNT**\n",
        "\n",
        "What if you want to count the number of employees in your employees table? The COUNT statement lets you do this by returning the number of rows in one or more columns.\n",
        "\n",
        "For example, this code gives the number of rows in the people table:\n",
        "\n",
        "```\n",
        "SELECT COUNT(*)\n",
        "FROM people;\n",
        "```\n",
        "\n",
        "How many records are contained in the reviews table?\n",
        "\n",
        "**Possible Answers**\n",
        "\n",
        "- [ ] 9,468\n",
        "- [ ] 8,397\n",
        "- [x] 4,968\n",
        "- [ ] 9,837\n",
        "- [ ] 9,864"
      ]
    },
    {
      "cell_type": "markdown",
      "metadata": {
        "id": "_YnqMyXn4qnN"
      },
      "source": [
        "**Practice with COUNT**\n",
        "\n",
        "```\n",
        "SELECT COUNT(*)\n",
        "FROM people;\n",
        "\n",
        "SELECT COUNT(birthdate)\n",
        "FROM people;\n",
        "\n",
        "SELECT COUNT(DISTINCT birthdate)\n",
        "FROM people;\n",
        "\n",
        "SELECT COUNT(DISTINCT language)\n",
        "FROM films;\n",
        "\n",
        "SELECT COUNT(DISTINCT country)\n",
        "FROM films;\n",
        "```"
      ]
    },
    {
      "cell_type": "markdown",
      "metadata": {
        "id": "Dv5CIi285_mD"
      },
      "source": [
        "## 2. Filtering rows"
      ]
    },
    {
      "cell_type": "markdown",
      "metadata": {
        "id": "lWvBIM8t6Bah"
      },
      "source": [
        "**Filtering results**\n",
        "\n",
        "In SQL, the WHERE keyword allows you to filter based on both text and numeric values in a table. \n",
        "\n",
        "There are a few different comparison operators you can use:\n",
        "\n",
        "- `= equal`\n",
        "- `<> not equal`\n",
        "- `< less than`\n",
        "- `> greater than`\n",
        "- `<= less than or equal to`\n",
        "- `>= greater than or equal to`\n",
        "\n",
        "For example, you can filter text records such as title. The following code returns all films with the title 'Metropolis':\n",
        "\n",
        "```\n",
        "SELECT title\n",
        "FROM films\n",
        "WHERE title = 'Metropolis';\n",
        "```\n",
        "\n",
        "Notice that the WHERE clause always comes after the FROM statement!\n",
        "\n",
        "Note that in this course we will use <> and not != for the not equal operator, as per the SQL standard.\n",
        "\n",
        "What does the following query return?\n",
        "\n",
        "```\n",
        "SELECT title\n",
        "FROM films\n",
        "WHERE release_year > 2000;\n",
        "```\n",
        "\n",
        "**Possible Answers**\n",
        "\n",
        "- [ ] Films released before the year 2000\n",
        "- [x] Films released after the year 2000\n",
        "- [ ] Films released after the year 2001\n",
        "- [ ] Films released in 2000\n"
      ]
    },
    {
      "cell_type": "markdown",
      "metadata": {
        "id": "7mv9YPrB6vi0"
      },
      "source": [
        "**Simple filtering of numeric values**\n",
        "\n",
        "```\n",
        "SELECT *\n",
        "FROM films\n",
        "WHERE release_year = 2016;\n",
        "\n",
        "SELECT COUNT(*)\n",
        "FROM films\n",
        "WHERE release_year < 2000;\n",
        "\n",
        "SELECT title, release_year\n",
        "FROM films\n",
        "WHERE release_year > 2000;\n",
        "```"
      ]
    },
    {
      "cell_type": "markdown",
      "metadata": {
        "id": "z-NA6mVt66LV"
      },
      "source": [
        "**Simple filtering of text**\n",
        "\n",
        "```\n",
        "SELECT *\n",
        "FROM films\n",
        "WHERE language = 'French';\n",
        "\n",
        "SELECT name, birthdate\n",
        "FROM people\n",
        "WHERE birthdate = '1974-11-11';\n",
        "\n",
        "SELECT COUNT(*)\n",
        "FROM films\n",
        "WHERE language = 'Hindi';\n",
        "\n",
        "SELECT *\n",
        "FROM films\n",
        "WHERE certification = 'R';\n",
        "```"
      ]
    },
    {
      "cell_type": "markdown",
      "metadata": {
        "id": "LvtqkaWY7Hbj"
      },
      "source": [
        "**WHERE AND**\n",
        "\n",
        "```\n",
        "SELECT title, release_year\n",
        "FROM films\n",
        "WHERE release_year < 2000\n",
        "AND language = 'Spanish';\n",
        "\n",
        "SELECT *\n",
        "FROM films\n",
        "WHERE release_year > 2000\n",
        "AND language = 'Spanish';\n",
        "\n",
        "SELECT *\n",
        "FROM films\n",
        "WHERE release_year > 2000\n",
        "AND release_year < 2010\n",
        "AND language = 'Spanish';\n",
        "```"
      ]
    },
    {
      "cell_type": "markdown",
      "metadata": {
        "id": "MZy82IJs7R95"
      },
      "source": [
        "**WHERE AND OR**\n",
        "\n",
        "What if you want to select rows based on multiple conditions where some but not all of the conditions need to be met? \n",
        "\n",
        "For this, SQL has the OR operator.\n",
        "\n",
        "For example, the following returns all films released in either 1994 or 2000:\n",
        "\n",
        "```\n",
        "SELECT title\n",
        "FROM films\n",
        "WHERE release_year = 1994\n",
        "OR release_year = 2000;\n",
        "```\n",
        "\n",
        "Note that you need to specify the column for every OR condition, so the following is invalid:\n",
        "\n",
        "```\n",
        "SELECT title\n",
        "FROM films\n",
        "WHERE release_year = 1994 OR 2000;\n",
        "```\n",
        "\n",
        "When combining AND and OR, be sure to enclose the individual clauses in parentheses, like so:\n",
        "\n",
        "```\n",
        "SELECT title\n",
        "FROM films\n",
        "WHERE (release_year = 1994 OR release_year = 1995)\n",
        "AND (certification = 'PG' OR certification = 'R');\n",
        "```\n",
        "\n",
        "Otherwise, due to SQL's precedence rules, you may not get the results you're expecting!\n",
        "\n",
        "What does the OR operator do?\n",
        "\n",
        "**Possible Answers**\n",
        "\n",
        "- [x] Display only rows that meet at least one of the specified conditions.\n",
        "- [ ] Display only rows that meet all of the specified conditions.\n",
        "- [ ] Display only rows that meet none of the specified conditions."
      ]
    },
    {
      "cell_type": "markdown",
      "metadata": {
        "id": "UlF2Di5f7pg3"
      },
      "source": [
        "**WHERE AND OR (2)**\n",
        "\n",
        "```\n",
        "SELECT title, release_year\n",
        "FROM films\n",
        "WHERE release_year >= 1990 AND release_year < 2000;\n",
        "\n",
        "SELECT title, release_year\n",
        "FROM films\n",
        "WHERE (release_year >= 1990 AND release_year < 2000)\n",
        "AND (language = 'French' OR language = 'Spanish');\n",
        "\n",
        "SELECT title, release_year\n",
        "FROM films\n",
        "WHERE (release_year >= 1990 AND release_year < 2000)\n",
        "AND (language = 'French' OR language = 'Spanish')\n",
        "AND gross > 2000000;\n",
        "```"
      ]
    },
    {
      "cell_type": "markdown",
      "metadata": {
        "id": "xxiqIOtf71mK"
      },
      "source": [
        "**BETWEEN**\n",
        "\n",
        "As you've learned, you can use the following query to get titles of all films released in and between 1994 and 2000:\n",
        "\n",
        "```\n",
        "SELECT title\n",
        "FROM films\n",
        "WHERE release_year >= 1994\n",
        "AND release_year <= 2000;\n",
        "```\n",
        "\n",
        "Checking for ranges like this is very common, so in SQL the BETWEEN keyword provides a useful shorthand for filtering values within a specified range. \n",
        "\n",
        "This query is equivalent to the one above:\n",
        "\n",
        "```\n",
        "SELECT title\n",
        "FROM films\n",
        "WHERE release_year\n",
        "BETWEEN 1994 AND 2000;\n",
        "```\n",
        "\n",
        "It's important to remember that BETWEEN is inclusive, meaning the beginning and end values are included in the results!\n",
        "\n",
        "What does the BETWEEN keyword do?\n",
        "\n",
        "**Possible Answers**\n",
        "\n",
        "- [ ] Filter numeric values\n",
        "- [ ] Filter text values\n",
        "- [ ] Filter values in a specified list\n",
        "- [x] Filter values in a specified range\n"
      ]
    },
    {
      "cell_type": "markdown",
      "metadata": {
        "id": "UjwvjcMA8LVR"
      },
      "source": [
        "**BETWEEN (2)**\n",
        "\n",
        "```\n",
        "SELECT title, release_year\n",
        "FROM films\n",
        "WHERE release_year BETWEEN 1990 AND 2000;\n",
        "\n",
        "SELECT title, release_year\n",
        "FROM films\n",
        "WHERE release_year BETWEEN 1990 AND 2000\n",
        "AND budget > 100000000;\n",
        "\n",
        "SELECT title, release_year\n",
        "FROM films\n",
        "WHERE release_year BETWEEN 1990 AND 2000\n",
        "AND budget > 100000000\n",
        "AND language = 'Spanish';\n",
        "\n",
        "SELECT title, release_year\n",
        "FROM films\n",
        "WHERE release_year BETWEEN 1990 AND 2000\n",
        "AND budget > 100000000\n",
        "AND (language = 'Spanish' OR language = 'French');\n",
        "```"
      ]
    },
    {
      "cell_type": "markdown",
      "metadata": {
        "id": "OBSPjW2g8YCF"
      },
      "source": [
        "**WHERE IN**\n",
        "\n",
        "```\n",
        "SELECT title, release_year\n",
        "FROM films\n",
        "WHERE release_year IN (1990, 2000)\n",
        "AND duration > 120;\n",
        "\n",
        "SELECT title, language\n",
        "FROM films\n",
        "WHERE language IN ('English', 'Spanish', 'French');\n",
        "\n",
        "SELECT title, certification\n",
        "FROM films\n",
        "WHERE certification IN ('NC-17', 'R');\n",
        "```"
      ]
    },
    {
      "cell_type": "markdown",
      "metadata": {
        "id": "g1qHfB5B8iun"
      },
      "source": [
        "**Introduction to NULL and IS NULL**\n",
        "\n",
        "In SQL, NULL represents a missing or unknown value. You can check for NULL values using the expression IS NULL. \n",
        "\n",
        "For example, to count the number of missing birth dates in the people table:\n",
        "\n",
        "```\n",
        "SELECT COUNT(*)\n",
        "FROM people\n",
        "WHERE birthdate IS NULL;\n",
        "```\n",
        "\n",
        "As you can see, IS NULL is useful when combined with WHERE to figure out what data you're missing.\n",
        "\n",
        "Sometimes, you'll want to filter out missing values so you only get results which are not NULL. To do this, you can use the IS NOT NULL operator.\n",
        "\n",
        "For example, this query gives the names of all people whose birth dates are not missing in the people table.\n",
        "\n",
        "```\n",
        "SELECT name\n",
        "FROM people\n",
        "WHERE birthdate IS NOT NULL;\n",
        "```\n",
        "\n",
        "What does NULL represent?\n",
        "\n",
        "**Possible Answers**\n",
        "\n",
        "- [ ] A corrupt entry\n",
        "- [x] A missing value\n",
        "- [ ] An empty string\n",
        "- [ ] An invalid value\n"
      ]
    },
    {
      "cell_type": "markdown",
      "metadata": {
        "id": "YNEJnO7881V1"
      },
      "source": [
        "**NULL and IS NULL**\n",
        "\n",
        "```\n",
        "SELECT name\n",
        "FROM people\n",
        "WHERE deathdate IS NULL;\n",
        "\n",
        "SELECT title\n",
        "FROM films\n",
        "WHERE budget IS NULL;\n",
        "\n",
        "SELECT COUNT(*)\n",
        "FROM films\n",
        "WHERE language IS NULL;\n",
        "```"
      ]
    },
    {
      "cell_type": "markdown",
      "metadata": {
        "id": "56yXSEu-8-aR"
      },
      "source": [
        "**LIKE and NOT LIKE**\n",
        "\n",
        "```\n",
        "SELECT name\n",
        "FROM people\n",
        "WHERE name LIKE 'B%';\n",
        "\n",
        "SELECT name\n",
        "FROM people\n",
        "WHERE name LIKE '_r%';\n",
        "\n",
        "SELECT name\n",
        "FROM people\n",
        "WHERE name NOT LIKE 'A%';\n",
        "```"
      ]
    },
    {
      "cell_type": "markdown",
      "metadata": {
        "id": "SkvnFqTG9J8O"
      },
      "source": [
        "## 3. Aggregate Functions"
      ]
    },
    {
      "cell_type": "markdown",
      "metadata": {
        "id": "04KSnwaY9KtN"
      },
      "source": [
        "**Aggregate functions**\n",
        "\n",
        "```\n",
        "SELECT SUM(duration)\n",
        "FROM films;\n",
        "\n",
        "SELECT AVG(duration)\n",
        "FROM films;\n",
        "\n",
        "SELECT MIN(duration)\n",
        "FROM films;\n",
        "\n",
        "SELECT MAX(duration)\n",
        "FROM films;\n",
        "```"
      ]
    },
    {
      "cell_type": "markdown",
      "metadata": {
        "id": "fk_MNpRc9Wps"
      },
      "source": [
        "**Aggregate functions practice**\n",
        "\n",
        "```\n",
        "SELECT SUM(gross)\n",
        "FROM films;\n",
        "\n",
        "SELECT AVG(gross)\n",
        "FROM films;\n",
        "\n",
        "SELECT MIN(gross)\n",
        "FROM films;\n",
        "\n",
        "SELECT MAX(gross)\n",
        "FROM films;\n",
        "```"
      ]
    },
    {
      "cell_type": "markdown",
      "metadata": {
        "id": "aeE40qFO9hE0"
      },
      "source": [
        "**Combining aggregate functions with WHERE**\n",
        "\n",
        "```\n",
        "SELECT SUM(gross)\n",
        "FROM films\n",
        "WHERE release_year >= 2000;\n",
        "\n",
        "SELECT AVG(gross)\n",
        "FROM films\n",
        "where title LIKE 'A%';\n",
        "\n",
        "SELECT MIN(gross)\n",
        "FROM films\n",
        "WHERE release_year = 1994;\n",
        "\n",
        "SELECT MAX(gross)\n",
        "FROM films\n",
        "WHERE release_year BETWEEN 2000 AND 2012;\n",
        "```"
      ]
    },
    {
      "cell_type": "markdown",
      "metadata": {
        "id": "i8r71-RT93wG"
      },
      "source": [
        "**A note on arithmetic**\n",
        "\n",
        "In addition to using aggregate functions, you can perform basic arithmetic with symbols like +, -, *, and /.\n",
        "\n",
        "So, for example, this gives a result of 12:\n",
        "\n",
        "`SELECT (4 * 3);`\n",
        "\n",
        "However, the following gives a result of 1:\n",
        "\n",
        "`SELECT (4 / 3);`\n",
        "\n",
        "What's going on here?\n",
        "\n",
        "SQL assumes that if you divide an integer by an integer, you want to get an integer back. So be careful when dividing!\n",
        "\n",
        "If you want more precision when dividing, you can add decimal places to your numbers. For example,\n",
        "\n",
        "`SELECT (4.0 / 3.0) AS result;`\n",
        "\n",
        "gives you the result you would expect: 1.333.\n",
        "\n",
        "What is the result of `SELECT (10 / 3);`?\n",
        "\n",
        "**Possible Answers**\n",
        "\n",
        "- [ ] 2.333\n",
        "- [ ] 3.333\n",
        "- [x] 3\n",
        "- [ ] 3.0"
      ]
    },
    {
      "cell_type": "markdown",
      "metadata": {
        "id": "2Qf6ywPw-Os5"
      },
      "source": [
        "**It's AS simple AS aliasing**\n",
        "\n",
        "```\n",
        "SELECT title, gross - budget AS net_profit\n",
        "FROM films;\n",
        "\n",
        "SELECT title, duration / 60.0 AS duration_hours\n",
        "FROM films;\n",
        "\n",
        "SELECT AVG(duration) / 60.0 AS avg_duration_hours  \n",
        "FROM films;\n",
        "```"
      ]
    },
    {
      "cell_type": "markdown",
      "metadata": {
        "id": "y1zxjnvD-f4P"
      },
      "source": [
        "**Even more aliasing**\n",
        "\n",
        "```\n",
        "-- get the count(deathdate) and multiply by 100.0\n",
        "-- then divide by count(*) \n",
        "SELECT COUNT(deathdate) * 100.0 / COUNT(*) AS percentage_dead\n",
        "FROM people;\n",
        "\n",
        "SELECT MAX(release_year) - MIN(release_year)\n",
        "AS difference\n",
        "FROM films;\n",
        "\n",
        "SELECT (MAX(release_year) - MIN(release_year)) / 10.0\n",
        "AS number_of_decades\n",
        "FROM films;\n",
        "```"
      ]
    },
    {
      "cell_type": "markdown",
      "metadata": {
        "id": "cSnwCUwK-swi"
      },
      "source": [
        "## 4. Sorting and grouping"
      ]
    },
    {
      "cell_type": "markdown",
      "metadata": {
        "id": "8lvSP5M8-tX1"
      },
      "source": [
        "**ORDER BY**\n",
        "\n",
        "In SQL, the ORDER BY keyword is used to sort results in ascending or descending order according to the values of one or more columns.\n",
        "\n",
        "By default ORDER BY will sort in ascending order. If you want to sort the results in descending order, you can use the DESC keyword. \n",
        "\n",
        "For example,\n",
        "\n",
        "```\n",
        "SELECT title\n",
        "FROM films\n",
        "ORDER BY release_year DESC;\n",
        "```\n",
        "\n",
        "gives you the titles of films sorted by release year, from newest to oldest.\n",
        "\n",
        "How do you think ORDER BY sorts a column of text values by default?\n",
        "\n",
        "**Possible Answers**\n",
        "\n",
        "- [x] Alphabetically (A-Z)\n",
        "- [ ] Reverse alphabetically (Z-A)\n",
        "- [ ] There's no natural ordering to text data\n",
        "- [ ] By number of characters (fewest to most)\n"
      ]
    },
    {
      "cell_type": "markdown",
      "metadata": {
        "id": "8d1PrwvL-9_i"
      },
      "source": [
        "**Sorting single columns**\n",
        "\n",
        "```\n",
        "SELECT name\n",
        "FROM people\n",
        "ORDER BY name;\n",
        "\n",
        "SELECT name\n",
        "FROM people\n",
        "ORDER BY birthdate;\n",
        "\n",
        "SELECT birthdate, name\n",
        "FROM people\n",
        "ORDER BY birthdate;\n",
        "```"
      ]
    },
    {
      "cell_type": "markdown",
      "metadata": {
        "id": "w_Zu5QiM_FMV"
      },
      "source": [
        "**Sorting single columns (2)**\n",
        "\n",
        "```\n",
        "SELECT title\n",
        "FROM films\n",
        "WHERE release_year IN (2000, 2012)\n",
        "ORDER BY release_year;\n",
        "\n",
        "SELECT *\n",
        "FROM films\n",
        "WHERE release_year <> 2015\n",
        "ORDER BY duration;\n",
        "\n",
        "SELECT title, gross\n",
        "FROM films\n",
        "WHERE title LIKE 'M%'\n",
        "ORDER BY title;\n",
        "```"
      ]
    },
    {
      "cell_type": "markdown",
      "metadata": {
        "id": "d47ctQ6k_NfF"
      },
      "source": [
        "**Sorting single columns (DESC)**\n",
        "\n",
        "```\n",
        "SELECT imdb_score, film_id\n",
        "FROM reviews\n",
        "ORDER BY imdb_score DESC;\n",
        "\n",
        "SELECT title\n",
        "FROM films\n",
        "ORDER BY title DESC;\n",
        "\n",
        "SELECT title, duration\n",
        "FROM films\n",
        "ORDER BY duration DESC;\n",
        "```"
      ]
    },
    {
      "cell_type": "markdown",
      "metadata": {
        "id": "hDrjb0Sb_WZP"
      },
      "source": [
        "**Sorting multiple columns**\n",
        "\n",
        "```\n",
        "SELECT birthdate, name\n",
        "FROM people\n",
        "ORDER BY birthdate, name;\n",
        "\n",
        "SELECT release_year, duration, title\n",
        "FROM films\n",
        "ORDER BY release_year, duration;\n",
        "\n",
        "SELECT certification, release_year, title\n",
        "FROM films\n",
        "ORDER BY certification, release_year;\n",
        "\n",
        "SELECT name, birthdate\n",
        "FROM people\n",
        "ORDER BY name, birthdate;\n",
        "```"
      ]
    },
    {
      "cell_type": "markdown",
      "metadata": {
        "id": "ydudmi1Y_hl8"
      },
      "source": [
        "**GROUP BY**\n",
        "\n",
        "Now you know how to sort results! Often you'll need to aggregate results. For example, you might want to count the number of male and female employees in your company. Here, what you want is to group all the males together and count them, and group all the females together and count them. \n",
        "\n",
        "In SQL, GROUP BY allows you to group a result by one or more columns, like so:\n",
        "\n",
        "```\n",
        "SELECT sex, count(*)\n",
        "FROM employees\n",
        "GROUP BY sex;\n",
        "```\n",
        "\n",
        "This might give, for example:\n",
        "\n",
        "```\n",
        "sex\tcount\n",
        "male\t15\n",
        "female\t19\n",
        "```\n",
        "\n",
        "Commonly, GROUP BY is used with aggregate functions like COUNT() or MAX(). Note that GROUP BY always goes after the FROM clause!\n",
        "\n",
        "What is GROUP BY used for?\n",
        "\n",
        "**Possible Answers**\n",
        "\n",
        "- [ ] Performing operations by column\n",
        "- [ ] Performing operations all at once\n",
        "- [ ] Performing operations in a particular order\n",
        "- [x] Performing operations by group"
      ]
    },
    {
      "cell_type": "markdown",
      "metadata": {
        "id": "KPRYpLcw_1_P"
      },
      "source": [
        "**GROUP BY practice**\n",
        "\n",
        "```\n",
        "SELECT release_year, COUNT(*)\n",
        "FROM films\n",
        "GROUP BY release_year;\n",
        "\n",
        "SELECT release_year, AVG(duration)\n",
        "FROM films\n",
        "GROUP BY release_year;\n",
        "\n",
        "SELECT release_year, MAX(budget)\n",
        "FROM films\n",
        "GROUP BY release_year;\n",
        "\n",
        "SELECT imdb_score, COUNT(*)\n",
        "FROM reviews\n",
        "GROUP BY imdb_score;\n",
        "```"
      ]
    },
    {
      "cell_type": "markdown",
      "metadata": {
        "id": "Z9yRgPWCABzI"
      },
      "source": [
        "**GROUP BY practice (2)**\n",
        "\n",
        "```\n",
        "SELECT release_year, MIN(gross)\n",
        "FROM films\n",
        "GROUP BY release_year;\n",
        "\n",
        "SELECT language, SUM(gross)\n",
        "FROM films\n",
        "GROUP BY language;\n",
        "\n",
        "SELECT country, SUM(budget)\n",
        "FROM films\n",
        "GROUP BY country;\n",
        "\n",
        "SELECT release_year, country, MAX(budget)\n",
        "FROM films\n",
        "GROUP BY release_year, country\n",
        "ORDER BY release_year, country;\n",
        "\n",
        "SELECT country, release_year, MIN(gross)\n",
        "FROM films\n",
        "GROUP BY country, release_year\n",
        "ORDER BY country, release_year;\n",
        "```"
      ]
    },
    {
      "cell_type": "markdown",
      "metadata": {
        "id": "vp_tuO3nANw0"
      },
      "source": [
        "**HAVING a great time**\n",
        "\n",
        "In SQL, aggregate functions can't be used in WHERE clauses. \n",
        "\n",
        "For example, the following query is invalid:\n",
        "\n",
        "```\n",
        "SELECT release_year\n",
        "FROM films\n",
        "GROUP BY release_year\n",
        "WHERE COUNT(title) > 10;\n",
        "```\n",
        "\n",
        "This means that if you want to filter based on the result of an aggregate function, you need another way! That's where the HAVING clause comes in. For example,\n",
        "\n",
        "```\n",
        "SELECT release_year\n",
        "FROM films\n",
        "GROUP BY release_year\n",
        "HAVING COUNT(title) > 10;\n",
        "```\n",
        "\n",
        "shows only those years in which more than 10 films were released.\n",
        "\n",
        "In how many different years were more than 200 movies released?\n",
        "\n",
        "**Possible Answers**\n",
        "\n",
        "- [ ] 2\n",
        "- [x] 13\n",
        "- [ ] 44\n",
        "- [ ] 63"
      ]
    },
    {
      "cell_type": "markdown",
      "metadata": {
        "id": "-MaolI8SAeqf"
      },
      "source": [
        "**All together now**\n",
        "\n",
        "```\n",
        "SELECT release_year, budget, gross\n",
        "FROM films;\n",
        "\n",
        "SELECT release_year, budget, gross\n",
        "FROM films\n",
        "WHERE release_year > 1990;\n",
        "\n",
        "SELECT release_year\n",
        "FROM films\n",
        "WHERE release_year > 1990\n",
        "GROUP BY release_year;\n",
        "\n",
        "SELECT release_year, AVG(budget) AS avg_budget, AVG(gross) AS avg_gross\n",
        "FROM films\n",
        "WHERE release_year > 1990\n",
        "GROUP BY release_year;\n",
        "\n",
        "SELECT release_year, AVG(budget) AS avg_budget, AVG(gross) AS avg_gross\n",
        "FROM films\n",
        "WHERE release_year > 1990\n",
        "GROUP BY release_year\n",
        "HAVING AVG(budget) > 60000000;\n",
        "\n",
        "SELECT release_year, AVG(budget) AS avg_budget, AVG(gross) AS avg_gross\n",
        "FROM films\n",
        "WHERE release_year > 1990\n",
        "GROUP BY release_year\n",
        "HAVING AVG(budget) > 60000000\n",
        "ORDER BY avg_gross DESC;\n",
        "```"
      ]
    },
    {
      "cell_type": "markdown",
      "metadata": {
        "id": "IkNU0NhnAuAN"
      },
      "source": [
        "**All together now (2)**\n",
        "\n",
        "```\n",
        "-- select country, average budget, \n",
        "-- and average gross\n",
        "SELECT country, AVG(budget) AS avg_budget, \n",
        "       AVG(gross) AS avg_gross\n",
        "-- from the films table\n",
        "FROM films\n",
        "-- group by country \n",
        "GROUP BY country\n",
        "-- where the country has more than 10 titles\n",
        "HAVING COUNT(title) > 10\n",
        "-- order by country\n",
        "ORDER BY country\n",
        "-- limit to only show 5 results\n",
        "LIMIT 5;\n",
        "```"
      ]
    },
    {
      "cell_type": "markdown",
      "metadata": {
        "id": "6VuBMph-Ayu6"
      },
      "source": [
        "**A taste of things to come**\n",
        "\n",
        "Congrats on making it to the end of the course! By now you should have a good understanding of the basics of SQL.\n",
        "\n",
        "There's one more concept we're going to introduce. You may have noticed that all your results so far have been from just one table, e.g. films or people.\n",
        "\n",
        "In the real world however, you will often want to query multiple tables. For example, what if you want to see the IMDB score for a particular movie?\n",
        "\n",
        "In this case, you'd want to get the ID of the movie from the films table and then use it to get IMDB information from the reviews table. In SQL, this concept is known as a join, and a basic join is shown in the editor to the right.\n",
        "\n",
        "The query in the editor gets the IMDB score for the film To Kill a Mockingbird! Cool right?\n",
        "\n",
        "As you can see, joins are incredibly useful and important to understand for anyone using SQL.\n",
        "\n",
        "We have a whole follow-up course dedicated to them called Joining Data in PostgreSQL for you to hone your database skills further!\n",
        "\n",
        "**Question**\n",
        "\n",
        "What is the IMDB score for the film To Kill a Mockingbird?\n",
        "\n",
        "```\n",
        "SELECT title, imdb_score\n",
        "FROM films\n",
        "JOIN reviews\n",
        "ON films.id = reviews.film_id\n",
        "WHERE title = 'To Kill a Mockingbird';\n",
        "```\n",
        "\n",
        "**Possible Answers**\n",
        "\n",
        "- [ ] 8.1\n",
        "- [x] 8.4\n",
        "- [ ] 7.7\n",
        "- [ ] 9.3"
      ]
    }
  ]
}