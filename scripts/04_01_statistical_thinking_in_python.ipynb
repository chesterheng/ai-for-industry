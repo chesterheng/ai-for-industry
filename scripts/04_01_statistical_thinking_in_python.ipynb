{
  "nbformat": 4,
  "nbformat_minor": 0,
  "metadata": {
    "colab": {
      "name": "04-01-statistical-thinking-in-python.ipynb",
      "provenance": []
    },
    "kernelspec": {
      "name": "python3",
      "display_name": "Python 3"
    }
  },
  "cells": [
    {
      "cell_type": "code",
      "metadata": {
        "id": "1iZB7arZx-dG"
      },
      "source": [
        "#Statistical Thinking in Python (Part 1)\n",
        "## 1. Graphical exploratory data analysis\n",
        "## 2. Quantitative exploratory data analysis\n",
        "## 3. Thinking probabilistically-- Discrete variables\n",
        "## 4. Thinking probabilistically-- Continuous variables"
      ],
      "execution_count": null,
      "outputs": []
    },
    {
      "cell_type": "markdown",
      "metadata": {
        "id": "XXwAZW0byZqS"
      },
      "source": [
        "## 1. Graphical exploratory data analysis"
      ]
    },
    {
      "cell_type": "code",
      "metadata": {
        "id": "UETC6EjHymE6"
      },
      "source": [
        "# Introduction to Exploratory Data Analysis"
      ],
      "execution_count": null,
      "outputs": []
    },
    {
      "cell_type": "markdown",
      "metadata": {
        "id": "HpqxXPb-yozG"
      },
      "source": [
        "**Tukey's comments on EDA**\n",
        "\n",
        "Even though you probably have not read Tukey's book, I suspect you already have a good idea about his viewpoint from the video introducing you to exploratory data analysis. \n",
        "\n",
        "Which of the following quotes is not directly from Tukey?\n",
        "\n",
        "**Possible Answers**\n",
        "\n",
        "- [ ] Exploratory data analysis is detective work.\n",
        "- [ ] There is no excuse for failing to plot and look.\n",
        "- [ ] The greatest value of a picture is that it forces us to notice what we never expected to see.\n",
        "- [ ] It is important to understand what you can do before you learn how to measure how well you seem to have done it.\n",
        "- [x] Often times EDA is too time consuming, so it is better to jump right in and do your hypothesis tests."
      ]
    },
    {
      "cell_type": "markdown",
      "metadata": {
        "id": "xGoImGOyzeel"
      },
      "source": [
        "**Advantages of graphical EDA**\n",
        "\n",
        "Which of the following is not true of graphical EDA?\n",
        "\n",
        "**Possible Answers**\n",
        "\n",
        "- [ ] It often involves converting tabular data into graphical form.\n",
        "- [ ] If done well, graphical representations can allow for more rapid interpretation of data.\n",
        "- [x] A nice looking plot is always the end goal of a statistical analysis.\n",
        "- [ ] There is no excuse for neglecting to do graphical EDA.\n",
        "press\n"
      ]
    },
    {
      "cell_type": "code",
      "metadata": {
        "id": "_YHRAax7GiO_"
      },
      "source": [
        "from sklearn.datasets import load_iris\n",
        "iris = load_iris()\n",
        "iris.target_names\n",
        "\n",
        "data = pd.DataFrame(iris.data)\n",
        "target = pd.DataFrame(iris.target)\n",
        "target.replace({0: iris.target_names[0], 1: iris.target_names[1], 2: iris.target_names[2]}, inplace = True)\n",
        "df = pd.concat([data, target], axis = 1)\n",
        "df.columns = ['sepal length (cm)', 'sepal width (cm)', 'petal length (cm)', 'petal width (cm)', 'species']\n",
        "\n",
        "setosa_petal_length = df[df.species == 'setosa'].iloc[:, 2]\n",
        "versicolor_petal_length = df[df.species == 'versicolor'].iloc[:, 2]\n",
        "virginica_petal_length = df[df.species == 'virginica'].iloc[:, 2]\n",
        "versicolor_petal_width = df[df.species == 'versicolor'].iloc[:, 3]"
      ],
      "execution_count": null,
      "outputs": []
    },
    {
      "cell_type": "code",
      "metadata": {
        "colab": {
          "base_uri": "https://localhost:8080/",
          "height": 268
        },
        "id": "oqzPwaKbztX5",
        "outputId": "49f8cdfa-d582-4d3d-aac6-44120ee5bbe2"
      },
      "source": [
        "# Plotting a histogram\n",
        "\n",
        "# Plotting a histogram of iris data\n",
        "\n",
        "# Import plotting modules\n",
        "import matplotlib.pyplot as plt\n",
        "import seaborn as sns\n",
        "\n",
        "# Set default Seaborn style\n",
        "sns.set()\n",
        "\n",
        "# Plot histogram of versicolor petal lengths\n",
        "_ = plt.hist(versicolor_petal_length)\n",
        "\n",
        "# Show histogram\n",
        "plt.show()"
      ],
      "execution_count": null,
      "outputs": [
        {
          "output_type": "display_data",
          "data": {
            "image/png": "[encoded data removed]",
            "text/plain": [
              "<Figure size 432x288 with 1 Axes>"
            ]
          },
          "metadata": {
            "tags": []
          }
        }
      ]
    },
    {
      "cell_type": "code",
      "metadata": {
        "colab": {
          "base_uri": "https://localhost:8080/",
          "height": 285
        },
        "id": "Yr_chzmR-dVE",
        "outputId": "e5273479-6d15-4ec4-b3ff-ee6d524e74ad"
      },
      "source": [
        "# Axis labels!\n",
        "\n",
        "# Plot histogram of versicolor petal lengths\n",
        "_ = plt.hist(versicolor_petal_length)\n",
        "\n",
        "# Label axes\n",
        "_ = plt.xlabel('petal length (cm)')\n",
        "_ = plt.ylabel('count')\n",
        "\n",
        "# Show histogram\n",
        "plt.show()"
      ],
      "execution_count": null,
      "outputs": [
        {
          "output_type": "display_data",
          "data": {
            "image/png": "[encoded data removed]",
            "text/plain": [
              "<Figure size 432x288 with 1 Axes>"
            ]
          },
          "metadata": {
            "tags": []
          }
        }
      ]
    },
    {
      "cell_type": "code",
      "metadata": {
        "colab": {
          "base_uri": "https://localhost:8080/",
          "height": 285
        },
        "id": "q2S_n8eM-zvA",
        "outputId": "3c898b71-667d-4ede-d1d9-b3314e823b06"
      },
      "source": [
        "# Adjusting the number of bins in a histogram\n",
        "\n",
        "# Import numpy\n",
        "import numpy as np\n",
        "\n",
        "# Compute number of data points: n_data\n",
        "n_data = len(versicolor_petal_length)\n",
        "\n",
        "# Number of bins is the square root of number of data points: n_bins\n",
        "n_bins = np.sqrt(n_data)\n",
        "\n",
        "# Convert number of bins to integer: n_bins\n",
        "n_bins = int(n_bins)\n",
        "\n",
        "# Plot the histogram\n",
        "_ = plt.hist(versicolor_petal_length, bins=n_bins)\n",
        "\n",
        "# Label axes\n",
        "_ = plt.xlabel('petal length (cm)')\n",
        "_ = plt.ylabel('count')\n",
        "\n",
        "# Show histogram\n",
        "plt.show()"
      ],
      "execution_count": null,
      "outputs": [
        {
          "output_type": "display_data",
          "data": {
            "image/png": "[encoded data removed]",
            "text/plain": [
              "<Figure size 432x288 with 1 Axes>"
            ]
          },
          "metadata": {
            "tags": []
          }
        }
      ]
    },
    {
      "cell_type": "code",
      "metadata": {
        "colab": {
          "base_uri": "https://localhost:8080/",
          "height": 341
        },
        "id": "zQrHq0sG-6v2",
        "outputId": "8e6212e5-78f5-44c0-a06c-3df73ab401f6"
      },
      "source": [
        "# Plot all of your data: Bee swarm plots\n",
        "\n",
        "# Create bee swarm plot with Seaborn's default settings\n",
        "_ = sns.swarmplot(x='species', y='petal length (cm)', data=df)\n",
        "\n",
        "# Label the axes\n",
        "_ = plt.xlabel('species')\n",
        "_ = plt.ylabel('petal length (cm)')\n",
        "\n",
        "# Show the plot\n",
        "plt.show()"
      ],
      "execution_count": null,
      "outputs": [
        {
          "output_type": "stream",
          "text": [
            "/usr/local/lib/python3.7/dist-packages/seaborn/categorical.py:1296: UserWarning: 14.0% of the points cannot be placed; you may want to decrease the size of the markers or use stripplot.\n",
            "  warnings.warn(msg, UserWarning)\n"
          ],
          "name": "stderr"
        },
        {
          "output_type": "display_data",
          "data": {
            "image/png": "[encoded data removed]",
            "text/plain": [
              "<Figure size 432x288 with 1 Axes>"
            ]
          },
          "metadata": {
            "tags": []
          }
        }
      ]
    },
    {
      "cell_type": "markdown",
      "metadata": {
        "id": "Wg35MZyaA3ZQ"
      },
      "source": [
        "**Interpreting a bee swarm plot**\n",
        "\n",
        "Which of the following conclusions could you draw from the bee swarm plot of iris petal lengths you generated in the previous exercise? For your convenience, the bee swarm plot is regenerated and shown to the right.\n",
        "\n",
        "**Possible Answers**\n",
        "\n",
        "- [ ] All I. versicolor petals are shorter than I. virginica petals.\n",
        "- [ ] I. setosa petals have a broader range of lengths than the other two species.\n",
        "- [x] I. virginica petals tend to be the longest, and I. setosa petals tend to be the shortest of the three species.\n",
        "- [ ] I. versicolor is a hybrid of I. virginica and I. setosa.\n",
        "\n",
        "Correct! Notice that we said \"tend to be.\" Some individual I. virginica flowers may be shorter than individual I. versicolor flowers. It is also possible that an individual I. setosa flower may have longer petals than in individual I. versicolor flower, though this is highly unlikely, and was not observed by Anderson."
      ]
    },
    {
      "cell_type": "code",
      "metadata": {
        "id": "vxj3ynRJA1wJ"
      },
      "source": [
        "# Plot all of your data: ECDFs\n",
        "\n",
        "# Computing the ECDF\n",
        "\n",
        "def ecdf(data):\n",
        "\n",
        "    \"\"\"Compute ECDF for a one-dimensional array of measurements.\"\"\"\n",
        "    # Number of data points: n\n",
        "    n = len(data)\n",
        "\n",
        "    # x-data for the ECDF: x\n",
        "    x = np.sort(data)\n",
        "\n",
        "    # y-data for the ECDF: y\n",
        "    y = np.arange(1, n + 1) / n\n",
        "\n",
        "    return x, y"
      ],
      "execution_count": 7,
      "outputs": []
    },
    {
      "cell_type": "code",
      "metadata": {
        "colab": {
          "base_uri": "https://localhost:8080/",
          "height": 285
        },
        "id": "9QEDCHdVBfqa",
        "outputId": "31e5ad75-53db-4b51-fef7-9d0efef34c39"
      },
      "source": [
        "# Plotting the ECDF\n",
        "\n",
        "# Compute ECDF for versicolor data: x_vers, y_vers\n",
        "x_vers, y_vers = ecdf(versicolor_petal_length)\n",
        "\n",
        "# Generate plot\n",
        "_ = plt.plot(x_vers, y_vers, marker='.', linestyle='none')\n",
        "\n",
        "# Label the axes\n",
        "_ = plt.xlabel('petal length (cm)')\n",
        "_ = plt.ylabel('ECDF')\n",
        "\n",
        "# Display the plot\n",
        "plt.show()"
      ],
      "execution_count": null,
      "outputs": [
        {
          "output_type": "display_data",
          "data": {
            "image/png": "[encoded data removed]",
            "text/plain": [
              "<Figure size 432x288 with 1 Axes>"
            ]
          },
          "metadata": {
            "tags": []
          }
        }
      ]
    },
    {
      "cell_type": "code",
      "metadata": {
        "colab": {
          "base_uri": "https://localhost:8080/",
          "height": 285
        },
        "id": "tF5dA2ogB2IA",
        "outputId": "5a807d91-dae7-4ccb-b2a2-1f2fc372c9d8"
      },
      "source": [
        "# Comparison of ECDFs\n",
        "\n",
        "# Compute ECDFs\n",
        "x_set, y_set = ecdf(setosa_petal_length)\n",
        "x_vers, y_vers = ecdf(versicolor_petal_length)\n",
        "x_virg, y_virg = ecdf(virginica_petal_length)\n",
        "\n",
        "# Plot all ECDFs on the same plot\n",
        "_ = plt.plot(x_set, y_set, marker='.', linestyle='none')\n",
        "_ = plt.plot(x_vers, y_vers, marker='.', linestyle='none')\n",
        "_ = plt.plot(x_virg, y_virg, marker='.', linestyle='none')\n",
        "\n",
        "# Annotate the plot\n",
        "_ = plt.legend(('setosa', 'versicolor', 'virginica'), loc='lower right')\n",
        "_ = plt.xlabel('petal length (cm)')\n",
        "_ = plt.ylabel('ECDF')\n",
        "\n",
        "# Display the plot\n",
        "plt.show()"
      ],
      "execution_count": null,
      "outputs": [
        {
          "output_type": "display_data",
          "data": {
            "image/png": "[encoded data removed]",
            "text/plain": [
              "<Figure size 432x288 with 1 Axes>"
            ]
          },
          "metadata": {
            "tags": []
          }
        }
      ]
    },
    {
      "cell_type": "code",
      "metadata": {
        "id": "84G7SgV7FJqW"
      },
      "source": [
        "# Onward toward the whole story!"
      ],
      "execution_count": null,
      "outputs": []
    },
    {
      "cell_type": "markdown",
      "metadata": {
        "id": "SCuNceFBFV9v"
      },
      "source": [
        "## 2. Quantitative exploratory data analysis"
      ]
    },
    {
      "cell_type": "code",
      "metadata": {
        "id": "864jp4FgFWuu"
      },
      "source": [
        "# Introduction to summary statistics: The sample mean and median"
      ],
      "execution_count": null,
      "outputs": []
    },
    {
      "cell_type": "markdown",
      "metadata": {
        "id": "wygOUS34Fdaf"
      },
      "source": [
        "**Means and medians**\n",
        "\n",
        "Which one of the following statements is true about means and medians?\n",
        "\n",
        "**Possible Answers**\n",
        "\n",
        "- [ ] An outlier can significantly affect the value of both the mean and the median.\n",
        "- [x] An outlier can significantly affect the value of the mean, but not the median.\n",
        "- [ ] Means and medians are in general both robust to single outliers.\n",
        "- [ ] The mean and median are equal if there is an odd number of data points."
      ]
    },
    {
      "cell_type": "code",
      "metadata": {
        "colab": {
          "base_uri": "https://localhost:8080/"
        },
        "id": "jEBPXv_uFpdH",
        "outputId": "820c1236-4315-43af-fbf9-60683860c8d2"
      },
      "source": [
        "# Computing means\n",
        "\n",
        "# Compute the mean: mean_length_vers\n",
        "mean_length_vers = np.mean(versicolor_petal_length)\n",
        "\n",
        "# Print the result with some nice formatting\n",
        "print('I. versicolor:', mean_length_vers, 'cm')"
      ],
      "execution_count": null,
      "outputs": [
        {
          "output_type": "stream",
          "text": [
            "I. versicolor: 4.26 cm\n"
          ],
          "name": "stdout"
        }
      ]
    },
    {
      "cell_type": "code",
      "metadata": {
        "colab": {
          "base_uri": "https://localhost:8080/"
        },
        "id": "rwppBaAMHQbV",
        "outputId": "d5e12f42-1879-4468-f676-faf5bebca5f2"
      },
      "source": [
        "# Percentiles, outliers, and box plots\n",
        "\n",
        "# Computing percentiles\n",
        "\n",
        "# Specify array of percentiles: percentiles\n",
        "percentiles = np.array([2.5, 25, 50, 75, 97.5])\n",
        "\n",
        "# Compute percentiles: ptiles_vers\n",
        "ptiles_vers = np.percentile(versicolor_petal_length, percentiles)\n",
        "\n",
        "# Print the result\n",
        "print(ptiles_vers)"
      ],
      "execution_count": null,
      "outputs": [
        {
          "output_type": "stream",
          "text": [
            "[3.3    4.     4.35   4.6    4.9775]\n"
          ],
          "name": "stdout"
        }
      ]
    },
    {
      "cell_type": "code",
      "metadata": {
        "colab": {
          "base_uri": "https://localhost:8080/",
          "height": 285
        },
        "id": "CtS_Rp7pHbyY",
        "outputId": "4678f895-902e-4eff-fdd4-0a5c95265734"
      },
      "source": [
        "# Comparing percentiles to ECDF\n",
        "\n",
        "# Plot the ECDF\n",
        "_ = plt.plot(x_vers, y_vers, '.')\n",
        "_ = plt.xlabel('petal length (cm)')\n",
        "_ = plt.ylabel('ECDF')\n",
        "\n",
        "# Overlay percentiles as red diamonds.\n",
        "_ = plt.plot(ptiles_vers, percentiles/100, marker='D', color='red',\n",
        "         linestyle='none')\n",
        "\n",
        "# Show the plot\n",
        "plt.show()"
      ],
      "execution_count": null,
      "outputs": [
        {
          "output_type": "display_data",
          "data": {
            "image/png": "[encoded data removed]",
            "text/plain": [
              "<Figure size 432x288 with 1 Axes>"
            ]
          },
          "metadata": {
            "tags": []
          }
        }
      ]
    },
    {
      "cell_type": "code",
      "metadata": {
        "colab": {
          "base_uri": "https://localhost:8080/",
          "height": 285
        },
        "id": "quTUttvUHobH",
        "outputId": "b6e49385-a291-4ca1-de53-dbd1ab988606"
      },
      "source": [
        "# Box-and-whisker plot\n",
        "\n",
        "# Create box plot with Seaborn's default settings\n",
        "sns.boxplot(x = 'species', y = 'petal length (cm)', data = df)\n",
        "\n",
        "# Label the axes\n",
        "plt.xlabel('species')\n",
        "plt.ylabel('petal length (cm)')\n",
        "\n",
        "# Show the plot\n",
        "plt.show()"
      ],
      "execution_count": null,
      "outputs": [
        {
          "output_type": "display_data",
          "data": {
            "image/png": "[encoded data removed]",
            "text/plain": [
              "<Figure size 432x288 with 1 Axes>"
            ]
          },
          "metadata": {
            "tags": []
          }
        }
      ]
    },
    {
      "cell_type": "code",
      "metadata": {
        "colab": {
          "base_uri": "https://localhost:8080/"
        },
        "id": "a5861bwzHz0v",
        "outputId": "3dd4022e-3548-4841-ddb3-77a7937cd789"
      },
      "source": [
        "# Variance and standard deviation\n",
        "\n",
        "# Computing the variance\n",
        "\n",
        "# Array of differences to mean: differences\n",
        "differences = versicolor_petal_length - np.mean(versicolor_petal_length)\n",
        "\n",
        "# Square the differences: diff_sq\n",
        "diff_sq = differences**2\n",
        "\n",
        "# Compute the mean square difference: variance_explicit\n",
        "variance_explicit = np.mean(diff_sq)\n",
        "\n",
        "# Compute the variance using NumPy: variance_np\n",
        "variance_np = np.var(versicolor_petal_length)\n",
        "\n",
        "# Print the results\n",
        "print(variance_explicit, variance_np)"
      ],
      "execution_count": null,
      "outputs": [
        {
          "output_type": "stream",
          "text": [
            "0.21640000000000012 0.21640000000000012\n"
          ],
          "name": "stdout"
        }
      ]
    },
    {
      "cell_type": "code",
      "metadata": {
        "colab": {
          "base_uri": "https://localhost:8080/"
        },
        "id": "A3EKR03sIBK2",
        "outputId": "a1bc063b-d562-4c9c-a052-47be5f88258c"
      },
      "source": [
        "# The standard deviation and the variance\n",
        "\n",
        "# Compute the variance: variance\n",
        "variance = np.var(versicolor_petal_length)\n",
        "\n",
        "# Print the square root of the variance\n",
        "print(np.sqrt(variance))\n",
        "\n",
        "# Print the standard deviation\n",
        "print(np.std(versicolor_petal_length))"
      ],
      "execution_count": null,
      "outputs": [
        {
          "output_type": "stream",
          "text": [
            "0.4651881339845204\n",
            "0.4651881339845204\n"
          ],
          "name": "stdout"
        }
      ]
    },
    {
      "cell_type": "code",
      "metadata": {
        "colab": {
          "base_uri": "https://localhost:8080/",
          "height": 285
        },
        "id": "s2uK3A15IHoo",
        "outputId": "d8f9f728-115c-4f86-bf36-918d0337cf53"
      },
      "source": [
        "# Covariance and the Pearson correlation coefficient\n",
        "\n",
        "# Scatter plots\n",
        "\n",
        "# Make a scatter plot\n",
        "plt.plot(versicolor_petal_length, versicolor_petal_width, marker = '.', linestyle = 'none')\n",
        "\n",
        "# Label the axes\n",
        "plt.xlabel('versicolor_petal_length')\n",
        "plt.ylabel('versicolor_petal_width')\n",
        "\n",
        "# Show the result\n",
        "plt.show()"
      ],
      "execution_count": null,
      "outputs": [
        {
          "output_type": "display_data",
          "data": {
            "image/png": "[encoded data removed]",
            "text/plain": [
              "<Figure size 432x288 with 1 Axes>"
            ]
          },
          "metadata": {
            "tags": []
          }
        }
      ]
    },
    {
      "cell_type": "code",
      "metadata": {
        "colab": {
          "base_uri": "https://localhost:8080/",
          "height": 285
        },
        "id": "fCWmLJiuI7Vy",
        "outputId": "d7de92c2-16f4-48cd-d2e1-eee7b46cc2fb"
      },
      "source": [
        "# Compute ECDFs\n",
        "x_set, y_set = ecdf(setosa_petal_length)\n",
        "x_vers, y_vers = ecdf(versicolor_petal_length)\n",
        "x_virg, y_virg = ecdf(virginica_petal_length)\n",
        "\n",
        "# Plot all ECDFs on the same plot\n",
        "_ = plt.plot(x_set, y_set, marker='.', linestyle='none')\n",
        "_ = plt.plot(x_vers, y_vers, marker='.', linestyle='none')\n",
        "_ = plt.plot(x_virg, y_virg, marker='.', linestyle='none')\n",
        "\n",
        "# Annotate the plot\n",
        "_ = plt.legend(('setosa', 'versicolor', 'virginica'), loc='lower right')\n",
        "_ = plt.xlabel('petal length (cm)')\n",
        "_ = plt.ylabel('ECDF')\n",
        "\n",
        "# Display the plot\n",
        "plt.show()"
      ],
      "execution_count": null,
      "outputs": [
        {
          "output_type": "display_data",
          "data": {
            "image/png": "[encoded data removed]",
            "text/plain": [
              "<Figure size 432x288 with 1 Axes>"
            ]
          },
          "metadata": {
            "tags": []
          }
        }
      ]
    },
    {
      "cell_type": "markdown",
      "metadata": {
        "id": "ZeFhjlmDIgGF"
      },
      "source": [
        "**Variance and covariance by looking**\n",
        "\n",
        "Consider four scatter plots of - data, appearing to the right. \n",
        "\n",
        "![](https://raw.githubusercontent.com/chesterheng/ai-for-industry/main/images/Variance_and_covariance.jpg)\n",
        "\n",
        "Which has, respectively,\n",
        "\n",
        "- the highest variance in the variable ,\n",
        "- the highest covariance,\n",
        "- negative covariance?\n",
        "\n",
        "**Possible Answers**\n",
        "\n",
        "- [ ] a, c, b\n",
        "- [ ] d, c, a\n",
        "- [ ] d, c, b\n",
        "- [ ] d, d, b"
      ]
    },
    {
      "cell_type": "code",
      "metadata": {
        "id": "upualh79IeGy",
        "colab": {
          "base_uri": "https://localhost:8080/"
        },
        "outputId": "6a11530b-482c-47ee-dee7-fe3c371cc7a1"
      },
      "source": [
        "# Computing the covariance\n",
        "\n",
        "# Compute the covariance matrix: covariance_matrix\n",
        "covariance_matrix = np.cov(versicolor_petal_length, versicolor_petal_width)\n",
        "\n",
        "# Print covariance matrix\n",
        "print(covariance_matrix)\n",
        "\n",
        "# Extract covariance of length and width of petals: petal_cov\n",
        "petal_cov = covariance_matrix[0,1]\n",
        "\n",
        "# Print the length/width covariance\n",
        "print(petal_cov)"
      ],
      "execution_count": null,
      "outputs": [
        {
          "output_type": "stream",
          "text": [
            "[[0.22081633 0.07310204]\n",
            " [0.07310204 0.03910612]]\n",
            "0.07310204081632653\n"
          ],
          "name": "stdout"
        }
      ]
    },
    {
      "cell_type": "code",
      "metadata": {
        "colab": {
          "base_uri": "https://localhost:8080/"
        },
        "id": "7V_tAyFTMMLx",
        "outputId": "b1efa2ee-6c5a-4b85-aeba-c1042f25ecbe"
      },
      "source": [
        "# Computing the Pearson correlation coefficient\n",
        "\n",
        "def pearson_r(x,y):\n",
        "    \"\"\"Compute Pearson correlation coefficient between two arrays.\"\"\"\n",
        "    # Compute correlation matrix: corr_mat\n",
        "    corr_mat = np.corrcoef(x,y)\n",
        "\n",
        "    # Return entry [0,1]\n",
        "    return corr_mat[0,1]\n",
        "\n",
        "# Compute Pearson correlation coefficient for I. versicolor: r\n",
        "r = pearson_r(versicolor_petal_length, versicolor_petal_width)\n",
        "\n",
        "# Print the result\n",
        "print(r)"
      ],
      "execution_count": null,
      "outputs": [
        {
          "output_type": "stream",
          "text": [
            "0.7866680885228169\n"
          ],
          "name": "stdout"
        }
      ]
    },
    {
      "cell_type": "markdown",
      "metadata": {
        "id": "BULSf0qQMWTe"
      },
      "source": [
        "## 3. Thinking probabilistically-- Discrete variables"
      ]
    },
    {
      "cell_type": "code",
      "metadata": {
        "id": "jzaSs8cXMb1Y"
      },
      "source": [
        "# Probabilistic logic and statistical inference"
      ],
      "execution_count": null,
      "outputs": []
    },
    {
      "cell_type": "markdown",
      "metadata": {
        "id": "SJi7G1uDMZSe"
      },
      "source": [
        "**What is the goal of statistical inference?**\n",
        "\n",
        "Why do we do statistical inference?\n",
        "\n",
        "**Possible Answers**\n",
        "\n",
        "- [ ] To draw probabilistic conclusions about what we might expect if we collected the same data again.\n",
        "- [ ] To draw actionable conclusions from data.\n",
        "- [ ] To draw more general conclusions from relatively few data or observations.\n",
        "- [x] All of these.\n"
      ]
    },
    {
      "cell_type": "markdown",
      "metadata": {
        "id": "whFsPFt69ta4"
      },
      "source": [
        "**Why do we use the language of probability?**\n",
        "\n",
        "Which of the following is not a reason why we use probabilistic language in statistical inference?\n",
        "\n",
        "**Possible Answers**\n",
        "\n",
        "- [ ] Probability provides a measure of uncertainty.\n",
        "- [x] Probabilistic language is not very precise.\n",
        "- [ ] Data are almost never exactly the same when acquired again, and probability allows us to say how much we expect them to vary."
      ]
    },
    {
      "cell_type": "code",
      "metadata": {
        "colab": {
          "base_uri": "https://localhost:8080/",
          "height": 265
        },
        "id": "6gUX5dNE96OS",
        "outputId": "8c9a6a3b-b475-4501-ddea-4b534bec2471"
      },
      "source": [
        "# Random number generators and hacker statistics\n",
        "\n",
        "# Generating random numbers using the np.random module\n",
        "\n",
        "import numpy as np\n",
        "import matplotlib.pyplot as plt\n",
        "\n",
        "# Seed the random number generator\n",
        "np.random.seed(42)\n",
        "\n",
        "# Initialize random numbers: random_numbers\n",
        "random_numbers = np.empty(100000)\n",
        "\n",
        "# Generate random numbers by looping over range(100000)\n",
        "for i in range(100000):\n",
        "    random_numbers[i] = np.random.random()\n",
        "\n",
        "# Plot a histogram\n",
        "_ = plt.hist(random_numbers)\n",
        "\n",
        "# Show the plot\n",
        "plt.show()"
      ],
      "execution_count": 3,
      "outputs": [
        {
          "output_type": "display_data",
          "data": {
            "image/png": "[encoded data removed]",
            "text/plain": [
              "<Figure size 432x288 with 1 Axes>"
            ]
          },
          "metadata": {
            "tags": [],
            "needs_background": "light"
          }
        }
      ]
    },
    {
      "cell_type": "code",
      "metadata": {
        "id": "uh7Q-jYE-qNa"
      },
      "source": [
        "# The np.random module and Bernoulli trials\n",
        "\n",
        "def perform_bernoulli_trials(n, p):\n",
        "    \"\"\"Perform n Bernoulli trials with success probability p\n",
        "    and return number of successes.\"\"\"\n",
        "    # Initialize number of successes: n_success\n",
        "    n_success = 0\n",
        "\n",
        "    # Perform trials\n",
        "    for i in range(n):\n",
        "        # Choose random number between zero and one: random_number\n",
        "        random_number = np.random.random()\n",
        "\n",
        "        # If less than p, it's a success so add one to n_success\n",
        "        if random_number < p:\n",
        "            n_success += 1\n",
        "            \n",
        "    return n_success"
      ],
      "execution_count": 4,
      "outputs": []
    },
    {
      "cell_type": "code",
      "metadata": {
        "colab": {
          "base_uri": "https://localhost:8080/",
          "height": 279
        },
        "id": "EUKugdtY-zOM",
        "outputId": "be9b1a4d-89cc-4b6a-906c-f1b05f50b68a"
      },
      "source": [
        "# How many defaults might we expect?\n",
        "\n",
        "# Seed random number generator\n",
        "np.random.seed(42)\n",
        "\n",
        "# Initialize the number of defaults: n_defaults\n",
        "n_defaults = np.empty(1000)\n",
        "\n",
        "# Compute the number of defaults\n",
        "for i in range(1000):\n",
        "    n_defaults[i] = perform_bernoulli_trials(100, 0.05)\n",
        "\n",
        "# Plot the histogram with default number of bins; label your axes\n",
        "_ = plt.hist(n_defaults, density = True)\n",
        "_ = plt.xlabel('number of defaults out of 100 loans')\n",
        "_ = plt.ylabel('probability')\n",
        "\n",
        "# Show the plot\n",
        "plt.show()"
      ],
      "execution_count": 5,
      "outputs": [
        {
          "output_type": "display_data",
          "data": {
            "image/png": "[encoded data removed]",
            "text/plain": [
              "<Figure size 432x288 with 1 Axes>"
            ]
          },
          "metadata": {
            "tags": [],
            "needs_background": "light"
          }
        }
      ]
    },
    {
      "cell_type": "code",
      "metadata": {
        "colab": {
          "base_uri": "https://localhost:8080/",
          "height": 298
        },
        "id": "0ZYDpvJm_Bni",
        "outputId": "8c195c6a-f374-4157-d016-8f083d1c1d0e"
      },
      "source": [
        "# Will the bank fail?\n",
        "\n",
        "# Compute ECDF: x, y\n",
        "x, y = ecdf(n_defaults)\n",
        "\n",
        "# Plot the ECDF with labeled axes\n",
        "plt.plot(x, y, marker = '.', linestyle = 'none')\n",
        "plt.xlabel('n_defaults')\n",
        "plt.ylabel('ECDF')\n",
        "\n",
        "# Show the plot\n",
        "plt.show()\n",
        "\n",
        "# Compute the number of 100-loan simulations with 10 or more defaults: n_lose_money\n",
        "n_lose_money = np.sum(n_defaults >= 10)\n",
        "\n",
        "# Compute and print probability of losing money\n",
        "print('Probability of losing money =', n_lose_money / len(n_defaults))"
      ],
      "execution_count": 8,
      "outputs": [
        {
          "output_type": "display_data",
          "data": {
            "image/png": "[encoded data removed]",
            "text/plain": [
              "<Figure size 432x288 with 1 Axes>"
            ]
          },
          "metadata": {
            "tags": [],
            "needs_background": "light"
          }
        },
        {
          "output_type": "stream",
          "text": [
            "Probability of losing money = 0.022\n"
          ],
          "name": "stdout"
        }
      ]
    },
    {
      "cell_type": "code",
      "metadata": {
        "colab": {
          "base_uri": "https://localhost:8080/",
          "height": 280
        },
        "id": "Ug-1CPQE_g7v",
        "outputId": "1a5036e8-d541-47ff-a0d0-3b6cbb6fd16d"
      },
      "source": [
        "# Probability distributions and stories: The Binomial distribution\n",
        "\n",
        "# Sampling out of the Binomial distribution\n",
        "\n",
        "# Take 10,000 samples out of the binomial distribution: n_defaults\n",
        "n_defaults = np.random.binomial(n = 100, p = 0.05, size = 10000)\n",
        "\n",
        "# Compute CDF: x, y\n",
        "x, y = ecdf(n_defaults)\n",
        "\n",
        "# Plot the CDF with axis labels\n",
        "plt.plot(x, y, marker = '.', linestyle = 'none')\n",
        "plt.xlabel('n_defaults')\n",
        "plt.ylabel('ECDF')\n",
        "\n",
        "# Show the plot\n",
        "plt.show()"
      ],
      "execution_count": 9,
      "outputs": [
        {
          "output_type": "display_data",
          "data": {
            "image/png": "[encoded data removed]",
            "text/plain": [
              "<Figure size 432x288 with 1 Axes>"
            ]
          },
          "metadata": {
            "tags": [],
            "needs_background": "light"
          }
        }
      ]
    },
    {
      "cell_type": "code",
      "metadata": {
        "colab": {
          "base_uri": "https://localhost:8080/",
          "height": 280
        },
        "id": "d5y9_1Rw_y8x",
        "outputId": "82c11e5c-3fc9-40bd-929d-ff7cc84fee9b"
      },
      "source": [
        "# Plotting the Binomial PMF\n",
        "\n",
        "# Compute bin edges: bins\n",
        "bins = np.arange(0, max(n_defaults) + 1.5) - 0.5\n",
        "\n",
        "# Generate histogram\n",
        "plt.hist(n_defaults, density = True, bins = bins)\n",
        "\n",
        "# Label axes\n",
        "plt.xlabel('n_defaults')\n",
        "plt.ylabel('count')\n",
        "\n",
        "# Show the plot\n",
        "plt.show()"
      ],
      "execution_count": 10,
      "outputs": [
        {
          "output_type": "display_data",
          "data": {
            "image/png": "[encoded data removed]",
            "text/plain": [
              "<Figure size 432x288 with 1 Axes>"
            ]
          },
          "metadata": {
            "tags": [],
            "needs_background": "light"
          }
        }
      ]
    },
    {
      "cell_type": "code",
      "metadata": {
        "colab": {
          "base_uri": "https://localhost:8080/"
        },
        "id": "1UlM5UZPAAcX",
        "outputId": "8db32849-e787-4327-d1cd-cdcb8c870485"
      },
      "source": [
        "# Poisson processes and the Poisson distribution\n",
        "\n",
        "# Relationship between Binomial and Poisson distributions\n",
        "\n",
        "# Draw 10,000 samples out of Poisson distribution: samples_poisson\n",
        "samples_poisson = np.random.poisson(10, size=10000)\n",
        "\n",
        "# Print the mean and standard deviation\n",
        "print('Poisson:     ', np.mean(samples_poisson),\n",
        "                       np.std(samples_poisson))\n",
        "\n",
        "# Specify values of n and p to consider for Binomial: n, p\n",
        "n = [20, 100, 1000]\n",
        "p = [0.5, 0.1, 0.01]\n",
        "\n",
        "# Draw 10,000 samples for each n,p pair: samples_binomial\n",
        "for i in range(3):\n",
        "    samples_binomial = np.random.binomial(n[i], p[i], size=10000)\n",
        "\n",
        "    # Print results\n",
        "    print('n =', n[i], 'Binom:', np.mean(samples_binomial),\n",
        "                                 np.std(samples_binomial))"
      ],
      "execution_count": 11,
      "outputs": [
        {
          "output_type": "stream",
          "text": [
            "Poisson:      10.0145 3.1713545607516043\n",
            "n = 20 Binom: 10.0592 2.23523944131272\n",
            "n = 100 Binom: 10.0441 2.9942536949964675\n",
            "n = 1000 Binom: 10.0129 3.139639085946026\n"
          ],
          "name": "stdout"
        }
      ]
    },
    {
      "cell_type": "markdown",
      "metadata": {
        "id": "rs840_6UALmU"
      },
      "source": [
        "**How many no-hitters in a season?**\n",
        "\n",
        "In baseball, a no-hitter is a game in which a pitcher does not allow the other team to get a hit. This is a rare event, and since the beginning of the so-called modern era of baseball (starting in 1901), there have only been 251 of them through the 2015 season in over 200,000 games. The ECDF of the number of no-hitters in a season is shown to the right. \n",
        "\n",
        "![](https://raw.githubusercontent.com/chesterheng/ai-for-industry/main/images/no-hitters.jpg)\n",
        "\n",
        "Which probability distribution would be appropriate to describe the number of no-hitters we would expect in a given season?\n",
        "\n",
        "Note: The no-hitter data set was scraped and calculated from the data sets available at retrosheet.org (license).\n",
        "\n",
        "**Possible Answers**\n",
        "\n",
        "- [ ] Discrete uniform\n",
        "- [ ] Binomial\n",
        "- [ ] Poisson\n",
        "- [x] Both Binomial and Poisson, though Poisson is easier to model and compute.\n",
        "- [ ] Both Binomial and Poisson, though Binomial is easier to model and compute."
      ]
    },
    {
      "cell_type": "code",
      "metadata": {
        "colab": {
          "base_uri": "https://localhost:8080/"
        },
        "id": "6MfWC4j_BTg3",
        "outputId": "abe71fbf-9979-4473-807c-85719d696ac0"
      },
      "source": [
        "# Was 2015 anomalous?\n",
        "\n",
        "# Draw 10,000 samples out of Poisson distribution: n_nohitters\n",
        "n_nohitters = np.random.poisson(251/115, size = 10000)\n",
        "\n",
        "# Compute number of samples that are seven or greater: n_large\n",
        "n_large = np.sum(n_nohitters >= 7)\n",
        "\n",
        "# Compute probability of getting seven or more: p_large\n",
        "p_large = n_large / 10000\n",
        "\n",
        "# Print the result\n",
        "print('Probability of seven or more no-hitters:', p_large)"
      ],
      "execution_count": 12,
      "outputs": [
        {
          "output_type": "stream",
          "text": [
            "Probability of seven or more no-hitters: 0.0072\n"
          ],
          "name": "stdout"
        }
      ]
    },
    {
      "cell_type": "markdown",
      "metadata": {
        "id": "baPIfmTbBZxz"
      },
      "source": [
        "## 4. Thinking probabilistically-- Continuous variables"
      ]
    },
    {
      "cell_type": "markdown",
      "metadata": {
        "id": "Fbr_fs15Bgc4"
      },
      "source": [
        "**Interpreting PDFs**\n",
        "\n",
        "Consider the PDF shown to the right (it may take a second to load!). \n",
        "\n",
        "![](https://raw.githubusercontent.com/chesterheng/ai-for-industry/main/images/pdfs.jpg)\n",
        "\n",
        "Which of the following is true?\n",
        "\n",
        "**Possible Answers**\n",
        "\n",
        "- [x] x is more likely to be less than 10 than to be greater than 10.\n",
        "- [ ] is more likely to be greater than 10 than to be less than 10.\n",
        "- [ ] We cannot tell from the PDF if x is more likely to be greater than or less than 10.\n",
        "- [ ] This is not a valid PDF because it has two peaks."
      ]
    },
    {
      "cell_type": "markdown",
      "metadata": {
        "id": "OWJmymWFChA1"
      },
      "source": [
        "**Interpreting CDFs**\n",
        "\n",
        "At right is the CDF corresponding to the PDF you considered in the last exercise. \n",
        "\n",
        "![](https://raw.githubusercontent.com/chesterheng/ai-for-industry/main/images/cdfs.jpg)\n",
        "\n",
        "Using the CDF, what is the probability that  is greater than 10?\n",
        "\n",
        "**Possible Answers**\n",
        "\n",
        "- [x] 0.25\n",
        "- [ ] 0.75\n",
        "- [ ] 3.75\n",
        "- [ ] 15\n",
        "\n",
        "Correct! The value of the CDF at x = 10 is 0.75, so the probability that x < 10 is 0.75. Thus, the probability that x > 10 is 0.25."
      ]
    },
    {
      "cell_type": "code",
      "metadata": {
        "colab": {
          "base_uri": "https://localhost:8080/",
          "height": 265
        },
        "id": "sRbsoDJqBf84",
        "outputId": "aec4e10f-2f09-4dce-d910-e3d7068cbc0f"
      },
      "source": [
        "# Introduction to the Normal distribution\n",
        "\n",
        "# The Normal PDF\n",
        "\n",
        "# Draw 100000 samples from Normal distribution with stds of interest: samples_std1, samples_std3, samples_std10\n",
        "\n",
        "samples_std1 = np.random.normal(20, 1, 100000)\n",
        "samples_std3= np.random.normal(20, 3, 100000)\n",
        "samples_std10= np.random.normal(20, 10, 100000)\n",
        "\n",
        "# Make histograms\n",
        "plt.hist(samples_std1, density = True, histtype = 'step', bins = 100)\n",
        "plt.hist(samples_std3, density = True, histtype = 'step', bins = 100)\n",
        "plt.hist(samples_std10, density = True, histtype = 'step', bins = 100)\n",
        "\n",
        "# Make a legend, set limits and show plot\n",
        "_ = plt.legend(('std = 1', 'std = 3', 'std = 10'))\n",
        "plt.ylim(-0.01, 0.42)\n",
        "plt.show()"
      ],
      "execution_count": 13,
      "outputs": [
        {
          "output_type": "display_data",
          "data": {
            "image/png": "[encoded data removed]",
            "text/plain": [
              "<Figure size 432x288 with 1 Axes>"
            ]
          },
          "metadata": {
            "tags": [],
            "needs_background": "light"
          }
        }
      ]
    },
    {
      "cell_type": "code",
      "metadata": {
        "colab": {
          "base_uri": "https://localhost:8080/",
          "height": 265
        },
        "id": "lvZfma0vDXZH",
        "outputId": "bb26d95d-b996-4371-c4aa-a670200f9939"
      },
      "source": [
        "# The Normal CDF\n",
        "\n",
        "# Generate CDFs\n",
        "x_std1, y_std1 = ecdf(samples_std1) \n",
        "x_std3, y_std3 = ecdf(samples_std3)  \n",
        "x_std10, y_std10= ecdf(samples_std10) \n",
        "\n",
        "# Plot CDFs\n",
        "plt.plot(x_std1, y_std1 , marker = '.', linestyle = 'none')\n",
        "plt.plot(x_std3, y_std3 , marker = '.', linestyle = 'none')\n",
        "plt.plot(x_std10, y_std10 , marker = '.', linestyle = 'none')\n",
        "\n",
        "# Make a legend and show the plot\n",
        "_ = plt.legend(('std = 1', 'std = 3', 'std = 10'), loc='lower right')\n",
        "plt.show()"
      ],
      "execution_count": 14,
      "outputs": [
        {
          "output_type": "display_data",
          "data": {
            "image/png": "[encoded data removed]",
            "text/plain": [
              "<Figure size 432x288 with 1 Axes>"
            ]
          },
          "metadata": {
            "tags": [],
            "needs_background": "light"
          }
        }
      ]
    },
    {
      "cell_type": "code",
      "metadata": {
        "id": "w35Qn6vtDf7q"
      },
      "source": [
        "# The Normal distribution: Properties and warnings"
      ],
      "execution_count": null,
      "outputs": []
    },
    {
      "cell_type": "markdown",
      "metadata": {
        "id": "_iTEg7aMDk4x"
      },
      "source": [
        "**Gauss and the 10 Deutschmark banknote**\n",
        "\n",
        "What are the mean and standard deviation, respectively, of the Normal distribution that was on the 10 Deutschmark banknote, shown to the right?\n",
        "\n",
        "![](https://raw.githubusercontent.com/chesterheng/ai-for-industry/main/images/banknote.jpg)\n",
        "\n",
        "**Possible Answers**\n",
        "\n",
        "- [x] mean = 3, std = 1\n",
        "- [ ] mean = 3, std = 2\n",
        "- [ ] mean = 0.4, std = 1\n",
        "- [ ] mean = 0.6, std = 6"
      ]
    },
    {
      "cell_type": "code",
      "metadata": {
        "colab": {
          "base_uri": "https://localhost:8080/",
          "height": 279
        },
        "id": "u9TwZK06EFeK",
        "outputId": "703b6f09-f219-4292-c73e-64c8848c2e66"
      },
      "source": [
        "# Are the Belmont Stakes results Normally distributed?\n",
        "\n",
        "import pandas as pd\n",
        "import numpy as np\n",
        "\n",
        "filename = 'https://raw.githubusercontent.com/chesterheng/ai-for-industry/main/datasets/belmont.csv'\n",
        "belmont = pd.read_csv(filename)\n",
        "belmont_no_outliers = belmont[~((belmont['Year'] == 1970) | (belmont['Year'] == 1973))].Time\n",
        "\n",
        "def convert(x): \n",
        "    return float(x.split(':')[0]) * 60 + float(x.split(':')[1].split('.')[0]) + float(x.split('.')[-1])/100\n",
        "belmont_no_outliers = belmont_no_outliers.apply(convert)\n",
        "\n",
        "# Compute mean and standard deviation: mu, sigma\n",
        "mu = np.mean(belmont_no_outliers)\n",
        "sigma = np.std(belmont_no_outliers)\n",
        "\n",
        "# Sample out of a normal distribution with this mu and sigma: samples\n",
        "samples = np.random.normal(mu, sigma, 10000)\n",
        "\n",
        "# Get the CDF of the samples and of the data\n",
        "x_theor, y_theor = ecdf(samples)\n",
        "x, y = ecdf(belmont_no_outliers)\n",
        "\n",
        "# Plot the CDFs and show the plot\n",
        "_ = plt.plot(x_theor, y_theor)\n",
        "_ = plt.plot(x, y, marker='.', linestyle='none')\n",
        "_ = plt.xlabel('Belmont winning time (sec.)')\n",
        "_ = plt.ylabel('CDF')\n",
        "plt.show()"
      ],
      "execution_count": 17,
      "outputs": [
        {
          "output_type": "display_data",
          "data": {
            "image/png": "[encoded data removed]",
            "text/plain": [
              "<Figure size 432x288 with 1 Axes>"
            ]
          },
          "metadata": {
            "tags": [],
            "needs_background": "light"
          }
        }
      ]
    },
    {
      "cell_type": "code",
      "metadata": {
        "colab": {
          "base_uri": "https://localhost:8080/"
        },
        "id": "WXktCXlxEk2t",
        "outputId": "8b9419fe-06cd-4800-f028-cadfef59a07b"
      },
      "source": [
        "# What are the chances of a horse matching or beating Secretariat's record?\n",
        "\n",
        "mu = 149.22101123595507 \n",
        "sigma = 1.627816471774816\n",
        "\n",
        "# Take a million samples out of the Normal distribution: samples\n",
        "samples = np.random.normal(mu, sigma, 1000000)\n",
        "\n",
        "# Compute the fraction that are faster than 144 seconds: prob\n",
        "prob = np.sum(samples <= 144) / 1000000\n",
        "\n",
        "# Print the result\n",
        "print('Probability of besting Secretariat:', prob)"
      ],
      "execution_count": 18,
      "outputs": [
        {
          "output_type": "stream",
          "text": [
            "Probability of besting Secretariat: 0.000638\n"
          ],
          "name": "stdout"
        }
      ]
    },
    {
      "cell_type": "code",
      "metadata": {
        "id": "etuw6NVXEtUK"
      },
      "source": [
        "# The Exponential distribution"
      ],
      "execution_count": null,
      "outputs": []
    },
    {
      "cell_type": "markdown",
      "metadata": {
        "id": "5gMqhvvQExf4"
      },
      "source": [
        "**Matching a story and a distribution**\n",
        "\n",
        "How might we expect the time between Major League no-hitters to be distributed? Be careful here: a few exercises ago, we considered the probability distribution for the number of no-hitters in a season. \n",
        "\n",
        "Now, we are looking at the probability distribution of the time between no hitters.\n",
        "\n",
        "**Possible Answers**\n",
        "\n",
        "- [ ] Normal\n",
        "- [x] Exponential\n",
        "- [ ] Poisson\n",
        "- [ ] Uniform\n"
      ]
    },
    {
      "cell_type": "markdown",
      "metadata": {
        "id": "8O3GgDThFCCB"
      },
      "source": [
        "**Waiting for the next Secretariat**\n",
        "\n",
        "Unfortunately, Justin was not alive when Secretariat ran the Belmont in 1973. Do you think he will get to see a performance like that? \n",
        "\n",
        "To answer this, you are interested in how many years you would expect to wait until you see another performance like Secretariat's. How is the waiting time until the next performance as good or better than Secretariat's distributed? Choose the best answer.\n",
        "\n",
        "**Possible Answers**\n",
        "\n",
        "- [ ] Normal, because the distribution of Belmont winning times are Normally distributed.\n",
        "- [ ] Normal, because there is a most-expected waiting time, so there should be a single peak to the distribution.\n",
        "- [ ] Exponential: It is very unlikely for a horse to be faster than Secretariat, so the distribution should decay away to zero for high waiting time.\n",
        "- [x] Exponential: A horse as fast as Secretariat is a rare event, which can be modeled as a Poisson process, and the waiting time between arrivals of a Poisson process is Exponentially distributed."
      ]
    },
    {
      "cell_type": "code",
      "metadata": {
        "id": "SkyY2YWeFVks"
      },
      "source": [
        "# If you have a story, you can simulate it!\n",
        "\n",
        "def successive_poisson(tau1, tau2, size=1):\n",
        "    \"\"\"Compute time for arrival of 2 successive Poisson processes.\"\"\"\n",
        "    # Draw samples out of first exponential distribution: t1\n",
        "    t1 = np.random.exponential(tau1, size)\n",
        "\n",
        "    # Draw samples out of second exponential distribution: t2\n",
        "    t2 = np.random.exponential(tau2, size)\n",
        "\n",
        "    return t1 + t2"
      ],
      "execution_count": 19,
      "outputs": []
    },
    {
      "cell_type": "code",
      "metadata": {
        "colab": {
          "base_uri": "https://localhost:8080/",
          "height": 279
        },
        "id": "rXk-Zj4XFblE",
        "outputId": "05db3cf3-9c5f-4143-e1cb-4109ffd17574"
      },
      "source": [
        "# Distribution of no-hitters and cycles\n",
        "\n",
        "# Draw samples of waiting times: waiting_times\n",
        "# Draw samples of waiting times\n",
        "waiting_times = successive_poisson(764, 715, size=100000)\n",
        "\n",
        "# Make the histogram\n",
        "_ = plt.hist(waiting_times, bins=100, histtype='step', density=True)\n",
        "\n",
        "# Label axes\n",
        "_ = plt.xlabel('total waiting time (games)')\n",
        "_ = plt.ylabel('PDF')\n",
        "\n",
        "# Show the plot\n",
        "plt.show()"
      ],
      "execution_count": 20,
      "outputs": [
        {
          "output_type": "display_data",
          "data": {
            "image/png": "[encoded data removed]",
            "text/plain": [
              "<Figure size 432x288 with 1 Axes>"
            ]
          },
          "metadata": {
            "tags": [],
            "needs_background": "light"
          }
        }
      ]
    }
  ]
}