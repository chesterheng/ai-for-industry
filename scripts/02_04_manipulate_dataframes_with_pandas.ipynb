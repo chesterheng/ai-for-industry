{
  "nbformat": 4,
  "nbformat_minor": 0,
  "metadata": {
    "colab": {
      "name": "02-04-manipulate-dataframes-with-pandas.ipynb",
      "provenance": [],
      "collapsed_sections": []
    },
    "kernelspec": {
      "name": "python3",
      "display_name": "Python 3"
    }
  },
  "cells": [
    {
      "cell_type": "code",
      "metadata": {
        "id": "G6xd1gpwYMAI"
      },
      "source": [
        "#Manipulating DataFrames with pandas\n",
        "## 1. Extracting and transforming data\n",
        "## 2. Advanced indexing\n",
        "## 3. Rearranging and reshaping data\n",
        "## 4. Grouping data\n",
        "## 5. Bringing it all together"
      ],
      "execution_count": null,
      "outputs": []
    },
    {
      "cell_type": "markdown",
      "metadata": {
        "id": "vkkonf9raNWr"
      },
      "source": [
        "## 1. Extracting and transforming data"
      ]
    },
    {
      "cell_type": "code",
      "metadata": {
        "colab": {
          "base_uri": "https://localhost:8080/",
          "height": 35
        },
        "id": "5_guQrefaRFP",
        "outputId": "b8970678-c683-42e2-d5ca-8823bd000120"
      },
      "source": [
        "# Indexing DataFrames\n",
        "\n",
        "import pandas as pd\n",
        "fname = 'https://raw.githubusercontent.com/chesterheng/ai-for-industry/main/datasets/pennsylvania2012_turnout.csv'\n",
        "election = pd.read_csv(fname, index_col=0)\n",
        "\n",
        "election.loc['Bedford', 'winner']"
      ],
      "execution_count": 7,
      "outputs": [
        {
          "output_type": "execute_result",
          "data": {
            "application/vnd.google.colaboratory.intrinsic+json": {
              "type": "string"
            },
            "text/plain": [
              "'Romney'"
            ]
          },
          "metadata": {
            "tags": []
          },
          "execution_count": 7
        }
      ]
    },
    {
      "cell_type": "markdown",
      "metadata": {
        "id": "rjGOYUjPaW5q"
      },
      "source": [
        "**Index ordering**\n",
        "\n",
        "In this exercise, the DataFrame election is provided for you. It contains the 2012 US election results for the state of Pennsylvania with county names as row indices. Your job is to select 'Bedford' county and the'winner' column. \n",
        "\n",
        "Which method is the preferred way?\n",
        "\n",
        "**Possible Answers**\n",
        "\n",
        "- [ ] election['Bedford', 'winner']\n",
        "- [ ] election['Bedford']['winner']\n",
        "- [ ] election['eggs']['Bedford']\n",
        "- [x] election.loc['Bedford', 'winner']\n",
        "- [ ] election.iloc['Bedford', 'winner']"
      ]
    },
    {
      "cell_type": "code",
      "metadata": {
        "colab": {
          "base_uri": "https://localhost:8080/"
        },
        "id": "bDgx3vtObKdK",
        "outputId": "bb66be42-7ca1-443d-9dd5-58364249a838"
      },
      "source": [
        "# Positional and labeled indexing\n",
        "\n",
        "# Assign the row position of election.loc['Bedford']: x\n",
        "x = 4\n",
        "\n",
        "# Assign the column position of election['winner']: y\n",
        "y = 4\n",
        "\n",
        "# Print the boolean equivalence\n",
        "print(election.iloc[x, y] == election.loc['Bedford', 'winner'])"
      ],
      "execution_count": 5,
      "outputs": [
        {
          "output_type": "stream",
          "text": [
            "True\n"
          ],
          "name": "stdout"
        }
      ]
    },
    {
      "cell_type": "code",
      "metadata": {
        "colab": {
          "base_uri": "https://localhost:8080/"
        },
        "id": "i158aZX4bcxM",
        "outputId": "3e349d97-22ca-433f-dd60-1d7eb69a35c7"
      },
      "source": [
        "# Indexing and column rearrangement\n",
        "\n",
        "# Import pandas\n",
        "import pandas as pd\n",
        "\n",
        "filename = 'https://raw.githubusercontent.com/chesterheng/ai-for-industry/main/datasets/pennsylvania2012_turnout.csv'\n",
        "\n",
        "# Read in filename and set the index: election\n",
        "election = pd.read_csv(filename, index_col='county')\n",
        "\n",
        "# Create a separate dataframe with the columns ['winner', 'total', 'voters']: results\n",
        "results = election[['winner', 'total', 'voters']]\n",
        "\n",
        "# Print the output of results.head()\n",
        "print(results.head())"
      ],
      "execution_count": 8,
      "outputs": [
        {
          "output_type": "stream",
          "text": [
            "           winner   total  voters\n",
            "county                           \n",
            "Adams      Romney   41973   61156\n",
            "Allegheny   Obama  614671  924351\n",
            "Armstrong  Romney   28322   42147\n",
            "Beaver     Romney   80015  115157\n",
            "Bedford    Romney   21444   32189\n"
          ],
          "name": "stdout"
        }
      ]
    },
    {
      "cell_type": "code",
      "metadata": {
        "colab": {
          "base_uri": "https://localhost:8080/"
        },
        "id": "Lig97mAJbp8J",
        "outputId": "87dfcbf2-41a4-480a-9021-7009e2a38cd0"
      },
      "source": [
        "# Slicing DataFrames\n",
        "\n",
        "# Slicing rows\n",
        "\n",
        "import pandas as pd\n",
        "filename = 'https://raw.githubusercontent.com/chesterheng/ai-for-industry/main/datasets/pennsylvania2012_turnout.csv'\n",
        "election = pd.read_csv(filename, index_col='county')\n",
        "\n",
        "# Slice the row labels 'Perry' to 'Potter': p_counties\n",
        "p_counties = election.loc['Perry':'Potter']\n",
        "\n",
        "# Print the p_counties DataFrame\n",
        "print(p_counties)\n",
        "\n",
        "# Slice the row labels 'Potter' to 'Perry' in reverse order: p_counties_rev\n",
        "p_counties_rev = election.loc['Potter':'Perry':-1]\n",
        "\n",
        "# Print the p_counties_rev DataFrame\n",
        "print(p_counties_rev)"
      ],
      "execution_count": 10,
      "outputs": [
        {
          "output_type": "stream",
          "text": [
            "             state   total      Obama  ...   voters    turnout     margin\n",
            "county                                 ...                               \n",
            "Perry           PA   18240  29.769737  ...    27245  66.948064  38.821272\n",
            "Philadelphia    PA  653598  85.224251  ...  1099197  59.461407  71.172800\n",
            "Pike            PA   23164  43.904334  ...    41840  55.363289  10.978242\n",
            "Potter          PA    7205  26.259542  ...    10913  66.022175  45.898681\n",
            "\n",
            "[4 rows x 8 columns]\n",
            "             state   total      Obama  ...   voters    turnout     margin\n",
            "county                                 ...                               \n",
            "Potter          PA    7205  26.259542  ...    10913  66.022175  45.898681\n",
            "Pike            PA   23164  43.904334  ...    41840  55.363289  10.978242\n",
            "Philadelphia    PA  653598  85.224251  ...  1099197  59.461407  71.172800\n",
            "Perry           PA   18240  29.769737  ...    27245  66.948064  38.821272\n",
            "\n",
            "[4 rows x 8 columns]\n"
          ],
          "name": "stdout"
        }
      ]
    },
    {
      "cell_type": "code",
      "metadata": {
        "colab": {
          "base_uri": "https://localhost:8080/"
        },
        "id": "aBYPuP1mcGh7",
        "outputId": "1ce0a656-72d4-4fea-ad17-785c0a894bf4"
      },
      "source": [
        "# Slicing columns\n",
        "\n",
        "import pandas as pd\n",
        "filename = 'https://raw.githubusercontent.com/chesterheng/ai-for-industry/main/datasets/pennsylvania2012_turnout.csv'\n",
        "election = pd.read_csv(filename, index_col='county')\n",
        "\n",
        "# Slice the columns from the starting column to 'Obama': left_columns\n",
        "left_columns = election.loc[:, :'Obama']\n",
        "\n",
        "# Print the output of left_columns.head()\n",
        "print(left_columns.head())\n",
        "\n",
        "# Slice the columns from 'Obama' to 'winner': middle_columns\n",
        "middle_columns = election.loc[:, 'Obama':'winner']\n",
        "\n",
        "# Print the output of middle_columns.head()\n",
        "print(middle_columns.head())\n",
        "\n",
        "# Slice the columns from 'Romney' to the end: 'right_columns'\n",
        "right_columns = election.loc[:, 'Romney':]\n",
        "\n",
        "# Print the output of right_columns.head()\n",
        "print(right_columns.head())"
      ],
      "execution_count": 75,
      "outputs": [
        {
          "output_type": "stream",
          "text": [
            "          state   total      Obama\n",
            "county                            \n",
            "Adams        PA   41973  35.482334\n",
            "Allegheny    PA  614671  56.640219\n",
            "Armstrong    PA   28322  30.696985\n",
            "Beaver       PA   80015  46.032619\n",
            "Bedford      PA   21444  22.057452\n",
            "               Obama     Romney  winner\n",
            "county                                 \n",
            "Adams      35.482334  63.112001  Romney\n",
            "Allegheny  56.640219  42.185820   Obama\n",
            "Armstrong  30.696985  67.901278  Romney\n",
            "Beaver     46.032619  52.637630  Romney\n",
            "Bedford    22.057452  76.986570  Romney\n",
            "              Romney  winner  voters    turnout     margin\n",
            "county                                                    \n",
            "Adams      63.112001  Romney   61156  68.632677  27.629667\n",
            "Allegheny  42.185820   Obama  924351  66.497575  14.454399\n",
            "Armstrong  67.901278  Romney   42147  67.198140  37.204293\n",
            "Beaver     52.637630  Romney  115157  69.483401   6.605012\n",
            "Bedford    76.986570  Romney   32189  66.619031  54.929118\n"
          ],
          "name": "stdout"
        }
      ]
    },
    {
      "cell_type": "code",
      "metadata": {
        "colab": {
          "base_uri": "https://localhost:8080/"
        },
        "id": "KqZSqDoLccF5",
        "outputId": "2c3c5d8e-2180-4b64-93c3-a36ae238b032"
      },
      "source": [
        "# Subselecting DataFrames with lists\n",
        "\n",
        "import pandas as pd\n",
        "filename = 'https://raw.githubusercontent.com/chesterheng/ai-for-industry/main/datasets/pennsylvania2012_turnout.csv'\n",
        "election = pd.read_csv(filename, index_col='county')\n",
        "\n",
        "# Create the list of row labels: rows\n",
        "rows = ['Philadelphia', 'Centre', 'Fulton']\n",
        "\n",
        "# Create the list of column labels: cols\n",
        "cols = ['winner', 'Obama', 'Romney']\n",
        "\n",
        "# Create the new DataFrame: three_counties\n",
        "three_counties = election.loc[rows, cols]\n",
        "\n",
        "# Print the three_counties DataFrame\n",
        "print(three_counties)"
      ],
      "execution_count": 12,
      "outputs": [
        {
          "output_type": "stream",
          "text": [
            "              winner      Obama     Romney\n",
            "county                                    \n",
            "Philadelphia   Obama  85.224251  14.051451\n",
            "Centre        Romney  48.948416  48.977486\n",
            "Fulton        Romney  21.096291  77.748861\n"
          ],
          "name": "stdout"
        }
      ]
    },
    {
      "cell_type": "code",
      "metadata": {
        "colab": {
          "base_uri": "https://localhost:8080/"
        },
        "id": "kKdaJlbucmQq",
        "outputId": "e2caffe1-e1d7-4fba-f9f5-76a2123e1575"
      },
      "source": [
        "# Filtering DataFrames\n",
        "\n",
        "# Thresholding data\n",
        "\n",
        "import pandas as pd\n",
        "filename = 'https://raw.githubusercontent.com/chesterheng/ai-for-industry/main/datasets/pennsylvania2012_turnout.csv'\n",
        "election = pd.read_csv(filename, index_col='county')\n",
        "\n",
        "# Create the boolean array: high_turnout\n",
        "high_turnout = election['turnout'] > 70\n",
        "\n",
        "# Filter the election DataFrame with the high_turnout array: high_turnout_df\n",
        "high_turnout_df = election.loc[high_turnout]\n",
        "\n",
        "# Print the high_turnout_results DataFrame\n",
        "print(high_turnout_df)\n"
      ],
      "execution_count": 14,
      "outputs": [
        {
          "output_type": "stream",
          "text": [
            "             state   total      Obama  ...  voters    turnout     margin\n",
            "county                                 ...                              \n",
            "Bucks           PA  319407  49.966970  ...  435606  73.324748   1.165284\n",
            "Butler          PA   88924  31.920516  ...  122762  72.436096  34.896091\n",
            "Chester         PA  248295  49.228539  ...  337822  73.498766   0.422079\n",
            "Forest          PA    2308  38.734835  ...    3232  71.410891  21.100520\n",
            "Franklin        PA   62802  30.110506  ...   87406  71.850903  38.473297\n",
            "Montgomery      PA  401787  56.637223  ...  551105  72.905708  14.350390\n",
            "Westmoreland    PA  168709  37.567646  ...  238006  70.884347  23.738508\n",
            "\n",
            "[7 rows x 8 columns]\n"
          ],
          "name": "stdout"
        }
      ]
    },
    {
      "cell_type": "code",
      "metadata": {
        "colab": {
          "base_uri": "https://localhost:8080/"
        },
        "id": "lTzxdKJlcyFe",
        "outputId": "48a91e61-25cb-4f35-a13e-aa475c2f6dd0"
      },
      "source": [
        "# Filtering columns using other columns\n",
        "\n",
        "import pandas as pd\n",
        "filename = 'https://raw.githubusercontent.com/chesterheng/ai-for-industry/main/datasets/pennsylvania2012_turnout.csv'\n",
        "election = pd.read_csv(filename, index_col='county')\n",
        "\n",
        "# Import numpy\n",
        "import numpy as np\n",
        "\n",
        "# Create the boolean array: too_close\n",
        "too_close = election['margin'] < 1\n",
        "\n",
        "# Assign np.nan to the 'winner' column where the results were too close to call\n",
        "election.loc[too_close, 'winner'] = np.nan\n",
        "\n",
        "# Print the output of election.info()\n",
        "print(election.info())"
      ],
      "execution_count": 16,
      "outputs": [
        {
          "output_type": "stream",
          "text": [
            "<class 'pandas.core.frame.DataFrame'>\n",
            "Index: 67 entries, Adams to York\n",
            "Data columns (total 8 columns):\n",
            " #   Column   Non-Null Count  Dtype  \n",
            "---  ------   --------------  -----  \n",
            " 0   state    67 non-null     object \n",
            " 1   total    67 non-null     int64  \n",
            " 2   Obama    67 non-null     float64\n",
            " 3   Romney   67 non-null     float64\n",
            " 4   winner   64 non-null     object \n",
            " 5   voters   67 non-null     int64  \n",
            " 6   turnout  67 non-null     float64\n",
            " 7   margin   67 non-null     float64\n",
            "dtypes: float64(4), int64(2), object(2)\n",
            "memory usage: 4.7+ KB\n",
            "None\n"
          ],
          "name": "stdout"
        }
      ]
    },
    {
      "cell_type": "code",
      "metadata": {
        "colab": {
          "base_uri": "https://localhost:8080/"
        },
        "id": "wVlvfOC1dFf6",
        "outputId": "00255b34-d1a9-4c02-b19e-1fec2d45ecf1"
      },
      "source": [
        "# Filtering using NaNs\n",
        "\n",
        "import pandas as pd\n",
        "filename = 'https://raw.githubusercontent.com/chesterheng/ai-for-industry/main/datasets/titanic.csv'\n",
        "titanic = pd.read_csv(filename)\n",
        "\n",
        "# Select the 'age' and 'cabin' columns: df\n",
        "df = titanic[['age','cabin']]\n",
        "\n",
        "# Print the shape of df\n",
        "print(df.shape)\n",
        "\n",
        "# Drop rows in df with how='any' and print the shape\n",
        "print(df.dropna(how='any').shape)\n",
        "\n",
        "# Drop rows in df with how='all' and print the shape\n",
        "print(df.dropna(how='all').shape)\n",
        "\n",
        "# Drop columns in titanic with less than 1000 non-missing values\n",
        "print(titanic.dropna(thresh=1000, axis='columns').info())"
      ],
      "execution_count": 17,
      "outputs": [
        {
          "output_type": "stream",
          "text": [
            "(1309, 2)\n",
            "(272, 2)\n",
            "(1069, 2)\n",
            "<class 'pandas.core.frame.DataFrame'>\n",
            "RangeIndex: 1309 entries, 0 to 1308\n",
            "Data columns (total 10 columns):\n",
            " #   Column    Non-Null Count  Dtype  \n",
            "---  ------    --------------  -----  \n",
            " 0   pclass    1309 non-null   int64  \n",
            " 1   survived  1309 non-null   int64  \n",
            " 2   name      1309 non-null   object \n",
            " 3   sex       1309 non-null   object \n",
            " 4   age       1046 non-null   float64\n",
            " 5   sibsp     1309 non-null   int64  \n",
            " 6   parch     1309 non-null   int64  \n",
            " 7   ticket    1309 non-null   object \n",
            " 8   fare      1308 non-null   float64\n",
            " 9   embarked  1307 non-null   object \n",
            "dtypes: float64(2), int64(4), object(4)\n",
            "memory usage: 102.4+ KB\n",
            "None\n"
          ],
          "name": "stdout"
        }
      ]
    },
    {
      "cell_type": "code",
      "metadata": {
        "colab": {
          "base_uri": "https://localhost:8080/"
        },
        "id": "wqbmeXYxdz0w",
        "outputId": "513827af-4712-44cc-c3a8-4d45cea37eec"
      },
      "source": [
        "# Transforming DataFrames\n",
        "\n",
        "# Using apply() to transform a column\n",
        "\n",
        "import pandas as pd\n",
        "filename = 'https://raw.githubusercontent.com/chesterheng/ai-for-industry/main/datasets/pittsburgh2013.csv'\n",
        "weather = pd.read_csv(filename)\n",
        "\n",
        "# Write a function to convert degrees Fahrenheit to degrees Celsius: to_celsius\n",
        "def to_celsius(F):\n",
        "    return 5/9*(F - 32)\n",
        "\n",
        "# Apply the function over 'Mean TemperatureF' and 'Mean Dew PointF': df_celsius\n",
        "df_celsius = weather[['Mean TemperatureF', 'Mean Dew PointF']].apply(to_celsius)\n",
        "\n",
        "# Reassign the columns df_celsius\n",
        "df_celsius.columns = ['Mean TemperatureC', 'Mean Dew PointC']\n",
        "\n",
        "# Print the output of df_celsius.head()\n",
        "print(df_celsius.head())"
      ],
      "execution_count": 19,
      "outputs": [
        {
          "output_type": "stream",
          "text": [
            "   Mean TemperatureC  Mean Dew PointC\n",
            "0          -2.222222        -2.777778\n",
            "1          -6.111111       -11.111111\n",
            "2          -4.444444        -9.444444\n",
            "3          -2.222222        -7.222222\n",
            "4          -1.111111        -6.666667\n"
          ],
          "name": "stdout"
        }
      ]
    },
    {
      "cell_type": "code",
      "metadata": {
        "colab": {
          "base_uri": "https://localhost:8080/"
        },
        "id": "PGK_2my7eZn6",
        "outputId": "86c9a2db-8eed-4515-e3b1-23e51dea7952"
      },
      "source": [
        "# Using .map() with a dictionary\n",
        "\n",
        "import pandas as pd\n",
        "filename = 'https://raw.githubusercontent.com/chesterheng/ai-for-industry/main/datasets/pennsylvania2012_turnout.csv'\n",
        "election = pd.read_csv(filename, index_col='county')\n",
        "\n",
        "# Create the dictionary: red_vs_blue\n",
        "red_vs_blue = {'Obama':'blue', 'Romney':'red'}\n",
        "\n",
        "# Use the dictionary to map the 'winner' column to the new column: election['color']\n",
        "election['color'] = election['winner'].map(red_vs_blue)\n",
        "\n",
        "# Print the output of election.head()\n",
        "print(election.head())"
      ],
      "execution_count": 20,
      "outputs": [
        {
          "output_type": "stream",
          "text": [
            "          state   total      Obama  ...    turnout     margin  color\n",
            "county                              ...                             \n",
            "Adams        PA   41973  35.482334  ...  68.632677  27.629667    red\n",
            "Allegheny    PA  614671  56.640219  ...  66.497575  14.454399   blue\n",
            "Armstrong    PA   28322  30.696985  ...  67.198140  37.204293    red\n",
            "Beaver       PA   80015  46.032619  ...  69.483401   6.605012    red\n",
            "Bedford      PA   21444  22.057452  ...  66.619031  54.929118    red\n",
            "\n",
            "[5 rows x 9 columns]\n"
          ],
          "name": "stdout"
        }
      ]
    },
    {
      "cell_type": "code",
      "metadata": {
        "colab": {
          "base_uri": "https://localhost:8080/"
        },
        "id": "ysMagkNLemJL",
        "outputId": "cdd22abe-e5c8-4dc5-c545-b5161c7685f3"
      },
      "source": [
        "# Using vectorized functions\n",
        "\n",
        "import pandas as pd\n",
        "filename = 'https://raw.githubusercontent.com/chesterheng/ai-for-industry/main/datasets/pennsylvania2012_turnout.csv'\n",
        "election = pd.read_csv(filename, index_col='county')\n",
        "\n",
        "# Import zscore from scipy.stats\n",
        "from scipy.stats import zscore\n",
        "\n",
        "# Call zscore with election['turnout'] as input: turnout_zscore\n",
        "turnout_zscore = zscore(election['turnout'])\n",
        "\n",
        "# Print the type of turnout_zscore\n",
        "print(type(turnout_zscore))\n",
        "\n",
        "# Assign turnout_zscore to a new column: election['turnout_zscore']\n",
        "election['turnout_zscore'] = turnout_zscore\n",
        "\n",
        "# Print the output of election.head()\n",
        "print(election.head())"
      ],
      "execution_count": 21,
      "outputs": [
        {
          "output_type": "stream",
          "text": [
            "<class 'numpy.ndarray'>\n",
            "          state   total      Obama  ...    turnout     margin  turnout_zscore\n",
            "county                              ...                                      \n",
            "Adams        PA   41973  35.482334  ...  68.632677  27.629667        0.853734\n",
            "Allegheny    PA  614671  56.640219  ...  66.497575  14.454399        0.439846\n",
            "Armstrong    PA   28322  30.696985  ...  67.198140  37.204293        0.575650\n",
            "Beaver       PA   80015  46.032619  ...  69.483401   6.605012        1.018647\n",
            "Bedford      PA   21444  22.057452  ...  66.619031  54.929118        0.463391\n",
            "\n",
            "[5 rows x 9 columns]\n"
          ],
          "name": "stdout"
        }
      ]
    },
    {
      "cell_type": "markdown",
      "metadata": {
        "id": "dTpUAMJ7e-Fi"
      },
      "source": [
        "## 2. Advanced indexing"
      ]
    },
    {
      "cell_type": "code",
      "metadata": {
        "colab": {
          "base_uri": "https://localhost:8080/",
          "height": 233
        },
        "id": "7B-MK4K7fE6L",
        "outputId": "e8a1510d-b5f9-41de-e699-6abb0e00a4e8"
      },
      "source": [
        "# Index objects and labeled data\n",
        "\n",
        "import pandas as pd\n",
        "filename = 'https://raw.githubusercontent.com/chesterheng/ai-for-industry/main/datasets/sales.csv'\n",
        "sales = pd.read_csv(filename, index_col='month')\n",
        "\n",
        "# sales.index[0] = 'JAN'\n",
        "# sales.index[0] = sales.index[0].upper()\n",
        "sales.index = range(len(sales))\n",
        "sales"
      ],
      "execution_count": 29,
      "outputs": [
        {
          "output_type": "execute_result",
          "data": {
            "text/html": [
              "<div>\n",
              "<style scoped>\n",
              "    .dataframe tbody tr th:only-of-type {\n",
              "        vertical-align: middle;\n",
              "    }\n",
              "\n",
              "    .dataframe tbody tr th {\n",
              "        vertical-align: top;\n",
              "    }\n",
              "\n",
              "    .dataframe thead th {\n",
              "        text-align: right;\n",
              "    }\n",
              "</style>\n",
              "<table border=\"1\" class=\"dataframe\">\n",
              "  <thead>\n",
              "    <tr style=\"text-align: right;\">\n",
              "      <th></th>\n",
              "      <th>eggs</th>\n",
              "      <th>salt</th>\n",
              "      <th>spam</th>\n",
              "    </tr>\n",
              "  </thead>\n",
              "  <tbody>\n",
              "    <tr>\n",
              "      <th>0</th>\n",
              "      <td>47</td>\n",
              "      <td>12.0</td>\n",
              "      <td>17</td>\n",
              "    </tr>\n",
              "    <tr>\n",
              "      <th>1</th>\n",
              "      <td>110</td>\n",
              "      <td>50.0</td>\n",
              "      <td>31</td>\n",
              "    </tr>\n",
              "    <tr>\n",
              "      <th>2</th>\n",
              "      <td>221</td>\n",
              "      <td>89.0</td>\n",
              "      <td>72</td>\n",
              "    </tr>\n",
              "    <tr>\n",
              "      <th>3</th>\n",
              "      <td>77</td>\n",
              "      <td>87.0</td>\n",
              "      <td>20</td>\n",
              "    </tr>\n",
              "    <tr>\n",
              "      <th>4</th>\n",
              "      <td>132</td>\n",
              "      <td>NaN</td>\n",
              "      <td>52</td>\n",
              "    </tr>\n",
              "    <tr>\n",
              "      <th>5</th>\n",
              "      <td>205</td>\n",
              "      <td>60.0</td>\n",
              "      <td>55</td>\n",
              "    </tr>\n",
              "  </tbody>\n",
              "</table>\n",
              "</div>"
            ],
            "text/plain": [
              "   eggs  salt  spam\n",
              "0    47  12.0    17\n",
              "1   110  50.0    31\n",
              "2   221  89.0    72\n",
              "3    77  87.0    20\n",
              "4   132   NaN    52\n",
              "5   205  60.0    55"
            ]
          },
          "metadata": {
            "tags": []
          },
          "execution_count": 29
        }
      ]
    },
    {
      "cell_type": "markdown",
      "metadata": {
        "id": "_1x9KjO6fHJy"
      },
      "source": [
        "**Index values and names**\n",
        "\n",
        "Which one of the following index operations does not raise an error?\n",
        "\n",
        "Refer to the sales DataFrame above.\n",
        "\n",
        "**Possible Answers**\n",
        "\n",
        "- [ ] sales.index[0] = 'JAN'.\n",
        "- [ ] sales.index[0] = sales.index[0].upper().\n",
        "- [x] sales.index = range(len(sales))."
      ]
    },
    {
      "cell_type": "code",
      "metadata": {
        "colab": {
          "base_uri": "https://localhost:8080/"
        },
        "id": "7WnegqpWhdY1",
        "outputId": "b4cf85ec-4514-4661-9b49-6d11264d1f51"
      },
      "source": [
        "# Changing index of a DataFrame\n",
        "\n",
        "import pandas as pd\n",
        "filename = 'https://raw.githubusercontent.com/chesterheng/ai-for-industry/main/datasets/sales.csv'\n",
        "sales = pd.read_csv(filename, index_col='month')\n",
        "\n",
        "# Create the list of new indexes: new_idx\n",
        "new_idx = [month.upper() for month in sales.index]\n",
        "\n",
        "# Assign new_idx to sales.index\n",
        "sales.index = new_idx\n",
        "\n",
        "# Print the sales DataFrame\n",
        "print(sales)"
      ],
      "execution_count": 30,
      "outputs": [
        {
          "output_type": "stream",
          "text": [
            "     eggs  salt  spam\n",
            "JAN    47  12.0    17\n",
            "FEB   110  50.0    31\n",
            "MAR   221  89.0    72\n",
            "APR    77  87.0    20\n",
            "MAY   132   NaN    52\n",
            "JUN   205  60.0    55\n"
          ],
          "name": "stdout"
        }
      ]
    },
    {
      "cell_type": "code",
      "metadata": {
        "colab": {
          "base_uri": "https://localhost:8080/"
        },
        "id": "H1mGmEwxhnvC",
        "outputId": "550dc7b3-df5b-4f04-d77f-dc9049a67e35"
      },
      "source": [
        "# Changing index name labels\n",
        "\n",
        "import pandas as pd\n",
        "filename = 'https://raw.githubusercontent.com/chesterheng/ai-for-industry/main/datasets/sales.csv'\n",
        "sales = pd.read_csv(filename, index_col='month')\n",
        "\n",
        "# Assign the string 'MONTHS' to sales.index.name\n",
        "sales.index.name = 'MONTHS'\n",
        "\n",
        "# Print the sales DataFrame\n",
        "print(sales)\n",
        "\n",
        "# Assign the string 'PRODUCTS' to sales.columns.name \n",
        "sales.columns.name = 'PRODUCTS'\n",
        "\n",
        "# Print the sales dataframe again\n",
        "print(sales)"
      ],
      "execution_count": 31,
      "outputs": [
        {
          "output_type": "stream",
          "text": [
            "        eggs  salt  spam\n",
            "MONTHS                  \n",
            "Jan       47  12.0    17\n",
            "Feb      110  50.0    31\n",
            "Mar      221  89.0    72\n",
            "Apr       77  87.0    20\n",
            "May      132   NaN    52\n",
            "Jun      205  60.0    55\n",
            "PRODUCTS  eggs  salt  spam\n",
            "MONTHS                    \n",
            "Jan         47  12.0    17\n",
            "Feb        110  50.0    31\n",
            "Mar        221  89.0    72\n",
            "Apr         77  87.0    20\n",
            "May        132   NaN    52\n",
            "Jun        205  60.0    55\n"
          ],
          "name": "stdout"
        }
      ]
    },
    {
      "cell_type": "code",
      "metadata": {
        "colab": {
          "base_uri": "https://localhost:8080/"
        },
        "id": "GK8IBKoyhx-C",
        "outputId": "71925795-69e3-4f88-9609-002dc8044383"
      },
      "source": [
        "# Building an index, then a DataFrame\n",
        "\n",
        "import pandas as pd\n",
        "filename = 'https://raw.githubusercontent.com/chesterheng/ai-for-industry/main/datasets/sales.csv'\n",
        "sales = pd.read_csv(filename, index_col='month')\n",
        "\n",
        "# Generate the list of months: months\n",
        "months = ['Jan', 'Feb', 'Mar', 'Apr', 'May', 'Jun']\n",
        "\n",
        "# Assign months to sales.index\n",
        "sales.index = months\n",
        "\n",
        "# Print the modified sales DataFrame\n",
        "print(sales)"
      ],
      "execution_count": 32,
      "outputs": [
        {
          "output_type": "stream",
          "text": [
            "     eggs  salt  spam\n",
            "Jan    47  12.0    17\n",
            "Feb   110  50.0    31\n",
            "Mar   221  89.0    72\n",
            "Apr    77  87.0    20\n",
            "May   132   NaN    52\n",
            "Jun   205  60.0    55\n"
          ],
          "name": "stdout"
        }
      ]
    },
    {
      "cell_type": "code",
      "metadata": {
        "colab": {
          "base_uri": "https://localhost:8080/"
        },
        "id": "H-9B23EZiAnE",
        "outputId": "7579ae2e-f52f-483b-85df-499e69f9e256"
      },
      "source": [
        "# Hierarchical Indexing\n",
        "\n",
        "import pandas as pd\n",
        "filename = 'https://raw.githubusercontent.com/chesterheng/ai-for-industry/main/datasets/sales.csv'\n",
        "sales = pd.read_csv(filename)\n",
        "\n",
        "sales['state'] = ['CA', 'CA', 'NY', 'NY', 'TX', 'TX']\n",
        "sales['month'] = [1, 2, 1, 2, 1, 2]\n",
        "sales = sales.set_index(['state', 'month'])                 \n",
        "\n",
        "print(sales.loc[['CA', 'TX']])\n",
        "print(sales['CA':'TX'])"
      ],
      "execution_count": 39,
      "outputs": [
        {
          "output_type": "stream",
          "text": [
            "             eggs  salt  spam\n",
            "state month                  \n",
            "CA    1        47  12.0    17\n",
            "      2       110  50.0    31\n",
            "TX    1       132   NaN    52\n",
            "      2       205  60.0    55\n",
            "             eggs  salt  spam\n",
            "state month                  \n",
            "CA    1        47  12.0    17\n",
            "      2       110  50.0    31\n",
            "NY    1       221  89.0    72\n",
            "      2        77  87.0    20\n",
            "TX    1       132   NaN    52\n",
            "      2       205  60.0    55\n"
          ],
          "name": "stdout"
        }
      ]
    },
    {
      "cell_type": "code",
      "metadata": {
        "colab": {
          "base_uri": "https://localhost:8080/"
        },
        "id": "omTxO6Pqj80_",
        "outputId": "5856677b-3d4e-4764-b351-c62dfc7e93b2"
      },
      "source": [
        "# Setting & sorting a MultiIndex\n",
        "\n",
        "import pandas as pd\n",
        "filename = 'https://raw.githubusercontent.com/chesterheng/ai-for-industry/main/datasets/sales.csv'\n",
        "sales = pd.read_csv(filename)\n",
        "sales['state'] = ['CA', 'CA', 'NY', 'NY', 'TX', 'TX']\n",
        "sales['month'] = [1, 2, 1, 2, 1, 2]\n",
        "\n",
        "# Set the index to be the columns ['state', 'month']: sales\n",
        "sales = sales.set_index(['state', 'month'])\n",
        "\n",
        "# Sort the MultiIndex: sales\n",
        "sales = sales.sort_index()\n",
        "\n",
        "# Print the sales DataFrame\n",
        "print(sales)"
      ],
      "execution_count": 41,
      "outputs": [
        {
          "output_type": "stream",
          "text": [
            "             eggs  salt  spam\n",
            "state month                  \n",
            "CA    1        47  12.0    17\n",
            "      2       110  50.0    31\n",
            "NY    1       221  89.0    72\n",
            "      2        77  87.0    20\n",
            "TX    1       132   NaN    52\n",
            "      2       205  60.0    55\n"
          ],
          "name": "stdout"
        }
      ]
    },
    {
      "cell_type": "code",
      "metadata": {
        "colab": {
          "base_uri": "https://localhost:8080/"
        },
        "id": "YX6LWFdOkTwz",
        "outputId": "309e7069-feac-487c-91b8-8e1e68668772"
      },
      "source": [
        "# Using .loc[] with nonunique indexes\n",
        "\n",
        "import pandas as pd\n",
        "filename = 'https://raw.githubusercontent.com/chesterheng/ai-for-industry/main/datasets/sales.csv'\n",
        "sales = pd.read_csv(filename)\n",
        "sales['state'] = ['CA', 'CA', 'NY', 'NY', 'TX', 'TX']\n",
        "sales['month'] = [1, 2, 1, 2, 1, 2]\n",
        "\n",
        "# Set the index to the column 'state': sales\n",
        "sales = sales.set_index(['state'])\n",
        "\n",
        "# Print the sales DataFrame\n",
        "print(sales)\n",
        "\n",
        "# Access the data from 'NY'\n",
        "print(sales.loc['NY'])"
      ],
      "execution_count": 44,
      "outputs": [
        {
          "output_type": "stream",
          "text": [
            "       month  eggs  salt  spam\n",
            "state                         \n",
            "CA         1    47  12.0    17\n",
            "CA         2   110  50.0    31\n",
            "NY         1   221  89.0    72\n",
            "NY         2    77  87.0    20\n",
            "TX         1   132   NaN    52\n",
            "TX         2   205  60.0    55\n",
            "       month  eggs  salt  spam\n",
            "state                         \n",
            "NY         1   221  89.0    72\n",
            "NY         2    77  87.0    20\n"
          ],
          "name": "stdout"
        }
      ]
    },
    {
      "cell_type": "code",
      "metadata": {
        "id": "9ZlXlfJ2kciJ"
      },
      "source": [
        "# Indexing multiple levels of a MultiIndex\n",
        "\n",
        "import pandas as pd\n",
        "filename = 'https://raw.githubusercontent.com/chesterheng/ai-for-industry/main/datasets/sales.csv'\n",
        "sales = pd.read_csv(filename)\n",
        "sales['state'] = ['CA', 'CA', 'NY', 'NY', 'TX', 'TX']\n",
        "sales['month'] = [1, 2, 1, 2, 1, 2]\n",
        "sales = sales.set_index(['state', 'month'])\n",
        "\n",
        "# Look up data for NY in month 1 in sales: NY_month1\n",
        "NY_month1 = sales.loc[('NY', 1), :]\n",
        "\n",
        "# # Look up data for CA and TX in month 2: CA_TX_month2\n",
        "CA_TX_month2 = sales.loc[(['CA', 'TX'], 2), :]\n",
        "\n",
        "# Look up data for all states in month 2: all_month2\n",
        "all_month2 = sales.loc[(slice(None), 2), :]"
      ],
      "execution_count": 67,
      "outputs": []
    },
    {
      "cell_type": "markdown",
      "metadata": {
        "id": "oLItjYS2lHke"
      },
      "source": [
        "## 3. Rearranging and reshaping data"
      ]
    },
    {
      "cell_type": "code",
      "metadata": {
        "id": "NVpP1YXHlUOn"
      },
      "source": [
        "# Pivoting DataFrames"
      ],
      "execution_count": null,
      "outputs": []
    },
    {
      "cell_type": "markdown",
      "metadata": {
        "id": "nhdP8XaMlVcz"
      },
      "source": [
        "**Pivoting and the index**\n",
        "\n",
        "Prior to using .pivot(), you need to set the index of the DataFrame somehow. \n",
        "\n",
        "Is this statement True or False?\n",
        "\n",
        "**Possible Answers**\n",
        "- [ ] True.\n",
        "- [x] False."
      ]
    },
    {
      "cell_type": "code",
      "metadata": {
        "colab": {
          "base_uri": "https://localhost:8080/"
        },
        "id": "4FJYpM0JnU8b",
        "outputId": "697a69b7-63ac-4694-b567-52abf891cfc9"
      },
      "source": [
        "# Pivoting a single variable\n",
        "\n",
        "import pandas as pd\n",
        "filename = 'https://raw.githubusercontent.com/chesterheng/ai-for-industry/main/datasets/users.csv'\n",
        "users = pd.read_csv(filename, index_col=0)\n",
        "\n",
        "# Pivot the users DataFrame: visitors_pivot\n",
        "visitors_pivot = users.pivot(index='weekday', columns='city', values='visitors')\n",
        "\n",
        "# Print the pivoted DataFrame\n",
        "print(visitors_pivot)"
      ],
      "execution_count": 54,
      "outputs": [
        {
          "output_type": "stream",
          "text": [
            "city     Austin  Dallas\n",
            "weekday                \n",
            "Mon         326     456\n",
            "Sun         139     237\n"
          ],
          "name": "stdout"
        }
      ]
    },
    {
      "cell_type": "code",
      "metadata": {
        "colab": {
          "base_uri": "https://localhost:8080/"
        },
        "id": "XMjrufBroLSd",
        "outputId": "5f454432-0e15-469a-ef30-6c9470bda099"
      },
      "source": [
        "# Pivoting all variables\n",
        "\n",
        "import pandas as pd\n",
        "filename = 'https://raw.githubusercontent.com/chesterheng/ai-for-industry/main/datasets/users.csv'\n",
        "users = pd.read_csv(filename, index_col=0)\n",
        "\n",
        "# Pivot users with signups indexed by weekday and city: signups_pivot\n",
        "signups_pivot = users.pivot(index='weekday', columns='city', values='signups')\n",
        "\n",
        "# Print signups_pivot\n",
        "print(signups_pivot)\n",
        "\n",
        "# Pivot users pivoted by both signups and visitors: pivot\n",
        "pivot = users.pivot(index='weekday', columns='city')\n",
        "\n",
        "# Print the pivoted DataFrame\n",
        "print(pivot)"
      ],
      "execution_count": 65,
      "outputs": [
        {
          "output_type": "stream",
          "text": [
            "city     Austin  Dallas\n",
            "weekday                \n",
            "Mon           3       5\n",
            "Sun           7      12\n",
            "        visitors        signups       \n",
            "city      Austin Dallas  Austin Dallas\n",
            "weekday                               \n",
            "Mon          326    456       3      5\n",
            "Sun          139    237       7     12\n"
          ],
          "name": "stdout"
        }
      ]
    },
    {
      "cell_type": "code",
      "metadata": {
        "colab": {
          "base_uri": "https://localhost:8080/"
        },
        "id": "V4ILCCfqpg0_",
        "outputId": "f8af8069-e1d5-4cd6-c09f-791917557219"
      },
      "source": [
        "# Stacking & unstacking DataFrames\n",
        "\n",
        "# Stacking & unstacking I\n",
        "\n",
        "import pandas as pd\n",
        "filename = 'https://raw.githubusercontent.com/chesterheng/ai-for-industry/main/datasets/users.csv'\n",
        "users = pd.read_csv(filename)\n",
        "users = users.loc[:, 'weekday':'signups']\n",
        "users = users.set_index(['city', 'weekday'])\n",
        "users = users.sort_index()\n",
        "\n",
        "# Unstack users by 'weekday': byweekday\n",
        "# weekday become column header\n",
        "byweekday = users.unstack(level='weekday')\n",
        "\n",
        "# Print the byweekday DataFrame\n",
        "print(byweekday)\n",
        "\n",
        "# Stack byweekday by 'weekday' and print it\n",
        "# weekday become row header\n",
        "print(byweekday.stack(level='weekday'))"
      ],
      "execution_count": 82,
      "outputs": [
        {
          "output_type": "stream",
          "text": [
            "        visitors      signups    \n",
            "weekday      Mon  Sun     Mon Sun\n",
            "city                             \n",
            "Austin       326  139       3   7\n",
            "Dallas       456  237       5  12\n",
            "                visitors  signups\n",
            "city   weekday                   \n",
            "Austin Mon           326        3\n",
            "       Sun           139        7\n",
            "Dallas Mon           456        5\n",
            "       Sun           237       12\n"
          ],
          "name": "stdout"
        }
      ]
    },
    {
      "cell_type": "code",
      "metadata": {
        "colab": {
          "base_uri": "https://localhost:8080/"
        },
        "id": "_ex-direvgKs",
        "outputId": "c7493868-a297-4411-e8b7-0b49a0b02f80"
      },
      "source": [
        "# Stacking & unstacking II\n",
        "\n",
        "import pandas as pd\n",
        "filename = 'https://raw.githubusercontent.com/chesterheng/ai-for-industry/main/datasets/users.csv'\n",
        "users = pd.read_csv(filename)\n",
        "users = users.loc[:, 'weekday':'signups']\n",
        "users = users.set_index(['city', 'weekday'])\n",
        "users = users.sort_index()\n",
        "\n",
        "# Unstack users by 'city': bycity\n",
        "bycity = users.unstack(level='city')\n",
        "\n",
        "# Print the bycity DataFrame\n",
        "print(bycity)\n",
        "\n",
        "# Stack bycity by 'city' and print it\n",
        "print(bycity.stack(level='city'))"
      ],
      "execution_count": 83,
      "outputs": [
        {
          "output_type": "stream",
          "text": [
            "        visitors        signups       \n",
            "city      Austin Dallas  Austin Dallas\n",
            "weekday                               \n",
            "Mon          326    456       3      5\n",
            "Sun          139    237       7     12\n",
            "                visitors  signups\n",
            "weekday city                     \n",
            "Mon     Austin       326        3\n",
            "        Dallas       456        5\n",
            "Sun     Austin       139        7\n",
            "        Dallas       237       12\n"
          ],
          "name": "stdout"
        }
      ]
    },
    {
      "cell_type": "code",
      "metadata": {
        "colab": {
          "base_uri": "https://localhost:8080/"
        },
        "id": "UgyjarpkvuIw",
        "outputId": "5e336fcd-c1b8-41c0-fe09-37ed4059f3b4"
      },
      "source": [
        "# Restoring the index order\n",
        "\n",
        "import pandas as pd\n",
        "filename = 'https://raw.githubusercontent.com/chesterheng/ai-for-industry/main/datasets/users.csv'\n",
        "users = pd.read_csv(filename)\n",
        "users = users.loc[:, 'weekday':'signups']\n",
        "users = users.set_index(['city', 'weekday'])\n",
        "users = users.sort_index()\n",
        "bycity = users.unstack(level='city')\n",
        "\n",
        "# Stack 'city' back into the index of bycity: newusers\n",
        "newusers = bycity.stack(level='city')\n",
        "\n",
        "# Swap the levels of the index of newusers: newusers\n",
        "newusers = newusers.swaplevel(0, 1)\n",
        "\n",
        "# Print newusers and verify that the index is not sorted\n",
        "print(newusers)\n",
        "\n",
        "# Sort the index of newusers: newusers\n",
        "newusers = newusers.sort_index()\n",
        "\n",
        "# Print newusers and verify that the index is now sorted\n",
        "print(newusers)\n",
        "\n",
        "# Verify that the new DataFrame is equal to the original\n",
        "print(newusers.equals(users))"
      ],
      "execution_count": 84,
      "outputs": [
        {
          "output_type": "stream",
          "text": [
            "                visitors  signups\n",
            "city   weekday                   \n",
            "Austin Mon           326        3\n",
            "Dallas Mon           456        5\n",
            "Austin Sun           139        7\n",
            "Dallas Sun           237       12\n",
            "                visitors  signups\n",
            "city   weekday                   \n",
            "Austin Mon           326        3\n",
            "       Sun           139        7\n",
            "Dallas Mon           456        5\n",
            "       Sun           237       12\n",
            "True\n"
          ],
          "name": "stdout"
        }
      ]
    },
    {
      "cell_type": "code",
      "metadata": {
        "colab": {
          "base_uri": "https://localhost:8080/"
        },
        "id": "FUBgNj1ywKld",
        "outputId": "c2603971-903a-449e-9389-d7d9ee23e81c"
      },
      "source": [
        "# Melting DataFrames\n",
        "\n",
        "# Adding names for readability\n",
        "\n",
        "import pandas as pd\n",
        "filename = 'https://raw.githubusercontent.com/chesterheng/ai-for-industry/main/datasets/users.csv'\n",
        "users = pd.read_csv(filename)\n",
        "visitors_by_city_weekday = visitors.pivot(index='weekday', columns='city', values='visitors')\n",
        "\n",
        "# Reset the index: visitors_by_city_weekday\n",
        "visitors_by_city_weekday = visitors_by_city_weekday.reset_index() \n",
        "\n",
        "# Print visitors_by_city_weekday\n",
        "print(visitors_by_city_weekday)\n",
        "\n",
        "# Melt visitors_by_city_weekday: visitors\n",
        "visitors = pd.melt(visitors_by_city_weekday, id_vars=['weekday'], value_name='visitors')\n",
        "\n",
        "# Print visitors\n",
        "print(visitors)"
      ],
      "execution_count": 117,
      "outputs": [
        {
          "output_type": "stream",
          "text": [
            "city weekday  Austin  Dallas\n",
            "0        Mon     326     456\n",
            "1        Sun     139     237\n",
            "  weekday    city  visitors\n",
            "0     Mon  Austin       326\n",
            "1     Sun  Austin       139\n",
            "2     Mon  Dallas       456\n",
            "3     Sun  Dallas       237\n"
          ],
          "name": "stdout"
        }
      ]
    },
    {
      "cell_type": "code",
      "metadata": {
        "colab": {
          "base_uri": "https://localhost:8080/"
        },
        "id": "7MI8582N5VlG",
        "outputId": "93e9c0ff-f743-4e45-b90f-e1a0b39d4afb"
      },
      "source": [
        "# Going from wide to long\n",
        "\n",
        "import pandas as pd\n",
        "filename = 'https://raw.githubusercontent.com/chesterheng/ai-for-industry/main/datasets/users.csv'\n",
        "users = pd.read_csv(filename, index_col=0)\n",
        "\n",
        "# Melt users: skinny\n",
        "skinny = users.melt(id_vars=['weekday', 'city'])\n",
        "\n",
        "# Print skinny\n",
        "print(skinny)"
      ],
      "execution_count": 110,
      "outputs": [
        {
          "output_type": "stream",
          "text": [
            "  weekday    city  variable  value\n",
            "0     Sun  Austin  visitors    139\n",
            "1     Sun  Dallas  visitors    237\n",
            "2     Mon  Austin  visitors    326\n",
            "3     Mon  Dallas  visitors    456\n",
            "4     Sun  Austin   signups      7\n",
            "5     Sun  Dallas   signups     12\n",
            "6     Mon  Austin   signups      3\n",
            "7     Mon  Dallas   signups      5\n"
          ],
          "name": "stdout"
        }
      ]
    },
    {
      "cell_type": "code",
      "metadata": {
        "colab": {
          "base_uri": "https://localhost:8080/"
        },
        "id": "0nvbb4pb6Idf",
        "outputId": "dd4902ec-07a9-4f8d-b5af-b4a257d7cca6"
      },
      "source": [
        "# Obtaining key-value pairs with melt()\n",
        "\n",
        "import pandas as pd\n",
        "filename = 'https://raw.githubusercontent.com/chesterheng/ai-for-industry/main/datasets/users.csv'\n",
        "users = pd.read_csv(filename, index_col=0)\n",
        "\n",
        "# Set the new index: users_idx\n",
        "users_idx = users.set_index(['city', 'weekday'])\n",
        "\n",
        "# Print the users_idx DataFrame\n",
        "print(users_idx)\n",
        "\n",
        "# Obtain the key-value pairs: kv_pairs\n",
        "kv_pairs = users_idx.melt(col_level=0)\n",
        "\n",
        "# Print the key-value pairs\n",
        "print(kv_pairs)"
      ],
      "execution_count": 111,
      "outputs": [
        {
          "output_type": "stream",
          "text": [
            "                visitors  signups\n",
            "city   weekday                   \n",
            "Austin Sun           139        7\n",
            "Dallas Sun           237       12\n",
            "Austin Mon           326        3\n",
            "Dallas Mon           456        5\n",
            "   variable  value\n",
            "0  visitors    139\n",
            "1  visitors    237\n",
            "2  visitors    326\n",
            "3  visitors    456\n",
            "4   signups      7\n",
            "5   signups     12\n",
            "6   signups      3\n",
            "7   signups      5\n"
          ],
          "name": "stdout"
        }
      ]
    },
    {
      "cell_type": "code",
      "metadata": {
        "colab": {
          "base_uri": "https://localhost:8080/"
        },
        "id": "Gyl9pwev6nqO",
        "outputId": "8107ce9f-6d60-4e60-c907-832e0b44c732"
      },
      "source": [
        "# Pivot tables\n",
        "\n",
        "# Setting up a pivot table\n",
        "\n",
        "import pandas as pd\n",
        "filename = 'https://raw.githubusercontent.com/chesterheng/ai-for-industry/main/datasets/users.csv'\n",
        "users = pd.read_csv(filename, index_col=0)\n",
        "\n",
        "# Create the DataFrame with the appropriate pivot table: by_city_day\n",
        "by_city_day = users.pivot_table(index='weekday', columns='city')\n",
        "\n",
        "# Print by_city_day\n",
        "print(by_city_day)"
      ],
      "execution_count": 115,
      "outputs": [
        {
          "output_type": "stream",
          "text": [
            "        signups        visitors       \n",
            "city     Austin Dallas   Austin Dallas\n",
            "weekday                               \n",
            "Mon           3      5      326    456\n",
            "Sun           7     12      139    237\n"
          ],
          "name": "stdout"
        }
      ]
    },
    {
      "cell_type": "code",
      "metadata": {
        "colab": {
          "base_uri": "https://localhost:8080/"
        },
        "id": "u91tHaMP-K8E",
        "outputId": "773220ab-2bb8-416e-c20b-14d50e1abb11"
      },
      "source": [
        "# Using other aggregations in pivot tables\n",
        "\n",
        "import pandas as pd\n",
        "filename = 'https://raw.githubusercontent.com/chesterheng/ai-for-industry/main/datasets/users.csv'\n",
        "users = pd.read_csv(filename, index_col=0)\n",
        "\n",
        "# Use a pivot table to display the count of each column: count_by_weekday1\n",
        "count_by_weekday1 = users.pivot_table(index='weekday', aggfunc='count')\n",
        "\n",
        "# Print count_by_weekday\n",
        "print(count_by_weekday1)\n",
        "\n",
        "# Replace 'aggfunc='count'' with 'aggfunc=len': count_by_weekday2\n",
        "count_by_weekday2 = users.pivot_table(index='weekday', aggfunc=len)\n",
        "\n",
        "# Verify that the same result is obtained\n",
        "print('==========================================')\n",
        "print(count_by_weekday1.equals(count_by_weekday2))"
      ],
      "execution_count": 122,
      "outputs": [
        {
          "output_type": "stream",
          "text": [
            "         city  signups  visitors\n",
            "weekday                         \n",
            "Mon         2        2         2\n",
            "Sun         2        2         2\n",
            "==========================================\n",
            "True\n"
          ],
          "name": "stdout"
        }
      ]
    },
    {
      "cell_type": "code",
      "metadata": {
        "colab": {
          "base_uri": "https://localhost:8080/"
        },
        "id": "Qh_yttrR_2z6",
        "outputId": "c42fa592-d2ca-43e6-a30d-6980358548a9"
      },
      "source": [
        "# Using margins in pivot tables\n",
        "\n",
        "import pandas as pd\n",
        "filename = 'https://raw.githubusercontent.com/chesterheng/ai-for-industry/main/datasets/users.csv'\n",
        "users = pd.read_csv(filename, index_col=0)\n",
        "\n",
        "# Create the DataFrame with the appropriate pivot table: signups_and_visitors\n",
        "signups_and_visitors = users.pivot_table(index='weekday', aggfunc=sum)\n",
        "\n",
        "# Print signups_and_visitors\n",
        "print(signups_and_visitors)\n",
        "\n",
        "# Add in the margins: signups_and_visitors_total \n",
        "signups_and_visitors_total = users.pivot_table(index='weekday', aggfunc=sum, margins=True)\n",
        "\n",
        "# Print signups_and_visitors_total\n",
        "print(signups_and_visitors_total)"
      ],
      "execution_count": 123,
      "outputs": [
        {
          "output_type": "stream",
          "text": [
            "         signups  visitors\n",
            "weekday                   \n",
            "Mon            8       782\n",
            "Sun           19       376\n",
            "         signups  visitors\n",
            "weekday                   \n",
            "Mon            8       782\n",
            "Sun           19       376\n",
            "All           27      1158\n"
          ],
          "name": "stdout"
        }
      ]
    },
    {
      "cell_type": "markdown",
      "metadata": {
        "id": "kUK0dbiSAbJu"
      },
      "source": [
        "## 4. Grouping data"
      ]
    },
    {
      "cell_type": "markdown",
      "metadata": {
        "id": "Iv5VTW9xAg-M"
      },
      "source": [
        "**Categoricals and groupby**\n",
        "\n",
        "**Advantages of categorical data types**\n",
        "\n",
        "What are the main advantages of storing data explicitly as categorical types instead of object types?\n",
        "\n",
        "Possible Answers\n",
        "\n",
        "- [ ] Computations are faster.\n",
        "- [ ] Categorical data require less space in memory.\n",
        "- [x] All of the above.\n",
        "- [ ] None of the above."
      ]
    },
    {
      "cell_type": "code",
      "metadata": {
        "colab": {
          "base_uri": "https://localhost:8080/"
        },
        "id": "H32i0w19Ad4s",
        "outputId": "ec3e9e04-3eed-4774-c1b3-543d2f53ebaf"
      },
      "source": [
        "# Grouping by multiple columns\n",
        "\n",
        "import pandas as pd\n",
        "filename = 'https://raw.githubusercontent.com/chesterheng/ai-for-industry/main/datasets/titanic.csv'\n",
        "titanic = pd.read_csv(filename)\n",
        "\n",
        "# Group titanic by 'pclass'\n",
        "by_class = titanic.groupby('pclass')\n",
        "\n",
        "# Aggregate 'survived' column of by_class by count\n",
        "count_by_class = by_class['survived'].count()\n",
        "\n",
        "# Print count_by_class\n",
        "print(count_by_class)\n",
        "\n",
        "# Group titanic by 'embarked' and 'pclass'\n",
        "by_mult = titanic.groupby(['embarked', 'pclass'])\n",
        "\n",
        "# Aggregate 'survived' column of by_mult by count\n",
        "count_mult = by_mult['survived'].count()\n",
        "\n",
        "# Print count_mult\n",
        "print(count_mult)"
      ],
      "execution_count": 128,
      "outputs": [
        {
          "output_type": "stream",
          "text": [
            "pclass\n",
            "1    323\n",
            "2    277\n",
            "3    709\n",
            "Name: survived, dtype: int64\n",
            "embarked  pclass\n",
            "C         1         141\n",
            "          2          28\n",
            "          3         101\n",
            "Q         1           3\n",
            "          2           7\n",
            "          3         113\n",
            "S         1         177\n",
            "          2         242\n",
            "          3         495\n",
            "Name: survived, dtype: int64\n"
          ],
          "name": "stdout"
        }
      ]
    },
    {
      "cell_type": "code",
      "metadata": {
        "colab": {
          "base_uri": "https://localhost:8080/"
        },
        "id": "16J8EOwIDPd2",
        "outputId": "94bccc11-d17a-4b2f-e1ce-61d34a0bec33"
      },
      "source": [
        "# Grouping by another series\n",
        "\n",
        "import pandas as pd\n",
        "\n",
        "# Read life_fname into a DataFrame: life\n",
        "life_fname = 'https://raw.githubusercontent.com/chesterheng/ai-for-industry/main/datasets/life_expectancy.csv'\n",
        "life = pd.read_csv(life_fname, index_col='Country')\n",
        "\n",
        "# Read regions_fname into a DataFrame: regions\n",
        "regions_fname = 'https://raw.githubusercontent.com/chesterheng/ai-for-industry/main/datasets/regions.csv'\n",
        "regions = pd.read_csv(regions_fname, index_col='Country')\n",
        "\n",
        "# Group life by regions['region']: life_by_region\n",
        "life_by_region = life.groupby(regions['region'])\n",
        "\n",
        "# Print the mean over the '2010' column of life_by_region\n",
        "print(life_by_region['2010'].mean())"
      ],
      "execution_count": 136,
      "outputs": [
        {
          "output_type": "stream",
          "text": [
            "region\n",
            "America                       74.037350\n",
            "East Asia & Pacific           73.405750\n",
            "Europe & Central Asia         75.656387\n",
            "Middle East & North Africa    72.805333\n",
            "South Asia                    68.189750\n",
            "Sub-Saharan Africa            57.575080\n",
            "Name: 2010, dtype: float64\n"
          ],
          "name": "stdout"
        }
      ]
    },
    {
      "cell_type": "code",
      "metadata": {
        "colab": {
          "base_uri": "https://localhost:8080/"
        },
        "id": "4Fa_L1a9GiWC",
        "outputId": "69bcab50-e027-4607-e940-b60f8e2e935f"
      },
      "source": [
        "# Groupby and aggregation\n",
        "\n",
        "# Computing multiple aggregates of multiple columns\n",
        "\n",
        "import pandas as pd\n",
        "filename = 'https://raw.githubusercontent.com/chesterheng/ai-for-industry/main/datasets/titanic.csv'\n",
        "titanic = pd.read_csv(filename)\n",
        "\n",
        "# Group titanic by 'pclass': by_class\n",
        "by_class = titanic.groupby('pclass')\n",
        "\n",
        "# Select 'age' and 'fare'\n",
        "by_class_sub = by_class[['age','fare']]\n",
        "\n",
        "# Aggregate by_class_sub by 'max' and 'median': aggregated\n",
        "aggregated = by_class_sub.agg(['max', 'median'])\n",
        "\n",
        "# Print the maximum age in each class\n",
        "print(aggregated.loc[:, ('age','max')])\n",
        "\n",
        "# Print the median fare in each class\n",
        "print(aggregated.loc[:, ('fare','median')])"
      ],
      "execution_count": 138,
      "outputs": [
        {
          "output_type": "stream",
          "text": [
            "pclass\n",
            "1    80.0\n",
            "2    70.0\n",
            "3    74.0\n",
            "Name: (age, max), dtype: float64\n",
            "pclass\n",
            "1    60.0000\n",
            "2    15.0458\n",
            "3     8.0500\n",
            "Name: (fare, median), dtype: float64\n"
          ],
          "name": "stdout"
        }
      ]
    },
    {
      "cell_type": "code",
      "metadata": {
        "colab": {
          "base_uri": "https://localhost:8080/"
        },
        "id": "bfNrLnOiG-vS",
        "outputId": "38b3dbf6-ac6e-4349-bc1e-2d36da681ada"
      },
      "source": [
        "# Aggregating on index levels/fields\n",
        "\n",
        "import pandas as pd\n",
        "filename = 'https://raw.githubusercontent.com/chesterheng/ai-for-industry/main/datasets/gapminder_tidy.csv'\n",
        "\n",
        "# Read the CSV file into a DataFrame and sort the index: gapminder\n",
        "gapminder = pd.read_csv(filename, index_col=['Year', 'region', 'Country'])\n",
        "gapminder.sort_index(inplace=True)\n",
        "\n",
        "# Group gapminder by 'Year' and 'region': by_year_region\n",
        "by_year_region = gapminder.groupby(level=['Year', 'region'])\n",
        "\n",
        "# Define the function to compute spread: spread\n",
        "def spread(series):\n",
        "    return series.max() - series.min()\n",
        "\n",
        "# Create the dictionary: aggregator\n",
        "aggregator = {'population':'sum', 'child_mortality':'mean', 'gdp':spread}\n",
        "\n",
        "# Aggregate by_year_region using the dictionary: aggregated\n",
        "aggregated = by_year_region.agg(aggregator)\n",
        "\n",
        "# Print the last 6 entries of aggregated \n",
        "print(aggregated.tail(6))"
      ],
      "execution_count": 144,
      "outputs": [
        {
          "output_type": "stream",
          "text": [
            "                                   population  child_mortality       gdp\n",
            "Year region                                                             \n",
            "2013 America                     9.629087e+08        17.745833   49634.0\n",
            "     East Asia & Pacific         2.244209e+09        22.285714  134744.0\n",
            "     Europe & Central Asia       8.968788e+08         9.831875   86418.0\n",
            "     Middle East & North Africa  4.030504e+08        20.221500  128676.0\n",
            "     South Asia                  1.701241e+09        46.287500   11469.0\n",
            "     Sub-Saharan Africa          9.205996e+08        76.944490   32035.0\n"
          ],
          "name": "stdout"
        }
      ]
    },
    {
      "cell_type": "code",
      "metadata": {
        "colab": {
          "base_uri": "https://localhost:8080/"
        },
        "id": "sgPTNyWKJrit",
        "outputId": "6efbbb50-eae8-4210-a42a-3cbf714435c4"
      },
      "source": [
        "# Grouping on a function of the index\n",
        "\n",
        "import pandas as pd\n",
        "filename = 'https://raw.githubusercontent.com/chesterheng/ai-for-industry/main/datasets/sales-feb-2015.csv'\n",
        "\n",
        "# Read file: sales\n",
        "sales = pd.read_csv(filename, index_col='Date', parse_dates=True)\n",
        "\n",
        "# Create a groupby object: by_day\n",
        "by_day = sales.groupby(sales.index.strftime('%a'))\n",
        "\n",
        "# Create sum: units_sum\n",
        "units_sum = by_day['Units'].sum()\n",
        "\n",
        "# Print units_sum\n",
        "print(units_sum)"
      ],
      "execution_count": 148,
      "outputs": [
        {
          "output_type": "stream",
          "text": [
            "Date\n",
            "Mon    48\n",
            "Sat     7\n",
            "Thu    59\n",
            "Tue    13\n",
            "Wed    48\n",
            "Name: Units, dtype: int64\n"
          ],
          "name": "stdout"
        }
      ]
    },
    {
      "cell_type": "code",
      "metadata": {
        "colab": {
          "base_uri": "https://localhost:8080/"
        },
        "id": "19fdeT2eNlal",
        "outputId": "e2d4c6d4-4ca8-4a09-de22-88be345b8cab"
      },
      "source": [
        "# Groupby and transformation\n",
        "\n",
        "# Detecting outliers with Z-Scores\n",
        "\n",
        "import pandas as pd\n",
        "filename = 'https://raw.githubusercontent.com/chesterheng/ai-for-industry/main/datasets/gapminder_tidy.csv'\n",
        "gapminder = pd.read_csv(filename, index_col='Country')\n",
        "gapminder_mask = gapminder['Year'] == 2010\n",
        "gapminder_2010 = gapminder[gapminder_mask].copy()\n",
        "gapminder_2010.drop('Year', axis=1, inplace=True)\n",
        "\n",
        "# Import zscore\n",
        "from scipy.stats import zscore\n",
        "\n",
        "# Group gapminder_2010: standardized\n",
        "standardized = gapminder_2010.groupby('region')[['life', 'fertility']].transform(zscore)\n",
        "\n",
        "# Construct a Boolean Series to identify outliers: outliers\n",
        "outliers = (standardized['life'] < -3) | (standardized['fertility'] > 3)\n",
        "\n",
        "# Filter gapminder_2010 by the outliers: gm_outliers\n",
        "gm_outliers = gapminder_2010.loc[outliers]\n",
        "\n",
        "# Print gm_outliers\n",
        "print(gm_outliers)"
      ],
      "execution_count": 151,
      "outputs": [
        {
          "output_type": "stream",
          "text": [
            "             fertility    life  ...     gdp                 region\n",
            "Country                         ...                               \n",
            "Guatemala        3.974  71.100  ...  6849.0                America\n",
            "Haiti            3.350  45.000  ...  1518.0                America\n",
            "Tajikistan       3.780  66.830  ...  2110.0  Europe & Central Asia\n",
            "Timor-Leste      6.237  65.952  ...  1777.0    East Asia & Pacific\n",
            "\n",
            "[4 rows x 6 columns]\n"
          ],
          "name": "stdout"
        }
      ]
    },
    {
      "cell_type": "code",
      "metadata": {
        "colab": {
          "base_uri": "https://localhost:8080/"
        },
        "id": "8S7t8OWxQOr5",
        "outputId": "1ed157b4-b25c-4dcd-fb8c-e1dccb5a20ae"
      },
      "source": [
        "# Filling missing data (imputation) by group\n",
        "\n",
        "filename = 'https://raw.githubusercontent.com/chesterheng/ai-for-industry/main/datasets/titanic.csv'\n",
        "titanic = pd.read_csv(filename)\n",
        "\n",
        "# Create a groupby object: by_sex_class\n",
        "by_sex_class = titanic.groupby(['sex', 'pclass'])\n",
        "\n",
        "# Write a function that imputes median\n",
        "def impute_median(series):\n",
        "    return series.fillna(series.median())\n",
        "\n",
        "# Impute age and assign to titanic['age']\n",
        "titanic.age = by_sex_class['age'].transform(impute_median)\n",
        "\n",
        "# Print the output of titanic.tail(10)\n",
        "print(titanic.tail(10))"
      ],
      "execution_count": 152,
      "outputs": [
        {
          "output_type": "stream",
          "text": [
            "      pclass  survived  ...   body home.dest\n",
            "1299       3         0  ...    NaN       NaN\n",
            "1300       3         1  ...    NaN       NaN\n",
            "1301       3         0  ...  312.0       NaN\n",
            "1302       3         0  ...    NaN       NaN\n",
            "1303       3         0  ...    NaN       NaN\n",
            "1304       3         0  ...  328.0       NaN\n",
            "1305       3         0  ...    NaN       NaN\n",
            "1306       3         0  ...  304.0       NaN\n",
            "1307       3         0  ...    NaN       NaN\n",
            "1308       3         0  ...    NaN       NaN\n",
            "\n",
            "[10 rows x 14 columns]\n"
          ],
          "name": "stdout"
        }
      ]
    },
    {
      "cell_type": "code",
      "metadata": {
        "colab": {
          "base_uri": "https://localhost:8080/"
        },
        "id": "ncQimkLvRSdF",
        "outputId": "f8ad167b-c14b-4fcd-fd2b-219cf2d31f35"
      },
      "source": [
        "# Other transformations with .apply\n",
        "\n",
        "import pandas as pd\n",
        "filename = 'https://raw.githubusercontent.com/chesterheng/ai-for-industry/main/datasets/gapminder_tidy.csv'\n",
        "gapminder = pd.read_csv(filename, index_col='Country')\n",
        "gapminder_mask = gapminder['Year'] == 2010\n",
        "gapminder_2010 = gapminder[gapminder_mask].copy()\n",
        "gapminder_2010.drop('Year', axis=1, inplace=True)\n",
        "\n",
        "def disparity(gr):\n",
        "    # Compute the spread of gr['gdp']: s\n",
        "    s = gr['gdp'].max() - gr['gdp'].min()\n",
        "    # Compute the z-score of gr['gdp'] as (gr['gdp']-gr['gdp'].mean())/gr['gdp'].std(): z\n",
        "    z = (gr['gdp'] - gr['gdp'].mean())/gr['gdp'].std()\n",
        "    # Return a DataFrame with the inputs {'z(gdp)':z, 'regional spread(gdp)':s}\n",
        "    return pd.DataFrame({'z(gdp)':z , 'regional spread(gdp)':s})\n",
        "    \n",
        "# Group gapminder_2010 by 'region': regional\n",
        "regional = gapminder_2010.groupby('region')\n",
        "\n",
        "# Apply the disparity function on regional: reg_disp\n",
        "reg_disp = regional.apply(disparity)\n",
        "\n",
        "# Print the disparity of 'United States', 'United Kingdom', and 'China'\n",
        "print(reg_disp.loc[['United States', 'United Kingdom', 'China']])"
      ],
      "execution_count": 154,
      "outputs": [
        {
          "output_type": "stream",
          "text": [
            "                  z(gdp)  regional spread(gdp)\n",
            "Country                                       \n",
            "United States   3.013374               47855.0\n",
            "United Kingdom  0.572873               89037.0\n",
            "China          -0.432756               96993.0\n"
          ],
          "name": "stdout"
        }
      ]
    },
    {
      "cell_type": "code",
      "metadata": {
        "colab": {
          "base_uri": "https://localhost:8080/"
        },
        "id": "A8Sp9j-rSRFF",
        "outputId": "e50381a4-f70c-420f-9e84-f546b2880031"
      },
      "source": [
        "# Groupby and filtering\n",
        "\n",
        "import pandas as pd\n",
        "filename = 'https://raw.githubusercontent.com/chesterheng/ai-for-industry/main/datasets/titanic.csv'\n",
        "titanic = pd.read_csv(filename)\n",
        "\n",
        "def c_deck_survival(gr):\n",
        "    c_passengers = gr['cabin'].str.startswith('C').fillna(False)\n",
        "    return gr.loc[c_passengers, 'survived'].mean()\n",
        "\n",
        "# Create a groupby object using titanic over the 'sex' column: by_sex\n",
        "by_sex = titanic.groupby('sex')\n",
        "\n",
        "# Call by_sex.apply with the function c_deck_survival\n",
        "c_surv_by_sex = by_sex.apply(c_deck_survival)\n",
        "\n",
        "# Print the survival rates\n",
        "print(c_surv_by_sex.head())"
      ],
      "execution_count": 155,
      "outputs": [
        {
          "output_type": "stream",
          "text": [
            "sex\n",
            "female    0.913043\n",
            "male      0.312500\n",
            "dtype: float64\n"
          ],
          "name": "stdout"
        }
      ]
    },
    {
      "cell_type": "code",
      "metadata": {
        "colab": {
          "base_uri": "https://localhost:8080/"
        },
        "id": "f0PJ6RV5SwHU",
        "outputId": "115f0d44-96a1-49b6-d7e4-6a29a4530498"
      },
      "source": [
        "# Grouping and filtering with .filter()\n",
        "\n",
        "import pandas as pd\n",
        "filename = 'https://raw.githubusercontent.com/chesterheng/ai-for-industry/main/datasets/sales-feb-2015.csv'\n",
        "\n",
        "# Read the CSV file into a DataFrame: sales\n",
        "sales = pd.read_csv(filename, index_col='Date', parse_dates=True)\n",
        "\n",
        "# Group sales by 'Company': by_company\n",
        "by_company = sales.groupby('Company')\n",
        "\n",
        "# Compute the sum of the 'Units' of by_company: by_com_sum\n",
        "by_com_sum = by_company['Units'].sum()\n",
        "print(by_com_sum)\n",
        "\n",
        "# Filter 'Units' where the sum is > 35: by_com_filt\n",
        "by_com_filt = by_company.filter(lambda g: g['Units'].sum() > 35)\n",
        "print(by_com_filt)"
      ],
      "execution_count": 157,
      "outputs": [
        {
          "output_type": "stream",
          "text": [
            "Company\n",
            "Acme Coporation    34\n",
            "Hooli              30\n",
            "Initech            30\n",
            "Mediacore          45\n",
            "Streeplex          36\n",
            "Name: Units, dtype: int64\n",
            "                       Company   Product  Units\n",
            "Date                                           \n",
            "2015-02-02 21:00:00  Mediacore  Hardware      9\n",
            "2015-02-04 15:30:00  Streeplex  Software     13\n",
            "2015-02-09 09:00:00  Streeplex   Service     19\n",
            "2015-02-09 13:00:00  Mediacore  Software      7\n",
            "2015-02-19 11:00:00  Mediacore  Hardware     16\n",
            "2015-02-19 16:00:00  Mediacore   Service     10\n",
            "2015-02-21 05:00:00  Mediacore  Software      3\n",
            "2015-02-26 09:00:00  Streeplex   Service      4\n"
          ],
          "name": "stdout"
        }
      ]
    },
    {
      "cell_type": "code",
      "metadata": {
        "colab": {
          "base_uri": "https://localhost:8080/"
        },
        "id": "hM2ZBJyXTd5Q",
        "outputId": "291ae77c-b545-4c43-b896-94aa3844c8d0"
      },
      "source": [
        "# Filtering and grouping with .map()\n",
        "\n",
        "import pandas as pd\n",
        "filename = 'https://raw.githubusercontent.com/chesterheng/ai-for-industry/main/datasets/titanic.csv'\n",
        "titanic = pd.read_csv(filename)\n",
        "\n",
        "# Create the Boolean Series: under10\n",
        "under10 = (titanic['age'] < 10).map({True:'under 10', False:'over 10'})\n",
        "\n",
        "# Group by under10 and compute the survival rate\n",
        "survived_mean_1 = titanic.groupby(under10)['survived'].mean()\n",
        "print(survived_mean_1)\n",
        "\n",
        "# Group by under10 and pclass and compute the survival rate\n",
        "survived_mean_2 = titanic.groupby([under10, 'pclass'])['survived'].mean()\n",
        "print(survived_mean_2)"
      ],
      "execution_count": 158,
      "outputs": [
        {
          "output_type": "stream",
          "text": [
            "age\n",
            "over 10     0.366748\n",
            "under 10    0.609756\n",
            "Name: survived, dtype: float64\n",
            "age       pclass\n",
            "over 10   1         0.617555\n",
            "          2         0.380392\n",
            "          3         0.238897\n",
            "under 10  1         0.750000\n",
            "          2         1.000000\n",
            "          3         0.446429\n",
            "Name: survived, dtype: float64\n"
          ],
          "name": "stdout"
        }
      ]
    },
    {
      "cell_type": "markdown",
      "metadata": {
        "id": "ewT4DrtOT7Ox"
      },
      "source": [
        "## 5. Bringing it all together"
      ]
    },
    {
      "cell_type": "code",
      "metadata": {
        "colab": {
          "base_uri": "https://localhost:8080/"
        },
        "id": "GD3s2MTpUNA3",
        "outputId": "50707153-d790-4a22-d3d7-f8ec49cc3f05"
      },
      "source": [
        "# Case study: Olympic medals\n",
        "\n",
        "import pandas as pd\n",
        "filename = 'https://raw.githubusercontent.com/chesterheng/ai-for-industry/main/datasets/all_medalists.csv'\n",
        "medals = pd.read_csv(filename)\n",
        "\n",
        "USA_edition_grouped = medals.loc[medals.NOC == 'USA'].groupby('Edition')\n",
        "USA_edition_grouped['Medal'].count()"
      ],
      "execution_count": 160,
      "outputs": [
        {
          "output_type": "execute_result",
          "data": {
            "text/plain": [
              "Edition\n",
              "1896     20\n",
              "1900     55\n",
              "1904    394\n",
              "1908     63\n",
              "1912    101\n",
              "1920    193\n",
              "1924    198\n",
              "1928     84\n",
              "1932    181\n",
              "1936     92\n",
              "1948    148\n",
              "1952    130\n",
              "1956    118\n",
              "1960    112\n",
              "1964    150\n",
              "1968    149\n",
              "1972    155\n",
              "1976    155\n",
              "1984    333\n",
              "1988    193\n",
              "1992    224\n",
              "1996    260\n",
              "2000    248\n",
              "2004    264\n",
              "2008    315\n",
              "Name: Medal, dtype: int64"
            ]
          },
          "metadata": {
            "tags": []
          },
          "execution_count": 160
        }
      ]
    },
    {
      "cell_type": "markdown",
      "metadata": {
        "id": "C6JoCV1hT-wn"
      },
      "source": [
        "**Case study: Olympic medals**\n",
        "\n",
        "**Grouping and aggregating**\n",
        "\n",
        "The Olympic medal data for the following exercises comes from The Guardian. It comprises records of all events held at the Olympic games between 1896 and 2012.\n",
        "\n",
        "Suppose you have loaded the data into a DataFrame medals. You now want to find the total number of medals awarded to the USA per edition. To do this, filter the 'USA' rows and use the groupby() function to put the 'Edition' column on the index:\n",
        "\n",
        "`USA_edition_grouped = medals.loc[medals.NOC == 'USA'].groupby('Edition')`\n",
        "\n",
        "Given the goal of finding the total number of USA medals awarded per edition, what column should you select and which aggregation method should you use?\n",
        "\n",
        "**Possible Answers**\n",
        "\n",
        "- [ ] USA_edition_grouped['City'].mean()\n",
        "- [ ] USA_edition_grouped['Athlete'].sum()\n",
        "- [x] USA_edition_grouped['Medal'].count()\n",
        "- [ ] USA_edition_grouped['Gender'].first()"
      ]
    },
    {
      "cell_type": "code",
      "metadata": {
        "colab": {
          "base_uri": "https://localhost:8080/"
        },
        "id": "YQZM7SssU5FW",
        "outputId": "3f80d8b5-ae65-46e9-956f-be639579bccd"
      },
      "source": [
        "# Using .value_counts() for ranking\n",
        "\n",
        "import pandas as pd\n",
        "filename = 'https://raw.githubusercontent.com/chesterheng/ai-for-industry/main/datasets/all_medalists.csv'\n",
        "medals = pd.read_csv(filename)\n",
        "\n",
        "# Select the 'NOC' column of medals: country_names\n",
        "country_names = medals['NOC']\n",
        "\n",
        "# Count the number of medals won by each country: medal_counts\n",
        "medal_counts = country_names.value_counts()\n",
        "\n",
        "# Print top 15 countries ranked by medals\n",
        "print(medal_counts.head(15))"
      ],
      "execution_count": 161,
      "outputs": [
        {
          "output_type": "stream",
          "text": [
            "USA    4335\n",
            "URS    2049\n",
            "GBR    1594\n",
            "FRA    1314\n",
            "ITA    1228\n",
            "GER    1211\n",
            "AUS    1075\n",
            "HUN    1053\n",
            "SWE    1021\n",
            "GDR     825\n",
            "NED     782\n",
            "JPN     704\n",
            "CHN     679\n",
            "RUS     638\n",
            "ROU     624\n",
            "Name: NOC, dtype: int64\n"
          ],
          "name": "stdout"
        }
      ]
    },
    {
      "cell_type": "code",
      "metadata": {
        "colab": {
          "base_uri": "https://localhost:8080/"
        },
        "id": "FPeP8_5LVQGd",
        "outputId": "e8ab775c-2c14-4b03-cc7d-13732230e3a6"
      },
      "source": [
        "# Using .pivot_table() to count medals by type\n",
        "\n",
        "import pandas as pd\n",
        "filename = 'https://raw.githubusercontent.com/chesterheng/ai-for-industry/main/datasets/all_medalists.csv'\n",
        "medals = pd.read_csv(filename)\n",
        "\n",
        "# Construct the pivot table: counted\n",
        "counted = medals.pivot_table(index='NOC',\n",
        "                             columns='Medal',\n",
        "                             values='Athlete',\n",
        "                             aggfunc='count')\n",
        "\n",
        "# Create the new column: counted['totals']\n",
        "counted['totals'] = counted.sum(axis='columns')\n",
        "\n",
        "# Sort counted by the 'totals' column\n",
        "counted = counted.sort_values('totals', ascending=False)\n",
        "\n",
        "# Print the top 15 rows of counted\n",
        "print(counted.head(15))"
      ],
      "execution_count": 162,
      "outputs": [
        {
          "output_type": "stream",
          "text": [
            "Medal  Bronze    Gold  Silver  totals\n",
            "NOC                                  \n",
            "USA    1052.0  2088.0  1195.0  4335.0\n",
            "URS     584.0   838.0   627.0  2049.0\n",
            "GBR     505.0   498.0   591.0  1594.0\n",
            "FRA     475.0   378.0   461.0  1314.0\n",
            "ITA     374.0   460.0   394.0  1228.0\n",
            "GER     454.0   407.0   350.0  1211.0\n",
            "AUS     413.0   293.0   369.0  1075.0\n",
            "HUN     345.0   400.0   308.0  1053.0\n",
            "SWE     325.0   347.0   349.0  1021.0\n",
            "GDR     225.0   329.0   271.0   825.0\n",
            "NED     320.0   212.0   250.0   782.0\n",
            "JPN     270.0   206.0   228.0   704.0\n",
            "CHN     193.0   234.0   252.0   679.0\n",
            "RUS     240.0   192.0   206.0   638.0\n",
            "ROU     282.0   155.0   187.0   624.0\n"
          ],
          "name": "stdout"
        }
      ]
    },
    {
      "cell_type": "code",
      "metadata": {
        "colab": {
          "base_uri": "https://localhost:8080/"
        },
        "id": "0fJrMEvjVpcX",
        "outputId": "ae1a403d-9bff-4810-899f-22288cb3eafd"
      },
      "source": [
        "# Understanding the column labels\n",
        "\n",
        "import pandas as pd\n",
        "filename = 'https://raw.githubusercontent.com/chesterheng/ai-for-industry/main/datasets/all_medalists.csv'\n",
        "medals = pd.read_csv(filename)\n",
        "\n",
        "# Select columns: ev_gen\n",
        "ev_gen = medals[['Event_gender', 'Gender']]\n",
        "\n",
        "# Drop duplicate pairs: ev_gen_uniques\n",
        "ev_gen_uniques = ev_gen.drop_duplicates()\n",
        "\n",
        "# Print ev_gen_uniques\n",
        "print(ev_gen_uniques)"
      ],
      "execution_count": 164,
      "outputs": [
        {
          "output_type": "stream",
          "text": [
            "      Event_gender Gender\n",
            "0                M    Men\n",
            "348              X    Men\n",
            "416              W  Women\n",
            "639              X  Women\n",
            "23675            W    Men\n"
          ],
          "name": "stdout"
        }
      ]
    },
    {
      "cell_type": "code",
      "metadata": {
        "colab": {
          "base_uri": "https://localhost:8080/"
        },
        "id": "FvhnJlfZZAqu",
        "outputId": "3d19fb26-65d0-4c3d-8de8-8ebf543bc7e3"
      },
      "source": [
        "# Finding possible errors with .groupby()\n",
        "\n",
        "import pandas as pd\n",
        "filename = 'https://raw.githubusercontent.com/chesterheng/ai-for-industry/main/datasets/all_medalists.csv'\n",
        "medals = pd.read_csv(filename)\n",
        "\n",
        "# Group medals by the two columns: medals_by_gender\n",
        "medals_by_gender = medals.groupby(['Event_gender', 'Gender'])\n",
        "\n",
        "# Create a DataFrame with a group count: medal_count_by_gender\n",
        "medal_count_by_gender = medals_by_gender.count()\n",
        "\n",
        "# Print medal_count_by_gender\n",
        "print(medal_count_by_gender)"
      ],
      "execution_count": 165,
      "outputs": [
        {
          "output_type": "stream",
          "text": [
            "                      City  Edition  Sport  ...    NOC  Event  Medal\n",
            "Event_gender Gender                         ...                     \n",
            "M            Men     20067    20067  20067  ...  20067  20067  20067\n",
            "W            Men         1        1      1  ...      1      1      1\n",
            "             Women    7277     7277   7277  ...   7277   7277   7277\n",
            "X            Men      1653     1653   1653  ...   1653   1653   1653\n",
            "             Women     218      218    218  ...    218    218    218\n",
            "\n",
            "[5 rows x 8 columns]\n"
          ],
          "name": "stdout"
        }
      ]
    },
    {
      "cell_type": "code",
      "metadata": {
        "colab": {
          "base_uri": "https://localhost:8080/"
        },
        "id": "XbXsoThZZ-wl",
        "outputId": "9f5f3130-f297-4754-d874-f5c590e3665c"
      },
      "source": [
        "# Locating suspicious data\n",
        "\n",
        "import pandas as pd\n",
        "filename = 'https://raw.githubusercontent.com/chesterheng/ai-for-industry/main/datasets/all_medalists.csv'\n",
        "medals = pd.read_csv(filename)\n",
        "\n",
        "# Create the Boolean Series: sus\n",
        "sus = (medals.Event_gender == 'W') & (medals.Gender == 'Men')\n",
        "\n",
        "# Create a DataFrame with the suspicious row: suspect\n",
        "suspect = medals[sus]\n",
        "\n",
        "# Print suspect\n",
        "print(suspect)"
      ],
      "execution_count": 166,
      "outputs": [
        {
          "output_type": "stream",
          "text": [
            "         City  Edition      Sport  ...     Event Event_gender   Medal\n",
            "23675  Sydney     2000  Athletics  ...  marathon            W  Bronze\n",
            "\n",
            "[1 rows x 10 columns]\n"
          ],
          "name": "stdout"
        }
      ]
    },
    {
      "cell_type": "code",
      "metadata": {
        "colab": {
          "base_uri": "https://localhost:8080/"
        },
        "id": "BzJdzSQXafzx",
        "outputId": "b2e32c4c-b14f-4b84-b3df-2466755bf623"
      },
      "source": [
        "# Constructing alternative country rankings\n",
        "\n",
        "# Using .nunique() to rank by distinct sports\n",
        "\n",
        "import pandas as pd\n",
        "filename = 'https://raw.githubusercontent.com/chesterheng/ai-for-industry/main/datasets/all_medalists.csv'\n",
        "medals = pd.read_csv(filename)\n",
        "\n",
        "# Group medals by 'NOC': country_grouped\n",
        "country_grouped = medals.groupby('NOC')\n",
        "\n",
        "# Compute the number of distinct sports in which each country won medals: Nsports\n",
        "Nsports = country_grouped['Sport'].nunique()\n",
        "\n",
        "# Sort the values of Nsports in descending order\n",
        "Nsports = Nsports.sort_values(ascending=False)\n",
        "\n",
        "# Print the top 15 rows of Nsports\n",
        "print(Nsports.head(15))"
      ],
      "execution_count": 167,
      "outputs": [
        {
          "output_type": "stream",
          "text": [
            "NOC\n",
            "USA    34\n",
            "GBR    31\n",
            "FRA    28\n",
            "GER    26\n",
            "CHN    24\n",
            "AUS    22\n",
            "ESP    22\n",
            "CAN    22\n",
            "SWE    21\n",
            "URS    21\n",
            "ITA    21\n",
            "NED    20\n",
            "RUS    20\n",
            "JPN    20\n",
            "DEN    19\n",
            "Name: Sport, dtype: int64\n"
          ],
          "name": "stdout"
        }
      ]
    },
    {
      "cell_type": "code",
      "metadata": {
        "colab": {
          "base_uri": "https://localhost:8080/"
        },
        "id": "cQZTgrwda09d",
        "outputId": "745f2ce9-2699-4d4e-ecac-fe288ca1d795"
      },
      "source": [
        "# Counting USA vs. USSR Cold War Olympic Sports\n",
        "\n",
        "import pandas as pd\n",
        "filename = 'https://raw.githubusercontent.com/chesterheng/ai-for-industry/main/datasets/all_medalists.csv'\n",
        "medals = pd.read_csv(filename)\n",
        "\n",
        "# Create a Boolean Series that is True when 'Edition' is between 1952 and 1988: during_cold_war\n",
        "during_cold_war = (1952 <= medals.Edition) & (medals.Edition <= 1988)\n",
        "\n",
        "# Extract rows for which 'NOC' is either 'USA' or 'URS': is_usa_urs\n",
        "is_usa_urs = medals.NOC.isin(['USA', 'URS'])\n",
        "\n",
        "# Use during_cold_war and is_usa_urs to create the DataFrame: cold_war_medals\n",
        "cold_war_medals = medals.loc[during_cold_war & is_usa_urs]\n",
        "\n",
        "# Group cold_war_medals by 'NOC'\n",
        "country_grouped = cold_war_medals.groupby('NOC')\n",
        "\n",
        "# Create Nsports\n",
        "Nsports = country_grouped['Sport'].nunique().sort_values(ascending=False)\n",
        "\n",
        "# Print Nsports\n",
        "print(Nsports)"
      ],
      "execution_count": 168,
      "outputs": [
        {
          "output_type": "stream",
          "text": [
            "NOC\n",
            "URS    21\n",
            "USA    20\n",
            "Name: Sport, dtype: int64\n"
          ],
          "name": "stdout"
        }
      ]
    },
    {
      "cell_type": "code",
      "metadata": {
        "colab": {
          "base_uri": "https://localhost:8080/"
        },
        "id": "98uQIMO8bv9P",
        "outputId": "a48749a7-9592-41b1-f8cb-b774d72de2fe"
      },
      "source": [
        "# Counting USA vs. USSR Cold War Olympic Medals\n",
        "\n",
        "import pandas as pd\n",
        "filename = 'https://raw.githubusercontent.com/chesterheng/ai-for-industry/main/datasets/all_medalists.csv'\n",
        "medals = pd.read_csv(filename)\n",
        "\n",
        "# Create the pivot table: medals_won_by_country\n",
        "medals_won_by_country = medals.pivot_table(index='Edition',\n",
        "                                           columns='NOC',\n",
        "                                           values='Athlete',\n",
        "                                           aggfunc='count')\n",
        "\n",
        "# Slice medals_won_by_country: cold_war_usa_urs_medals\n",
        "cold_war_usa_urs_medals = medals_won_by_country.loc[1952:1988 , ['USA','URS']]\n",
        "\n",
        "# Create most_medals \n",
        "most_medals = cold_war_usa_urs_medals.idxmax(axis='columns')\n",
        "\n",
        "# Print most_medals.value_counts()\n",
        "print(most_medals.value_counts())"
      ],
      "execution_count": 169,
      "outputs": [
        {
          "output_type": "stream",
          "text": [
            "URS    8\n",
            "USA    2\n",
            "dtype: int64\n"
          ],
          "name": "stdout"
        }
      ]
    },
    {
      "cell_type": "code",
      "metadata": {
        "colab": {
          "base_uri": "https://localhost:8080/",
          "height": 282
        },
        "id": "XvfPDhp4cfaD",
        "outputId": "f6607c17-09bb-41e4-e879-6b3014735a08"
      },
      "source": [
        "# Reshaping DataFrames for visualization\n",
        "\n",
        "# Visualizing USA Medal Counts by Edition: Line Plot\n",
        "\n",
        "import pandas as pd\n",
        "import matplotlib.pyplot as plt\n",
        "filename = 'https://raw.githubusercontent.com/chesterheng/ai-for-industry/main/datasets/all_medalists.csv'\n",
        "medals = pd.read_csv(filename)\n",
        "\n",
        "# Create the DataFrame: usa\n",
        "usa = medals[medals.NOC == 'USA']\n",
        "\n",
        "# Group usa by ['Edition', 'Medal'] and aggregate over 'Athlete'\n",
        "usa_medals_by_year = usa.groupby(['Edition', 'Medal'])['Athlete'].count()\n",
        "\n",
        "# Reshape usa_medals_by_year by unstacking\n",
        "usa_medals_by_year = usa_medals_by_year.unstack(level='Medal')\n",
        "\n",
        "# Plot the DataFrame usa_medals_by_year\n",
        "usa_medals_by_year.plot()\n",
        "plt.show()"
      ],
      "execution_count": 171,
      "outputs": [
        {
          "output_type": "display_data",
          "data": {
            "image/png": "[encoded data removed]",
            "text/plain": [
              "<Figure size 432x288 with 1 Axes>"
            ]
          },
          "metadata": {
            "tags": [],
            "needs_background": "light"
          }
        }
      ]
    },
    {
      "cell_type": "code",
      "metadata": {
        "colab": {
          "base_uri": "https://localhost:8080/",
          "height": 279
        },
        "id": "UoxxCEVMdHJK",
        "outputId": "30d0c580-85f5-4948-fb33-0b9a5c4e2c84"
      },
      "source": [
        "# Visualizing USA Medal Counts by Edition: Area Plot\n",
        "\n",
        "import pandas as pd\n",
        "import matplotlib.pyplot as plt\n",
        "filename = 'https://raw.githubusercontent.com/chesterheng/ai-for-industry/main/datasets/all_medalists.csv'\n",
        "medals = pd.read_csv(filename)\n",
        "\n",
        "# Create the DataFrame: usa\n",
        "usa = medals[medals.NOC == 'USA']\n",
        "\n",
        "# Group usa by 'Edition', 'Medal', and 'Athlete'\n",
        "usa_medals_by_year = usa.groupby(['Edition', 'Medal'])['Athlete'].count()\n",
        "\n",
        "# Reshape usa_medals_by_year by unstacking\n",
        "usa_medals_by_year = usa_medals_by_year.unstack(level='Medal')\n",
        "\n",
        "# Create an area plot of usa_medals_by_year\n",
        "usa_medals_by_year.plot.area()\n",
        "plt.show()"
      ],
      "execution_count": 172,
      "outputs": [
        {
          "output_type": "display_data",
          "data": {
            "image/png": "[encoded data removed]",
            "text/plain": [
              "<Figure size 432x288 with 1 Axes>"
            ]
          },
          "metadata": {
            "tags": [],
            "needs_background": "light"
          }
        }
      ]
    },
    {
      "cell_type": "code",
      "metadata": {
        "colab": {
          "base_uri": "https://localhost:8080/",
          "height": 279
        },
        "id": "RljJA05tdS-K",
        "outputId": "51c52c24-8557-4e77-96a6-6ae4b1c36efa"
      },
      "source": [
        "# Visualizing USA Medal Counts by Edition: Area Plot with Ordered Medals\n",
        "\n",
        "import pandas as pd\n",
        "import matplotlib.pyplot as plt\n",
        "filename = 'https://raw.githubusercontent.com/chesterheng/ai-for-industry/main/datasets/all_medalists.csv'\n",
        "medals = pd.read_csv(filename)\n",
        "\n",
        "# Redefine 'Medal' as an ordered categorical\n",
        "medals.Medal = pd.Categorical(values=medals.Medal,\n",
        "                              categories=['Bronze', 'Silver', 'Gold'],\n",
        "                              ordered=True)\n",
        "\n",
        "# Create the DataFrame: usa\n",
        "usa = medals[medals.NOC == 'USA']\n",
        "\n",
        "# Group usa by 'Edition', 'Medal', and 'Athlete'\n",
        "usa_medals_by_year = usa.groupby(['Edition', 'Medal'])['Athlete'].count()\n",
        "\n",
        "# Reshape usa_medals_by_year by unstacking\n",
        "usa_medals_by_year = usa_medals_by_year.unstack(level='Medal')\n",
        "\n",
        "# Create an area plot of usa_medals_by_year\n",
        "usa_medals_by_year.plot.area()\n",
        "plt.show()"
      ],
      "execution_count": 173,
      "outputs": [
        {
          "output_type": "display_data",
          "data": {
            "image/png": "[encoded data removed]",
            "text/plain": [
              "<Figure size 432x288 with 1 Axes>"
            ]
          },
          "metadata": {
            "tags": [],
            "needs_background": "light"
          }
        }
      ]
    },
    {
      "cell_type": "markdown",
      "metadata": {
        "id": "Nd2OabILlRg8"
      },
      "source": [
        "<!-- Pivoting DataFrames -->\n"
      ]
    }
  ]
}